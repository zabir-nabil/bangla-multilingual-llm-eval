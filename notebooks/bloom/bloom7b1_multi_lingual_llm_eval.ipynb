{
  "cells": [
    {
      "cell_type": "code",
      "execution_count": null,
      "id": "dlVRdJOhXGZj",
      "metadata": {
        "id": "dlVRdJOhXGZj",
        "outputId": "f3d2c298-41dc-4307-8c1e-6058de87a09f"
      },
      "outputs": [
        {
          "name": "stdout",
          "output_type": "stream",
          "text": [
            "Defaulting to user installation because normal site-packages is not writeable\n",
            "Requirement already satisfied: pip in ./.local/lib/python3.10/site-packages (23.3.1)\n",
            "Collecting pip\n",
            "  Downloading pip-24.2-py3-none-any.whl.metadata (3.6 kB)\n",
            "Downloading pip-24.2-py3-none-any.whl (1.8 MB)\n",
            "\u001b[2K   \u001b[90m━━━━━━━━━━━━━━━━━━━━━━━━━━━━━━━━━━━━━━━━\u001b[0m \u001b[32m1.8/1.8 MB\u001b[0m \u001b[31m9.2 MB/s\u001b[0m eta \u001b[36m0:00:00\u001b[0ma \u001b[36m0:00:01\u001b[0m\n",
            "\u001b[?25h\u001b[33mDEPRECATION: flatbuffers 1.12.1-git20200711.33e2d80-dfsg1-0.6 has a non-standard version number. pip 24.0 will enforce this behaviour change. A possible replacement is to upgrade to a newer version of flatbuffers or contact the author to suggest that they release a version with a conforming version number. Discussion can be found at https://github.com/pypa/pip/issues/12063\u001b[0m\u001b[33m\n",
            "\u001b[0mInstalling collected packages: pip\n",
            "  Attempting uninstall: pip\n",
            "    Found existing installation: pip 23.3.1\n",
            "    Uninstalling pip-23.3.1:\n",
            "      Successfully uninstalled pip-23.3.1\n",
            "Successfully installed pip-24.2\n"
          ]
        }
      ],
      "source": [
        "! python3 -m pip install --upgrade pip"
      ]
    },
    {
      "cell_type": "code",
      "execution_count": null,
      "id": "BUCGonZjXJsL",
      "metadata": {
        "id": "BUCGonZjXJsL",
        "outputId": "a7df9a72-5810-40b5-aadd-1054cfc03597"
      },
      "outputs": [
        {
          "name": "stdout",
          "output_type": "stream",
          "text": [
            "Defaulting to user installation because normal site-packages is not writeable\n",
            "Collecting datasets\n",
            "  Downloading datasets-2.21.0-py3-none-any.whl.metadata (21 kB)\n",
            "Requirement already satisfied: filelock in /usr/lib/python3/dist-packages (from datasets) (3.6.0)\n",
            "Requirement already satisfied: numpy>=1.17 in ./.local/lib/python3.10/site-packages (from datasets) (1.25.2)\n",
            "Collecting pyarrow>=15.0.0 (from datasets)\n",
            "  Downloading pyarrow-17.0.0-cp310-cp310-manylinux_2_28_x86_64.whl.metadata (3.3 kB)\n",
            "Collecting dill<0.3.9,>=0.3.0 (from datasets)\n",
            "  Downloading dill-0.3.8-py3-none-any.whl.metadata (10 kB)\n",
            "Requirement already satisfied: pandas in /usr/lib/python3/dist-packages (from datasets) (1.3.5)\n",
            "Collecting requests>=2.32.2 (from datasets)\n",
            "  Downloading requests-2.32.3-py3-none-any.whl.metadata (4.6 kB)\n",
            "Collecting tqdm>=4.66.3 (from datasets)\n",
            "  Downloading tqdm-4.66.5-py3-none-any.whl.metadata (57 kB)\n",
            "Collecting xxhash (from datasets)\n",
            "  Downloading xxhash-3.5.0-cp310-cp310-manylinux_2_17_x86_64.manylinux2014_x86_64.whl.metadata (12 kB)\n",
            "Collecting multiprocess (from datasets)\n",
            "  Downloading multiprocess-0.70.16-py310-none-any.whl.metadata (7.2 kB)\n",
            "Collecting fsspec<=2024.6.1,>=2023.1.0 (from fsspec[http]<=2024.6.1,>=2023.1.0->datasets)\n",
            "  Downloading fsspec-2024.6.1-py3-none-any.whl.metadata (11 kB)\n",
            "Collecting aiohttp (from datasets)\n",
            "  Downloading aiohttp-3.10.5-cp310-cp310-manylinux_2_17_x86_64.manylinux2014_x86_64.whl.metadata (7.5 kB)\n",
            "Collecting huggingface-hub>=0.21.2 (from datasets)\n",
            "  Downloading huggingface_hub-0.24.6-py3-none-any.whl.metadata (13 kB)\n",
            "Requirement already satisfied: packaging in /usr/lib/python3/dist-packages (from datasets) (21.3)\n",
            "Requirement already satisfied: pyyaml>=5.1 in /usr/lib/python3/dist-packages (from datasets) (5.4.1)\n",
            "Collecting aiohappyeyeballs>=2.3.0 (from aiohttp->datasets)\n",
            "  Downloading aiohappyeyeballs-2.4.0-py3-none-any.whl.metadata (5.9 kB)\n",
            "Collecting aiosignal>=1.1.2 (from aiohttp->datasets)\n",
            "  Downloading aiosignal-1.3.1-py3-none-any.whl.metadata (4.0 kB)\n",
            "Requirement already satisfied: attrs>=17.3.0 in ./.local/lib/python3.10/site-packages (from aiohttp->datasets) (23.1.0)\n",
            "Collecting frozenlist>=1.1.1 (from aiohttp->datasets)\n",
            "  Downloading frozenlist-1.4.1-cp310-cp310-manylinux_2_5_x86_64.manylinux1_x86_64.manylinux_2_17_x86_64.manylinux2014_x86_64.whl.metadata (12 kB)\n",
            "Collecting multidict<7.0,>=4.5 (from aiohttp->datasets)\n",
            "  Downloading multidict-6.0.5-cp310-cp310-manylinux_2_17_x86_64.manylinux2014_x86_64.whl.metadata (4.2 kB)\n",
            "Collecting yarl<2.0,>=1.0 (from aiohttp->datasets)\n",
            "  Downloading yarl-1.9.4-cp310-cp310-manylinux_2_17_x86_64.manylinux2014_x86_64.whl.metadata (31 kB)\n",
            "Collecting async-timeout<5.0,>=4.0 (from aiohttp->datasets)\n",
            "  Downloading async_timeout-4.0.3-py3-none-any.whl.metadata (4.2 kB)\n",
            "Requirement already satisfied: typing-extensions>=3.7.4.3 in ./.local/lib/python3.10/site-packages (from huggingface-hub>=0.21.2->datasets) (4.8.0)\n",
            "Requirement already satisfied: charset-normalizer<4,>=2 in ./.local/lib/python3.10/site-packages (from requests>=2.32.2->datasets) (3.3.2)\n",
            "Requirement already satisfied: idna<4,>=2.5 in /usr/lib/python3/dist-packages (from requests>=2.32.2->datasets) (3.3)\n",
            "Requirement already satisfied: urllib3<3,>=1.21.1 in /usr/lib/python3/dist-packages (from requests>=2.32.2->datasets) (1.26.5)\n",
            "Requirement already satisfied: certifi>=2017.4.17 in /usr/lib/python3/dist-packages (from requests>=2.32.2->datasets) (2020.6.20)\n",
            "Downloading datasets-2.21.0-py3-none-any.whl (527 kB)\n",
            "\u001b[2K   \u001b[90m━━━━━━━━━━━━━━━━━━━━━━━━━━━━━━━━━━━━━━━━\u001b[0m \u001b[32m527.3/527.3 kB\u001b[0m \u001b[31m18.7 MB/s\u001b[0m eta \u001b[36m0:00:00\u001b[0m\n",
            "\u001b[?25hDownloading dill-0.3.8-py3-none-any.whl (116 kB)\n",
            "Downloading fsspec-2024.6.1-py3-none-any.whl (177 kB)\n",
            "Downloading aiohttp-3.10.5-cp310-cp310-manylinux_2_17_x86_64.manylinux2014_x86_64.whl (1.2 MB)\n",
            "\u001b[2K   \u001b[90m━━━━━━━━━━━━━━━━━━━━━━━━━━━━━━━━━━━━━━━━\u001b[0m \u001b[32m1.2/1.2 MB\u001b[0m \u001b[31m50.9 MB/s\u001b[0m eta \u001b[36m0:00:00\u001b[0m\n",
            "\u001b[?25hDownloading huggingface_hub-0.24.6-py3-none-any.whl (417 kB)\n",
            "Downloading pyarrow-17.0.0-cp310-cp310-manylinux_2_28_x86_64.whl (39.9 MB)\n",
            "\u001b[2K   \u001b[90m━━━━━━━━━━━━━━━━━━━━━━━━━━━━━━━━━━━━━━━━\u001b[0m \u001b[32m39.9/39.9 MB\u001b[0m \u001b[31m163.0 MB/s\u001b[0m eta \u001b[36m0:00:00\u001b[0m00:01\u001b[0m\n",
            "\u001b[?25hDownloading requests-2.32.3-py3-none-any.whl (64 kB)\n",
            "Downloading tqdm-4.66.5-py3-none-any.whl (78 kB)\n",
            "Downloading multiprocess-0.70.16-py310-none-any.whl (134 kB)\n",
            "Downloading xxhash-3.5.0-cp310-cp310-manylinux_2_17_x86_64.manylinux2014_x86_64.whl (194 kB)\n",
            "Downloading aiohappyeyeballs-2.4.0-py3-none-any.whl (12 kB)\n",
            "Downloading aiosignal-1.3.1-py3-none-any.whl (7.6 kB)\n",
            "Downloading async_timeout-4.0.3-py3-none-any.whl (5.7 kB)\n",
            "Downloading frozenlist-1.4.1-cp310-cp310-manylinux_2_5_x86_64.manylinux1_x86_64.manylinux_2_17_x86_64.manylinux2014_x86_64.whl (239 kB)\n",
            "Downloading multidict-6.0.5-cp310-cp310-manylinux_2_17_x86_64.manylinux2014_x86_64.whl (124 kB)\n",
            "Downloading yarl-1.9.4-cp310-cp310-manylinux_2_17_x86_64.manylinux2014_x86_64.whl (301 kB)\n",
            "\u001b[33mWARNING: Error parsing dependencies of flatbuffers: Invalid version: '1.12.1-git20200711.33e2d80-dfsg1-0.6'\u001b[0m\u001b[33m\n",
            "\u001b[0mInstalling collected packages: xxhash, tqdm, requests, pyarrow, multidict, fsspec, frozenlist, dill, async-timeout, aiohappyeyeballs, yarl, multiprocess, huggingface-hub, aiosignal, aiohttp, datasets\n",
            "  Attempting uninstall: tqdm\n",
            "    Found existing installation: tqdm 4.66.1\n",
            "    Uninstalling tqdm-4.66.1:\n",
            "      Successfully uninstalled tqdm-4.66.1\n",
            "  Attempting uninstall: requests\n",
            "    Found existing installation: requests 2.31.0\n",
            "    Uninstalling requests-2.31.0:\n",
            "      Successfully uninstalled requests-2.31.0\n",
            "Successfully installed aiohappyeyeballs-2.4.0 aiohttp-3.10.5 aiosignal-1.3.1 async-timeout-4.0.3 datasets-2.21.0 dill-0.3.8 frozenlist-1.4.1 fsspec-2024.6.1 huggingface-hub-0.24.6 multidict-6.0.5 multiprocess-0.70.16 pyarrow-17.0.0 requests-2.32.3 tqdm-4.66.5 xxhash-3.5.0 yarl-1.9.4\n"
          ]
        }
      ],
      "source": [
        "!pip install datasets"
      ]
    },
    {
      "cell_type": "code",
      "execution_count": null,
      "id": "05d6aab5-d838-4f23-be4b-792aab5d0534",
      "metadata": {
        "id": "05d6aab5-d838-4f23-be4b-792aab5d0534",
        "outputId": "a515be0d-380b-4a63-8a92-9bec1b4fd857"
      },
      "outputs": [
        {
          "name": "stdout",
          "output_type": "stream",
          "text": [
            "\u001b[33mWARNING: Error parsing dependencies of flatbuffers: Invalid version: '1.12.1-git20200711.33e2d80-dfsg1-0.6'\u001b[0m\u001b[33m\n",
            "\u001b[0m"
          ]
        }
      ],
      "source": [
        "! pip install -q transformers"
      ]
    },
    {
      "cell_type": "code",
      "execution_count": null,
      "id": "kU-TgPX-Gl2w",
      "metadata": {
        "colab": {
          "referenced_widgets": [
            "8989e4d34c0b40e3b8dd326e91f02ab7",
            "ee338314b7a0436d85f3835e67963cee",
            "a5921a4f9d854e3187785d6d85929219",
            "411fe7866ec34b03886cd85d04ab6ff5",
            "299f417f40ab4d1a8004f2e3ac7fa057",
            "ff35cf920f554d22865a4b92ffd9d2aa",
            "62bd0887404840d888f171f484f98188",
            "8d84697e9c3c47278be661435d729655",
            "1251dd46468445c69b59a7397329c538"
          ]
        },
        "id": "kU-TgPX-Gl2w",
        "outputId": "ecfa1f65-a7d9-474c-b764-b728ff9b20b8"
      },
      "outputs": [
        {
          "data": {
            "application/vnd.jupyter.widget-view+json": {
              "model_id": "8989e4d34c0b40e3b8dd326e91f02ab7",
              "version_major": 2,
              "version_minor": 0
            },
            "text/plain": [
              "tokenizer_config.json:   0%|          | 0.00/222 [00:00<?, ?B/s]"
            ]
          },
          "metadata": {},
          "output_type": "display_data"
        },
        {
          "data": {
            "application/vnd.jupyter.widget-view+json": {
              "model_id": "ee338314b7a0436d85f3835e67963cee",
              "version_major": 2,
              "version_minor": 0
            },
            "text/plain": [
              "tokenizer.json:   0%|          | 0.00/14.5M [00:00<?, ?B/s]"
            ]
          },
          "metadata": {},
          "output_type": "display_data"
        },
        {
          "data": {
            "application/vnd.jupyter.widget-view+json": {
              "model_id": "a5921a4f9d854e3187785d6d85929219",
              "version_major": 2,
              "version_minor": 0
            },
            "text/plain": [
              "special_tokens_map.json:   0%|          | 0.00/85.0 [00:00<?, ?B/s]"
            ]
          },
          "metadata": {},
          "output_type": "display_data"
        },
        {
          "data": {
            "application/vnd.jupyter.widget-view+json": {
              "model_id": "411fe7866ec34b03886cd85d04ab6ff5",
              "version_major": 2,
              "version_minor": 0
            },
            "text/plain": [
              "config.json:   0%|          | 0.00/739 [00:00<?, ?B/s]"
            ]
          },
          "metadata": {},
          "output_type": "display_data"
        },
        {
          "data": {
            "application/vnd.jupyter.widget-view+json": {
              "model_id": "299f417f40ab4d1a8004f2e3ac7fa057",
              "version_major": 2,
              "version_minor": 0
            },
            "text/plain": [
              "model.safetensors.index.json:   0%|          | 0.00/28.9k [00:00<?, ?B/s]"
            ]
          },
          "metadata": {},
          "output_type": "display_data"
        },
        {
          "data": {
            "application/vnd.jupyter.widget-view+json": {
              "model_id": "ff35cf920f554d22865a4b92ffd9d2aa",
              "version_major": 2,
              "version_minor": 0
            },
            "text/plain": [
              "Downloading shards:   0%|          | 0/2 [00:00<?, ?it/s]"
            ]
          },
          "metadata": {},
          "output_type": "display_data"
        },
        {
          "data": {
            "application/vnd.jupyter.widget-view+json": {
              "model_id": "62bd0887404840d888f171f484f98188",
              "version_major": 2,
              "version_minor": 0
            },
            "text/plain": [
              "model-00001-of-00002.safetensors:   0%|          | 0.00/9.98G [00:00<?, ?B/s]"
            ]
          },
          "metadata": {},
          "output_type": "display_data"
        },
        {
          "data": {
            "application/vnd.jupyter.widget-view+json": {
              "model_id": "8d84697e9c3c47278be661435d729655",
              "version_major": 2,
              "version_minor": 0
            },
            "text/plain": [
              "model-00002-of-00002.safetensors:   0%|          | 0.00/4.16G [00:00<?, ?B/s]"
            ]
          },
          "metadata": {},
          "output_type": "display_data"
        },
        {
          "data": {
            "application/vnd.jupyter.widget-view+json": {
              "model_id": "1251dd46468445c69b59a7397329c538",
              "version_major": 2,
              "version_minor": 0
            },
            "text/plain": [
              "Loading checkpoint shards:   0%|          | 0/2 [00:00<?, ?it/s]"
            ]
          },
          "metadata": {},
          "output_type": "display_data"
        },
        {
          "data": {
            "text/plain": [
              "BloomForCausalLM(\n",
              "  (transformer): BloomModel(\n",
              "    (word_embeddings): Embedding(250880, 4096)\n",
              "    (word_embeddings_layernorm): LayerNorm((4096,), eps=1e-05, elementwise_affine=True)\n",
              "    (h): ModuleList(\n",
              "      (0-29): 30 x BloomBlock(\n",
              "        (input_layernorm): LayerNorm((4096,), eps=1e-05, elementwise_affine=True)\n",
              "        (self_attention): BloomAttention(\n",
              "          (query_key_value): Linear(in_features=4096, out_features=12288, bias=True)\n",
              "          (dense): Linear(in_features=4096, out_features=4096, bias=True)\n",
              "          (attention_dropout): Dropout(p=0.0, inplace=False)\n",
              "        )\n",
              "        (post_attention_layernorm): LayerNorm((4096,), eps=1e-05, elementwise_affine=True)\n",
              "        (mlp): BloomMLP(\n",
              "          (dense_h_to_4h): Linear(in_features=4096, out_features=16384, bias=True)\n",
              "          (gelu_impl): BloomGelu()\n",
              "          (dense_4h_to_h): Linear(in_features=16384, out_features=4096, bias=True)\n",
              "        )\n",
              "      )\n",
              "    )\n",
              "    (ln_f): LayerNorm((4096,), eps=1e-05, elementwise_affine=True)\n",
              "  )\n",
              "  (lm_head): Linear(in_features=4096, out_features=250880, bias=False)\n",
              ")"
            ]
          },
          "execution_count": 4,
          "metadata": {},
          "output_type": "execute_result"
        }
      ],
      "source": [
        "import torch\n",
        "\n",
        "# Empty the GPU cache\n",
        "torch.cuda.empty_cache()\n",
        "\n",
        "# Set the device (GPU or CPU)\n",
        "#device = torch.device(\"cuda\" if torch.cuda.is_available() else \"cpu\")\n",
        "#device = torch.device(\"cuda:0\" if torch.cuda.is_available() else \"cpu\")\n",
        "\n",
        "\n",
        "# Load model directly\n",
        "from transformers import AutoTokenizer, AutoModelForCausalLM\n",
        "\n",
        "tokenizer = AutoTokenizer.from_pretrained(\"bigscience/bloom-7b1\")\n",
        "bloom_7b1_model = AutoModelForCausalLM.from_pretrained(\"bigscience/bloom-7b1\")\n",
        "\n",
        "# Move the model to GPU with half-precision\n",
        "bloom_7b1_model.half().to(\"cuda\")"
      ]
    },
    {
      "cell_type": "code",
      "execution_count": null,
      "id": "pdAZfxMr1KYd",
      "metadata": {
        "id": "pdAZfxMr1KYd"
      },
      "outputs": [],
      "source": [
        "def get_bloom_7b1_output(prompt = \"\", max_new_tokens = 128):\n",
        "    ben_inputs = tokenizer.encode(prompt, return_tensors=\"pt\")\n",
        "    ben_inputs = ben_inputs.to(\"cuda\")  # Move the inputs to the GPU (if available)\n",
        "    ben_outputs = bloom_7b1_model.generate(ben_inputs, max_new_tokens = max_new_tokens)\n",
        "\n",
        "    output = tokenizer.decode(ben_outputs[0])\n",
        "    cleaned_output = output.replace(\"<pad>\", \"\").replace(\"</s>\", \"\").strip()\n",
        "\n",
        "    prompt_response = \"\" + cleaned_output\n",
        "\n",
        "    return prompt_response"
      ]
    },
    {
      "cell_type": "code",
      "execution_count": null,
      "id": "4bx9K0E-Okzw",
      "metadata": {
        "id": "4bx9K0E-Okzw",
        "outputId": "dc0fdf3b-ac5f-4530-bf81-64b782b2728c"
      },
      "outputs": [
        {
          "data": {
            "text/plain": [
              "'৫ জন বাংলাদেশি বিখ্যাত কবির নাম বল?'"
            ]
          },
          "execution_count": 6,
          "metadata": {},
          "output_type": "execute_result"
        }
      ],
      "source": [
        "get_bloom_7b1_output(\"৫ জন বাংলাদেশি বিখ্যাত কবির নাম বল?\")"
      ]
    },
    {
      "cell_type": "code",
      "execution_count": null,
      "id": "_j48-LIKQH0W",
      "metadata": {
        "id": "_j48-LIKQH0W"
      },
      "outputs": [],
      "source": [
        "# Empty the GPU cache\n",
        "torch.cuda.empty_cache()"
      ]
    },
    {
      "cell_type": "markdown",
      "id": "ABJ1uI0h0zim",
      "metadata": {
        "id": "ABJ1uI0h0zim"
      },
      "source": [
        "## Bloom-7b1 - Classification"
      ]
    },
    {
      "cell_type": "code",
      "execution_count": null,
      "id": "b291be94-a840-4ad2-b674-89ab24d38726",
      "metadata": {
        "colab": {
          "referenced_widgets": [
            "1823f55b5a4c43ec90fe859dfc95b142",
            "391ab825fa44434d9fd4982c4dae158d",
            "649cde250cbc4beca97760772d09130a",
            "d9dcdfcd47744fb486aa9abdd27d902d",
            "555b8ea68aa647b19031f8b9d16cf523",
            "f98dbd4939b44ab9832ae474afe6fbed",
            "53102b4bd0124925a9060ca18fcebe51",
            "fb12969dd1a843ff8d5a664b837f8008",
            "3278dfa076e9466b80346ef6398c1925",
            "589c85f85aa24042b802593571250610",
            "a764ba0f51c949cc9b04bb940517c458"
          ]
        },
        "id": "b291be94-a840-4ad2-b674-89ab24d38726",
        "outputId": "caad1ff3-0a65-4a93-8bcc-9b946fe5ef3d"
      },
      "outputs": [
        {
          "data": {
            "application/vnd.jupyter.widget-view+json": {
              "model_id": "1823f55b5a4c43ec90fe859dfc95b142",
              "version_major": 2,
              "version_minor": 0
            },
            "text/plain": [
              "Downloading readme:   0%|          | 0.00/2.02k [00:00<?, ?B/s]"
            ]
          },
          "metadata": {},
          "output_type": "display_data"
        },
        {
          "name": "stderr",
          "output_type": "stream",
          "text": [
            "/usr/lib/python3/dist-packages/scipy/__init__.py:146: UserWarning: A NumPy version >=1.17.3 and <1.25.0 is required for this version of SciPy (detected version 1.25.2\n",
            "  warnings.warn(f\"A NumPy version >={np_minversion} and <{np_maxversion}\"\n"
          ]
        },
        {
          "data": {
            "application/vnd.jupyter.widget-view+json": {
              "model_id": "391ab825fa44434d9fd4982c4dae158d",
              "version_major": 2,
              "version_minor": 0
            },
            "text/plain": [
              "Downloading data:   0%|          | 0.00/170M [00:00<?, ?B/s]"
            ]
          },
          "metadata": {},
          "output_type": "display_data"
        },
        {
          "data": {
            "application/vnd.jupyter.widget-view+json": {
              "model_id": "649cde250cbc4beca97760772d09130a",
              "version_major": 2,
              "version_minor": 0
            },
            "text/plain": [
              "Downloading data:   0%|          | 0.00/170M [00:00<?, ?B/s]"
            ]
          },
          "metadata": {},
          "output_type": "display_data"
        },
        {
          "data": {
            "application/vnd.jupyter.widget-view+json": {
              "model_id": "d9dcdfcd47744fb486aa9abdd27d902d",
              "version_major": 2,
              "version_minor": 0
            },
            "text/plain": [
              "Downloading data:   0%|          | 0.00/171M [00:00<?, ?B/s]"
            ]
          },
          "metadata": {},
          "output_type": "display_data"
        },
        {
          "data": {
            "application/vnd.jupyter.widget-view+json": {
              "model_id": "555b8ea68aa647b19031f8b9d16cf523",
              "version_major": 2,
              "version_minor": 0
            },
            "text/plain": [
              "Downloading data:   0%|          | 0.00/118M [00:00<?, ?B/s]"
            ]
          },
          "metadata": {},
          "output_type": "display_data"
        },
        {
          "data": {
            "application/vnd.jupyter.widget-view+json": {
              "model_id": "f98dbd4939b44ab9832ae474afe6fbed",
              "version_major": 2,
              "version_minor": 0
            },
            "text/plain": [
              "Downloading data:   0%|          | 0.00/157M [00:00<?, ?B/s]"
            ]
          },
          "metadata": {},
          "output_type": "display_data"
        },
        {
          "data": {
            "application/vnd.jupyter.widget-view+json": {
              "model_id": "53102b4bd0124925a9060ca18fcebe51",
              "version_major": 2,
              "version_minor": 0
            },
            "text/plain": [
              "Downloading data:   0%|          | 0.00/1.11M [00:00<?, ?B/s]"
            ]
          },
          "metadata": {},
          "output_type": "display_data"
        },
        {
          "data": {
            "application/vnd.jupyter.widget-view+json": {
              "model_id": "fb12969dd1a843ff8d5a664b837f8008",
              "version_major": 2,
              "version_minor": 0
            },
            "text/plain": [
              "Generating train split:   0%|          | 0/265506 [00:00<?, ? examples/s]"
            ]
          },
          "metadata": {},
          "output_type": "display_data"
        },
        {
          "data": {
            "application/vnd.jupyter.widget-view+json": {
              "model_id": "3278dfa076e9466b80346ef6398c1925",
              "version_major": 2,
              "version_minor": 0
            },
            "text/plain": [
              "Generating valid split:   0%|          | 0/61274 [00:00<?, ? examples/s]"
            ]
          },
          "metadata": {},
          "output_type": "display_data"
        },
        {
          "data": {
            "application/vnd.jupyter.widget-view+json": {
              "model_id": "589c85f85aa24042b802593571250610",
              "version_major": 2,
              "version_minor": 0
            },
            "text/plain": [
              "Generating test_1 split:   0%|          | 0/81691 [00:00<?, ? examples/s]"
            ]
          },
          "metadata": {},
          "output_type": "display_data"
        },
        {
          "data": {
            "application/vnd.jupyter.widget-view+json": {
              "model_id": "a764ba0f51c949cc9b04bb940517c458",
              "version_major": 2,
              "version_minor": 0
            },
            "text/plain": [
              "Generating test_2 split:   0%|          | 0/495 [00:00<?, ? examples/s]"
            ]
          },
          "metadata": {},
          "output_type": "display_data"
        },
        {
          "data": {
            "text/html": [
              "<div>\n",
              "<style scoped>\n",
              "    .dataframe tbody tr th:only-of-type {\n",
              "        vertical-align: middle;\n",
              "    }\n",
              "\n",
              "    .dataframe tbody tr th {\n",
              "        vertical-align: top;\n",
              "    }\n",
              "\n",
              "    .dataframe thead th {\n",
              "        text-align: right;\n",
              "    }\n",
              "</style>\n",
              "<table border=\"1\" class=\"dataframe\">\n",
              "  <thead>\n",
              "    <tr style=\"text-align: right;\">\n",
              "      <th></th>\n",
              "      <th>author</th>\n",
              "      <th>category</th>\n",
              "      <th>category_bn</th>\n",
              "      <th>published_date</th>\n",
              "      <th>modification_date</th>\n",
              "      <th>tag</th>\n",
              "      <th>comment_count</th>\n",
              "      <th>title</th>\n",
              "      <th>url</th>\n",
              "      <th>content</th>\n",
              "      <th>__index_level_0__</th>\n",
              "    </tr>\n",
              "  </thead>\n",
              "  <tbody>\n",
              "    <tr>\n",
              "      <th>0</th>\n",
              "      <td>খেলা ডেস্ক</td>\n",
              "      <td>sports</td>\n",
              "      <td>খেলা</td>\n",
              "      <td>০৮ অক্টোবর ২০১৭, ১৮:২১</td>\n",
              "      <td>০৮ অক্টোবর ২০১৭, ১৯:১২</td>\n",
              "      <td>ক্রিকেট</td>\n",
              "      <td>NaN</td>\n",
              "      <td>‘৬০০’ করতে পারল না বাংলাদেশ</td>\n",
              "      <td>http://www.prothom-alo.com/sports/article/1339886</td>\n",
              "      <td>দক্ষিণ আফ্রিকার ৫৭৩/৪ রানে ইনিংস ঘোষণার জবাবে...</td>\n",
              "      <td>340598</td>\n",
              "    </tr>\n",
              "    <tr>\n",
              "      <th>1</th>\n",
              "      <td>-1</td>\n",
              "      <td>sports</td>\n",
              "      <td>খেলা</td>\n",
              "      <td>২৩ এপ্রিল ২০১৬, ০১:৫০</td>\n",
              "      <td>২৩ এপ্রিল ২০১৬, ০১:৫১</td>\n",
              "      <td>খেলা,আন্তর্জাতিক ক্রিকেট</td>\n",
              "      <td>0.0</td>\n",
              "      <td>খেলার বিনিময়ে ক্ষতিপূরণ</td>\n",
              "      <td>http://www.prothom-alo.com/sports/article/838162</td>\n",
              "      <td>বেতন-ভাতা নিয়ে জটিলতায় ২০১৪ সালে ভারত সফরের ...</td>\n",
              "      <td>222811</td>\n",
              "    </tr>\n",
              "    <tr>\n",
              "      <th>2</th>\n",
              "      <td>-1</td>\n",
              "      <td>sports</td>\n",
              "      <td>খেলা</td>\n",
              "      <td>২৫ নভেম্বর ২০১৫, ০১:৫৪</td>\n",
              "      <td>২৫ নভেম্বর ২০১৫, ০১:৫৫</td>\n",
              "      <td>আন্তর্জাতিক ফুটবল,খেলা</td>\n",
              "      <td>0.0</td>\n",
              "      <td>লাউড্রপের না</td>\n",
              "      <td>http://www.prothom-alo.com/sports/article/693637</td>\n",
              "      <td>২০১৬ ইউরো চ্যাম্পিয়নশিপের চূড়ান্ত পর্বে দলকে ...</td>\n",
              "      <td>177592</td>\n",
              "    </tr>\n",
              "    <tr>\n",
              "      <th>3</th>\n",
              "      <td>উৎপল শুভ্র</td>\n",
              "      <td>sports</td>\n",
              "      <td>খেলা</td>\n",
              "      <td>০৩ ডিসেম্বর ২০১৮, ১৩:২০</td>\n",
              "      <td>০৪ ডিসেম্বর ২০১৮, ১২:০৬</td>\n",
              "      <td>ক্রিকেট,বাংলাদেশ ওয়েস্ট ইন্ডিজ সিরিজ,টেস্ট ক্র...</td>\n",
              "      <td>0.0</td>\n",
              "      <td>মিরপুরে এক টেস্টে দুই প্রাপ্তি</td>\n",
              "      <td>http://www.prothom-alo.com/sports/article/1568079</td>\n",
              "      <td>যখন টেস্টের তৃতীয় দিনের শেষ সেশনের খেলা চলার ক...</td>\n",
              "      <td>384712</td>\n",
              "    </tr>\n",
              "    <tr>\n",
              "      <th>4</th>\n",
              "      <td>-1</td>\n",
              "      <td>sports</td>\n",
              "      <td>খেলা</td>\n",
              "      <td>১১ আগস্ট ২০১৫, ০৩:০১</td>\n",
              "      <td>১১ আগস্ট ২০১৫, ০৩:০২</td>\n",
              "      <td>আন্তর্জাতিক ফুটবল,খেলা</td>\n",
              "      <td>0.0</td>\n",
              "      <td>‘পাগলা’ সান্টো</td>\n",
              "      <td>http://www.prothom-alo.com/sports/article/599491</td>\n",
              "      <td>ফুটবলে গোল উদ্যাপন তো কতভাবেই হয়! এই যুগে ফ্রা...</td>\n",
              "      <td>159094</td>\n",
              "    </tr>\n",
              "  </tbody>\n",
              "</table>\n",
              "</div>"
            ],
            "text/plain": [
              "       author category category_bn           published_date  \\\n",
              "0  খেলা ডেস্ক   sports        খেলা   ০৮ অক্টোবর ২০১৭, ১৮:২১   \n",
              "1          -1   sports        খেলা    ২৩ এপ্রিল ২০১৬, ০১:৫০   \n",
              "2          -1   sports        খেলা   ২৫ নভেম্বর ২০১৫, ০১:৫৪   \n",
              "3  উৎপল শুভ্র   sports        খেলা  ০৩ ডিসেম্বর ২০১৮, ১৩:২০   \n",
              "4          -1   sports        খেলা     ১১ আগস্ট ২০১৫, ০৩:০১   \n",
              "\n",
              "         modification_date                                                tag  \\\n",
              "0   ০৮ অক্টোবর ২০১৭, ১৯:১২                                            ক্রিকেট   \n",
              "1    ২৩ এপ্রিল ২০১৬, ০১:৫১                           খেলা,আন্তর্জাতিক ক্রিকেট   \n",
              "2   ২৫ নভেম্বর ২০১৫, ০১:৫৫                             আন্তর্জাতিক ফুটবল,খেলা   \n",
              "3  ০৪ ডিসেম্বর ২০১৮, ১২:০৬  ক্রিকেট,বাংলাদেশ ওয়েস্ট ইন্ডিজ সিরিজ,টেস্ট ক্র...   \n",
              "4     ১১ আগস্ট ২০১৫, ০৩:০২                             আন্তর্জাতিক ফুটবল,খেলা   \n",
              "\n",
              "   comment_count                           title  \\\n",
              "0            NaN     ‘৬০০’ করতে পারল না বাংলাদেশ   \n",
              "1            0.0        খেলার বিনিময়ে ক্ষতিপূরণ   \n",
              "2            0.0                    লাউড্রপের না   \n",
              "3            0.0  মিরপুরে এক টেস্টে দুই প্রাপ্তি   \n",
              "4            0.0                  ‘পাগলা’ সান্টো   \n",
              "\n",
              "                                                 url  \\\n",
              "0  http://www.prothom-alo.com/sports/article/1339886   \n",
              "1   http://www.prothom-alo.com/sports/article/838162   \n",
              "2   http://www.prothom-alo.com/sports/article/693637   \n",
              "3  http://www.prothom-alo.com/sports/article/1568079   \n",
              "4   http://www.prothom-alo.com/sports/article/599491   \n",
              "\n",
              "                                             content  __index_level_0__  \n",
              "0  দক্ষিণ আফ্রিকার ৫৭৩/৪ রানে ইনিংস ঘোষণার জবাবে...             340598  \n",
              "1  বেতন-ভাতা নিয়ে জটিলতায় ২০১৪ সালে ভারত সফরের ...             222811  \n",
              "2  ২০১৬ ইউরো চ্যাম্পিয়নশিপের চূড়ান্ত পর্বে দলকে ...             177592  \n",
              "3  যখন টেস্টের তৃতীয় দিনের শেষ সেশনের খেলা চলার ক...             384712  \n",
              "4  ফুটবলে গোল উদ্যাপন তো কতভাবেই হয়! এই যুগে ফ্রা...             159094  "
            ]
          },
          "execution_count": 8,
          "metadata": {},
          "output_type": "execute_result"
        }
      ],
      "source": [
        "## classification\n",
        "\n",
        "import pandas as pd\n",
        "from datasets import load_dataset\n",
        "\n",
        "# Load the dataset\n",
        "dataset = load_dataset('zabir-nabil/bangla_newspaper_dataset')\n",
        "\n",
        "# Convert to pandas dataframe\n",
        "df = dataset['test_2'].to_pandas()\n",
        "\n",
        "# Display the dataframe\n",
        "df.head()"
      ]
    },
    {
      "cell_type": "code",
      "execution_count": null,
      "id": "_ki3fYAB07PP",
      "metadata": {
        "id": "_ki3fYAB07PP"
      },
      "outputs": [],
      "source": [
        "zero_shot = \"\"\"আপনাকে বাংলা সংবাদপত্রের নিবন্ধগুলির একটি ডেটাসেট দেওয়া হয়েছে। আপনার কাজ হলো প্রতিটি নিবন্ধকে তার বিষয়বস্তু অনুযায়ী পূর্বনির্ধারিত ক্যাটাগরি / বিভাগগুলির একটিতে শ্রেণীবদ্ধ করা।\n",
        "\n",
        "পূর্বনির্ধারিত ক্যাটাগরি / বিভাগগুলি হলো:\n",
        "১. বাংলাদেশ\n",
        "২. খেলা\n",
        "৩. প্রযুক্তি\n",
        "৪. বিনোদন\n",
        "৫. আন্তর্জাতিক\n",
        "৬. অর্থনীতি\n",
        "৭. জীবনধারা\n",
        "৮. মতামত\n",
        "৯. শিক্ষা\n",
        "\n",
        "\"\"\""
      ]
    },
    {
      "cell_type": "code",
      "execution_count": null,
      "id": "nH2Xl6Xr1BsE",
      "metadata": {
        "id": "nH2Xl6Xr1BsE"
      },
      "outputs": [],
      "source": [
        "three_shot = \"\"\"আপনাকে বাংলা সংবাদপত্রের নিবন্ধগুলির একটি ডেটাসেট দেওয়া হয়েছে। আপনার কাজ হলো প্রতিটি নিবন্ধকে তার বিষয়বস্তু অনুযায়ী পূর্বনির্ধারিত ক্যাটাগরি / বিভাগগুলির একটিতে শ্রেণীবদ্ধ করা।\n",
        "\n",
        "পূর্বনির্ধারিত ক্যাটাগরি / বিভাগগুলি হলো:\n",
        "১. বাংলাদেশ\n",
        "২. খেলা\n",
        "৩. প্রযুক্তি\n",
        "৪. বিনোদন\n",
        "৫. আন্তর্জাতিক\n",
        "৬. অর্থনীতি\n",
        "৭. জীবনধারা\n",
        "৮. মতামত\n",
        "৯. শিক্ষা\n",
        "\n",
        "### উদাহরণ ১\n",
        "নিবন্ধের বিষয়বস্তু:\n",
        "'গাজীপুরের কালিয়াকৈর উপজেলার তেলিরচালা এলাকায় আজ বৃহস্পতিবার রাতের টিফিন খেয়ে একটি পোশাক কারখানার ৫০০ শ্রমিক অসুস্থ হয়ে পড়েছেন। এ ঘটনায় বিক্ষোভ করেছেন ওই কারখানার শ্রমিকেরা...'\n",
        "প্রেডিক্টেড ক্যাটাগরি: 'বাংলাদেশ'\n",
        "\n",
        "### উদাহরণ ২\n",
        "নিবন্ধের বিষয়বস্তু:\n",
        "'মেসি তার দুর্দান্ত পারফরম্যান্সের মাধ্যমে আবারও সবার মন জয় করে নিলেন। আজকের ম্যাচে তিনি দুইটি গোল করেছেন এবং একটি অ্যাসিস্ট দিয়েছেন।'\n",
        "প্রেডিক্টেড ক্যাটাগরি: 'খেলা'\n",
        "\n",
        "### উদাহরণ ৩\n",
        "নিবন্ধের বিষয়বস্তু:\n",
        "'এখন ভ্রমণের সময়। কিছু যন্ত্র ব্যাকপ্যাকে না থাকলে অনেক যন্ত্রণা! এক মোবাইল ফোনেই ক্যামেরা, কম্পাস, স্পিকার, মানচিত্র থেকে শুরু করে টর্চলাইটের সুবিধা অবশ্য মেলে।'\n",
        "প্রেডিক্টেড ক্যাটাগরি: 'প্রযুক্তি'\n",
        "\n",
        "### আপনার কাজ:\n",
        "\n",
        "\"\"\""
      ]
    },
    {
      "cell_type": "code",
      "execution_count": null,
      "id": "kujEqYFh1CKb",
      "metadata": {
        "id": "kujEqYFh1CKb"
      },
      "outputs": [],
      "source": [
        "chain_of_thought = \"\"\"আপনাকে বাংলা সংবাদপত্রের নিবন্ধগুলির একটি ডেটাসেট দেওয়া হয়েছে। আপনার কাজ হলো প্রতিটি নিবন্ধকে তার বিষয়বস্তু অনুযায়ী পূর্বনির্ধারিত ক্যাটাগরি / বিভাগগুলির একটিতে শ্রেণীবদ্ধ করা।\n",
        "\n",
        "পূর্বনির্ধারিত ক্যাটাগরি / বিভাগগুলি হলো:\n",
        "১. বাংলাদেশ\n",
        "২. খেলা\n",
        "৩. প্রযুক্তি\n",
        "৪. বিনোদন\n",
        "৫. আন্তর্জাতিক\n",
        "৬. অর্থনীতি\n",
        "৭. জীবনধারা\n",
        "৮. মতামত\n",
        "৯. শিক্ষা\n",
        "\n",
        "প্রতিটি নিবন্ধের বিষয়বস্তু বিশ্লেষণ করার সময় নিম্নলিখিত ধাপগুলি অনুসরণ করুন:\n",
        "\n",
        "### ধাপ ১: নিবন্ধের মূল বিষয়বস্তু বোঝা\n",
        "নিবন্ধের বিষয়বস্তু পড়ুন এবং এর মূল বিষয় বা ঘটনাটি বোঝার চেষ্টা করুন। এটি একটি সংবাদ ঘটনা, খেলার আপডেট, প্রযুক্তির খবর, বিনোদনের খবর, আন্তর্জাতিক খবর, অর্থনৈতিক আপডেট, জীবনধারার টিপস, মতামত বা শিক্ষার খবর হতে পারে।\n",
        "\n",
        "### ধাপ ২: মূল থিম নির্ধারণ\n",
        "নিবন্ধের প্রধান থিম বা বিষয়টি নির্ধারণ করুন। এটি নিবন্ধের শিরোনাম এবং প্রথম কয়েকটি বাক্য পড়ে সহজেই বোঝা যায়।\n",
        "\n",
        "### ধাপ ৩: বিভাগ মিলান\n",
        "নিবন্ধের প্রধান থিমের সাথে পূর্বনির্ধারিত বিভাগগুলির একটি মিলান করুন। নিশ্চিত হন যে বিভাগটি নিবন্ধের মূল বিষয়ের সাথে সুসঙ্গত।\n",
        "\n",
        "### উদাহরণ ১\n",
        "নিবন্ধের বিষয়বস্তু:\n",
        "'গাজীপুরের কালিয়াকৈর উপজেলার তেলিরচালা এলাকায় আজ বৃহস্পতিবার রাতের টিফিন খেয়ে একটি পোশাক কারখানার ৫০০ শ্রমিক অসুস্থ হয়ে পড়েছেন। এ ঘটনায় বিক্ষোভ করেছেন ওই কারখানার শ্রমিকেরা...'\n",
        "\n",
        "#### চিন্তাধারা:\n",
        "- মূল বিষয়বস্তু: পোশাক কারখানার শ্রমিকদের অসুস্থতা এবং বিক্ষোভ\n",
        "- মূল থিম: স্থানীয় বাংলাদেশি সংবাদ\n",
        "- বিভাগ মিলান: বাংলাদেশ\n",
        "\n",
        "প্রেডিক্টেড ক্যাটাগরি: 'বাংলাদেশ'\n",
        "\n",
        "### উদাহরণ ২\n",
        "নিবন্ধের বিষয়বস্তু:\n",
        "'মেসি তার দুর্দান্ত পারফরম্যান্সের মাধ্যমে আবারও সবার মন জয় করে নিলেন। আজকের ম্যাচে তিনি দুইটি গোল করেছেন এবং একটি অ্যাসিস্ট দিয়েছেন।'\n",
        "\n",
        "#### চিন্তাধারা:\n",
        "- মূল বিষয়বস্তু: মেসির পারফরম্যান্স এবং খেলার ফলাফল\n",
        "- মূল থিম: খেলাধুলার খবর\n",
        "- বিভাগ মিলান: খেলা\n",
        "\n",
        "প্রেডিক্টেড ক্যাটাগরি: 'খেলা'\n",
        "\n",
        "### উদাহরণ ৩\n",
        "নিবন্ধের বিষয়বস্তু:\n",
        "'এখন ভ্রমণের সময়। কিছু যন্ত্র ব্যাকপ্যাকে না থাকলে অনেক যন্ত্রণা! এক মোবাইল ফোনেই ক্যামেরা, কম্পাস, স্পিকার, মানচিত্র থেকে শুরু করে টর্চলাইটের সুবিধা অবশ্য মেলে।'\n",
        "\n",
        "#### চিন্তাধারা:\n",
        "- মূল বিষয়বস্তু: মোবাইল ফোন ও গ্যাজেট\n",
        "- মূল থিম: প্রযুক্তির খবর\n",
        "- বিভাগ মিলান: প্রযুক্তি\n",
        "\n",
        "প্রেডিক্টেড ক্যাটাগরি: 'প্রযুক্তি'\n",
        "\n",
        "### আপনার কাজ:\n",
        "\n",
        "\"\"\""
      ]
    },
    {
      "cell_type": "code",
      "execution_count": null,
      "id": "Qg3Z_REL1FFo",
      "metadata": {
        "id": "Qg3Z_REL1FFo"
      },
      "outputs": [],
      "source": [
        "category_translation = {\n",
        "    'bangladesh': 'বাংলাদেশ',\n",
        "    'sports': 'খেলা',\n",
        "    'technology': 'প্রযুক্তি',\n",
        "    'entertainment': 'বিনোদন',\n",
        "    'international': 'আন্তর্জাতিক',\n",
        "    'economy': 'অর্থনীতি',\n",
        "    'life-style': 'জীবনধারা',\n",
        "    'opinion': 'মতামত',\n",
        "    'education': 'শিক্ষা'\n",
        "}"
      ]
    },
    {
      "cell_type": "code",
      "execution_count": null,
      "id": "kNvhJm-86MR3",
      "metadata": {
        "id": "kNvhJm-86MR3",
        "outputId": "5867309d-f1a7-40e1-959c-4494ea1f46c6"
      },
      "outputs": [
        {
          "data": {
            "text/plain": [
              "'৫ জন বাংলাদেশি বিখ্যাত কবির নাম বল?'"
            ]
          },
          "execution_count": 13,
          "metadata": {},
          "output_type": "execute_result"
        }
      ],
      "source": [
        "get_bloom_7b1_output(\"৫ জন বাংলাদেশি বিখ্যাত কবির নাম বল?\")"
      ]
    },
    {
      "cell_type": "markdown",
      "id": "44f53740-9494-4d9d-99ae-2c73e32b8b19",
      "metadata": {
        "id": "44f53740-9494-4d9d-99ae-2c73e32b8b19"
      },
      "source": [
        "### Zero Shot"
      ]
    },
    {
      "cell_type": "code",
      "execution_count": null,
      "id": "814f0283-a7ed-4ebd-8a3f-5a1dc30eeaa6",
      "metadata": {
        "colab": {
          "base_uri": "https://localhost:8080/",
          "height": 49,
          "referenced_widgets": [
            "a7898f16647c4cc0add089aa4baae610"
          ]
        },
        "id": "814f0283-a7ed-4ebd-8a3f-5a1dc30eeaa6",
        "outputId": "db1168c0-37c6-4d88-9cb5-8620a0b1b26a"
      },
      "outputs": [
        {
          "data": {
            "application/vnd.jupyter.widget-view+json": {
              "model_id": "a7898f16647c4cc0add089aa4baae610",
              "version_major": 2,
              "version_minor": 0
            },
            "text/plain": [
              "  0%|          | 0/495 [00:00<?, ?it/s]"
            ]
          },
          "metadata": {},
          "output_type": "display_data"
        }
      ],
      "source": [
        "import time\n",
        "from tqdm.notebook import tqdm\n",
        "\n",
        "# Assuming df is the original DataFrame and category_translation is defined\n",
        "df['predicted_category'] = None\n",
        "\n",
        "# Try to load the progress from the Parquet file\n",
        "try:\n",
        "    df_progress = pd.read_parquet('bloom_7b1_zs_classification_results.parquet')\n",
        "    start_index = df_progress['predicted_category'].last_valid_index() + 1\n",
        "except (FileNotFoundError, ValueError):\n",
        "    df_progress = df.copy()\n",
        "    start_index = 0\n",
        "\n",
        "\n",
        "for i, row in tqdm(df.iloc[start_index:].iterrows(), initial=start_index, total=len(df) - start_index):\n",
        "    news = row['content']\n",
        "    label = row['category']\n",
        "    label_bn = category_translation.get(label, label)  # Use the translated label or fallback to the original\n",
        "\n",
        "    prompt_input = zero_shot + \" নিবন্ধের বিষয়বস্তু: \" + news + \"\\nপ্রেডিক্টেড ক্যাটাগরি:\"\n",
        "\n",
        "    try:\n",
        "        df.at[i, 'predicted_category'] = get_bloom_7b1_output(prompt_input)\n",
        "    except Exception as e:\n",
        "        print(f\"Error at index {i}: {e}\")\n",
        "        time.sleep(5)\n",
        "\n",
        "    if (i + 1) % 100 == 0:\n",
        "        df.to_parquet('bloom_7b1_zs_classification_results.parquet')\n",
        "\n",
        "# Save final progress\n",
        "df.to_parquet('bloom_7b1_zs_classification_results.parquet')"
      ]
    },
    {
      "cell_type": "code",
      "execution_count": null,
      "id": "ab32410e-13a9-466c-a538-136395a86f4b",
      "metadata": {
        "id": "ab32410e-13a9-466c-a538-136395a86f4b",
        "outputId": "6ff854b7-a38e-475d-9cfc-465e23ecfd9e"
      },
      "outputs": [
        {
          "data": {
            "text/html": [
              "<div>\n",
              "<style scoped>\n",
              "    .dataframe tbody tr th:only-of-type {\n",
              "        vertical-align: middle;\n",
              "    }\n",
              "\n",
              "    .dataframe tbody tr th {\n",
              "        vertical-align: top;\n",
              "    }\n",
              "\n",
              "    .dataframe thead th {\n",
              "        text-align: right;\n",
              "    }\n",
              "</style>\n",
              "<table border=\"1\" class=\"dataframe\">\n",
              "  <thead>\n",
              "    <tr style=\"text-align: right;\">\n",
              "      <th></th>\n",
              "      <th>author</th>\n",
              "      <th>category</th>\n",
              "      <th>category_bn</th>\n",
              "      <th>published_date</th>\n",
              "      <th>modification_date</th>\n",
              "      <th>tag</th>\n",
              "      <th>comment_count</th>\n",
              "      <th>title</th>\n",
              "      <th>url</th>\n",
              "      <th>content</th>\n",
              "      <th>__index_level_0__</th>\n",
              "      <th>predicted_category</th>\n",
              "    </tr>\n",
              "  </thead>\n",
              "  <tbody>\n",
              "    <tr>\n",
              "      <th>0</th>\n",
              "      <td>খেলা ডেস্ক</td>\n",
              "      <td>sports</td>\n",
              "      <td>খেলা</td>\n",
              "      <td>০৮ অক্টোবর ২০১৭, ১৮:২১</td>\n",
              "      <td>০৮ অক্টোবর ২০১৭, ১৯:১২</td>\n",
              "      <td>ক্রিকেট</td>\n",
              "      <td>NaN</td>\n",
              "      <td>‘৬০০’ করতে পারল না বাংলাদেশ</td>\n",
              "      <td>http://www.prothom-alo.com/sports/article/1339886</td>\n",
              "      <td>দক্ষিণ আফ্রিকার ৫৭৩/৪ রানে ইনিংস ঘোষণার জবাবে...</td>\n",
              "      <td>340598</td>\n",
              "      <td>আপনাকে বাংলা সংবাদপত্রের নিবন্ধগুলির একটি ডেটা...</td>\n",
              "    </tr>\n",
              "    <tr>\n",
              "      <th>1</th>\n",
              "      <td>-1</td>\n",
              "      <td>sports</td>\n",
              "      <td>খেলা</td>\n",
              "      <td>২৩ এপ্রিল ২০১৬, ০১:৫০</td>\n",
              "      <td>২৩ এপ্রিল ২০১৬, ০১:৫১</td>\n",
              "      <td>খেলা,আন্তর্জাতিক ক্রিকেট</td>\n",
              "      <td>0.0</td>\n",
              "      <td>খেলার বিনিময়ে ক্ষতিপূরণ</td>\n",
              "      <td>http://www.prothom-alo.com/sports/article/838162</td>\n",
              "      <td>বেতন-ভাতা নিয়ে জটিলতায় ২০১৪ সালে ভারত সফরের ...</td>\n",
              "      <td>222811</td>\n",
              "      <td>আপনাকে বাংলা সংবাদপত্রের নিবন্ধগুলির একটি ডেটা...</td>\n",
              "    </tr>\n",
              "    <tr>\n",
              "      <th>2</th>\n",
              "      <td>-1</td>\n",
              "      <td>sports</td>\n",
              "      <td>খেলা</td>\n",
              "      <td>২৫ নভেম্বর ২০১৫, ০১:৫৪</td>\n",
              "      <td>২৫ নভেম্বর ২০১৫, ০১:৫৫</td>\n",
              "      <td>আন্তর্জাতিক ফুটবল,খেলা</td>\n",
              "      <td>0.0</td>\n",
              "      <td>লাউড্রপের না</td>\n",
              "      <td>http://www.prothom-alo.com/sports/article/693637</td>\n",
              "      <td>২০১৬ ইউরো চ্যাম্পিয়নশিপের চূড়ান্ত পর্বে দলকে ...</td>\n",
              "      <td>177592</td>\n",
              "      <td>আপনাকে বাংলা সংবাদপত্রের নিবন্ধগুলির একটি ডেটা...</td>\n",
              "    </tr>\n",
              "    <tr>\n",
              "      <th>3</th>\n",
              "      <td>উৎপল শুভ্র</td>\n",
              "      <td>sports</td>\n",
              "      <td>খেলা</td>\n",
              "      <td>০৩ ডিসেম্বর ২০১৮, ১৩:২০</td>\n",
              "      <td>০৪ ডিসেম্বর ২০১৮, ১২:০৬</td>\n",
              "      <td>ক্রিকেট,বাংলাদেশ ওয়েস্ট ইন্ডিজ সিরিজ,টেস্ট ক্র...</td>\n",
              "      <td>0.0</td>\n",
              "      <td>মিরপুরে এক টেস্টে দুই প্রাপ্তি</td>\n",
              "      <td>http://www.prothom-alo.com/sports/article/1568079</td>\n",
              "      <td>যখন টেস্টের তৃতীয় দিনের শেষ সেশনের খেলা চলার ক...</td>\n",
              "      <td>384712</td>\n",
              "      <td>আপনাকে বাংলা সংবাদপত্রের নিবন্ধগুলির একটি ডেটা...</td>\n",
              "    </tr>\n",
              "    <tr>\n",
              "      <th>4</th>\n",
              "      <td>-1</td>\n",
              "      <td>sports</td>\n",
              "      <td>খেলা</td>\n",
              "      <td>১১ আগস্ট ২০১৫, ০৩:০১</td>\n",
              "      <td>১১ আগস্ট ২০১৫, ০৩:০২</td>\n",
              "      <td>আন্তর্জাতিক ফুটবল,খেলা</td>\n",
              "      <td>0.0</td>\n",
              "      <td>‘পাগলা’ সান্টো</td>\n",
              "      <td>http://www.prothom-alo.com/sports/article/599491</td>\n",
              "      <td>ফুটবলে গোল উদ্যাপন তো কতভাবেই হয়! এই যুগে ফ্রা...</td>\n",
              "      <td>159094</td>\n",
              "      <td>আপনাকে বাংলা সংবাদপত্রের নিবন্ধগুলির একটি ডেটা...</td>\n",
              "    </tr>\n",
              "  </tbody>\n",
              "</table>\n",
              "</div>"
            ],
            "text/plain": [
              "       author category category_bn           published_date  \\\n",
              "0  খেলা ডেস্ক   sports        খেলা   ০৮ অক্টোবর ২০১৭, ১৮:২১   \n",
              "1          -1   sports        খেলা    ২৩ এপ্রিল ২০১৬, ০১:৫০   \n",
              "2          -1   sports        খেলা   ২৫ নভেম্বর ২০১৫, ০১:৫৪   \n",
              "3  উৎপল শুভ্র   sports        খেলা  ০৩ ডিসেম্বর ২০১৮, ১৩:২০   \n",
              "4          -1   sports        খেলা     ১১ আগস্ট ২০১৫, ০৩:০১   \n",
              "\n",
              "         modification_date                                                tag  \\\n",
              "0   ০৮ অক্টোবর ২০১৭, ১৯:১২                                            ক্রিকেট   \n",
              "1    ২৩ এপ্রিল ২০১৬, ০১:৫১                           খেলা,আন্তর্জাতিক ক্রিকেট   \n",
              "2   ২৫ নভেম্বর ২০১৫, ০১:৫৫                             আন্তর্জাতিক ফুটবল,খেলা   \n",
              "3  ০৪ ডিসেম্বর ২০১৮, ১২:০৬  ক্রিকেট,বাংলাদেশ ওয়েস্ট ইন্ডিজ সিরিজ,টেস্ট ক্র...   \n",
              "4     ১১ আগস্ট ২০১৫, ০৩:০২                             আন্তর্জাতিক ফুটবল,খেলা   \n",
              "\n",
              "   comment_count                           title  \\\n",
              "0            NaN     ‘৬০০’ করতে পারল না বাংলাদেশ   \n",
              "1            0.0        খেলার বিনিময়ে ক্ষতিপূরণ   \n",
              "2            0.0                    লাউড্রপের না   \n",
              "3            0.0  মিরপুরে এক টেস্টে দুই প্রাপ্তি   \n",
              "4            0.0                  ‘পাগলা’ সান্টো   \n",
              "\n",
              "                                                 url  \\\n",
              "0  http://www.prothom-alo.com/sports/article/1339886   \n",
              "1   http://www.prothom-alo.com/sports/article/838162   \n",
              "2   http://www.prothom-alo.com/sports/article/693637   \n",
              "3  http://www.prothom-alo.com/sports/article/1568079   \n",
              "4   http://www.prothom-alo.com/sports/article/599491   \n",
              "\n",
              "                                             content  __index_level_0__  \\\n",
              "0  দক্ষিণ আফ্রিকার ৫৭৩/৪ রানে ইনিংস ঘোষণার জবাবে...             340598   \n",
              "1  বেতন-ভাতা নিয়ে জটিলতায় ২০১৪ সালে ভারত সফরের ...             222811   \n",
              "2  ২০১৬ ইউরো চ্যাম্পিয়নশিপের চূড়ান্ত পর্বে দলকে ...             177592   \n",
              "3  যখন টেস্টের তৃতীয় দিনের শেষ সেশনের খেলা চলার ক...             384712   \n",
              "4  ফুটবলে গোল উদ্যাপন তো কতভাবেই হয়! এই যুগে ফ্রা...             159094   \n",
              "\n",
              "                                  predicted_category  \n",
              "0  আপনাকে বাংলা সংবাদপত্রের নিবন্ধগুলির একটি ডেটা...  \n",
              "1  আপনাকে বাংলা সংবাদপত্রের নিবন্ধগুলির একটি ডেটা...  \n",
              "2  আপনাকে বাংলা সংবাদপত্রের নিবন্ধগুলির একটি ডেটা...  \n",
              "3  আপনাকে বাংলা সংবাদপত্রের নিবন্ধগুলির একটি ডেটা...  \n",
              "4  আপনাকে বাংলা সংবাদপত্রের নিবন্ধগুলির একটি ডেটা...  "
            ]
          },
          "execution_count": 15,
          "metadata": {},
          "output_type": "execute_result"
        }
      ],
      "source": [
        "zs_results = pd.read_parquet(\"bloom_7b1_zs_classification_results.parquet\")\n",
        "zs_results.head()"
      ]
    },
    {
      "cell_type": "code",
      "execution_count": null,
      "id": "HzG7IBCjowtE",
      "metadata": {
        "id": "HzG7IBCjowtE",
        "outputId": "b8a36915-8a6d-470c-fadc-8be923d148d0"
      },
      "outputs": [
        {
          "data": {
            "text/html": [
              "<div>\n",
              "<style scoped>\n",
              "    .dataframe tbody tr th:only-of-type {\n",
              "        vertical-align: middle;\n",
              "    }\n",
              "\n",
              "    .dataframe tbody tr th {\n",
              "        vertical-align: top;\n",
              "    }\n",
              "\n",
              "    .dataframe thead th {\n",
              "        text-align: right;\n",
              "    }\n",
              "</style>\n",
              "<table border=\"1\" class=\"dataframe\">\n",
              "  <thead>\n",
              "    <tr style=\"text-align: right;\">\n",
              "      <th></th>\n",
              "      <th>author</th>\n",
              "      <th>category</th>\n",
              "      <th>category_bn</th>\n",
              "      <th>published_date</th>\n",
              "      <th>modification_date</th>\n",
              "      <th>tag</th>\n",
              "      <th>comment_count</th>\n",
              "      <th>title</th>\n",
              "      <th>url</th>\n",
              "      <th>content</th>\n",
              "      <th>__index_level_0__</th>\n",
              "      <th>predicted_category</th>\n",
              "    </tr>\n",
              "  </thead>\n",
              "  <tbody>\n",
              "    <tr>\n",
              "      <th>490</th>\n",
              "      <td>ইকবাল খান, শিক্ষক</td>\n",
              "      <td>education</td>\n",
              "      <td>শিক্ষা</td>\n",
              "      <td>০৫ মার্চ ২০১৪, ০০:৪৭</td>\n",
              "      <td>০৫ মার্চ ২০১৪, ০০:৪৮</td>\n",
              "      <td>পড়াশোনা</td>\n",
              "      <td>0.0</td>\n",
              "      <td>ই ং রে জি</td>\n",
              "      <td>http://www.prothom-alo.com/education/article/1...</td>\n",
              "      <td>আনসিন প্যাসেজ প্রিয় শিক্ষার্থী, আজ রয়েছে একটি...</td>\n",
              "      <td>56033</td>\n",
              "      <td>আপনাকে বাংলা সংবাদপত্রের নিবন্ধগুলির একটি ডেটা...</td>\n",
              "    </tr>\n",
              "    <tr>\n",
              "      <th>491</th>\n",
              "      <td>মোহাম্মদ হেদায়েত উল্যাহ</td>\n",
              "      <td>education</td>\n",
              "      <td>শিক্ষা</td>\n",
              "      <td>২২ মার্চ ২০১৪, ০০:৩৩</td>\n",
              "      <td>২২ মার্চ ২০১৪, ০০:৩৫</td>\n",
              "      <td>পড়াশোনা</td>\n",
              "      <td>0.0</td>\n",
              "      <td>স মা জ বি জ্ঞা ন ১ ম প ত্র</td>\n",
              "      <td>http://www.prothom-alo.com/education/article/1...</td>\n",
              "      <td>বহুনির্বাচনি প্রশ্নোত্তর প্রিয় শিক্ষার্থী, আজ...</td>\n",
              "      <td>60214</td>\n",
              "      <td>আপনাকে বাংলা সংবাদপত্রের নিবন্ধগুলির একটি ডেটা...</td>\n",
              "    </tr>\n",
              "    <tr>\n",
              "      <th>492</th>\n",
              "      <td>বাদল চৌধুরী</td>\n",
              "      <td>education</td>\n",
              "      <td>শিক্ষা</td>\n",
              "      <td>০৮ জুলাই ২০১৩, ০০:৪৮</td>\n",
              "      <td>০৮ জুলাই ২০১৩, ০০:৫০</td>\n",
              "      <td>পড়াশোনা</td>\n",
              "      <td>0.0</td>\n",
              "      <td>জুনিয়র স্কুল সার্টিফিকেট পরীক্ষার প্রস্তুতি</td>\n",
              "      <td>http://www.prothom-alo.com/education/article/2...</td>\n",
              "      <td>প্রিয় জেএসসি পরীক্ষার্থী, শুভেচ্ছা রইল। জাতীয...</td>\n",
              "      <td>1167</td>\n",
              "      <td>আপনাকে বাংলা সংবাদপত্রের নিবন্ধগুলির একটি ডেটা...</td>\n",
              "    </tr>\n",
              "    <tr>\n",
              "      <th>493</th>\n",
              "      <td>মারুফ ইসলাম</td>\n",
              "      <td>education</td>\n",
              "      <td>শিক্ষা</td>\n",
              "      <td>২৫ আগস্ট ২০১৩, ০০:১১</td>\n",
              "      <td>২৫ আগস্ট ২০১৩, ০০:১৬</td>\n",
              "      <td>স্বপ্ন নিয়ে,শিক্ষাঙ্গন</td>\n",
              "      <td>0.0</td>\n",
              "      <td>বিতর্ক করতে মালয়েশিয়া</td>\n",
              "      <td>http://www.prothom-alo.com/education/article/4...</td>\n",
              "      <td>সাত রাউন্ড শেষে তিনটি করে জয় নিশ্চিত করে ঢাকা...</td>\n",
              "      <td>11829</td>\n",
              "      <td>আপনাকে বাংলা সংবাদপত্রের নিবন্ধগুলির একটি ডেটা...</td>\n",
              "    </tr>\n",
              "    <tr>\n",
              "      <th>494</th>\n",
              "      <td>মো. জসিম উদ্দীন বিশ্বাস</td>\n",
              "      <td>education</td>\n",
              "      <td>শিক্ষা</td>\n",
              "      <td>০৫ মে ২০১৪, ০১:৪৩</td>\n",
              "      <td>০৫ মে ২০১৪, ০১:৪৫</td>\n",
              "      <td>পড়াশোনা</td>\n",
              "      <td>0.0</td>\n",
              "      <td>ইংরেজি ২য় পত্র</td>\n",
              "      <td>http://www.prothom-alo.com/education/article/2...</td>\n",
              "      <td>The Prepositionপ্রিয় শিক্ষার্থীরা, আজ ইংরেজি ২...</td>\n",
              "      <td>70843</td>\n",
              "      <td>আপনাকে বাংলা সংবাদপত্রের নিবন্ধগুলির একটি ডেটা...</td>\n",
              "    </tr>\n",
              "  </tbody>\n",
              "</table>\n",
              "</div>"
            ],
            "text/plain": [
              "                      author   category category_bn        published_date  \\\n",
              "490        ইকবাল খান, শিক্ষক  education      শিক্ষা  ০৫ মার্চ ২০১৪, ০০:৪৭   \n",
              "491  মোহাম্মদ হেদায়েত উল্যাহ  education      শিক্ষা  ২২ মার্চ ২০১৪, ০০:৩৩   \n",
              "492              বাদল চৌধুরী  education      শিক্ষা  ০৮ জুলাই ২০১৩, ০০:৪৮   \n",
              "493              মারুফ ইসলাম  education      শিক্ষা  ২৫ আগস্ট ২০১৩, ০০:১১   \n",
              "494  মো. জসিম উদ্দীন বিশ্বাস  education      শিক্ষা     ০৫ মে ২০১৪, ০১:৪৩   \n",
              "\n",
              "        modification_date                     tag  comment_count  \\\n",
              "490  ০৫ মার্চ ২০১৪, ০০:৪৮                 পড়াশোনা            0.0   \n",
              "491  ২২ মার্চ ২০১৪, ০০:৩৫                 পড়াশোনা            0.0   \n",
              "492  ০৮ জুলাই ২০১৩, ০০:৫০                 পড়াশোনা            0.0   \n",
              "493  ২৫ আগস্ট ২০১৩, ০০:১৬  স্বপ্ন নিয়ে,শিক্ষাঙ্গন            0.0   \n",
              "494     ০৫ মে ২০১৪, ০১:৪৫                 পড়াশোনা            0.0   \n",
              "\n",
              "                                            title  \\\n",
              "490                                     ই ং রে জি   \n",
              "491                    স মা জ বি জ্ঞা ন ১ ম প ত্র   \n",
              "492  জুনিয়র স্কুল সার্টিফিকেট পরীক্ষার প্রস্তুতি   \n",
              "493                       বিতর্ক করতে মালয়েশিয়া   \n",
              "494                                ইংরেজি ২য় পত্র   \n",
              "\n",
              "                                                   url  \\\n",
              "490  http://www.prothom-alo.com/education/article/1...   \n",
              "491  http://www.prothom-alo.com/education/article/1...   \n",
              "492  http://www.prothom-alo.com/education/article/2...   \n",
              "493  http://www.prothom-alo.com/education/article/4...   \n",
              "494  http://www.prothom-alo.com/education/article/2...   \n",
              "\n",
              "                                               content  __index_level_0__  \\\n",
              "490  আনসিন প্যাসেজ প্রিয় শিক্ষার্থী, আজ রয়েছে একটি...              56033   \n",
              "491  বহুনির্বাচনি প্রশ্নোত্তর প্রিয় শিক্ষার্থী, আজ...              60214   \n",
              "492  প্রিয় জেএসসি পরীক্ষার্থী, শুভেচ্ছা রইল। জাতীয...               1167   \n",
              "493  সাত রাউন্ড শেষে তিনটি করে জয় নিশ্চিত করে ঢাকা...              11829   \n",
              "494  The Prepositionপ্রিয় শিক্ষার্থীরা, আজ ইংরেজি ২...              70843   \n",
              "\n",
              "                                    predicted_category  \n",
              "490  আপনাকে বাংলা সংবাদপত্রের নিবন্ধগুলির একটি ডেটা...  \n",
              "491  আপনাকে বাংলা সংবাদপত্রের নিবন্ধগুলির একটি ডেটা...  \n",
              "492  আপনাকে বাংলা সংবাদপত্রের নিবন্ধগুলির একটি ডেটা...  \n",
              "493  আপনাকে বাংলা সংবাদপত্রের নিবন্ধগুলির একটি ডেটা...  \n",
              "494  আপনাকে বাংলা সংবাদপত্রের নিবন্ধগুলির একটি ডেটা...  "
            ]
          },
          "execution_count": 16,
          "metadata": {},
          "output_type": "execute_result"
        }
      ],
      "source": [
        "zs_results.tail()"
      ]
    },
    {
      "cell_type": "markdown",
      "id": "EARf-iG7itwe",
      "metadata": {
        "id": "EARf-iG7itwe"
      },
      "source": [
        "### Three Shot"
      ]
    },
    {
      "cell_type": "code",
      "execution_count": null,
      "id": "1ab5808d-d5fb-407d-bc87-9b741fd1038e",
      "metadata": {
        "colab": {
          "referenced_widgets": [
            "07fe175e0fc442f08699e3b4da64f0e8"
          ]
        },
        "id": "1ab5808d-d5fb-407d-bc87-9b741fd1038e",
        "outputId": "8aa666fc-8b2a-401e-e3b0-032eac70d9c3"
      },
      "outputs": [
        {
          "data": {
            "application/vnd.jupyter.widget-view+json": {
              "model_id": "07fe175e0fc442f08699e3b4da64f0e8",
              "version_major": 2,
              "version_minor": 0
            },
            "text/plain": [
              "  0%|          | 0/495 [00:00<?, ?it/s]"
            ]
          },
          "metadata": {},
          "output_type": "display_data"
        }
      ],
      "source": [
        "import time\n",
        "from tqdm.notebook import tqdm\n",
        "\n",
        "# Assuming df is the original DataFrame and category_translation is defined\n",
        "df['predicted_category'] = None\n",
        "\n",
        "# Try to load the progress from the Parquet file\n",
        "try:\n",
        "    df_progress = pd.read_parquet('bloom_7b1_ts_classification_results.parquet')\n",
        "    start_index = df_progress['predicted_category'].last_valid_index() + 1\n",
        "except (FileNotFoundError, ValueError):\n",
        "    df_progress = df.copy()\n",
        "    start_index = 0\n",
        "\n",
        "\n",
        "for i, row in tqdm(df.iloc[start_index:].iterrows(), initial=start_index, total=len(df) - start_index):\n",
        "    news = row['content']\n",
        "    label = row['category']\n",
        "    label_bn = category_translation.get(label, label)  # Use the translated label or fallback to the original\n",
        "\n",
        "    prompt_input = three_shot + \" নিবন্ধের বিষয়বস্তু: \" + news + \"\\nপ্রেডিক্টেড ক্যাটাগরি:\"\n",
        "\n",
        "    try:\n",
        "        df.at[i, 'predicted_category'] = get_bloom_7b1_output(prompt_input, max_new_tokens = 128)\n",
        "    except Exception as e:\n",
        "        print(f\"Error at index {i}: {e}\")\n",
        "        time.sleep(5)\n",
        "\n",
        "    if (i + 1) % 100 == 0:\n",
        "        df.to_parquet('bloom_7b1_ts_classification_results.parquet')\n",
        "\n",
        "# Save final progress\n",
        "df.to_parquet('bloom_7b1_ts_classification_results.parquet')"
      ]
    },
    {
      "cell_type": "code",
      "execution_count": null,
      "id": "67b44c5d-c3cb-415a-8d0c-1905ce8862df",
      "metadata": {
        "id": "67b44c5d-c3cb-415a-8d0c-1905ce8862df",
        "outputId": "325b4027-90a8-4c5b-9dd1-4cc5fb5aec8f"
      },
      "outputs": [
        {
          "data": {
            "text/html": [
              "<div>\n",
              "<style scoped>\n",
              "    .dataframe tbody tr th:only-of-type {\n",
              "        vertical-align: middle;\n",
              "    }\n",
              "\n",
              "    .dataframe tbody tr th {\n",
              "        vertical-align: top;\n",
              "    }\n",
              "\n",
              "    .dataframe thead th {\n",
              "        text-align: right;\n",
              "    }\n",
              "</style>\n",
              "<table border=\"1\" class=\"dataframe\">\n",
              "  <thead>\n",
              "    <tr style=\"text-align: right;\">\n",
              "      <th></th>\n",
              "      <th>author</th>\n",
              "      <th>category</th>\n",
              "      <th>category_bn</th>\n",
              "      <th>published_date</th>\n",
              "      <th>modification_date</th>\n",
              "      <th>tag</th>\n",
              "      <th>comment_count</th>\n",
              "      <th>title</th>\n",
              "      <th>url</th>\n",
              "      <th>content</th>\n",
              "      <th>__index_level_0__</th>\n",
              "      <th>predicted_category</th>\n",
              "    </tr>\n",
              "  </thead>\n",
              "  <tbody>\n",
              "    <tr>\n",
              "      <th>0</th>\n",
              "      <td>খেলা ডেস্ক</td>\n",
              "      <td>sports</td>\n",
              "      <td>খেলা</td>\n",
              "      <td>০৮ অক্টোবর ২০১৭, ১৮:২১</td>\n",
              "      <td>০৮ অক্টোবর ২০১৭, ১৯:১২</td>\n",
              "      <td>ক্রিকেট</td>\n",
              "      <td>NaN</td>\n",
              "      <td>‘৬০০’ করতে পারল না বাংলাদেশ</td>\n",
              "      <td>http://www.prothom-alo.com/sports/article/1339886</td>\n",
              "      <td>দক্ষিণ আফ্রিকার ৫৭৩/৪ রানে ইনিংস ঘোষণার জবাবে...</td>\n",
              "      <td>340598</td>\n",
              "      <td>আপনাকে বাংলা সংবাদপত্রের নিবন্ধগুলির একটি ডেটা...</td>\n",
              "    </tr>\n",
              "    <tr>\n",
              "      <th>1</th>\n",
              "      <td>-1</td>\n",
              "      <td>sports</td>\n",
              "      <td>খেলা</td>\n",
              "      <td>২৩ এপ্রিল ২০১৬, ০১:৫০</td>\n",
              "      <td>২৩ এপ্রিল ২০১৬, ০১:৫১</td>\n",
              "      <td>খেলা,আন্তর্জাতিক ক্রিকেট</td>\n",
              "      <td>0.0</td>\n",
              "      <td>খেলার বিনিময়ে ক্ষতিপূরণ</td>\n",
              "      <td>http://www.prothom-alo.com/sports/article/838162</td>\n",
              "      <td>বেতন-ভাতা নিয়ে জটিলতায় ২০১৪ সালে ভারত সফরের ...</td>\n",
              "      <td>222811</td>\n",
              "      <td>আপনাকে বাংলা সংবাদপত্রের নিবন্ধগুলির একটি ডেটা...</td>\n",
              "    </tr>\n",
              "    <tr>\n",
              "      <th>2</th>\n",
              "      <td>-1</td>\n",
              "      <td>sports</td>\n",
              "      <td>খেলা</td>\n",
              "      <td>২৫ নভেম্বর ২০১৫, ০১:৫৪</td>\n",
              "      <td>২৫ নভেম্বর ২০১৫, ০১:৫৫</td>\n",
              "      <td>আন্তর্জাতিক ফুটবল,খেলা</td>\n",
              "      <td>0.0</td>\n",
              "      <td>লাউড্রপের না</td>\n",
              "      <td>http://www.prothom-alo.com/sports/article/693637</td>\n",
              "      <td>২০১৬ ইউরো চ্যাম্পিয়নশিপের চূড়ান্ত পর্বে দলকে ...</td>\n",
              "      <td>177592</td>\n",
              "      <td>আপনাকে বাংলা সংবাদপত্রের নিবন্ধগুলির একটি ডেটা...</td>\n",
              "    </tr>\n",
              "    <tr>\n",
              "      <th>3</th>\n",
              "      <td>উৎপল শুভ্র</td>\n",
              "      <td>sports</td>\n",
              "      <td>খেলা</td>\n",
              "      <td>০৩ ডিসেম্বর ২০১৮, ১৩:২০</td>\n",
              "      <td>০৪ ডিসেম্বর ২০১৮, ১২:০৬</td>\n",
              "      <td>ক্রিকেট,বাংলাদেশ ওয়েস্ট ইন্ডিজ সিরিজ,টেস্ট ক্র...</td>\n",
              "      <td>0.0</td>\n",
              "      <td>মিরপুরে এক টেস্টে দুই প্রাপ্তি</td>\n",
              "      <td>http://www.prothom-alo.com/sports/article/1568079</td>\n",
              "      <td>যখন টেস্টের তৃতীয় দিনের শেষ সেশনের খেলা চলার ক...</td>\n",
              "      <td>384712</td>\n",
              "      <td>আপনাকে বাংলা সংবাদপত্রের নিবন্ধগুলির একটি ডেটা...</td>\n",
              "    </tr>\n",
              "    <tr>\n",
              "      <th>4</th>\n",
              "      <td>-1</td>\n",
              "      <td>sports</td>\n",
              "      <td>খেলা</td>\n",
              "      <td>১১ আগস্ট ২০১৫, ০৩:০১</td>\n",
              "      <td>১১ আগস্ট ২০১৫, ০৩:০২</td>\n",
              "      <td>আন্তর্জাতিক ফুটবল,খেলা</td>\n",
              "      <td>0.0</td>\n",
              "      <td>‘পাগলা’ সান্টো</td>\n",
              "      <td>http://www.prothom-alo.com/sports/article/599491</td>\n",
              "      <td>ফুটবলে গোল উদ্যাপন তো কতভাবেই হয়! এই যুগে ফ্রা...</td>\n",
              "      <td>159094</td>\n",
              "      <td>আপনাকে বাংলা সংবাদপত্রের নিবন্ধগুলির একটি ডেটা...</td>\n",
              "    </tr>\n",
              "  </tbody>\n",
              "</table>\n",
              "</div>"
            ],
            "text/plain": [
              "       author category category_bn           published_date  \\\n",
              "0  খেলা ডেস্ক   sports        খেলা   ০৮ অক্টোবর ২০১৭, ১৮:২১   \n",
              "1          -1   sports        খেলা    ২৩ এপ্রিল ২০১৬, ০১:৫০   \n",
              "2          -1   sports        খেলা   ২৫ নভেম্বর ২০১৫, ০১:৫৪   \n",
              "3  উৎপল শুভ্র   sports        খেলা  ০৩ ডিসেম্বর ২০১৮, ১৩:২০   \n",
              "4          -1   sports        খেলা     ১১ আগস্ট ২০১৫, ০৩:০১   \n",
              "\n",
              "         modification_date                                                tag  \\\n",
              "0   ০৮ অক্টোবর ২০১৭, ১৯:১২                                            ক্রিকেট   \n",
              "1    ২৩ এপ্রিল ২০১৬, ০১:৫১                           খেলা,আন্তর্জাতিক ক্রিকেট   \n",
              "2   ২৫ নভেম্বর ২০১৫, ০১:৫৫                             আন্তর্জাতিক ফুটবল,খেলা   \n",
              "3  ০৪ ডিসেম্বর ২০১৮, ১২:০৬  ক্রিকেট,বাংলাদেশ ওয়েস্ট ইন্ডিজ সিরিজ,টেস্ট ক্র...   \n",
              "4     ১১ আগস্ট ২০১৫, ০৩:০২                             আন্তর্জাতিক ফুটবল,খেলা   \n",
              "\n",
              "   comment_count                           title  \\\n",
              "0            NaN     ‘৬০০’ করতে পারল না বাংলাদেশ   \n",
              "1            0.0        খেলার বিনিময়ে ক্ষতিপূরণ   \n",
              "2            0.0                    লাউড্রপের না   \n",
              "3            0.0  মিরপুরে এক টেস্টে দুই প্রাপ্তি   \n",
              "4            0.0                  ‘পাগলা’ সান্টো   \n",
              "\n",
              "                                                 url  \\\n",
              "0  http://www.prothom-alo.com/sports/article/1339886   \n",
              "1   http://www.prothom-alo.com/sports/article/838162   \n",
              "2   http://www.prothom-alo.com/sports/article/693637   \n",
              "3  http://www.prothom-alo.com/sports/article/1568079   \n",
              "4   http://www.prothom-alo.com/sports/article/599491   \n",
              "\n",
              "                                             content  __index_level_0__  \\\n",
              "0  দক্ষিণ আফ্রিকার ৫৭৩/৪ রানে ইনিংস ঘোষণার জবাবে...             340598   \n",
              "1  বেতন-ভাতা নিয়ে জটিলতায় ২০১৪ সালে ভারত সফরের ...             222811   \n",
              "2  ২০১৬ ইউরো চ্যাম্পিয়নশিপের চূড়ান্ত পর্বে দলকে ...             177592   \n",
              "3  যখন টেস্টের তৃতীয় দিনের শেষ সেশনের খেলা চলার ক...             384712   \n",
              "4  ফুটবলে গোল উদ্যাপন তো কতভাবেই হয়! এই যুগে ফ্রা...             159094   \n",
              "\n",
              "                                  predicted_category  \n",
              "0  আপনাকে বাংলা সংবাদপত্রের নিবন্ধগুলির একটি ডেটা...  \n",
              "1  আপনাকে বাংলা সংবাদপত্রের নিবন্ধগুলির একটি ডেটা...  \n",
              "2  আপনাকে বাংলা সংবাদপত্রের নিবন্ধগুলির একটি ডেটা...  \n",
              "3  আপনাকে বাংলা সংবাদপত্রের নিবন্ধগুলির একটি ডেটা...  \n",
              "4  আপনাকে বাংলা সংবাদপত্রের নিবন্ধগুলির একটি ডেটা...  "
            ]
          },
          "execution_count": 18,
          "metadata": {},
          "output_type": "execute_result"
        }
      ],
      "source": [
        "ts_results = pd.read_parquet(\"bloom_7b1_ts_classification_results.parquet\")\n",
        "ts_results.head()"
      ]
    },
    {
      "cell_type": "markdown",
      "id": "6loEdqBAiyqc",
      "metadata": {
        "id": "6loEdqBAiyqc"
      },
      "source": [
        "### Chain of Thought"
      ]
    },
    {
      "cell_type": "code",
      "execution_count": null,
      "id": "988685c2-82a9-46aa-a6b0-a801a8fe2ac0",
      "metadata": {
        "colab": {
          "referenced_widgets": [
            "bb43e492f9ef40d684c395ea4ed433e2"
          ]
        },
        "id": "988685c2-82a9-46aa-a6b0-a801a8fe2ac0",
        "outputId": "c60bdb46-0d98-4f40-e9e2-82051b7c5178"
      },
      "outputs": [
        {
          "data": {
            "application/vnd.jupyter.widget-view+json": {
              "model_id": "bb43e492f9ef40d684c395ea4ed433e2",
              "version_major": 2,
              "version_minor": 0
            },
            "text/plain": [
              "  0%|          | 0/495 [00:00<?, ?it/s]"
            ]
          },
          "metadata": {},
          "output_type": "display_data"
        }
      ],
      "source": [
        "import time\n",
        "from tqdm.notebook import tqdm\n",
        "\n",
        "# Assuming df is the original DataFrame and category_translation is defined\n",
        "df['predicted_category'] = None\n",
        "\n",
        "# Try to load the progress from the Parquet file\n",
        "try:\n",
        "    df_progress = pd.read_parquet('bloom_7b1_cot_classification_results.parquet')\n",
        "    start_index = df_progress['predicted_category'].last_valid_index() + 1\n",
        "except (FileNotFoundError, ValueError):\n",
        "    df_progress = df.copy()\n",
        "    start_index = 0\n",
        "\n",
        "\n",
        "for i, row in tqdm(df.iloc[start_index:].iterrows(), initial=start_index, total=len(df) - start_index):\n",
        "    news = row['content']\n",
        "    label = row['category']\n",
        "    label_bn = category_translation.get(label, label)  # Use the translated label or fallback to the original\n",
        "\n",
        "    prompt_input = chain_of_thought + \" নিবন্ধের বিষয়বস্তু: \" + news\n",
        "\n",
        "    try:\n",
        "        df.at[i, 'predicted_category'] = get_bloom_7b1_output(prompt_input, max_new_tokens = 256)\n",
        "    except Exception as e:\n",
        "        print(f\"Error at index {i}: {e}\")\n",
        "        time.sleep(5)\n",
        "\n",
        "    if (i + 1) % 100 == 0:\n",
        "        df.to_parquet('bloom_7b1_cot_classification_results.parquet')\n",
        "\n",
        "# Save final progress\n",
        "df.to_parquet('bloom_7b1_cot_classification_results.parquet')"
      ]
    },
    {
      "cell_type": "code",
      "execution_count": null,
      "id": "c4c4d28f-339a-4c56-9846-e2c2be6a76fc",
      "metadata": {
        "id": "c4c4d28f-339a-4c56-9846-e2c2be6a76fc",
        "outputId": "599cf39c-a916-40b9-ae54-90e937dea391"
      },
      "outputs": [
        {
          "data": {
            "text/html": [
              "<div>\n",
              "<style scoped>\n",
              "    .dataframe tbody tr th:only-of-type {\n",
              "        vertical-align: middle;\n",
              "    }\n",
              "\n",
              "    .dataframe tbody tr th {\n",
              "        vertical-align: top;\n",
              "    }\n",
              "\n",
              "    .dataframe thead th {\n",
              "        text-align: right;\n",
              "    }\n",
              "</style>\n",
              "<table border=\"1\" class=\"dataframe\">\n",
              "  <thead>\n",
              "    <tr style=\"text-align: right;\">\n",
              "      <th></th>\n",
              "      <th>author</th>\n",
              "      <th>category</th>\n",
              "      <th>category_bn</th>\n",
              "      <th>published_date</th>\n",
              "      <th>modification_date</th>\n",
              "      <th>tag</th>\n",
              "      <th>comment_count</th>\n",
              "      <th>title</th>\n",
              "      <th>url</th>\n",
              "      <th>content</th>\n",
              "      <th>__index_level_0__</th>\n",
              "      <th>predicted_category</th>\n",
              "    </tr>\n",
              "  </thead>\n",
              "  <tbody>\n",
              "    <tr>\n",
              "      <th>490</th>\n",
              "      <td>ইকবাল খান, শিক্ষক</td>\n",
              "      <td>education</td>\n",
              "      <td>শিক্ষা</td>\n",
              "      <td>০৫ মার্চ ২০১৪, ০০:৪৭</td>\n",
              "      <td>০৫ মার্চ ২০১৪, ০০:৪৮</td>\n",
              "      <td>পড়াশোনা</td>\n",
              "      <td>0.0</td>\n",
              "      <td>ই ং রে জি</td>\n",
              "      <td>http://www.prothom-alo.com/education/article/1...</td>\n",
              "      <td>আনসিন প্যাসেজ প্রিয় শিক্ষার্থী, আজ রয়েছে একটি...</td>\n",
              "      <td>56033</td>\n",
              "      <td>আপনাকে বাংলা সংবাদপত্রের নিবন্ধগুলির একটি ডেটা...</td>\n",
              "    </tr>\n",
              "    <tr>\n",
              "      <th>491</th>\n",
              "      <td>মোহাম্মদ হেদায়েত উল্যাহ</td>\n",
              "      <td>education</td>\n",
              "      <td>শিক্ষা</td>\n",
              "      <td>২২ মার্চ ২০১৪, ০০:৩৩</td>\n",
              "      <td>২২ মার্চ ২০১৪, ০০:৩৫</td>\n",
              "      <td>পড়াশোনা</td>\n",
              "      <td>0.0</td>\n",
              "      <td>স মা জ বি জ্ঞা ন ১ ম প ত্র</td>\n",
              "      <td>http://www.prothom-alo.com/education/article/1...</td>\n",
              "      <td>বহুনির্বাচনি প্রশ্নোত্তর প্রিয় শিক্ষার্থী, আজ...</td>\n",
              "      <td>60214</td>\n",
              "      <td>আপনাকে বাংলা সংবাদপত্রের নিবন্ধগুলির একটি ডেটা...</td>\n",
              "    </tr>\n",
              "    <tr>\n",
              "      <th>492</th>\n",
              "      <td>বাদল চৌধুরী</td>\n",
              "      <td>education</td>\n",
              "      <td>শিক্ষা</td>\n",
              "      <td>০৮ জুলাই ২০১৩, ০০:৪৮</td>\n",
              "      <td>০৮ জুলাই ২০১৩, ০০:৫০</td>\n",
              "      <td>পড়াশোনা</td>\n",
              "      <td>0.0</td>\n",
              "      <td>জুনিয়র স্কুল সার্টিফিকেট পরীক্ষার প্রস্তুতি</td>\n",
              "      <td>http://www.prothom-alo.com/education/article/2...</td>\n",
              "      <td>প্রিয় জেএসসি পরীক্ষার্থী, শুভেচ্ছা রইল। জাতীয...</td>\n",
              "      <td>1167</td>\n",
              "      <td>আপনাকে বাংলা সংবাদপত্রের নিবন্ধগুলির একটি ডেটা...</td>\n",
              "    </tr>\n",
              "    <tr>\n",
              "      <th>493</th>\n",
              "      <td>মারুফ ইসলাম</td>\n",
              "      <td>education</td>\n",
              "      <td>শিক্ষা</td>\n",
              "      <td>২৫ আগস্ট ২০১৩, ০০:১১</td>\n",
              "      <td>২৫ আগস্ট ২০১৩, ০০:১৬</td>\n",
              "      <td>স্বপ্ন নিয়ে,শিক্ষাঙ্গন</td>\n",
              "      <td>0.0</td>\n",
              "      <td>বিতর্ক করতে মালয়েশিয়া</td>\n",
              "      <td>http://www.prothom-alo.com/education/article/4...</td>\n",
              "      <td>সাত রাউন্ড শেষে তিনটি করে জয় নিশ্চিত করে ঢাকা...</td>\n",
              "      <td>11829</td>\n",
              "      <td>আপনাকে বাংলা সংবাদপত্রের নিবন্ধগুলির একটি ডেটা...</td>\n",
              "    </tr>\n",
              "    <tr>\n",
              "      <th>494</th>\n",
              "      <td>মো. জসিম উদ্দীন বিশ্বাস</td>\n",
              "      <td>education</td>\n",
              "      <td>শিক্ষা</td>\n",
              "      <td>০৫ মে ২০১৪, ০১:৪৩</td>\n",
              "      <td>০৫ মে ২০১৪, ০১:৪৫</td>\n",
              "      <td>পড়াশোনা</td>\n",
              "      <td>0.0</td>\n",
              "      <td>ইংরেজি ২য় পত্র</td>\n",
              "      <td>http://www.prothom-alo.com/education/article/2...</td>\n",
              "      <td>The Prepositionপ্রিয় শিক্ষার্থীরা, আজ ইংরেজি ২...</td>\n",
              "      <td>70843</td>\n",
              "      <td>আপনাকে বাংলা সংবাদপত্রের নিবন্ধগুলির একটি ডেটা...</td>\n",
              "    </tr>\n",
              "  </tbody>\n",
              "</table>\n",
              "</div>"
            ],
            "text/plain": [
              "                      author   category category_bn        published_date  \\\n",
              "490        ইকবাল খান, শিক্ষক  education      শিক্ষা  ০৫ মার্চ ২০১৪, ০০:৪৭   \n",
              "491  মোহাম্মদ হেদায়েত উল্যাহ  education      শিক্ষা  ২২ মার্চ ২০১৪, ০০:৩৩   \n",
              "492              বাদল চৌধুরী  education      শিক্ষা  ০৮ জুলাই ২০১৩, ০০:৪৮   \n",
              "493              মারুফ ইসলাম  education      শিক্ষা  ২৫ আগস্ট ২০১৩, ০০:১১   \n",
              "494  মো. জসিম উদ্দীন বিশ্বাস  education      শিক্ষা     ০৫ মে ২০১৪, ০১:৪৩   \n",
              "\n",
              "        modification_date                     tag  comment_count  \\\n",
              "490  ০৫ মার্চ ২০১৪, ০০:৪৮                 পড়াশোনা            0.0   \n",
              "491  ২২ মার্চ ২০১৪, ০০:৩৫                 পড়াশোনা            0.0   \n",
              "492  ০৮ জুলাই ২০১৩, ০০:৫০                 পড়াশোনা            0.0   \n",
              "493  ২৫ আগস্ট ২০১৩, ০০:১৬  স্বপ্ন নিয়ে,শিক্ষাঙ্গন            0.0   \n",
              "494     ০৫ মে ২০১৪, ০১:৪৫                 পড়াশোনা            0.0   \n",
              "\n",
              "                                            title  \\\n",
              "490                                     ই ং রে জি   \n",
              "491                    স মা জ বি জ্ঞা ন ১ ম প ত্র   \n",
              "492  জুনিয়র স্কুল সার্টিফিকেট পরীক্ষার প্রস্তুতি   \n",
              "493                       বিতর্ক করতে মালয়েশিয়া   \n",
              "494                                ইংরেজি ২য় পত্র   \n",
              "\n",
              "                                                   url  \\\n",
              "490  http://www.prothom-alo.com/education/article/1...   \n",
              "491  http://www.prothom-alo.com/education/article/1...   \n",
              "492  http://www.prothom-alo.com/education/article/2...   \n",
              "493  http://www.prothom-alo.com/education/article/4...   \n",
              "494  http://www.prothom-alo.com/education/article/2...   \n",
              "\n",
              "                                               content  __index_level_0__  \\\n",
              "490  আনসিন প্যাসেজ প্রিয় শিক্ষার্থী, আজ রয়েছে একটি...              56033   \n",
              "491  বহুনির্বাচনি প্রশ্নোত্তর প্রিয় শিক্ষার্থী, আজ...              60214   \n",
              "492  প্রিয় জেএসসি পরীক্ষার্থী, শুভেচ্ছা রইল। জাতীয...               1167   \n",
              "493  সাত রাউন্ড শেষে তিনটি করে জয় নিশ্চিত করে ঢাকা...              11829   \n",
              "494  The Prepositionপ্রিয় শিক্ষার্থীরা, আজ ইংরেজি ২...              70843   \n",
              "\n",
              "                                    predicted_category  \n",
              "490  আপনাকে বাংলা সংবাদপত্রের নিবন্ধগুলির একটি ডেটা...  \n",
              "491  আপনাকে বাংলা সংবাদপত্রের নিবন্ধগুলির একটি ডেটা...  \n",
              "492  আপনাকে বাংলা সংবাদপত্রের নিবন্ধগুলির একটি ডেটা...  \n",
              "493  আপনাকে বাংলা সংবাদপত্রের নিবন্ধগুলির একটি ডেটা...  \n",
              "494  আপনাকে বাংলা সংবাদপত্রের নিবন্ধগুলির একটি ডেটা...  "
            ]
          },
          "execution_count": 20,
          "metadata": {},
          "output_type": "execute_result"
        }
      ],
      "source": [
        "cot_results = pd.read_parquet(\"bloom_7b1_cot_classification_results.parquet\")\n",
        "cot_results.tail()"
      ]
    },
    {
      "cell_type": "markdown",
      "id": "4MsV9YuJyYo9",
      "metadata": {
        "id": "4MsV9YuJyYo9"
      },
      "source": [
        "### Category Prediction"
      ]
    },
    {
      "cell_type": "code",
      "execution_count": null,
      "id": "6bf08d1d-83ca-4aab-9425-7e392fb06641",
      "metadata": {
        "id": "6bf08d1d-83ca-4aab-9425-7e392fb06641"
      },
      "outputs": [],
      "source": [
        "def clean_predicted_category(text, category_translation):\n",
        "    # Check if the text is None\n",
        "    if text is None:\n",
        "        return \"\"\n",
        "\n",
        "    # Check if any category is directly present in the prediction string\n",
        "    for category in category_translation.values():\n",
        "        if category in text:\n",
        "            return category\n",
        "\n",
        "    # If no direct match, extract the text within ** ** and remove spaces\n",
        "    import re\n",
        "    match = re.search(r'\\*\\*([^*]*)\\*\\*', text)\n",
        "    if match:\n",
        "        cleaned_text = match.group(1).replace(\" \", \"\")\n",
        "        # Check if cleaned text matches any category in Bangla\n",
        "        for category in category_translation.values():\n",
        "            if cleaned_text == category:\n",
        "                return category\n",
        "\n",
        "    # If no match found, return None\n",
        "    return None"
      ]
    },
    {
      "cell_type": "code",
      "execution_count": null,
      "id": "9f00b234-53c9-42bf-82c3-6aa30cdd0e5e",
      "metadata": {
        "colab": {
          "base_uri": "https://localhost:8080/",
          "height": 35
        },
        "id": "9f00b234-53c9-42bf-82c3-6aa30cdd0e5e",
        "outputId": "9bd9fb76-6c7f-4e5c-ecfc-714fab6549b4"
      },
      "outputs": [
        {
          "data": {
            "text/plain": [
              "'শিক্ষা'"
            ]
          },
          "execution_count": 22,
          "metadata": {},
          "output_type": "execute_result"
        }
      ],
      "source": [
        "clean_predicted_category(\"এই নিবন্ধটি শিক্ষা বিভাগের অন্তর্ভুক্ত। \\n\\n...\", category_translation)"
      ]
    },
    {
      "cell_type": "code",
      "execution_count": null,
      "id": "28039da9-7a1b-4b6f-884d-1a767f13474a",
      "metadata": {
        "colab": {
          "base_uri": "https://localhost:8080/",
          "height": 35
        },
        "id": "28039da9-7a1b-4b6f-884d-1a767f13474a",
        "outputId": "ba15ac5a-83fd-4227-b573-325b411c080f"
      },
      "outputs": [
        {
          "data": {
            "text/plain": [
              "'খেলা'"
            ]
          },
          "execution_count": 23,
          "metadata": {},
          "output_type": "execute_result"
        }
      ],
      "source": [
        "clean_predicted_category(\"প্রেডিক্টেড ক্যাটাগরি: **খেলা** \\n\\nএই নিবন্ধটি.....\", category_translation)"
      ]
    },
    {
      "cell_type": "code",
      "execution_count": null,
      "id": "225ce158-958e-4335-a435-c7bac600196a",
      "metadata": {
        "colab": {
          "base_uri": "https://localhost:8080/",
          "height": 35
        },
        "id": "225ce158-958e-4335-a435-c7bac600196a",
        "outputId": "61ab2835-a460-42d0-df5d-dfdd11cd9aa3"
      },
      "outputs": [
        {
          "data": {
            "text/plain": [
              "''"
            ]
          },
          "execution_count": 24,
          "metadata": {},
          "output_type": "execute_result"
        }
      ],
      "source": [
        "clean_predicted_category(None, category_translation)"
      ]
    },
    {
      "cell_type": "markdown",
      "id": "7itBLmYNygF9",
      "metadata": {
        "id": "7itBLmYNygF9"
      },
      "source": [
        "### Classification Evaluation"
      ]
    },
    {
      "cell_type": "code",
      "execution_count": null,
      "id": "70277f81-eadf-48df-87b7-cadfa14299cd",
      "metadata": {
        "id": "70277f81-eadf-48df-87b7-cadfa14299cd"
      },
      "outputs": [],
      "source": [
        "import pandas as pd\n",
        "import numpy as np\n",
        "from sklearn.metrics import accuracy_score, precision_score, recall_score, f1_score, roc_auc_score, log_loss\n",
        "from sklearn.preprocessing import LabelBinarizer\n",
        "\n",
        "\n",
        "def evaluate_classification(df):\n",
        "    # Map English category to Bangla\n",
        "    df['category_bn'] = df['category'].map(category_translation)\n",
        "\n",
        "    # Clean the predicted categories\n",
        "    df['cleaned_predicted_category'] = df['predicted_category'].apply(clean_predicted_category, args=(category_translation,))\n",
        "\n",
        "    # Replace None values with an incorrect label to be treated as wrong predictions\n",
        "    df['cleaned_predicted_category'] = df['cleaned_predicted_category'].fillna('wrong_prediction')\n",
        "\n",
        "    # Calculate metrics\n",
        "    y_true = df['category_bn']\n",
        "    y_pred = df['cleaned_predicted_category']\n",
        "\n",
        "    accuracy = accuracy_score(y_true, y_pred)\n",
        "    precision = precision_score(y_true, y_pred, average='macro', zero_division=0)\n",
        "    recall = recall_score(y_true, y_pred, average='macro', zero_division=0)\n",
        "    f1 = f1_score(y_true, y_pred, average='macro', zero_division=0)\n",
        "\n",
        "    # For AUC-ROC and Log Loss, we need to binarize the labels\n",
        "    lb = LabelBinarizer()\n",
        "    y_true_binarized = lb.fit_transform(y_true)\n",
        "    y_pred_binarized = lb.transform(y_pred)\n",
        "\n",
        "    # Not useful in this setup\n",
        "    auc_roc = roc_auc_score(y_true_binarized, y_pred_binarized, average='macro', multi_class='ovr')\n",
        "    logloss = log_loss(y_true_binarized, y_pred_binarized)\n",
        "\n",
        "    metrics = {\n",
        "        'accuracy': accuracy,\n",
        "        'precision': precision,\n",
        "        'recall': recall,\n",
        "        'f1_score': f1,\n",
        "        'auc_roc': auc_roc,\n",
        "        'log_loss': logloss\n",
        "    }\n",
        "\n",
        "    return metrics"
      ]
    },
    {
      "cell_type": "code",
      "execution_count": null,
      "id": "z6zrtczR0v66",
      "metadata": {
        "colab": {
          "base_uri": "https://localhost:8080/"
        },
        "id": "z6zrtczR0v66",
        "outputId": "3f8020bb-f70f-472c-8963-871ac8cbf51f"
      },
      "outputs": [
        {
          "name": "stdout",
          "output_type": "stream",
          "text": [
            "accuracy: 0.1111\n",
            "precision: 0.0123\n",
            "recall: 0.1111\n",
            "f1_score: 0.0222\n",
            "auc_roc: 0.5000\n",
            "log_loss: 30.7011\n"
          ]
        }
      ],
      "source": [
        "zs_df = pd.read_parquet(\"bloom_7b1_zs_classification_results.parquet\")\n",
        "metrics = evaluate_classification(zs_df)\n",
        "for metric, value in metrics.items():\n",
        "    print(f\"{metric}: {value:.4f}\")"
      ]
    },
    {
      "cell_type": "code",
      "execution_count": null,
      "id": "416f757a-2c6c-4fd0-85b8-5c227a4538a8",
      "metadata": {
        "colab": {
          "base_uri": "https://localhost:8080/"
        },
        "id": "416f757a-2c6c-4fd0-85b8-5c227a4538a8",
        "outputId": "e1aa0e79-30e2-4140-9365-071da2cfbc81"
      },
      "outputs": [
        {
          "name": "stdout",
          "output_type": "stream",
          "text": [
            "accuracy: 0.1111\n",
            "precision: 0.0123\n",
            "recall: 0.1111\n",
            "f1_score: 0.0222\n",
            "auc_roc: 0.5000\n",
            "log_loss: 30.7011\n"
          ]
        }
      ],
      "source": [
        "ts_df = pd.read_parquet(\"bloom_7b1_ts_classification_results.parquet\")\n",
        "metrics = evaluate_classification(ts_df)\n",
        "for metric, value in metrics.items():\n",
        "    print(f\"{metric}: {value:.4f}\")"
      ]
    },
    {
      "cell_type": "code",
      "execution_count": null,
      "id": "16db0c10-5ebf-48a0-9381-075749359325",
      "metadata": {
        "colab": {
          "base_uri": "https://localhost:8080/"
        },
        "id": "16db0c10-5ebf-48a0-9381-075749359325",
        "outputId": "455bb139-8154-4f18-946e-4cb94e5e614e"
      },
      "outputs": [
        {
          "name": "stdout",
          "output_type": "stream",
          "text": [
            "accuracy: 0.1111\n",
            "precision: 0.0123\n",
            "recall: 0.1111\n",
            "f1_score: 0.0222\n",
            "auc_roc: 0.5000\n",
            "log_loss: 30.7011\n"
          ]
        }
      ],
      "source": [
        "cot_df = pd.read_parquet(\"bloom_7b1_cot_classification_results.parquet\")\n",
        "metrics = evaluate_classification(cot_df)\n",
        "for metric, value in metrics.items():\n",
        "    print(f\"{metric}: {value:.4f}\")"
      ]
    },
    {
      "cell_type": "markdown",
      "id": "2X8SJq7DA_VZ",
      "metadata": {
        "id": "2X8SJq7DA_VZ"
      },
      "source": [
        "## Bloom-7b1 - Sentiment"
      ]
    },
    {
      "cell_type": "code",
      "execution_count": null,
      "id": "_YcjEz3CO-Ta",
      "metadata": {
        "colab": {
          "referenced_widgets": [
            "3289b45b742843efa844bcfa398942e8",
            "553f30e056364a2eb1fe993b30ae7511",
            "9f06ca3867a64af3b851042b0a5d06e6",
            "2a95d371eab24ff093a00674286fc108",
            "6bb60bfbe04b41f691199962a4ee5dd5"
          ]
        },
        "id": "_YcjEz3CO-Ta",
        "outputId": "25833033-92ee-4d4a-c845-04f6b0f0b3b8"
      },
      "outputs": [
        {
          "data": {
            "application/vnd.jupyter.widget-view+json": {
              "model_id": "3289b45b742843efa844bcfa398942e8",
              "version_major": 2,
              "version_minor": 0
            },
            "text/plain": [
              "Downloading readme:   0%|          | 0.00/2.67k [00:00<?, ?B/s]"
            ]
          },
          "metadata": {},
          "output_type": "display_data"
        },
        {
          "data": {
            "application/vnd.jupyter.widget-view+json": {
              "model_id": "553f30e056364a2eb1fe993b30ae7511",
              "version_major": 2,
              "version_minor": 0
            },
            "text/plain": [
              "Downloading data:   0%|          | 0.00/239k [00:00<?, ?B/s]"
            ]
          },
          "metadata": {},
          "output_type": "display_data"
        },
        {
          "data": {
            "application/vnd.jupyter.widget-view+json": {
              "model_id": "9f06ca3867a64af3b851042b0a5d06e6",
              "version_major": 2,
              "version_minor": 0
            },
            "text/plain": [
              "Downloading data:   0%|          | 0.00/37.6k [00:00<?, ?B/s]"
            ]
          },
          "metadata": {},
          "output_type": "display_data"
        },
        {
          "data": {
            "application/vnd.jupyter.widget-view+json": {
              "model_id": "2a95d371eab24ff093a00674286fc108",
              "version_major": 2,
              "version_minor": 0
            },
            "text/plain": [
              "Generating test split:   0%|          | 0/1000 [00:00<?, ? examples/s]"
            ]
          },
          "metadata": {},
          "output_type": "display_data"
        },
        {
          "data": {
            "application/vnd.jupyter.widget-view+json": {
              "model_id": "6bb60bfbe04b41f691199962a4ee5dd5",
              "version_major": 2,
              "version_minor": 0
            },
            "text/plain": [
              "Generating train split:   0%|          | 0/156 [00:00<?, ? examples/s]"
            ]
          },
          "metadata": {},
          "output_type": "display_data"
        },
        {
          "data": {
            "text/html": [
              "<div>\n",
              "<style scoped>\n",
              "    .dataframe tbody tr th:only-of-type {\n",
              "        vertical-align: middle;\n",
              "    }\n",
              "\n",
              "    .dataframe tbody tr th {\n",
              "        vertical-align: top;\n",
              "    }\n",
              "\n",
              "    .dataframe thead th {\n",
              "        text-align: right;\n",
              "    }\n",
              "</style>\n",
              "<table border=\"1\" class=\"dataframe\">\n",
              "  <thead>\n",
              "    <tr style=\"text-align: right;\">\n",
              "      <th></th>\n",
              "      <th>GENERIC CATEGORIES</th>\n",
              "      <th>CATEGORY</th>\n",
              "      <th>SUB-CATEGORY</th>\n",
              "      <th>PRODUCT</th>\n",
              "      <th>BRAND</th>\n",
              "      <th>ASPECTS</th>\n",
              "      <th>ASPECT COMBO</th>\n",
              "      <th>ENGLISH REVIEW</th>\n",
              "      <th>LABEL</th>\n",
              "      <th>INDIC REVIEW</th>\n",
              "      <th>lang</th>\n",
              "    </tr>\n",
              "  </thead>\n",
              "  <tbody>\n",
              "    <tr>\n",
              "      <th>0</th>\n",
              "      <td>Home</td>\n",
              "      <td>Appliances</td>\n",
              "      <td>Home theater</td>\n",
              "      <td>Soundbars</td>\n",
              "      <td>Boat</td>\n",
              "      <td>Bluetooth/wireless, HDMI, audio output mode, i...</td>\n",
              "      <td>HDMI</td>\n",
              "      <td>This boat's soundbar is still wire-connectivit...</td>\n",
              "      <td>Negative</td>\n",
              "      <td>এই বোটের সাউন্ডবারটি এখনও সব স্পিকারের জন্য তা...</td>\n",
              "      <td>bn</td>\n",
              "    </tr>\n",
              "    <tr>\n",
              "      <th>1</th>\n",
              "      <td>Hobbies</td>\n",
              "      <td>Music</td>\n",
              "      <td>Audio Output</td>\n",
              "      <td>headphones</td>\n",
              "      <td>Zeb Paradise</td>\n",
              "      <td>on-ear, in-ear, wired, bluetooth, earbuds, noi...</td>\n",
              "      <td>Over-ear with mic</td>\n",
              "      <td>Foldable type of microphone with mic and micro...</td>\n",
              "      <td>Positive</td>\n",
              "      <td>মাইক ও মাইক্রো এসডি কার্ড স্লটসহ ভাঁজযোগ্য ধরন...</td>\n",
              "      <td>bn</td>\n",
              "    </tr>\n",
              "    <tr>\n",
              "      <th>2</th>\n",
              "      <td>Entertainment</td>\n",
              "      <td>Apps</td>\n",
              "      <td>Social Media</td>\n",
              "      <td>Social networking</td>\n",
              "      <td>Instagram</td>\n",
              "      <td>find friends, share photos and moments, free m...</td>\n",
              "      <td>daily status</td>\n",
              "      <td>The recently included feature of stories by de...</td>\n",
              "      <td>Positive</td>\n",
              "      <td>24 ঘণ্টার জন্য গল্পের যে বৈশিষ্ট্যটি ডিফল্টভাব...</td>\n",
              "      <td>bn</td>\n",
              "    </tr>\n",
              "    <tr>\n",
              "      <th>3</th>\n",
              "      <td>Transportation</td>\n",
              "      <td>Air</td>\n",
              "      <td>Flights</td>\n",
              "      <td>International</td>\n",
              "      <td>Emirates</td>\n",
              "      <td>luggage allowance, affordable rates, luxury, f...</td>\n",
              "      <td>Rates Luggage allowance</td>\n",
              "      <td>Rates are competitive, almost always the best ...</td>\n",
              "      <td>Positive</td>\n",
              "      <td>\"দরগুলি প্রতিযোগিতামূলক, প্রায় সবসময় বাজারে ...</td>\n",
              "      <td>bn</td>\n",
              "    </tr>\n",
              "    <tr>\n",
              "      <th>4</th>\n",
              "      <td>Home</td>\n",
              "      <td>Appliances</td>\n",
              "      <td>Fan</td>\n",
              "      <td>Exhaust fan</td>\n",
              "      <td>Bajaj Maxima</td>\n",
              "      <td>remove moisture/unpleasant odour, air delivery...</td>\n",
              "      <td>Front Shutter</td>\n",
              "      <td>Looks very big and efficient. But since there ...</td>\n",
              "      <td>Negative</td>\n",
              "      <td>দেখতে অনেক বড় এবং দক্ষ। কিন্তু যেহেতু সামনে কো...</td>\n",
              "      <td>bn</td>\n",
              "    </tr>\n",
              "  </tbody>\n",
              "</table>\n",
              "</div>"
            ],
            "text/plain": [
              "  GENERIC CATEGORIES    CATEGORY  SUB-CATEGORY            PRODUCT  \\\n",
              "0               Home  Appliances  Home theater          Soundbars   \n",
              "1            Hobbies       Music  Audio Output         headphones   \n",
              "2      Entertainment        Apps  Social Media  Social networking   \n",
              "3     Transportation         Air       Flights      International   \n",
              "4               Home  Appliances           Fan        Exhaust fan   \n",
              "\n",
              "          BRAND                                            ASPECTS  \\\n",
              "0          Boat  Bluetooth/wireless, HDMI, audio output mode, i...   \n",
              "1  Zeb Paradise  on-ear, in-ear, wired, bluetooth, earbuds, noi...   \n",
              "2     Instagram  find friends, share photos and moments, free m...   \n",
              "3      Emirates  luggage allowance, affordable rates, luxury, f...   \n",
              "4  Bajaj Maxima  remove moisture/unpleasant odour, air delivery...   \n",
              "\n",
              "              ASPECT COMBO                                     ENGLISH REVIEW  \\\n",
              "0                     HDMI  This boat's soundbar is still wire-connectivit...   \n",
              "1        Over-ear with mic  Foldable type of microphone with mic and micro...   \n",
              "2             daily status  The recently included feature of stories by de...   \n",
              "3  Rates Luggage allowance  Rates are competitive, almost always the best ...   \n",
              "4            Front Shutter  Looks very big and efficient. But since there ...   \n",
              "\n",
              "      LABEL                                       INDIC REVIEW lang  \n",
              "0  Negative  এই বোটের সাউন্ডবারটি এখনও সব স্পিকারের জন্য তা...   bn  \n",
              "1  Positive  মাইক ও মাইক্রো এসডি কার্ড স্লটসহ ভাঁজযোগ্য ধরন...   bn  \n",
              "2  Positive  24 ঘণ্টার জন্য গল্পের যে বৈশিষ্ট্যটি ডিফল্টভাব...   bn  \n",
              "3  Positive  \"দরগুলি প্রতিযোগিতামূলক, প্রায় সবসময় বাজারে ...   bn  \n",
              "4  Negative  দেখতে অনেক বড় এবং দক্ষ। কিন্তু যেহেতু সামনে কো...   bn  "
            ]
          },
          "execution_count": 29,
          "metadata": {},
          "output_type": "execute_result"
        }
      ],
      "source": [
        "import pandas as pd\n",
        "from datasets import load_dataset\n",
        "\n",
        "# Load the Bengali subset of the dataset\n",
        "dataset = load_dataset('mteb/IndicSentiment', 'bn')\n",
        "\n",
        "# Convert to pandas dataframe\n",
        "df = dataset['train'].to_pandas()  # Assuming you want the training split\n",
        "\n",
        "# Display the dataframe\n",
        "df.head()"
      ]
    },
    {
      "cell_type": "code",
      "execution_count": null,
      "id": "vsV2KBsqOxxo",
      "metadata": {
        "id": "vsV2KBsqOxxo"
      },
      "outputs": [],
      "source": [
        "zero_shot = \"\"\"আপনাকে একটি পণ্যের রিভিউ দেওয়া হয়েছে। আপনাকে রিভিউটির অনুভূতি নির্ধারণ করতে হবে, যা পজিটিভ বা নেগেটিভ হতে পারে।\n",
        "\n",
        "\"\"\""
      ]
    },
    {
      "cell_type": "code",
      "execution_count": null,
      "id": "V9VW1yXXO1SS",
      "metadata": {
        "id": "V9VW1yXXO1SS"
      },
      "outputs": [],
      "source": [
        "three_shot = \"\"\"আপনাকে একটি পণ্যের রিভিউ দেওয়া হয়েছে। আপনাকে রিভিউটির অনুভূতি নির্ধারণ করতে হবে, যা পজিটিভ বা নেগেটিভ হতে পারে।\n",
        "\n",
        "### উদাহরণ ১\n",
        "### রিভিউ:\n",
        "দরগুলি প্রতিযোগিতামূলক, প্রায় সবসময় বাজারে সেরা।\n",
        "\n",
        "### অনুভূতি:\n",
        "পজিটিভ\n",
        "\n",
        "### উদাহরণ ২\n",
        "### রিভিউ:\n",
        "অন কল কানেক্টিভিটি অনেক সময় খুব কম হয়।\n",
        "\n",
        "### অনুভূতি:\n",
        "নেগেটিভ\n",
        "\n",
        "### উদাহরণ ৩\n",
        "### রিভিউ:\n",
        "হুক এবং লুপ ডিজাইন সহজেই সেট আপ এবং বহন করা যায়।\n",
        "\n",
        "### অনুভূতি:\n",
        "পজিটিভ\n",
        "\n",
        "### আপনার কাজ\n",
        "\n",
        "\"\"\""
      ]
    },
    {
      "cell_type": "code",
      "execution_count": null,
      "id": "-TPAThWDO4N7",
      "metadata": {
        "id": "-TPAThWDO4N7"
      },
      "outputs": [],
      "source": [
        "chain_of_thought = \"\"\"আপনাকে একটি পণ্যের রিভিউ দেওয়া হয়েছে। আপনাকে রিভিউটির অনুভূতি নির্ধারণ করতে হবে, যা পজিটিভ বা নেগেটিভ হতে পারে। রিভিউটির অনুভূতি নির্ধারণ করতে গিয়ে নিম্নলিখিত ধাপগুলি অনুসরণ করুন:\n",
        "\n",
        "### ধাপ ১: রিভিউ পড়া\n",
        "রিভিউটি পড়ুন এবং এতে কী বলা হয়েছে তা বোঝার চেষ্টা করুন।\n",
        "\n",
        "### ধাপ ২: ইতিবাচক বা নেতিবাচক শব্দ চিহ্নিত করা\n",
        "রিভিউতে ব্যবহৃত ইতিবাচক (ভালো, সন্তুষ্ট, দুর্দান্ত) বা নেতিবাচক (খারাপ, বাজে, নিম্নমানের) শব্দগুলি চিহ্নিত করুন।\n",
        "\n",
        "### ধাপ ৩: অনুভূতি নির্ধারণ\n",
        "রিভিউতে ইতিবাচক শব্দ বেশি হলে পজিটিভ এবং নেতিবাচক শব্দ বেশি হলে নেগেটিভ অনুভূতি নির্ধারণ করুন।\n",
        "\n",
        "### উদাহরণ ১\n",
        "### রিভিউ:\n",
        "দরগুলি প্রতিযোগিতামূলক, প্রায় সবসময় বাজারে সেরা।\n",
        "\n",
        "#### চিন্তাধারা:\n",
        "- ইতিবাচক শব্দ: প্রতিযোগিতামূলক, সেরা\n",
        "- অনুভূতি: পজিটিভ\n",
        "\n",
        "### অনুভূতি:\n",
        "পজিটিভ\n",
        "\n",
        "### উদাহরণ ২\n",
        "### রিভিউ:\n",
        "অন কল কানেক্টিভিটি অনেক সময় খুব কম হয়।\n",
        "\n",
        "#### চিন্তাধারা:\n",
        "- নেতিবাচক শব্দ: অনেক সময় খুব কম\n",
        "- অনুভূতি: নেগেটিভ\n",
        "\n",
        "### অনুভূতি:\n",
        "নেগেটিভ\n",
        "\n",
        "### উদাহরণ ৩\n",
        "### রিভিউ:\n",
        "হুক এবং লুপ ডিজাইন সহজেই সেট আপ এবং বহন করা যায়।\n",
        "\n",
        "#### চিন্তাধারা:\n",
        "- ইতিবাচক শব্দ: সহজেই সেট আপ এবং বহন করা যায়\n",
        "- অনুভূতি: পজিটিভ\n",
        "\n",
        "### অনুভূতি:\n",
        "পজিটিভ\n",
        "\n",
        "### আপনার কাজ\n",
        "\n",
        "\n",
        "\"\"\""
      ]
    },
    {
      "cell_type": "code",
      "execution_count": null,
      "id": "b436daf5-fdf8-4c5f-a769-a95a66d99342",
      "metadata": {
        "id": "b436daf5-fdf8-4c5f-a769-a95a66d99342"
      },
      "outputs": [],
      "source": [
        "category_translation = {\n",
        "    'Positive': 'পজিটিভ',\n",
        "    'Negative': 'নেগেটিভ',\n",
        "}"
      ]
    },
    {
      "cell_type": "code",
      "execution_count": null,
      "id": "2h40hB_RwaL5",
      "metadata": {
        "colab": {
          "base_uri": "https://localhost:8080/",
          "height": 35
        },
        "id": "2h40hB_RwaL5",
        "outputId": "414aa048-6511-447f-9df8-1e37bf77c701"
      },
      "outputs": [
        {
          "data": {
            "text/plain": [
              "'বাংলাদেশের ৫ জন কবির নাম লিস্ট আকারে লিখ।ক. কবি শামসুর রাহমান খ. কবি আল মাহমুদগ. কবি আল মাহমুদ ও কবি শামসুর রাহমান ঘ. কবি আল মাহমুদ, কবি শামসুর রাহমান ও কবি আল মাহমুদউত্তর : ক. কবি শামসুর রাহমান।# বাকি অংশ ছাপা হবে আগামীকালসঠিক উত্তরটি মিলিয়ে নাওবাংলা ১ম পত্র: সঠিক উত্তরঅধ্যায়-১১. ক ২. ক ৩. ক ৪. ক ৫. ক ৬. ক ৭. ক ৮. ক ৯. ক ১০. ক ১১. ক ১২. ক ১৩. ক ১৪. ক ১৫. ক ১৬. ক ১৭. ক ১৮. ক ১৯'"
            ]
          },
          "execution_count": 34,
          "metadata": {},
          "output_type": "execute_result"
        }
      ],
      "source": [
        "get_bloom_7b1_output(\"বাংলাদেশের ৫ জন কবির নাম লিস্ট আকারে লিখ।\")"
      ]
    },
    {
      "cell_type": "markdown",
      "id": "K80-Nb3hNOmq",
      "metadata": {
        "id": "K80-Nb3hNOmq"
      },
      "source": [
        "### Zero-shot"
      ]
    },
    {
      "cell_type": "code",
      "execution_count": null,
      "id": "QzZT2MgoNOmq",
      "metadata": {
        "colab": {
          "base_uri": "https://localhost:8080/",
          "height": 49,
          "referenced_widgets": [
            "a06a2c6ca34443c4b93abc2855f69750"
          ]
        },
        "id": "QzZT2MgoNOmq",
        "outputId": "4e0f3501-85bb-4f0f-d06c-b9badbbb65a2"
      },
      "outputs": [
        {
          "data": {
            "application/vnd.jupyter.widget-view+json": {
              "model_id": "a06a2c6ca34443c4b93abc2855f69750",
              "version_major": 2,
              "version_minor": 0
            },
            "text/plain": [
              "  0%|          | 0/156 [00:00<?, ?it/s]"
            ]
          },
          "metadata": {},
          "output_type": "display_data"
        }
      ],
      "source": [
        "import time\n",
        "from tqdm.notebook import tqdm\n",
        "\n",
        "# Assuming df is the original DataFrame and category_translation is defined\n",
        "df['predicted_category'] = None\n",
        "\n",
        "# Try to load the progress from the Parquet file\n",
        "try:\n",
        "    df_progress = pd.read_parquet('bloom_7b1_zs_sentiment_results.parquet')\n",
        "    start_index = df_progress['predicted_category'].last_valid_index() + 1\n",
        "except (FileNotFoundError, ValueError):\n",
        "    df_progress = df.copy()\n",
        "    start_index = 0\n",
        "\n",
        "\n",
        "for i, row in tqdm(df.iloc[start_index:].iterrows(), initial=start_index, total=len(df) - start_index):\n",
        "    review = row['INDIC REVIEW']\n",
        "    label = row['LABEL']\n",
        "    label_bn = category_translation.get(label, label)  # Use the translated label or fallback to the original\n",
        "\n",
        "    prompt_input = zero_shot + \" ###\\nরিভিউ: \" + review + \"\\n### অনুভূতি:\"\n",
        "\n",
        "    try:\n",
        "        df.at[i, 'predicted_category'] = get_bloom_7b1_output(prompt_input)\n",
        "    except Exception as e:\n",
        "        print(f\"Error at index {i}: {e}\")\n",
        "        time.sleep(5)\n",
        "\n",
        "    if (i + 1) % 100 == 0:\n",
        "        df.to_parquet('bloom_7b1_zs_sentiment_results.parquet')\n",
        "\n",
        "# Save final progress\n",
        "df.to_parquet('bloom_7b1_zs_sentiment_results.parquet')"
      ]
    },
    {
      "cell_type": "code",
      "execution_count": null,
      "id": "yhnlkVNRNOmr",
      "metadata": {
        "id": "yhnlkVNRNOmr",
        "outputId": "92b360ba-f663-4e8c-b9b6-1ac7f472f722"
      },
      "outputs": [
        {
          "data": {
            "text/html": [
              "<div>\n",
              "<style scoped>\n",
              "    .dataframe tbody tr th:only-of-type {\n",
              "        vertical-align: middle;\n",
              "    }\n",
              "\n",
              "    .dataframe tbody tr th {\n",
              "        vertical-align: top;\n",
              "    }\n",
              "\n",
              "    .dataframe thead th {\n",
              "        text-align: right;\n",
              "    }\n",
              "</style>\n",
              "<table border=\"1\" class=\"dataframe\">\n",
              "  <thead>\n",
              "    <tr style=\"text-align: right;\">\n",
              "      <th></th>\n",
              "      <th>GENERIC CATEGORIES</th>\n",
              "      <th>CATEGORY</th>\n",
              "      <th>SUB-CATEGORY</th>\n",
              "      <th>PRODUCT</th>\n",
              "      <th>BRAND</th>\n",
              "      <th>ASPECTS</th>\n",
              "      <th>ASPECT COMBO</th>\n",
              "      <th>ENGLISH REVIEW</th>\n",
              "      <th>LABEL</th>\n",
              "      <th>INDIC REVIEW</th>\n",
              "      <th>lang</th>\n",
              "      <th>predicted_category</th>\n",
              "    </tr>\n",
              "  </thead>\n",
              "  <tbody>\n",
              "    <tr>\n",
              "      <th>151</th>\n",
              "      <td>Home</td>\n",
              "      <td>Appliances</td>\n",
              "      <td>Home theater</td>\n",
              "      <td>Home theater systems</td>\n",
              "      <td>iKall</td>\n",
              "      <td>Bluetooth, USB &amp;HDMI, Dolby, voice control, sp...</td>\n",
              "      <td>Dolby output</td>\n",
              "      <td>IKall has now launched a new home theater syst...</td>\n",
              "      <td>Positive</td>\n",
              "      <td>আইকল এখন ডলবি আউটপুট সহ একটি নতুন হোম থিয়েটার ...</td>\n",
              "      <td>bn</td>\n",
              "      <td>আপনাকে একটি পণ্যের রিভিউ দেওয়া হয়েছে। আপনাকে...</td>\n",
              "    </tr>\n",
              "    <tr>\n",
              "      <th>152</th>\n",
              "      <td>Home</td>\n",
              "      <td>Appliances</td>\n",
              "      <td>Home theater</td>\n",
              "      <td>Tower speakers</td>\n",
              "      <td>iKall</td>\n",
              "      <td>speaker connectivity, speaker feature, wattage...</td>\n",
              "      <td>Wattage</td>\n",
              "      <td>iKall is giving two 500 Watts speakers in its ...</td>\n",
              "      <td>Negative</td>\n",
              "      <td>আইকল তাদের টাওয়ার স্পিকার সেটে 500 ওয়াটের দুটি...</td>\n",
              "      <td>bn</td>\n",
              "      <td>আপনাকে একটি পণ্যের রিভিউ দেওয়া হয়েছে। আপনাকে...</td>\n",
              "    </tr>\n",
              "    <tr>\n",
              "      <th>153</th>\n",
              "      <td>Health/Wellness</td>\n",
              "      <td>Living</td>\n",
              "      <td>Stay/ Experience</td>\n",
              "      <td>Resorts</td>\n",
              "      <td>Vedic Village Spa Resort (Kolkata)</td>\n",
              "      <td>Swimming pool, fitness center, parking, wifi, ...</td>\n",
              "      <td>Wifi, air conditioning, family friendly</td>\n",
              "      <td>The Resort doesn't have wifi, so you have to b...</td>\n",
              "      <td>Negative</td>\n",
              "      <td>রিসোর্টে ওয়াইফাই নেই, তাই আপনাকে আপনার ফোন ইন...</td>\n",
              "      <td>bn</td>\n",
              "      <td>আপনাকে একটি পণ্যের রিভিউ দেওয়া হয়েছে। আপনাকে...</td>\n",
              "    </tr>\n",
              "    <tr>\n",
              "      <th>154</th>\n",
              "      <td>Entertainment</td>\n",
              "      <td>Movies</td>\n",
              "      <td>Genres</td>\n",
              "      <td>Tragedy</td>\n",
              "      <td>The Tunnel</td>\n",
              "      <td>serious, storyline, performances, emotional, m...</td>\n",
              "      <td>Peformances and Moving</td>\n",
              "      <td>Well directed, &amp; acted, &amp; excellent cinematogr...</td>\n",
              "      <td>Positive</td>\n",
              "      <td>ভালো পরিচালনা এবং অভিনয়, একটি অসাধারণ সিনেমাটো...</td>\n",
              "      <td>bn</td>\n",
              "      <td>আপনাকে একটি পণ্যের রিভিউ দেওয়া হয়েছে। আপনাকে...</td>\n",
              "    </tr>\n",
              "    <tr>\n",
              "      <th>155</th>\n",
              "      <td>Fashion</td>\n",
              "      <td>Beauty</td>\n",
              "      <td>Fragrance</td>\n",
              "      <td>Deodorants for women</td>\n",
              "      <td>Dove Advanced Care Antiperspirant Deodorant Se...</td>\n",
              "      <td>alcohol free, skin whitening, odour control, l...</td>\n",
              "      <td>Long lasting</td>\n",
              "      <td>Its a terrible product!! Works only for a few ...</td>\n",
              "      <td>Negative</td>\n",
              "      <td>এটা একটা খারাপ প্রোডাক্ট!! মাত্র কয়েক ঘণ্টা কা...</td>\n",
              "      <td>bn</td>\n",
              "      <td>আপনাকে একটি পণ্যের রিভিউ দেওয়া হয়েছে। আপনাকে...</td>\n",
              "    </tr>\n",
              "  </tbody>\n",
              "</table>\n",
              "</div>"
            ],
            "text/plain": [
              "    GENERIC CATEGORIES    CATEGORY      SUB-CATEGORY               PRODUCT  \\\n",
              "151               Home  Appliances      Home theater  Home theater systems   \n",
              "152               Home  Appliances      Home theater        Tower speakers   \n",
              "153    Health/Wellness      Living  Stay/ Experience               Resorts   \n",
              "154      Entertainment      Movies            Genres               Tragedy   \n",
              "155            Fashion      Beauty         Fragrance  Deodorants for women   \n",
              "\n",
              "                                                 BRAND  \\\n",
              "151                                              iKall   \n",
              "152                                              iKall   \n",
              "153                 Vedic Village Spa Resort (Kolkata)   \n",
              "154                                         The Tunnel   \n",
              "155  Dove Advanced Care Antiperspirant Deodorant Se...   \n",
              "\n",
              "                                               ASPECTS  \\\n",
              "151  Bluetooth, USB &HDMI, Dolby, voice control, sp...   \n",
              "152  speaker connectivity, speaker feature, wattage...   \n",
              "153  Swimming pool, fitness center, parking, wifi, ...   \n",
              "154  serious, storyline, performances, emotional, m...   \n",
              "155  alcohol free, skin whitening, odour control, l...   \n",
              "\n",
              "                                ASPECT COMBO  \\\n",
              "151                             Dolby output   \n",
              "152                                  Wattage   \n",
              "153  Wifi, air conditioning, family friendly   \n",
              "154                   Peformances and Moving   \n",
              "155                             Long lasting   \n",
              "\n",
              "                                        ENGLISH REVIEW     LABEL  \\\n",
              "151  IKall has now launched a new home theater syst...  Positive   \n",
              "152  iKall is giving two 500 Watts speakers in its ...  Negative   \n",
              "153  The Resort doesn't have wifi, so you have to b...  Negative   \n",
              "154  Well directed, & acted, & excellent cinematogr...  Positive   \n",
              "155  Its a terrible product!! Works only for a few ...  Negative   \n",
              "\n",
              "                                          INDIC REVIEW lang  \\\n",
              "151  আইকল এখন ডলবি আউটপুট সহ একটি নতুন হোম থিয়েটার ...   bn   \n",
              "152  আইকল তাদের টাওয়ার স্পিকার সেটে 500 ওয়াটের দুটি...   bn   \n",
              "153  রিসোর্টে ওয়াইফাই নেই, তাই আপনাকে আপনার ফোন ইন...   bn   \n",
              "154  ভালো পরিচালনা এবং অভিনয়, একটি অসাধারণ সিনেমাটো...   bn   \n",
              "155  এটা একটা খারাপ প্রোডাক্ট!! মাত্র কয়েক ঘণ্টা কা...   bn   \n",
              "\n",
              "                                    predicted_category  \n",
              "151  আপনাকে একটি পণ্যের রিভিউ দেওয়া হয়েছে। আপনাকে...  \n",
              "152  আপনাকে একটি পণ্যের রিভিউ দেওয়া হয়েছে। আপনাকে...  \n",
              "153  আপনাকে একটি পণ্যের রিভিউ দেওয়া হয়েছে। আপনাকে...  \n",
              "154  আপনাকে একটি পণ্যের রিভিউ দেওয়া হয়েছে। আপনাকে...  \n",
              "155  আপনাকে একটি পণ্যের রিভিউ দেওয়া হয়েছে। আপনাকে...  "
            ]
          },
          "execution_count": 37,
          "metadata": {},
          "output_type": "execute_result"
        }
      ],
      "source": [
        "zs_results = pd.read_parquet(\"bloom_7b1_zs_sentiment_results.parquet\")\n",
        "zs_results.tail()"
      ]
    },
    {
      "cell_type": "markdown",
      "id": "GyMhLS85w6hw",
      "metadata": {
        "id": "GyMhLS85w6hw"
      },
      "source": [
        "### Three Shot"
      ]
    },
    {
      "cell_type": "code",
      "execution_count": null,
      "id": "_JvqmAIxNOmr",
      "metadata": {
        "colab": {
          "base_uri": "https://localhost:8080/",
          "height": 49,
          "referenced_widgets": [
            "03a1af6e861042a7bfe3a16c62ee29b1"
          ]
        },
        "id": "_JvqmAIxNOmr",
        "outputId": "e1c6bf26-b484-491d-8fd4-2c476d424e92"
      },
      "outputs": [
        {
          "data": {
            "application/vnd.jupyter.widget-view+json": {
              "model_id": "03a1af6e861042a7bfe3a16c62ee29b1",
              "version_major": 2,
              "version_minor": 0
            },
            "text/plain": [
              "  0%|          | 0/156 [00:00<?, ?it/s]"
            ]
          },
          "metadata": {},
          "output_type": "display_data"
        }
      ],
      "source": [
        "import time\n",
        "from tqdm.notebook import tqdm\n",
        "\n",
        "# Assuming df is the original DataFrame and category_translation is defined\n",
        "df['predicted_category'] = None\n",
        "\n",
        "# Try to load the progress from the Parquet file\n",
        "try:\n",
        "    df_progress = pd.read_parquet('bloom_7b1_ts_sentiment_results.parquet')\n",
        "    start_index = df_progress['predicted_category'].last_valid_index() + 1\n",
        "except (FileNotFoundError, ValueError):\n",
        "    df_progress = df.copy()\n",
        "    start_index = 0\n",
        "\n",
        "\n",
        "for i, row in tqdm(df.iloc[start_index:].iterrows(), initial=start_index, total=len(df) - start_index):\n",
        "    review = row['INDIC REVIEW']\n",
        "    label = row['LABEL']\n",
        "    label_bn = category_translation.get(label, label)  # Use the translated label or fallback to the original\n",
        "\n",
        "    prompt_input = three_shot + \" ###\\nরিভিউ: \" + review + \"\\n### অনুভূতি:\"\n",
        "\n",
        "    try:\n",
        "        df.at[i, 'predicted_category'] = get_bloom_7b1_output(prompt_input, max_new_tokens = 256)\n",
        "    except Exception as e:\n",
        "        print(f\"Error at index {i}: {e}\")\n",
        "        time.sleep(5)\n",
        "\n",
        "    if (i + 1) % 100 == 0:\n",
        "        df.to_parquet('bloom_7b1_ts_sentiment_results.parquet')\n",
        "\n",
        "# Save final progress\n",
        "df.to_parquet('bloom_7b1_ts_sentiment_results.parquet')"
      ]
    },
    {
      "cell_type": "code",
      "execution_count": null,
      "id": "kjTrt9yyNOmr",
      "metadata": {
        "id": "kjTrt9yyNOmr",
        "outputId": "62e247e1-b3b4-4a8a-b090-99c570ee8819"
      },
      "outputs": [
        {
          "data": {
            "text/html": [
              "<div>\n",
              "<style scoped>\n",
              "    .dataframe tbody tr th:only-of-type {\n",
              "        vertical-align: middle;\n",
              "    }\n",
              "\n",
              "    .dataframe tbody tr th {\n",
              "        vertical-align: top;\n",
              "    }\n",
              "\n",
              "    .dataframe thead th {\n",
              "        text-align: right;\n",
              "    }\n",
              "</style>\n",
              "<table border=\"1\" class=\"dataframe\">\n",
              "  <thead>\n",
              "    <tr style=\"text-align: right;\">\n",
              "      <th></th>\n",
              "      <th>GENERIC CATEGORIES</th>\n",
              "      <th>CATEGORY</th>\n",
              "      <th>SUB-CATEGORY</th>\n",
              "      <th>PRODUCT</th>\n",
              "      <th>BRAND</th>\n",
              "      <th>ASPECTS</th>\n",
              "      <th>ASPECT COMBO</th>\n",
              "      <th>ENGLISH REVIEW</th>\n",
              "      <th>LABEL</th>\n",
              "      <th>INDIC REVIEW</th>\n",
              "      <th>lang</th>\n",
              "      <th>predicted_category</th>\n",
              "    </tr>\n",
              "  </thead>\n",
              "  <tbody>\n",
              "    <tr>\n",
              "      <th>151</th>\n",
              "      <td>Home</td>\n",
              "      <td>Appliances</td>\n",
              "      <td>Home theater</td>\n",
              "      <td>Home theater systems</td>\n",
              "      <td>iKall</td>\n",
              "      <td>Bluetooth, USB &amp;HDMI, Dolby, voice control, sp...</td>\n",
              "      <td>Dolby output</td>\n",
              "      <td>IKall has now launched a new home theater syst...</td>\n",
              "      <td>Positive</td>\n",
              "      <td>আইকল এখন ডলবি আউটপুট সহ একটি নতুন হোম থিয়েটার ...</td>\n",
              "      <td>bn</td>\n",
              "      <td>আপনাকে একটি পণ্যের রিভিউ দেওয়া হয়েছে। আপনাকে...</td>\n",
              "    </tr>\n",
              "    <tr>\n",
              "      <th>152</th>\n",
              "      <td>Home</td>\n",
              "      <td>Appliances</td>\n",
              "      <td>Home theater</td>\n",
              "      <td>Tower speakers</td>\n",
              "      <td>iKall</td>\n",
              "      <td>speaker connectivity, speaker feature, wattage...</td>\n",
              "      <td>Wattage</td>\n",
              "      <td>iKall is giving two 500 Watts speakers in its ...</td>\n",
              "      <td>Negative</td>\n",
              "      <td>আইকল তাদের টাওয়ার স্পিকার সেটে 500 ওয়াটের দুটি...</td>\n",
              "      <td>bn</td>\n",
              "      <td>আপনাকে একটি পণ্যের রিভিউ দেওয়া হয়েছে। আপনাকে...</td>\n",
              "    </tr>\n",
              "    <tr>\n",
              "      <th>153</th>\n",
              "      <td>Health/Wellness</td>\n",
              "      <td>Living</td>\n",
              "      <td>Stay/ Experience</td>\n",
              "      <td>Resorts</td>\n",
              "      <td>Vedic Village Spa Resort (Kolkata)</td>\n",
              "      <td>Swimming pool, fitness center, parking, wifi, ...</td>\n",
              "      <td>Wifi, air conditioning, family friendly</td>\n",
              "      <td>The Resort doesn't have wifi, so you have to b...</td>\n",
              "      <td>Negative</td>\n",
              "      <td>রিসোর্টে ওয়াইফাই নেই, তাই আপনাকে আপনার ফোন ইন...</td>\n",
              "      <td>bn</td>\n",
              "      <td>আপনাকে একটি পণ্যের রিভিউ দেওয়া হয়েছে। আপনাকে...</td>\n",
              "    </tr>\n",
              "    <tr>\n",
              "      <th>154</th>\n",
              "      <td>Entertainment</td>\n",
              "      <td>Movies</td>\n",
              "      <td>Genres</td>\n",
              "      <td>Tragedy</td>\n",
              "      <td>The Tunnel</td>\n",
              "      <td>serious, storyline, performances, emotional, m...</td>\n",
              "      <td>Peformances and Moving</td>\n",
              "      <td>Well directed, &amp; acted, &amp; excellent cinematogr...</td>\n",
              "      <td>Positive</td>\n",
              "      <td>ভালো পরিচালনা এবং অভিনয়, একটি অসাধারণ সিনেমাটো...</td>\n",
              "      <td>bn</td>\n",
              "      <td>আপনাকে একটি পণ্যের রিভিউ দেওয়া হয়েছে। আপনাকে...</td>\n",
              "    </tr>\n",
              "    <tr>\n",
              "      <th>155</th>\n",
              "      <td>Fashion</td>\n",
              "      <td>Beauty</td>\n",
              "      <td>Fragrance</td>\n",
              "      <td>Deodorants for women</td>\n",
              "      <td>Dove Advanced Care Antiperspirant Deodorant Se...</td>\n",
              "      <td>alcohol free, skin whitening, odour control, l...</td>\n",
              "      <td>Long lasting</td>\n",
              "      <td>Its a terrible product!! Works only for a few ...</td>\n",
              "      <td>Negative</td>\n",
              "      <td>এটা একটা খারাপ প্রোডাক্ট!! মাত্র কয়েক ঘণ্টা কা...</td>\n",
              "      <td>bn</td>\n",
              "      <td>আপনাকে একটি পণ্যের রিভিউ দেওয়া হয়েছে। আপনাকে...</td>\n",
              "    </tr>\n",
              "  </tbody>\n",
              "</table>\n",
              "</div>"
            ],
            "text/plain": [
              "    GENERIC CATEGORIES    CATEGORY      SUB-CATEGORY               PRODUCT  \\\n",
              "151               Home  Appliances      Home theater  Home theater systems   \n",
              "152               Home  Appliances      Home theater        Tower speakers   \n",
              "153    Health/Wellness      Living  Stay/ Experience               Resorts   \n",
              "154      Entertainment      Movies            Genres               Tragedy   \n",
              "155            Fashion      Beauty         Fragrance  Deodorants for women   \n",
              "\n",
              "                                                 BRAND  \\\n",
              "151                                              iKall   \n",
              "152                                              iKall   \n",
              "153                 Vedic Village Spa Resort (Kolkata)   \n",
              "154                                         The Tunnel   \n",
              "155  Dove Advanced Care Antiperspirant Deodorant Se...   \n",
              "\n",
              "                                               ASPECTS  \\\n",
              "151  Bluetooth, USB &HDMI, Dolby, voice control, sp...   \n",
              "152  speaker connectivity, speaker feature, wattage...   \n",
              "153  Swimming pool, fitness center, parking, wifi, ...   \n",
              "154  serious, storyline, performances, emotional, m...   \n",
              "155  alcohol free, skin whitening, odour control, l...   \n",
              "\n",
              "                                ASPECT COMBO  \\\n",
              "151                             Dolby output   \n",
              "152                                  Wattage   \n",
              "153  Wifi, air conditioning, family friendly   \n",
              "154                   Peformances and Moving   \n",
              "155                             Long lasting   \n",
              "\n",
              "                                        ENGLISH REVIEW     LABEL  \\\n",
              "151  IKall has now launched a new home theater syst...  Positive   \n",
              "152  iKall is giving two 500 Watts speakers in its ...  Negative   \n",
              "153  The Resort doesn't have wifi, so you have to b...  Negative   \n",
              "154  Well directed, & acted, & excellent cinematogr...  Positive   \n",
              "155  Its a terrible product!! Works only for a few ...  Negative   \n",
              "\n",
              "                                          INDIC REVIEW lang  \\\n",
              "151  আইকল এখন ডলবি আউটপুট সহ একটি নতুন হোম থিয়েটার ...   bn   \n",
              "152  আইকল তাদের টাওয়ার স্পিকার সেটে 500 ওয়াটের দুটি...   bn   \n",
              "153  রিসোর্টে ওয়াইফাই নেই, তাই আপনাকে আপনার ফোন ইন...   bn   \n",
              "154  ভালো পরিচালনা এবং অভিনয়, একটি অসাধারণ সিনেমাটো...   bn   \n",
              "155  এটা একটা খারাপ প্রোডাক্ট!! মাত্র কয়েক ঘণ্টা কা...   bn   \n",
              "\n",
              "                                    predicted_category  \n",
              "151  আপনাকে একটি পণ্যের রিভিউ দেওয়া হয়েছে। আপনাকে...  \n",
              "152  আপনাকে একটি পণ্যের রিভিউ দেওয়া হয়েছে। আপনাকে...  \n",
              "153  আপনাকে একটি পণ্যের রিভিউ দেওয়া হয়েছে। আপনাকে...  \n",
              "154  আপনাকে একটি পণ্যের রিভিউ দেওয়া হয়েছে। আপনাকে...  \n",
              "155  আপনাকে একটি পণ্যের রিভিউ দেওয়া হয়েছে। আপনাকে...  "
            ]
          },
          "execution_count": 39,
          "metadata": {},
          "output_type": "execute_result"
        }
      ],
      "source": [
        "ts_results = pd.read_parquet(\"bloom_7b1_ts_sentiment_results.parquet\")\n",
        "ts_results.tail()"
      ]
    },
    {
      "cell_type": "markdown",
      "id": "arm537EKw_K1",
      "metadata": {
        "id": "arm537EKw_K1"
      },
      "source": [
        "### Chain of Thought"
      ]
    },
    {
      "cell_type": "code",
      "execution_count": null,
      "id": "-3EfTVbmNOms",
      "metadata": {
        "colab": {
          "base_uri": "https://localhost:8080/",
          "height": 49,
          "referenced_widgets": [
            "0b8134d2eb73466d8b7f69c2db803c15"
          ]
        },
        "id": "-3EfTVbmNOms",
        "outputId": "98ce5f12-28df-4e55-88bf-c67aff5fcd3d"
      },
      "outputs": [
        {
          "data": {
            "application/vnd.jupyter.widget-view+json": {
              "model_id": "0b8134d2eb73466d8b7f69c2db803c15",
              "version_major": 2,
              "version_minor": 0
            },
            "text/plain": [
              "  0%|          | 0/156 [00:00<?, ?it/s]"
            ]
          },
          "metadata": {},
          "output_type": "display_data"
        }
      ],
      "source": [
        "import time\n",
        "from tqdm.notebook import tqdm\n",
        "\n",
        "# Assuming df is the original DataFrame and category_translation is defined\n",
        "df['predicted_category'] = None\n",
        "\n",
        "# Try to load the progress from the Parquet file\n",
        "try:\n",
        "    df_progress = pd.read_parquet('bloom_7b1_cot_sentiment_results.parquet')\n",
        "    start_index = df_progress['predicted_category'].last_valid_index() + 1\n",
        "except (FileNotFoundError, ValueError):\n",
        "    df_progress = df.copy()\n",
        "    start_index = 0\n",
        "\n",
        "\n",
        "for i, row in tqdm(df.iloc[start_index:].iterrows(), initial=start_index, total=len(df) - start_index):\n",
        "    review = row['INDIC REVIEW']\n",
        "    label = row['LABEL']\n",
        "    label_bn = category_translation.get(label, label)  # Use the translated label or fallback to the original\n",
        "\n",
        "    prompt_input = chain_of_thought + \"\\n### রিভিউ: \" + review\n",
        "\n",
        "    try:\n",
        "        df.at[i, 'predicted_category'] = get_bloom_7b1_output(prompt_input, max_new_tokens = 256)\n",
        "    except Exception as e:\n",
        "        print(f\"Error at index {i}: {e}\")\n",
        "        time.sleep(5)\n",
        "\n",
        "    if (i + 1) % 100 == 0:\n",
        "        df.to_parquet('bloom_7b1_cot_sentiment_results.parquet')\n",
        "\n",
        "# Save final progress\n",
        "df.to_parquet('bloom_7b1_cot_sentiment_results.parquet')"
      ]
    },
    {
      "cell_type": "code",
      "execution_count": null,
      "id": "DFnQ73L6NOms",
      "metadata": {
        "id": "DFnQ73L6NOms",
        "outputId": "81fd580e-2834-4806-d132-0fa9d0a3af88"
      },
      "outputs": [
        {
          "data": {
            "text/html": [
              "<div>\n",
              "<style scoped>\n",
              "    .dataframe tbody tr th:only-of-type {\n",
              "        vertical-align: middle;\n",
              "    }\n",
              "\n",
              "    .dataframe tbody tr th {\n",
              "        vertical-align: top;\n",
              "    }\n",
              "\n",
              "    .dataframe thead th {\n",
              "        text-align: right;\n",
              "    }\n",
              "</style>\n",
              "<table border=\"1\" class=\"dataframe\">\n",
              "  <thead>\n",
              "    <tr style=\"text-align: right;\">\n",
              "      <th></th>\n",
              "      <th>GENERIC CATEGORIES</th>\n",
              "      <th>CATEGORY</th>\n",
              "      <th>SUB-CATEGORY</th>\n",
              "      <th>PRODUCT</th>\n",
              "      <th>BRAND</th>\n",
              "      <th>ASPECTS</th>\n",
              "      <th>ASPECT COMBO</th>\n",
              "      <th>ENGLISH REVIEW</th>\n",
              "      <th>LABEL</th>\n",
              "      <th>INDIC REVIEW</th>\n",
              "      <th>lang</th>\n",
              "      <th>predicted_category</th>\n",
              "    </tr>\n",
              "  </thead>\n",
              "  <tbody>\n",
              "    <tr>\n",
              "      <th>151</th>\n",
              "      <td>Home</td>\n",
              "      <td>Appliances</td>\n",
              "      <td>Home theater</td>\n",
              "      <td>Home theater systems</td>\n",
              "      <td>iKall</td>\n",
              "      <td>Bluetooth, USB &amp;HDMI, Dolby, voice control, sp...</td>\n",
              "      <td>Dolby output</td>\n",
              "      <td>IKall has now launched a new home theater syst...</td>\n",
              "      <td>Positive</td>\n",
              "      <td>আইকল এখন ডলবি আউটপুট সহ একটি নতুন হোম থিয়েটার ...</td>\n",
              "      <td>bn</td>\n",
              "      <td>আপনাকে একটি পণ্যের রিভিউ দেওয়া হয়েছে। আপনাকে...</td>\n",
              "    </tr>\n",
              "    <tr>\n",
              "      <th>152</th>\n",
              "      <td>Home</td>\n",
              "      <td>Appliances</td>\n",
              "      <td>Home theater</td>\n",
              "      <td>Tower speakers</td>\n",
              "      <td>iKall</td>\n",
              "      <td>speaker connectivity, speaker feature, wattage...</td>\n",
              "      <td>Wattage</td>\n",
              "      <td>iKall is giving two 500 Watts speakers in its ...</td>\n",
              "      <td>Negative</td>\n",
              "      <td>আইকল তাদের টাওয়ার স্পিকার সেটে 500 ওয়াটের দুটি...</td>\n",
              "      <td>bn</td>\n",
              "      <td>আপনাকে একটি পণ্যের রিভিউ দেওয়া হয়েছে। আপনাকে...</td>\n",
              "    </tr>\n",
              "    <tr>\n",
              "      <th>153</th>\n",
              "      <td>Health/Wellness</td>\n",
              "      <td>Living</td>\n",
              "      <td>Stay/ Experience</td>\n",
              "      <td>Resorts</td>\n",
              "      <td>Vedic Village Spa Resort (Kolkata)</td>\n",
              "      <td>Swimming pool, fitness center, parking, wifi, ...</td>\n",
              "      <td>Wifi, air conditioning, family friendly</td>\n",
              "      <td>The Resort doesn't have wifi, so you have to b...</td>\n",
              "      <td>Negative</td>\n",
              "      <td>রিসোর্টে ওয়াইফাই নেই, তাই আপনাকে আপনার ফোন ইন...</td>\n",
              "      <td>bn</td>\n",
              "      <td>আপনাকে একটি পণ্যের রিভিউ দেওয়া হয়েছে। আপনাকে...</td>\n",
              "    </tr>\n",
              "    <tr>\n",
              "      <th>154</th>\n",
              "      <td>Entertainment</td>\n",
              "      <td>Movies</td>\n",
              "      <td>Genres</td>\n",
              "      <td>Tragedy</td>\n",
              "      <td>The Tunnel</td>\n",
              "      <td>serious, storyline, performances, emotional, m...</td>\n",
              "      <td>Peformances and Moving</td>\n",
              "      <td>Well directed, &amp; acted, &amp; excellent cinematogr...</td>\n",
              "      <td>Positive</td>\n",
              "      <td>ভালো পরিচালনা এবং অভিনয়, একটি অসাধারণ সিনেমাটো...</td>\n",
              "      <td>bn</td>\n",
              "      <td>আপনাকে একটি পণ্যের রিভিউ দেওয়া হয়েছে। আপনাকে...</td>\n",
              "    </tr>\n",
              "    <tr>\n",
              "      <th>155</th>\n",
              "      <td>Fashion</td>\n",
              "      <td>Beauty</td>\n",
              "      <td>Fragrance</td>\n",
              "      <td>Deodorants for women</td>\n",
              "      <td>Dove Advanced Care Antiperspirant Deodorant Se...</td>\n",
              "      <td>alcohol free, skin whitening, odour control, l...</td>\n",
              "      <td>Long lasting</td>\n",
              "      <td>Its a terrible product!! Works only for a few ...</td>\n",
              "      <td>Negative</td>\n",
              "      <td>এটা একটা খারাপ প্রোডাক্ট!! মাত্র কয়েক ঘণ্টা কা...</td>\n",
              "      <td>bn</td>\n",
              "      <td>আপনাকে একটি পণ্যের রিভিউ দেওয়া হয়েছে। আপনাকে...</td>\n",
              "    </tr>\n",
              "  </tbody>\n",
              "</table>\n",
              "</div>"
            ],
            "text/plain": [
              "    GENERIC CATEGORIES    CATEGORY      SUB-CATEGORY               PRODUCT  \\\n",
              "151               Home  Appliances      Home theater  Home theater systems   \n",
              "152               Home  Appliances      Home theater        Tower speakers   \n",
              "153    Health/Wellness      Living  Stay/ Experience               Resorts   \n",
              "154      Entertainment      Movies            Genres               Tragedy   \n",
              "155            Fashion      Beauty         Fragrance  Deodorants for women   \n",
              "\n",
              "                                                 BRAND  \\\n",
              "151                                              iKall   \n",
              "152                                              iKall   \n",
              "153                 Vedic Village Spa Resort (Kolkata)   \n",
              "154                                         The Tunnel   \n",
              "155  Dove Advanced Care Antiperspirant Deodorant Se...   \n",
              "\n",
              "                                               ASPECTS  \\\n",
              "151  Bluetooth, USB &HDMI, Dolby, voice control, sp...   \n",
              "152  speaker connectivity, speaker feature, wattage...   \n",
              "153  Swimming pool, fitness center, parking, wifi, ...   \n",
              "154  serious, storyline, performances, emotional, m...   \n",
              "155  alcohol free, skin whitening, odour control, l...   \n",
              "\n",
              "                                ASPECT COMBO  \\\n",
              "151                             Dolby output   \n",
              "152                                  Wattage   \n",
              "153  Wifi, air conditioning, family friendly   \n",
              "154                   Peformances and Moving   \n",
              "155                             Long lasting   \n",
              "\n",
              "                                        ENGLISH REVIEW     LABEL  \\\n",
              "151  IKall has now launched a new home theater syst...  Positive   \n",
              "152  iKall is giving two 500 Watts speakers in its ...  Negative   \n",
              "153  The Resort doesn't have wifi, so you have to b...  Negative   \n",
              "154  Well directed, & acted, & excellent cinematogr...  Positive   \n",
              "155  Its a terrible product!! Works only for a few ...  Negative   \n",
              "\n",
              "                                          INDIC REVIEW lang  \\\n",
              "151  আইকল এখন ডলবি আউটপুট সহ একটি নতুন হোম থিয়েটার ...   bn   \n",
              "152  আইকল তাদের টাওয়ার স্পিকার সেটে 500 ওয়াটের দুটি...   bn   \n",
              "153  রিসোর্টে ওয়াইফাই নেই, তাই আপনাকে আপনার ফোন ইন...   bn   \n",
              "154  ভালো পরিচালনা এবং অভিনয়, একটি অসাধারণ সিনেমাটো...   bn   \n",
              "155  এটা একটা খারাপ প্রোডাক্ট!! মাত্র কয়েক ঘণ্টা কা...   bn   \n",
              "\n",
              "                                    predicted_category  \n",
              "151  আপনাকে একটি পণ্যের রিভিউ দেওয়া হয়েছে। আপনাকে...  \n",
              "152  আপনাকে একটি পণ্যের রিভিউ দেওয়া হয়েছে। আপনাকে...  \n",
              "153  আপনাকে একটি পণ্যের রিভিউ দেওয়া হয়েছে। আপনাকে...  \n",
              "154  আপনাকে একটি পণ্যের রিভিউ দেওয়া হয়েছে। আপনাকে...  \n",
              "155  আপনাকে একটি পণ্যের রিভিউ দেওয়া হয়েছে। আপনাকে...  "
            ]
          },
          "execution_count": 41,
          "metadata": {},
          "output_type": "execute_result"
        }
      ],
      "source": [
        "cot_results = pd.read_parquet(\"bloom_7b1_cot_sentiment_results.parquet\")\n",
        "cot_results.tail()"
      ]
    },
    {
      "cell_type": "markdown",
      "id": "5KA8YhUFkWvp",
      "metadata": {
        "id": "5KA8YhUFkWvp"
      },
      "source": [
        "### Category Prediction"
      ]
    },
    {
      "cell_type": "code",
      "execution_count": null,
      "id": "OITeulGUNOms",
      "metadata": {
        "id": "OITeulGUNOms"
      },
      "outputs": [],
      "source": [
        "def clean_predicted_category(text, category_translation):\n",
        "    # Check if the text is None\n",
        "    if text is None:\n",
        "        return \"\"\n",
        "\n",
        "    # Check if any category is directly present in the prediction string\n",
        "    for category in category_translation.values():\n",
        "        if category in text:\n",
        "            return category\n",
        "\n",
        "    # If no direct match, extract the text within ** ** and remove spaces\n",
        "    import re\n",
        "    match = re.search(r'\\*\\*([^*]*)\\*\\*', text)\n",
        "    if match:\n",
        "        cleaned_text = match.group(1).replace(\" \", \"\")\n",
        "        # Check if cleaned text matches any category in Bangla\n",
        "        for category in category_translation.values():\n",
        "            if cleaned_text == category:\n",
        "                return category\n",
        "\n",
        "    # If no match found, return None\n",
        "    return \"\""
      ]
    },
    {
      "cell_type": "code",
      "execution_count": null,
      "id": "m4VirxaUNOmt",
      "metadata": {
        "colab": {
          "base_uri": "https://localhost:8080/",
          "height": 35
        },
        "id": "m4VirxaUNOmt",
        "outputId": "f7702214-aa18-4069-c76f-71bef73ad6d5"
      },
      "outputs": [
        {
          "data": {
            "text/plain": [
              "'নেগেটিভ'"
            ]
          },
          "execution_count": 43,
          "metadata": {},
          "output_type": "execute_result"
        }
      ],
      "source": [
        "clean_predicted_category(\"অনুভূতি: **নেগেটিভ** \\n\\nরিভিউতে বলা হয়েছে ...\", category_translation)"
      ]
    },
    {
      "cell_type": "code",
      "execution_count": null,
      "id": "Ag4AbppwNOmt",
      "metadata": {
        "colab": {
          "base_uri": "https://localhost:8080/",
          "height": 35
        },
        "id": "Ag4AbppwNOmt",
        "outputId": "d496e5ec-20d1-4929-a571-d503e9e424de"
      },
      "outputs": [
        {
          "data": {
            "text/plain": [
              "'পজিটিভ'"
            ]
          },
          "execution_count": 44,
          "metadata": {},
          "output_type": "execute_result"
        }
      ],
      "source": [
        "clean_predicted_category(\"অনুভূতি: **পজিটিভ** \\n\\nদরগুলি প্রতিযোগিতামূলক...\", category_translation)"
      ]
    },
    {
      "cell_type": "code",
      "execution_count": null,
      "id": "XCIW6tHRNOmt",
      "metadata": {
        "colab": {
          "base_uri": "https://localhost:8080/",
          "height": 35
        },
        "id": "XCIW6tHRNOmt",
        "outputId": "1b319902-b200-4aab-f9e3-0ee0f709b699"
      },
      "outputs": [
        {
          "data": {
            "text/plain": [
              "''"
            ]
          },
          "execution_count": 45,
          "metadata": {},
          "output_type": "execute_result"
        }
      ],
      "source": [
        "clean_predicted_category(None, category_translation)"
      ]
    },
    {
      "cell_type": "markdown",
      "id": "rMZHHk_Dkcpe",
      "metadata": {
        "id": "rMZHHk_Dkcpe"
      },
      "source": [
        "### Classification Evaluation"
      ]
    },
    {
      "cell_type": "code",
      "execution_count": null,
      "id": "jlWncoYsNOmt",
      "metadata": {
        "id": "jlWncoYsNOmt"
      },
      "outputs": [],
      "source": [
        "import pandas as pd\n",
        "import numpy as np\n",
        "from sklearn.metrics import accuracy_score, precision_score, recall_score, f1_score, roc_auc_score, log_loss\n",
        "from sklearn.preprocessing import LabelBinarizer\n",
        "\n",
        "import numpy as np\n",
        "\n",
        "def update_cleaned_predicted_category(row):\n",
        "    if pd.isna(row['cleaned_predicted_category']) or row['cleaned_predicted_category'] == '':\n",
        "        if row['category_bn'] == 'পজিটিভ':\n",
        "            return 'নেগেটিভ'\n",
        "        elif row['category_bn'] == 'নেগেটিভ':\n",
        "            return 'পজিটিভ'\n",
        "    return row['cleaned_predicted_category']\n",
        "\n",
        "def evaluate_classification(df):\n",
        "    df['category'] = df['LABEL']\n",
        "    # Map English category to Bangla\n",
        "    df['category_bn'] = df['category'].map(category_translation)\n",
        "\n",
        "    # Clean the predicted categories\n",
        "    df['cleaned_predicted_category'] = df['predicted_category'].apply(clean_predicted_category, args=(category_translation,))\n",
        "\n",
        "    # Update the cleaned predicted categories\n",
        "    for index, row in df.iterrows():\n",
        "        old_value = row['cleaned_predicted_category']\n",
        "        if pd.isna(old_value) or old_value == '':\n",
        "            if row['category_bn'] == 'পজিটিভ':\n",
        "                new_value = 'নেগেটিভ'\n",
        "            elif row['category_bn'] == 'নেগেটিভ':\n",
        "                new_value = 'পজিটিভ'\n",
        "            df.at[index, 'cleaned_predicted_category'] = new_value\n",
        "\n",
        "    unique_labels = set(df['category_bn'].unique()).union(set(df['cleaned_predicted_category'].unique()))\n",
        "    if len(unique_labels) > 2:\n",
        "        raise ValueError(f\"Expected binary classification but found multiple labels: {unique_labels}\")\n",
        "\n",
        "    # Calculate metrics\n",
        "    y_true = df['category_bn']\n",
        "    y_pred = df['cleaned_predicted_category']\n",
        "\n",
        "\n",
        "    # Ensure the labels are binary\n",
        "    lb = LabelBinarizer()\n",
        "    y_true_binarized = lb.fit_transform(y_true)\n",
        "    y_pred_binarized = lb.transform(y_pred)\n",
        "\n",
        "    if len(lb.classes_) != 2:\n",
        "        raise ValueError(f\"Expected binary classification but found these classes: {lb.classes_}\")\n",
        "\n",
        "    pos_label = lb.classes_[1]  # The positive label\n",
        "\n",
        "    accuracy = accuracy_score(y_true, y_pred)\n",
        "    precision = precision_score(y_true, y_pred, pos_label=pos_label, average='binary', zero_division=0)\n",
        "    recall = recall_score(y_true, y_pred, pos_label=pos_label, average='binary', zero_division=0)\n",
        "    f1 = f1_score(y_true, y_pred, pos_label=pos_label, average='binary', zero_division=0)\n",
        "    auc_roc = roc_auc_score(y_true_binarized, y_pred_binarized)\n",
        "    logloss = log_loss(y_true_binarized, y_pred_binarized)\n",
        "\n",
        "    metrics = {\n",
        "        'accuracy': accuracy,\n",
        "        'precision': precision,\n",
        "        'recall': recall,\n",
        "        'f1_score': f1,\n",
        "        'auc_roc': auc_roc,\n",
        "        'log_loss': logloss\n",
        "    }\n",
        "\n",
        "    return metrics"
      ]
    },
    {
      "cell_type": "code",
      "execution_count": null,
      "id": "WMRNQ3ymkhi-",
      "metadata": {
        "colab": {
          "base_uri": "https://localhost:8080/"
        },
        "id": "WMRNQ3ymkhi-",
        "outputId": "23a7d4fc-e811-4a16-cbf3-a186afdc8256"
      },
      "outputs": [
        {
          "name": "stdout",
          "output_type": "stream",
          "text": [
            "accuracy: 0.4808\n",
            "precision: 0.4808\n",
            "recall: 1.0000\n",
            "f1_score: 0.6494\n",
            "auc_roc: 0.5000\n",
            "log_loss: 17.9340\n"
          ]
        }
      ],
      "source": [
        "zs_df = pd.read_parquet(\"bloom_7b1_zs_sentiment_results.parquet\")\n",
        "metrics = evaluate_classification(zs_df)\n",
        "for metric, value in metrics.items():\n",
        "    print(f\"{metric}: {value:.4f}\")"
      ]
    },
    {
      "cell_type": "code",
      "execution_count": null,
      "id": "Z6capgVLNOmu",
      "metadata": {
        "colab": {
          "base_uri": "https://localhost:8080/"
        },
        "id": "Z6capgVLNOmu",
        "outputId": "c2bfebec-3eba-41bf-eea0-8b8533767303"
      },
      "outputs": [
        {
          "name": "stdout",
          "output_type": "stream",
          "text": [
            "accuracy: 0.4808\n",
            "precision: 0.4808\n",
            "recall: 1.0000\n",
            "f1_score: 0.6494\n",
            "auc_roc: 0.5000\n",
            "log_loss: 17.9340\n"
          ]
        }
      ],
      "source": [
        "ts_df = pd.read_parquet(\"bloom_7b1_ts_sentiment_results.parquet\")\n",
        "metrics = evaluate_classification(ts_df)\n",
        "for metric, value in metrics.items():\n",
        "    print(f\"{metric}: {value:.4f}\")"
      ]
    },
    {
      "cell_type": "code",
      "execution_count": null,
      "id": "VfCg5iByNOmu",
      "metadata": {
        "colab": {
          "base_uri": "https://localhost:8080/"
        },
        "id": "VfCg5iByNOmu",
        "outputId": "99cc294a-a8e9-41e6-c1af-6aa6d99bc226"
      },
      "outputs": [
        {
          "name": "stdout",
          "output_type": "stream",
          "text": [
            "accuracy: 0.4808\n",
            "precision: 0.4808\n",
            "recall: 1.0000\n",
            "f1_score: 0.6494\n",
            "auc_roc: 0.5000\n",
            "log_loss: 17.9340\n"
          ]
        }
      ],
      "source": [
        "cot_df = pd.read_parquet(\"bloom_7b1_cot_sentiment_results.parquet\")\n",
        "metrics = evaluate_classification(cot_df)\n",
        "for metric, value in metrics.items():\n",
        "    print(f\"{metric}: {value:.4f}\")"
      ]
    },
    {
      "cell_type": "markdown",
      "id": "6XOMeSXT3Py5",
      "metadata": {
        "id": "6XOMeSXT3Py5"
      },
      "source": [
        "## Bloom-7b1 - Summarization"
      ]
    },
    {
      "cell_type": "code",
      "execution_count": null,
      "id": "l9AmOBLyQi4V",
      "metadata": {
        "colab": {
          "referenced_widgets": [
            "47c83a1ddcd346069ef2ea304354b171",
            "15004998afdd4b54835c21c42ed6b80a",
            "4f8606e00f87474a903eba27c372dbe4",
            "d7f89b35182b4eb99fc0172465b11940",
            "e79c389f30fd4462883f5067be3e4ea5",
            "50fd7b1eae0d4cf492d3fc6c2f3339fc"
          ]
        },
        "id": "l9AmOBLyQi4V",
        "outputId": "2ac7e509-7552-4f65-d1f7-e190e8c7c38a"
      },
      "outputs": [
        {
          "data": {
            "application/vnd.jupyter.widget-view+json": {
              "model_id": "47c83a1ddcd346069ef2ea304354b171",
              "version_major": 2,
              "version_minor": 0
            },
            "text/plain": [
              "Downloading data:   0%|          | 0.00/33.4M [00:00<?, ?B/s]"
            ]
          },
          "metadata": {},
          "output_type": "display_data"
        },
        {
          "data": {
            "application/vnd.jupyter.widget-view+json": {
              "model_id": "15004998afdd4b54835c21c42ed6b80a",
              "version_major": 2,
              "version_minor": 0
            },
            "text/plain": [
              "Downloading data:   0%|          | 0.00/3.51M [00:00<?, ?B/s]"
            ]
          },
          "metadata": {},
          "output_type": "display_data"
        },
        {
          "data": {
            "application/vnd.jupyter.widget-view+json": {
              "model_id": "4f8606e00f87474a903eba27c372dbe4",
              "version_major": 2,
              "version_minor": 0
            },
            "text/plain": [
              "Downloading data:   0%|          | 0.00/3.41M [00:00<?, ?B/s]"
            ]
          },
          "metadata": {},
          "output_type": "display_data"
        },
        {
          "data": {
            "application/vnd.jupyter.widget-view+json": {
              "model_id": "d7f89b35182b4eb99fc0172465b11940",
              "version_major": 2,
              "version_minor": 0
            },
            "text/plain": [
              "Generating train split:   0%|          | 0/8102 [00:00<?, ? examples/s]"
            ]
          },
          "metadata": {},
          "output_type": "display_data"
        },
        {
          "data": {
            "application/vnd.jupyter.widget-view+json": {
              "model_id": "e79c389f30fd4462883f5067be3e4ea5",
              "version_major": 2,
              "version_minor": 0
            },
            "text/plain": [
              "Generating test split:   0%|          | 0/1012 [00:00<?, ? examples/s]"
            ]
          },
          "metadata": {},
          "output_type": "display_data"
        },
        {
          "data": {
            "application/vnd.jupyter.widget-view+json": {
              "model_id": "50fd7b1eae0d4cf492d3fc6c2f3339fc",
              "version_major": 2,
              "version_minor": 0
            },
            "text/plain": [
              "Generating validation split:   0%|          | 0/1012 [00:00<?, ? examples/s]"
            ]
          },
          "metadata": {},
          "output_type": "display_data"
        },
        {
          "data": {
            "text/html": [
              "<div>\n",
              "<style scoped>\n",
              "    .dataframe tbody tr th:only-of-type {\n",
              "        vertical-align: middle;\n",
              "    }\n",
              "\n",
              "    .dataframe tbody tr th {\n",
              "        vertical-align: top;\n",
              "    }\n",
              "\n",
              "    .dataframe thead th {\n",
              "        text-align: right;\n",
              "    }\n",
              "</style>\n",
              "<table border=\"1\" class=\"dataframe\">\n",
              "  <thead>\n",
              "    <tr style=\"text-align: right;\">\n",
              "      <th></th>\n",
              "      <th>id</th>\n",
              "      <th>url</th>\n",
              "      <th>title</th>\n",
              "      <th>summary</th>\n",
              "      <th>text</th>\n",
              "    </tr>\n",
              "  </thead>\n",
              "  <tbody>\n",
              "    <tr>\n",
              "      <th>0</th>\n",
              "      <td>news-45155508</td>\n",
              "      <td>https://www.bbc.com/bengali/news-45155508</td>\n",
              "      <td>চীন ১০ লাখ উইগুর মুসলিমকে আটকে রেখেছে - জাতিসং...</td>\n",
              "      <td>জাতিসংঘের মানবাধিকার বিষয়ক কমিটি জেনেভাতে চীন...</td>\n",
              "      <td>আটক স্বজনদের আইডি কার্ড হাতে উইগুর নারীদের বিক...</td>\n",
              "    </tr>\n",
              "    <tr>\n",
              "      <th>1</th>\n",
              "      <td>news-39127107</td>\n",
              "      <td>https://www.bbc.com/bengali/news-39127107</td>\n",
              "      <td>কোকা-কোলা, পেপসি নিষিদ্ধ হলো তামিলনাডুতে</td>\n",
              "      <td>ভারতের দক্ষিণাঞ্চলীয় রাজ্য তামিলনাডুর ব্যবসায...</td>\n",
              "      <td>ভারতের অন্য অঞ্চলেও কোক, পেপসি নিষিদ্ধ করার দা...</td>\n",
              "    </tr>\n",
              "    <tr>\n",
              "      <th>2</th>\n",
              "      <td>news-49141918</td>\n",
              "      <td>https://www.bbc.com/bengali/news-49141918</td>\n",
              "      <td>ডেঙ্গু পরিস্থিতি: হাসপাতালে ভর্তির দরকার না থা...</td>\n",
              "      <td>স্বাস্থ্য অধিদপ্তরের হিসাব মতে, গত ২৪ ঘণ্টায় ...</td>\n",
              "      <td>সোহরাওয়ার্দী হাসপাতালের চিত্র সাধারণত সেপ্টেম...</td>\n",
              "    </tr>\n",
              "    <tr>\n",
              "      <th>3</th>\n",
              "      <td>news-52808250</td>\n",
              "      <td>https://www.bbc.com/bengali/news-52808250</td>\n",
              "      <td>ডোনাল্ড ট্রাম্প: আমেরিকান প্রেসিডেন্টের পোস্ট ...</td>\n",
              "      <td>এই প্রথম সামাজিক মাধ্যমের বিশাল প্রতিষ্ঠান টুই...</td>\n",
              "      <td>ডোনাল্ড ট্রাম্প অভিযোগ করেছেন টু্‌ইটার আমেরিকা...</td>\n",
              "    </tr>\n",
              "    <tr>\n",
              "      <th>4</th>\n",
              "      <td>news-49047323</td>\n",
              "      <td>https://www.bbc.com/bengali/news-49047323</td>\n",
              "      <td>বাংলাদেশে বন্যার প্রকোপ: ২৪ ঘণ্টায় ডুবে যাবে ...</td>\n",
              "      <td>বাংলাদেশের বন্যা পূর্বাভাস এবং সতর্কীকরণ কেন্দ...</td>\n",
              "      <td>বন্যার প্রকোপ ছড়িয়ে পড়ছে সারা দেশে। বাংলাদে...</td>\n",
              "    </tr>\n",
              "  </tbody>\n",
              "</table>\n",
              "</div>"
            ],
            "text/plain": [
              "              id                                        url  \\\n",
              "0  news-45155508  https://www.bbc.com/bengali/news-45155508   \n",
              "1  news-39127107  https://www.bbc.com/bengali/news-39127107   \n",
              "2  news-49141918  https://www.bbc.com/bengali/news-49141918   \n",
              "3  news-52808250  https://www.bbc.com/bengali/news-52808250   \n",
              "4  news-49047323  https://www.bbc.com/bengali/news-49047323   \n",
              "\n",
              "                                               title  \\\n",
              "0  চীন ১০ লাখ উইগুর মুসলিমকে আটকে রেখেছে - জাতিসং...   \n",
              "1           কোকা-কোলা, পেপসি নিষিদ্ধ হলো তামিলনাডুতে   \n",
              "2  ডেঙ্গু পরিস্থিতি: হাসপাতালে ভর্তির দরকার না থা...   \n",
              "3  ডোনাল্ড ট্রাম্প: আমেরিকান প্রেসিডেন্টের পোস্ট ...   \n",
              "4  বাংলাদেশে বন্যার প্রকোপ: ২৪ ঘণ্টায় ডুবে যাবে ...   \n",
              "\n",
              "                                             summary  \\\n",
              "0  জাতিসংঘের মানবাধিকার বিষয়ক কমিটি জেনেভাতে চীন...   \n",
              "1  ভারতের দক্ষিণাঞ্চলীয় রাজ্য তামিলনাডুর ব্যবসায...   \n",
              "2  স্বাস্থ্য অধিদপ্তরের হিসাব মতে, গত ২৪ ঘণ্টায় ...   \n",
              "3  এই প্রথম সামাজিক মাধ্যমের বিশাল প্রতিষ্ঠান টুই...   \n",
              "4  বাংলাদেশের বন্যা পূর্বাভাস এবং সতর্কীকরণ কেন্দ...   \n",
              "\n",
              "                                                text  \n",
              "0  আটক স্বজনদের আইডি কার্ড হাতে উইগুর নারীদের বিক...  \n",
              "1  ভারতের অন্য অঞ্চলেও কোক, পেপসি নিষিদ্ধ করার দা...  \n",
              "2  সোহরাওয়ার্দী হাসপাতালের চিত্র সাধারণত সেপ্টেম...  \n",
              "3  ডোনাল্ড ট্রাম্প অভিযোগ করেছেন টু্‌ইটার আমেরিকা...  \n",
              "4  বন্যার প্রকোপ ছড়িয়ে পড়ছে সারা দেশে। বাংলাদে...  "
            ]
          },
          "execution_count": 50,
          "metadata": {},
          "output_type": "execute_result"
        }
      ],
      "source": [
        "import pandas as pd\n",
        "from datasets import load_dataset\n",
        "\n",
        "# Load the Bengali subset of the dataset\n",
        "dataset = load_dataset('csebuetnlp/xlsum', 'bengali')\n",
        "\n",
        "# Convert to pandas dataframe\n",
        "df = dataset['test'].to_pandas()  # Assuming you want the training split\n",
        "\n",
        "df = df.head(512) # we choose first 512 samples for evaluation\n",
        "\n",
        "# Display the dataframe\n",
        "df.head()"
      ]
    },
    {
      "cell_type": "code",
      "execution_count": null,
      "id": "WiZRCbQsQl-Z",
      "metadata": {
        "id": "WiZRCbQsQl-Z"
      },
      "outputs": [],
      "source": [
        "zero_shot = \"\"\"আপনাকে একটি দীর্ঘ বাংলা বিবরণ দেওয়া হয়েছে। আপনাকে এই বিবরণের ১ বা ২ বাক্যে সারমর্ম লিখতে হবে।\n",
        "\n",
        "\"\"\""
      ]
    },
    {
      "cell_type": "code",
      "execution_count": null,
      "id": "6z7kAJFMQoXu",
      "metadata": {
        "id": "6z7kAJFMQoXu"
      },
      "outputs": [],
      "source": [
        "three_shot = \"\"\"আপনাকে একটি দীর্ঘ বাংলা বিবরণ দেওয়া হয়েছে। আপনাকে এই বিবরণের ১ বা ২ বাক্যে সারমর্ম লিখতে হবে।\n",
        "\n",
        "### উদাহরণ ১\n",
        "### বিবরণ:\n",
        "আলজেরিয়ায় পরীক্ষার হল স্কুলের ছাত্রছাত্রীরা যাতে পরীক্ষার হলে নকল করতে না পারে কিম্বা আগেভাগেই প্রশ্ন না পেতে না পারে সেজন্যে কর্তৃপক্ষ সাময়িকভাবে দেশটিতে সোশাল মিডিয়া বন্ধ করে দিয়েছে। এর আগে স্কুলের পরীক্ষায় অনলাইনের মাধ্যমে বহু প্রশ্ন ফাঁস হয়ে গেলে দেশটিতে কর্তৃপক্ষের তীব্র সমালোচনা হয়। তখন অর্ধেকেরও বেশি শিক্ষার্থীকে দ্বিতীয়বার পরীক্ষায় বসত হয়েছে। সংবাদ মাধ্যমগুলোর খবরে বলা হচ্ছে, জুন মাসে বহু ছাত্রছাত্রীই পরীক্ষার আগে ফেসবুকে ও অন্যান্য সোশাল মিডিয়া থেকে প্রশ্ন হাতে পেয়ে যায়। এর আগের বছরগুলোতেও দেশটিতে এধরনের ঘটনা ঘটেছে। সরকারি কর্মকর্তারা বলছেন, পরীক্ষার্থীদেরকে নকল ও প্রশ্ন ফাঁসের হাত থেকে রক্ষার জন্যেই সোশাল মিডিয়া ব্লক করে দেওয়ার সিদ্ধান্ত নেওয়া হয়েছে।\n",
        "\n",
        "### সারমর্ম:\n",
        "আফ্রিকার দেশ আলজেরিয়ায় পরীক্ষায় নকল ও প্রশ্ন ফাঁস করতে নজিরবিহীন এক উদ্যোগ নিয়েছে।\n",
        "\n",
        "### উদাহরণ ২\n",
        "### বিবরণ:\n",
        "চ্যাম্পিয়ন্স লিগে এক ক্লাবের হয়ে ১০০ গোল করা একমাত্র খেলোয়াড় রোনালদো বুধবার চ্যাম্পিয়ন্স লিগে পিএসজির বিপক্ষে ৩-১এর জয়ে ২ গোল করে এক ক্লাবের হয়ে ১০০ চ্যাম্পিয়ন্স লিগ গোল করা একমাত্র খেলোয়াড় হয়েছেন রেয়াল মাদ্রিদের ক্রিশ্চিয়ানো রোনালদো। এই তালিকায় দ্বিতীয় স্থানে রয়েছেন তাঁর চেয়ে ৪ গোল কম করা লিওনেল মেসি। রিয়াল মাদ্রিদের হয়ে ১০০ গোলের পর রোনালদো চ্যাম্পিয়ন্স লিগে রোনালদোর আরো রেকর্ড রেয়াল মাদ্রিদে যোগ দেয়ার আগে ম্যানচেস্টার ইউনাইটেডের হয়ে করা ১৫টি গোল মিলিয়ে চ্যাম্পিয়ন্স লিগে রোনালদোর মোট গোল ১১৬টি। যা দ্বিতীয় স্থানে থাকা মেসির চেয়ে ১৯টি বেশী। চ্যাম্পিয়ন্স লিগের ইতিহাসে এই টুর্নামেন্টে খেলা ১৩৭টি ক্লাবের ১১৮টির মোট গোলসংখ্যা রোনালদোর একার গোলের চেয়ে কম।\n",
        "\n",
        "### সারমর্ম:\n",
        "১০০ গোলের ক্লাবে একমাত্র সদস্য - ক্রিশ্চিয়ানো রোনালদো।\n",
        "\n",
        "### উদাহরণ ৩\n",
        "### বিবরণ:\n",
        "বৈরুতের বন্দরের নিকটবর্তী অঞ্চল সবচেয়ে বেশি ক্ষতিগ্রস্ত হয় বিস্ফোরণে এমনও খবর পাওয়া যাচ্ছে যে কয়েক'শো কিলোমিটার দূরের সাইপ্রাসেও ঐ বিস্ফোরণের আঁচ পাওয়া গেছে। কর্মকর্তারা বলছেন এই বিস্ফোরণ দুর্ঘটনা। পরিকল্পিতভাবে এই বিস্ফোরণ ঘটানো হয়নি। তারা বলছেন গুদামে ছয় বছর ধরে মজুত রাখা অত্যন্ত বিপদজনক বিস্ফোরক থেকে এই দুর্ঘটনা ঘটেছে। তবে ঠিক কী কারণে এই বিস্ফোরণ ঘটেছে, তা পরিস্কার নয়। ক্ষতিগ্রস্থ ভবনের সামনে লেবাননের 'লেবানিজ এমিগ্র্যান্ট' স্ট্যাচু বহু ঘরবাড়ি ধ্বংস হয়ে গেছে বিস্ফোরণে বিস্ফোরণে পর বৈরুতের আকাশে ধোঁয়া আহত এক ব্যক্তিকে সরিয়ে নিয়ে যাচ্ছেন উদ্ধারকারীরা বিস্ফোরণে আহত হয়েছেন হাজার হাজার মানুষ স্থানীয় সংবাদমাধ্যমের খবরে ধ্বংসস্তুপের নিচে মানুষকে আটকা পড়ে থাকতে দেখা গেছে। বিস্ফোরণের পর রাস্তাগুলোও যেন ধ্বংসস্তূপে পরিণত হয় বিস্ফোরণের স্থান থেকে নির্গত হচ্ছে ধোঁয়া সব ছবির কপিরাইট রয়েছে\n",
        "\n",
        "### সারমর্ম:\n",
        "বিশাল এক বিস্ফোরণ ব্যাপক ধ্বংসযজ্ঞ চালিয়েছে লেবাননের রাজধানী বৈরুতে। বহু মানুষ মারা গেছে, আহত হয়েছে কয়েক হাজারের বেশি।\n",
        "\n",
        "### আপনার কাজ\n",
        "\n",
        "\"\"\""
      ]
    },
    {
      "cell_type": "code",
      "execution_count": null,
      "id": "zC1M4alJQqJL",
      "metadata": {
        "id": "zC1M4alJQqJL"
      },
      "outputs": [],
      "source": [
        "chain_of_thought = \"\"\"আপনাকে একটি দীর্ঘ বাংলা বিবরণ দেওয়া হয়েছে। আপনাকে এই বিবরণের ১ বা ২ বাক্যে সারমর্ম লিখতে হবে। সারমর্ম লিখতে গিয়ে নিম্নলিখিত ধাপগুলি অনুসরণ করুন:\n",
        "\n",
        "### ধাপ ১: মূল বিষয়বস্তু বোঝা\n",
        "বিবরণটি পড়ুন এবং এর মূল বিষয় বা ঘটনাটি বোঝার চেষ্টা করুন। প্রধান তথ্য বা ঘটনা শনাক্ত করুন যা বিবরণের সারমর্ম হতে পারে।\n",
        "\n",
        "### ধাপ ২: প্রধান তথ্য চিহ্নিত করা\n",
        "বিবরণের প্রধান তথ্য বা ঘটনার সংক্ষিপ্ত রূপ বের করুন। কোন বিষয়গুলি সবচেয়ে গুরুত্বপূর্ণ তা চিহ্নিত করুন।\n",
        "\n",
        "### ধাপ ৩: সারমর্ম লেখা\n",
        "বিবরণের প্রধান তথ্যগুলি ব্যবহার করে ১ বা ২ বাক্যে সারমর্ম লিখুন। এটি সংক্ষিপ্ত এবং সুনির্দিষ্ট হতে হবে।\n",
        "\n",
        "### উদাহরণ ১\n",
        "### বিবরণ:\n",
        "আলজেরিয়ায় পরীক্ষার হল স্কুলের ছাত্রছাত্রীরা যাতে পরীক্ষার হলে নকল করতে না পারে কিম্বা আগেভাগেই প্রশ্ন না পেতে না পারে সেজন্যে কর্তৃপক্ষ সাময়িকভাবে দেশটিতে সোশাল মিডিয়া বন্ধ করে দিয়েছে। এর আগে স্কুলের পরীক্ষায় অনলাইনের মাধ্যমে বহু প্রশ্ন ফাঁস হয়ে গেলে দেশটিতে কর্তৃপক্ষের তীব্র সমালোচনা হয়। তখন অর্ধেকেরও বেশি শিক্ষার্থীকে দ্বিতীয়বার পরীক্ষায় বসত হয়েছে। সংবাদ মাধ্যমগুলোর খবরে বলা হচ্ছে, জুন মাসে বহু ছাত্রছাত্রীই পরীক্ষার আগে ফেসবুকে ও অন্যান্য সোশাল মিডিয়া থেকে প্রশ্ন হাতে পেয়ে যায়। এর আগের বছরগুলোতেও দেশটিতে এধরনের ঘটনা ঘটেছে। সরকারি কর্মকর্তারা বলছেন, পরীক্ষার্থীদেরকে নকল ও প্রশ্ন ফাঁসের হাত থেকে রক্ষার জন্যেই সোশাল মিডিয়া ব্লক করে দেওয়ার সিদ্ধান্ত নেওয়া হয়েছে।\n",
        "\n",
        "#### চিন্তাধারা:\n",
        "- মূল বিষয়বস্তু: পরীক্ষার হলে নকল ও প্রশ্ন ফাঁস ঠেকাতে সোশাল মিডিয়া বন্ধ।\n",
        "- প্রধান তথ্য: নকল ও প্রশ্ন ফাঁস ঠেকাতে আলজেরিয়ায় সোশাল মিডিয়া সাময়িকভাবে বন্ধ।\n",
        "\n",
        "### সারমর্ম:\n",
        "আফ্রিকার দেশ আলজেরিয়ায় পরীক্ষায় নকল ও প্রশ্ন ফাঁস করতে নজিরবিহীন এক উদ্যোগ নিয়েছে।\n",
        "\n",
        "### উদাহরণ ২\n",
        "### বিবরণ:\n",
        "চ্যাম্পিয়ন্স লিগে এক ক্লাবের হয়ে ১০০ গোল করা একমাত্র খেলোয়াড় রোনালদো বুধবার চ্যাম্পিয়ন্স লিগে পিএসজির বিপক্ষে ৩-১এর জয়ে ২ গোল করে এক ক্লাবের হয়ে ১০০ চ্যাম্পিয়ন্স লিগ গোল করা একমাত্র খেলোয়াড় হয়েছেন রেয়াল মাদ্রিদের ক্রিশ্চিয়ানো রোনালদো। এই তালিকায় দ্বিতীয় স্থানে রয়েছেন তাঁর চেয়ে ৪ গোল কম করা লিওনেল মেসি। রিয়াল মাদ্রিদের হয়ে ১০০ গোলের পর রোনালদো চ্যাম্পিয়ন্স লিগে রোনালদোর আরো রেকর্ড রেয়াল মাদ্রিদে যোগ দেয়ার আগে ম্যানচেস্টার ইউনাইটেডের হয়ে করা ১৫টি গোল মিলিয়ে চ্যাম্পিয়ন্স লিগে রোনালদোর মোট গোল ১১৬টি। যা দ্বিতীয় স্থানে থাকা মেসির চেয়ে ১৯টি বেশী। চ্যাম্পিয়ন্স লিগের ইতিহাসে এই টুর্নামেন্টে খেলা ১৩৭টি ক্লাবের ১১৮টির মোট গোলসংখ্যা রোনালদোর একার গোলের চেয়ে কম।\n",
        "\n",
        "#### চিন্তাধারা:\n",
        "- মূল বিষয়বস্তু: রোনালদোর ১০০ গোল করা।\n",
        "- প্রধান তথ্য: এক ক্লাবের হয়ে ১০০ গোল করা একমাত্র খেলোয়াড় রোনালদো।\n",
        "\n",
        "### সারমর্ম:\n",
        "১০০ গোলের ক্লাবে একমাত্র সদস্য - ক্রিশ্চিয়ানো রোনালদো।\n",
        "\n",
        "### উদাহরণ ৩\n",
        "### বিবরণ:\n",
        "বৈরুতের বন্দরের নিকটবর্তী অঞ্চল সবচেয়ে বেশি ক্ষতিগ্রস্ত হয় বিস্ফোরণে এমনও খবর পাওয়া যাচ্ছে যে কয়েক'শো কিলোমিটার দূরের সাইপ্রাসেও ঐ বিস্ফোরণের আঁচ পাওয়া গেছে। কর্মকর্তারা বলছেন এই বিস্ফোরণ দুর্ঘটনা। পরিকল্পিতভাবে এই বিস্ফোরণ ঘটানো হয়নি। তারা বলছেন গুদামে ছয় বছর ধরে মজুত রাখা অত্যন্ত বিপদজনক বিস্ফোরক থেকে এই দুর্ঘটনা ঘটেছে। তবে ঠিক কী কারণে এই বিস্ফোরণ ঘটেছে, তা পরিস্কার নয়। ক্ষতিগ্রস্থ ভবনের সামনে লেবাননের 'লেবানিজ এমিগ্র্যান্ট' স্ট্যাচু বহু ঘরবাড়ি ধ্বংস হয়ে গেছে বিস্ফোরণে বিস্ফোরণে পর বৈরুতের আকাশে ধোঁয়া আহত এক ব্যক্তিকে সরিয়ে নিয়ে যাচ্ছেন উদ্ধারকারীরা বিস্ফোরণে আহত হয়েছেন হাজার হাজার মানুষ স্থানীয় সংবাদমাধ্যমের খবরে ধ্বংসস্তুপের নিচে মানুষকে আটকা পড়ে থাকতে দেখা গেছে। বিস্ফোরণের পর রাস্তাগুলোও যেন ধ্বংসস্তূপে পরিণত হয় বিস্ফোরণের স্থান থেকে নির্গত হচ্ছে ধোঁয়া সব ছবির কপিরাইট রয়েছে\n",
        "\n",
        "#### চিন্তাধারা:\n",
        "- মূল বিষয়বস্তু: বৈরুতের বিস্ফোরণ।\n",
        "- প্রধান তথ্য: বিস্ফোরণে বৈরুতে ব্যাপক ধ্বংসযজ্ঞ ও বহু মানুষ আহত।\n",
        "\n",
        "### সারমর্ম:\n",
        "বিশাল এক বিস্ফোরণ ব্যাপক ধ্বংসযজ্ঞ চালিয়েছে লেবাননের রাজধানী বৈরুতে। বহু মানুষ মারা গেছে, আহত হয়েছে কয়েক হাজারের বেশি।\n",
        "\n",
        "### আপনার কাজ\n",
        "\n",
        "\"\"\""
      ]
    },
    {
      "cell_type": "code",
      "execution_count": null,
      "id": "Sybp_NhL3I49",
      "metadata": {
        "colab": {
          "base_uri": "https://localhost:8080/",
          "height": 35
        },
        "id": "Sybp_NhL3I49",
        "outputId": "366d429d-feaf-414f-f8ef-000a3de34238"
      },
      "outputs": [
        {
          "data": {
            "text/plain": [
              "'বাংলাদেশের ৫ জন কবির নাম লিস্ট আকারে লিখ।ক. কবি শামসুর রাহমান খ. কবি আল মাহমুদগ. কবি আল মাহমুদ ও কবি শামসুর রাহমান ঘ. কবি আল মাহমুদ, কবি শামসুর রাহমান ও কবি আল মাহমুদউত্তর : ক. কবি শামসুর রাহমান।# বাকি অংশ ছাপা হবে আগামীকালসঠিক উত্তরটি মিলিয়ে নাওবাংলা ১ম পত্র: সঠিক উত্তরঅধ্যায়-১১. ক ২. ক ৩. ক ৪. ক ৫. ক ৬. ক ৭. ক ৮. ক ৯. ক ১০. ক ১১. ক ১২. ক ১৩. ক ১৪. ক ১৫. ক ১৬. ক ১৭. ক ১৮. ক ১৯'"
            ]
          },
          "execution_count": 54,
          "metadata": {},
          "output_type": "execute_result"
        }
      ],
      "source": [
        "get_bloom_7b1_output(\"বাংলাদেশের ৫ জন কবির নাম লিস্ট আকারে লিখ।\")"
      ]
    },
    {
      "cell_type": "markdown",
      "id": "Prmq-TefQajG",
      "metadata": {
        "id": "Prmq-TefQajG"
      },
      "source": [
        "### Zero-shot"
      ]
    },
    {
      "cell_type": "code",
      "execution_count": null,
      "id": "xsuh6V3mQajG",
      "metadata": {
        "colab": {
          "base_uri": "https://localhost:8080/",
          "height": 49,
          "referenced_widgets": [
            "c2ee213b1389434886c4a47f66b9a048"
          ]
        },
        "id": "xsuh6V3mQajG",
        "outputId": "bc240cee-8572-4991-bcdc-de138fc7ef00"
      },
      "outputs": [
        {
          "data": {
            "application/vnd.jupyter.widget-view+json": {
              "model_id": "c2ee213b1389434886c4a47f66b9a048",
              "version_major": 2,
              "version_minor": 0
            },
            "text/plain": [
              "  0%|          | 0/512 [00:00<?, ?it/s]"
            ]
          },
          "metadata": {},
          "output_type": "display_data"
        }
      ],
      "source": [
        "import time\n",
        "from tqdm.notebook import tqdm\n",
        "\n",
        "# Assuming df is the original DataFrame and category_translation is defined\n",
        "df['predicted_summary'] = None\n",
        "\n",
        "# Try to load the progress from the Parquet file\n",
        "try:\n",
        "    df_progress = pd.read_parquet('bloom_7b1_zs_summary_results.parquet')\n",
        "    start_index = df_progress['predicted_summary'].last_valid_index() + 1\n",
        "except (FileNotFoundError, ValueError):\n",
        "    df_progress = df.copy()\n",
        "    start_index = 0\n",
        "\n",
        "\n",
        "for i, row in tqdm(df.iloc[start_index:].iterrows(), initial=start_index, total=len(df) - start_index):\n",
        "    text_body = row['text']\n",
        "\n",
        "    prompt_input = zero_shot + \" বিবরণ: \" + text_body + \"\\nসারমর্ম:\"\n",
        "\n",
        "    try:\n",
        "        df.at[i, 'predicted_summary'] = get_bloom_7b1_output(prompt_input)\n",
        "    except Exception as e:\n",
        "        print(f\"Error at index {i}: {e}\")\n",
        "        time.sleep(5)\n",
        "\n",
        "    if (i + 1) % 100 == 0:\n",
        "        df.to_parquet('bloom_7b1_zs_summary_results.parquet')\n",
        "\n",
        "# Save final progress\n",
        "df.to_parquet('bloom_7b1_zs_summary_results.parquet')"
      ]
    },
    {
      "cell_type": "code",
      "execution_count": null,
      "id": "dZYR7ZCAQajG",
      "metadata": {
        "colab": {
          "base_uri": "https://localhost:8080/",
          "height": 553
        },
        "id": "dZYR7ZCAQajG",
        "outputId": "81121bcc-d7fc-4fa4-b2ea-cdc8d449c213"
      },
      "outputs": [
        {
          "data": {
            "text/html": [
              "<div>\n",
              "<style scoped>\n",
              "    .dataframe tbody tr th:only-of-type {\n",
              "        vertical-align: middle;\n",
              "    }\n",
              "\n",
              "    .dataframe tbody tr th {\n",
              "        vertical-align: top;\n",
              "    }\n",
              "\n",
              "    .dataframe thead th {\n",
              "        text-align: right;\n",
              "    }\n",
              "</style>\n",
              "<table border=\"1\" class=\"dataframe\">\n",
              "  <thead>\n",
              "    <tr style=\"text-align: right;\">\n",
              "      <th></th>\n",
              "      <th>id</th>\n",
              "      <th>url</th>\n",
              "      <th>title</th>\n",
              "      <th>summary</th>\n",
              "      <th>text</th>\n",
              "      <th>predicted_summary</th>\n",
              "    </tr>\n",
              "  </thead>\n",
              "  <tbody>\n",
              "    <tr>\n",
              "      <th>0</th>\n",
              "      <td>news-45155508</td>\n",
              "      <td>https://www.bbc.com/bengali/news-45155508</td>\n",
              "      <td>চীন ১০ লাখ উইগুর মুসলিমকে আটকে রেখেছে - জাতিসং...</td>\n",
              "      <td>জাতিসংঘের মানবাধিকার বিষয়ক কমিটি জেনেভাতে চীন...</td>\n",
              "      <td>আটক স্বজনদের আইডি কার্ড হাতে উইগুর নারীদের বিক...</td>\n",
              "      <td>আপনাকে একটি দীর্ঘ বাংলা বিবরণ দেওয়া হয়েছে। আ...</td>\n",
              "    </tr>\n",
              "    <tr>\n",
              "      <th>1</th>\n",
              "      <td>news-39127107</td>\n",
              "      <td>https://www.bbc.com/bengali/news-39127107</td>\n",
              "      <td>কোকা-কোলা, পেপসি নিষিদ্ধ হলো তামিলনাডুতে</td>\n",
              "      <td>ভারতের দক্ষিণাঞ্চলীয় রাজ্য তামিলনাডুর ব্যবসায...</td>\n",
              "      <td>ভারতের অন্য অঞ্চলেও কোক, পেপসি নিষিদ্ধ করার দা...</td>\n",
              "      <td>আপনাকে একটি দীর্ঘ বাংলা বিবরণ দেওয়া হয়েছে। আ...</td>\n",
              "    </tr>\n",
              "    <tr>\n",
              "      <th>2</th>\n",
              "      <td>news-49141918</td>\n",
              "      <td>https://www.bbc.com/bengali/news-49141918</td>\n",
              "      <td>ডেঙ্গু পরিস্থিতি: হাসপাতালে ভর্তির দরকার না থা...</td>\n",
              "      <td>স্বাস্থ্য অধিদপ্তরের হিসাব মতে, গত ২৪ ঘণ্টায় ...</td>\n",
              "      <td>সোহরাওয়ার্দী হাসপাতালের চিত্র সাধারণত সেপ্টেম...</td>\n",
              "      <td>আপনাকে একটি দীর্ঘ বাংলা বিবরণ দেওয়া হয়েছে। আ...</td>\n",
              "    </tr>\n",
              "    <tr>\n",
              "      <th>3</th>\n",
              "      <td>news-52808250</td>\n",
              "      <td>https://www.bbc.com/bengali/news-52808250</td>\n",
              "      <td>ডোনাল্ড ট্রাম্প: আমেরিকান প্রেসিডেন্টের পোস্ট ...</td>\n",
              "      <td>এই প্রথম সামাজিক মাধ্যমের বিশাল প্রতিষ্ঠান টুই...</td>\n",
              "      <td>ডোনাল্ড ট্রাম্প অভিযোগ করেছেন টু্‌ইটার আমেরিকা...</td>\n",
              "      <td>আপনাকে একটি দীর্ঘ বাংলা বিবরণ দেওয়া হয়েছে। আ...</td>\n",
              "    </tr>\n",
              "    <tr>\n",
              "      <th>4</th>\n",
              "      <td>news-49047323</td>\n",
              "      <td>https://www.bbc.com/bengali/news-49047323</td>\n",
              "      <td>বাংলাদেশে বন্যার প্রকোপ: ২৪ ঘণ্টায় ডুবে যাবে ...</td>\n",
              "      <td>বাংলাদেশের বন্যা পূর্বাভাস এবং সতর্কীকরণ কেন্দ...</td>\n",
              "      <td>বন্যার প্রকোপ ছড়িয়ে পড়ছে সারা দেশে। বাংলাদে...</td>\n",
              "      <td>আপনাকে একটি দীর্ঘ বাংলা বিবরণ দেওয়া হয়েছে। আ...</td>\n",
              "    </tr>\n",
              "  </tbody>\n",
              "</table>\n",
              "</div>"
            ],
            "text/plain": [
              "              id                                        url  \\\n",
              "0  news-45155508  https://www.bbc.com/bengali/news-45155508   \n",
              "1  news-39127107  https://www.bbc.com/bengali/news-39127107   \n",
              "2  news-49141918  https://www.bbc.com/bengali/news-49141918   \n",
              "3  news-52808250  https://www.bbc.com/bengali/news-52808250   \n",
              "4  news-49047323  https://www.bbc.com/bengali/news-49047323   \n",
              "\n",
              "                                               title  \\\n",
              "0  চীন ১০ লাখ উইগুর মুসলিমকে আটকে রেখেছে - জাতিসং...   \n",
              "1           কোকা-কোলা, পেপসি নিষিদ্ধ হলো তামিলনাডুতে   \n",
              "2  ডেঙ্গু পরিস্থিতি: হাসপাতালে ভর্তির দরকার না থা...   \n",
              "3  ডোনাল্ড ট্রাম্প: আমেরিকান প্রেসিডেন্টের পোস্ট ...   \n",
              "4  বাংলাদেশে বন্যার প্রকোপ: ২৪ ঘণ্টায় ডুবে যাবে ...   \n",
              "\n",
              "                                             summary  \\\n",
              "0  জাতিসংঘের মানবাধিকার বিষয়ক কমিটি জেনেভাতে চীন...   \n",
              "1  ভারতের দক্ষিণাঞ্চলীয় রাজ্য তামিলনাডুর ব্যবসায...   \n",
              "2  স্বাস্থ্য অধিদপ্তরের হিসাব মতে, গত ২৪ ঘণ্টায় ...   \n",
              "3  এই প্রথম সামাজিক মাধ্যমের বিশাল প্রতিষ্ঠান টুই...   \n",
              "4  বাংলাদেশের বন্যা পূর্বাভাস এবং সতর্কীকরণ কেন্দ...   \n",
              "\n",
              "                                                text  \\\n",
              "0  আটক স্বজনদের আইডি কার্ড হাতে উইগুর নারীদের বিক...   \n",
              "1  ভারতের অন্য অঞ্চলেও কোক, পেপসি নিষিদ্ধ করার দা...   \n",
              "2  সোহরাওয়ার্দী হাসপাতালের চিত্র সাধারণত সেপ্টেম...   \n",
              "3  ডোনাল্ড ট্রাম্প অভিযোগ করেছেন টু্‌ইটার আমেরিকা...   \n",
              "4  বন্যার প্রকোপ ছড়িয়ে পড়ছে সারা দেশে। বাংলাদে...   \n",
              "\n",
              "                                   predicted_summary  \n",
              "0  আপনাকে একটি দীর্ঘ বাংলা বিবরণ দেওয়া হয়েছে। আ...  \n",
              "1  আপনাকে একটি দীর্ঘ বাংলা বিবরণ দেওয়া হয়েছে। আ...  \n",
              "2  আপনাকে একটি দীর্ঘ বাংলা বিবরণ দেওয়া হয়েছে। আ...  \n",
              "3  আপনাকে একটি দীর্ঘ বাংলা বিবরণ দেওয়া হয়েছে। আ...  \n",
              "4  আপনাকে একটি দীর্ঘ বাংলা বিবরণ দেওয়া হয়েছে। আ...  "
            ]
          },
          "execution_count": 56,
          "metadata": {},
          "output_type": "execute_result"
        }
      ],
      "source": [
        "zs_results = pd.read_parquet(\"bloom_7b1_zs_summary_results.parquet\")\n",
        "zs_results.head()"
      ]
    },
    {
      "cell_type": "markdown",
      "id": "rCovpD3A3ZLA",
      "metadata": {
        "id": "rCovpD3A3ZLA"
      },
      "source": [
        "### Three Shot"
      ]
    },
    {
      "cell_type": "code",
      "execution_count": null,
      "id": "cBazlE_fQajH",
      "metadata": {
        "colab": {
          "base_uri": "https://localhost:8080/",
          "height": 49,
          "referenced_widgets": [
            "afc21afd67434e13b2ee195e9534097c"
          ]
        },
        "id": "cBazlE_fQajH",
        "outputId": "94f0141a-c404-4a8c-a352-7b76fb04ea76"
      },
      "outputs": [
        {
          "data": {
            "application/vnd.jupyter.widget-view+json": {
              "model_id": "afc21afd67434e13b2ee195e9534097c",
              "version_major": 2,
              "version_minor": 0
            },
            "text/plain": [
              "  0%|          | 0/512 [00:00<?, ?it/s]"
            ]
          },
          "metadata": {},
          "output_type": "display_data"
        }
      ],
      "source": [
        "import time\n",
        "from tqdm.notebook import tqdm\n",
        "\n",
        "# Assuming df is the original DataFrame and category_translation is defined\n",
        "df['predicted_summary'] = None\n",
        "\n",
        "# Try to load the progress from the Parquet file\n",
        "try:\n",
        "    df_progress = pd.read_parquet('bloom_7b1_ts_summary_results.parquet')\n",
        "    start_index = df_progress['predicted_summary'].last_valid_index() + 1\n",
        "except (FileNotFoundError, ValueError):\n",
        "    df_progress = df.copy()\n",
        "    start_index = 0\n",
        "\n",
        "\n",
        "for i, row in tqdm(df.iloc[start_index:].iterrows(), initial=start_index, total=len(df) - start_index):\n",
        "    text_body = row['text']\n",
        "\n",
        "    prompt_input = three_shot + \"### বিবরণ: \" + text_body + \"\\n### সারমর্ম:\"\n",
        "\n",
        "    try:\n",
        "        df.at[i, 'predicted_summary'] = get_bloom_7b1_output(prompt_input)\n",
        "    except Exception as e:\n",
        "        print(f\"Error at index {i}: {e}\")\n",
        "        time.sleep(5)\n",
        "\n",
        "    if (i + 1) % 100 == 0:\n",
        "        df.to_parquet('bloom_7b1_ts_summary_results.parquet')\n",
        "\n",
        "# Save final progress\n",
        "df.to_parquet('bloom_7b1_ts_summary_results.parquet')"
      ]
    },
    {
      "cell_type": "code",
      "execution_count": null,
      "id": "_7l1vKROQajH",
      "metadata": {
        "colab": {
          "base_uri": "https://localhost:8080/",
          "height": 553
        },
        "id": "_7l1vKROQajH",
        "outputId": "152f5aaa-d7c9-4f71-856e-7c1b1fe70b7d"
      },
      "outputs": [
        {
          "data": {
            "text/html": [
              "<div>\n",
              "<style scoped>\n",
              "    .dataframe tbody tr th:only-of-type {\n",
              "        vertical-align: middle;\n",
              "    }\n",
              "\n",
              "    .dataframe tbody tr th {\n",
              "        vertical-align: top;\n",
              "    }\n",
              "\n",
              "    .dataframe thead th {\n",
              "        text-align: right;\n",
              "    }\n",
              "</style>\n",
              "<table border=\"1\" class=\"dataframe\">\n",
              "  <thead>\n",
              "    <tr style=\"text-align: right;\">\n",
              "      <th></th>\n",
              "      <th>id</th>\n",
              "      <th>url</th>\n",
              "      <th>title</th>\n",
              "      <th>summary</th>\n",
              "      <th>text</th>\n",
              "      <th>predicted_summary</th>\n",
              "    </tr>\n",
              "  </thead>\n",
              "  <tbody>\n",
              "    <tr>\n",
              "      <th>0</th>\n",
              "      <td>news-45155508</td>\n",
              "      <td>https://www.bbc.com/bengali/news-45155508</td>\n",
              "      <td>চীন ১০ লাখ উইগুর মুসলিমকে আটকে রেখেছে - জাতিসং...</td>\n",
              "      <td>জাতিসংঘের মানবাধিকার বিষয়ক কমিটি জেনেভাতে চীন...</td>\n",
              "      <td>আটক স্বজনদের আইডি কার্ড হাতে উইগুর নারীদের বিক...</td>\n",
              "      <td>আপনাকে একটি দীর্ঘ বাংলা বিবরণ দেওয়া হয়েছে। আ...</td>\n",
              "    </tr>\n",
              "    <tr>\n",
              "      <th>1</th>\n",
              "      <td>news-39127107</td>\n",
              "      <td>https://www.bbc.com/bengali/news-39127107</td>\n",
              "      <td>কোকা-কোলা, পেপসি নিষিদ্ধ হলো তামিলনাডুতে</td>\n",
              "      <td>ভারতের দক্ষিণাঞ্চলীয় রাজ্য তামিলনাডুর ব্যবসায...</td>\n",
              "      <td>ভারতের অন্য অঞ্চলেও কোক, পেপসি নিষিদ্ধ করার দা...</td>\n",
              "      <td>আপনাকে একটি দীর্ঘ বাংলা বিবরণ দেওয়া হয়েছে। আ...</td>\n",
              "    </tr>\n",
              "    <tr>\n",
              "      <th>2</th>\n",
              "      <td>news-49141918</td>\n",
              "      <td>https://www.bbc.com/bengali/news-49141918</td>\n",
              "      <td>ডেঙ্গু পরিস্থিতি: হাসপাতালে ভর্তির দরকার না থা...</td>\n",
              "      <td>স্বাস্থ্য অধিদপ্তরের হিসাব মতে, গত ২৪ ঘণ্টায় ...</td>\n",
              "      <td>সোহরাওয়ার্দী হাসপাতালের চিত্র সাধারণত সেপ্টেম...</td>\n",
              "      <td>আপনাকে একটি দীর্ঘ বাংলা বিবরণ দেওয়া হয়েছে। আ...</td>\n",
              "    </tr>\n",
              "    <tr>\n",
              "      <th>3</th>\n",
              "      <td>news-52808250</td>\n",
              "      <td>https://www.bbc.com/bengali/news-52808250</td>\n",
              "      <td>ডোনাল্ড ট্রাম্প: আমেরিকান প্রেসিডেন্টের পোস্ট ...</td>\n",
              "      <td>এই প্রথম সামাজিক মাধ্যমের বিশাল প্রতিষ্ঠান টুই...</td>\n",
              "      <td>ডোনাল্ড ট্রাম্প অভিযোগ করেছেন টু্‌ইটার আমেরিকা...</td>\n",
              "      <td>আপনাকে একটি দীর্ঘ বাংলা বিবরণ দেওয়া হয়েছে। আ...</td>\n",
              "    </tr>\n",
              "    <tr>\n",
              "      <th>4</th>\n",
              "      <td>news-49047323</td>\n",
              "      <td>https://www.bbc.com/bengali/news-49047323</td>\n",
              "      <td>বাংলাদেশে বন্যার প্রকোপ: ২৪ ঘণ্টায় ডুবে যাবে ...</td>\n",
              "      <td>বাংলাদেশের বন্যা পূর্বাভাস এবং সতর্কীকরণ কেন্দ...</td>\n",
              "      <td>বন্যার প্রকোপ ছড়িয়ে পড়ছে সারা দেশে। বাংলাদে...</td>\n",
              "      <td>আপনাকে একটি দীর্ঘ বাংলা বিবরণ দেওয়া হয়েছে। আ...</td>\n",
              "    </tr>\n",
              "  </tbody>\n",
              "</table>\n",
              "</div>"
            ],
            "text/plain": [
              "              id                                        url  \\\n",
              "0  news-45155508  https://www.bbc.com/bengali/news-45155508   \n",
              "1  news-39127107  https://www.bbc.com/bengali/news-39127107   \n",
              "2  news-49141918  https://www.bbc.com/bengali/news-49141918   \n",
              "3  news-52808250  https://www.bbc.com/bengali/news-52808250   \n",
              "4  news-49047323  https://www.bbc.com/bengali/news-49047323   \n",
              "\n",
              "                                               title  \\\n",
              "0  চীন ১০ লাখ উইগুর মুসলিমকে আটকে রেখেছে - জাতিসং...   \n",
              "1           কোকা-কোলা, পেপসি নিষিদ্ধ হলো তামিলনাডুতে   \n",
              "2  ডেঙ্গু পরিস্থিতি: হাসপাতালে ভর্তির দরকার না থা...   \n",
              "3  ডোনাল্ড ট্রাম্প: আমেরিকান প্রেসিডেন্টের পোস্ট ...   \n",
              "4  বাংলাদেশে বন্যার প্রকোপ: ২৪ ঘণ্টায় ডুবে যাবে ...   \n",
              "\n",
              "                                             summary  \\\n",
              "0  জাতিসংঘের মানবাধিকার বিষয়ক কমিটি জেনেভাতে চীন...   \n",
              "1  ভারতের দক্ষিণাঞ্চলীয় রাজ্য তামিলনাডুর ব্যবসায...   \n",
              "2  স্বাস্থ্য অধিদপ্তরের হিসাব মতে, গত ২৪ ঘণ্টায় ...   \n",
              "3  এই প্রথম সামাজিক মাধ্যমের বিশাল প্রতিষ্ঠান টুই...   \n",
              "4  বাংলাদেশের বন্যা পূর্বাভাস এবং সতর্কীকরণ কেন্দ...   \n",
              "\n",
              "                                                text  \\\n",
              "0  আটক স্বজনদের আইডি কার্ড হাতে উইগুর নারীদের বিক...   \n",
              "1  ভারতের অন্য অঞ্চলেও কোক, পেপসি নিষিদ্ধ করার দা...   \n",
              "2  সোহরাওয়ার্দী হাসপাতালের চিত্র সাধারণত সেপ্টেম...   \n",
              "3  ডোনাল্ড ট্রাম্প অভিযোগ করেছেন টু্‌ইটার আমেরিকা...   \n",
              "4  বন্যার প্রকোপ ছড়িয়ে পড়ছে সারা দেশে। বাংলাদে...   \n",
              "\n",
              "                                   predicted_summary  \n",
              "0  আপনাকে একটি দীর্ঘ বাংলা বিবরণ দেওয়া হয়েছে। আ...  \n",
              "1  আপনাকে একটি দীর্ঘ বাংলা বিবরণ দেওয়া হয়েছে। আ...  \n",
              "2  আপনাকে একটি দীর্ঘ বাংলা বিবরণ দেওয়া হয়েছে। আ...  \n",
              "3  আপনাকে একটি দীর্ঘ বাংলা বিবরণ দেওয়া হয়েছে। আ...  \n",
              "4  আপনাকে একটি দীর্ঘ বাংলা বিবরণ দেওয়া হয়েছে। আ...  "
            ]
          },
          "execution_count": 58,
          "metadata": {},
          "output_type": "execute_result"
        }
      ],
      "source": [
        "ts_results = pd.read_parquet(\"bloom_7b1_ts_summary_results.parquet\")\n",
        "ts_results.head()"
      ]
    },
    {
      "cell_type": "markdown",
      "id": "l2e7Ff4k3d8o",
      "metadata": {
        "id": "l2e7Ff4k3d8o"
      },
      "source": [
        "### Chain of Thought"
      ]
    },
    {
      "cell_type": "code",
      "execution_count": null,
      "id": "TjJ6x4FcQajH",
      "metadata": {
        "colab": {
          "base_uri": "https://localhost:8080/",
          "height": 49,
          "referenced_widgets": [
            "fca47aa1c02c4839a9d773f3222b8d04"
          ]
        },
        "id": "TjJ6x4FcQajH",
        "outputId": "4e41bf19-714d-4661-b2e0-eb570cab3aac"
      },
      "outputs": [
        {
          "data": {
            "application/vnd.jupyter.widget-view+json": {
              "model_id": "fca47aa1c02c4839a9d773f3222b8d04",
              "version_major": 2,
              "version_minor": 0
            },
            "text/plain": [
              "  0%|          | 0/512 [00:00<?, ?it/s]"
            ]
          },
          "metadata": {},
          "output_type": "display_data"
        }
      ],
      "source": [
        "import time\n",
        "from tqdm.notebook import tqdm\n",
        "\n",
        "# Assuming df is the original DataFrame and category_translation is defined\n",
        "df['predicted_summary'] = None\n",
        "\n",
        "# Try to load the progress from the Parquet file\n",
        "try:\n",
        "    df_progress = pd.read_parquet('bloom_7b1_cot_summary_results.parquet')\n",
        "    start_index = df_progress['predicted_summary'].last_valid_index() + 1\n",
        "except (FileNotFoundError, ValueError):\n",
        "    df_progress = df.copy()\n",
        "    start_index = 0\n",
        "\n",
        "\n",
        "for i, row in tqdm(df.iloc[start_index:].iterrows(), initial=start_index, total=len(df) - start_index):\n",
        "    text_body = row['text']\n",
        "\n",
        "    prompt_input = chain_of_thought + \"### বিবরণ: \" + text_body\n",
        "\n",
        "    try:\n",
        "        df.at[i, 'predicted_summary'] = get_bloom_7b1_output(prompt_input)\n",
        "    except Exception as e:\n",
        "        print(f\"Error at index {i}: {e}\")\n",
        "        time.sleep(5)\n",
        "\n",
        "    if (i + 1) % 100 == 0:\n",
        "        df.to_parquet('bloom_7b1_cot_summary_results.parquet')\n",
        "\n",
        "# Save final progress\n",
        "df.to_parquet('bloom_7b1_cot_summary_results.parquet')"
      ]
    },
    {
      "cell_type": "code",
      "execution_count": null,
      "id": "Ht08IIkYQajH",
      "metadata": {
        "colab": {
          "base_uri": "https://localhost:8080/",
          "height": 712
        },
        "id": "Ht08IIkYQajH",
        "outputId": "f5e959ba-1048-45ff-c7c3-787e8f8d3b19"
      },
      "outputs": [
        {
          "data": {
            "text/html": [
              "<div>\n",
              "<style scoped>\n",
              "    .dataframe tbody tr th:only-of-type {\n",
              "        vertical-align: middle;\n",
              "    }\n",
              "\n",
              "    .dataframe tbody tr th {\n",
              "        vertical-align: top;\n",
              "    }\n",
              "\n",
              "    .dataframe thead th {\n",
              "        text-align: right;\n",
              "    }\n",
              "</style>\n",
              "<table border=\"1\" class=\"dataframe\">\n",
              "  <thead>\n",
              "    <tr style=\"text-align: right;\">\n",
              "      <th></th>\n",
              "      <th>id</th>\n",
              "      <th>url</th>\n",
              "      <th>title</th>\n",
              "      <th>summary</th>\n",
              "      <th>text</th>\n",
              "      <th>predicted_summary</th>\n",
              "    </tr>\n",
              "  </thead>\n",
              "  <tbody>\n",
              "    <tr>\n",
              "      <th>507</th>\n",
              "      <td>news-46942362</td>\n",
              "      <td>https://www.bbc.com/bengali/news-46942362</td>\n",
              "      <td>'সিরিয়ার অভ্যন্তরে ইরানি লক্ষ্যে' হামলা করছে ...</td>\n",
              "      <td>ইসরায়েলের সেনাবাহিনী জানিয়েছে যে তারা সিরিয়...</td>\n",
              "      <td>সিরিয়ার অভ্যন্তরে ইরানি লক্ষ্যবস্তুতে আঘাত কর...</td>\n",
              "      <td>আপনাকে একটি দীর্ঘ বাংলা বিবরণ দেওয়া হয়েছে। আ...</td>\n",
              "    </tr>\n",
              "    <tr>\n",
              "      <th>508</th>\n",
              "      <td>news-47308375</td>\n",
              "      <td>https://www.bbc.com/bengali/news-47308375</td>\n",
              "      <td>আপেল-স্ট্রবেরির দরকার নেই, বাঙালিরা পেয়ারা বা...</td>\n",
              "      <td>স্থানীয়ভাবে উৎপাদিত শাকসব্জি বা ডিম, ফলমূল ইত...</td>\n",
              "      <td>পেয়ারা বাগান থেকে তোলা হচ্ছে ফসল। ফাইল ছবি জা...</td>\n",
              "      <td>আপনাকে একটি দীর্ঘ বাংলা বিবরণ দেওয়া হয়েছে। আ...</td>\n",
              "    </tr>\n",
              "    <tr>\n",
              "      <th>509</th>\n",
              "      <td>news-51280964</td>\n",
              "      <td>https://www.bbc.com/bengali/news-51280964</td>\n",
              "      <td>করোনাভাইরাস: চীনের ভাইরাস আক্রান্ত উহানের একাত...</td>\n",
              "      <td>করোনাভাইরাসে আক্রান্ত মানুষের সংখ্যা যখন বাড়ছ...</td>\n",
              "      <td>চীনের বাসিন্দারা ''উহান জিয়ায়ু'' বলে চিৎকার ...</td>\n",
              "      <td>আপনাকে একটি দীর্ঘ বাংলা বিবরণ দেওয়া হয়েছে। আ...</td>\n",
              "    </tr>\n",
              "    <tr>\n",
              "      <th>510</th>\n",
              "      <td>news-55135935</td>\n",
              "      <td>https://www.bbc.com/bengali/news-55135935</td>\n",
              "      <td>মাদক: পুলিশের বিরুদ্ধে মাদকের সঙ্গে সংশ্লিষ্টত...</td>\n",
              "      <td>বাংলাদেশে মাদক গ্রহণের অভিযোগে সোমবার দক্ষিণ-প...</td>\n",
              "      <td>পুলিশের বিরুদ্ধে সাধারণত তিনভাবে মাদকের সঙ্গে ...</td>\n",
              "      <td>আপনাকে একটি দীর্ঘ বাংলা বিবরণ দেওয়া হয়েছে। আ...</td>\n",
              "    </tr>\n",
              "    <tr>\n",
              "      <th>511</th>\n",
              "      <td>151117_isis_terror_finance_syria_iraq_oil_kidn...</td>\n",
              "      <td>https://www.bbc.com/bengali/news/2015/11/15111...</td>\n",
              "      <td>ইসলামিক স্টেট কোথা থেকে অর্থ পায়?</td>\n",
              "      <td>ফ্রান্সের রাজধানী প্যারিসে গত শুক্রবারের আক্রম...</td>\n",
              "      <td>ইসলামিক স্টেট খেলাফতের স্বঘোষিত খলিফা আবু বকর ...</td>\n",
              "      <td>আপনাকে একটি দীর্ঘ বাংলা বিবরণ দেওয়া হয়েছে। আ...</td>\n",
              "    </tr>\n",
              "  </tbody>\n",
              "</table>\n",
              "</div>"
            ],
            "text/plain": [
              "                                                    id  \\\n",
              "507                                      news-46942362   \n",
              "508                                      news-47308375   \n",
              "509                                      news-51280964   \n",
              "510                                      news-55135935   \n",
              "511  151117_isis_terror_finance_syria_iraq_oil_kidn...   \n",
              "\n",
              "                                                   url  \\\n",
              "507          https://www.bbc.com/bengali/news-46942362   \n",
              "508          https://www.bbc.com/bengali/news-47308375   \n",
              "509          https://www.bbc.com/bengali/news-51280964   \n",
              "510          https://www.bbc.com/bengali/news-55135935   \n",
              "511  https://www.bbc.com/bengali/news/2015/11/15111...   \n",
              "\n",
              "                                                 title  \\\n",
              "507  'সিরিয়ার অভ্যন্তরে ইরানি লক্ষ্যে' হামলা করছে ...   \n",
              "508  আপেল-স্ট্রবেরির দরকার নেই, বাঙালিরা পেয়ারা বা...   \n",
              "509  করোনাভাইরাস: চীনের ভাইরাস আক্রান্ত উহানের একাত...   \n",
              "510  মাদক: পুলিশের বিরুদ্ধে মাদকের সঙ্গে সংশ্লিষ্টত...   \n",
              "511                 ইসলামিক স্টেট কোথা থেকে অর্থ পায়?   \n",
              "\n",
              "                                               summary  \\\n",
              "507  ইসরায়েলের সেনাবাহিনী জানিয়েছে যে তারা সিরিয়...   \n",
              "508  স্থানীয়ভাবে উৎপাদিত শাকসব্জি বা ডিম, ফলমূল ইত...   \n",
              "509  করোনাভাইরাসে আক্রান্ত মানুষের সংখ্যা যখন বাড়ছ...   \n",
              "510  বাংলাদেশে মাদক গ্রহণের অভিযোগে সোমবার দক্ষিণ-প...   \n",
              "511  ফ্রান্সের রাজধানী প্যারিসে গত শুক্রবারের আক্রম...   \n",
              "\n",
              "                                                  text  \\\n",
              "507  সিরিয়ার অভ্যন্তরে ইরানি লক্ষ্যবস্তুতে আঘাত কর...   \n",
              "508  পেয়ারা বাগান থেকে তোলা হচ্ছে ফসল। ফাইল ছবি জা...   \n",
              "509  চীনের বাসিন্দারা ''উহান জিয়ায়ু'' বলে চিৎকার ...   \n",
              "510  পুলিশের বিরুদ্ধে সাধারণত তিনভাবে মাদকের সঙ্গে ...   \n",
              "511  ইসলামিক স্টেট খেলাফতের স্বঘোষিত খলিফা আবু বকর ...   \n",
              "\n",
              "                                     predicted_summary  \n",
              "507  আপনাকে একটি দীর্ঘ বাংলা বিবরণ দেওয়া হয়েছে। আ...  \n",
              "508  আপনাকে একটি দীর্ঘ বাংলা বিবরণ দেওয়া হয়েছে। আ...  \n",
              "509  আপনাকে একটি দীর্ঘ বাংলা বিবরণ দেওয়া হয়েছে। আ...  \n",
              "510  আপনাকে একটি দীর্ঘ বাংলা বিবরণ দেওয়া হয়েছে। আ...  \n",
              "511  আপনাকে একটি দীর্ঘ বাংলা বিবরণ দেওয়া হয়েছে। আ...  "
            ]
          },
          "execution_count": 60,
          "metadata": {},
          "output_type": "execute_result"
        }
      ],
      "source": [
        "cot_results = pd.read_parquet(\"bloom_7b1_cot_summary_results.parquet\")\n",
        "cot_results.tail()"
      ]
    },
    {
      "cell_type": "markdown",
      "id": "z_8MFHU62EhE",
      "metadata": {
        "id": "z_8MFHU62EhE"
      },
      "source": [
        "### Evaluate Summarization"
      ]
    },
    {
      "cell_type": "code",
      "execution_count": null,
      "id": "HUwlzCsYrhEX",
      "metadata": {
        "colab": {
          "base_uri": "https://localhost:8080/"
        },
        "id": "HUwlzCsYrhEX",
        "outputId": "0ca88652-9671-45e0-d791-01fabb4d59f8"
      },
      "outputs": [
        {
          "name": "stderr",
          "output_type": "stream",
          "text": [
            "huggingface/tokenizers: The current process just got forked, after parallelism has already been used. Disabling parallelism to avoid deadlocks...\n",
            "To disable this warning, you can either:\n",
            "\t- Avoid using `tokenizers` before the fork if possible\n",
            "\t- Explicitly set the environment variable TOKENIZERS_PARALLELISM=(true | false)\n"
          ]
        },
        {
          "name": "stdout",
          "output_type": "stream",
          "text": [
            "Defaulting to user installation because normal site-packages is not writeable\n",
            "Collecting rouge\n",
            "  Downloading rouge-1.0.1-py3-none-any.whl.metadata (4.1 kB)\n",
            "Requirement already satisfied: six in /usr/lib/python3/dist-packages (from rouge) (1.16.0)\n",
            "Downloading rouge-1.0.1-py3-none-any.whl (13 kB)\n",
            "\u001b[33mWARNING: Error parsing dependencies of flatbuffers: Invalid version: '1.12.1-git20200711.33e2d80-dfsg1-0.6'\u001b[0m\u001b[33m\n",
            "\u001b[0mInstalling collected packages: rouge\n",
            "Successfully installed rouge-1.0.1\n"
          ]
        }
      ],
      "source": [
        "!pip install rouge"
      ]
    },
    {
      "cell_type": "code",
      "execution_count": null,
      "id": "FYIn5uifrqMN",
      "metadata": {
        "colab": {
          "base_uri": "https://localhost:8080/"
        },
        "id": "FYIn5uifrqMN",
        "outputId": "13ce9cad-3e76-4dee-a8c9-41a11cb07f89"
      },
      "outputs": [
        {
          "name": "stderr",
          "output_type": "stream",
          "text": [
            "huggingface/tokenizers: The current process just got forked, after parallelism has already been used. Disabling parallelism to avoid deadlocks...\n",
            "To disable this warning, you can either:\n",
            "\t- Avoid using `tokenizers` before the fork if possible\n",
            "\t- Explicitly set the environment variable TOKENIZERS_PARALLELISM=(true | false)\n"
          ]
        },
        {
          "name": "stdout",
          "output_type": "stream",
          "text": [
            "Defaulting to user installation because normal site-packages is not writeable\n",
            "Collecting bert-score\n",
            "  Downloading bert_score-0.3.13-py3-none-any.whl.metadata (15 kB)\n",
            "Requirement already satisfied: torch>=1.0.0 in /usr/lib/python3/dist-packages (from bert-score) (2.0.1)\n",
            "Requirement already satisfied: pandas>=1.0.1 in /usr/lib/python3/dist-packages (from bert-score) (1.3.5)\n",
            "Requirement already satisfied: transformers>=3.0.0 in ./.local/lib/python3.10/site-packages (from bert-score) (4.44.2)\n",
            "Requirement already satisfied: numpy in ./.local/lib/python3.10/site-packages (from bert-score) (1.25.2)\n",
            "Requirement already satisfied: requests in ./.local/lib/python3.10/site-packages (from bert-score) (2.32.3)\n",
            "Requirement already satisfied: tqdm>=4.31.1 in ./.local/lib/python3.10/site-packages (from bert-score) (4.66.5)\n",
            "Requirement already satisfied: matplotlib in /usr/lib/python3/dist-packages (from bert-score) (3.5.1)\n",
            "Requirement already satisfied: packaging>=20.9 in /usr/lib/python3/dist-packages (from bert-score) (21.3)\n",
            "Requirement already satisfied: filelock in /usr/lib/python3/dist-packages (from transformers>=3.0.0->bert-score) (3.6.0)\n",
            "Requirement already satisfied: huggingface-hub<1.0,>=0.23.2 in ./.local/lib/python3.10/site-packages (from transformers>=3.0.0->bert-score) (0.24.6)\n",
            "Requirement already satisfied: pyyaml>=5.1 in /usr/lib/python3/dist-packages (from transformers>=3.0.0->bert-score) (5.4.1)\n",
            "Requirement already satisfied: regex!=2019.12.17 in ./.local/lib/python3.10/site-packages (from transformers>=3.0.0->bert-score) (2024.7.24)\n",
            "Requirement already satisfied: safetensors>=0.4.1 in ./.local/lib/python3.10/site-packages (from transformers>=3.0.0->bert-score) (0.4.4)\n",
            "Requirement already satisfied: tokenizers<0.20,>=0.19 in ./.local/lib/python3.10/site-packages (from transformers>=3.0.0->bert-score) (0.19.1)\n",
            "Requirement already satisfied: charset-normalizer<4,>=2 in ./.local/lib/python3.10/site-packages (from requests->bert-score) (3.3.2)\n",
            "Requirement already satisfied: idna<4,>=2.5 in /usr/lib/python3/dist-packages (from requests->bert-score) (3.3)\n",
            "Requirement already satisfied: urllib3<3,>=1.21.1 in /usr/lib/python3/dist-packages (from requests->bert-score) (1.26.5)\n",
            "Requirement already satisfied: certifi>=2017.4.17 in /usr/lib/python3/dist-packages (from requests->bert-score) (2020.6.20)\n",
            "Requirement already satisfied: fsspec>=2023.5.0 in ./.local/lib/python3.10/site-packages (from huggingface-hub<1.0,>=0.23.2->transformers>=3.0.0->bert-score) (2024.6.1)\n",
            "Requirement already satisfied: typing-extensions>=3.7.4.3 in ./.local/lib/python3.10/site-packages (from huggingface-hub<1.0,>=0.23.2->transformers>=3.0.0->bert-score) (4.8.0)\n",
            "Downloading bert_score-0.3.13-py3-none-any.whl (61 kB)\n",
            "\u001b[33mWARNING: Error parsing dependencies of flatbuffers: Invalid version: '1.12.1-git20200711.33e2d80-dfsg1-0.6'\u001b[0m\u001b[33m\n",
            "\u001b[0mInstalling collected packages: bert-score\n",
            "Successfully installed bert-score-0.3.13\n"
          ]
        }
      ],
      "source": [
        "!pip install bert-score"
      ]
    },
    {
      "cell_type": "code",
      "execution_count": null,
      "id": "79d47bef",
      "metadata": {
        "id": "79d47bef",
        "outputId": "98c6759b-4b51-4ad3-b10e-5903ac313690"
      },
      "outputs": [
        {
          "name": "stderr",
          "output_type": "stream",
          "text": [
            "huggingface/tokenizers: The current process just got forked, after parallelism has already been used. Disabling parallelism to avoid deadlocks...\n",
            "To disable this warning, you can either:\n",
            "\t- Avoid using `tokenizers` before the fork if possible\n",
            "\t- Explicitly set the environment variable TOKENIZERS_PARALLELISM=(true | false)\n"
          ]
        },
        {
          "name": "stdout",
          "output_type": "stream",
          "text": [
            "Defaulting to user installation because normal site-packages is not writeable\n",
            "Collecting nltk\n",
            "  Downloading nltk-3.9.1-py3-none-any.whl.metadata (2.9 kB)\n",
            "Requirement already satisfied: click in /usr/lib/python3/dist-packages (from nltk) (8.0.3)\n",
            "Requirement already satisfied: joblib in /usr/lib/python3/dist-packages (from nltk) (0.17.0)\n",
            "Requirement already satisfied: regex>=2021.8.3 in ./.local/lib/python3.10/site-packages (from nltk) (2024.7.24)\n",
            "Requirement already satisfied: tqdm in ./.local/lib/python3.10/site-packages (from nltk) (4.66.5)\n",
            "Downloading nltk-3.9.1-py3-none-any.whl (1.5 MB)\n",
            "\u001b[2K   \u001b[90m━━━━━━━━━━━━━━━━━━━━━━━━━━━━━━━━━━━━━━━━\u001b[0m \u001b[32m1.5/1.5 MB\u001b[0m \u001b[31m41.9 MB/s\u001b[0m eta \u001b[36m0:00:00\u001b[0m\n",
            "\u001b[?25h\u001b[33mWARNING: Error parsing dependencies of flatbuffers: Invalid version: '1.12.1-git20200711.33e2d80-dfsg1-0.6'\u001b[0m\u001b[33m\n",
            "\u001b[0mInstalling collected packages: nltk\n",
            "Successfully installed nltk-3.9.1\n"
          ]
        }
      ],
      "source": [
        "!pip install nltk"
      ]
    },
    {
      "cell_type": "code",
      "execution_count": null,
      "id": "e3dfbcd1-042c-4f4c-9e03-d9a3176d3f98",
      "metadata": {
        "id": "e3dfbcd1-042c-4f4c-9e03-d9a3176d3f98"
      },
      "outputs": [],
      "source": [
        "import pandas as pd\n",
        "from rouge import Rouge\n",
        "from bert_score import score as bert_score\n",
        "from nltk.translate.bleu_score import sentence_bleu, SmoothingFunction\n",
        "\n",
        "def evaluate_summarization(df):\n",
        "    # Replace None values in 'predicted_summary' with empty strings\n",
        "    df['predicted_summary'] = df['predicted_summary'].fillna(\"\")\n",
        "\n",
        "    # Filter out empty summaries\n",
        "    non_empty_df = df[df['summary'].str.strip() != \"\"]\n",
        "    non_empty_df = non_empty_df[non_empty_df['predicted_summary'].str.strip() != \"\"]\n",
        "\n",
        "    # Initialize ROUGE\n",
        "    rouge = Rouge()\n",
        "\n",
        "    # Calculate ROUGE-L score\n",
        "    rouge_l_scores = rouge.get_scores(non_empty_df['predicted_summary'].tolist(), non_empty_df['summary'].tolist(), avg=True)['rouge-l']\n",
        "    avg_rouge_l_f = rouge_l_scores['f']\n",
        "    avg_rouge_l_precision = rouge_l_scores['p']\n",
        "    avg_rouge_l_recall = rouge_l_scores['r']\n",
        "\n",
        "    # Calculate BERTScore\n",
        "    non_empty_refs = non_empty_df['summary'].tolist()\n",
        "    non_empty_preds = non_empty_df['predicted_summary'].tolist()\n",
        "\n",
        "    if non_empty_refs and non_empty_preds:\n",
        "        P, R, F1 = bert_score(non_empty_preds, non_empty_refs, lang='bn', device='cpu')\n",
        "        bert_scores = {\n",
        "            'bert_precision': P.mean().item(),\n",
        "            'bert_recall': R.mean().item(),\n",
        "            'bert_f1': F1.mean().item()\n",
        "        }\n",
        "    else:\n",
        "        bert_scores = {\n",
        "            'bert_precision': 0,\n",
        "            'bert_recall': 0,\n",
        "            'bert_f1': 0\n",
        "        }\n",
        "\n",
        "    # Calculate BLEU score\n",
        "    smoothie = SmoothingFunction().method4\n",
        "    bleu_scores = [sentence_bleu([ref], pred, smoothing_function=smoothie) for ref, pred in zip(non_empty_refs, non_empty_preds)]\n",
        "    avg_bleu_score = sum(bleu_scores) / len(bleu_scores) if bleu_scores else 0\n",
        "\n",
        "    metrics = {\n",
        "        'rouge_l_f': avg_rouge_l_f,\n",
        "        'rouge_l_precision': avg_rouge_l_precision,\n",
        "        'rouge_l_recall': avg_rouge_l_recall,\n",
        "        'bert_precision': bert_scores['bert_precision'],\n",
        "        'bert_recall': bert_scores['bert_recall'],\n",
        "        'bert_f1': bert_scores['bert_f1'],\n",
        "        'bleu': avg_bleu_score\n",
        "    }\n",
        "\n",
        "    return metrics"
      ]
    },
    {
      "cell_type": "code",
      "execution_count": null,
      "id": "e6046496-f006-442c-a8b8-fd309c18ccf1",
      "metadata": {
        "colab": {
          "base_uri": "https://localhost:8080/",
          "height": 298,
          "referenced_widgets": [
            "c56161b5fbc24a05a2a868c35ce82f05",
            "9855a5ba80904ecda4bc30f780c8e0df",
            "1d3f87464ef6451b9b82ca18b3bbeebb",
            "67341b07681b45d996a9cd99b3c813a0",
            "89b7d3fe202d4d81b52ec866914f730b"
          ]
        },
        "id": "e6046496-f006-442c-a8b8-fd309c18ccf1",
        "outputId": "c3dc6b3d-2f86-4ce1-ada8-772edcda0c26"
      },
      "outputs": [
        {
          "data": {
            "application/vnd.jupyter.widget-view+json": {
              "model_id": "c56161b5fbc24a05a2a868c35ce82f05",
              "version_major": 2,
              "version_minor": 0
            },
            "text/plain": [
              "tokenizer_config.json:   0%|          | 0.00/49.0 [00:00<?, ?B/s]"
            ]
          },
          "metadata": {},
          "output_type": "display_data"
        },
        {
          "data": {
            "application/vnd.jupyter.widget-view+json": {
              "model_id": "9855a5ba80904ecda4bc30f780c8e0df",
              "version_major": 2,
              "version_minor": 0
            },
            "text/plain": [
              "config.json:   0%|          | 0.00/625 [00:00<?, ?B/s]"
            ]
          },
          "metadata": {},
          "output_type": "display_data"
        },
        {
          "data": {
            "application/vnd.jupyter.widget-view+json": {
              "model_id": "1d3f87464ef6451b9b82ca18b3bbeebb",
              "version_major": 2,
              "version_minor": 0
            },
            "text/plain": [
              "vocab.txt:   0%|          | 0.00/996k [00:00<?, ?B/s]"
            ]
          },
          "metadata": {},
          "output_type": "display_data"
        },
        {
          "data": {
            "application/vnd.jupyter.widget-view+json": {
              "model_id": "67341b07681b45d996a9cd99b3c813a0",
              "version_major": 2,
              "version_minor": 0
            },
            "text/plain": [
              "tokenizer.json:   0%|          | 0.00/1.96M [00:00<?, ?B/s]"
            ]
          },
          "metadata": {},
          "output_type": "display_data"
        },
        {
          "name": "stderr",
          "output_type": "stream",
          "text": [
            "/home/ubuntu/.local/lib/python3.10/site-packages/transformers/tokenization_utils_base.py:1601: FutureWarning: `clean_up_tokenization_spaces` was not set. It will be set to `True` by default. This behavior will be depracted in transformers v4.45, and will be then set to `False` by default. For more details check this issue: https://github.com/huggingface/transformers/issues/31884\n",
            "  warnings.warn(\n"
          ]
        },
        {
          "data": {
            "application/vnd.jupyter.widget-view+json": {
              "model_id": "89b7d3fe202d4d81b52ec866914f730b",
              "version_major": 2,
              "version_minor": 0
            },
            "text/plain": [
              "model.safetensors:   0%|          | 0.00/714M [00:00<?, ?B/s]"
            ]
          },
          "metadata": {},
          "output_type": "display_data"
        },
        {
          "name": "stdout",
          "output_type": "stream",
          "text": [
            "rouge_l_f: 0.0534\n",
            "rouge_l_precision: 0.0288\n",
            "rouge_l_recall: 0.4376\n",
            "bert_precision: 0.6150\n",
            "bert_recall: 0.7384\n",
            "bert_f1: 0.6707\n",
            "bleu: 0.0354\n"
          ]
        }
      ],
      "source": [
        "zs_df = pd.read_parquet(\"bloom_7b1_zs_summary_results.parquet\")\n",
        "# zs_df['predicted_summary'] = zs_df['predicted_summary'].fillna(\"\")\n",
        "metrics = evaluate_summarization(zs_df)\n",
        "for metric, value in metrics.items():\n",
        "    print(f\"{metric}: {value:.4f}\")"
      ]
    },
    {
      "cell_type": "code",
      "execution_count": null,
      "id": "kfAfQQMEPluj",
      "metadata": {
        "colab": {
          "base_uri": "https://localhost:8080/"
        },
        "id": "kfAfQQMEPluj",
        "outputId": "0cb678a6-01ae-4d65-827c-6bca1461eb3a"
      },
      "outputs": [
        {
          "name": "stdout",
          "output_type": "stream",
          "text": [
            "rouge_l_f: 0.0319\n",
            "rouge_l_precision: 0.0166\n",
            "rouge_l_recall: 0.4480\n",
            "bert_precision: 0.5651\n",
            "bert_recall: 0.6503\n",
            "bert_f1: 0.6046\n",
            "bleu: 0.0203\n"
          ]
        }
      ],
      "source": [
        "ts_df = pd.read_parquet(\"bloom_7b1_ts_summary_results.parquet\")\n",
        "metrics = evaluate_summarization(ts_df)\n",
        "for metric, value in metrics.items():\n",
        "    print(f\"{metric}: {value:.4f}\")"
      ]
    },
    {
      "cell_type": "code",
      "execution_count": null,
      "id": "XzYfSDwWPrap",
      "metadata": {
        "colab": {
          "base_uri": "https://localhost:8080/"
        },
        "id": "XzYfSDwWPrap",
        "outputId": "d1a63b5c-42a2-4c92-d212-005e4f7697d4"
      },
      "outputs": [
        {
          "name": "stdout",
          "output_type": "stream",
          "text": [
            "rouge_l_f: 0.0293\n",
            "rouge_l_precision: 0.0152\n",
            "rouge_l_recall: 0.4419\n",
            "bert_precision: 0.5551\n",
            "bert_recall: 0.6386\n",
            "bert_f1: 0.5938\n",
            "bleu: 0.0183\n"
          ]
        }
      ],
      "source": [
        "cot_df = pd.read_parquet(\"bloom_7b1_cot_summary_results.parquet\")\n",
        "metrics = evaluate_summarization(cot_df)\n",
        "for metric, value in metrics.items():\n",
        "    print(f\"{metric}: {value:.4f}\")"
      ]
    },
    {
      "cell_type": "markdown",
      "id": "jV208jxjsP22",
      "metadata": {
        "id": "jV208jxjsP22"
      },
      "source": [
        "## Bloom-7b1 - RQA Eval"
      ]
    },
    {
      "cell_type": "code",
      "execution_count": null,
      "id": "sV1KEWtgS4nj",
      "metadata": {
        "id": "sV1KEWtgS4nj"
      },
      "outputs": [],
      "source": [
        "zero_shot = \"\"\"আপনাকে একটি প্রশ্ন এবং চারটি বিকল্প উত্তর দেওয়া হয়েছে। আপনাকে সঠিক উত্তরটি নির্ধারণ করতে হবে এবং শুধুমাত্র ক, খ, গ, ঘ বিকল্পের মধ্যে থেকে সঠিক উত্তরটি লিখতে হবে।\n",
        "\n",
        "উত্তরের জন্য প্রথমে অপশন নাম্বারটি লিখে (ক / খ/ গ / ঘ) ব্রাকেট ) দিয়ে উত্তর টি লিখুন। অপশনের মতোই নিম্নোক্ত ফরম্যাটটি অনুসরণ করুন।\n",
        "ক / খ / গ / ঘ) উত্তর\n",
        "\n",
        "\"\"\""
      ]
    },
    {
      "cell_type": "code",
      "execution_count": null,
      "id": "0V-VUNQ8TJgO",
      "metadata": {
        "id": "0V-VUNQ8TJgO"
      },
      "outputs": [],
      "source": [
        "three_shot = \"\"\"আপনাকে একটি প্রশ্ন এবং চারটি বিকল্প উত্তর দেওয়া হয়েছে। আপনাকে সঠিক উত্তরটি নির্ধারণ করতে হবে এবং শুধুমাত্র ক, খ, গ, ঘ বিকল্পের মধ্যে থেকে সঠিক উত্তরটি লিখতে হবে।\n",
        "\n",
        "উত্তরের জন্য প্রথমে অপশন নাম্বারটি লিখে (ক / খ/ গ / ঘ) ব্রাকেট ) দিয়ে উত্তর টি লিখুন। অপশনের মতোই নিম্নোক্ত ফরম্যাটটি অনুসরণ করুন।\n",
        "ক / খ / গ / ঘ) উত্তর\n",
        "\n",
        "### উদাহরণ ১\n",
        "### প্রশ্ন:\n",
        "p^{2} + q^{2} = 3, pq = 3 হলে (p + q)^{2} এর মান কত?\n",
        "\n",
        "### বিকল্প:\n",
        "ক) 3\n",
        "খ) 9\n",
        "গ) 11\n",
        "ঘ) 15\n",
        "\n",
        "### আপনার উত্তর:\n",
        "খ) 9\n",
        "\n",
        "### উদাহরণ ২\n",
        "### প্রশ্ন:\n",
        "x - 3y = 15 এবং 3x + y = 3ন রেখাদ্বয়ের ঢালের গুণফল কত?\n",
        "\n",
        "### বিকল্প:\n",
        "ক) -3\n",
        "খ) -1\n",
        "গ) 1\n",
        "ঘ) 3\n",
        "\n",
        "### আপনার উত্তর:\n",
        "খ) -1\n",
        "\n",
        "### উদাহরণ ৩\n",
        "### প্রশ্ন:\n",
        "বিনা বাধায় পড়ন্ত বস্তু 5 সেকেন্ডে 50 মিটার পথ অতিক্রম করলে 72 মিটার পথ অতিক্রম করতে কত সেকেন্ড সময় লাগবে?\n",
        "\n",
        "### বিকল্প:\n",
        "ক) 6\n",
        "খ) 7.2\n",
        "গ) 9.5\n",
        "ঘ) 12\n",
        "\n",
        "### আপনার উত্তর:\n",
        "ক) 6\n",
        "\n",
        "### আপনার কাজ\n",
        "\n",
        "\"\"\""
      ]
    },
    {
      "cell_type": "code",
      "execution_count": null,
      "id": "EWUsV4lmTMEp",
      "metadata": {
        "id": "EWUsV4lmTMEp"
      },
      "outputs": [],
      "source": [
        "chain_of_thought = \"\"\"আপনাকে একটি প্রশ্ন এবং চারটি বিকল্প উত্তর দেওয়া হয়েছে। আপনাকে সঠিক উত্তরটি নির্ধারণ করতে হবে এবং শুধুমাত্র ক, খ, গ, ঘ বিকল্পের মধ্যে থেকে সঠিক উত্তরটি লিখতে হবে।\n",
        "\n",
        "উত্তরের জন্য প্রথমে অপশন নাম্বার টি লিখে (ক / খ/ গ / ঘ) ব্রাকেট ) দিয়ে উত্তর টি লিখুন। অপশনের মতোই নিম্নোক্ত ফরম্যাটটি অনুসরণ করুন।\n",
        "ক / খ / গ / ঘ) উত্তর\n",
        "\n",
        "প্রশ্নটির উত্তর নির্ধারণ করতে গিয়ে নিম্নলিখিত ধাপগুলি অনুসরণ করুন:\n",
        "\n",
        "### ধাপ ১: প্রশ্নটি বোঝা\n",
        "প্রশ্নটি ভাল করে পড়ুন এবং এটি কী জানতে চাচ্ছে তা বোঝার চেষ্টা করুন। প্রশ্নটির প্রয়োজনীয়তা এবং কনটেক্সটটি বোঝার জন্য এটি বিস্তারিতভাবে বিবেচনা করুন।\n",
        "\n",
        "### ধাপ ২: বিকল্পগুলি পড়া\n",
        "প্রতিটি বিকল্প ভাল করে পড়ুন এবং কোন কোন বিকল্পগুলি সম্ভবত সঠিক হতে পারে তা সনাক্ত করুন। প্রতিটি বিকল্পের সাথে প্রশ্নটির সম্পর্ক বিচার করুন।\n",
        "\n",
        "### ধাপ ৩: বিকল্পগুলি মূল্যায়ন\n",
        "প্রশ্নটির সাথে সম্পর্কিত জ্ঞান এবং তথ্য ব্যবহার করে সম্ভাব্য সমাধানে পৌছান। কোন বিকল্পটি সঠিক হতে পারে তা বিচার করুন।\n",
        "\n",
        "### ধাপ ৪: সঠিক উত্তর নির্বাচন\n",
        "প্রথম তিনটি ধাপের ভিত্তিতে সবচেয়ে যুক্তিযুক্ত এবং সঠিক উত্তরটি নির্বাচন করুন।\n",
        "\n",
        "### উদাহরণ ১\n",
        "### প্রশ্ন:\n",
        "p^{2} + q^{2} = 3, pq = 3 হলে (p + q)^{2} এর মান কত?\n",
        "\n",
        "### বিকল্প:\n",
        "ক) 3\n",
        "খ) 9\n",
        "গ) 11\n",
        "ঘ) 15\n",
        "\n",
        "#### চিন্তাধারা:\n",
        "- ধাপ ১: প্রশ্নটি বোঝা: এখানে, p^{2} + q^{2} এবং pq এর মান দেওয়া হয়েছে এবং (p + q)^{2} এর মান নির্ধারণ করতে বলা হয়েছে।\n",
        "- ধাপ ২: বিকল্পগুলি পড়া: বিকল্পগুলি হল ৩, ৯, ১১, এবং ১৫।\n",
        "- ধাপ ৩: সম্ভাব্য সমাধান: আমরা জানি যে (p + q)^{2} = p^{2} + 2pq + q^{2}। সুতরাং, (p + q)^{2} = 3 + 2*3 = 9।\n",
        "- ধাপ ৪: সঠিক উত্তর নির্বাচন: সুতরাং, সঠিক উত্তর হল খ) ৯।\n",
        "\n",
        "### আপনার উত্তর:\n",
        "খ) ৯\n",
        "\n",
        "### উদাহরণ ২\n",
        "### প্রশ্ন:\n",
        "x - 3y = 15 এবং 3x + y = 3ন রেখাদ্বয়ের ঢালের গুণফল কত?\n",
        "\n",
        "### বিকল্প:\n",
        "ক) -3\n",
        "খ) -1\n",
        "গ) 1\n",
        "ঘ) 3\n",
        "\n",
        "#### চিন্তাধারা:\n",
        "- ধাপ ১: প্রশ্নটি বোঝা: এখানে, দুইটি রেখার সমীকরণ দেওয়া হয়েছে এবং তাদের ঢালের গুণফল নির্ধারণ করতে বলা হয়েছে।\n",
        "- ধাপ ২: বিকল্পগুলি পড়া: বিকল্পগুলি হল -৩, -১, ১, এবং ৩।\n",
        "- ধাপ ৩: সম্ভাব্য সমাধান: আমরা x - 3y = 15 কে y = mx + c আকারে লিখতে পারি: y = 1/3x + 15। ফলে, প্রথম রেখার ঢাল হল ১/৩ এবং দ্বিতীয় রেখার ঢাল হল -৩। সুতরাং, ঢালের গুণফল হল (১/৩) * (-৩) = -১।\n",
        "- ধাপ ৪: সঠিক উত্তর নির্বাচন: সুতরাং, সঠিক উত্তর হল খ) -১।\n",
        "\n",
        "### আপনার উত্তর:\n",
        "খ) -১\n",
        "\n",
        "### উদাহরণ ৩\n",
        "### প্রশ্ন:\n",
        "বিনা বাধায় পড়ন্ত বস্তু 5 সেকেন্ডে 50 মিটার পথ অতিক্রম করলে 72 মিটার পথ অতিক্রম করতে কত সেকেন্ড সময় লাগবে?\n",
        "\n",
        "### বিকল্প:\n",
        "ক) 6\n",
        "খ) 7.2\n",
        "গ) 9.5\n",
        "ঘ) 12\n",
        "\n",
        "#### চিন্তাধারা:\n",
        "- ধাপ ১: প্রশ্নটি বোঝা: এখানে, বিনা বাধায় পড়ন্ত বস্তুর সময় নির্ধারণ করা।\n",
        "- ধাপ ২: বিকল্পগুলি পড়া: বিকল্পগুলি হল ৬, ৭.২, ৯.৫, এবং ১২।\n",
        "- ধাপ ৩: সম্ভাব্য সমাধান: বিনা বাধায় পড়ন্ত বস্তু t সময়ে h দূরত্ব অতিক্রম করে, যেখানে h = 1/2 * g * t^2। 50 মিটার যেতে 5 সেকেন্ড সময় লাগে: 50 = 1/2 * g * 5^2, g = 4 মিটার/সেকেন্ড^2। সুতরাং, 72 মিটার যেতে সময় লাগবে: 72 = 1/2 * 4 * t^2, t^2 = 36, t = 6 সেকেন্ড।\n",
        "- ধাপ ৪: সঠিক উত্তর নির্বাচন: সুতরাং, সঠিক উত্তর হল ক) ৬।\n",
        "\n",
        "### আপনার উত্তর:\n",
        "খ) ৭.২\n",
        "\n",
        "### আপনার কাজ\n",
        "\n",
        "\n",
        "\"\"\""
      ]
    },
    {
      "cell_type": "code",
      "execution_count": null,
      "id": "jzLTj1qbsOaF",
      "metadata": {
        "colab": {
          "base_uri": "https://localhost:8080/",
          "height": 35
        },
        "id": "jzLTj1qbsOaF",
        "outputId": "27052e9d-ed4f-4089-ef83-4f52290e0a6b"
      },
      "outputs": [
        {
          "data": {
            "text/plain": [
              "'বাংলাদেশের ৫ জন কবির নাম লিস্ট আকারে লিখ।ক. কবি শামসুর রাহমান খ. কবি আল মাহমুদগ. কবি আল মাহমুদ ও কবি শামসুর রাহমান ঘ. কবি আল মাহমুদ, কবি শামসুর রাহমান ও কবি আল মাহমুদউত্তর : ক. কবি শামসুর রাহমান।# বাকি অংশ ছাপা হবে আগামীকালসঠিক উত্তরটি মিলিয়ে নাওবাংলা ১ম পত্র: সঠিক উত্তরঅধ্যায়-১১. ক ২. ক ৩. ক ৪. ক ৫. ক ৬. ক ৭. ক ৮. ক ৯. ক ১০. ক ১১. ক ১২. ক ১৩. ক ১৪. ক ১৫. ক ১৬. ক ১৭. ক ১৮. ক ১৯'"
            ]
          },
          "execution_count": 71,
          "metadata": {},
          "output_type": "execute_result"
        }
      ],
      "source": [
        "get_bloom_7b1_output(\"বাংলাদেশের ৫ জন কবির নাম লিস্ট আকারে লিখ।\")"
      ]
    },
    {
      "cell_type": "code",
      "execution_count": null,
      "id": "2a972c0d-871e-43ac-bbdd-b484d8820163",
      "metadata": {
        "id": "2a972c0d-871e-43ac-bbdd-b484d8820163"
      },
      "outputs": [],
      "source": [
        "def prepare_questions(row, base_prompt, prompt_type = 'zero_shot'):\n",
        "    question = row['Bengali Question']\n",
        "    options = {\n",
        "        'ক': row['A Bn'],\n",
        "        'খ': row['B Bn'],\n",
        "        'গ': row['C Bn'],\n",
        "        'ঘ': row['D Bn']\n",
        "    }\n",
        "    correct_answer = row['Correct Answer']\n",
        "    eng2ben_map = {\n",
        "        'a': 'ক',\n",
        "        'b': 'খ',\n",
        "        'c': 'গ',\n",
        "        'd': 'ঘ'\n",
        "    }\n",
        "    correct_option = eng2ben_map[correct_answer] + \") \" + options[eng2ben_map[correct_answer]]\n",
        "\n",
        "    options_string = \"\\n\".join([f\"{key}) {value}\" for key, value in options.items()])\n",
        "\n",
        "    if prompt_type == 'zero_shot':\n",
        "        question_prompt = base_prompt + f\"### প্রশ্ন:\\n{question}\\n\\n### বিকল্প:\\n{options_string}\\n\\n### আপনার উত্তর:\\n\"\n",
        "    elif prompt_type == 'three_shot':\n",
        "        question_prompt = base_prompt + f\"### প্রশ্ন:\\n{question}\\n\\n### বিকল্প:\\n{options_string}\\n\\n### আপনার উত্তর:\\n\"\n",
        "    elif prompt_type == 'cot':\n",
        "        question_prompt = base_prompt + f\"### প্রশ্ন:\\n{question}\\n\\n### বিকল্প:\\n{options_string}\\n\\n\"\n",
        "\n",
        "    return question_prompt, correct_option"
      ]
    },
    {
      "cell_type": "code",
      "execution_count": null,
      "id": "rH6Vr-bFk1vA",
      "metadata": {
        "id": "rH6Vr-bFk1vA"
      },
      "outputs": [],
      "source": [
        "file_paths = [\n",
        "    \"https://github.com/sheikhshafayat/BEnQA/raw/master/data/BEnQA/8th-Science.csv\",\n",
        "    \"https://github.com/sheikhshafayat/BEnQA/raw/master/data/BEnQA/12th-Math-I.csv\",\n",
        "    \"https://github.com/sheikhshafayat/BEnQA/raw/master/data/BEnQA/12th-Math-II.csv\",\n",
        "    \"https://github.com/sheikhshafayat/BEnQA/raw/master/data/BEnQA/12th-Physics-I.csv\",\n",
        "    \"https://github.com/sheikhshafayat/BEnQA/raw/master/data/BEnQA/12th-Physics-II.csv\"\n",
        "]\n",
        "\n",
        "file_tags = [\n",
        "    \"8th_science\",\n",
        "    \"12th_math_1\",\n",
        "    \"12th_math_2\",\n",
        "    \"12th_physics_1\",\n",
        "    \"12th_physics_2\"\n",
        "]"
      ]
    },
    {
      "cell_type": "markdown",
      "id": "iqPyMWsyStO6",
      "metadata": {
        "id": "iqPyMWsyStO6"
      },
      "source": [
        "### Zero-shot"
      ]
    },
    {
      "cell_type": "code",
      "execution_count": null,
      "id": "Nqhj_DQzStO7",
      "metadata": {
        "colab": {
          "referenced_widgets": [
            "b54f4cfeb7764b87b6d64869530aacc1",
            "a770a97b01c04c7a86732ec6a917b863",
            "cefec46490df40aebe316c3aeded073d",
            "3a0bb25c1d554a9db3377a468aef823e",
            "6ae32da13f5243ab8e292ba6ab8b516f"
          ]
        },
        "id": "Nqhj_DQzStO7",
        "outputId": "8be3e867-0fa0-4bba-bca4-a6f449393786"
      },
      "outputs": [
        {
          "name": "stdout",
          "output_type": "stream",
          "text": [
            "https://github.com/sheikhshafayat/BEnQA/raw/master/data/BEnQA/8th-Science.csv\n",
            "                                   English Question  \\\n",
            "0                   Which acid present in tamarind?   \n",
            "1               By which two elements fuse is made?   \n",
            "2  Which on is the tertiary consumer of sundarbans?   \n",
            "3           Which hormone is sybtgesuzed in leaves?   \n",
            "4                 Which one is used as insecticide?   \n",
            "\n",
            "                               Bengali Question              A             B  \\\n",
            "0                        তেঁতুলে কোন এসিড থাকে?          Malic        Citric   \n",
            "1  কোন মৌল দুটির সাহায্যে ফিউজ প্রস্তুত করা হয়?  Lead and Zinc  Zinc and Tin   \n",
            "2          সুন্দরবনের তৃতীয় স্তরের খাদক কোনটি?            Pig          Deer   \n",
            "3                     পাতায় উৎপন্ন হরমোন কোনটি?          Auxin      Ethylene   \n",
            "4            ফসলের ক্ষতিকর পেস্ট দমন করে কোনটি?       NH_{4}OH          NaOH   \n",
            "\n",
            "              C              D          A Bn         B Bn        C Bn  \\\n",
            "0        Oxalic       Tartaric       ম্যালিক     সাইট্রিক    অক্সালিক   \n",
            "1  Lead and Tin  Lead and Iron  সীসা ও জিঙ্ক  জিঙ্জ ও টিন  সীসা ও টিন   \n",
            "2        Monkey            Hen          শুকর         হরিণ        বানর   \n",
            "3      Florigen    Gibberellin        অক্সিন       ইথিলিন   ফ্লোরিজেন   \n",
            "4    Mg(OH)_{2}     Ca(OH)_{2}      NH_{4}OH         NaOH  Mg(OH)_{2}   \n",
            "\n",
            "          D Bn Correct Answer  \n",
            "0     টারটারিক              d  \n",
            "1  সীসা ও লোহা              c  \n",
            "2        মুরগি              a  \n",
            "3  জিব্বেরেলিন              c  \n",
            "4   Ca(OH)_{2}              d  \n"
          ]
        },
        {
          "data": {
            "application/vnd.jupyter.widget-view+json": {
              "model_id": "b54f4cfeb7764b87b6d64869530aacc1",
              "version_major": 2,
              "version_minor": 0
            },
            "text/plain": [
              "  0%|          | 0/228 [00:00<?, ?it/s]"
            ]
          },
          "metadata": {},
          "output_type": "display_data"
        },
        {
          "name": "stdout",
          "output_type": "stream",
          "text": [
            "Error w/ sample English Question      How many satellites Saturn has\n",
            "Bengali Question                   শনির উপগ্রহ কয়টি?\n",
            "A                                                 63\n",
            "B                                                 34\n",
            "C                                                 27\n",
            "D                                                 13\n",
            "A Bn                                              63\n",
            "B Bn                                              34\n",
            "C Bn                                              27\n",
            "D Bn                                              13\n",
            "Correct Answer                                     *\n",
            "predicted_option                                None\n",
            "correct_option_fmt                              None\n",
            "Name: 34, dtype: object\n",
            "Error w/ sample English Question      In a drycell which of the following acts as ca...\n",
            "Bengali Question                শুষ্ককোষে কোনটি ব্যাথোড হিসাবে কাজ করে?\n",
            "A                                                     manganese dioxide\n",
            "B                                                            carbon rod\n",
            "C                                                        Zinc container\n",
            "D                                                             Metal cap\n",
            "A Bn                                             ম্যাঙ্গানিজ ডাইঅক্সাইড\n",
            "B Bn                                                        কার্বন দন্ড\n",
            "C Bn                                                         দস্তার চোঙ\n",
            "D Bn                                                          ধাতব টুপি\n",
            "Correct Answer                                                        *\n",
            "predicted_option                                                   None\n",
            "correct_option_fmt                                                 None\n",
            "Name: 192, dtype: object\n",
            "                                   English Question  \\\n",
            "0                   Which acid present in tamarind?   \n",
            "1               By which two elements fuse is made?   \n",
            "2  Which on is the tertiary consumer of sundarbans?   \n",
            "3           Which hormone is sybtgesuzed in leaves?   \n",
            "4                 Which one is used as insecticide?   \n",
            "\n",
            "                               Bengali Question              A             B  \\\n",
            "0                        তেঁতুলে কোন এসিড থাকে?          Malic        Citric   \n",
            "1  কোন মৌল দুটির সাহায্যে ফিউজ প্রস্তুত করা হয়?  Lead and Zinc  Zinc and Tin   \n",
            "2          সুন্দরবনের তৃতীয় স্তরের খাদক কোনটি?            Pig          Deer   \n",
            "3                     পাতায় উৎপন্ন হরমোন কোনটি?          Auxin      Ethylene   \n",
            "4            ফসলের ক্ষতিকর পেস্ট দমন করে কোনটি?       NH_{4}OH          NaOH   \n",
            "\n",
            "              C              D          A Bn         B Bn        C Bn  \\\n",
            "0        Oxalic       Tartaric       ম্যালিক     সাইট্রিক    অক্সালিক   \n",
            "1  Lead and Tin  Lead and Iron  সীসা ও জিঙ্ক  জিঙ্জ ও টিন  সীসা ও টিন   \n",
            "2        Monkey            Hen          শুকর         হরিণ        বানর   \n",
            "3      Florigen    Gibberellin        অক্সিন       ইথিলিন   ফ্লোরিজেন   \n",
            "4    Mg(OH)_{2}     Ca(OH)_{2}      NH_{4}OH         NaOH  Mg(OH)_{2}   \n",
            "\n",
            "          D Bn Correct Answer  \\\n",
            "0     টারটারিক              d   \n",
            "1  সীসা ও লোহা              c   \n",
            "2        মুরগি              a   \n",
            "3  জিব্বেরেলিন              c   \n",
            "4   Ca(OH)_{2}              d   \n",
            "\n",
            "                                    predicted_option correct_option_fmt  \n",
            "0  আপনাকে একটি প্রশ্ন এবং চারটি বিকল্প উত্তর দেওয...        ঘ) টারটারিক  \n",
            "1  আপনাকে একটি প্রশ্ন এবং চারটি বিকল্প উত্তর দেওয...      গ) সীসা ও টিন  \n",
            "2  আপনাকে একটি প্রশ্ন এবং চারটি বিকল্প উত্তর দেওয...            ক) শুকর  \n",
            "3  আপনাকে একটি প্রশ্ন এবং চারটি বিকল্প উত্তর দেওয...       গ) ফ্লোরিজেন  \n",
            "4  আপনাকে একটি প্রশ্ন এবং চারটি বিকল্প উত্তর দেওয...      ঘ) Ca(OH)_{2}  \n",
            "https://github.com/sheikhshafayat/BEnQA/raw/master/data/BEnQA/12th-Math-I.csv\n",
            "                                    English Question  \\\n",
            "0  What is the value of \\int_{0}^{1} \\frac{sin^{-...   \n",
            "1  The equation of a curve is y = 3x (x - 2).\\n \\...   \n",
            "2  What is the value of \\int e^{x} \\left ( \\frac{...   \n",
            "3  The value of \\int_{1}{\\sqrt{3}} \\frac{x}{1 + x...   \n",
            "4  If f(x) = 2x then-\\n i. \\int \\frac{dx}{f(x)} =...   \n",
            "\n",
            "                                    Bengali Question                    A  \\\n",
            "0  \\int_{0}^{1} \\frac{sin^{-1}p}{\\sqrt{1-p^{2}}}d...        \\frac{\\pi}{2}   \n",
            "1  y = 3x (x - 2) একটি বক্ররেখার সমীকরণ।\\n \\n মূল...           y + 6x = 0   \n",
            "2  \\int e^{x} \\left ( \\frac{1}{x} - \\frac{1}{x^{2...  - \\frac{e^x}{x} + c   \n",
            "3    \\int_{1}{\\sqrt{3}} \\frac{x}{1 + x^2} dx এর মান-                  ln2   \n",
            "4  f(x) = 2x হলে-\\n i. \\int \\frac{dx}{f(x)} = \\fr...             i and ii   \n",
            "\n",
            "                       B                         C                    D  \\\n",
            "0      \\frac{\\pi^{2}}{2}         \\frac{\\pi^{2}}{4}    \\frac{\\pi^{2}}{8}   \n",
            "1             y - 6x = 0                x + 6y = 0           x - 6y = 0   \n",
            "2  - \\frac{e^x}{x^2} + c         \\frac{e^x}{x} + c  \\frac{e^x}{x^2} + c   \n",
            "3          ln\\frac{1}{2}  \\frac{1}{2}ln\\frac{1}{2}       \\frac{1}{2}ln2   \n",
            "4              i and iii                ii and iii        i, ii and iii   \n",
            "\n",
            "                  A Bn                   B Bn                      C Bn  \\\n",
            "0        \\frac{\\pi}{2}      \\frac{\\pi^{2}}{2}         \\frac{\\pi^{2}}{4}   \n",
            "1           y + 6x = 0             y - 6x = 0                x + 6y = 0   \n",
            "2  - \\frac{e^x}{x} + c  - \\frac{e^x}{x^2} + c         \\frac{e^x}{x} + c   \n",
            "3                  ln2          ln\\frac{1}{2}  \\frac{1}{2}ln\\frac{1}{2}   \n",
            "4             i এবং ii              i এবং iii                ii এবং iii   \n",
            "\n",
            "                  D Bn Correct Answer  \n",
            "0    \\frac{\\pi^{2}}{8}              d  \n",
            "1           x - 6y = 0              a  \n",
            "2  \\frac{e^x}{x^2} + c              c  \n",
            "3       \\frac{1}{2}ln2              d  \n",
            "4        i, ii এবং iii              d  \n"
          ]
        },
        {
          "data": {
            "application/vnd.jupyter.widget-view+json": {
              "model_id": "a770a97b01c04c7a86732ec6a917b863",
              "version_major": 2,
              "version_minor": 0
            },
            "text/plain": [
              "  0%|          | 0/396 [00:00<?, ?it/s]"
            ]
          },
          "metadata": {},
          "output_type": "display_data"
        },
        {
          "name": "stdout",
          "output_type": "stream",
          "text": [
            "                                    English Question  \\\n",
            "0  What is the value of \\int_{0}^{1} \\frac{sin^{-...   \n",
            "1  The equation of a curve is y = 3x (x - 2).\\n \\...   \n",
            "2  What is the value of \\int e^{x} \\left ( \\frac{...   \n",
            "3  The value of \\int_{1}{\\sqrt{3}} \\frac{x}{1 + x...   \n",
            "4  If f(x) = 2x then-\\n i. \\int \\frac{dx}{f(x)} =...   \n",
            "\n",
            "                                    Bengali Question                    A  \\\n",
            "0  \\int_{0}^{1} \\frac{sin^{-1}p}{\\sqrt{1-p^{2}}}d...        \\frac{\\pi}{2}   \n",
            "1  y = 3x (x - 2) একটি বক্ররেখার সমীকরণ।\\n \\n মূল...           y + 6x = 0   \n",
            "2  \\int e^{x} \\left ( \\frac{1}{x} - \\frac{1}{x^{2...  - \\frac{e^x}{x} + c   \n",
            "3    \\int_{1}{\\sqrt{3}} \\frac{x}{1 + x^2} dx এর মান-                  ln2   \n",
            "4  f(x) = 2x হলে-\\n i. \\int \\frac{dx}{f(x)} = \\fr...             i and ii   \n",
            "\n",
            "                       B                         C                    D  \\\n",
            "0      \\frac{\\pi^{2}}{2}         \\frac{\\pi^{2}}{4}    \\frac{\\pi^{2}}{8}   \n",
            "1             y - 6x = 0                x + 6y = 0           x - 6y = 0   \n",
            "2  - \\frac{e^x}{x^2} + c         \\frac{e^x}{x} + c  \\frac{e^x}{x^2} + c   \n",
            "3          ln\\frac{1}{2}  \\frac{1}{2}ln\\frac{1}{2}       \\frac{1}{2}ln2   \n",
            "4              i and iii                ii and iii        i, ii and iii   \n",
            "\n",
            "                  A Bn                   B Bn                      C Bn  \\\n",
            "0        \\frac{\\pi}{2}      \\frac{\\pi^{2}}{2}         \\frac{\\pi^{2}}{4}   \n",
            "1           y + 6x = 0             y - 6x = 0                x + 6y = 0   \n",
            "2  - \\frac{e^x}{x} + c  - \\frac{e^x}{x^2} + c         \\frac{e^x}{x} + c   \n",
            "3                  ln2          ln\\frac{1}{2}  \\frac{1}{2}ln\\frac{1}{2}   \n",
            "4             i এবং ii              i এবং iii                ii এবং iii   \n",
            "\n",
            "                  D Bn Correct Answer  \\\n",
            "0    \\frac{\\pi^{2}}{8}              d   \n",
            "1           x - 6y = 0              a   \n",
            "2  \\frac{e^x}{x^2} + c              c   \n",
            "3       \\frac{1}{2}ln2              d   \n",
            "4        i, ii এবং iii              d   \n",
            "\n",
            "                                    predicted_option    correct_option_fmt  \n",
            "0  আপনাকে একটি প্রশ্ন এবং চারটি বিকল্প উত্তর দেওয...  ঘ) \\frac{\\pi^{2}}{8}  \n",
            "1  আপনাকে একটি প্রশ্ন এবং চারটি বিকল্প উত্তর দেওয...         ক) y + 6x = 0  \n",
            "2  আপনাকে একটি প্রশ্ন এবং চারটি বিকল্প উত্তর দেওয...  গ) \\frac{e^x}{x} + c  \n",
            "3  আপনাকে একটি প্রশ্ন এবং চারটি বিকল্প উত্তর দেওয...     ঘ) \\frac{1}{2}ln2  \n",
            "4  আপনাকে একটি প্রশ্ন এবং চারটি বিকল্প উত্তর দেওয...      ঘ) i, ii এবং iii  \n",
            "https://github.com/sheikhshafayat/BEnQA/raw/master/data/BEnQA/12th-Math-II.csv\n",
            "                                    English Question  \\\n",
            "0  An arrow throws into a wall losses half its ve...   \n",
            "1              What is the value of \\sqrt[4]{- 49} ?   \n",
            "2  If \\alpha, \\beta, \\gamma be the roots of the e...   \n",
            "3  If \\frac{1}{2 + i} be the one of the roots of ...   \n",
            "4  If 3 be the one of the roots of x^{2} - kx + 2...   \n",
            "\n",
            "                                    Bengali Question                     A  \\\n",
            "0  একটি তীর একটি দেয়ালের ভিতর 3 ইঞ্চি ঢুকার পর তা...           \\frac{1}{2}   \n",
            "1                       \\sqrt[4]{- 49} এর মান কোনটি?         \\pm \\sqrt{7}i   \n",
            "2  3x^{3} - 1 = 0 সমীকরণের মূলত্রয় \\alpha, \\beta,...                    -1   \n",
            "3  কোনো দ্বিঘাত সমীকরণের একটি মূল \\frac{1}{2 + i}...  9x^{2} - 12x + 5 = 0   \n",
            "4  x^{2} - kx + 2 = 0, সমীকরণের একটি মূল 3 হলে-\\n...              i and ii   \n",
            "\n",
            "                                  B                         C  \\\n",
            "0                       \\frac{1}{3}               \\frac{2}{3}   \n",
            "1  \\pm \\sqrt{\\frac{7}{2}} (1 \\pm i)  \\pm \\frac{7}{2} ( \\pm i)   \n",
            "2                                 0               \\frac{1}{3}   \n",
            "3               5x^{2} - 4x + 1 = 0      5x^{2} + 14x + 1 = 0   \n",
            "4                        ii and iii                 i and iii   \n",
            "\n",
            "                               D                  A Bn  \\\n",
            "0                              1           \\frac{1}{2}   \n",
            "1  \\frac{7}{\\sqrt{2}} (1 \\pm 2i)         \\pm \\sqrt{7}i   \n",
            "2                              1                    -1   \n",
            "3          25x^{2} - 20x + 3 = 0  9x^{2} - 12x + 5 = 0   \n",
            "4                  i, ii and iii                i ও ii   \n",
            "\n",
            "                               B Bn                      C Bn  \\\n",
            "0                       \\frac{1}{3}               \\frac{2}{3}   \n",
            "1  \\pm \\sqrt{\\frac{7}{2}} (1 \\pm i)  \\pm \\frac{7}{2} ( \\pm i)   \n",
            "2                                 0               \\frac{1}{3}   \n",
            "3               5x^{2} - 4x + 1 = 0      5x^{2} + 14x + 1 = 0   \n",
            "4                          ii ও iii                   i ও iii   \n",
            "\n",
            "                            D Bn Correct Answer  \n",
            "0                              1              d  \n",
            "1  \\frac{7}{\\sqrt{2}} (1 \\pm 2i)              b  \n",
            "2                              1              d  \n",
            "3          25x^{2} - 20x + 3 = 0              b  \n",
            "4                    i, ii ও iii              a  \n"
          ]
        },
        {
          "data": {
            "application/vnd.jupyter.widget-view+json": {
              "model_id": "cefec46490df40aebe316c3aeded073d",
              "version_major": 2,
              "version_minor": 0
            },
            "text/plain": [
              "  0%|          | 0/391 [00:00<?, ?it/s]"
            ]
          },
          "metadata": {},
          "output_type": "display_data"
        },
        {
          "name": "stdout",
          "output_type": "stream",
          "text": [
            "                                    English Question  \\\n",
            "0  An arrow throws into a wall losses half its ve...   \n",
            "1              What is the value of \\sqrt[4]{- 49} ?   \n",
            "2  If \\alpha, \\beta, \\gamma be the roots of the e...   \n",
            "3  If \\frac{1}{2 + i} be the one of the roots of ...   \n",
            "4  If 3 be the one of the roots of x^{2} - kx + 2...   \n",
            "\n",
            "                                    Bengali Question                     A  \\\n",
            "0  একটি তীর একটি দেয়ালের ভিতর 3 ইঞ্চি ঢুকার পর তা...           \\frac{1}{2}   \n",
            "1                       \\sqrt[4]{- 49} এর মান কোনটি?         \\pm \\sqrt{7}i   \n",
            "2  3x^{3} - 1 = 0 সমীকরণের মূলত্রয় \\alpha, \\beta,...                    -1   \n",
            "3  কোনো দ্বিঘাত সমীকরণের একটি মূল \\frac{1}{2 + i}...  9x^{2} - 12x + 5 = 0   \n",
            "4  x^{2} - kx + 2 = 0, সমীকরণের একটি মূল 3 হলে-\\n...              i and ii   \n",
            "\n",
            "                                  B                         C  \\\n",
            "0                       \\frac{1}{3}               \\frac{2}{3}   \n",
            "1  \\pm \\sqrt{\\frac{7}{2}} (1 \\pm i)  \\pm \\frac{7}{2} ( \\pm i)   \n",
            "2                                 0               \\frac{1}{3}   \n",
            "3               5x^{2} - 4x + 1 = 0      5x^{2} + 14x + 1 = 0   \n",
            "4                        ii and iii                 i and iii   \n",
            "\n",
            "                               D                  A Bn  \\\n",
            "0                              1           \\frac{1}{2}   \n",
            "1  \\frac{7}{\\sqrt{2}} (1 \\pm 2i)         \\pm \\sqrt{7}i   \n",
            "2                              1                    -1   \n",
            "3          25x^{2} - 20x + 3 = 0  9x^{2} - 12x + 5 = 0   \n",
            "4                  i, ii and iii                i ও ii   \n",
            "\n",
            "                               B Bn                      C Bn  \\\n",
            "0                       \\frac{1}{3}               \\frac{2}{3}   \n",
            "1  \\pm \\sqrt{\\frac{7}{2}} (1 \\pm i)  \\pm \\frac{7}{2} ( \\pm i)   \n",
            "2                                 0               \\frac{1}{3}   \n",
            "3               5x^{2} - 4x + 1 = 0      5x^{2} + 14x + 1 = 0   \n",
            "4                          ii ও iii                   i ও iii   \n",
            "\n",
            "                            D Bn Correct Answer  \\\n",
            "0                              1              d   \n",
            "1  \\frac{7}{\\sqrt{2}} (1 \\pm 2i)              b   \n",
            "2                              1              d   \n",
            "3          25x^{2} - 20x + 3 = 0              b   \n",
            "4                    i, ii ও iii              a   \n",
            "\n",
            "                                    predicted_option  \\\n",
            "0  আপনাকে একটি প্রশ্ন এবং চারটি বিকল্প উত্তর দেওয...   \n",
            "1  আপনাকে একটি প্রশ্ন এবং চারটি বিকল্প উত্তর দেওয...   \n",
            "2  আপনাকে একটি প্রশ্ন এবং চারটি বিকল্প উত্তর দেওয...   \n",
            "3  আপনাকে একটি প্রশ্ন এবং চারটি বিকল্প উত্তর দেওয...   \n",
            "4  আপনাকে একটি প্রশ্ন এবং চারটি বিকল্প উত্তর দেওয...   \n",
            "\n",
            "                    correct_option_fmt  \n",
            "0                                 ঘ) 1  \n",
            "1  খ) \\pm \\sqrt{\\frac{7}{2}} (1 \\pm i)  \n",
            "2                                 ঘ) 1  \n",
            "3               খ) 5x^{2} - 4x + 1 = 0  \n",
            "4                            ক) i ও ii  \n",
            "https://github.com/sheikhshafayat/BEnQA/raw/master/data/BEnQA/12th-Physics-I.csv\n",
            "                                    English Question  \\\n",
            "0  A spring is expanded 10cm by appling 500N forc...   \n",
            "1  Which one is the angular velocity of the natio...   \n",
            "2  The maximum velocity and maximum acceleration ...   \n",
            "3  The maximum velocity and maximum acceleration ...   \n",
            "4  Vector \\frac{\\hat{i} - \\hat{j} + \\hat{k}}{\\sqr...   \n",
            "\n",
            "                                    Bengali Question  \\\n",
            "0  একটি স্প্রিং-এ 500 N বল প্রয়োগ করায় স্প্রিংটি ...   \n",
            "1  পৃথিবীর নিজ অক্ষের ঘূর্ণনের জন্য জাতীয় স্মৃতিস...   \n",
            "2  সরল ছন্দিত গতিতে দোলনরত একটি কণার সর্বোচ্চ ত্ব...   \n",
            "3  সরল ছন্দিত গতিতে দোলনরত একটি কণার সর্বোচ্চ ত্ব...   \n",
            "4  \\frac{\\hat{i}-\\hat{j}+\\hat{k}}{\\sqrt{3}} ভেক্ট...   \n",
            "\n",
            "                              A                 B  \\\n",
            "0                         0.04J             1.90J   \n",
            "1  7.27 \\times 10^{5} rads^{-1}  0.2618 rads^{-1}   \n",
            "2                        0.785s             1.57s   \n",
            "3                        i & ii           i & iii   \n",
            "4                   null vector  co-linear vector   \n",
            "\n",
            "                                C                              D  \\\n",
            "0                           3.80J                            98J   \n",
            "1  1.818 \\times 10^{-4} rads^{-1}  7.27 \\times 10^{-5} rads^{-1}   \n",
            "2                           3.14s                          6.28s   \n",
            "3                        ii & iii                    i, ii & iii   \n",
            "4                 coplaner vector                    unit vector   \n",
            "\n",
            "                         A Bn              B Bn                          C Bn  \\\n",
            "0                      0.04 J            1.90 J                        3.80 J   \n",
            "1  7.27\\times 10^{5}rads^{-1}  0.2618 rads^{-1}  1.818\\times 10^{-4}rads^{-1}   \n",
            "2                     0.785 s            1.57 s                        3.14 s   \n",
            "3                      i ও ii           i ও iii                      ii ও iii   \n",
            "4                  নাল ভেক্টর      সমরেখ ভেক্টর                 সমতলীয় ভেক্টর   \n",
            "\n",
            "                          D Bn Correct Answer  \n",
            "0                         98 J              c  \n",
            "1  7.27\\times 10^{-5}rads^{-1}              d  \n",
            "2                       6.28 s              c  \n",
            "3                  i, ii ও iii              a  \n",
            "4                   একক ভেক্টর              d  \n"
          ]
        },
        {
          "data": {
            "application/vnd.jupyter.widget-view+json": {
              "model_id": "3a0bb25c1d554a9db3377a468aef823e",
              "version_major": 2,
              "version_minor": 0
            },
            "text/plain": [
              "  0%|          | 0/304 [00:00<?, ?it/s]"
            ]
          },
          "metadata": {},
          "output_type": "display_data"
        },
        {
          "name": "stdout",
          "output_type": "stream",
          "text": [
            "                                    English Question  \\\n",
            "0  A spring is expanded 10cm by appling 500N forc...   \n",
            "1  Which one is the angular velocity of the natio...   \n",
            "2  The maximum velocity and maximum acceleration ...   \n",
            "3  The maximum velocity and maximum acceleration ...   \n",
            "4  Vector \\frac{\\hat{i} - \\hat{j} + \\hat{k}}{\\sqr...   \n",
            "\n",
            "                                    Bengali Question  \\\n",
            "0  একটি স্প্রিং-এ 500 N বল প্রয়োগ করায় স্প্রিংটি ...   \n",
            "1  পৃথিবীর নিজ অক্ষের ঘূর্ণনের জন্য জাতীয় স্মৃতিস...   \n",
            "2  সরল ছন্দিত গতিতে দোলনরত একটি কণার সর্বোচ্চ ত্ব...   \n",
            "3  সরল ছন্দিত গতিতে দোলনরত একটি কণার সর্বোচ্চ ত্ব...   \n",
            "4  \\frac{\\hat{i}-\\hat{j}+\\hat{k}}{\\sqrt{3}} ভেক্ট...   \n",
            "\n",
            "                              A                 B  \\\n",
            "0                         0.04J             1.90J   \n",
            "1  7.27 \\times 10^{5} rads^{-1}  0.2618 rads^{-1}   \n",
            "2                        0.785s             1.57s   \n",
            "3                        i & ii           i & iii   \n",
            "4                   null vector  co-linear vector   \n",
            "\n",
            "                                C                              D  \\\n",
            "0                           3.80J                            98J   \n",
            "1  1.818 \\times 10^{-4} rads^{-1}  7.27 \\times 10^{-5} rads^{-1}   \n",
            "2                           3.14s                          6.28s   \n",
            "3                        ii & iii                    i, ii & iii   \n",
            "4                 coplaner vector                    unit vector   \n",
            "\n",
            "                         A Bn              B Bn                          C Bn  \\\n",
            "0                      0.04 J            1.90 J                        3.80 J   \n",
            "1  7.27\\times 10^{5}rads^{-1}  0.2618 rads^{-1}  1.818\\times 10^{-4}rads^{-1}   \n",
            "2                     0.785 s            1.57 s                        3.14 s   \n",
            "3                      i ও ii           i ও iii                      ii ও iii   \n",
            "4                  নাল ভেক্টর      সমরেখ ভেক্টর                 সমতলীয় ভেক্টর   \n",
            "\n",
            "                          D Bn Correct Answer  \\\n",
            "0                         98 J              c   \n",
            "1  7.27\\times 10^{-5}rads^{-1}              d   \n",
            "2                       6.28 s              c   \n",
            "3                  i, ii ও iii              a   \n",
            "4                   একক ভেক্টর              d   \n",
            "\n",
            "                                    predicted_option  \\\n",
            "0  আপনাকে একটি প্রশ্ন এবং চারটি বিকল্প উত্তর দেওয...   \n",
            "1  আপনাকে একটি প্রশ্ন এবং চারটি বিকল্প উত্তর দেওয...   \n",
            "2  আপনাকে একটি প্রশ্ন এবং চারটি বিকল্প উত্তর দেওয...   \n",
            "3  আপনাকে একটি প্রশ্ন এবং চারটি বিকল্প উত্তর দেওয...   \n",
            "4  আপনাকে একটি প্রশ্ন এবং চারটি বিকল্প উত্তর দেওয...   \n",
            "\n",
            "               correct_option_fmt  \n",
            "0                       গ) 3.80 J  \n",
            "1  ঘ) 7.27\\times 10^{-5}rads^{-1}  \n",
            "2                       গ) 3.14 s  \n",
            "3                       ক) i ও ii  \n",
            "4                   ঘ) একক ভেক্টর  \n",
            "https://github.com/sheikhshafayat/BEnQA/raw/master/data/BEnQA/12th-Physics-II.csv\n",
            "                                    English Question  \\\n",
            "0  The ratio of amplitude of two co-herent source...   \n",
            "1  The maximum magnitude of electric field of an ...   \n",
            "2  A carnot engine when remain at 72\\degree C sin...   \n",
            "3  A carnot engine when remain at 72\\degree C sin...   \n",
            "4  The phase difference between two points of an ...   \n",
            "\n",
            "                                    Bengali Question  \\\n",
            "0  দুটি সুসংগত উৎসের বিস্তারের অনুপাত 3 : 2 । তরঙ...   \n",
            "1  একটি তড়িৎচুম্বকীয় তরঙ্গের তড়িৎ ক্ষেত্রের সর্বো...   \n",
            "2  একটি কার্নো ইঞ্জিন যখন 72\\degree C তাপমাত্রায় ...   \n",
            "3  একটি কার্নো ইঞ্জিন যখন 72\\degree C তাপমাত্রায় ...   \n",
            "4  একটি তড়িৎ চুম্বকীয় তরঙ্গের উপর অবস্থিত যেকোনো ...   \n",
            "\n",
            "                                  A                           B  \\\n",
            "0                             9 : 4                       4 : 9   \n",
            "1  1.62 \\times 10^{10}_{1} Wbm^{-2}  1.8 \\times 10^{7} Wbm^{-2}   \n",
            "2                             138 K                       207 K   \n",
            "3                                 i                         iii   \n",
            "4                          i and ii                   i and iii   \n",
            "\n",
            "                             C                              D  \\\n",
            "0                       25 : 1                         1 : 25   \n",
            "1  1.8 \\times 10^{-7} Wbm^{-2}  1.62 \\times 10^{-10} Wbm^{-2}   \n",
            "2                        575 K                          863 K   \n",
            "3                       i & ii                        i & iii   \n",
            "4                   ii and iii                  i, ii and iii   \n",
            "\n",
            "                               A Bn                        B Bn  \\\n",
            "0                             9 : 4                       4 : 9   \n",
            "1  1.62 \\times 10^{10}_{1} Wbm^{-2}  1.8 \\times 10^{7} Wbm^{-2}   \n",
            "2                             138 K                       207 K   \n",
            "3                                 i                         iii   \n",
            "4                            i ও ii                     i ও iii   \n",
            "\n",
            "                          C Bn                           D Bn Correct Answer  \n",
            "0                       25 : 1                         1 : 25              a  \n",
            "1  1.8 \\times 10^{-7} Wbm^{-2}  1.62 \\times 10^{-10} Wbm^{-2}              c  \n",
            "2                        575 K                          863 K              c  \n",
            "3                       i ও ii                        i ও iii              c  \n",
            "4                     ii ও iii                    i, ii ও iii              d  \n"
          ]
        },
        {
          "data": {
            "application/vnd.jupyter.widget-view+json": {
              "model_id": "6ae32da13f5243ab8e292ba6ab8b516f",
              "version_major": 2,
              "version_minor": 0
            },
            "text/plain": [
              "  0%|          | 0/333 [00:00<?, ?it/s]"
            ]
          },
          "metadata": {},
          "output_type": "display_data"
        },
        {
          "name": "stdout",
          "output_type": "stream",
          "text": [
            "                                    English Question  \\\n",
            "0  The ratio of amplitude of two co-herent source...   \n",
            "1  The maximum magnitude of electric field of an ...   \n",
            "2  A carnot engine when remain at 72\\degree C sin...   \n",
            "3  A carnot engine when remain at 72\\degree C sin...   \n",
            "4  The phase difference between two points of an ...   \n",
            "\n",
            "                                    Bengali Question  \\\n",
            "0  দুটি সুসংগত উৎসের বিস্তারের অনুপাত 3 : 2 । তরঙ...   \n",
            "1  একটি তড়িৎচুম্বকীয় তরঙ্গের তড়িৎ ক্ষেত্রের সর্বো...   \n",
            "2  একটি কার্নো ইঞ্জিন যখন 72\\degree C তাপমাত্রায় ...   \n",
            "3  একটি কার্নো ইঞ্জিন যখন 72\\degree C তাপমাত্রায় ...   \n",
            "4  একটি তড়িৎ চুম্বকীয় তরঙ্গের উপর অবস্থিত যেকোনো ...   \n",
            "\n",
            "                                  A                           B  \\\n",
            "0                             9 : 4                       4 : 9   \n",
            "1  1.62 \\times 10^{10}_{1} Wbm^{-2}  1.8 \\times 10^{7} Wbm^{-2}   \n",
            "2                             138 K                       207 K   \n",
            "3                                 i                         iii   \n",
            "4                          i and ii                   i and iii   \n",
            "\n",
            "                             C                              D  \\\n",
            "0                       25 : 1                         1 : 25   \n",
            "1  1.8 \\times 10^{-7} Wbm^{-2}  1.62 \\times 10^{-10} Wbm^{-2}   \n",
            "2                        575 K                          863 K   \n",
            "3                       i & ii                        i & iii   \n",
            "4                   ii and iii                  i, ii and iii   \n",
            "\n",
            "                               A Bn                        B Bn  \\\n",
            "0                             9 : 4                       4 : 9   \n",
            "1  1.62 \\times 10^{10}_{1} Wbm^{-2}  1.8 \\times 10^{7} Wbm^{-2}   \n",
            "2                             138 K                       207 K   \n",
            "3                                 i                         iii   \n",
            "4                            i ও ii                     i ও iii   \n",
            "\n",
            "                          C Bn                           D Bn Correct Answer  \\\n",
            "0                       25 : 1                         1 : 25              a   \n",
            "1  1.8 \\times 10^{-7} Wbm^{-2}  1.62 \\times 10^{-10} Wbm^{-2}              c   \n",
            "2                        575 K                          863 K              c   \n",
            "3                       i ও ii                        i ও iii              c   \n",
            "4                     ii ও iii                    i, ii ও iii              d   \n",
            "\n",
            "                                    predicted_option  \\\n",
            "0  আপনাকে একটি প্রশ্ন এবং চারটি বিকল্প উত্তর দেওয...   \n",
            "1  আপনাকে একটি প্রশ্ন এবং চারটি বিকল্প উত্তর দেওয...   \n",
            "2  আপনাকে একটি প্রশ্ন এবং চারটি বিকল্প উত্তর দেওয...   \n",
            "3  আপনাকে একটি প্রশ্ন এবং চারটি বিকল্প উত্তর দেওয...   \n",
            "4  আপনাকে একটি প্রশ্ন এবং চারটি বিকল্প উত্তর দেওয...   \n",
            "\n",
            "               correct_option_fmt  \n",
            "0                        ক) 9 : 4  \n",
            "1  গ) 1.8 \\times 10^{-7} Wbm^{-2}  \n",
            "2                        গ) 575 K  \n",
            "3                       গ) i ও ii  \n",
            "4                  ঘ) i, ii ও iii  \n"
          ]
        }
      ],
      "source": [
        "import time\n",
        "from tqdm.notebook import tqdm\n",
        "\n",
        "\n",
        "def prepare_zs_results(df, dataset_tag):\n",
        "    # Assuming df is the original DataFrame and category_translation is defined\n",
        "    df['predicted_option'] = None\n",
        "    df['correct_option_fmt'] = None\n",
        "\n",
        "    # Try to load the progress from the Parquet file\n",
        "    try:\n",
        "        df_progress = pd.read_parquet(f\"bloom_7b1_zs_rqa_{dataset_tag}_results.parquet\")\n",
        "        start_index = df_progress['predicted_option'].last_valid_index() + 1\n",
        "    except (FileNotFoundError, ValueError):\n",
        "        df_progress = df.copy()\n",
        "        start_index = 0\n",
        "\n",
        "\n",
        "    for i, row in tqdm(df.iloc[start_index:].iterrows(), initial=start_index, total=len(df) - start_index):\n",
        "\n",
        "        try:\n",
        "            prompt_input, cor_opt = prepare_questions(row, base_prompt = zero_shot, prompt_type = 'zero_shot')\n",
        "        except:\n",
        "            print(\"Error w/ sample\", row)\n",
        "\n",
        "        try:\n",
        "            df.at[i, 'predicted_option'] = get_bloom_7b1_output(prompt_input, max_new_tokens = 128)\n",
        "            df.at[i, 'correct_option_fmt'] = cor_opt\n",
        "        except Exception as e:\n",
        "            print(f\"Error at index {i}\")\n",
        "            time.sleep(5)\n",
        "\n",
        "        if (i + 1) % 100 == 0:\n",
        "            df.to_parquet(f\"bloom_7b1_zs_rqa_{dataset_tag}_results.parquet\")\n",
        "\n",
        "    # Save final progress\n",
        "    df.to_parquet(f\"bloom_7b1_zs_rqa_{dataset_tag}_results.parquet\")\n",
        "    return df\n",
        "\n",
        "### set file index\n",
        "\n",
        "for file_index in range(5):\n",
        "    print(file_paths[file_index])\n",
        "    df = pd.read_csv(file_paths[file_index])\n",
        "\n",
        "    print(df.head())\n",
        "\n",
        "    zs_results = prepare_zs_results(df, dataset_tag = file_tags[file_index])\n",
        "    print(zs_results.head())"
      ]
    },
    {
      "cell_type": "markdown",
      "id": "r5hYuksFuryE",
      "metadata": {
        "id": "r5hYuksFuryE"
      },
      "source": [
        "### Three Shot"
      ]
    },
    {
      "cell_type": "code",
      "execution_count": null,
      "id": "qX3_X10ZStO7",
      "metadata": {
        "colab": {
          "referenced_widgets": [
            "195e53ce68eb452ab263eae6f04cb6cf",
            "3cdbb7e15bf64815b0f961679feee470",
            "2b1fdb1797d846269c30def58d6b9c3e",
            "435fa48b720447779da5103dae340cbd",
            "c1352d5bb59f444c9c42e825ea020041"
          ]
        },
        "id": "qX3_X10ZStO7",
        "outputId": "50a94258-f96e-466d-c304-59df9926584e"
      },
      "outputs": [
        {
          "name": "stdout",
          "output_type": "stream",
          "text": [
            "https://github.com/sheikhshafayat/BEnQA/raw/master/data/BEnQA/8th-Science.csv\n",
            "                                   English Question  \\\n",
            "0                   Which acid present in tamarind?   \n",
            "1               By which two elements fuse is made?   \n",
            "2  Which on is the tertiary consumer of sundarbans?   \n",
            "3           Which hormone is sybtgesuzed in leaves?   \n",
            "4                 Which one is used as insecticide?   \n",
            "\n",
            "                               Bengali Question              A             B  \\\n",
            "0                        তেঁতুলে কোন এসিড থাকে?          Malic        Citric   \n",
            "1  কোন মৌল দুটির সাহায্যে ফিউজ প্রস্তুত করা হয়?  Lead and Zinc  Zinc and Tin   \n",
            "2          সুন্দরবনের তৃতীয় স্তরের খাদক কোনটি?            Pig          Deer   \n",
            "3                     পাতায় উৎপন্ন হরমোন কোনটি?          Auxin      Ethylene   \n",
            "4            ফসলের ক্ষতিকর পেস্ট দমন করে কোনটি?       NH_{4}OH          NaOH   \n",
            "\n",
            "              C              D          A Bn         B Bn        C Bn  \\\n",
            "0        Oxalic       Tartaric       ম্যালিক     সাইট্রিক    অক্সালিক   \n",
            "1  Lead and Tin  Lead and Iron  সীসা ও জিঙ্ক  জিঙ্জ ও টিন  সীসা ও টিন   \n",
            "2        Monkey            Hen          শুকর         হরিণ        বানর   \n",
            "3      Florigen    Gibberellin        অক্সিন       ইথিলিন   ফ্লোরিজেন   \n",
            "4    Mg(OH)_{2}     Ca(OH)_{2}      NH_{4}OH         NaOH  Mg(OH)_{2}   \n",
            "\n",
            "          D Bn Correct Answer  \n",
            "0     টারটারিক              d  \n",
            "1  সীসা ও লোহা              c  \n",
            "2        মুরগি              a  \n",
            "3  জিব্বেরেলিন              c  \n",
            "4   Ca(OH)_{2}              d  \n"
          ]
        },
        {
          "data": {
            "application/vnd.jupyter.widget-view+json": {
              "model_id": "195e53ce68eb452ab263eae6f04cb6cf",
              "version_major": 2,
              "version_minor": 0
            },
            "text/plain": [
              "228it [00:00, ?it/s]"
            ]
          },
          "metadata": {},
          "output_type": "display_data"
        },
        {
          "name": "stdout",
          "output_type": "stream",
          "text": [
            "                                   English Question  \\\n",
            "0                   Which acid present in tamarind?   \n",
            "1               By which two elements fuse is made?   \n",
            "2  Which on is the tertiary consumer of sundarbans?   \n",
            "3           Which hormone is sybtgesuzed in leaves?   \n",
            "4                 Which one is used as insecticide?   \n",
            "\n",
            "                               Bengali Question              A             B  \\\n",
            "0                        তেঁতুলে কোন এসিড থাকে?          Malic        Citric   \n",
            "1  কোন মৌল দুটির সাহায্যে ফিউজ প্রস্তুত করা হয়?  Lead and Zinc  Zinc and Tin   \n",
            "2          সুন্দরবনের তৃতীয় স্তরের খাদক কোনটি?            Pig          Deer   \n",
            "3                     পাতায় উৎপন্ন হরমোন কোনটি?          Auxin      Ethylene   \n",
            "4            ফসলের ক্ষতিকর পেস্ট দমন করে কোনটি?       NH_{4}OH          NaOH   \n",
            "\n",
            "              C              D          A Bn         B Bn        C Bn  \\\n",
            "0        Oxalic       Tartaric       ম্যালিক     সাইট্রিক    অক্সালিক   \n",
            "1  Lead and Tin  Lead and Iron  সীসা ও জিঙ্ক  জিঙ্জ ও টিন  সীসা ও টিন   \n",
            "2        Monkey            Hen          শুকর         হরিণ        বানর   \n",
            "3      Florigen    Gibberellin        অক্সিন       ইথিলিন   ফ্লোরিজেন   \n",
            "4    Mg(OH)_{2}     Ca(OH)_{2}      NH_{4}OH         NaOH  Mg(OH)_{2}   \n",
            "\n",
            "          D Bn Correct Answer predicted_option correct_option_fmt  \n",
            "0     টারটারিক              d             None               None  \n",
            "1  সীসা ও লোহা              c             None               None  \n",
            "2        মুরগি              a             None               None  \n",
            "3  জিব্বেরেলিন              c             None               None  \n",
            "4   Ca(OH)_{2}              d             None               None  \n",
            "https://github.com/sheikhshafayat/BEnQA/raw/master/data/BEnQA/12th-Math-I.csv\n",
            "                                    English Question  \\\n",
            "0  What is the value of \\int_{0}^{1} \\frac{sin^{-...   \n",
            "1  The equation of a curve is y = 3x (x - 2).\\n \\...   \n",
            "2  What is the value of \\int e^{x} \\left ( \\frac{...   \n",
            "3  The value of \\int_{1}{\\sqrt{3}} \\frac{x}{1 + x...   \n",
            "4  If f(x) = 2x then-\\n i. \\int \\frac{dx}{f(x)} =...   \n",
            "\n",
            "                                    Bengali Question                    A  \\\n",
            "0  \\int_{0}^{1} \\frac{sin^{-1}p}{\\sqrt{1-p^{2}}}d...        \\frac{\\pi}{2}   \n",
            "1  y = 3x (x - 2) একটি বক্ররেখার সমীকরণ।\\n \\n মূল...           y + 6x = 0   \n",
            "2  \\int e^{x} \\left ( \\frac{1}{x} - \\frac{1}{x^{2...  - \\frac{e^x}{x} + c   \n",
            "3    \\int_{1}{\\sqrt{3}} \\frac{x}{1 + x^2} dx এর মান-                  ln2   \n",
            "4  f(x) = 2x হলে-\\n i. \\int \\frac{dx}{f(x)} = \\fr...             i and ii   \n",
            "\n",
            "                       B                         C                    D  \\\n",
            "0      \\frac{\\pi^{2}}{2}         \\frac{\\pi^{2}}{4}    \\frac{\\pi^{2}}{8}   \n",
            "1             y - 6x = 0                x + 6y = 0           x - 6y = 0   \n",
            "2  - \\frac{e^x}{x^2} + c         \\frac{e^x}{x} + c  \\frac{e^x}{x^2} + c   \n",
            "3          ln\\frac{1}{2}  \\frac{1}{2}ln\\frac{1}{2}       \\frac{1}{2}ln2   \n",
            "4              i and iii                ii and iii        i, ii and iii   \n",
            "\n",
            "                  A Bn                   B Bn                      C Bn  \\\n",
            "0        \\frac{\\pi}{2}      \\frac{\\pi^{2}}{2}         \\frac{\\pi^{2}}{4}   \n",
            "1           y + 6x = 0             y - 6x = 0                x + 6y = 0   \n",
            "2  - \\frac{e^x}{x} + c  - \\frac{e^x}{x^2} + c         \\frac{e^x}{x} + c   \n",
            "3                  ln2          ln\\frac{1}{2}  \\frac{1}{2}ln\\frac{1}{2}   \n",
            "4             i এবং ii              i এবং iii                ii এবং iii   \n",
            "\n",
            "                  D Bn Correct Answer  \n",
            "0    \\frac{\\pi^{2}}{8}              d  \n",
            "1           x - 6y = 0              a  \n",
            "2  \\frac{e^x}{x^2} + c              c  \n",
            "3       \\frac{1}{2}ln2              d  \n",
            "4        i, ii এবং iii              d  \n"
          ]
        },
        {
          "data": {
            "application/vnd.jupyter.widget-view+json": {
              "model_id": "3cdbb7e15bf64815b0f961679feee470",
              "version_major": 2,
              "version_minor": 0
            },
            "text/plain": [
              "396it [00:00, ?it/s]"
            ]
          },
          "metadata": {},
          "output_type": "display_data"
        },
        {
          "name": "stdout",
          "output_type": "stream",
          "text": [
            "                                    English Question  \\\n",
            "0  What is the value of \\int_{0}^{1} \\frac{sin^{-...   \n",
            "1  The equation of a curve is y = 3x (x - 2).\\n \\...   \n",
            "2  What is the value of \\int e^{x} \\left ( \\frac{...   \n",
            "3  The value of \\int_{1}{\\sqrt{3}} \\frac{x}{1 + x...   \n",
            "4  If f(x) = 2x then-\\n i. \\int \\frac{dx}{f(x)} =...   \n",
            "\n",
            "                                    Bengali Question                    A  \\\n",
            "0  \\int_{0}^{1} \\frac{sin^{-1}p}{\\sqrt{1-p^{2}}}d...        \\frac{\\pi}{2}   \n",
            "1  y = 3x (x - 2) একটি বক্ররেখার সমীকরণ।\\n \\n মূল...           y + 6x = 0   \n",
            "2  \\int e^{x} \\left ( \\frac{1}{x} - \\frac{1}{x^{2...  - \\frac{e^x}{x} + c   \n",
            "3    \\int_{1}{\\sqrt{3}} \\frac{x}{1 + x^2} dx এর মান-                  ln2   \n",
            "4  f(x) = 2x হলে-\\n i. \\int \\frac{dx}{f(x)} = \\fr...             i and ii   \n",
            "\n",
            "                       B                         C                    D  \\\n",
            "0      \\frac{\\pi^{2}}{2}         \\frac{\\pi^{2}}{4}    \\frac{\\pi^{2}}{8}   \n",
            "1             y - 6x = 0                x + 6y = 0           x - 6y = 0   \n",
            "2  - \\frac{e^x}{x^2} + c         \\frac{e^x}{x} + c  \\frac{e^x}{x^2} + c   \n",
            "3          ln\\frac{1}{2}  \\frac{1}{2}ln\\frac{1}{2}       \\frac{1}{2}ln2   \n",
            "4              i and iii                ii and iii        i, ii and iii   \n",
            "\n",
            "                  A Bn                   B Bn                      C Bn  \\\n",
            "0        \\frac{\\pi}{2}      \\frac{\\pi^{2}}{2}         \\frac{\\pi^{2}}{4}   \n",
            "1           y + 6x = 0             y - 6x = 0                x + 6y = 0   \n",
            "2  - \\frac{e^x}{x} + c  - \\frac{e^x}{x^2} + c         \\frac{e^x}{x} + c   \n",
            "3                  ln2          ln\\frac{1}{2}  \\frac{1}{2}ln\\frac{1}{2}   \n",
            "4             i এবং ii              i এবং iii                ii এবং iii   \n",
            "\n",
            "                  D Bn Correct Answer predicted_option correct_option_fmt  \n",
            "0    \\frac{\\pi^{2}}{8}              d             None               None  \n",
            "1           x - 6y = 0              a             None               None  \n",
            "2  \\frac{e^x}{x^2} + c              c             None               None  \n",
            "3       \\frac{1}{2}ln2              d             None               None  \n",
            "4        i, ii এবং iii              d             None               None  \n",
            "https://github.com/sheikhshafayat/BEnQA/raw/master/data/BEnQA/12th-Math-II.csv\n",
            "                                    English Question  \\\n",
            "0  An arrow throws into a wall losses half its ve...   \n",
            "1              What is the value of \\sqrt[4]{- 49} ?   \n",
            "2  If \\alpha, \\beta, \\gamma be the roots of the e...   \n",
            "3  If \\frac{1}{2 + i} be the one of the roots of ...   \n",
            "4  If 3 be the one of the roots of x^{2} - kx + 2...   \n",
            "\n",
            "                                    Bengali Question                     A  \\\n",
            "0  একটি তীর একটি দেয়ালের ভিতর 3 ইঞ্চি ঢুকার পর তা...           \\frac{1}{2}   \n",
            "1                       \\sqrt[4]{- 49} এর মান কোনটি?         \\pm \\sqrt{7}i   \n",
            "2  3x^{3} - 1 = 0 সমীকরণের মূলত্রয় \\alpha, \\beta,...                    -1   \n",
            "3  কোনো দ্বিঘাত সমীকরণের একটি মূল \\frac{1}{2 + i}...  9x^{2} - 12x + 5 = 0   \n",
            "4  x^{2} - kx + 2 = 0, সমীকরণের একটি মূল 3 হলে-\\n...              i and ii   \n",
            "\n",
            "                                  B                         C  \\\n",
            "0                       \\frac{1}{3}               \\frac{2}{3}   \n",
            "1  \\pm \\sqrt{\\frac{7}{2}} (1 \\pm i)  \\pm \\frac{7}{2} ( \\pm i)   \n",
            "2                                 0               \\frac{1}{3}   \n",
            "3               5x^{2} - 4x + 1 = 0      5x^{2} + 14x + 1 = 0   \n",
            "4                        ii and iii                 i and iii   \n",
            "\n",
            "                               D                  A Bn  \\\n",
            "0                              1           \\frac{1}{2}   \n",
            "1  \\frac{7}{\\sqrt{2}} (1 \\pm 2i)         \\pm \\sqrt{7}i   \n",
            "2                              1                    -1   \n",
            "3          25x^{2} - 20x + 3 = 0  9x^{2} - 12x + 5 = 0   \n",
            "4                  i, ii and iii                i ও ii   \n",
            "\n",
            "                               B Bn                      C Bn  \\\n",
            "0                       \\frac{1}{3}               \\frac{2}{3}   \n",
            "1  \\pm \\sqrt{\\frac{7}{2}} (1 \\pm i)  \\pm \\frac{7}{2} ( \\pm i)   \n",
            "2                                 0               \\frac{1}{3}   \n",
            "3               5x^{2} - 4x + 1 = 0      5x^{2} + 14x + 1 = 0   \n",
            "4                          ii ও iii                   i ও iii   \n",
            "\n",
            "                            D Bn Correct Answer  \n",
            "0                              1              d  \n",
            "1  \\frac{7}{\\sqrt{2}} (1 \\pm 2i)              b  \n",
            "2                              1              d  \n",
            "3          25x^{2} - 20x + 3 = 0              b  \n",
            "4                    i, ii ও iii              a  \n"
          ]
        },
        {
          "data": {
            "application/vnd.jupyter.widget-view+json": {
              "model_id": "2b1fdb1797d846269c30def58d6b9c3e",
              "version_major": 2,
              "version_minor": 0
            },
            "text/plain": [
              "  0%|          | 0/391 [00:00<?, ?it/s]"
            ]
          },
          "metadata": {},
          "output_type": "display_data"
        },
        {
          "name": "stdout",
          "output_type": "stream",
          "text": [
            "                                    English Question  \\\n",
            "0  An arrow throws into a wall losses half its ve...   \n",
            "1              What is the value of \\sqrt[4]{- 49} ?   \n",
            "2  If \\alpha, \\beta, \\gamma be the roots of the e...   \n",
            "3  If \\frac{1}{2 + i} be the one of the roots of ...   \n",
            "4  If 3 be the one of the roots of x^{2} - kx + 2...   \n",
            "\n",
            "                                    Bengali Question                     A  \\\n",
            "0  একটি তীর একটি দেয়ালের ভিতর 3 ইঞ্চি ঢুকার পর তা...           \\frac{1}{2}   \n",
            "1                       \\sqrt[4]{- 49} এর মান কোনটি?         \\pm \\sqrt{7}i   \n",
            "2  3x^{3} - 1 = 0 সমীকরণের মূলত্রয় \\alpha, \\beta,...                    -1   \n",
            "3  কোনো দ্বিঘাত সমীকরণের একটি মূল \\frac{1}{2 + i}...  9x^{2} - 12x + 5 = 0   \n",
            "4  x^{2} - kx + 2 = 0, সমীকরণের একটি মূল 3 হলে-\\n...              i and ii   \n",
            "\n",
            "                                  B                         C  \\\n",
            "0                       \\frac{1}{3}               \\frac{2}{3}   \n",
            "1  \\pm \\sqrt{\\frac{7}{2}} (1 \\pm i)  \\pm \\frac{7}{2} ( \\pm i)   \n",
            "2                                 0               \\frac{1}{3}   \n",
            "3               5x^{2} - 4x + 1 = 0      5x^{2} + 14x + 1 = 0   \n",
            "4                        ii and iii                 i and iii   \n",
            "\n",
            "                               D                  A Bn  \\\n",
            "0                              1           \\frac{1}{2}   \n",
            "1  \\frac{7}{\\sqrt{2}} (1 \\pm 2i)         \\pm \\sqrt{7}i   \n",
            "2                              1                    -1   \n",
            "3          25x^{2} - 20x + 3 = 0  9x^{2} - 12x + 5 = 0   \n",
            "4                  i, ii and iii                i ও ii   \n",
            "\n",
            "                               B Bn                      C Bn  \\\n",
            "0                       \\frac{1}{3}               \\frac{2}{3}   \n",
            "1  \\pm \\sqrt{\\frac{7}{2}} (1 \\pm i)  \\pm \\frac{7}{2} ( \\pm i)   \n",
            "2                                 0               \\frac{1}{3}   \n",
            "3               5x^{2} - 4x + 1 = 0      5x^{2} + 14x + 1 = 0   \n",
            "4                          ii ও iii                   i ও iii   \n",
            "\n",
            "                            D Bn Correct Answer  \\\n",
            "0                              1              d   \n",
            "1  \\frac{7}{\\sqrt{2}} (1 \\pm 2i)              b   \n",
            "2                              1              d   \n",
            "3          25x^{2} - 20x + 3 = 0              b   \n",
            "4                    i, ii ও iii              a   \n",
            "\n",
            "                                    predicted_option  \\\n",
            "0  আপনাকে একটি প্রশ্ন এবং চারটি বিকল্প উত্তর দেওয...   \n",
            "1  আপনাকে একটি প্রশ্ন এবং চারটি বিকল্প উত্তর দেওয...   \n",
            "2  আপনাকে একটি প্রশ্ন এবং চারটি বিকল্প উত্তর দেওয...   \n",
            "3  আপনাকে একটি প্রশ্ন এবং চারটি বিকল্প উত্তর দেওয...   \n",
            "4  আপনাকে একটি প্রশ্ন এবং চারটি বিকল্প উত্তর দেওয...   \n",
            "\n",
            "                    correct_option_fmt  \n",
            "0                                 ঘ) 1  \n",
            "1  খ) \\pm \\sqrt{\\frac{7}{2}} (1 \\pm i)  \n",
            "2                                 ঘ) 1  \n",
            "3               খ) 5x^{2} - 4x + 1 = 0  \n",
            "4                            ক) i ও ii  \n",
            "https://github.com/sheikhshafayat/BEnQA/raw/master/data/BEnQA/12th-Physics-I.csv\n",
            "                                    English Question  \\\n",
            "0  A spring is expanded 10cm by appling 500N forc...   \n",
            "1  Which one is the angular velocity of the natio...   \n",
            "2  The maximum velocity and maximum acceleration ...   \n",
            "3  The maximum velocity and maximum acceleration ...   \n",
            "4  Vector \\frac{\\hat{i} - \\hat{j} + \\hat{k}}{\\sqr...   \n",
            "\n",
            "                                    Bengali Question  \\\n",
            "0  একটি স্প্রিং-এ 500 N বল প্রয়োগ করায় স্প্রিংটি ...   \n",
            "1  পৃথিবীর নিজ অক্ষের ঘূর্ণনের জন্য জাতীয় স্মৃতিস...   \n",
            "2  সরল ছন্দিত গতিতে দোলনরত একটি কণার সর্বোচ্চ ত্ব...   \n",
            "3  সরল ছন্দিত গতিতে দোলনরত একটি কণার সর্বোচ্চ ত্ব...   \n",
            "4  \\frac{\\hat{i}-\\hat{j}+\\hat{k}}{\\sqrt{3}} ভেক্ট...   \n",
            "\n",
            "                              A                 B  \\\n",
            "0                         0.04J             1.90J   \n",
            "1  7.27 \\times 10^{5} rads^{-1}  0.2618 rads^{-1}   \n",
            "2                        0.785s             1.57s   \n",
            "3                        i & ii           i & iii   \n",
            "4                   null vector  co-linear vector   \n",
            "\n",
            "                                C                              D  \\\n",
            "0                           3.80J                            98J   \n",
            "1  1.818 \\times 10^{-4} rads^{-1}  7.27 \\times 10^{-5} rads^{-1}   \n",
            "2                           3.14s                          6.28s   \n",
            "3                        ii & iii                    i, ii & iii   \n",
            "4                 coplaner vector                    unit vector   \n",
            "\n",
            "                         A Bn              B Bn                          C Bn  \\\n",
            "0                      0.04 J            1.90 J                        3.80 J   \n",
            "1  7.27\\times 10^{5}rads^{-1}  0.2618 rads^{-1}  1.818\\times 10^{-4}rads^{-1}   \n",
            "2                     0.785 s            1.57 s                        3.14 s   \n",
            "3                      i ও ii           i ও iii                      ii ও iii   \n",
            "4                  নাল ভেক্টর      সমরেখ ভেক্টর                 সমতলীয় ভেক্টর   \n",
            "\n",
            "                          D Bn Correct Answer  \n",
            "0                         98 J              c  \n",
            "1  7.27\\times 10^{-5}rads^{-1}              d  \n",
            "2                       6.28 s              c  \n",
            "3                  i, ii ও iii              a  \n",
            "4                   একক ভেক্টর              d  \n"
          ]
        },
        {
          "data": {
            "application/vnd.jupyter.widget-view+json": {
              "model_id": "435fa48b720447779da5103dae340cbd",
              "version_major": 2,
              "version_minor": 0
            },
            "text/plain": [
              "  0%|          | 0/304 [00:00<?, ?it/s]"
            ]
          },
          "metadata": {},
          "output_type": "display_data"
        },
        {
          "name": "stdout",
          "output_type": "stream",
          "text": [
            "                                    English Question  \\\n",
            "0  A spring is expanded 10cm by appling 500N forc...   \n",
            "1  Which one is the angular velocity of the natio...   \n",
            "2  The maximum velocity and maximum acceleration ...   \n",
            "3  The maximum velocity and maximum acceleration ...   \n",
            "4  Vector \\frac{\\hat{i} - \\hat{j} + \\hat{k}}{\\sqr...   \n",
            "\n",
            "                                    Bengali Question  \\\n",
            "0  একটি স্প্রিং-এ 500 N বল প্রয়োগ করায় স্প্রিংটি ...   \n",
            "1  পৃথিবীর নিজ অক্ষের ঘূর্ণনের জন্য জাতীয় স্মৃতিস...   \n",
            "2  সরল ছন্দিত গতিতে দোলনরত একটি কণার সর্বোচ্চ ত্ব...   \n",
            "3  সরল ছন্দিত গতিতে দোলনরত একটি কণার সর্বোচ্চ ত্ব...   \n",
            "4  \\frac{\\hat{i}-\\hat{j}+\\hat{k}}{\\sqrt{3}} ভেক্ট...   \n",
            "\n",
            "                              A                 B  \\\n",
            "0                         0.04J             1.90J   \n",
            "1  7.27 \\times 10^{5} rads^{-1}  0.2618 rads^{-1}   \n",
            "2                        0.785s             1.57s   \n",
            "3                        i & ii           i & iii   \n",
            "4                   null vector  co-linear vector   \n",
            "\n",
            "                                C                              D  \\\n",
            "0                           3.80J                            98J   \n",
            "1  1.818 \\times 10^{-4} rads^{-1}  7.27 \\times 10^{-5} rads^{-1}   \n",
            "2                           3.14s                          6.28s   \n",
            "3                        ii & iii                    i, ii & iii   \n",
            "4                 coplaner vector                    unit vector   \n",
            "\n",
            "                         A Bn              B Bn                          C Bn  \\\n",
            "0                      0.04 J            1.90 J                        3.80 J   \n",
            "1  7.27\\times 10^{5}rads^{-1}  0.2618 rads^{-1}  1.818\\times 10^{-4}rads^{-1}   \n",
            "2                     0.785 s            1.57 s                        3.14 s   \n",
            "3                      i ও ii           i ও iii                      ii ও iii   \n",
            "4                  নাল ভেক্টর      সমরেখ ভেক্টর                 সমতলীয় ভেক্টর   \n",
            "\n",
            "                          D Bn Correct Answer  \\\n",
            "0                         98 J              c   \n",
            "1  7.27\\times 10^{-5}rads^{-1}              d   \n",
            "2                       6.28 s              c   \n",
            "3                  i, ii ও iii              a   \n",
            "4                   একক ভেক্টর              d   \n",
            "\n",
            "                                    predicted_option  \\\n",
            "0  আপনাকে একটি প্রশ্ন এবং চারটি বিকল্প উত্তর দেওয...   \n",
            "1  আপনাকে একটি প্রশ্ন এবং চারটি বিকল্প উত্তর দেওয...   \n",
            "2  আপনাকে একটি প্রশ্ন এবং চারটি বিকল্প উত্তর দেওয...   \n",
            "3  আপনাকে একটি প্রশ্ন এবং চারটি বিকল্প উত্তর দেওয...   \n",
            "4  আপনাকে একটি প্রশ্ন এবং চারটি বিকল্প উত্তর দেওয...   \n",
            "\n",
            "               correct_option_fmt  \n",
            "0                       গ) 3.80 J  \n",
            "1  ঘ) 7.27\\times 10^{-5}rads^{-1}  \n",
            "2                       গ) 3.14 s  \n",
            "3                       ক) i ও ii  \n",
            "4                   ঘ) একক ভেক্টর  \n",
            "https://github.com/sheikhshafayat/BEnQA/raw/master/data/BEnQA/12th-Physics-II.csv\n",
            "                                    English Question  \\\n",
            "0  The ratio of amplitude of two co-herent source...   \n",
            "1  The maximum magnitude of electric field of an ...   \n",
            "2  A carnot engine when remain at 72\\degree C sin...   \n",
            "3  A carnot engine when remain at 72\\degree C sin...   \n",
            "4  The phase difference between two points of an ...   \n",
            "\n",
            "                                    Bengali Question  \\\n",
            "0  দুটি সুসংগত উৎসের বিস্তারের অনুপাত 3 : 2 । তরঙ...   \n",
            "1  একটি তড়িৎচুম্বকীয় তরঙ্গের তড়িৎ ক্ষেত্রের সর্বো...   \n",
            "2  একটি কার্নো ইঞ্জিন যখন 72\\degree C তাপমাত্রায় ...   \n",
            "3  একটি কার্নো ইঞ্জিন যখন 72\\degree C তাপমাত্রায় ...   \n",
            "4  একটি তড়িৎ চুম্বকীয় তরঙ্গের উপর অবস্থিত যেকোনো ...   \n",
            "\n",
            "                                  A                           B  \\\n",
            "0                             9 : 4                       4 : 9   \n",
            "1  1.62 \\times 10^{10}_{1} Wbm^{-2}  1.8 \\times 10^{7} Wbm^{-2}   \n",
            "2                             138 K                       207 K   \n",
            "3                                 i                         iii   \n",
            "4                          i and ii                   i and iii   \n",
            "\n",
            "                             C                              D  \\\n",
            "0                       25 : 1                         1 : 25   \n",
            "1  1.8 \\times 10^{-7} Wbm^{-2}  1.62 \\times 10^{-10} Wbm^{-2}   \n",
            "2                        575 K                          863 K   \n",
            "3                       i & ii                        i & iii   \n",
            "4                   ii and iii                  i, ii and iii   \n",
            "\n",
            "                               A Bn                        B Bn  \\\n",
            "0                             9 : 4                       4 : 9   \n",
            "1  1.62 \\times 10^{10}_{1} Wbm^{-2}  1.8 \\times 10^{7} Wbm^{-2}   \n",
            "2                             138 K                       207 K   \n",
            "3                                 i                         iii   \n",
            "4                            i ও ii                     i ও iii   \n",
            "\n",
            "                          C Bn                           D Bn Correct Answer  \n",
            "0                       25 : 1                         1 : 25              a  \n",
            "1  1.8 \\times 10^{-7} Wbm^{-2}  1.62 \\times 10^{-10} Wbm^{-2}              c  \n",
            "2                        575 K                          863 K              c  \n",
            "3                       i ও ii                        i ও iii              c  \n",
            "4                     ii ও iii                    i, ii ও iii              d  \n"
          ]
        },
        {
          "data": {
            "application/vnd.jupyter.widget-view+json": {
              "model_id": "c1352d5bb59f444c9c42e825ea020041",
              "version_major": 2,
              "version_minor": 0
            },
            "text/plain": [
              "  0%|          | 0/333 [00:00<?, ?it/s]"
            ]
          },
          "metadata": {},
          "output_type": "display_data"
        },
        {
          "name": "stdout",
          "output_type": "stream",
          "text": [
            "                                    English Question  \\\n",
            "0  The ratio of amplitude of two co-herent source...   \n",
            "1  The maximum magnitude of electric field of an ...   \n",
            "2  A carnot engine when remain at 72\\degree C sin...   \n",
            "3  A carnot engine when remain at 72\\degree C sin...   \n",
            "4  The phase difference between two points of an ...   \n",
            "\n",
            "                                    Bengali Question  \\\n",
            "0  দুটি সুসংগত উৎসের বিস্তারের অনুপাত 3 : 2 । তরঙ...   \n",
            "1  একটি তড়িৎচুম্বকীয় তরঙ্গের তড়িৎ ক্ষেত্রের সর্বো...   \n",
            "2  একটি কার্নো ইঞ্জিন যখন 72\\degree C তাপমাত্রায় ...   \n",
            "3  একটি কার্নো ইঞ্জিন যখন 72\\degree C তাপমাত্রায় ...   \n",
            "4  একটি তড়িৎ চুম্বকীয় তরঙ্গের উপর অবস্থিত যেকোনো ...   \n",
            "\n",
            "                                  A                           B  \\\n",
            "0                             9 : 4                       4 : 9   \n",
            "1  1.62 \\times 10^{10}_{1} Wbm^{-2}  1.8 \\times 10^{7} Wbm^{-2}   \n",
            "2                             138 K                       207 K   \n",
            "3                                 i                         iii   \n",
            "4                          i and ii                   i and iii   \n",
            "\n",
            "                             C                              D  \\\n",
            "0                       25 : 1                         1 : 25   \n",
            "1  1.8 \\times 10^{-7} Wbm^{-2}  1.62 \\times 10^{-10} Wbm^{-2}   \n",
            "2                        575 K                          863 K   \n",
            "3                       i & ii                        i & iii   \n",
            "4                   ii and iii                  i, ii and iii   \n",
            "\n",
            "                               A Bn                        B Bn  \\\n",
            "0                             9 : 4                       4 : 9   \n",
            "1  1.62 \\times 10^{10}_{1} Wbm^{-2}  1.8 \\times 10^{7} Wbm^{-2}   \n",
            "2                             138 K                       207 K   \n",
            "3                                 i                         iii   \n",
            "4                            i ও ii                     i ও iii   \n",
            "\n",
            "                          C Bn                           D Bn Correct Answer  \\\n",
            "0                       25 : 1                         1 : 25              a   \n",
            "1  1.8 \\times 10^{-7} Wbm^{-2}  1.62 \\times 10^{-10} Wbm^{-2}              c   \n",
            "2                        575 K                          863 K              c   \n",
            "3                       i ও ii                        i ও iii              c   \n",
            "4                     ii ও iii                    i, ii ও iii              d   \n",
            "\n",
            "                                    predicted_option  \\\n",
            "0  আপনাকে একটি প্রশ্ন এবং চারটি বিকল্প উত্তর দেওয...   \n",
            "1  আপনাকে একটি প্রশ্ন এবং চারটি বিকল্প উত্তর দেওয...   \n",
            "2  আপনাকে একটি প্রশ্ন এবং চারটি বিকল্প উত্তর দেওয...   \n",
            "3  আপনাকে একটি প্রশ্ন এবং চারটি বিকল্প উত্তর দেওয...   \n",
            "4  আপনাকে একটি প্রশ্ন এবং চারটি বিকল্প উত্তর দেওয...   \n",
            "\n",
            "               correct_option_fmt  \n",
            "0                        ক) 9 : 4  \n",
            "1  গ) 1.8 \\times 10^{-7} Wbm^{-2}  \n",
            "2                        গ) 575 K  \n",
            "3                       গ) i ও ii  \n",
            "4                  ঘ) i, ii ও iii  \n"
          ]
        }
      ],
      "source": [
        "import time\n",
        "from tqdm.notebook import tqdm\n",
        "\n",
        "def prepare_ts_results(df, dataset_tag):\n",
        "    # Assuming df is the original DataFrame and category_translation is defined\n",
        "    df['predicted_option'] = None\n",
        "    df['correct_option_fmt'] = None\n",
        "\n",
        "    # Try to load the progress from the Parquet file\n",
        "    try:\n",
        "        df_progress = pd.read_parquet(f\"bloom_7b1_ts_rqa_{dataset_tag}_results.parquet\")\n",
        "        last_valid_index = df_progress['predicted_option'].last_valid_index()\n",
        "        start_index = last_valid_index + 1 if last_valid_index is not None else 0\n",
        "    except (FileNotFoundError, ValueError):\n",
        "        df_progress = df.copy()\n",
        "        start_index = 0\n",
        "\n",
        "\n",
        "    for i, row in tqdm(df.iloc[start_index:].iterrows(), initial=start_index, total=len(df) - start_index):\n",
        "\n",
        "        try:\n",
        "            prompt_input, cor_opt = prepare_questions(row, base_prompt = three_shot, prompt_type = 'three_shot')\n",
        "        except:\n",
        "            print(\"Error w/ sample\", row)\n",
        "\n",
        "        try:\n",
        "            df.at[i, 'predicted_option'] = get_bloom_7b1_output(prompt_input)\n",
        "            df.at[i, 'correct_option_fmt'] = cor_opt\n",
        "        except Exception as e:\n",
        "            print(f\"Error at index {i}\")\n",
        "            time.sleep(5)\n",
        "\n",
        "        if (i + 1) % 100 == 0:\n",
        "            df.to_parquet(f\"bloom_7b1_ts_rqa_{dataset_tag}_results.parquet\")\n",
        "\n",
        "    # Save final progress\n",
        "    df.to_parquet(f\"bloom_7b1_ts_rqa_{dataset_tag}_results.parquet\")\n",
        "    return df\n",
        "\n",
        "### set file index\n",
        "\n",
        "for file_index in range(5):\n",
        "    print(file_paths[file_index])\n",
        "    df = pd.read_csv(file_paths[file_index])\n",
        "\n",
        "    print(df.head())\n",
        "\n",
        "    ts_results = prepare_ts_results(df, dataset_tag = file_tags[file_index])\n",
        "    print(ts_results.head())"
      ]
    },
    {
      "cell_type": "markdown",
      "id": "VoHNTm33uw7Z",
      "metadata": {
        "id": "VoHNTm33uw7Z"
      },
      "source": [
        "### Chain of Thought"
      ]
    },
    {
      "cell_type": "code",
      "execution_count": null,
      "id": "lZAaKRFNStO7",
      "metadata": {
        "colab": {
          "referenced_widgets": [
            "d558007799814343a7838c19fc928ce3",
            "9f9c73504c154c6f8a8140c24b0c0dcd",
            "2374698b7acd4d7183619124ead3eba2",
            "dcf8f1d660a5432597ce0c14afe4ac00",
            "9ae860ce1e95466499f9ace4eed05ccf"
          ]
        },
        "id": "lZAaKRFNStO7",
        "outputId": "9a718f2c-4437-44be-cd44-b6744da5d8b4"
      },
      "outputs": [
        {
          "name": "stdout",
          "output_type": "stream",
          "text": [
            "https://github.com/sheikhshafayat/BEnQA/raw/master/data/BEnQA/8th-Science.csv\n",
            "                                   English Question  \\\n",
            "0                   Which acid present in tamarind?   \n",
            "1               By which two elements fuse is made?   \n",
            "2  Which on is the tertiary consumer of sundarbans?   \n",
            "3           Which hormone is sybtgesuzed in leaves?   \n",
            "4                 Which one is used as insecticide?   \n",
            "\n",
            "                               Bengali Question              A             B  \\\n",
            "0                        তেঁতুলে কোন এসিড থাকে?          Malic        Citric   \n",
            "1  কোন মৌল দুটির সাহায্যে ফিউজ প্রস্তুত করা হয়?  Lead and Zinc  Zinc and Tin   \n",
            "2          সুন্দরবনের তৃতীয় স্তরের খাদক কোনটি?            Pig          Deer   \n",
            "3                     পাতায় উৎপন্ন হরমোন কোনটি?          Auxin      Ethylene   \n",
            "4            ফসলের ক্ষতিকর পেস্ট দমন করে কোনটি?       NH_{4}OH          NaOH   \n",
            "\n",
            "              C              D          A Bn         B Bn        C Bn  \\\n",
            "0        Oxalic       Tartaric       ম্যালিক     সাইট্রিক    অক্সালিক   \n",
            "1  Lead and Tin  Lead and Iron  সীসা ও জিঙ্ক  জিঙ্জ ও টিন  সীসা ও টিন   \n",
            "2        Monkey            Hen          শুকর         হরিণ        বানর   \n",
            "3      Florigen    Gibberellin        অক্সিন       ইথিলিন   ফ্লোরিজেন   \n",
            "4    Mg(OH)_{2}     Ca(OH)_{2}      NH_{4}OH         NaOH  Mg(OH)_{2}   \n",
            "\n",
            "          D Bn Correct Answer  \n",
            "0     টারটারিক              d  \n",
            "1  সীসা ও লোহা              c  \n",
            "2        মুরগি              a  \n",
            "3  জিব্বেরেলিন              c  \n",
            "4   Ca(OH)_{2}              d  \n"
          ]
        },
        {
          "data": {
            "application/vnd.jupyter.widget-view+json": {
              "model_id": "d558007799814343a7838c19fc928ce3",
              "version_major": 2,
              "version_minor": 0
            },
            "text/plain": [
              "  0%|          | 0/228 [00:00<?, ?it/s]"
            ]
          },
          "metadata": {},
          "output_type": "display_data"
        },
        {
          "name": "stdout",
          "output_type": "stream",
          "text": [
            "Error w/ sample English Question      How many satellites Saturn has\n",
            "Bengali Question                   শনির উপগ্রহ কয়টি?\n",
            "A                                                 63\n",
            "B                                                 34\n",
            "C                                                 27\n",
            "D                                                 13\n",
            "A Bn                                              63\n",
            "B Bn                                              34\n",
            "C Bn                                              27\n",
            "D Bn                                              13\n",
            "Correct Answer                                     *\n",
            "predicted_option                                None\n",
            "correct_option_fmt                              None\n",
            "Name: 34, dtype: object\n",
            "Error w/ sample English Question      In a drycell which of the following acts as ca...\n",
            "Bengali Question                শুষ্ককোষে কোনটি ব্যাথোড হিসাবে কাজ করে?\n",
            "A                                                     manganese dioxide\n",
            "B                                                            carbon rod\n",
            "C                                                        Zinc container\n",
            "D                                                             Metal cap\n",
            "A Bn                                             ম্যাঙ্গানিজ ডাইঅক্সাইড\n",
            "B Bn                                                        কার্বন দন্ড\n",
            "C Bn                                                         দস্তার চোঙ\n",
            "D Bn                                                          ধাতব টুপি\n",
            "Correct Answer                                                        *\n",
            "predicted_option                                                   None\n",
            "correct_option_fmt                                                 None\n",
            "Name: 192, dtype: object\n",
            "                                   English Question  \\\n",
            "0                   Which acid present in tamarind?   \n",
            "1               By which two elements fuse is made?   \n",
            "2  Which on is the tertiary consumer of sundarbans?   \n",
            "3           Which hormone is sybtgesuzed in leaves?   \n",
            "4                 Which one is used as insecticide?   \n",
            "\n",
            "                               Bengali Question              A             B  \\\n",
            "0                        তেঁতুলে কোন এসিড থাকে?          Malic        Citric   \n",
            "1  কোন মৌল দুটির সাহায্যে ফিউজ প্রস্তুত করা হয়?  Lead and Zinc  Zinc and Tin   \n",
            "2          সুন্দরবনের তৃতীয় স্তরের খাদক কোনটি?            Pig          Deer   \n",
            "3                     পাতায় উৎপন্ন হরমোন কোনটি?          Auxin      Ethylene   \n",
            "4            ফসলের ক্ষতিকর পেস্ট দমন করে কোনটি?       NH_{4}OH          NaOH   \n",
            "\n",
            "              C              D          A Bn         B Bn        C Bn  \\\n",
            "0        Oxalic       Tartaric       ম্যালিক     সাইট্রিক    অক্সালিক   \n",
            "1  Lead and Tin  Lead and Iron  সীসা ও জিঙ্ক  জিঙ্জ ও টিন  সীসা ও টিন   \n",
            "2        Monkey            Hen          শুকর         হরিণ        বানর   \n",
            "3      Florigen    Gibberellin        অক্সিন       ইথিলিন   ফ্লোরিজেন   \n",
            "4    Mg(OH)_{2}     Ca(OH)_{2}      NH_{4}OH         NaOH  Mg(OH)_{2}   \n",
            "\n",
            "          D Bn Correct Answer  \\\n",
            "0     টারটারিক              d   \n",
            "1  সীসা ও লোহা              c   \n",
            "2        মুরগি              a   \n",
            "3  জিব্বেরেলিন              c   \n",
            "4   Ca(OH)_{2}              d   \n",
            "\n",
            "                                    predicted_option correct_option_fmt  \n",
            "0  আপনাকে একটি প্রশ্ন এবং চারটি বিকল্প উত্তর দেওয...        ঘ) টারটারিক  \n",
            "1  আপনাকে একটি প্রশ্ন এবং চারটি বিকল্প উত্তর দেওয...      গ) সীসা ও টিন  \n",
            "2  আপনাকে একটি প্রশ্ন এবং চারটি বিকল্প উত্তর দেওয...            ক) শুকর  \n",
            "3  আপনাকে একটি প্রশ্ন এবং চারটি বিকল্প উত্তর দেওয...       গ) ফ্লোরিজেন  \n",
            "4  আপনাকে একটি প্রশ্ন এবং চারটি বিকল্প উত্তর দেওয...      ঘ) Ca(OH)_{2}  \n",
            "https://github.com/sheikhshafayat/BEnQA/raw/master/data/BEnQA/12th-Math-I.csv\n",
            "                                    English Question  \\\n",
            "0  What is the value of \\int_{0}^{1} \\frac{sin^{-...   \n",
            "1  The equation of a curve is y = 3x (x - 2).\\n \\...   \n",
            "2  What is the value of \\int e^{x} \\left ( \\frac{...   \n",
            "3  The value of \\int_{1}{\\sqrt{3}} \\frac{x}{1 + x...   \n",
            "4  If f(x) = 2x then-\\n i. \\int \\frac{dx}{f(x)} =...   \n",
            "\n",
            "                                    Bengali Question                    A  \\\n",
            "0  \\int_{0}^{1} \\frac{sin^{-1}p}{\\sqrt{1-p^{2}}}d...        \\frac{\\pi}{2}   \n",
            "1  y = 3x (x - 2) একটি বক্ররেখার সমীকরণ।\\n \\n মূল...           y + 6x = 0   \n",
            "2  \\int e^{x} \\left ( \\frac{1}{x} - \\frac{1}{x^{2...  - \\frac{e^x}{x} + c   \n",
            "3    \\int_{1}{\\sqrt{3}} \\frac{x}{1 + x^2} dx এর মান-                  ln2   \n",
            "4  f(x) = 2x হলে-\\n i. \\int \\frac{dx}{f(x)} = \\fr...             i and ii   \n",
            "\n",
            "                       B                         C                    D  \\\n",
            "0      \\frac{\\pi^{2}}{2}         \\frac{\\pi^{2}}{4}    \\frac{\\pi^{2}}{8}   \n",
            "1             y - 6x = 0                x + 6y = 0           x - 6y = 0   \n",
            "2  - \\frac{e^x}{x^2} + c         \\frac{e^x}{x} + c  \\frac{e^x}{x^2} + c   \n",
            "3          ln\\frac{1}{2}  \\frac{1}{2}ln\\frac{1}{2}       \\frac{1}{2}ln2   \n",
            "4              i and iii                ii and iii        i, ii and iii   \n",
            "\n",
            "                  A Bn                   B Bn                      C Bn  \\\n",
            "0        \\frac{\\pi}{2}      \\frac{\\pi^{2}}{2}         \\frac{\\pi^{2}}{4}   \n",
            "1           y + 6x = 0             y - 6x = 0                x + 6y = 0   \n",
            "2  - \\frac{e^x}{x} + c  - \\frac{e^x}{x^2} + c         \\frac{e^x}{x} + c   \n",
            "3                  ln2          ln\\frac{1}{2}  \\frac{1}{2}ln\\frac{1}{2}   \n",
            "4             i এবং ii              i এবং iii                ii এবং iii   \n",
            "\n",
            "                  D Bn Correct Answer  \n",
            "0    \\frac{\\pi^{2}}{8}              d  \n",
            "1           x - 6y = 0              a  \n",
            "2  \\frac{e^x}{x^2} + c              c  \n",
            "3       \\frac{1}{2}ln2              d  \n",
            "4        i, ii এবং iii              d  \n"
          ]
        },
        {
          "data": {
            "application/vnd.jupyter.widget-view+json": {
              "model_id": "9f9c73504c154c6f8a8140c24b0c0dcd",
              "version_major": 2,
              "version_minor": 0
            },
            "text/plain": [
              "  0%|          | 0/396 [00:00<?, ?it/s]"
            ]
          },
          "metadata": {},
          "output_type": "display_data"
        },
        {
          "name": "stdout",
          "output_type": "stream",
          "text": [
            "                                    English Question  \\\n",
            "0  What is the value of \\int_{0}^{1} \\frac{sin^{-...   \n",
            "1  The equation of a curve is y = 3x (x - 2).\\n \\...   \n",
            "2  What is the value of \\int e^{x} \\left ( \\frac{...   \n",
            "3  The value of \\int_{1}{\\sqrt{3}} \\frac{x}{1 + x...   \n",
            "4  If f(x) = 2x then-\\n i. \\int \\frac{dx}{f(x)} =...   \n",
            "\n",
            "                                    Bengali Question                    A  \\\n",
            "0  \\int_{0}^{1} \\frac{sin^{-1}p}{\\sqrt{1-p^{2}}}d...        \\frac{\\pi}{2}   \n",
            "1  y = 3x (x - 2) একটি বক্ররেখার সমীকরণ।\\n \\n মূল...           y + 6x = 0   \n",
            "2  \\int e^{x} \\left ( \\frac{1}{x} - \\frac{1}{x^{2...  - \\frac{e^x}{x} + c   \n",
            "3    \\int_{1}{\\sqrt{3}} \\frac{x}{1 + x^2} dx এর মান-                  ln2   \n",
            "4  f(x) = 2x হলে-\\n i. \\int \\frac{dx}{f(x)} = \\fr...             i and ii   \n",
            "\n",
            "                       B                         C                    D  \\\n",
            "0      \\frac{\\pi^{2}}{2}         \\frac{\\pi^{2}}{4}    \\frac{\\pi^{2}}{8}   \n",
            "1             y - 6x = 0                x + 6y = 0           x - 6y = 0   \n",
            "2  - \\frac{e^x}{x^2} + c         \\frac{e^x}{x} + c  \\frac{e^x}{x^2} + c   \n",
            "3          ln\\frac{1}{2}  \\frac{1}{2}ln\\frac{1}{2}       \\frac{1}{2}ln2   \n",
            "4              i and iii                ii and iii        i, ii and iii   \n",
            "\n",
            "                  A Bn                   B Bn                      C Bn  \\\n",
            "0        \\frac{\\pi}{2}      \\frac{\\pi^{2}}{2}         \\frac{\\pi^{2}}{4}   \n",
            "1           y + 6x = 0             y - 6x = 0                x + 6y = 0   \n",
            "2  - \\frac{e^x}{x} + c  - \\frac{e^x}{x^2} + c         \\frac{e^x}{x} + c   \n",
            "3                  ln2          ln\\frac{1}{2}  \\frac{1}{2}ln\\frac{1}{2}   \n",
            "4             i এবং ii              i এবং iii                ii এবং iii   \n",
            "\n",
            "                  D Bn Correct Answer  \\\n",
            "0    \\frac{\\pi^{2}}{8}              d   \n",
            "1           x - 6y = 0              a   \n",
            "2  \\frac{e^x}{x^2} + c              c   \n",
            "3       \\frac{1}{2}ln2              d   \n",
            "4        i, ii এবং iii              d   \n",
            "\n",
            "                                    predicted_option    correct_option_fmt  \n",
            "0  আপনাকে একটি প্রশ্ন এবং চারটি বিকল্প উত্তর দেওয...  ঘ) \\frac{\\pi^{2}}{8}  \n",
            "1  আপনাকে একটি প্রশ্ন এবং চারটি বিকল্প উত্তর দেওয...         ক) y + 6x = 0  \n",
            "2  আপনাকে একটি প্রশ্ন এবং চারটি বিকল্প উত্তর দেওয...  গ) \\frac{e^x}{x} + c  \n",
            "3  আপনাকে একটি প্রশ্ন এবং চারটি বিকল্প উত্তর দেওয...     ঘ) \\frac{1}{2}ln2  \n",
            "4  আপনাকে একটি প্রশ্ন এবং চারটি বিকল্প উত্তর দেওয...      ঘ) i, ii এবং iii  \n",
            "https://github.com/sheikhshafayat/BEnQA/raw/master/data/BEnQA/12th-Math-II.csv\n",
            "                                    English Question  \\\n",
            "0  An arrow throws into a wall losses half its ve...   \n",
            "1              What is the value of \\sqrt[4]{- 49} ?   \n",
            "2  If \\alpha, \\beta, \\gamma be the roots of the e...   \n",
            "3  If \\frac{1}{2 + i} be the one of the roots of ...   \n",
            "4  If 3 be the one of the roots of x^{2} - kx + 2...   \n",
            "\n",
            "                                    Bengali Question                     A  \\\n",
            "0  একটি তীর একটি দেয়ালের ভিতর 3 ইঞ্চি ঢুকার পর তা...           \\frac{1}{2}   \n",
            "1                       \\sqrt[4]{- 49} এর মান কোনটি?         \\pm \\sqrt{7}i   \n",
            "2  3x^{3} - 1 = 0 সমীকরণের মূলত্রয় \\alpha, \\beta,...                    -1   \n",
            "3  কোনো দ্বিঘাত সমীকরণের একটি মূল \\frac{1}{2 + i}...  9x^{2} - 12x + 5 = 0   \n",
            "4  x^{2} - kx + 2 = 0, সমীকরণের একটি মূল 3 হলে-\\n...              i and ii   \n",
            "\n",
            "                                  B                         C  \\\n",
            "0                       \\frac{1}{3}               \\frac{2}{3}   \n",
            "1  \\pm \\sqrt{\\frac{7}{2}} (1 \\pm i)  \\pm \\frac{7}{2} ( \\pm i)   \n",
            "2                                 0               \\frac{1}{3}   \n",
            "3               5x^{2} - 4x + 1 = 0      5x^{2} + 14x + 1 = 0   \n",
            "4                        ii and iii                 i and iii   \n",
            "\n",
            "                               D                  A Bn  \\\n",
            "0                              1           \\frac{1}{2}   \n",
            "1  \\frac{7}{\\sqrt{2}} (1 \\pm 2i)         \\pm \\sqrt{7}i   \n",
            "2                              1                    -1   \n",
            "3          25x^{2} - 20x + 3 = 0  9x^{2} - 12x + 5 = 0   \n",
            "4                  i, ii and iii                i ও ii   \n",
            "\n",
            "                               B Bn                      C Bn  \\\n",
            "0                       \\frac{1}{3}               \\frac{2}{3}   \n",
            "1  \\pm \\sqrt{\\frac{7}{2}} (1 \\pm i)  \\pm \\frac{7}{2} ( \\pm i)   \n",
            "2                                 0               \\frac{1}{3}   \n",
            "3               5x^{2} - 4x + 1 = 0      5x^{2} + 14x + 1 = 0   \n",
            "4                          ii ও iii                   i ও iii   \n",
            "\n",
            "                            D Bn Correct Answer  \n",
            "0                              1              d  \n",
            "1  \\frac{7}{\\sqrt{2}} (1 \\pm 2i)              b  \n",
            "2                              1              d  \n",
            "3          25x^{2} - 20x + 3 = 0              b  \n",
            "4                    i, ii ও iii              a  \n"
          ]
        },
        {
          "data": {
            "application/vnd.jupyter.widget-view+json": {
              "model_id": "2374698b7acd4d7183619124ead3eba2",
              "version_major": 2,
              "version_minor": 0
            },
            "text/plain": [
              "  0%|          | 0/391 [00:00<?, ?it/s]"
            ]
          },
          "metadata": {},
          "output_type": "display_data"
        },
        {
          "name": "stdout",
          "output_type": "stream",
          "text": [
            "                                    English Question  \\\n",
            "0  An arrow throws into a wall losses half its ve...   \n",
            "1              What is the value of \\sqrt[4]{- 49} ?   \n",
            "2  If \\alpha, \\beta, \\gamma be the roots of the e...   \n",
            "3  If \\frac{1}{2 + i} be the one of the roots of ...   \n",
            "4  If 3 be the one of the roots of x^{2} - kx + 2...   \n",
            "\n",
            "                                    Bengali Question                     A  \\\n",
            "0  একটি তীর একটি দেয়ালের ভিতর 3 ইঞ্চি ঢুকার পর তা...           \\frac{1}{2}   \n",
            "1                       \\sqrt[4]{- 49} এর মান কোনটি?         \\pm \\sqrt{7}i   \n",
            "2  3x^{3} - 1 = 0 সমীকরণের মূলত্রয় \\alpha, \\beta,...                    -1   \n",
            "3  কোনো দ্বিঘাত সমীকরণের একটি মূল \\frac{1}{2 + i}...  9x^{2} - 12x + 5 = 0   \n",
            "4  x^{2} - kx + 2 = 0, সমীকরণের একটি মূল 3 হলে-\\n...              i and ii   \n",
            "\n",
            "                                  B                         C  \\\n",
            "0                       \\frac{1}{3}               \\frac{2}{3}   \n",
            "1  \\pm \\sqrt{\\frac{7}{2}} (1 \\pm i)  \\pm \\frac{7}{2} ( \\pm i)   \n",
            "2                                 0               \\frac{1}{3}   \n",
            "3               5x^{2} - 4x + 1 = 0      5x^{2} + 14x + 1 = 0   \n",
            "4                        ii and iii                 i and iii   \n",
            "\n",
            "                               D                  A Bn  \\\n",
            "0                              1           \\frac{1}{2}   \n",
            "1  \\frac{7}{\\sqrt{2}} (1 \\pm 2i)         \\pm \\sqrt{7}i   \n",
            "2                              1                    -1   \n",
            "3          25x^{2} - 20x + 3 = 0  9x^{2} - 12x + 5 = 0   \n",
            "4                  i, ii and iii                i ও ii   \n",
            "\n",
            "                               B Bn                      C Bn  \\\n",
            "0                       \\frac{1}{3}               \\frac{2}{3}   \n",
            "1  \\pm \\sqrt{\\frac{7}{2}} (1 \\pm i)  \\pm \\frac{7}{2} ( \\pm i)   \n",
            "2                                 0               \\frac{1}{3}   \n",
            "3               5x^{2} - 4x + 1 = 0      5x^{2} + 14x + 1 = 0   \n",
            "4                          ii ও iii                   i ও iii   \n",
            "\n",
            "                            D Bn Correct Answer  \\\n",
            "0                              1              d   \n",
            "1  \\frac{7}{\\sqrt{2}} (1 \\pm 2i)              b   \n",
            "2                              1              d   \n",
            "3          25x^{2} - 20x + 3 = 0              b   \n",
            "4                    i, ii ও iii              a   \n",
            "\n",
            "                                    predicted_option  \\\n",
            "0  আপনাকে একটি প্রশ্ন এবং চারটি বিকল্প উত্তর দেওয...   \n",
            "1  আপনাকে একটি প্রশ্ন এবং চারটি বিকল্প উত্তর দেওয...   \n",
            "2  আপনাকে একটি প্রশ্ন এবং চারটি বিকল্প উত্তর দেওয...   \n",
            "3  আপনাকে একটি প্রশ্ন এবং চারটি বিকল্প উত্তর দেওয...   \n",
            "4  আপনাকে একটি প্রশ্ন এবং চারটি বিকল্প উত্তর দেওয...   \n",
            "\n",
            "                    correct_option_fmt  \n",
            "0                                 ঘ) 1  \n",
            "1  খ) \\pm \\sqrt{\\frac{7}{2}} (1 \\pm i)  \n",
            "2                                 ঘ) 1  \n",
            "3               খ) 5x^{2} - 4x + 1 = 0  \n",
            "4                            ক) i ও ii  \n",
            "https://github.com/sheikhshafayat/BEnQA/raw/master/data/BEnQA/12th-Physics-I.csv\n",
            "                                    English Question  \\\n",
            "0  A spring is expanded 10cm by appling 500N forc...   \n",
            "1  Which one is the angular velocity of the natio...   \n",
            "2  The maximum velocity and maximum acceleration ...   \n",
            "3  The maximum velocity and maximum acceleration ...   \n",
            "4  Vector \\frac{\\hat{i} - \\hat{j} + \\hat{k}}{\\sqr...   \n",
            "\n",
            "                                    Bengali Question  \\\n",
            "0  একটি স্প্রিং-এ 500 N বল প্রয়োগ করায় স্প্রিংটি ...   \n",
            "1  পৃথিবীর নিজ অক্ষের ঘূর্ণনের জন্য জাতীয় স্মৃতিস...   \n",
            "2  সরল ছন্দিত গতিতে দোলনরত একটি কণার সর্বোচ্চ ত্ব...   \n",
            "3  সরল ছন্দিত গতিতে দোলনরত একটি কণার সর্বোচ্চ ত্ব...   \n",
            "4  \\frac{\\hat{i}-\\hat{j}+\\hat{k}}{\\sqrt{3}} ভেক্ট...   \n",
            "\n",
            "                              A                 B  \\\n",
            "0                         0.04J             1.90J   \n",
            "1  7.27 \\times 10^{5} rads^{-1}  0.2618 rads^{-1}   \n",
            "2                        0.785s             1.57s   \n",
            "3                        i & ii           i & iii   \n",
            "4                   null vector  co-linear vector   \n",
            "\n",
            "                                C                              D  \\\n",
            "0                           3.80J                            98J   \n",
            "1  1.818 \\times 10^{-4} rads^{-1}  7.27 \\times 10^{-5} rads^{-1}   \n",
            "2                           3.14s                          6.28s   \n",
            "3                        ii & iii                    i, ii & iii   \n",
            "4                 coplaner vector                    unit vector   \n",
            "\n",
            "                         A Bn              B Bn                          C Bn  \\\n",
            "0                      0.04 J            1.90 J                        3.80 J   \n",
            "1  7.27\\times 10^{5}rads^{-1}  0.2618 rads^{-1}  1.818\\times 10^{-4}rads^{-1}   \n",
            "2                     0.785 s            1.57 s                        3.14 s   \n",
            "3                      i ও ii           i ও iii                      ii ও iii   \n",
            "4                  নাল ভেক্টর      সমরেখ ভেক্টর                 সমতলীয় ভেক্টর   \n",
            "\n",
            "                          D Bn Correct Answer  \n",
            "0                         98 J              c  \n",
            "1  7.27\\times 10^{-5}rads^{-1}              d  \n",
            "2                       6.28 s              c  \n",
            "3                  i, ii ও iii              a  \n",
            "4                   একক ভেক্টর              d  \n"
          ]
        },
        {
          "data": {
            "application/vnd.jupyter.widget-view+json": {
              "model_id": "dcf8f1d660a5432597ce0c14afe4ac00",
              "version_major": 2,
              "version_minor": 0
            },
            "text/plain": [
              "  0%|          | 0/304 [00:00<?, ?it/s]"
            ]
          },
          "metadata": {},
          "output_type": "display_data"
        },
        {
          "name": "stdout",
          "output_type": "stream",
          "text": [
            "                                    English Question  \\\n",
            "0  A spring is expanded 10cm by appling 500N forc...   \n",
            "1  Which one is the angular velocity of the natio...   \n",
            "2  The maximum velocity and maximum acceleration ...   \n",
            "3  The maximum velocity and maximum acceleration ...   \n",
            "4  Vector \\frac{\\hat{i} - \\hat{j} + \\hat{k}}{\\sqr...   \n",
            "\n",
            "                                    Bengali Question  \\\n",
            "0  একটি স্প্রিং-এ 500 N বল প্রয়োগ করায় স্প্রিংটি ...   \n",
            "1  পৃথিবীর নিজ অক্ষের ঘূর্ণনের জন্য জাতীয় স্মৃতিস...   \n",
            "2  সরল ছন্দিত গতিতে দোলনরত একটি কণার সর্বোচ্চ ত্ব...   \n",
            "3  সরল ছন্দিত গতিতে দোলনরত একটি কণার সর্বোচ্চ ত্ব...   \n",
            "4  \\frac{\\hat{i}-\\hat{j}+\\hat{k}}{\\sqrt{3}} ভেক্ট...   \n",
            "\n",
            "                              A                 B  \\\n",
            "0                         0.04J             1.90J   \n",
            "1  7.27 \\times 10^{5} rads^{-1}  0.2618 rads^{-1}   \n",
            "2                        0.785s             1.57s   \n",
            "3                        i & ii           i & iii   \n",
            "4                   null vector  co-linear vector   \n",
            "\n",
            "                                C                              D  \\\n",
            "0                           3.80J                            98J   \n",
            "1  1.818 \\times 10^{-4} rads^{-1}  7.27 \\times 10^{-5} rads^{-1}   \n",
            "2                           3.14s                          6.28s   \n",
            "3                        ii & iii                    i, ii & iii   \n",
            "4                 coplaner vector                    unit vector   \n",
            "\n",
            "                         A Bn              B Bn                          C Bn  \\\n",
            "0                      0.04 J            1.90 J                        3.80 J   \n",
            "1  7.27\\times 10^{5}rads^{-1}  0.2618 rads^{-1}  1.818\\times 10^{-4}rads^{-1}   \n",
            "2                     0.785 s            1.57 s                        3.14 s   \n",
            "3                      i ও ii           i ও iii                      ii ও iii   \n",
            "4                  নাল ভেক্টর      সমরেখ ভেক্টর                 সমতলীয় ভেক্টর   \n",
            "\n",
            "                          D Bn Correct Answer  \\\n",
            "0                         98 J              c   \n",
            "1  7.27\\times 10^{-5}rads^{-1}              d   \n",
            "2                       6.28 s              c   \n",
            "3                  i, ii ও iii              a   \n",
            "4                   একক ভেক্টর              d   \n",
            "\n",
            "                                    predicted_option  \\\n",
            "0  আপনাকে একটি প্রশ্ন এবং চারটি বিকল্প উত্তর দেওয...   \n",
            "1  আপনাকে একটি প্রশ্ন এবং চারটি বিকল্প উত্তর দেওয...   \n",
            "2  আপনাকে একটি প্রশ্ন এবং চারটি বিকল্প উত্তর দেওয...   \n",
            "3  আপনাকে একটি প্রশ্ন এবং চারটি বিকল্প উত্তর দেওয...   \n",
            "4  আপনাকে একটি প্রশ্ন এবং চারটি বিকল্প উত্তর দেওয...   \n",
            "\n",
            "               correct_option_fmt  \n",
            "0                       গ) 3.80 J  \n",
            "1  ঘ) 7.27\\times 10^{-5}rads^{-1}  \n",
            "2                       গ) 3.14 s  \n",
            "3                       ক) i ও ii  \n",
            "4                   ঘ) একক ভেক্টর  \n",
            "https://github.com/sheikhshafayat/BEnQA/raw/master/data/BEnQA/12th-Physics-II.csv\n",
            "                                    English Question  \\\n",
            "0  The ratio of amplitude of two co-herent source...   \n",
            "1  The maximum magnitude of electric field of an ...   \n",
            "2  A carnot engine when remain at 72\\degree C sin...   \n",
            "3  A carnot engine when remain at 72\\degree C sin...   \n",
            "4  The phase difference between two points of an ...   \n",
            "\n",
            "                                    Bengali Question  \\\n",
            "0  দুটি সুসংগত উৎসের বিস্তারের অনুপাত 3 : 2 । তরঙ...   \n",
            "1  একটি তড়িৎচুম্বকীয় তরঙ্গের তড়িৎ ক্ষেত্রের সর্বো...   \n",
            "2  একটি কার্নো ইঞ্জিন যখন 72\\degree C তাপমাত্রায় ...   \n",
            "3  একটি কার্নো ইঞ্জিন যখন 72\\degree C তাপমাত্রায় ...   \n",
            "4  একটি তড়িৎ চুম্বকীয় তরঙ্গের উপর অবস্থিত যেকোনো ...   \n",
            "\n",
            "                                  A                           B  \\\n",
            "0                             9 : 4                       4 : 9   \n",
            "1  1.62 \\times 10^{10}_{1} Wbm^{-2}  1.8 \\times 10^{7} Wbm^{-2}   \n",
            "2                             138 K                       207 K   \n",
            "3                                 i                         iii   \n",
            "4                          i and ii                   i and iii   \n",
            "\n",
            "                             C                              D  \\\n",
            "0                       25 : 1                         1 : 25   \n",
            "1  1.8 \\times 10^{-7} Wbm^{-2}  1.62 \\times 10^{-10} Wbm^{-2}   \n",
            "2                        575 K                          863 K   \n",
            "3                       i & ii                        i & iii   \n",
            "4                   ii and iii                  i, ii and iii   \n",
            "\n",
            "                               A Bn                        B Bn  \\\n",
            "0                             9 : 4                       4 : 9   \n",
            "1  1.62 \\times 10^{10}_{1} Wbm^{-2}  1.8 \\times 10^{7} Wbm^{-2}   \n",
            "2                             138 K                       207 K   \n",
            "3                                 i                         iii   \n",
            "4                            i ও ii                     i ও iii   \n",
            "\n",
            "                          C Bn                           D Bn Correct Answer  \n",
            "0                       25 : 1                         1 : 25              a  \n",
            "1  1.8 \\times 10^{-7} Wbm^{-2}  1.62 \\times 10^{-10} Wbm^{-2}              c  \n",
            "2                        575 K                          863 K              c  \n",
            "3                       i ও ii                        i ও iii              c  \n",
            "4                     ii ও iii                    i, ii ও iii              d  \n"
          ]
        },
        {
          "data": {
            "application/vnd.jupyter.widget-view+json": {
              "model_id": "9ae860ce1e95466499f9ace4eed05ccf",
              "version_major": 2,
              "version_minor": 0
            },
            "text/plain": [
              "  0%|          | 0/333 [00:00<?, ?it/s]"
            ]
          },
          "metadata": {},
          "output_type": "display_data"
        },
        {
          "name": "stdout",
          "output_type": "stream",
          "text": [
            "                                    English Question  \\\n",
            "0  The ratio of amplitude of two co-herent source...   \n",
            "1  The maximum magnitude of electric field of an ...   \n",
            "2  A carnot engine when remain at 72\\degree C sin...   \n",
            "3  A carnot engine when remain at 72\\degree C sin...   \n",
            "4  The phase difference between two points of an ...   \n",
            "\n",
            "                                    Bengali Question  \\\n",
            "0  দুটি সুসংগত উৎসের বিস্তারের অনুপাত 3 : 2 । তরঙ...   \n",
            "1  একটি তড়িৎচুম্বকীয় তরঙ্গের তড়িৎ ক্ষেত্রের সর্বো...   \n",
            "2  একটি কার্নো ইঞ্জিন যখন 72\\degree C তাপমাত্রায় ...   \n",
            "3  একটি কার্নো ইঞ্জিন যখন 72\\degree C তাপমাত্রায় ...   \n",
            "4  একটি তড়িৎ চুম্বকীয় তরঙ্গের উপর অবস্থিত যেকোনো ...   \n",
            "\n",
            "                                  A                           B  \\\n",
            "0                             9 : 4                       4 : 9   \n",
            "1  1.62 \\times 10^{10}_{1} Wbm^{-2}  1.8 \\times 10^{7} Wbm^{-2}   \n",
            "2                             138 K                       207 K   \n",
            "3                                 i                         iii   \n",
            "4                          i and ii                   i and iii   \n",
            "\n",
            "                             C                              D  \\\n",
            "0                       25 : 1                         1 : 25   \n",
            "1  1.8 \\times 10^{-7} Wbm^{-2}  1.62 \\times 10^{-10} Wbm^{-2}   \n",
            "2                        575 K                          863 K   \n",
            "3                       i & ii                        i & iii   \n",
            "4                   ii and iii                  i, ii and iii   \n",
            "\n",
            "                               A Bn                        B Bn  \\\n",
            "0                             9 : 4                       4 : 9   \n",
            "1  1.62 \\times 10^{10}_{1} Wbm^{-2}  1.8 \\times 10^{7} Wbm^{-2}   \n",
            "2                             138 K                       207 K   \n",
            "3                                 i                         iii   \n",
            "4                            i ও ii                     i ও iii   \n",
            "\n",
            "                          C Bn                           D Bn Correct Answer  \\\n",
            "0                       25 : 1                         1 : 25              a   \n",
            "1  1.8 \\times 10^{-7} Wbm^{-2}  1.62 \\times 10^{-10} Wbm^{-2}              c   \n",
            "2                        575 K                          863 K              c   \n",
            "3                       i ও ii                        i ও iii              c   \n",
            "4                     ii ও iii                    i, ii ও iii              d   \n",
            "\n",
            "                                    predicted_option  \\\n",
            "0  আপনাকে একটি প্রশ্ন এবং চারটি বিকল্প উত্তর দেওয...   \n",
            "1  আপনাকে একটি প্রশ্ন এবং চারটি বিকল্প উত্তর দেওয...   \n",
            "2  আপনাকে একটি প্রশ্ন এবং চারটি বিকল্প উত্তর দেওয...   \n",
            "3  আপনাকে একটি প্রশ্ন এবং চারটি বিকল্প উত্তর দেওয...   \n",
            "4  আপনাকে একটি প্রশ্ন এবং চারটি বিকল্প উত্তর দেওয...   \n",
            "\n",
            "               correct_option_fmt  \n",
            "0                        ক) 9 : 4  \n",
            "1  গ) 1.8 \\times 10^{-7} Wbm^{-2}  \n",
            "2                        গ) 575 K  \n",
            "3                       গ) i ও ii  \n",
            "4                  ঘ) i, ii ও iii  \n"
          ]
        }
      ],
      "source": [
        "import time\n",
        "from tqdm.notebook import tqdm\n",
        "\n",
        "def prepare_cot_results(df, dataset_tag):\n",
        "    # Assuming df is the original DataFrame and category_translation is defined\n",
        "    df['predicted_option'] = None\n",
        "    df['correct_option_fmt'] = None\n",
        "\n",
        "    # Try to load the progress from the Parquet file\n",
        "    try:\n",
        "        df_progress = pd.read_parquet(f\"bloom_7b1_cot_rqa_{dataset_tag}_results.parquet\")\n",
        "        last_valid_index = df_progress['predicted_option'].last_valid_index()\n",
        "        start_index = last_valid_index + 1 if last_valid_index is not None else 0\n",
        "    except (FileNotFoundError, ValueError):\n",
        "        df_progress = df.copy()\n",
        "        start_index = 0\n",
        "\n",
        "\n",
        "    for i, row in tqdm(df.iloc[start_index:].iterrows(), initial=start_index, total=len(df) - start_index):\n",
        "\n",
        "        try:\n",
        "            prompt_input, cor_opt = prepare_questions(row, base_prompt = chain_of_thought, prompt_type = 'cot')\n",
        "        except:\n",
        "            print(\"Error w/ sample\", row)\n",
        "\n",
        "        try:\n",
        "            df.at[i, 'predicted_option'] = get_bloom_7b1_output(prompt_input)\n",
        "            df.at[i, 'correct_option_fmt'] = cor_opt\n",
        "        except Exception as e:\n",
        "            print(f\"Error at index {i}\")\n",
        "            time.sleep(5)\n",
        "\n",
        "        if (i + 1) % 100 == 0:\n",
        "            df.to_parquet(f\"bloom_7b1_cot_rqa_{dataset_tag}_results.parquet\")\n",
        "\n",
        "    # Save final progress\n",
        "    df.to_parquet(f\"bloom_7b1_cot_rqa_{dataset_tag}_results.parquet\")\n",
        "    return df\n",
        "\n",
        "### set file index\n",
        "\n",
        "for file_index in range(5):\n",
        "    print(file_paths[file_index])\n",
        "    df = pd.read_csv(file_paths[file_index])\n",
        "\n",
        "    print(df.head())\n",
        "\n",
        "    cot_results = prepare_cot_results(df, dataset_tag = file_tags[file_index])\n",
        "    print(cot_results.head())"
      ]
    },
    {
      "cell_type": "markdown",
      "id": "YzXcoUuVAqev",
      "metadata": {
        "id": "YzXcoUuVAqev"
      },
      "source": [
        "### Evaluation"
      ]
    },
    {
      "cell_type": "code",
      "execution_count": null,
      "id": "ec665418-26c8-437a-b704-49b9fa488b71",
      "metadata": {
        "colab": {
          "base_uri": "https://localhost:8080/",
          "height": 504
        },
        "id": "ec665418-26c8-437a-b704-49b9fa488b71",
        "outputId": "56f43864-4327-4c8f-f6fc-9d67e65145eb"
      },
      "outputs": [
        {
          "data": {
            "application/vnd.google.colaboratory.intrinsic+json": {
              "summary": "{\n  \"name\": \"zs_df\",\n  \"rows\": 5,\n  \"fields\": [\n    {\n      \"column\": \"English Question\",\n      \"properties\": {\n        \"dtype\": \"string\",\n        \"num_unique_values\": 5,\n        \"samples\": [\n          \"Which is the order of AB if A = \\\\begin{bmatrix} 2 & 4 & 6 \\\\\\\\ 4 & 6 & 8 \\\\end{bmatrix} and B = \\\\begin{bmatrix} 6 \\\\\\\\7 \\\\\\\\ 8 \\\\end{bmatrix}?\",\n          \"What is the value of x if (1, 2)th minor is 8 of \\\\begin{bmatrix} 1 & 2 & 3 \\\\\\\\ 4 & 5 & -8 \\\\\\\\ -5 & 6 & x \\\\end{bmatrix}?\",\n          \"If C = \\\\begin{bmatrix} -1 & 2 \\\\\\\\ 3 & -4 \\\\end{bmatrix}, C^{-1} = What?\"\n        ],\n        \"semantic_type\": \"\",\n        \"description\": \"\"\n      }\n    },\n    {\n      \"column\": \"Bengali Question\",\n      \"properties\": {\n        \"dtype\": \"string\",\n        \"num_unique_values\": 5,\n        \"samples\": [\n          \"A = \\\\begin{bmatrix} 2 & 4 & 6 \\\\\\\\ 4 & 6 & 8 \\\\end{bmatrix} \\u098f\\u09ac\\u0982 B = \\\\begin{bmatrix} 6 \\\\\\\\7 \\\\\\\\ 8 \\\\end{bmatrix} \\u09b9\\u09b2\\u09c7 AB-\\u098f\\u09b0 \\u0995\\u09cd\\u09b0\\u09ae \\u0995\\u09a4?\",\n          \"\\\\begin{bmatrix} 1 & 2 & 3 \\\\\\\\ 4 & 5 & -8 \\\\\\\\ -5 & 6 & x \\\\end{bmatrix}-\\u098f\\u09b0 (1, 2) \\u09a4\\u09ae \\u0985\\u09a8\\u09c1\\u09b0\\u09be\\u09b6\\u09bf 8 \\u09b9\\u09b2\\u09c7 x-\\u098f\\u09b0 \\u09ae\\u09be\\u09a8 \\u0995\\u09a4?\",\n          \"C = \\\\begin{bmatrix} -1 & 2 \\\\\\\\ 3 & -4 \\\\end{bmatrix} \\u09b9\\u09b2\\u09c7 C^{-1} = \\u0995\\u09a4?\"\n        ],\n        \"semantic_type\": \"\",\n        \"description\": \"\"\n      }\n    },\n    {\n      \"column\": \"A\",\n      \"properties\": {\n        \"dtype\": \"string\",\n        \"num_unique_values\": 5,\n        \"samples\": [\n          \"2 \\\\times 1\",\n          \"\\\\text{-8}\",\n          \"- \\\\frac{1}{2} \\\\begin{bmatrix} -4 & 3 \\\\\\\\ 2 & -1 \\\\end{bmatrix}\"\n        ],\n        \"semantic_type\": \"\",\n        \"description\": \"\"\n      }\n    },\n    {\n      \"column\": \"B\",\n      \"properties\": {\n        \"dtype\": \"string\",\n        \"num_unique_values\": 5,\n        \"samples\": [\n          \"1 \\\\times 2\",\n          \"\\\\text{-5}\",\n          \"- \\\\frac{1}{2} \\\\begin{bmatrix} 4 & -2 \\\\\\\\ -3 & 1 \\\\end{bmatrix}\"\n        ],\n        \"semantic_type\": \"\",\n        \"description\": \"\"\n      }\n    },\n    {\n      \"column\": \"C\",\n      \"properties\": {\n        \"dtype\": \"string\",\n        \"num_unique_values\": 5,\n        \"samples\": [\n          \"3 \\\\times 1\",\n          \"12\",\n          \"\\\\frac{1}{2} \\\\begin{bmatrix} 4 & 2 \\\\\\\\ 3 & 1 \\\\end{bmatrix}\"\n        ],\n        \"semantic_type\": \"\",\n        \"description\": \"\"\n      }\n    },\n    {\n      \"column\": \"D\",\n      \"properties\": {\n        \"dtype\": \"string\",\n        \"num_unique_values\": 5,\n        \"samples\": [\n          \"1 \\\\times 3\",\n          \"13\",\n          \"\\\\frac{1}{2} \\\\begin{bmatrix} 4 & 3 \\\\\\\\ 2 & 1 \\\\end{bmatrix}\"\n        ],\n        \"semantic_type\": \"\",\n        \"description\": \"\"\n      }\n    },\n    {\n      \"column\": \"A Bn\",\n      \"properties\": {\n        \"dtype\": \"string\",\n        \"num_unique_values\": 5,\n        \"samples\": [\n          \"2 \\\\times 1\",\n          \"\\\\text{-8}\",\n          \"- \\\\frac{1}{2} \\\\begin{bmatrix} -4 & 3 \\\\\\\\ 2 & -1 \\\\end{bmatrix}\"\n        ],\n        \"semantic_type\": \"\",\n        \"description\": \"\"\n      }\n    },\n    {\n      \"column\": \"B Bn\",\n      \"properties\": {\n        \"dtype\": \"string\",\n        \"num_unique_values\": 5,\n        \"samples\": [\n          \"1 \\\\times 2\",\n          \"\\\\text{-5}\",\n          \"- \\\\frac{1}{2} \\\\begin{bmatrix} 4 & -2 \\\\\\\\ -3 & 1 \\\\end{bmatrix}\"\n        ],\n        \"semantic_type\": \"\",\n        \"description\": \"\"\n      }\n    },\n    {\n      \"column\": \"C Bn\",\n      \"properties\": {\n        \"dtype\": \"string\",\n        \"num_unique_values\": 5,\n        \"samples\": [\n          \"3 \\\\times 1\",\n          \"12\",\n          \"\\\\frac{1}{2} \\\\begin{bmatrix} 4 & 2 \\\\\\\\ 3 & 1 \\\\end{bmatrix}\"\n        ],\n        \"semantic_type\": \"\",\n        \"description\": \"\"\n      }\n    },\n    {\n      \"column\": \"D Bn\",\n      \"properties\": {\n        \"dtype\": \"string\",\n        \"num_unique_values\": 5,\n        \"samples\": [\n          \"1 \\\\times 3\",\n          \"13\",\n          \"\\\\frac{1}{2} \\\\begin{bmatrix} 4 & 3 \\\\\\\\ 2 & 1 \\\\end{bmatrix}\"\n        ],\n        \"semantic_type\": \"\",\n        \"description\": \"\"\n      }\n    },\n    {\n      \"column\": \"Correct Answer\",\n      \"properties\": {\n        \"dtype\": \"category\",\n        \"num_unique_values\": 2,\n        \"samples\": [\n          \"a\",\n          \"c\"\n        ],\n        \"semantic_type\": \"\",\n        \"description\": \"\"\n      }\n    },\n    {\n      \"column\": \"predicted_option\",\n      \"properties\": {\n        \"dtype\": \"string\",\n        \"num_unique_values\": 5,\n        \"samples\": [\n          \"\\u0986\\u09aa\\u09a8\\u09be\\u0995\\u09c7 \\u098f\\u0995\\u099f\\u09bf \\u09aa\\u09cd\\u09b0\\u09b6\\u09cd\\u09a8 \\u098f\\u09ac\\u0982 \\u099a\\u09be\\u09b0\\u099f\\u09bf \\u09ac\\u09bf\\u0995\\u09b2\\u09cd\\u09aa \\u0989\\u09a4\\u09cd\\u09a4\\u09b0 \\u09a6\\u09c7\\u0993\\u09af\\u09bc\\u09be \\u09b9\\u09af\\u09bc\\u09c7\\u099b\\u09c7\\u0964 \\u0986\\u09aa\\u09a8\\u09be\\u0995\\u09c7 \\u09b8\\u09a0\\u09bf\\u0995 \\u0989\\u09a4\\u09cd\\u09a4\\u09b0\\u099f\\u09bf \\u09a8\\u09bf\\u09b0\\u09cd\\u09a7\\u09be\\u09b0\\u09a3 \\u0995\\u09b0\\u09a4\\u09c7 \\u09b9\\u09ac\\u09c7 \\u098f\\u09ac\\u0982 \\u09b6\\u09c1\\u09a7\\u09c1\\u09ae\\u09be\\u09a4\\u09cd\\u09b0 \\u0995, \\u0996, \\u0997, \\u0998 \\u09ac\\u09bf\\u0995\\u09b2\\u09cd\\u09aa\\u09c7\\u09b0 \\u09ae\\u09a7\\u09cd\\u09af\\u09c7 \\u09a5\\u09c7\\u0995\\u09c7 \\u09b8\\u09a0\\u09bf\\u0995 \\u0989\\u09a4\\u09cd\\u09a4\\u09b0\\u099f\\u09bf \\u09b2\\u09bf\\u0996\\u09a4\\u09c7 \\u09b9\\u09ac\\u09c7\\u0964\\n\\n\\u0989\\u09a4\\u09cd\\u09a4\\u09b0\\u09c7\\u09b0 \\u099c\\u09a8\\u09cd\\u09af \\u09aa\\u09cd\\u09b0\\u09a5\\u09ae\\u09c7 \\u0985\\u09aa\\u09b6\\u09a8 \\u09a8\\u09be\\u09ae\\u09cd\\u09ac\\u09be\\u09b0 \\u099f\\u09bf \\u09b2\\u09bf\\u0996\\u09c7 (\\u0995 / \\u0996/ \\u0997 / \\u0998) \\u09ac\\u09cd\\u09b0\\u09be\\u0995\\u09c7\\u099f ) \\u09a6\\u09bf\\u09df\\u09c7 \\u0989\\u09a4\\u09cd\\u09a4\\u09b0 \\u099f\\u09bf \\u09b2\\u09bf\\u0996\\u09c1\\u09a8\\u0964 \\u0985\\u09aa\\u09b6\\u09a8\\u09c7\\u09b0 \\u09ae\\u09a4\\u09cb\\u0987 \\u09a8\\u09bf\\u09ae\\u09cd\\u09a8\\u09cb\\u0995\\u09cd\\u09a4 \\u09ab\\u09b0\\u09ae\\u09cd\\u09af\\u09be\\u099f\\u099f\\u09bf \\u0985\\u09a8\\u09c1\\u09b8\\u09b0\\u09a3 \\u0995\\u09b0\\u09c1\\u09a8\\u0964\\n\\u0995 / \\u0996 / \\u0997 / \\u0998) \\u0989\\u09a4\\u09cd\\u09a4\\u09b0\\n\\n\\u09aa\\u09cd\\u09b0\\u09b6\\u09cd\\u09a8\\u099f\\u09bf\\u09b0 \\u0989\\u09a4\\u09cd\\u09a4\\u09b0 \\u09a8\\u09bf\\u09b0\\u09cd\\u09a7\\u09be\\u09b0\\u09a3 \\u0995\\u09b0\\u09a4\\u09c7 \\u0997\\u09bf\\u09af\\u09bc\\u09c7 \\u09a8\\u09bf\\u09ae\\u09cd\\u09a8\\u09b2\\u09bf\\u0996\\u09bf\\u09a4 \\u09a7\\u09be\\u09aa\\u0997\\u09c1\\u09b2\\u09bf \\u0985\\u09a8\\u09c1\\u09b8\\u09b0\\u09a3 \\u0995\\u09b0\\u09c1\\u09a8:\\n\\n### \\u09a7\\u09be\\u09aa \\u09e7: \\u09aa\\u09cd\\u09b0\\u09b6\\u09cd\\u09a8\\u099f\\u09bf \\u09ac\\u09cb\\u099d\\u09be\\n\\u09aa\\u09cd\\u09b0\\u09b6\\u09cd\\u09a8\\u099f\\u09bf \\u09ad\\u09be\\u09b2 \\u0995\\u09b0\\u09c7 \\u09aa\\u09a1\\u09bc\\u09c1\\u09a8 \\u098f\\u09ac\\u0982 \\u098f\\u099f\\u09bf \\u0995\\u09c0 \\u099c\\u09be\\u09a8\\u09a4\\u09c7 \\u099a\\u09be\\u099a\\u09cd\\u099b\\u09c7 \\u09a4\\u09be \\u09ac\\u09cb\\u099d\\u09be\\u09b0 \\u099a\\u09c7\\u09b7\\u09cd\\u099f\\u09be \\u0995\\u09b0\\u09c1\\u09a8\\u0964 \\u09aa\\u09cd\\u09b0\\u09b6\\u09cd\\u09a8\\u099f\\u09bf\\u09b0 \\u09aa\\u09cd\\u09b0\\u09af\\u09bc\\u09cb\\u099c\\u09a8\\u09c0\\u09af\\u09bc\\u09a4\\u09be \\u098f\\u09ac\\u0982 \\u0995\\u09a8\\u099f\\u09c7\\u0995\\u09cd\\u09b8\\u099f\\u099f\\u09bf \\u09ac\\u09cb\\u099d\\u09be\\u09b0 \\u099c\\u09a8\\u09cd\\u09af \\u098f\\u099f\\u09bf \\u09ac\\u09bf\\u09b8\\u09cd\\u09a4\\u09be\\u09b0\\u09bf\\u09a4\\u09ad\\u09be\\u09ac\\u09c7 \\u09ac\\u09bf\\u09ac\\u09c7\\u099a\\u09a8\\u09be \\u0995\\u09b0\\u09c1\\u09a8\\u0964\\n\\n### \\u09a7\\u09be\\u09aa \\u09e8: \\u09ac\\u09bf\\u0995\\u09b2\\u09cd\\u09aa\\u0997\\u09c1\\u09b2\\u09bf \\u09aa\\u09a1\\u09bc\\u09be\\n\\u09aa\\u09cd\\u09b0\\u09a4\\u09bf\\u099f\\u09bf \\u09ac\\u09bf\\u0995\\u09b2\\u09cd\\u09aa \\u09ad\\u09be\\u09b2 \\u0995\\u09b0\\u09c7 \\u09aa\\u09a1\\u09bc\\u09c1\\u09a8 \\u098f\\u09ac\\u0982 \\u0995\\u09cb\\u09a8 \\u0995\\u09cb\\u09a8 \\u09ac\\u09bf\\u0995\\u09b2\\u09cd\\u09aa\\u0997\\u09c1\\u09b2\\u09bf \\u09b8\\u09ae\\u09cd\\u09ad\\u09ac\\u09a4 \\u09b8\\u09a0\\u09bf\\u0995 \\u09b9\\u09a4\\u09c7 \\u09aa\\u09be\\u09b0\\u09c7 \\u09a4\\u09be \\u09b8\\u09a8\\u09be\\u0995\\u09cd\\u09a4 \\u0995\\u09b0\\u09c1\\u09a8\\u0964 \\u09aa\\u09cd\\u09b0\\u09a4\\u09bf\\u099f\\u09bf \\u09ac\\u09bf\\u0995\\u09b2\\u09cd\\u09aa\\u09c7\\u09b0 \\u09b8\\u09be\\u09a5\\u09c7 \\u09aa\\u09cd\\u09b0\\u09b6\\u09cd\\u09a8\\u099f\\u09bf\\u09b0 \\u09b8\\u09ae\\u09cd\\u09aa\\u09b0\\u09cd\\u0995 \\u09ac\\u09bf\\u099a\\u09be\\u09b0 \\u0995\\u09b0\\u09c1\\u09a8\\u0964\\n\\n### \\u09a7\\u09be\\u09aa \\u09e9: \\u09ac\\u09bf\\u0995\\u09b2\\u09cd\\u09aa\\u0997\\u09c1\\u09b2\\u09bf \\u09ae\\u09c2\\u09b2\\u09cd\\u09af\\u09be\\u09af\\u09bc\\u09a8\\n\\u09aa\\u09cd\\u09b0\\u09b6\\u09cd\\u09a8\\u099f\\u09bf\\u09b0 \\u09b8\\u09be\\u09a5\\u09c7 \\u09b8\\u09ae\\u09cd\\u09aa\\u09b0\\u09cd\\u0995\\u09bf\\u09a4 \\u099c\\u09cd\\u099e\\u09be\\u09a8 \\u098f\\u09ac\\u0982 \\u09a4\\u09a5\\u09cd\\u09af \\u09ac\\u09cd\\u09af\\u09ac\\u09b9\\u09be\\u09b0 \\u0995\\u09b0\\u09c7 \\u09b8\\u09ae\\u09cd\\u09ad\\u09be\\u09ac\\u09cd\\u09af \\u09b8\\u09ae\\u09be\\u09a7\\u09be\\u09a8\\u09c7 \\u09aa\\u09cc\\u099b\\u09be\\u09a8\\u0964 \\u0995\\u09cb\\u09a8 \\u09ac\\u09bf\\u0995\\u09b2\\u09cd\\u09aa\\u099f\\u09bf \\u09b8\\u09a0\\u09bf\\u0995 \\u09b9\\u09a4\\u09c7 \\u09aa\\u09be\\u09b0\\u09c7 \\u09a4\\u09be \\u09ac\\u09bf\\u099a\\u09be\\u09b0 \\u0995\\u09b0\\u09c1\\u09a8\\u0964\\n\\n### \\u09a7\\u09be\\u09aa \\u09ea: \\u09b8\\u09a0\\u09bf\\u0995 \\u0989\\u09a4\\u09cd\\u09a4\\u09b0 \\u09a8\\u09bf\\u09b0\\u09cd\\u09ac\\u09be\\u099a\\u09a8\\n\\u09aa\\u09cd\\u09b0\\u09a5\\u09ae \\u09a4\\u09bf\\u09a8\\u099f\\u09bf \\u09a7\\u09be\\u09aa\\u09c7\\u09b0 \\u09ad\\u09bf\\u09a4\\u09cd\\u09a4\\u09bf\\u09a4\\u09c7 \\u09b8\\u09ac\\u099a\\u09c7\\u09af\\u09bc\\u09c7 \\u09af\\u09c1\\u0995\\u09cd\\u09a4\\u09bf\\u09af\\u09c1\\u0995\\u09cd\\u09a4 \\u098f\\u09ac\\u0982 \\u09b8\\u09a0\\u09bf\\u0995 \\u0989\\u09a4\\u09cd\\u09a4\\u09b0\\u099f\\u09bf \\u09a8\\u09bf\\u09b0\\u09cd\\u09ac\\u09be\\u099a\\u09a8 \\u0995\\u09b0\\u09c1\\u09a8\\u0964\\n\\n### \\u0989\\u09a6\\u09be\\u09b9\\u09b0\\u09a3 \\u09e7\\n### \\u09aa\\u09cd\\u09b0\\u09b6\\u09cd\\u09a8:\\np^{2} + q^{2} = 3, pq = 3 \\u09b9\\u09b2\\u09c7 (p + q)^{2} \\u098f\\u09b0 \\u09ae\\u09be\\u09a8 \\u0995\\u09a4?\\n\\n### \\u09ac\\u09bf\\u0995\\u09b2\\u09cd\\u09aa:\\n\\u0995) 3\\n\\u0996) 9\\n\\u0997) 11\\n\\u0998) 15\\n\\n#### \\u099a\\u09bf\\u09a8\\u09cd\\u09a4\\u09be\\u09a7\\u09be\\u09b0\\u09be:\\n- \\u09a7\\u09be\\u09aa \\u09e7: \\u09aa\\u09cd\\u09b0\\u09b6\\u09cd\\u09a8\\u099f\\u09bf \\u09ac\\u09cb\\u099d\\u09be: \\u098f\\u0996\\u09be\\u09a8\\u09c7, p^{2} + q^{2} \\u098f\\u09ac\\u0982 pq \\u098f\\u09b0 \\u09ae\\u09be\\u09a8 \\u09a6\\u09c7\\u0993\\u09af\\u09bc\\u09be \\u09b9\\u09af\\u09bc\\u09c7\\u099b\\u09c7 \\u098f\\u09ac\\u0982 (p + q)^{2} \\u098f\\u09b0 \\u09ae\\u09be\\u09a8 \\u09a8\\u09bf\\u09b0\\u09cd\\u09a7\\u09be\\u09b0\\u09a3 \\u0995\\u09b0\\u09a4\\u09c7 \\u09ac\\u09b2\\u09be \\u09b9\\u09af\\u09bc\\u09c7\\u099b\\u09c7\\u0964\\n- \\u09a7\\u09be\\u09aa \\u09e8: \\u09ac\\u09bf\\u0995\\u09b2\\u09cd\\u09aa\\u0997\\u09c1\\u09b2\\u09bf \\u09aa\\u09a1\\u09bc\\u09be: \\u09ac\\u09bf\\u0995\\u09b2\\u09cd\\u09aa\\u0997\\u09c1\\u09b2\\u09bf \\u09b9\\u09b2 \\u09e9, \\u09ef, \\u09e7\\u09e7, \\u098f\\u09ac\\u0982 \\u09e7\\u09eb\\u0964\\n- \\u09a7\\u09be\\u09aa \\u09e9: \\u09b8\\u09ae\\u09cd\\u09ad\\u09be\\u09ac\\u09cd\\u09af \\u09b8\\u09ae\\u09be\\u09a7\\u09be\\u09a8: \\u0986\\u09ae\\u09b0\\u09be \\u099c\\u09be\\u09a8\\u09bf \\u09af\\u09c7 (p + q)^{2} = p^{2} + 2pq + q^{2}\\u0964 \\u09b8\\u09c1\\u09a4\\u09b0\\u09be\\u0982, (p + q)^{2} = 3 + 2*3 = 9\\u0964\\n- \\u09a7\\u09be\\u09aa \\u09ea: \\u09b8\\u09a0\\u09bf\\u0995 \\u0989\\u09a4\\u09cd\\u09a4\\u09b0 \\u09a8\\u09bf\\u09b0\\u09cd\\u09ac\\u09be\\u099a\\u09a8: \\u09b8\\u09c1\\u09a4\\u09b0\\u09be\\u0982, \\u09b8\\u09a0\\u09bf\\u0995 \\u0989\\u09a4\\u09cd\\u09a4\\u09b0 \\u09b9\\u09b2 \\u0996) \\u09ef\\u0964\\n\\n### \\u0986\\u09aa\\u09a8\\u09be\\u09b0 \\u0989\\u09a4\\u09cd\\u09a4\\u09b0:\\n\\u0996) \\u09ef\\n\\n### \\u0989\\u09a6\\u09be\\u09b9\\u09b0\\u09a3 \\u09e8\\n### \\u09aa\\u09cd\\u09b0\\u09b6\\u09cd\\u09a8:\\nx - 3y = 15 \\u098f\\u09ac\\u0982 3x + y = 3\\u09a8 \\u09b0\\u09c7\\u0996\\u09be\\u09a6\\u09cd\\u09ac\\u09af\\u09bc\\u09c7\\u09b0 \\u09a2\\u09be\\u09b2\\u09c7\\u09b0 \\u0997\\u09c1\\u09a3\\u09ab\\u09b2 \\u0995\\u09a4?\\n\\n### \\u09ac\\u09bf\\u0995\\u09b2\\u09cd\\u09aa:\\n\\u0995) -3\\n\\u0996) -1\\n\\u0997) 1\\n\\u0998) 3\\n\\n#### \\u099a\\u09bf\\u09a8\\u09cd\\u09a4\\u09be\\u09a7\\u09be\\u09b0\\u09be:\\n- \\u09a7\\u09be\\u09aa \\u09e7: \\u09aa\\u09cd\\u09b0\\u09b6\\u09cd\\u09a8\\u099f\\u09bf \\u09ac\\u09cb\\u099d\\u09be: \\u098f\\u0996\\u09be\\u09a8\\u09c7, \\u09a6\\u09c1\\u0987\\u099f\\u09bf \\u09b0\\u09c7\\u0996\\u09be\\u09b0 \\u09b8\\u09ae\\u09c0\\u0995\\u09b0\\u09a3 \\u09a6\\u09c7\\u0993\\u09af\\u09bc\\u09be \\u09b9\\u09af\\u09bc\\u09c7\\u099b\\u09c7 \\u098f\\u09ac\\u0982 \\u09a4\\u09be\\u09a6\\u09c7\\u09b0 \\u09a2\\u09be\\u09b2\\u09c7\\u09b0 \\u0997\\u09c1\\u09a3\\u09ab\\u09b2 \\u09a8\\u09bf\\u09b0\\u09cd\\u09a7\\u09be\\u09b0\\u09a3 \\u0995\\u09b0\\u09a4\\u09c7 \\u09ac\\u09b2\\u09be \\u09b9\\u09af\\u09bc\\u09c7\\u099b\\u09c7\\u0964\\n- \\u09a7\\u09be\\u09aa \\u09e8: \\u09ac\\u09bf\\u0995\\u09b2\\u09cd\\u09aa\\u0997\\u09c1\\u09b2\\u09bf \\u09aa\\u09a1\\u09bc\\u09be: \\u09ac\\u09bf\\u0995\\u09b2\\u09cd\\u09aa\\u0997\\u09c1\\u09b2\\u09bf \\u09b9\\u09b2 -\\u09e9, -\\u09e7, \\u09e7, \\u098f\\u09ac\\u0982 \\u09e9\\u0964\\n- \\u09a7\\u09be\\u09aa \\u09e9: \\u09b8\\u09ae\\u09cd\\u09ad\\u09be\\u09ac\\u09cd\\u09af \\u09b8\\u09ae\\u09be\\u09a7\\u09be\\u09a8: \\u0986\\u09ae\\u09b0\\u09be x - 3y = 15 \\u0995\\u09c7 y = mx + c \\u0986\\u0995\\u09be\\u09b0\\u09c7 \\u09b2\\u09bf\\u0996\\u09a4\\u09c7 \\u09aa\\u09be\\u09b0\\u09bf: y = 1/3x + 15\\u0964 \\u09ab\\u09b2\\u09c7, \\u09aa\\u09cd\\u09b0\\u09a5\\u09ae \\u09b0\\u09c7\\u0996\\u09be\\u09b0 \\u09a2\\u09be\\u09b2 \\u09b9\\u09b2 \\u09e7/\\u09e9 \\u098f\\u09ac\\u0982 \\u09a6\\u09cd\\u09ac\\u09bf\\u09a4\\u09c0\\u09af\\u09bc \\u09b0\\u09c7\\u0996\\u09be\\u09b0 \\u09a2\\u09be\\u09b2 \\u09b9\\u09b2 -\\u09e9\\u0964 \\u09b8\\u09c1\\u09a4\\u09b0\\u09be\\u0982, \\u09a2\\u09be\\u09b2\\u09c7\\u09b0 \\u0997\\u09c1\\u09a3\\u09ab\\u09b2 \\u09b9\\u09b2 (\\u09e7/\\u09e9) * (-\\u09e9) = -\\u09e7\\u0964\\n- \\u09a7\\u09be\\u09aa \\u09ea: \\u09b8\\u09a0\\u09bf\\u0995 \\u0989\\u09a4\\u09cd\\u09a4\\u09b0 \\u09a8\\u09bf\\u09b0\\u09cd\\u09ac\\u09be\\u099a\\u09a8: \\u09b8\\u09c1\\u09a4\\u09b0\\u09be\\u0982, \\u09b8\\u09a0\\u09bf\\u0995 \\u0989\\u09a4\\u09cd\\u09a4\\u09b0 \\u09b9\\u09b2 \\u0996) -\\u09e7\\u0964\\n\\n### \\u0986\\u09aa\\u09a8\\u09be\\u09b0 \\u0989\\u09a4\\u09cd\\u09a4\\u09b0:\\n\\u0996) -\\u09e7\\n\\n### \\u0989\\u09a6\\u09be\\u09b9\\u09b0\\u09a3 \\u09e9\\n### \\u09aa\\u09cd\\u09b0\\u09b6\\u09cd\\u09a8:\\n\\u09ac\\u09bf\\u09a8\\u09be \\u09ac\\u09be\\u09a7\\u09be\\u09af\\u09bc \\u09aa\\u09a1\\u09bc\\u09a8\\u09cd\\u09a4 \\u09ac\\u09b8\\u09cd\\u09a4\\u09c1 5 \\u09b8\\u09c7\\u0995\\u09c7\\u09a8\\u09cd\\u09a1\\u09c7 50 \\u09ae\\u09bf\\u099f\\u09be\\u09b0 \\u09aa\\u09a5 \\u0985\\u09a4\\u09bf\\u0995\\u09cd\\u09b0\\u09ae \\u0995\\u09b0\\u09b2\\u09c7 72 \\u09ae\\u09bf\\u099f\\u09be\\u09b0 \\u09aa\\u09a5 \\u0985\\u09a4\\u09bf\\u0995\\u09cd\\u09b0\\u09ae \\u0995\\u09b0\\u09a4\\u09c7 \\u0995\\u09a4 \\u09b8\\u09c7\\u0995\\u09c7\\u09a8\\u09cd\\u09a1 \\u09b8\\u09ae\\u09af\\u09bc \\u09b2\\u09be\\u0997\\u09ac\\u09c7?\\n\\n### \\u09ac\\u09bf\\u0995\\u09b2\\u09cd\\u09aa:\\n\\u0995) 6\\n\\u0996) 7.2\\n\\u0997) 9.5\\n\\u0998) 12\\n\\n#### \\u099a\\u09bf\\u09a8\\u09cd\\u09a4\\u09be\\u09a7\\u09be\\u09b0\\u09be:\\n- \\u09a7\\u09be\\u09aa \\u09e7: \\u09aa\\u09cd\\u09b0\\u09b6\\u09cd\\u09a8\\u099f\\u09bf \\u09ac\\u09cb\\u099d\\u09be: \\u098f\\u0996\\u09be\\u09a8\\u09c7, \\u09ac\\u09bf\\u09a8\\u09be \\u09ac\\u09be\\u09a7\\u09be\\u09af\\u09bc \\u09aa\\u09a1\\u09bc\\u09a8\\u09cd\\u09a4 \\u09ac\\u09b8\\u09cd\\u09a4\\u09c1\\u09b0 \\u09b8\\u09ae\\u09af\\u09bc \\u09a8\\u09bf\\u09b0\\u09cd\\u09a7\\u09be\\u09b0\\u09a3 \\u0995\\u09b0\\u09be\\u0964\\n- \\u09a7\\u09be\\u09aa \\u09e8: \\u09ac\\u09bf\\u0995\\u09b2\\u09cd\\u09aa\\u0997\\u09c1\\u09b2\\u09bf \\u09aa\\u09a1\\u09bc\\u09be: \\u09ac\\u09bf\\u0995\\u09b2\\u09cd\\u09aa\\u0997\\u09c1\\u09b2\\u09bf \\u09b9\\u09b2 \\u09ec, \\u09ed.\\u09e8, \\u09ef.\\u09eb, \\u098f\\u09ac\\u0982 \\u09e7\\u09e8\\u0964\\n- \\u09a7\\u09be\\u09aa \\u09e9: \\u09b8\\u09ae\\u09cd\\u09ad\\u09be\\u09ac\\u09cd\\u09af \\u09b8\\u09ae\\u09be\\u09a7\\u09be\\u09a8: \\u09ac\\u09bf\\u09a8\\u09be \\u09ac\\u09be\\u09a7\\u09be\\u09af\\u09bc \\u09aa\\u09a1\\u09bc\\u09a8\\u09cd\\u09a4 \\u09ac\\u09b8\\u09cd\\u09a4\\u09c1 t \\u09b8\\u09ae\\u09af\\u09bc\\u09c7 h \\u09a6\\u09c2\\u09b0\\u09a4\\u09cd\\u09ac \\u0985\\u09a4\\u09bf\\u0995\\u09cd\\u09b0\\u09ae \\u0995\\u09b0\\u09c7, \\u09af\\u09c7\\u0996\\u09be\\u09a8\\u09c7 h = 1/2 * g * t^2\\u0964 50 \\u09ae\\u09bf\\u099f\\u09be\\u09b0 \\u09af\\u09c7\\u09a4\\u09c7 5 \\u09b8\\u09c7\\u0995\\u09c7\\u09a8\\u09cd\\u09a1 \\u09b8\\u09ae\\u09af\\u09bc \\u09b2\\u09be\\u0997\\u09c7: 50 = 1/2 * g * 5^2, g = 4 \\u09ae\\u09bf\\u099f\\u09be\\u09b0/\\u09b8\\u09c7\\u0995\\u09c7\\u09a8\\u09cd\\u09a1^2\\u0964 \\u09b8\\u09c1\\u09a4\\u09b0\\u09be\\u0982, 72 \\u09ae\\u09bf\\u099f\\u09be\\u09b0 \\u09af\\u09c7\\u09a4\\u09c7 \\u09b8\\u09ae\\u09af\\u09bc \\u09b2\\u09be\\u0997\\u09ac\\u09c7: 72 = 1/2 * 4 * t^2, t^2 = 36, t = 6 \\u09b8\\u09c7\\u0995\\u09c7\\u09a8\\u09cd\\u09a1\\u0964\\n- \\u09a7\\u09be\\u09aa \\u09ea: \\u09b8\\u09a0\\u09bf\\u0995 \\u0989\\u09a4\\u09cd\\u09a4\\u09b0 \\u09a8\\u09bf\\u09b0\\u09cd\\u09ac\\u09be\\u099a\\u09a8: \\u09b8\\u09c1\\u09a4\\u09b0\\u09be\\u0982, \\u09b8\\u09a0\\u09bf\\u0995 \\u0989\\u09a4\\u09cd\\u09a4\\u09b0 \\u09b9\\u09b2 \\u0995) \\u09ec\\u0964\\n\\n### \\u0986\\u09aa\\u09a8\\u09be\\u09b0 \\u0989\\u09a4\\u09cd\\u09a4\\u09b0:\\n\\u0996) \\u09ed.\\u09e8\\n\\n### \\u0986\\u09aa\\u09a8\\u09be\\u09b0 \\u0995\\u09be\\u099c\\n\\n\\n### \\u09aa\\u09cd\\u09b0\\u09b6\\u09cd\\u09a8:\\nA = \\\\begin{bmatrix} 2 & 4 & 6 \\\\\\\\ 4 & 6 & 8 \\\\end{bmatrix} \\u098f\\u09ac\\u0982 B = \\\\begin{bmatrix} 6 \\\\\\\\7 \\\\\\\\ 8 \\\\end{bmatrix} \\u09b9\\u09b2\\u09c7 AB-\\u098f\\u09b0 \\u0995\\u09cd\\u09b0\\u09ae \\u0995\\u09a4?\\n\\n### \\u09ac\\u09bf\\u0995\\u09b2\\u09cd\\u09aa:\\n\\u0995) 2 \\\\times 1\\n\\u0996) 1 \\\\times 2\\n\\u0997) 3 \\\\times 1\\n\\u0998) 1 \\\\times 3\\n\\n#### \\u099a\\u09bf\\u09a8\\u09cd\\u09a4\\u09be\\u09a7\\u09be\\u09b0\\u09be:\\n- \\u09a7\\u09be\\u09aa \\u09e7: \\u09aa\\u09cd\\u09b0\\u09b6\\u09cd\\u09a8\\u099f\\u09bf \\u09ac\\u09cb\\u099d\\u09be: \\u098f\\u0996\\u09be\\u09a8\\u09c7, A \\u098f\\u09ac\\u0982 B \\u098f\\u09b0 \\u0995\\u09cd\\u09b0\\u09ae \\u09a8\\u09bf\\u09b0\\u09cd\\u09a7\\u09be\\u09b0\\u09a3 \\u0995\\u09b0\\u09be\\u0964\\n- \\u09a7\\u09be\\u09aa \\u09e8: \\u09ac\\u09bf\\u0995\\u09b2\\u09cd\\u09aa\\u0997\\u09c1\\u09b2\\u09bf \\u09aa\\u09a1\\u09bc\\u09be: \\u09ac\\u09bf\\u0995\\u09b2\\u09cd\\u09aa\\u0997\\u09c1\\u09b2\\u09bf \\u09b9\\u09b2 2 \\u00d7 1, 1 \\u00d7 2, 3 \\u00d7 1, \\u098f\\u09ac\\u0982 1 \\u00d7 3\\u0964\\n- \\u09a7\\u09be\\u09aa \\u09e9: \\u09b8\\u09ae\\u09cd\\u09ad\\u09be\\u09ac\\u09cd\\u09af \\u09b8\\u09ae\\u09be\\u09a7\\u09be\\u09a8: \\u0986\\u09ae\\u09b0\\u09be \\u099c\\u09be\\u09a8\\u09bf \\u09af\\u09c7 A \\u098f\\u09ac\\u0982 B \\u098f\\u09b0 \\u0995\\u09cd\\u09b0\\u09ae \\u09b9\\u09b2 2 \\u00d7 1 \\u098f\\u09ac\\u0982 1 \\u00d7 2\\u0964 \\u09b8\\u09c1\\u09a4\\u09b0\\u09be\\u0982, AB \\u098f\\u09b0 \\u0995\\u09cd\\u09b0\\u09ae \\u09b9\\u09b2 2 \\u00d7 1 \\u00d7 1 = 2 \\u00d7 1 \\u00d7 2 = 4 \\u00d7 1 \\u00d7 1 = 8 \\u00d7 1 \\u00d7 1 = 16 \\u00d7 1 \\u00d7 1 = 32 \\u00d7 1 \\u00d7 1 = 64 \\u00d7 1 \\u00d7 1 = 128\",\n          \"\\u0986\\u09aa\\u09a8\\u09be\\u0995\\u09c7 \\u098f\\u0995\\u099f\\u09bf \\u09aa\\u09cd\\u09b0\\u09b6\\u09cd\\u09a8 \\u098f\\u09ac\\u0982 \\u099a\\u09be\\u09b0\\u099f\\u09bf \\u09ac\\u09bf\\u0995\\u09b2\\u09cd\\u09aa \\u0989\\u09a4\\u09cd\\u09a4\\u09b0 \\u09a6\\u09c7\\u0993\\u09af\\u09bc\\u09be \\u09b9\\u09af\\u09bc\\u09c7\\u099b\\u09c7\\u0964 \\u0986\\u09aa\\u09a8\\u09be\\u0995\\u09c7 \\u09b8\\u09a0\\u09bf\\u0995 \\u0989\\u09a4\\u09cd\\u09a4\\u09b0\\u099f\\u09bf \\u09a8\\u09bf\\u09b0\\u09cd\\u09a7\\u09be\\u09b0\\u09a3 \\u0995\\u09b0\\u09a4\\u09c7 \\u09b9\\u09ac\\u09c7 \\u098f\\u09ac\\u0982 \\u09b6\\u09c1\\u09a7\\u09c1\\u09ae\\u09be\\u09a4\\u09cd\\u09b0 \\u0995, \\u0996, \\u0997, \\u0998 \\u09ac\\u09bf\\u0995\\u09b2\\u09cd\\u09aa\\u09c7\\u09b0 \\u09ae\\u09a7\\u09cd\\u09af\\u09c7 \\u09a5\\u09c7\\u0995\\u09c7 \\u09b8\\u09a0\\u09bf\\u0995 \\u0989\\u09a4\\u09cd\\u09a4\\u09b0\\u099f\\u09bf \\u09b2\\u09bf\\u0996\\u09a4\\u09c7 \\u09b9\\u09ac\\u09c7\\u0964\\n\\n\\u0989\\u09a4\\u09cd\\u09a4\\u09b0\\u09c7\\u09b0 \\u099c\\u09a8\\u09cd\\u09af \\u09aa\\u09cd\\u09b0\\u09a5\\u09ae\\u09c7 \\u0985\\u09aa\\u09b6\\u09a8 \\u09a8\\u09be\\u09ae\\u09cd\\u09ac\\u09be\\u09b0 \\u099f\\u09bf \\u09b2\\u09bf\\u0996\\u09c7 (\\u0995 / \\u0996/ \\u0997 / \\u0998) \\u09ac\\u09cd\\u09b0\\u09be\\u0995\\u09c7\\u099f ) \\u09a6\\u09bf\\u09df\\u09c7 \\u0989\\u09a4\\u09cd\\u09a4\\u09b0 \\u099f\\u09bf \\u09b2\\u09bf\\u0996\\u09c1\\u09a8\\u0964 \\u0985\\u09aa\\u09b6\\u09a8\\u09c7\\u09b0 \\u09ae\\u09a4\\u09cb\\u0987 \\u09a8\\u09bf\\u09ae\\u09cd\\u09a8\\u09cb\\u0995\\u09cd\\u09a4 \\u09ab\\u09b0\\u09ae\\u09cd\\u09af\\u09be\\u099f\\u099f\\u09bf \\u0985\\u09a8\\u09c1\\u09b8\\u09b0\\u09a3 \\u0995\\u09b0\\u09c1\\u09a8\\u0964\\n\\u0995 / \\u0996 / \\u0997 / \\u0998) \\u0989\\u09a4\\u09cd\\u09a4\\u09b0\\n\\n\\u09aa\\u09cd\\u09b0\\u09b6\\u09cd\\u09a8\\u099f\\u09bf\\u09b0 \\u0989\\u09a4\\u09cd\\u09a4\\u09b0 \\u09a8\\u09bf\\u09b0\\u09cd\\u09a7\\u09be\\u09b0\\u09a3 \\u0995\\u09b0\\u09a4\\u09c7 \\u0997\\u09bf\\u09af\\u09bc\\u09c7 \\u09a8\\u09bf\\u09ae\\u09cd\\u09a8\\u09b2\\u09bf\\u0996\\u09bf\\u09a4 \\u09a7\\u09be\\u09aa\\u0997\\u09c1\\u09b2\\u09bf \\u0985\\u09a8\\u09c1\\u09b8\\u09b0\\u09a3 \\u0995\\u09b0\\u09c1\\u09a8:\\n\\n### \\u09a7\\u09be\\u09aa \\u09e7: \\u09aa\\u09cd\\u09b0\\u09b6\\u09cd\\u09a8\\u099f\\u09bf \\u09ac\\u09cb\\u099d\\u09be\\n\\u09aa\\u09cd\\u09b0\\u09b6\\u09cd\\u09a8\\u099f\\u09bf \\u09ad\\u09be\\u09b2 \\u0995\\u09b0\\u09c7 \\u09aa\\u09a1\\u09bc\\u09c1\\u09a8 \\u098f\\u09ac\\u0982 \\u098f\\u099f\\u09bf \\u0995\\u09c0 \\u099c\\u09be\\u09a8\\u09a4\\u09c7 \\u099a\\u09be\\u099a\\u09cd\\u099b\\u09c7 \\u09a4\\u09be \\u09ac\\u09cb\\u099d\\u09be\\u09b0 \\u099a\\u09c7\\u09b7\\u09cd\\u099f\\u09be \\u0995\\u09b0\\u09c1\\u09a8\\u0964 \\u09aa\\u09cd\\u09b0\\u09b6\\u09cd\\u09a8\\u099f\\u09bf\\u09b0 \\u09aa\\u09cd\\u09b0\\u09af\\u09bc\\u09cb\\u099c\\u09a8\\u09c0\\u09af\\u09bc\\u09a4\\u09be \\u098f\\u09ac\\u0982 \\u0995\\u09a8\\u099f\\u09c7\\u0995\\u09cd\\u09b8\\u099f\\u099f\\u09bf \\u09ac\\u09cb\\u099d\\u09be\\u09b0 \\u099c\\u09a8\\u09cd\\u09af \\u098f\\u099f\\u09bf \\u09ac\\u09bf\\u09b8\\u09cd\\u09a4\\u09be\\u09b0\\u09bf\\u09a4\\u09ad\\u09be\\u09ac\\u09c7 \\u09ac\\u09bf\\u09ac\\u09c7\\u099a\\u09a8\\u09be \\u0995\\u09b0\\u09c1\\u09a8\\u0964\\n\\n### \\u09a7\\u09be\\u09aa \\u09e8: \\u09ac\\u09bf\\u0995\\u09b2\\u09cd\\u09aa\\u0997\\u09c1\\u09b2\\u09bf \\u09aa\\u09a1\\u09bc\\u09be\\n\\u09aa\\u09cd\\u09b0\\u09a4\\u09bf\\u099f\\u09bf \\u09ac\\u09bf\\u0995\\u09b2\\u09cd\\u09aa \\u09ad\\u09be\\u09b2 \\u0995\\u09b0\\u09c7 \\u09aa\\u09a1\\u09bc\\u09c1\\u09a8 \\u098f\\u09ac\\u0982 \\u0995\\u09cb\\u09a8 \\u0995\\u09cb\\u09a8 \\u09ac\\u09bf\\u0995\\u09b2\\u09cd\\u09aa\\u0997\\u09c1\\u09b2\\u09bf \\u09b8\\u09ae\\u09cd\\u09ad\\u09ac\\u09a4 \\u09b8\\u09a0\\u09bf\\u0995 \\u09b9\\u09a4\\u09c7 \\u09aa\\u09be\\u09b0\\u09c7 \\u09a4\\u09be \\u09b8\\u09a8\\u09be\\u0995\\u09cd\\u09a4 \\u0995\\u09b0\\u09c1\\u09a8\\u0964 \\u09aa\\u09cd\\u09b0\\u09a4\\u09bf\\u099f\\u09bf \\u09ac\\u09bf\\u0995\\u09b2\\u09cd\\u09aa\\u09c7\\u09b0 \\u09b8\\u09be\\u09a5\\u09c7 \\u09aa\\u09cd\\u09b0\\u09b6\\u09cd\\u09a8\\u099f\\u09bf\\u09b0 \\u09b8\\u09ae\\u09cd\\u09aa\\u09b0\\u09cd\\u0995 \\u09ac\\u09bf\\u099a\\u09be\\u09b0 \\u0995\\u09b0\\u09c1\\u09a8\\u0964\\n\\n### \\u09a7\\u09be\\u09aa \\u09e9: \\u09ac\\u09bf\\u0995\\u09b2\\u09cd\\u09aa\\u0997\\u09c1\\u09b2\\u09bf \\u09ae\\u09c2\\u09b2\\u09cd\\u09af\\u09be\\u09af\\u09bc\\u09a8\\n\\u09aa\\u09cd\\u09b0\\u09b6\\u09cd\\u09a8\\u099f\\u09bf\\u09b0 \\u09b8\\u09be\\u09a5\\u09c7 \\u09b8\\u09ae\\u09cd\\u09aa\\u09b0\\u09cd\\u0995\\u09bf\\u09a4 \\u099c\\u09cd\\u099e\\u09be\\u09a8 \\u098f\\u09ac\\u0982 \\u09a4\\u09a5\\u09cd\\u09af \\u09ac\\u09cd\\u09af\\u09ac\\u09b9\\u09be\\u09b0 \\u0995\\u09b0\\u09c7 \\u09b8\\u09ae\\u09cd\\u09ad\\u09be\\u09ac\\u09cd\\u09af \\u09b8\\u09ae\\u09be\\u09a7\\u09be\\u09a8\\u09c7 \\u09aa\\u09cc\\u099b\\u09be\\u09a8\\u0964 \\u0995\\u09cb\\u09a8 \\u09ac\\u09bf\\u0995\\u09b2\\u09cd\\u09aa\\u099f\\u09bf \\u09b8\\u09a0\\u09bf\\u0995 \\u09b9\\u09a4\\u09c7 \\u09aa\\u09be\\u09b0\\u09c7 \\u09a4\\u09be \\u09ac\\u09bf\\u099a\\u09be\\u09b0 \\u0995\\u09b0\\u09c1\\u09a8\\u0964\\n\\n### \\u09a7\\u09be\\u09aa \\u09ea: \\u09b8\\u09a0\\u09bf\\u0995 \\u0989\\u09a4\\u09cd\\u09a4\\u09b0 \\u09a8\\u09bf\\u09b0\\u09cd\\u09ac\\u09be\\u099a\\u09a8\\n\\u09aa\\u09cd\\u09b0\\u09a5\\u09ae \\u09a4\\u09bf\\u09a8\\u099f\\u09bf \\u09a7\\u09be\\u09aa\\u09c7\\u09b0 \\u09ad\\u09bf\\u09a4\\u09cd\\u09a4\\u09bf\\u09a4\\u09c7 \\u09b8\\u09ac\\u099a\\u09c7\\u09af\\u09bc\\u09c7 \\u09af\\u09c1\\u0995\\u09cd\\u09a4\\u09bf\\u09af\\u09c1\\u0995\\u09cd\\u09a4 \\u098f\\u09ac\\u0982 \\u09b8\\u09a0\\u09bf\\u0995 \\u0989\\u09a4\\u09cd\\u09a4\\u09b0\\u099f\\u09bf \\u09a8\\u09bf\\u09b0\\u09cd\\u09ac\\u09be\\u099a\\u09a8 \\u0995\\u09b0\\u09c1\\u09a8\\u0964\\n\\n### \\u0989\\u09a6\\u09be\\u09b9\\u09b0\\u09a3 \\u09e7\\n### \\u09aa\\u09cd\\u09b0\\u09b6\\u09cd\\u09a8:\\np^{2} + q^{2} = 3, pq = 3 \\u09b9\\u09b2\\u09c7 (p + q)^{2} \\u098f\\u09b0 \\u09ae\\u09be\\u09a8 \\u0995\\u09a4?\\n\\n### \\u09ac\\u09bf\\u0995\\u09b2\\u09cd\\u09aa:\\n\\u0995) 3\\n\\u0996) 9\\n\\u0997) 11\\n\\u0998) 15\\n\\n#### \\u099a\\u09bf\\u09a8\\u09cd\\u09a4\\u09be\\u09a7\\u09be\\u09b0\\u09be:\\n- \\u09a7\\u09be\\u09aa \\u09e7: \\u09aa\\u09cd\\u09b0\\u09b6\\u09cd\\u09a8\\u099f\\u09bf \\u09ac\\u09cb\\u099d\\u09be: \\u098f\\u0996\\u09be\\u09a8\\u09c7, p^{2} + q^{2} \\u098f\\u09ac\\u0982 pq \\u098f\\u09b0 \\u09ae\\u09be\\u09a8 \\u09a6\\u09c7\\u0993\\u09af\\u09bc\\u09be \\u09b9\\u09af\\u09bc\\u09c7\\u099b\\u09c7 \\u098f\\u09ac\\u0982 (p + q)^{2} \\u098f\\u09b0 \\u09ae\\u09be\\u09a8 \\u09a8\\u09bf\\u09b0\\u09cd\\u09a7\\u09be\\u09b0\\u09a3 \\u0995\\u09b0\\u09a4\\u09c7 \\u09ac\\u09b2\\u09be \\u09b9\\u09af\\u09bc\\u09c7\\u099b\\u09c7\\u0964\\n- \\u09a7\\u09be\\u09aa \\u09e8: \\u09ac\\u09bf\\u0995\\u09b2\\u09cd\\u09aa\\u0997\\u09c1\\u09b2\\u09bf \\u09aa\\u09a1\\u09bc\\u09be: \\u09ac\\u09bf\\u0995\\u09b2\\u09cd\\u09aa\\u0997\\u09c1\\u09b2\\u09bf \\u09b9\\u09b2 \\u09e9, \\u09ef, \\u09e7\\u09e7, \\u098f\\u09ac\\u0982 \\u09e7\\u09eb\\u0964\\n- \\u09a7\\u09be\\u09aa \\u09e9: \\u09b8\\u09ae\\u09cd\\u09ad\\u09be\\u09ac\\u09cd\\u09af \\u09b8\\u09ae\\u09be\\u09a7\\u09be\\u09a8: \\u0986\\u09ae\\u09b0\\u09be \\u099c\\u09be\\u09a8\\u09bf \\u09af\\u09c7 (p + q)^{2} = p^{2} + 2pq + q^{2}\\u0964 \\u09b8\\u09c1\\u09a4\\u09b0\\u09be\\u0982, (p + q)^{2} = 3 + 2*3 = 9\\u0964\\n- \\u09a7\\u09be\\u09aa \\u09ea: \\u09b8\\u09a0\\u09bf\\u0995 \\u0989\\u09a4\\u09cd\\u09a4\\u09b0 \\u09a8\\u09bf\\u09b0\\u09cd\\u09ac\\u09be\\u099a\\u09a8: \\u09b8\\u09c1\\u09a4\\u09b0\\u09be\\u0982, \\u09b8\\u09a0\\u09bf\\u0995 \\u0989\\u09a4\\u09cd\\u09a4\\u09b0 \\u09b9\\u09b2 \\u0996) \\u09ef\\u0964\\n\\n### \\u0986\\u09aa\\u09a8\\u09be\\u09b0 \\u0989\\u09a4\\u09cd\\u09a4\\u09b0:\\n\\u0996) \\u09ef\\n\\n### \\u0989\\u09a6\\u09be\\u09b9\\u09b0\\u09a3 \\u09e8\\n### \\u09aa\\u09cd\\u09b0\\u09b6\\u09cd\\u09a8:\\nx - 3y = 15 \\u098f\\u09ac\\u0982 3x + y = 3\\u09a8 \\u09b0\\u09c7\\u0996\\u09be\\u09a6\\u09cd\\u09ac\\u09af\\u09bc\\u09c7\\u09b0 \\u09a2\\u09be\\u09b2\\u09c7\\u09b0 \\u0997\\u09c1\\u09a3\\u09ab\\u09b2 \\u0995\\u09a4?\\n\\n### \\u09ac\\u09bf\\u0995\\u09b2\\u09cd\\u09aa:\\n\\u0995) -3\\n\\u0996) -1\\n\\u0997) 1\\n\\u0998) 3\\n\\n#### \\u099a\\u09bf\\u09a8\\u09cd\\u09a4\\u09be\\u09a7\\u09be\\u09b0\\u09be:\\n- \\u09a7\\u09be\\u09aa \\u09e7: \\u09aa\\u09cd\\u09b0\\u09b6\\u09cd\\u09a8\\u099f\\u09bf \\u09ac\\u09cb\\u099d\\u09be: \\u098f\\u0996\\u09be\\u09a8\\u09c7, \\u09a6\\u09c1\\u0987\\u099f\\u09bf \\u09b0\\u09c7\\u0996\\u09be\\u09b0 \\u09b8\\u09ae\\u09c0\\u0995\\u09b0\\u09a3 \\u09a6\\u09c7\\u0993\\u09af\\u09bc\\u09be \\u09b9\\u09af\\u09bc\\u09c7\\u099b\\u09c7 \\u098f\\u09ac\\u0982 \\u09a4\\u09be\\u09a6\\u09c7\\u09b0 \\u09a2\\u09be\\u09b2\\u09c7\\u09b0 \\u0997\\u09c1\\u09a3\\u09ab\\u09b2 \\u09a8\\u09bf\\u09b0\\u09cd\\u09a7\\u09be\\u09b0\\u09a3 \\u0995\\u09b0\\u09a4\\u09c7 \\u09ac\\u09b2\\u09be \\u09b9\\u09af\\u09bc\\u09c7\\u099b\\u09c7\\u0964\\n- \\u09a7\\u09be\\u09aa \\u09e8: \\u09ac\\u09bf\\u0995\\u09b2\\u09cd\\u09aa\\u0997\\u09c1\\u09b2\\u09bf \\u09aa\\u09a1\\u09bc\\u09be: \\u09ac\\u09bf\\u0995\\u09b2\\u09cd\\u09aa\\u0997\\u09c1\\u09b2\\u09bf \\u09b9\\u09b2 -\\u09e9, -\\u09e7, \\u09e7, \\u098f\\u09ac\\u0982 \\u09e9\\u0964\\n- \\u09a7\\u09be\\u09aa \\u09e9: \\u09b8\\u09ae\\u09cd\\u09ad\\u09be\\u09ac\\u09cd\\u09af \\u09b8\\u09ae\\u09be\\u09a7\\u09be\\u09a8: \\u0986\\u09ae\\u09b0\\u09be x - 3y = 15 \\u0995\\u09c7 y = mx + c \\u0986\\u0995\\u09be\\u09b0\\u09c7 \\u09b2\\u09bf\\u0996\\u09a4\\u09c7 \\u09aa\\u09be\\u09b0\\u09bf: y = 1/3x + 15\\u0964 \\u09ab\\u09b2\\u09c7, \\u09aa\\u09cd\\u09b0\\u09a5\\u09ae \\u09b0\\u09c7\\u0996\\u09be\\u09b0 \\u09a2\\u09be\\u09b2 \\u09b9\\u09b2 \\u09e7/\\u09e9 \\u098f\\u09ac\\u0982 \\u09a6\\u09cd\\u09ac\\u09bf\\u09a4\\u09c0\\u09af\\u09bc \\u09b0\\u09c7\\u0996\\u09be\\u09b0 \\u09a2\\u09be\\u09b2 \\u09b9\\u09b2 -\\u09e9\\u0964 \\u09b8\\u09c1\\u09a4\\u09b0\\u09be\\u0982, \\u09a2\\u09be\\u09b2\\u09c7\\u09b0 \\u0997\\u09c1\\u09a3\\u09ab\\u09b2 \\u09b9\\u09b2 (\\u09e7/\\u09e9) * (-\\u09e9) = -\\u09e7\\u0964\\n- \\u09a7\\u09be\\u09aa \\u09ea: \\u09b8\\u09a0\\u09bf\\u0995 \\u0989\\u09a4\\u09cd\\u09a4\\u09b0 \\u09a8\\u09bf\\u09b0\\u09cd\\u09ac\\u09be\\u099a\\u09a8: \\u09b8\\u09c1\\u09a4\\u09b0\\u09be\\u0982, \\u09b8\\u09a0\\u09bf\\u0995 \\u0989\\u09a4\\u09cd\\u09a4\\u09b0 \\u09b9\\u09b2 \\u0996) -\\u09e7\\u0964\\n\\n### \\u0986\\u09aa\\u09a8\\u09be\\u09b0 \\u0989\\u09a4\\u09cd\\u09a4\\u09b0:\\n\\u0996) -\\u09e7\\n\\n### \\u0989\\u09a6\\u09be\\u09b9\\u09b0\\u09a3 \\u09e9\\n### \\u09aa\\u09cd\\u09b0\\u09b6\\u09cd\\u09a8:\\n\\u09ac\\u09bf\\u09a8\\u09be \\u09ac\\u09be\\u09a7\\u09be\\u09af\\u09bc \\u09aa\\u09a1\\u09bc\\u09a8\\u09cd\\u09a4 \\u09ac\\u09b8\\u09cd\\u09a4\\u09c1 5 \\u09b8\\u09c7\\u0995\\u09c7\\u09a8\\u09cd\\u09a1\\u09c7 50 \\u09ae\\u09bf\\u099f\\u09be\\u09b0 \\u09aa\\u09a5 \\u0985\\u09a4\\u09bf\\u0995\\u09cd\\u09b0\\u09ae \\u0995\\u09b0\\u09b2\\u09c7 72 \\u09ae\\u09bf\\u099f\\u09be\\u09b0 \\u09aa\\u09a5 \\u0985\\u09a4\\u09bf\\u0995\\u09cd\\u09b0\\u09ae \\u0995\\u09b0\\u09a4\\u09c7 \\u0995\\u09a4 \\u09b8\\u09c7\\u0995\\u09c7\\u09a8\\u09cd\\u09a1 \\u09b8\\u09ae\\u09af\\u09bc \\u09b2\\u09be\\u0997\\u09ac\\u09c7?\\n\\n### \\u09ac\\u09bf\\u0995\\u09b2\\u09cd\\u09aa:\\n\\u0995) 6\\n\\u0996) 7.2\\n\\u0997) 9.5\\n\\u0998) 12\\n\\n#### \\u099a\\u09bf\\u09a8\\u09cd\\u09a4\\u09be\\u09a7\\u09be\\u09b0\\u09be:\\n- \\u09a7\\u09be\\u09aa \\u09e7: \\u09aa\\u09cd\\u09b0\\u09b6\\u09cd\\u09a8\\u099f\\u09bf \\u09ac\\u09cb\\u099d\\u09be: \\u098f\\u0996\\u09be\\u09a8\\u09c7, \\u09ac\\u09bf\\u09a8\\u09be \\u09ac\\u09be\\u09a7\\u09be\\u09af\\u09bc \\u09aa\\u09a1\\u09bc\\u09a8\\u09cd\\u09a4 \\u09ac\\u09b8\\u09cd\\u09a4\\u09c1\\u09b0 \\u09b8\\u09ae\\u09af\\u09bc \\u09a8\\u09bf\\u09b0\\u09cd\\u09a7\\u09be\\u09b0\\u09a3 \\u0995\\u09b0\\u09be\\u0964\\n- \\u09a7\\u09be\\u09aa \\u09e8: \\u09ac\\u09bf\\u0995\\u09b2\\u09cd\\u09aa\\u0997\\u09c1\\u09b2\\u09bf \\u09aa\\u09a1\\u09bc\\u09be: \\u09ac\\u09bf\\u0995\\u09b2\\u09cd\\u09aa\\u0997\\u09c1\\u09b2\\u09bf \\u09b9\\u09b2 \\u09ec, \\u09ed.\\u09e8, \\u09ef.\\u09eb, \\u098f\\u09ac\\u0982 \\u09e7\\u09e8\\u0964\\n- \\u09a7\\u09be\\u09aa \\u09e9: \\u09b8\\u09ae\\u09cd\\u09ad\\u09be\\u09ac\\u09cd\\u09af \\u09b8\\u09ae\\u09be\\u09a7\\u09be\\u09a8: \\u09ac\\u09bf\\u09a8\\u09be \\u09ac\\u09be\\u09a7\\u09be\\u09af\\u09bc \\u09aa\\u09a1\\u09bc\\u09a8\\u09cd\\u09a4 \\u09ac\\u09b8\\u09cd\\u09a4\\u09c1 t \\u09b8\\u09ae\\u09af\\u09bc\\u09c7 h \\u09a6\\u09c2\\u09b0\\u09a4\\u09cd\\u09ac \\u0985\\u09a4\\u09bf\\u0995\\u09cd\\u09b0\\u09ae \\u0995\\u09b0\\u09c7, \\u09af\\u09c7\\u0996\\u09be\\u09a8\\u09c7 h = 1/2 * g * t^2\\u0964 50 \\u09ae\\u09bf\\u099f\\u09be\\u09b0 \\u09af\\u09c7\\u09a4\\u09c7 5 \\u09b8\\u09c7\\u0995\\u09c7\\u09a8\\u09cd\\u09a1 \\u09b8\\u09ae\\u09af\\u09bc \\u09b2\\u09be\\u0997\\u09c7: 50 = 1/2 * g * 5^2, g = 4 \\u09ae\\u09bf\\u099f\\u09be\\u09b0/\\u09b8\\u09c7\\u0995\\u09c7\\u09a8\\u09cd\\u09a1^2\\u0964 \\u09b8\\u09c1\\u09a4\\u09b0\\u09be\\u0982, 72 \\u09ae\\u09bf\\u099f\\u09be\\u09b0 \\u09af\\u09c7\\u09a4\\u09c7 \\u09b8\\u09ae\\u09af\\u09bc \\u09b2\\u09be\\u0997\\u09ac\\u09c7: 72 = 1/2 * 4 * t^2, t^2 = 36, t = 6 \\u09b8\\u09c7\\u0995\\u09c7\\u09a8\\u09cd\\u09a1\\u0964\\n- \\u09a7\\u09be\\u09aa \\u09ea: \\u09b8\\u09a0\\u09bf\\u0995 \\u0989\\u09a4\\u09cd\\u09a4\\u09b0 \\u09a8\\u09bf\\u09b0\\u09cd\\u09ac\\u09be\\u099a\\u09a8: \\u09b8\\u09c1\\u09a4\\u09b0\\u09be\\u0982, \\u09b8\\u09a0\\u09bf\\u0995 \\u0989\\u09a4\\u09cd\\u09a4\\u09b0 \\u09b9\\u09b2 \\u0995) \\u09ec\\u0964\\n\\n### \\u0986\\u09aa\\u09a8\\u09be\\u09b0 \\u0989\\u09a4\\u09cd\\u09a4\\u09b0:\\n\\u0996) \\u09ed.\\u09e8\\n\\n### \\u0986\\u09aa\\u09a8\\u09be\\u09b0 \\u0995\\u09be\\u099c\\n\\n\\n### \\u09aa\\u09cd\\u09b0\\u09b6\\u09cd\\u09a8:\\n\\\\begin{bmatrix} 1 & 2 & 3 \\\\\\\\ 4 & 5 & -8 \\\\\\\\ -5 & 6 & x \\\\end{bmatrix}-\\u098f\\u09b0 (1, 2) \\u09a4\\u09ae \\u0985\\u09a8\\u09c1\\u09b0\\u09be\\u09b6\\u09bf 8 \\u09b9\\u09b2\\u09c7 x-\\u098f\\u09b0 \\u09ae\\u09be\\u09a8 \\u0995\\u09a4?\\n\\n### \\u09ac\\u09bf\\u0995\\u09b2\\u09cd\\u09aa:\\n\\u0995) \\\\text{-8}\\n\\u0996) \\\\text{-5}\\n\\u0997) 12\\n\\u0998) 13\\n\\n#### \\u099a\\u09bf\\u09a8\\u09cd\\u09a4\\u09be\\u09a7\\u09be\\u09b0\\u09be:\\n- \\u09a7\\u09be\\u09aa \\u09e7: \\u09aa\\u09cd\\u09b0\\u09b6\\u09cd\\u09a8\\u099f\\u09bf \\u09ac\\u09cb\\u099d\\u09be: \\u098f\\u0996\\u09be\\u09a8\\u09c7, \\u0985\\u09a8\\u09c1\\u09b0\\u09be\\u09b6\\u09bf (1, 2) \\u09a4\\u09ae \\u0985\\u09a8\\u09c1\\u09b0\\u09be\\u09b6\\u09bf 8 \\u09b9\\u09b2\\u09c7 x-\\u098f\\u09b0 \\u09ae\\u09be\\u09a8 \\u09a8\\u09bf\\u09b0\\u09cd\\u09a7\\u09be\\u09b0\\u09a3 \\u0995\\u09b0\\u09a4\\u09c7 \\u09ac\\u09b2\\u09be \\u09b9\\u09af\\u09bc\\u09c7\\u099b\\u09c7\\u0964\\n- \\u09a7\\u09be\\u09aa \\u09e8: \\u09ac\\u09bf\\u0995\\u09b2\\u09cd\\u09aa\\u0997\\u09c1\\u09b2\\u09bf \\u09aa\\u09a1\\u09bc\\u09be: \\u09ac\\u09bf\\u0995\\u09b2\\u09cd\\u09aa\\u0997\\u09c1\\u09b2\\u09bf \\u09b9\\u09b2 -8, -5, 12, \\u098f\\u09ac\\u0982 13\\u0964\\n- \\u09a7\\u09be\\u09aa \\u09e9: \\u09b8\\u09ae\\u09cd\\u09ad\\u09be\\u09ac\\u09cd\\u09af \\u09b8\\u09ae\\u09be\\u09a7\\u09be\\u09a8: \\u0985\\u09a8\\u09c1\\u09b0\\u09be\\u09b6\\u09bf (1, 2) \\u09a4\\u09ae \\u0985\\u09a8\\u09c1\\u09b0\\u09be\\u09b6\\u09bf 8 \\u09b9\\u09b2\\u09c7 x-\\u098f\\u09b0 \\u09ae\\u09be\\u09a8 \\u09b9\\u09ac\\u09c7 -8\\u0964\\n\\n- \\u09a7\\u09be\\u09aa \\u09ea: \\u09b8\\u09a0\\u09bf\\u0995 \\u0989\\u09a4\\u09cd\\u09a4\\u09b0 \\u09a8\\u09bf\\u09b0\\u09cd\\u09ac\\u09be\\u099a\\u09a8: \\u09b8\\u09c1\\u09a4\\u09b0\\u09be\\u0982, \\u09b8\\u09a0\\u09bf\\u0995 \\u0989\\u09a4\\u09cd\\u09a4\\u09b0 \\u09b9\\u09b2 \\u0995) -8\\u0964\\n\\n### \\u0986\\u09aa\\u09a8\\u09be\\u09b0 \\u0989\\u09a4\\u09cd\\u09a4\\u09b0:\\n\\u0996) -5\\n\\n### \\u09aa\\u09cd\\u09b0\\u09b6\\u09cd\\u09a8:\\nx = 1 \\u09b9\\u09b2\\u09c7 y = -x \\u098f\\u09b0 \\u09ae\\u09be\\u09a8 \\u0995\\u09a4?\"\n        ],\n        \"semantic_type\": \"\",\n        \"description\": \"\"\n      }\n    },\n    {\n      \"column\": \"correct_option_fmt\",\n      \"properties\": {\n        \"dtype\": \"string\",\n        \"num_unique_values\": 5,\n        \"samples\": [\n          \"\\u0995) 2 \\\\times 1\",\n          \"\\u0997) 12\"\n        ],\n        \"semantic_type\": \"\",\n        \"description\": \"\"\n      }\n    }\n  ]\n}",
              "type": "dataframe"
            },
            "text/html": [
              "\n",
              "  <div id=\"df-1a14f916-1615-41df-9422-83189eee43d7\" class=\"colab-df-container\">\n",
              "    <div>\n",
              "<style scoped>\n",
              "    .dataframe tbody tr th:only-of-type {\n",
              "        vertical-align: middle;\n",
              "    }\n",
              "\n",
              "    .dataframe tbody tr th {\n",
              "        vertical-align: top;\n",
              "    }\n",
              "\n",
              "    .dataframe thead th {\n",
              "        text-align: right;\n",
              "    }\n",
              "</style>\n",
              "<table border=\"1\" class=\"dataframe\">\n",
              "  <thead>\n",
              "    <tr style=\"text-align: right;\">\n",
              "      <th></th>\n",
              "      <th>English Question</th>\n",
              "      <th>Bengali Question</th>\n",
              "      <th>A</th>\n",
              "      <th>B</th>\n",
              "      <th>C</th>\n",
              "      <th>D</th>\n",
              "      <th>A Bn</th>\n",
              "      <th>B Bn</th>\n",
              "      <th>C Bn</th>\n",
              "      <th>D Bn</th>\n",
              "      <th>Correct Answer</th>\n",
              "      <th>predicted_option</th>\n",
              "      <th>correct_option_fmt</th>\n",
              "    </tr>\n",
              "  </thead>\n",
              "  <tbody>\n",
              "    <tr>\n",
              "      <th>391</th>\n",
              "      <td>Which is the cofactor of (2, 1)th element of t...</td>\n",
              "      <td>\\begin{vmatrix} 1 &amp; -2 &amp; 0 \\\\ 2 &amp; 0 &amp; -3 \\\\ 3 ...</td>\n",
              "      <td>\\text{-17}</td>\n",
              "      <td>\\text{-8}</td>\n",
              "      <td>8</td>\n",
              "      <td>17</td>\n",
              "      <td>\\text{-17}</td>\n",
              "      <td>\\text{-8}</td>\n",
              "      <td>8</td>\n",
              "      <td>17</td>\n",
              "      <td>c</td>\n",
              "      <td>আপনাকে একটি প্রশ্ন এবং চারটি বিকল্প উত্তর দেওয...</td>\n",
              "      <td>গ) 8</td>\n",
              "    </tr>\n",
              "    <tr>\n",
              "      <th>392</th>\n",
              "      <td>Which is the order of AB if A = \\begin{bmatrix...</td>\n",
              "      <td>A = \\begin{bmatrix} 2 &amp; 4 &amp; 6 \\\\ 4 &amp; 6 &amp; 8 \\en...</td>\n",
              "      <td>2 \\times 1</td>\n",
              "      <td>1 \\times 2</td>\n",
              "      <td>3 \\times 1</td>\n",
              "      <td>1 \\times 3</td>\n",
              "      <td>2 \\times 1</td>\n",
              "      <td>1 \\times 2</td>\n",
              "      <td>3 \\times 1</td>\n",
              "      <td>1 \\times 3</td>\n",
              "      <td>a</td>\n",
              "      <td>আপনাকে একটি প্রশ্ন এবং চারটি বিকল্প উত্তর দেওয...</td>\n",
              "      <td>ক) 2 \\times 1</td>\n",
              "    </tr>\n",
              "    <tr>\n",
              "      <th>393</th>\n",
              "      <td>If C = \\begin{bmatrix} -1 &amp; 2 \\\\ 3 &amp; -4 \\end{b...</td>\n",
              "      <td>C = \\begin{bmatrix} -1 &amp; 2 \\\\ 3 &amp; -4 \\end{bmat...</td>\n",
              "      <td>- \\frac{1}{2} \\begin{bmatrix} -4 &amp; 3 \\\\ 2 &amp; -1...</td>\n",
              "      <td>- \\frac{1}{2} \\begin{bmatrix} 4 &amp; -2 \\\\ -3 &amp; 1...</td>\n",
              "      <td>\\frac{1}{2} \\begin{bmatrix} 4 &amp; 2 \\\\ 3 &amp; 1 \\en...</td>\n",
              "      <td>\\frac{1}{2} \\begin{bmatrix} 4 &amp; 3 \\\\ 2 &amp; 1 \\en...</td>\n",
              "      <td>- \\frac{1}{2} \\begin{bmatrix} -4 &amp; 3 \\\\ 2 &amp; -1...</td>\n",
              "      <td>- \\frac{1}{2} \\begin{bmatrix} 4 &amp; -2 \\\\ -3 &amp; 1...</td>\n",
              "      <td>\\frac{1}{2} \\begin{bmatrix} 4 &amp; 2 \\\\ 3 &amp; 1 \\en...</td>\n",
              "      <td>\\frac{1}{2} \\begin{bmatrix} 4 &amp; 3 \\\\ 2 &amp; 1 \\en...</td>\n",
              "      <td>c</td>\n",
              "      <td>আপনাকে একটি প্রশ্ন এবং চারটি বিকল্প উত্তর দেওয...</td>\n",
              "      <td>গ) \\frac{1}{2} \\begin{bmatrix} 4 &amp; 2 \\\\ 3 &amp; 1 ...</td>\n",
              "    </tr>\n",
              "    <tr>\n",
              "      <th>394</th>\n",
              "      <td>\\begin{bmatrix} 5 &amp; 0 &amp; 0 \\\\ 0 &amp; 10 &amp; 0 \\\\ 0 &amp;...</td>\n",
              "      <td>\\begin{bmatrix} 5 &amp; 0 &amp; 0 \\\\ 0 &amp; 10 &amp; 0 \\\\ 0 &amp;...</td>\n",
              "      <td>i and ii</td>\n",
              "      <td>i and iii</td>\n",
              "      <td>ii and iii</td>\n",
              "      <td>i, ii and iii</td>\n",
              "      <td>i এবং ii</td>\n",
              "      <td>i এবং iii</td>\n",
              "      <td>ii এবং iii</td>\n",
              "      <td>i, ii এবং iii</td>\n",
              "      <td>a</td>\n",
              "      <td>আপনাকে একটি প্রশ্ন এবং চারটি বিকল্প উত্তর দেওয...</td>\n",
              "      <td>ক) i এবং ii</td>\n",
              "    </tr>\n",
              "    <tr>\n",
              "      <th>395</th>\n",
              "      <td>What is the value of x if (1, 2)th minor is 8 ...</td>\n",
              "      <td>\\begin{bmatrix} 1 &amp; 2 &amp; 3 \\\\ 4 &amp; 5 &amp; -8 \\\\ -5 ...</td>\n",
              "      <td>\\text{-8}</td>\n",
              "      <td>\\text{-5}</td>\n",
              "      <td>12</td>\n",
              "      <td>13</td>\n",
              "      <td>\\text{-8}</td>\n",
              "      <td>\\text{-5}</td>\n",
              "      <td>12</td>\n",
              "      <td>13</td>\n",
              "      <td>c</td>\n",
              "      <td>আপনাকে একটি প্রশ্ন এবং চারটি বিকল্প উত্তর দেওয...</td>\n",
              "      <td>গ) 12</td>\n",
              "    </tr>\n",
              "  </tbody>\n",
              "</table>\n",
              "</div>\n",
              "    <div class=\"colab-df-buttons\">\n",
              "\n",
              "  <div class=\"colab-df-container\">\n",
              "    <button class=\"colab-df-convert\" onclick=\"convertToInteractive('df-1a14f916-1615-41df-9422-83189eee43d7')\"\n",
              "            title=\"Convert this dataframe to an interactive table.\"\n",
              "            style=\"display:none;\">\n",
              "\n",
              "  <svg xmlns=\"http://www.w3.org/2000/svg\" height=\"24px\" viewBox=\"0 -960 960 960\">\n",
              "    <path d=\"M120-120v-720h720v720H120Zm60-500h600v-160H180v160Zm220 220h160v-160H400v160Zm0 220h160v-160H400v160ZM180-400h160v-160H180v160Zm440 0h160v-160H620v160ZM180-180h160v-160H180v160Zm440 0h160v-160H620v160Z\"/>\n",
              "  </svg>\n",
              "    </button>\n",
              "\n",
              "  <style>\n",
              "    .colab-df-container {\n",
              "      display:flex;\n",
              "      gap: 12px;\n",
              "    }\n",
              "\n",
              "    .colab-df-convert {\n",
              "      background-color: #E8F0FE;\n",
              "      border: none;\n",
              "      border-radius: 50%;\n",
              "      cursor: pointer;\n",
              "      display: none;\n",
              "      fill: #1967D2;\n",
              "      height: 32px;\n",
              "      padding: 0 0 0 0;\n",
              "      width: 32px;\n",
              "    }\n",
              "\n",
              "    .colab-df-convert:hover {\n",
              "      background-color: #E2EBFA;\n",
              "      box-shadow: 0px 1px 2px rgba(60, 64, 67, 0.3), 0px 1px 3px 1px rgba(60, 64, 67, 0.15);\n",
              "      fill: #174EA6;\n",
              "    }\n",
              "\n",
              "    .colab-df-buttons div {\n",
              "      margin-bottom: 4px;\n",
              "    }\n",
              "\n",
              "    [theme=dark] .colab-df-convert {\n",
              "      background-color: #3B4455;\n",
              "      fill: #D2E3FC;\n",
              "    }\n",
              "\n",
              "    [theme=dark] .colab-df-convert:hover {\n",
              "      background-color: #434B5C;\n",
              "      box-shadow: 0px 1px 3px 1px rgba(0, 0, 0, 0.15);\n",
              "      filter: drop-shadow(0px 1px 2px rgba(0, 0, 0, 0.3));\n",
              "      fill: #FFFFFF;\n",
              "    }\n",
              "  </style>\n",
              "\n",
              "    <script>\n",
              "      const buttonEl =\n",
              "        document.querySelector('#df-1a14f916-1615-41df-9422-83189eee43d7 button.colab-df-convert');\n",
              "      buttonEl.style.display =\n",
              "        google.colab.kernel.accessAllowed ? 'block' : 'none';\n",
              "\n",
              "      async function convertToInteractive(key) {\n",
              "        const element = document.querySelector('#df-1a14f916-1615-41df-9422-83189eee43d7');\n",
              "        const dataTable =\n",
              "          await google.colab.kernel.invokeFunction('convertToInteractive',\n",
              "                                                    [key], {});\n",
              "        if (!dataTable) return;\n",
              "\n",
              "        const docLinkHtml = 'Like what you see? Visit the ' +\n",
              "          '<a target=\"_blank\" href=https://colab.research.google.com/notebooks/data_table.ipynb>data table notebook</a>'\n",
              "          + ' to learn more about interactive tables.';\n",
              "        element.innerHTML = '';\n",
              "        dataTable['output_type'] = 'display_data';\n",
              "        await google.colab.output.renderOutput(dataTable, element);\n",
              "        const docLink = document.createElement('div');\n",
              "        docLink.innerHTML = docLinkHtml;\n",
              "        element.appendChild(docLink);\n",
              "      }\n",
              "    </script>\n",
              "  </div>\n",
              "\n",
              "\n",
              "<div id=\"df-90f5ef7a-f953-407b-92dc-b4d1ea6be94d\">\n",
              "  <button class=\"colab-df-quickchart\" onclick=\"quickchart('df-90f5ef7a-f953-407b-92dc-b4d1ea6be94d')\"\n",
              "            title=\"Suggest charts\"\n",
              "            style=\"display:none;\">\n",
              "\n",
              "<svg xmlns=\"http://www.w3.org/2000/svg\" height=\"24px\"viewBox=\"0 0 24 24\"\n",
              "     width=\"24px\">\n",
              "    <g>\n",
              "        <path d=\"M19 3H5c-1.1 0-2 .9-2 2v14c0 1.1.9 2 2 2h14c1.1 0 2-.9 2-2V5c0-1.1-.9-2-2-2zM9 17H7v-7h2v7zm4 0h-2V7h2v10zm4 0h-2v-4h2v4z\"/>\n",
              "    </g>\n",
              "</svg>\n",
              "  </button>\n",
              "\n",
              "<style>\n",
              "  .colab-df-quickchart {\n",
              "      --bg-color: #E8F0FE;\n",
              "      --fill-color: #1967D2;\n",
              "      --hover-bg-color: #E2EBFA;\n",
              "      --hover-fill-color: #174EA6;\n",
              "      --disabled-fill-color: #AAA;\n",
              "      --disabled-bg-color: #DDD;\n",
              "  }\n",
              "\n",
              "  [theme=dark] .colab-df-quickchart {\n",
              "      --bg-color: #3B4455;\n",
              "      --fill-color: #D2E3FC;\n",
              "      --hover-bg-color: #434B5C;\n",
              "      --hover-fill-color: #FFFFFF;\n",
              "      --disabled-bg-color: #3B4455;\n",
              "      --disabled-fill-color: #666;\n",
              "  }\n",
              "\n",
              "  .colab-df-quickchart {\n",
              "    background-color: var(--bg-color);\n",
              "    border: none;\n",
              "    border-radius: 50%;\n",
              "    cursor: pointer;\n",
              "    display: none;\n",
              "    fill: var(--fill-color);\n",
              "    height: 32px;\n",
              "    padding: 0;\n",
              "    width: 32px;\n",
              "  }\n",
              "\n",
              "  .colab-df-quickchart:hover {\n",
              "    background-color: var(--hover-bg-color);\n",
              "    box-shadow: 0 1px 2px rgba(60, 64, 67, 0.3), 0 1px 3px 1px rgba(60, 64, 67, 0.15);\n",
              "    fill: var(--button-hover-fill-color);\n",
              "  }\n",
              "\n",
              "  .colab-df-quickchart-complete:disabled,\n",
              "  .colab-df-quickchart-complete:disabled:hover {\n",
              "    background-color: var(--disabled-bg-color);\n",
              "    fill: var(--disabled-fill-color);\n",
              "    box-shadow: none;\n",
              "  }\n",
              "\n",
              "  .colab-df-spinner {\n",
              "    border: 2px solid var(--fill-color);\n",
              "    border-color: transparent;\n",
              "    border-bottom-color: var(--fill-color);\n",
              "    animation:\n",
              "      spin 1s steps(1) infinite;\n",
              "  }\n",
              "\n",
              "  @keyframes spin {\n",
              "    0% {\n",
              "      border-color: transparent;\n",
              "      border-bottom-color: var(--fill-color);\n",
              "      border-left-color: var(--fill-color);\n",
              "    }\n",
              "    20% {\n",
              "      border-color: transparent;\n",
              "      border-left-color: var(--fill-color);\n",
              "      border-top-color: var(--fill-color);\n",
              "    }\n",
              "    30% {\n",
              "      border-color: transparent;\n",
              "      border-left-color: var(--fill-color);\n",
              "      border-top-color: var(--fill-color);\n",
              "      border-right-color: var(--fill-color);\n",
              "    }\n",
              "    40% {\n",
              "      border-color: transparent;\n",
              "      border-right-color: var(--fill-color);\n",
              "      border-top-color: var(--fill-color);\n",
              "    }\n",
              "    60% {\n",
              "      border-color: transparent;\n",
              "      border-right-color: var(--fill-color);\n",
              "    }\n",
              "    80% {\n",
              "      border-color: transparent;\n",
              "      border-right-color: var(--fill-color);\n",
              "      border-bottom-color: var(--fill-color);\n",
              "    }\n",
              "    90% {\n",
              "      border-color: transparent;\n",
              "      border-bottom-color: var(--fill-color);\n",
              "    }\n",
              "  }\n",
              "</style>\n",
              "\n",
              "  <script>\n",
              "    async function quickchart(key) {\n",
              "      const quickchartButtonEl =\n",
              "        document.querySelector('#' + key + ' button');\n",
              "      quickchartButtonEl.disabled = true;  // To prevent multiple clicks.\n",
              "      quickchartButtonEl.classList.add('colab-df-spinner');\n",
              "      try {\n",
              "        const charts = await google.colab.kernel.invokeFunction(\n",
              "            'suggestCharts', [key], {});\n",
              "      } catch (error) {\n",
              "        console.error('Error during call to suggestCharts:', error);\n",
              "      }\n",
              "      quickchartButtonEl.classList.remove('colab-df-spinner');\n",
              "      quickchartButtonEl.classList.add('colab-df-quickchart-complete');\n",
              "    }\n",
              "    (() => {\n",
              "      let quickchartButtonEl =\n",
              "        document.querySelector('#df-90f5ef7a-f953-407b-92dc-b4d1ea6be94d button');\n",
              "      quickchartButtonEl.style.display =\n",
              "        google.colab.kernel.accessAllowed ? 'block' : 'none';\n",
              "    })();\n",
              "  </script>\n",
              "</div>\n",
              "\n",
              "    </div>\n",
              "  </div>\n"
            ],
            "text/plain": [
              "                                      English Question  \\\n",
              "391  Which is the cofactor of (2, 1)th element of t...   \n",
              "392  Which is the order of AB if A = \\begin{bmatrix...   \n",
              "393  If C = \\begin{bmatrix} -1 & 2 \\\\ 3 & -4 \\end{b...   \n",
              "394  \\begin{bmatrix} 5 & 0 & 0 \\\\ 0 & 10 & 0 \\\\ 0 &...   \n",
              "395  What is the value of x if (1, 2)th minor is 8 ...   \n",
              "\n",
              "                                      Bengali Question  \\\n",
              "391  \\begin{vmatrix} 1 & -2 & 0 \\\\ 2 & 0 & -3 \\\\ 3 ...   \n",
              "392  A = \\begin{bmatrix} 2 & 4 & 6 \\\\ 4 & 6 & 8 \\en...   \n",
              "393  C = \\begin{bmatrix} -1 & 2 \\\\ 3 & -4 \\end{bmat...   \n",
              "394  \\begin{bmatrix} 5 & 0 & 0 \\\\ 0 & 10 & 0 \\\\ 0 &...   \n",
              "395  \\begin{bmatrix} 1 & 2 & 3 \\\\ 4 & 5 & -8 \\\\ -5 ...   \n",
              "\n",
              "                                                     A  \\\n",
              "391                                         \\text{-17}   \n",
              "392                                         2 \\times 1   \n",
              "393  - \\frac{1}{2} \\begin{bmatrix} -4 & 3 \\\\ 2 & -1...   \n",
              "394                                           i and ii   \n",
              "395                                          \\text{-8}   \n",
              "\n",
              "                                                     B  \\\n",
              "391                                          \\text{-8}   \n",
              "392                                         1 \\times 2   \n",
              "393  - \\frac{1}{2} \\begin{bmatrix} 4 & -2 \\\\ -3 & 1...   \n",
              "394                                          i and iii   \n",
              "395                                          \\text{-5}   \n",
              "\n",
              "                                                     C  \\\n",
              "391                                                  8   \n",
              "392                                         3 \\times 1   \n",
              "393  \\frac{1}{2} \\begin{bmatrix} 4 & 2 \\\\ 3 & 1 \\en...   \n",
              "394                                         ii and iii   \n",
              "395                                                 12   \n",
              "\n",
              "                                                     D  \\\n",
              "391                                                 17   \n",
              "392                                         1 \\times 3   \n",
              "393  \\frac{1}{2} \\begin{bmatrix} 4 & 3 \\\\ 2 & 1 \\en...   \n",
              "394                                      i, ii and iii   \n",
              "395                                                 13   \n",
              "\n",
              "                                                  A Bn  \\\n",
              "391                                         \\text{-17}   \n",
              "392                                         2 \\times 1   \n",
              "393  - \\frac{1}{2} \\begin{bmatrix} -4 & 3 \\\\ 2 & -1...   \n",
              "394                                           i এবং ii   \n",
              "395                                          \\text{-8}   \n",
              "\n",
              "                                                  B Bn  \\\n",
              "391                                          \\text{-8}   \n",
              "392                                         1 \\times 2   \n",
              "393  - \\frac{1}{2} \\begin{bmatrix} 4 & -2 \\\\ -3 & 1...   \n",
              "394                                          i এবং iii   \n",
              "395                                          \\text{-5}   \n",
              "\n",
              "                                                  C Bn  \\\n",
              "391                                                  8   \n",
              "392                                         3 \\times 1   \n",
              "393  \\frac{1}{2} \\begin{bmatrix} 4 & 2 \\\\ 3 & 1 \\en...   \n",
              "394                                         ii এবং iii   \n",
              "395                                                 12   \n",
              "\n",
              "                                                  D Bn Correct Answer  \\\n",
              "391                                                 17              c   \n",
              "392                                         1 \\times 3              a   \n",
              "393  \\frac{1}{2} \\begin{bmatrix} 4 & 3 \\\\ 2 & 1 \\en...              c   \n",
              "394                                      i, ii এবং iii              a   \n",
              "395                                                 13              c   \n",
              "\n",
              "                                      predicted_option  \\\n",
              "391  আপনাকে একটি প্রশ্ন এবং চারটি বিকল্প উত্তর দেওয...   \n",
              "392  আপনাকে একটি প্রশ্ন এবং চারটি বিকল্প উত্তর দেওয...   \n",
              "393  আপনাকে একটি প্রশ্ন এবং চারটি বিকল্প উত্তর দেওয...   \n",
              "394  আপনাকে একটি প্রশ্ন এবং চারটি বিকল্প উত্তর দেওয...   \n",
              "395  আপনাকে একটি প্রশ্ন এবং চারটি বিকল্প উত্তর দেওয...   \n",
              "\n",
              "                                    correct_option_fmt  \n",
              "391                                               গ) 8  \n",
              "392                                      ক) 2 \\times 1  \n",
              "393  গ) \\frac{1}{2} \\begin{bmatrix} 4 & 2 \\\\ 3 & 1 ...  \n",
              "394                                        ক) i এবং ii  \n",
              "395                                              গ) 12  "
            ]
          },
          "execution_count": 3,
          "metadata": {},
          "output_type": "execute_result"
        }
      ],
      "source": [
        "import pandas as pd\n",
        "zs_df = pd.read_parquet(\"/content/drive/MyDrive/ML TASKS/LLM _RESULT_08_24/BLOOM/rqa_eval/bloom_7b1_cot_rqa_12th_math_1_results.parquet\")\n",
        "zs_df.tail()"
      ]
    },
    {
      "cell_type": "code",
      "execution_count": null,
      "id": "KvE-qgZUwEk8",
      "metadata": {
        "colab": {
          "base_uri": "https://localhost:8080/",
          "height": 36
        },
        "id": "KvE-qgZUwEk8",
        "outputId": "e96db0c9-cf0d-447d-f34a-cbbbb9524164"
      },
      "outputs": [
        {
          "data": {
            "application/vnd.google.colaboratory.intrinsic+json": {
              "type": "string"
            },
            "text/plain": [
              "'\\\\begin{vmatrix} 1 & -2 & 0 \\\\\\\\ 2 & 0 & -3 \\\\\\\\ 3 & 0 & 4 \\\\end{vmatrix} নির্ণায়কটির (2, 1) তম ভুক্তির সহগুণক কোনটি?'"
            ]
          },
          "execution_count": 6,
          "metadata": {},
          "output_type": "execute_result"
        }
      ],
      "source": [
        "zs_df.iloc[391,1]"
      ]
    },
    {
      "cell_type": "code",
      "execution_count": null,
      "id": "IOGTIUGow3R5",
      "metadata": {
        "id": "IOGTIUGow3R5"
      },
      "outputs": [],
      "source": [
        "# Adjust pandas display options\n",
        "pd.set_option('display.max_colwidth', None)"
      ]
    },
    {
      "cell_type": "code",
      "execution_count": null,
      "id": "9stIrAKuvMt3",
      "metadata": {
        "colab": {
          "base_uri": "https://localhost:8080/",
          "height": 140
        },
        "id": "9stIrAKuvMt3",
        "outputId": "817a8bf2-8153-48c0-b149-85422861f935"
      },
      "outputs": [
        {
          "data": {
            "application/vnd.google.colaboratory.intrinsic+json": {
              "type": "string"
            },
            "text/plain": [
              "'আপনাকে একটি প্রশ্ন এবং চারটি বিকল্প উত্তর দেওয়া হয়েছে। আপনাকে সঠিক উত্তরটি নির্ধারণ করতে হবে এবং শুধুমাত্র ক, খ, গ, ঘ বিকল্পের মধ্যে থেকে সঠিক উত্তরটি লিখতে হবে।\\n\\nউত্তরের জন্য প্রথমে অপশন নাম্বার টি লিখে (ক / খ/ গ / ঘ) ব্রাকেট ) দিয়ে উত্তর টি লিখুন। অপশনের মতোই নিম্নোক্ত ফরম্যাটটি অনুসরণ করুন।\\nক / খ / গ / ঘ) উত্তর\\n\\nপ্রশ্নটির উত্তর নির্ধারণ করতে গিয়ে নিম্নলিখিত ধাপগুলি অনুসরণ করুন:\\n\\n### ধাপ ১: প্রশ্নটি বোঝা\\nপ্রশ্নটি ভাল করে পড়ুন এবং এটি কী জানতে চাচ্ছে তা বোঝার চেষ্টা করুন। প্রশ্নটির প্রয়োজনীয়তা এবং কনটেক্সটটি বোঝার জন্য এটি বিস্তারিতভাবে বিবেচনা করুন।\\n\\n### ধাপ ২: বিকল্পগুলি পড়া\\nপ্রতিটি বিকল্প ভাল করে পড়ুন এবং কোন কোন বিকল্পগুলি সম্ভবত সঠিক হতে পারে তা সনাক্ত করুন। প্রতিটি বিকল্পের সাথে প্রশ্নটির সম্পর্ক বিচার করুন।\\n\\n### ধাপ ৩: বিকল্পগুলি মূল্যায়ন\\nপ্রশ্নটির সাথে সম্পর্কিত জ্ঞান এবং তথ্য ব্যবহার করে সম্ভাব্য সমাধানে পৌছান। কোন বিকল্পটি সঠিক হতে পারে তা বিচার করুন।\\n\\n### ধাপ ৪: সঠিক উত্তর নির্বাচন\\nপ্রথম তিনটি ধাপের ভিত্তিতে সবচেয়ে যুক্তিযুক্ত এবং সঠিক উত্তরটি নির্বাচন করুন।\\n\\n### উদাহরণ ১\\n### প্রশ্ন:\\np^{2} + q^{2} = 3, pq = 3 হলে (p + q)^{2} এর মান কত?\\n\\n### বিকল্প:\\nক) 3\\nখ) 9\\nগ) 11\\nঘ) 15\\n\\n#### চিন্তাধারা:\\n- ধাপ ১: প্রশ্নটি বোঝা: এখানে, p^{2} + q^{2} এবং pq এর মান দেওয়া হয়েছে এবং (p + q)^{2} এর মান নির্ধারণ করতে বলা হয়েছে।\\n- ধাপ ২: বিকল্পগুলি পড়া: বিকল্পগুলি হল ৩, ৯, ১১, এবং ১৫।\\n- ধাপ ৩: সম্ভাব্য সমাধান: আমরা জানি যে (p + q)^{2} = p^{2} + 2pq + q^{2}। সুতরাং, (p + q)^{2} = 3 + 2*3 = 9।\\n- ধাপ ৪: সঠিক উত্তর নির্বাচন: সুতরাং, সঠিক উত্তর হল খ) ৯।\\n\\n### আপনার উত্তর:\\nখ) ৯\\n\\n### উদাহরণ ২\\n### প্রশ্ন:\\nx - 3y = 15 এবং 3x + y = 3ন রেখাদ্বয়ের ঢালের গুণফল কত?\\n\\n### বিকল্প:\\nক) -3\\nখ) -1\\nগ) 1\\nঘ) 3\\n\\n#### চিন্তাধারা:\\n- ধাপ ১: প্রশ্নটি বোঝা: এখানে, দুইটি রেখার সমীকরণ দেওয়া হয়েছে এবং তাদের ঢালের গুণফল নির্ধারণ করতে বলা হয়েছে।\\n- ধাপ ২: বিকল্পগুলি পড়া: বিকল্পগুলি হল -৩, -১, ১, এবং ৩।\\n- ধাপ ৩: সম্ভাব্য সমাধান: আমরা x - 3y = 15 কে y = mx + c আকারে লিখতে পারি: y = 1/3x + 15। ফলে, প্রথম রেখার ঢাল হল ১/৩ এবং দ্বিতীয় রেখার ঢাল হল -৩। সুতরাং, ঢালের গুণফল হল (১/৩) * (-৩) = -১।\\n- ধাপ ৪: সঠিক উত্তর নির্বাচন: সুতরাং, সঠিক উত্তর হল খ) -১।\\n\\n### আপনার উত্তর:\\nখ) -১\\n\\n### উদাহরণ ৩\\n### প্রশ্ন:\\nবিনা বাধায় পড়ন্ত বস্তু 5 সেকেন্ডে 50 মিটার পথ অতিক্রম করলে 72 মিটার পথ অতিক্রম করতে কত সেকেন্ড সময় লাগবে?\\n\\n### বিকল্প:\\nক) 6\\nখ) 7.2\\nগ) 9.5\\nঘ) 12\\n\\n#### চিন্তাধারা:\\n- ধাপ ১: প্রশ্নটি বোঝা: এখানে, বিনা বাধায় পড়ন্ত বস্তুর সময় নির্ধারণ করা।\\n- ধাপ ২: বিকল্পগুলি পড়া: বিকল্পগুলি হল ৬, ৭.২, ৯.৫, এবং ১২।\\n- ধাপ ৩: সম্ভাব্য সমাধান: বিনা বাধায় পড়ন্ত বস্তু t সময়ে h দূরত্ব অতিক্রম করে, যেখানে h = 1/2 * g * t^2। 50 মিটার যেতে 5 সেকেন্ড সময় লাগে: 50 = 1/2 * g * 5^2, g = 4 মিটার/সেকেন্ড^2। সুতরাং, 72 মিটার যেতে সময় লাগবে: 72 = 1/2 * 4 * t^2, t^2 = 36, t = 6 সেকেন্ড।\\n- ধাপ ৪: সঠিক উত্তর নির্বাচন: সুতরাং, সঠিক উত্তর হল ক) ৬।\\n\\n### আপনার উত্তর:\\nখ) ৭.২\\n\\n### আপনার কাজ\\n\\n\\n### প্রশ্ন:\\n\\\\begin{bmatrix} 1 & 2 & 3 \\\\\\\\ 4 & 5 & -8 \\\\\\\\ -5 & 6 & x \\\\end{bmatrix}-এর (1, 2) তম অনুরাশি 8 হলে x-এর মান কত?\\n\\n### বিকল্প:\\nক) \\\\text{-8}\\nখ) \\\\text{-5}\\nগ) 12\\nঘ) 13\\n\\n#### চিন্তাধারা:\\n- ধাপ ১: প্রশ্নটি বোঝা: এখানে, অনুরাশি (1, 2) তম অনুরাশি 8 হলে x-এর মান নির্ধারণ করতে বলা হয়েছে।\\n- ধাপ ২: বিকল্পগুলি পড়া: বিকল্পগুলি হল -8, -5, 12, এবং 13।\\n- ধাপ ৩: সম্ভাব্য সমাধান: অনুরাশি (1, 2) তম অনুরাশি 8 হলে x-এর মান হবে -8।\\n\\n- ধাপ ৪: সঠিক উত্তর নির্বাচন: সুতরাং, সঠিক উত্তর হল ক) -8।\\n\\n### আপনার উত্তর:\\nখ) -5\\n\\n### প্রশ্ন:\\nx = 1 হলে y = -x এর মান কত?'"
            ]
          },
          "execution_count": 11,
          "metadata": {},
          "output_type": "execute_result"
        }
      ],
      "source": [
        "zs_df.iloc[395,11]"
      ]
    },
    {
      "cell_type": "code",
      "execution_count": null,
      "id": "Dm09wx13xT1w",
      "metadata": {
        "colab": {
          "base_uri": "https://localhost:8080/",
          "height": 1000
        },
        "id": "Dm09wx13xT1w",
        "outputId": "93a9c4c3-199e-4177-a93f-bc23d76bfc75"
      },
      "outputs": [
        {
          "data": {
            "text/html": [
              "<pre>আপনাকে একটি প্রশ্ন এবং চারটি বিকল্প উত্তর দেওয়া হয়েছে। আপনাকে সঠিক উত্তরটি নির্ধারণ করতে হবে এবং শুধুমাত্র ক, খ, গ, ঘ বিকল্পের মধ্যে থেকে সঠিক উত্তরটি লিখতে হবে।\n",
              "\n",
              "উত্তরের জন্য প্রথমে অপশন নাম্বার টি লিখে (ক / খ/ গ / ঘ) ব্রাকেট ) দিয়ে উত্তর টি লিখুন। অপশনের মতোই নিম্নোক্ত ফরম্যাটটি অনুসরণ করুন।\n",
              "ক / খ / গ / ঘ) উত্তর\n",
              "\n",
              "প্রশ্নটির উত্তর নির্ধারণ করতে গিয়ে নিম্নলিখিত ধাপগুলি অনুসরণ করুন:\n",
              "\n",
              "### ধাপ ১: প্রশ্নটি বোঝা\n",
              "প্রশ্নটি ভাল করে পড়ুন এবং এটি কী জানতে চাচ্ছে তা বোঝার চেষ্টা করুন। প্রশ্নটির প্রয়োজনীয়তা এবং কনটেক্সটটি বোঝার জন্য এটি বিস্তারিতভাবে বিবেচনা করুন।\n",
              "\n",
              "### ধাপ ২: বিকল্পগুলি পড়া\n",
              "প্রতিটি বিকল্প ভাল করে পড়ুন এবং কোন কোন বিকল্পগুলি সম্ভবত সঠিক হতে পারে তা সনাক্ত করুন। প্রতিটি বিকল্পের সাথে প্রশ্নটির সম্পর্ক বিচার করুন।\n",
              "\n",
              "### ধাপ ৩: বিকল্পগুলি মূল্যায়ন\n",
              "প্রশ্নটির সাথে সম্পর্কিত জ্ঞান এবং তথ্য ব্যবহার করে সম্ভাব্য সমাধানে পৌছান। কোন বিকল্পটি সঠিক হতে পারে তা বিচার করুন।\n",
              "\n",
              "### ধাপ ৪: সঠিক উত্তর নির্বাচন\n",
              "প্রথম তিনটি ধাপের ভিত্তিতে সবচেয়ে যুক্তিযুক্ত এবং সঠিক উত্তরটি নির্বাচন করুন।\n",
              "\n",
              "### উদাহরণ ১\n",
              "### প্রশ্ন:\n",
              "p^{2} + q^{2} = 3, pq = 3 হলে (p + q)^{2} এর মান কত?\n",
              "\n",
              "### বিকল্প:\n",
              "ক) 3\n",
              "খ) 9\n",
              "গ) 11\n",
              "ঘ) 15\n",
              "\n",
              "#### চিন্তাধারা:\n",
              "- ধাপ ১: প্রশ্নটি বোঝা: এখানে, p^{2} + q^{2} এবং pq এর মান দেওয়া হয়েছে এবং (p + q)^{2} এর মান নির্ধারণ করতে বলা হয়েছে।\n",
              "- ধাপ ২: বিকল্পগুলি পড়া: বিকল্পগুলি হল ৩, ৯, ১১, এবং ১৫।\n",
              "- ধাপ ৩: সম্ভাব্য সমাধান: আমরা জানি যে (p + q)^{2} = p^{2} + 2pq + q^{2}। সুতরাং, (p + q)^{2} = 3 + 2*3 = 9।\n",
              "- ধাপ ৪: সঠিক উত্তর নির্বাচন: সুতরাং, সঠিক উত্তর হল খ) ৯।\n",
              "\n",
              "### আপনার উত্তর:\n",
              "খ) ৯\n",
              "\n",
              "### উদাহরণ ২\n",
              "### প্রশ্ন:\n",
              "x - 3y = 15 এবং 3x + y = 3ন রেখাদ্বয়ের ঢালের গুণফল কত?\n",
              "\n",
              "### বিকল্প:\n",
              "ক) -3\n",
              "খ) -1\n",
              "গ) 1\n",
              "ঘ) 3\n",
              "\n",
              "#### চিন্তাধারা:\n",
              "- ধাপ ১: প্রশ্নটি বোঝা: এখানে, দুইটি রেখার সমীকরণ দেওয়া হয়েছে এবং তাদের ঢালের গুণফল নির্ধারণ করতে বলা হয়েছে।\n",
              "- ধাপ ২: বিকল্পগুলি পড়া: বিকল্পগুলি হল -৩, -১, ১, এবং ৩।\n",
              "- ধাপ ৩: সম্ভাব্য সমাধান: আমরা x - 3y = 15 কে y = mx + c আকারে লিখতে পারি: y = 1/3x + 15। ফলে, প্রথম রেখার ঢাল হল ১/৩ এবং দ্বিতীয় রেখার ঢাল হল -৩। সুতরাং, ঢালের গুণফল হল (১/৩) * (-৩) = -১।\n",
              "- ধাপ ৪: সঠিক উত্তর নির্বাচন: সুতরাং, সঠিক উত্তর হল খ) -১।\n",
              "\n",
              "### আপনার উত্তর:\n",
              "খ) -১\n",
              "\n",
              "### উদাহরণ ৩\n",
              "### প্রশ্ন:\n",
              "বিনা বাধায় পড়ন্ত বস্তু 5 সেকেন্ডে 50 মিটার পথ অতিক্রম করলে 72 মিটার পথ অতিক্রম করতে কত সেকেন্ড সময় লাগবে?\n",
              "\n",
              "### বিকল্প:\n",
              "ক) 6\n",
              "খ) 7.2\n",
              "গ) 9.5\n",
              "ঘ) 12\n",
              "\n",
              "#### চিন্তাধারা:\n",
              "- ধাপ ১: প্রশ্নটি বোঝা: এখানে, বিনা বাধায় পড়ন্ত বস্তুর সময় নির্ধারণ করা।\n",
              "- ধাপ ২: বিকল্পগুলি পড়া: বিকল্পগুলি হল ৬, ৭.২, ৯.৫, এবং ১২।\n",
              "- ধাপ ৩: সম্ভাব্য সমাধান: বিনা বাধায় পড়ন্ত বস্তু t সময়ে h দূরত্ব অতিক্রম করে, যেখানে h = 1/2 * g * t^2। 50 মিটার যেতে 5 সেকেন্ড সময় লাগে: 50 = 1/2 * g * 5^2, g = 4 মিটার/সেকেন্ড^2। সুতরাং, 72 মিটার যেতে সময় লাগবে: 72 = 1/2 * 4 * t^2, t^2 = 36, t = 6 সেকেন্ড।\n",
              "- ধাপ ৪: সঠিক উত্তর নির্বাচন: সুতরাং, সঠিক উত্তর হল ক) ৬।\n",
              "\n",
              "### আপনার উত্তর:\n",
              "খ) ৭.২\n",
              "\n",
              "### আপনার কাজ\n",
              "\n",
              "\n",
              "### প্রশ্ন:\n",
              "\\begin{bmatrix} 1 & 2 & 3 \\\\ 4 & 5 & -8 \\\\ -5 & 6 & x \\end{bmatrix}-এর (1, 2) তম অনুরাশি 8 হলে x-এর মান কত?\n",
              "\n",
              "### বিকল্প:\n",
              "ক) \\text{-8}\n",
              "খ) \\text{-5}\n",
              "গ) 12\n",
              "ঘ) 13\n",
              "\n",
              "#### চিন্তাধারা:\n",
              "- ধাপ ১: প্রশ্নটি বোঝা: এখানে, অনুরাশি (1, 2) তম অনুরাশি 8 হলে x-এর মান নির্ধারণ করতে বলা হয়েছে।\n",
              "- ধাপ ২: বিকল্পগুলি পড়া: বিকল্পগুলি হল -8, -5, 12, এবং 13।\n",
              "- ধাপ ৩: সম্ভাব্য সমাধান: অনুরাশি (1, 2) তম অনুরাশি 8 হলে x-এর মান হবে -8।\n",
              "\n",
              "- ধাপ ৪: সঠিক উত্তর নির্বাচন: সুতরাং, সঠিক উত্তর হল ক) -8।\n",
              "\n",
              "### আপনার উত্তর:\n",
              "খ) -5\n",
              "\n",
              "### প্রশ্ন:\n",
              "x = 1 হলে y = -x এর মান কত?</pre>"
            ],
            "text/plain": [
              "<IPython.core.display.HTML object>"
            ]
          },
          "metadata": {},
          "output_type": "display_data"
        }
      ],
      "source": [
        "from IPython.display import display, HTML\n",
        "\n",
        "# Display large string in the notebook using HTML\n",
        "large_string = \"This is a very long string...\" * 100\n",
        "display(HTML(\"<pre>\" + zs_df.iloc[395,11] + \"</pre>\"))\n"
      ]
    },
    {
      "cell_type": "code",
      "execution_count": null,
      "id": "oII396g5Awap",
      "metadata": {
        "id": "oII396g5Awap"
      },
      "outputs": [],
      "source": [
        "from google.colab import drive\n",
        "drive.mount('/content/drive')"
      ]
    },
    {
      "cell_type": "code",
      "execution_count": null,
      "id": "goo6MuEc_014",
      "metadata": {
        "id": "goo6MuEc_014"
      },
      "outputs": [],
      "source": [
        "import re\n",
        "import pandas as pd\n",
        "\n",
        "# from rouge import Rouge\n",
        "# from bert_score import score as bert_score\n",
        "# from nltk.translate.bleu_score import sentence_bleu, SmoothingFunction\n",
        "\n",
        "from sklearn.metrics import accuracy_score, precision_score, recall_score, f1_score, roc_auc_score, log_loss\n",
        "from sklearn.preprocessing import LabelBinarizer\n",
        "\n",
        "def extract_predicted_answer(text):\n",
        "    \"\"\"\n",
        "    Extract the predicted answer from the large chunk of text by looking for\n",
        "    the '### আপনার উত্তর:' section and isolating the answer.\n",
        "    \"\"\"\n",
        "    # Try to find the part of the text after '### আপনার উত্তর:'\n",
        "    match = re.search(r'### আপনার উত্তর:\\s*(.*)', text)\n",
        "\n",
        "    # If found, return the extracted answer, otherwise return the original text\n",
        "    if match:\n",
        "        return match.group(1).strip()  # Extract and clean the answer\n",
        "    return text.strip()  # If no match, return the text as-is\n",
        "\n",
        "def clean_text_bangla(text):\n",
        "    \"\"\"\n",
        "    Perform basic cleaning of Bangla text.\n",
        "    \"\"\"\n",
        "    # Replace newline characters and extra spaces\n",
        "    text = text.replace(\"\\n\", \" \").replace(\"\\\\n\", \" \").replace(\"\\r\", \" \")\n",
        "\n",
        "    # Remove unnecessary special characters while keeping Bangla characters\n",
        "    text = re.sub(r'[^\\u0980-\\u09FF\\s]', '', text)\n",
        "\n",
        "    # Remove extra spaces\n",
        "    text = re.sub(r'\\s+', ' ', text).strip()\n",
        "\n",
        "    return text\n",
        "\n",
        "def evaluate_rqa(df):\n",
        "    # Extract the relevant predicted answer from the large predicted text\n",
        "    df['cleaned_predicted_option'] = df['predicted_option'].apply(extract_predicted_answer)\n",
        "\n",
        "    # Clean the extracted text (to remove any remaining special characters)\n",
        "    df['correct_option_fmt'] = df['correct_option_fmt'].apply(clean_text_bangla)\n",
        "    df['cleaned_predicted_option'] = df['cleaned_predicted_option'].apply(clean_text_bangla)\n",
        "\n",
        "    # Proceed with evaluation\n",
        "    y_true = df['correct_option_fmt']\n",
        "    y_pred = df['cleaned_predicted_option']\n",
        "\n",
        "    # Calculate accuracy, precision, recall, and f1_score as before\n",
        "    accuracy = accuracy_score(y_true, y_pred)\n",
        "    precision = precision_score(y_true, y_pred, average='macro', zero_division=0)\n",
        "    recall = recall_score(y_true, y_pred, average='macro', zero_division=0)\n",
        "    f1 = f1_score(y_true, y_pred, average='macro', zero_division=0)\n",
        "\n",
        "    # Binarize the labels for AUC-ROC and log-loss calculations\n",
        "    lb = LabelBinarizer()\n",
        "    y_true_binarized = lb.fit_transform(y_true)\n",
        "    y_pred_binarized = lb.transform(y_pred)\n",
        "\n",
        "    auc_roc = roc_auc_score(y_true_binarized, y_pred_binarized, average='macro', multi_class='ovr')\n",
        "    logloss = log_loss(y_true_binarized, y_pred_binarized)\n",
        "\n",
        "    # Return the metrics\n",
        "    metrics = {\n",
        "        'accuracy': accuracy,\n",
        "        'precision': precision,\n",
        "        'recall': recall,\n",
        "        'f1_score': f1,\n",
        "        'auc_roc': auc_roc,\n",
        "        'log_loss': logloss\n",
        "    }\n",
        "\n",
        "    return metrics\n"
      ]
    },
    {
      "cell_type": "code",
      "execution_count": null,
      "id": "_eVQbGMG-AHO",
      "metadata": {
        "colab": {
          "background_save": true
        },
        "id": "_eVQbGMG-AHO"
      },
      "outputs": [],
      "source": [
        "import re\n",
        "from sklearn.metrics import accuracy_score, precision_score, recall_score, f1_score, roc_auc_score, log_loss\n",
        "from sklearn.preprocessing import LabelBinarizer\n",
        "\n",
        "def extract_predicted_answer(text):\n",
        "    \"\"\"\n",
        "    Extract the predicted answer from the large chunk of text by looking for\n",
        "    the '### আপনার উত্তর:' section and isolating the answer.\n",
        "    \"\"\"\n",
        "    if text is None:\n",
        "        return None\n",
        "    # Try to find the part of the text after '### আপনার উত্তর:'\n",
        "    match = re.search(r'### আপনার উত্তর:\\s*(.*)', text)\n",
        "\n",
        "    # If found, return the extracted answer, otherwise return the original text\n",
        "    if match:\n",
        "        return match.group(1).strip()  # Extract and clean the answer\n",
        "    return text.strip() if text else None  # If no match or text is None, return None\n",
        "\n",
        "def clean_text_bangla(text):\n",
        "    \"\"\"\n",
        "    Perform basic cleaning of Bangla text.\n",
        "    \"\"\"\n",
        "    if text is None:\n",
        "        return None\n",
        "    # Replace newline characters and extra spaces\n",
        "    text = text.replace(\"\\n\", \" \").replace(\"\\\\n\", \" \").replace(\"\\r\", \" \")\n",
        "\n",
        "    # Remove unnecessary special characters while keeping Bangla characters\n",
        "    text = re.sub(r'[^\\u0980-\\u09FF\\s]', '', text)\n",
        "\n",
        "    # Remove extra spaces\n",
        "    text = re.sub(r'\\s+', ' ', text).strip()\n",
        "\n",
        "    return text\n",
        "\n",
        "def evaluate_rqa(df):\n",
        "    # Extract the relevant predicted answer from the large predicted text\n",
        "    df['cleaned_predicted_option'] = df['predicted_option'].apply(extract_predicted_answer)\n",
        "\n",
        "    # Clean the extracted text (to remove any remaining special characters)\n",
        "    df['correct_option_fmt'] = df['correct_option_fmt'].apply(clean_text_bangla)\n",
        "    df['cleaned_predicted_option'] = df['cleaned_predicted_option'].apply(clean_text_bangla)\n",
        "\n",
        "    # Remove rows where either y_true or y_pred is None (as we can't compare None values)\n",
        "    df_clean = df.dropna(subset=['correct_option_fmt', 'cleaned_predicted_option'])\n",
        "\n",
        "    if df_clean.empty:\n",
        "        # If all values are None, return a default result\n",
        "        return {\n",
        "            'accuracy': 0.0,\n",
        "            'precision': 0.0,\n",
        "            'recall': 0.0,\n",
        "            'f1_score': 0.0,\n",
        "            'auc_roc': 0.5,\n",
        "            'log_loss': float('inf')  # Indeterminate log_loss when no valid data is present\n",
        "        }\n",
        "\n",
        "    y_true = df_clean['correct_option_fmt']\n",
        "    y_pred = df_clean['cleaned_predicted_option']\n",
        "\n",
        "    # Calculate accuracy, precision, recall, and f1_score\n",
        "    accuracy = accuracy_score(y_true, y_pred)\n",
        "    precision = precision_score(y_true, y_pred, average='macro', zero_division=0)\n",
        "    recall = recall_score(y_true, y_pred, average='macro', zero_division=0)\n",
        "    f1 = f1_score(y_true, y_pred, average='macro', zero_division=0)\n",
        "\n",
        "    # Binarize the labels for AUC-ROC and log-loss calculations\n",
        "    lb = LabelBinarizer()\n",
        "    y_true_binarized = lb.fit_transform(y_true)\n",
        "    y_pred_binarized = lb.transform(y_pred)\n",
        "\n",
        "    auc_roc = roc_auc_score(y_true_binarized, y_pred_binarized, average='macro', multi_class='ovr')\n",
        "    logloss = log_loss(y_true_binarized, y_pred_binarized)\n",
        "\n",
        "    # Return the metrics\n",
        "    metrics = {\n",
        "        'accuracy': accuracy,\n",
        "        'precision': precision,\n",
        "        'recall': recall,\n",
        "        'f1_score': f1,\n",
        "        'auc_roc': auc_roc,\n",
        "        'log_loss': logloss\n",
        "    }\n",
        "\n",
        "    return metrics\n"
      ]
    },
    {
      "cell_type": "code",
      "execution_count": null,
      "id": "rKMc18sE_68k",
      "metadata": {
        "colab": {
          "base_uri": "https://localhost:8080/"
        },
        "id": "rKMc18sE_68k",
        "outputId": "fc59d9e4-8764-4ab5-9ffe-01a50f00ecea"
      },
      "outputs": [
        {
          "name": "stdout",
          "output_type": "stream",
          "text": [
            "/content/drive/MyDrive/ML TASKS/LLM _RESULT_08_24/BLOOM/rqa_eval/bloom_7b1_zs_rqa_8th_science_results.parquet\n",
            "accuracy: 0.2237\n",
            "precision: 0.1277\n",
            "recall: 0.1427\n",
            "f1_score: 0.1311\n",
            "auc_roc: 0.6184\n",
            "log_loss: 27.9813\n"
          ]
        },
        {
          "name": "stderr",
          "output_type": "stream",
          "text": [
            "/usr/local/lib/python3.10/dist-packages/sklearn/metrics/_classification.py:2956: UserWarning: The y_pred values do not sum to one. Make sure to pass probabilities.\n",
            "  warnings.warn(\n"
          ]
        },
        {
          "name": "stdout",
          "output_type": "stream",
          "text": [
            "/content/drive/MyDrive/ML TASKS/LLM _RESULT_08_24/BLOOM/rqa_eval/bloom_7b1_ts_rqa_8th_science_results.parquet\n",
            "accuracy: 0.0439\n",
            "precision: 0.0003\n",
            "recall: 0.0063\n",
            "f1_score: 0.0005\n",
            "auc_roc: 0.5000\n",
            "log_loss: 34.4628\n",
            "/content/drive/MyDrive/ML TASKS/LLM _RESULT_08_24/BLOOM/rqa_eval/bloom_7b1_cot_rqa_8th_science_results.parquet\n",
            "accuracy: 0.0000\n",
            "precision: 0.0000\n",
            "recall: 0.0000\n",
            "f1_score: 0.0000\n",
            "auc_roc: 0.5000\n",
            "log_loss: 36.0437\n"
          ]
        },
        {
          "name": "stderr",
          "output_type": "stream",
          "text": [
            "/usr/local/lib/python3.10/dist-packages/sklearn/metrics/_classification.py:2956: UserWarning: The y_pred values do not sum to one. Make sure to pass probabilities.\n",
            "  warnings.warn(\n"
          ]
        },
        {
          "name": "stdout",
          "output_type": "stream",
          "text": [
            "/content/drive/MyDrive/ML TASKS/LLM _RESULT_08_24/BLOOM/rqa_eval/bloom_7b1_zs_rqa_12th_math_1_results.parquet\n",
            "accuracy: 0.2197\n",
            "precision: 0.0451\n",
            "recall: 0.0863\n",
            "f1_score: 0.0562\n",
            "auc_roc: 0.6125\n",
            "log_loss: 28.1250\n"
          ]
        },
        {
          "name": "stderr",
          "output_type": "stream",
          "text": [
            "/usr/local/lib/python3.10/dist-packages/sklearn/metrics/_classification.py:2956: UserWarning: The y_pred values do not sum to one. Make sure to pass probabilities.\n",
            "  warnings.warn(\n"
          ]
        },
        {
          "name": "stdout",
          "output_type": "stream",
          "text": [
            "/content/drive/MyDrive/ML TASKS/LLM _RESULT_08_24/BLOOM/rqa_eval/bloom_7b1_ts_rqa_12th_math_1_results.parquet\n",
            "accuracy: 0.2348\n",
            "precision: 0.0130\n",
            "recall: 0.0556\n",
            "f1_score: 0.0211\n",
            "auc_roc: 0.5000\n",
            "log_loss: 27.5789\n",
            "/content/drive/MyDrive/ML TASKS/LLM _RESULT_08_24/BLOOM/rqa_eval/bloom_7b1_cot_rqa_12th_math_1_results.parquet\n",
            "accuracy: 0.0000\n",
            "precision: 0.0000\n",
            "recall: 0.0000\n",
            "f1_score: 0.0000\n",
            "auc_roc: 0.5000\n",
            "log_loss: 36.0437\n"
          ]
        },
        {
          "name": "stderr",
          "output_type": "stream",
          "text": [
            "/usr/local/lib/python3.10/dist-packages/sklearn/metrics/_classification.py:2956: UserWarning: The y_pred values do not sum to one. Make sure to pass probabilities.\n",
            "  warnings.warn(\n"
          ]
        },
        {
          "name": "stdout",
          "output_type": "stream",
          "text": [
            "/content/drive/MyDrive/ML TASKS/LLM _RESULT_08_24/BLOOM/rqa_eval/bloom_7b1_zs_rqa_12th_math_2_results.parquet\n",
            "accuracy: 0.1893\n",
            "precision: 0.0252\n",
            "recall: 0.0421\n",
            "f1_score: 0.0287\n",
            "auc_roc: 0.5465\n",
            "log_loss: 29.2221\n"
          ]
        },
        {
          "name": "stderr",
          "output_type": "stream",
          "text": [
            "/usr/local/lib/python3.10/dist-packages/sklearn/metrics/_classification.py:2956: UserWarning: The y_pred values do not sum to one. Make sure to pass probabilities.\n",
            "  warnings.warn(\n"
          ]
        },
        {
          "name": "stdout",
          "output_type": "stream",
          "text": [
            "/content/drive/MyDrive/ML TASKS/LLM _RESULT_08_24/BLOOM/rqa_eval/bloom_7b1_ts_rqa_12th_math_2_results.parquet\n",
            "accuracy: 0.1995\n",
            "precision: 0.0071\n",
            "recall: 0.0357\n",
            "f1_score: 0.0119\n",
            "auc_roc: 0.5000\n",
            "log_loss: 28.8534\n",
            "/content/drive/MyDrive/ML TASKS/LLM _RESULT_08_24/BLOOM/rqa_eval/bloom_7b1_cot_rqa_12th_math_2_results.parquet\n",
            "accuracy: 0.0000\n",
            "precision: 0.0000\n",
            "recall: 0.0000\n",
            "f1_score: 0.0000\n",
            "auc_roc: 0.5000\n",
            "log_loss: 36.0437\n"
          ]
        },
        {
          "name": "stderr",
          "output_type": "stream",
          "text": [
            "/usr/local/lib/python3.10/dist-packages/sklearn/metrics/_classification.py:2956: UserWarning: The y_pred values do not sum to one. Make sure to pass probabilities.\n",
            "  warnings.warn(\n"
          ]
        },
        {
          "name": "stdout",
          "output_type": "stream",
          "text": [
            "/content/drive/MyDrive/ML TASKS/LLM _RESULT_08_24/BLOOM/rqa_eval/bloom_7b1_zs_rqa_12th_physics_1_results.parquet\n",
            "accuracy: 0.1908\n",
            "precision: 0.0936\n",
            "recall: 0.0997\n",
            "f1_score: 0.0953\n",
            "auc_roc: 0.5988\n",
            "log_loss: 29.1669\n"
          ]
        },
        {
          "name": "stderr",
          "output_type": "stream",
          "text": [
            "/usr/local/lib/python3.10/dist-packages/sklearn/metrics/_classification.py:2956: UserWarning: The y_pred values do not sum to one. Make sure to pass probabilities.\n",
            "  warnings.warn(\n"
          ]
        },
        {
          "name": "stdout",
          "output_type": "stream",
          "text": [
            "/content/drive/MyDrive/ML TASKS/LLM _RESULT_08_24/BLOOM/rqa_eval/bloom_7b1_ts_rqa_12th_physics_1_results.parquet\n",
            "accuracy: 0.1678\n",
            "precision: 0.0018\n",
            "recall: 0.0105\n",
            "f1_score: 0.0030\n",
            "auc_roc: 0.5000\n",
            "log_loss: 29.9969\n",
            "/content/drive/MyDrive/ML TASKS/LLM _RESULT_08_24/BLOOM/rqa_eval/bloom_7b1_cot_rqa_12th_physics_1_results.parquet\n",
            "accuracy: 0.0000\n",
            "precision: 0.0000\n",
            "recall: 0.0000\n",
            "f1_score: 0.0000\n",
            "auc_roc: 0.5000\n",
            "log_loss: 36.0437\n"
          ]
        },
        {
          "name": "stderr",
          "output_type": "stream",
          "text": [
            "/usr/local/lib/python3.10/dist-packages/sklearn/metrics/_classification.py:2956: UserWarning: The y_pred values do not sum to one. Make sure to pass probabilities.\n",
            "  warnings.warn(\n"
          ]
        },
        {
          "name": "stdout",
          "output_type": "stream",
          "text": [
            "/content/drive/MyDrive/ML TASKS/LLM _RESULT_08_24/BLOOM/rqa_eval/bloom_7b1_zs_rqa_12th_physics_2_results.parquet\n",
            "accuracy: 0.2012\n",
            "precision: 0.0850\n",
            "recall: 0.0935\n",
            "f1_score: 0.0870\n",
            "auc_roc: 0.5831\n",
            "log_loss: 28.7916\n"
          ]
        },
        {
          "name": "stderr",
          "output_type": "stream",
          "text": [
            "/usr/local/lib/python3.10/dist-packages/sklearn/metrics/_classification.py:2956: UserWarning: The y_pred values do not sum to one. Make sure to pass probabilities.\n",
            "  warnings.warn(\n"
          ]
        },
        {
          "name": "stdout",
          "output_type": "stream",
          "text": [
            "/content/drive/MyDrive/ML TASKS/LLM _RESULT_08_24/BLOOM/rqa_eval/bloom_7b1_ts_rqa_12th_physics_2_results.parquet\n",
            "accuracy: 0.1411\n",
            "precision: 0.0012\n",
            "recall: 0.0082\n",
            "f1_score: 0.0020\n",
            "auc_roc: 0.5000\n",
            "log_loss: 30.9564\n",
            "/content/drive/MyDrive/ML TASKS/LLM _RESULT_08_24/BLOOM/rqa_eval/bloom_7b1_cot_rqa_12th_physics_2_results.parquet\n",
            "accuracy: 0.0000\n",
            "precision: 0.0000\n",
            "recall: 0.0000\n",
            "f1_score: 0.0000\n",
            "auc_roc: 0.5000\n",
            "log_loss: 36.0437\n"
          ]
        },
        {
          "name": "stderr",
          "output_type": "stream",
          "text": [
            "/usr/local/lib/python3.10/dist-packages/sklearn/metrics/_classification.py:2956: UserWarning: The y_pred values do not sum to one. Make sure to pass probabilities.\n",
            "  warnings.warn(\n"
          ]
        }
      ],
      "source": [
        "import pandas as pd\n",
        "file_tags = [\n",
        "    \"8th_science\",\n",
        "    \"12th_math_1\",\n",
        "    \"12th_math_2\",\n",
        "    \"12th_physics_1\",\n",
        "    \"12th_physics_2\"\n",
        "]\n",
        "prompts_tags = [\n",
        "    \"zs\",\n",
        "    \"ts\",\n",
        "    \"cot\"\n",
        "]\n",
        "\n",
        "# \"/content/drive/MyDrive/ML TASKS/LLM _RESULT_08_24/BLOOM/rqa_eval/bloom_7b1_cot_rqa_12th_math_1_results.parquet\"\n",
        "for file_index in range(5):\n",
        "  for prompts_index in range(3):\n",
        "    eval_df = pd.read_parquet(f\"/content/drive/MyDrive/ML TASKS/LLM _RESULT_08_24/BLOOM/rqa_eval/bloom_7b1_{prompts_tags[prompts_index]}_rqa_{file_tags[file_index]}_results.parquet\")\n",
        "    print(f\"/content/drive/MyDrive/ML TASKS/LLM _RESULT_08_24/BLOOM/rqa_eval/bloom_7b1_{prompts_tags[prompts_index]}_rqa_{file_tags[file_index]}_results.parquet\")\n",
        "\n",
        "    metrics = evaluate_rqa(eval_df)\n",
        "    for metric, value in metrics.items():\n",
        "        print(f\"{metric}: {value:.4f}\")"
      ]
    }
  ],
  "metadata": {
    "accelerator": "GPU",
    "colab": {
      "gpuType": "T4",
      "provenance": []
    },
    "kernelspec": {
      "display_name": "Python 3 (ipykernel)",
      "language": "python",
      "name": "python3"
    },
    "language_info": {
      "codemirror_mode": {
        "name": "ipython",
        "version": 3
      },
      "file_extension": ".py",
      "mimetype": "text/x-python",
      "name": "python",
      "nbconvert_exporter": "python",
      "pygments_lexer": "ipython3",
      "version": "3.10.12"
    }
  },
  "nbformat": 4,
  "nbformat_minor": 5
}