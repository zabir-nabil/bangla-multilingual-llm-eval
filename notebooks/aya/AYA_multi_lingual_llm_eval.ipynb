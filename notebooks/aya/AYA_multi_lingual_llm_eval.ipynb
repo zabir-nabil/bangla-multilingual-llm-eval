{
  "cells": [
    {
      "cell_type": "code",
      "execution_count": null,
      "id": "f89d495d-b026-49df-a809-bea275e6ca39",
      "metadata": {
        "id": "f89d495d-b026-49df-a809-bea275e6ca39",
        "outputId": "bf0c21e6-9a02-4b8c-95bd-1bebcf90cbf1"
      },
      "outputs": [
        {
          "name": "stdout",
          "output_type": "stream",
          "text": [
            "Defaulting to user installation because normal site-packages is not writeable\n",
            "Requirement already satisfied: pip in ./.local/lib/python3.10/site-packages (23.3.1)\n",
            "Collecting pip\n",
            "  Downloading pip-24.2-py3-none-any.whl.metadata (3.6 kB)\n",
            "Downloading pip-24.2-py3-none-any.whl (1.8 MB)\n",
            "\u001b[2K   \u001b[90m━━━━━━━━━━━━━━━━━━━━━━━━━━━━━━━━━━━━━━━━\u001b[0m \u001b[32m1.8/1.8 MB\u001b[0m \u001b[31m8.5 MB/s\u001b[0m eta \u001b[36m0:00:00\u001b[0m00:01\u001b[0m00:01\u001b[0m\n",
            "\u001b[?25h\u001b[33mDEPRECATION: flatbuffers 1.12.1-git20200711.33e2d80-dfsg1-0.6 has a non-standard version number. pip 24.0 will enforce this behaviour change. A possible replacement is to upgrade to a newer version of flatbuffers or contact the author to suggest that they release a version with a conforming version number. Discussion can be found at https://github.com/pypa/pip/issues/12063\u001b[0m\u001b[33m\n",
            "\u001b[0mInstalling collected packages: pip\n",
            "  Attempting uninstall: pip\n",
            "    Found existing installation: pip 23.3.1\n",
            "    Uninstalling pip-23.3.1:\n",
            "      Successfully uninstalled pip-23.3.1\n",
            "Successfully installed pip-24.2\n"
          ]
        }
      ],
      "source": [
        "! python3 -m pip install --upgrade pip"
      ]
    },
    {
      "cell_type": "code",
      "execution_count": null,
      "id": "2a7d9926-d775-4ea4-9c46-2a2ce486f892",
      "metadata": {
        "id": "2a7d9926-d775-4ea4-9c46-2a2ce486f892",
        "outputId": "8f22a8e0-47b5-4c97-c0c4-8033a992bdd5"
      },
      "outputs": [
        {
          "name": "stderr",
          "output_type": "stream",
          "text": [
            "huggingface/tokenizers: The current process just got forked, after parallelism has already been used. Disabling parallelism to avoid deadlocks...\n",
            "To disable this warning, you can either:\n",
            "\t- Avoid using `tokenizers` before the fork if possible\n",
            "\t- Explicitly set the environment variable TOKENIZERS_PARALLELISM=(true | false)\n"
          ]
        },
        {
          "name": "stdout",
          "output_type": "stream",
          "text": [
            "Defaulting to user installation because normal site-packages is not writeable\n",
            "Collecting datasets\n",
            "  Downloading datasets-2.21.0-py3-none-any.whl.metadata (21 kB)\n",
            "Requirement already satisfied: filelock in /usr/lib/python3/dist-packages (from datasets) (3.6.0)\n",
            "Requirement already satisfied: numpy>=1.17 in ./.local/lib/python3.10/site-packages (from datasets) (1.25.2)\n",
            "Collecting pyarrow>=15.0.0 (from datasets)\n",
            "  Downloading pyarrow-17.0.0-cp310-cp310-manylinux_2_28_x86_64.whl.metadata (3.3 kB)\n",
            "Collecting dill<0.3.9,>=0.3.0 (from datasets)\n",
            "  Downloading dill-0.3.8-py3-none-any.whl.metadata (10 kB)\n",
            "Requirement already satisfied: pandas in /usr/lib/python3/dist-packages (from datasets) (1.3.5)\n",
            "Collecting requests>=2.32.2 (from datasets)\n",
            "  Downloading requests-2.32.3-py3-none-any.whl.metadata (4.6 kB)\n",
            "Collecting tqdm>=4.66.3 (from datasets)\n",
            "  Downloading tqdm-4.66.5-py3-none-any.whl.metadata (57 kB)\n",
            "Collecting xxhash (from datasets)\n",
            "  Downloading xxhash-3.5.0-cp310-cp310-manylinux_2_17_x86_64.manylinux2014_x86_64.whl.metadata (12 kB)\n",
            "Collecting multiprocess (from datasets)\n",
            "  Downloading multiprocess-0.70.16-py310-none-any.whl.metadata (7.2 kB)\n",
            "Requirement already satisfied: fsspec<=2024.6.1,>=2023.1.0 in ./.local/lib/python3.10/site-packages (from fsspec[http]<=2024.6.1,>=2023.1.0->datasets) (2024.6.1)\n",
            "Collecting aiohttp (from datasets)\n",
            "  Downloading aiohttp-3.10.5-cp310-cp310-manylinux_2_17_x86_64.manylinux2014_x86_64.whl.metadata (7.5 kB)\n",
            "Requirement already satisfied: huggingface-hub>=0.21.2 in ./.local/lib/python3.10/site-packages (from datasets) (0.24.6)\n",
            "Requirement already satisfied: packaging in /usr/lib/python3/dist-packages (from datasets) (21.3)\n",
            "Requirement already satisfied: pyyaml>=5.1 in /usr/lib/python3/dist-packages (from datasets) (5.4.1)\n",
            "Collecting aiohappyeyeballs>=2.3.0 (from aiohttp->datasets)\n",
            "  Downloading aiohappyeyeballs-2.4.0-py3-none-any.whl.metadata (5.9 kB)\n",
            "Collecting aiosignal>=1.1.2 (from aiohttp->datasets)\n",
            "  Downloading aiosignal-1.3.1-py3-none-any.whl.metadata (4.0 kB)\n",
            "Requirement already satisfied: attrs>=17.3.0 in ./.local/lib/python3.10/site-packages (from aiohttp->datasets) (23.1.0)\n",
            "Collecting frozenlist>=1.1.1 (from aiohttp->datasets)\n",
            "  Downloading frozenlist-1.4.1-cp310-cp310-manylinux_2_5_x86_64.manylinux1_x86_64.manylinux_2_17_x86_64.manylinux2014_x86_64.whl.metadata (12 kB)\n",
            "Collecting multidict<7.0,>=4.5 (from aiohttp->datasets)\n",
            "  Downloading multidict-6.0.5-cp310-cp310-manylinux_2_17_x86_64.manylinux2014_x86_64.whl.metadata (4.2 kB)\n",
            "Collecting yarl<2.0,>=1.0 (from aiohttp->datasets)\n",
            "  Downloading yarl-1.9.4-cp310-cp310-manylinux_2_17_x86_64.manylinux2014_x86_64.whl.metadata (31 kB)\n",
            "Collecting async-timeout<5.0,>=4.0 (from aiohttp->datasets)\n",
            "  Downloading async_timeout-4.0.3-py3-none-any.whl.metadata (4.2 kB)\n",
            "Requirement already satisfied: typing-extensions>=3.7.4.3 in ./.local/lib/python3.10/site-packages (from huggingface-hub>=0.21.2->datasets) (4.8.0)\n",
            "Requirement already satisfied: charset-normalizer<4,>=2 in ./.local/lib/python3.10/site-packages (from requests>=2.32.2->datasets) (3.3.2)\n",
            "Requirement already satisfied: idna<4,>=2.5 in /usr/lib/python3/dist-packages (from requests>=2.32.2->datasets) (3.3)\n",
            "Requirement already satisfied: urllib3<3,>=1.21.1 in /usr/lib/python3/dist-packages (from requests>=2.32.2->datasets) (1.26.5)\n",
            "Requirement already satisfied: certifi>=2017.4.17 in /usr/lib/python3/dist-packages (from requests>=2.32.2->datasets) (2020.6.20)\n",
            "Downloading datasets-2.21.0-py3-none-any.whl (527 kB)\n",
            "\u001b[2K   \u001b[90m━━━━━━━━━━━━━━━━━━━━━━━━━━━━━━━━━━━━━━━━\u001b[0m \u001b[32m527.3/527.3 kB\u001b[0m \u001b[31m21.0 MB/s\u001b[0m eta \u001b[36m0:00:00\u001b[0m\n",
            "\u001b[?25hDownloading dill-0.3.8-py3-none-any.whl (116 kB)\n",
            "Downloading aiohttp-3.10.5-cp310-cp310-manylinux_2_17_x86_64.manylinux2014_x86_64.whl (1.2 MB)\n",
            "\u001b[2K   \u001b[90m━━━━━━━━━━━━━━━━━━━━━━━━━━━━━━━━━━━━━━━━\u001b[0m \u001b[32m1.2/1.2 MB\u001b[0m \u001b[31m59.6 MB/s\u001b[0m eta \u001b[36m0:00:00\u001b[0m\n",
            "\u001b[?25hDownloading pyarrow-17.0.0-cp310-cp310-manylinux_2_28_x86_64.whl (39.9 MB)\n",
            "\u001b[2K   \u001b[90m━━━━━━━━━━━━━━━━━━━━━━━━━━━━━━━━━━━━━━━━\u001b[0m \u001b[32m39.9/39.9 MB\u001b[0m \u001b[31m158.8 MB/s\u001b[0m eta \u001b[36m0:00:00\u001b[0m00:01\u001b[0m\n",
            "\u001b[?25hDownloading requests-2.32.3-py3-none-any.whl (64 kB)\n",
            "Downloading tqdm-4.66.5-py3-none-any.whl (78 kB)\n",
            "Downloading multiprocess-0.70.16-py310-none-any.whl (134 kB)\n",
            "Downloading xxhash-3.5.0-cp310-cp310-manylinux_2_17_x86_64.manylinux2014_x86_64.whl (194 kB)\n",
            "Downloading aiohappyeyeballs-2.4.0-py3-none-any.whl (12 kB)\n",
            "Downloading aiosignal-1.3.1-py3-none-any.whl (7.6 kB)\n",
            "Downloading async_timeout-4.0.3-py3-none-any.whl (5.7 kB)\n",
            "Downloading frozenlist-1.4.1-cp310-cp310-manylinux_2_5_x86_64.manylinux1_x86_64.manylinux_2_17_x86_64.manylinux2014_x86_64.whl (239 kB)\n",
            "Downloading multidict-6.0.5-cp310-cp310-manylinux_2_17_x86_64.manylinux2014_x86_64.whl (124 kB)\n",
            "Downloading yarl-1.9.4-cp310-cp310-manylinux_2_17_x86_64.manylinux2014_x86_64.whl (301 kB)\n",
            "\u001b[33mWARNING: Error parsing dependencies of flatbuffers: Invalid version: '1.12.1-git20200711.33e2d80-dfsg1-0.6'\u001b[0m\u001b[33m\n",
            "\u001b[0mInstalling collected packages: xxhash, tqdm, requests, pyarrow, multidict, frozenlist, dill, async-timeout, aiohappyeyeballs, yarl, multiprocess, aiosignal, aiohttp, datasets\n",
            "  Attempting uninstall: tqdm\n",
            "    Found existing installation: tqdm 4.66.1\n",
            "    Uninstalling tqdm-4.66.1:\n",
            "      Successfully uninstalled tqdm-4.66.1\n",
            "  Attempting uninstall: requests\n",
            "    Found existing installation: requests 2.31.0\n",
            "    Uninstalling requests-2.31.0:\n",
            "      Successfully uninstalled requests-2.31.0\n",
            "Successfully installed aiohappyeyeballs-2.4.0 aiohttp-3.10.5 aiosignal-1.3.1 async-timeout-4.0.3 datasets-2.21.0 dill-0.3.8 frozenlist-1.4.1 multidict-6.0.5 multiprocess-0.70.16 pyarrow-17.0.0 requests-2.32.3 tqdm-4.66.5 xxhash-3.5.0 yarl-1.9.4\n"
          ]
        }
      ],
      "source": [
        "!pip install datasets"
      ]
    },
    {
      "cell_type": "code",
      "execution_count": null,
      "id": "05f1528e-c367-4a10-b70b-3cbc1223de13",
      "metadata": {
        "id": "05f1528e-c367-4a10-b70b-3cbc1223de13",
        "outputId": "1940f0bf-039d-4ed8-98ad-ad80d1ab3d92"
      },
      "outputs": [
        {
          "name": "stdout",
          "output_type": "stream",
          "text": [
            "\u001b[33mWARNING: Error parsing dependencies of flatbuffers: Invalid version: '1.12.1-git20200711.33e2d80-dfsg1-0.6'\u001b[0m\u001b[33m\n",
            "\u001b[0m"
          ]
        }
      ],
      "source": [
        "! pip install -q transformers"
      ]
    },
    {
      "cell_type": "code",
      "execution_count": null,
      "id": "ee5b0df1-95d6-47e3-8e6a-3d8517dc8145",
      "metadata": {
        "colab": {
          "referenced_widgets": [
            "2204ddaef0d447669c38b1b018cc1a83",
            "37398acb9e6b48e6b78c3de863191949",
            "025a5ad5d3764f3dba787c83ceca1e63",
            "804452246fcb4609b0ea4244204cc249",
            "db57d43f1eea499cb51ff1060510fa57",
            "60a3f59ae4e342ccbdbef26e36de770e",
            "73125b1628fa4262b1581e1ed4741258",
            "e8a42721c11f412196f939ef37025371",
            "75d36b718d61448e89add5eb989eba23",
            "abd6236373df4e60b74d7a334e0cc4f9",
            "21e8f732385d4ef5a764a6b78b8ac771",
            "546cb5f4264446ab8f974afc8848d126",
            "2988e6825c8242a8861963aef522fda4",
            "ff4f6cca9f414223b8f60111796f20a7",
            "7a5538b084fa4825a6cb047059dd953e",
            "55c8f7d1833e450e8b714616552b32b8",
            "011abac0f08c48e7884ff4930375bf12",
            "5ff3722b11f34b7784163c6a527230d9"
          ]
        },
        "id": "ee5b0df1-95d6-47e3-8e6a-3d8517dc8145",
        "outputId": "320604f1-c60d-4515-c754-c9a521834673"
      },
      "outputs": [
        {
          "data": {
            "application/vnd.jupyter.widget-view+json": {
              "model_id": "2204ddaef0d447669c38b1b018cc1a83",
              "version_major": 2,
              "version_minor": 0
            },
            "text/plain": [
              "tokenizer_config.json:   0%|          | 0.00/833 [00:00<?, ?B/s]"
            ]
          },
          "metadata": {},
          "output_type": "display_data"
        },
        {
          "data": {
            "application/vnd.jupyter.widget-view+json": {
              "model_id": "37398acb9e6b48e6b78c3de863191949",
              "version_major": 2,
              "version_minor": 0
            },
            "text/plain": [
              "tokenizer.json:   0%|          | 0.00/16.3M [00:00<?, ?B/s]"
            ]
          },
          "metadata": {},
          "output_type": "display_data"
        },
        {
          "data": {
            "application/vnd.jupyter.widget-view+json": {
              "model_id": "025a5ad5d3764f3dba787c83ceca1e63",
              "version_major": 2,
              "version_minor": 0
            },
            "text/plain": [
              "config.json:   0%|          | 0.00/836 [00:00<?, ?B/s]"
            ]
          },
          "metadata": {},
          "output_type": "display_data"
        },
        {
          "data": {
            "application/vnd.jupyter.widget-view+json": {
              "model_id": "804452246fcb4609b0ea4244204cc249",
              "version_major": 2,
              "version_minor": 0
            },
            "text/plain": [
              "model.safetensors.index.json:   0%|          | 0.00/50.6k [00:00<?, ?B/s]"
            ]
          },
          "metadata": {},
          "output_type": "display_data"
        },
        {
          "data": {
            "application/vnd.jupyter.widget-view+json": {
              "model_id": "db57d43f1eea499cb51ff1060510fa57",
              "version_major": 2,
              "version_minor": 0
            },
            "text/plain": [
              "Downloading shards:   0%|          | 0/11 [00:00<?, ?it/s]"
            ]
          },
          "metadata": {},
          "output_type": "display_data"
        },
        {
          "data": {
            "application/vnd.jupyter.widget-view+json": {
              "model_id": "60a3f59ae4e342ccbdbef26e36de770e",
              "version_major": 2,
              "version_minor": 0
            },
            "text/plain": [
              "model-00001-of-00011.safetensors:   0%|          | 0.00/4.94G [00:00<?, ?B/s]"
            ]
          },
          "metadata": {},
          "output_type": "display_data"
        },
        {
          "data": {
            "application/vnd.jupyter.widget-view+json": {
              "model_id": "73125b1628fa4262b1581e1ed4741258",
              "version_major": 2,
              "version_minor": 0
            },
            "text/plain": [
              "model-00002-of-00011.safetensors:   0%|          | 0.00/5.00G [00:00<?, ?B/s]"
            ]
          },
          "metadata": {},
          "output_type": "display_data"
        },
        {
          "data": {
            "application/vnd.jupyter.widget-view+json": {
              "model_id": "e8a42721c11f412196f939ef37025371",
              "version_major": 2,
              "version_minor": 0
            },
            "text/plain": [
              "model-00003-of-00011.safetensors:   0%|          | 0.00/4.97G [00:00<?, ?B/s]"
            ]
          },
          "metadata": {},
          "output_type": "display_data"
        },
        {
          "data": {
            "application/vnd.jupyter.widget-view+json": {
              "model_id": "75d36b718d61448e89add5eb989eba23",
              "version_major": 2,
              "version_minor": 0
            },
            "text/plain": [
              "model-00004-of-00011.safetensors:   0%|          | 0.00/4.90G [00:00<?, ?B/s]"
            ]
          },
          "metadata": {},
          "output_type": "display_data"
        },
        {
          "data": {
            "application/vnd.jupyter.widget-view+json": {
              "model_id": "abd6236373df4e60b74d7a334e0cc4f9",
              "version_major": 2,
              "version_minor": 0
            },
            "text/plain": [
              "model-00005-of-00011.safetensors:   0%|          | 0.00/4.97G [00:00<?, ?B/s]"
            ]
          },
          "metadata": {},
          "output_type": "display_data"
        },
        {
          "data": {
            "application/vnd.jupyter.widget-view+json": {
              "model_id": "21e8f732385d4ef5a764a6b78b8ac771",
              "version_major": 2,
              "version_minor": 0
            },
            "text/plain": [
              "model-00006-of-00011.safetensors:   0%|          | 0.00/4.97G [00:00<?, ?B/s]"
            ]
          },
          "metadata": {},
          "output_type": "display_data"
        },
        {
          "data": {
            "application/vnd.jupyter.widget-view+json": {
              "model_id": "546cb5f4264446ab8f974afc8848d126",
              "version_major": 2,
              "version_minor": 0
            },
            "text/plain": [
              "model-00007-of-00011.safetensors:   0%|          | 0.00/4.87G [00:00<?, ?B/s]"
            ]
          },
          "metadata": {},
          "output_type": "display_data"
        },
        {
          "data": {
            "application/vnd.jupyter.widget-view+json": {
              "model_id": "2988e6825c8242a8861963aef522fda4",
              "version_major": 2,
              "version_minor": 0
            },
            "text/plain": [
              "model-00008-of-00011.safetensors:   0%|          | 0.00/5.00G [00:00<?, ?B/s]"
            ]
          },
          "metadata": {},
          "output_type": "display_data"
        },
        {
          "data": {
            "application/vnd.jupyter.widget-view+json": {
              "model_id": "ff4f6cca9f414223b8f60111796f20a7",
              "version_major": 2,
              "version_minor": 0
            },
            "text/plain": [
              "model-00009-of-00011.safetensors:   0%|          | 0.00/5.00G [00:00<?, ?B/s]"
            ]
          },
          "metadata": {},
          "output_type": "display_data"
        },
        {
          "data": {
            "application/vnd.jupyter.widget-view+json": {
              "model_id": "7a5538b084fa4825a6cb047059dd953e",
              "version_major": 2,
              "version_minor": 0
            },
            "text/plain": [
              "model-00010-of-00011.safetensors:   0%|          | 0.00/2.99G [00:00<?, ?B/s]"
            ]
          },
          "metadata": {},
          "output_type": "display_data"
        },
        {
          "data": {
            "application/vnd.jupyter.widget-view+json": {
              "model_id": "55c8f7d1833e450e8b714616552b32b8",
              "version_major": 2,
              "version_minor": 0
            },
            "text/plain": [
              "model-00011-of-00011.safetensors:   0%|          | 0.00/4.10G [00:00<?, ?B/s]"
            ]
          },
          "metadata": {},
          "output_type": "display_data"
        },
        {
          "data": {
            "application/vnd.jupyter.widget-view+json": {
              "model_id": "011abac0f08c48e7884ff4930375bf12",
              "version_major": 2,
              "version_minor": 0
            },
            "text/plain": [
              "Loading checkpoint shards:   0%|          | 0/11 [00:00<?, ?it/s]"
            ]
          },
          "metadata": {},
          "output_type": "display_data"
        },
        {
          "data": {
            "application/vnd.jupyter.widget-view+json": {
              "model_id": "5ff3722b11f34b7784163c6a527230d9",
              "version_major": 2,
              "version_minor": 0
            },
            "text/plain": [
              "generation_config.json:   0%|          | 0.00/142 [00:00<?, ?B/s]"
            ]
          },
          "metadata": {},
          "output_type": "display_data"
        },
        {
          "data": {
            "text/plain": [
              "T5ForConditionalGeneration(\n",
              "  (shared): Embedding(250112, 4096)\n",
              "  (encoder): T5Stack(\n",
              "    (embed_tokens): Embedding(250112, 4096)\n",
              "    (block): ModuleList(\n",
              "      (0): T5Block(\n",
              "        (layer): ModuleList(\n",
              "          (0): T5LayerSelfAttention(\n",
              "            (SelfAttention): T5Attention(\n",
              "              (q): Linear(in_features=4096, out_features=4096, bias=False)\n",
              "              (k): Linear(in_features=4096, out_features=4096, bias=False)\n",
              "              (v): Linear(in_features=4096, out_features=4096, bias=False)\n",
              "              (o): Linear(in_features=4096, out_features=4096, bias=False)\n",
              "              (relative_attention_bias): Embedding(32, 64)\n",
              "            )\n",
              "            (layer_norm): T5LayerNorm()\n",
              "            (dropout): Dropout(p=0.1, inplace=False)\n",
              "          )\n",
              "          (1): T5LayerFF(\n",
              "            (DenseReluDense): T5DenseGatedActDense(\n",
              "              (wi_0): Linear(in_features=4096, out_features=10240, bias=False)\n",
              "              (wi_1): Linear(in_features=4096, out_features=10240, bias=False)\n",
              "              (wo): Linear(in_features=10240, out_features=4096, bias=False)\n",
              "              (dropout): Dropout(p=0.1, inplace=False)\n",
              "              (act): NewGELUActivation()\n",
              "            )\n",
              "            (layer_norm): T5LayerNorm()\n",
              "            (dropout): Dropout(p=0.1, inplace=False)\n",
              "          )\n",
              "        )\n",
              "      )\n",
              "      (1-23): 23 x T5Block(\n",
              "        (layer): ModuleList(\n",
              "          (0): T5LayerSelfAttention(\n",
              "            (SelfAttention): T5Attention(\n",
              "              (q): Linear(in_features=4096, out_features=4096, bias=False)\n",
              "              (k): Linear(in_features=4096, out_features=4096, bias=False)\n",
              "              (v): Linear(in_features=4096, out_features=4096, bias=False)\n",
              "              (o): Linear(in_features=4096, out_features=4096, bias=False)\n",
              "            )\n",
              "            (layer_norm): T5LayerNorm()\n",
              "            (dropout): Dropout(p=0.1, inplace=False)\n",
              "          )\n",
              "          (1): T5LayerFF(\n",
              "            (DenseReluDense): T5DenseGatedActDense(\n",
              "              (wi_0): Linear(in_features=4096, out_features=10240, bias=False)\n",
              "              (wi_1): Linear(in_features=4096, out_features=10240, bias=False)\n",
              "              (wo): Linear(in_features=10240, out_features=4096, bias=False)\n",
              "              (dropout): Dropout(p=0.1, inplace=False)\n",
              "              (act): NewGELUActivation()\n",
              "            )\n",
              "            (layer_norm): T5LayerNorm()\n",
              "            (dropout): Dropout(p=0.1, inplace=False)\n",
              "          )\n",
              "        )\n",
              "      )\n",
              "    )\n",
              "    (final_layer_norm): T5LayerNorm()\n",
              "    (dropout): Dropout(p=0.1, inplace=False)\n",
              "  )\n",
              "  (decoder): T5Stack(\n",
              "    (embed_tokens): Embedding(250112, 4096)\n",
              "    (block): ModuleList(\n",
              "      (0): T5Block(\n",
              "        (layer): ModuleList(\n",
              "          (0): T5LayerSelfAttention(\n",
              "            (SelfAttention): T5Attention(\n",
              "              (q): Linear(in_features=4096, out_features=4096, bias=False)\n",
              "              (k): Linear(in_features=4096, out_features=4096, bias=False)\n",
              "              (v): Linear(in_features=4096, out_features=4096, bias=False)\n",
              "              (o): Linear(in_features=4096, out_features=4096, bias=False)\n",
              "              (relative_attention_bias): Embedding(32, 64)\n",
              "            )\n",
              "            (layer_norm): T5LayerNorm()\n",
              "            (dropout): Dropout(p=0.1, inplace=False)\n",
              "          )\n",
              "          (1): T5LayerCrossAttention(\n",
              "            (EncDecAttention): T5Attention(\n",
              "              (q): Linear(in_features=4096, out_features=4096, bias=False)\n",
              "              (k): Linear(in_features=4096, out_features=4096, bias=False)\n",
              "              (v): Linear(in_features=4096, out_features=4096, bias=False)\n",
              "              (o): Linear(in_features=4096, out_features=4096, bias=False)\n",
              "            )\n",
              "            (layer_norm): T5LayerNorm()\n",
              "            (dropout): Dropout(p=0.1, inplace=False)\n",
              "          )\n",
              "          (2): T5LayerFF(\n",
              "            (DenseReluDense): T5DenseGatedActDense(\n",
              "              (wi_0): Linear(in_features=4096, out_features=10240, bias=False)\n",
              "              (wi_1): Linear(in_features=4096, out_features=10240, bias=False)\n",
              "              (wo): Linear(in_features=10240, out_features=4096, bias=False)\n",
              "              (dropout): Dropout(p=0.1, inplace=False)\n",
              "              (act): NewGELUActivation()\n",
              "            )\n",
              "            (layer_norm): T5LayerNorm()\n",
              "            (dropout): Dropout(p=0.1, inplace=False)\n",
              "          )\n",
              "        )\n",
              "      )\n",
              "      (1-23): 23 x T5Block(\n",
              "        (layer): ModuleList(\n",
              "          (0): T5LayerSelfAttention(\n",
              "            (SelfAttention): T5Attention(\n",
              "              (q): Linear(in_features=4096, out_features=4096, bias=False)\n",
              "              (k): Linear(in_features=4096, out_features=4096, bias=False)\n",
              "              (v): Linear(in_features=4096, out_features=4096, bias=False)\n",
              "              (o): Linear(in_features=4096, out_features=4096, bias=False)\n",
              "            )\n",
              "            (layer_norm): T5LayerNorm()\n",
              "            (dropout): Dropout(p=0.1, inplace=False)\n",
              "          )\n",
              "          (1): T5LayerCrossAttention(\n",
              "            (EncDecAttention): T5Attention(\n",
              "              (q): Linear(in_features=4096, out_features=4096, bias=False)\n",
              "              (k): Linear(in_features=4096, out_features=4096, bias=False)\n",
              "              (v): Linear(in_features=4096, out_features=4096, bias=False)\n",
              "              (o): Linear(in_features=4096, out_features=4096, bias=False)\n",
              "            )\n",
              "            (layer_norm): T5LayerNorm()\n",
              "            (dropout): Dropout(p=0.1, inplace=False)\n",
              "          )\n",
              "          (2): T5LayerFF(\n",
              "            (DenseReluDense): T5DenseGatedActDense(\n",
              "              (wi_0): Linear(in_features=4096, out_features=10240, bias=False)\n",
              "              (wi_1): Linear(in_features=4096, out_features=10240, bias=False)\n",
              "              (wo): Linear(in_features=10240, out_features=4096, bias=False)\n",
              "              (dropout): Dropout(p=0.1, inplace=False)\n",
              "              (act): NewGELUActivation()\n",
              "            )\n",
              "            (layer_norm): T5LayerNorm()\n",
              "            (dropout): Dropout(p=0.1, inplace=False)\n",
              "          )\n",
              "        )\n",
              "      )\n",
              "    )\n",
              "    (final_layer_norm): T5LayerNorm()\n",
              "    (dropout): Dropout(p=0.1, inplace=False)\n",
              "  )\n",
              "  (lm_head): Linear(in_features=4096, out_features=250112, bias=False)\n",
              ")"
            ]
          },
          "execution_count": 3,
          "metadata": {},
          "output_type": "execute_result"
        }
      ],
      "source": [
        "import torch\n",
        "\n",
        "# Empty the GPU cache\n",
        "torch.cuda.empty_cache()\n",
        "\n",
        "from transformers import AutoModelForSeq2SeqLM, AutoTokenizer\n",
        "\n",
        "\n",
        "# Set the device (GPU or CPU)\n",
        "#device = torch.device(\"cuda\" if torch.cuda.is_available() else \"cpu\")\n",
        "#device = torch.device(\"cuda:0\" if torch.cuda.is_available() else \"cpu\")\n",
        "\n",
        "checkpoint = \"CohereForAI/aya-101\"\n",
        "tokenizer = AutoTokenizer.from_pretrained(checkpoint)\n",
        "aya_model = AutoModelForSeq2SeqLM.from_pretrained(checkpoint)\n",
        "\n",
        "# Move the model to GPU with half-precision\n",
        "aya_model.half().to(\"cuda\")"
      ]
    },
    {
      "cell_type": "code",
      "execution_count": null,
      "id": "4a4d8263-9442-4caf-9feb-c56734354c79",
      "metadata": {
        "id": "4a4d8263-9442-4caf-9feb-c56734354c79"
      },
      "outputs": [],
      "source": [
        "def get_aya_output(prompt = \"\", max_new_tokens = 128):\n",
        "    ben_inputs = tokenizer.encode(prompt, return_tensors=\"pt\")\n",
        "    ben_inputs = ben_inputs.to(\"cuda\")  # Move the inputs to the GPU (if available)\n",
        "    ben_outputs = aya_model.generate(ben_inputs, max_new_tokens = max_new_tokens)\n",
        "\n",
        "    output = tokenizer.decode(ben_outputs[0])\n",
        "    cleaned_output = output.replace(\"<pad>\", \"\").replace(\"</s>\", \"\").strip()\n",
        "\n",
        "    prompt_response = \"\" + cleaned_output\n",
        "\n",
        "    return prompt_response"
      ]
    },
    {
      "cell_type": "code",
      "execution_count": null,
      "id": "71de683f-afd5-4b00-939d-3244bbb44b9d",
      "metadata": {
        "id": "71de683f-afd5-4b00-939d-3244bbb44b9d",
        "outputId": "69b3a5e9-14d3-4ffe-c5fa-6daf0c7f82d0"
      },
      "outputs": [
        {
          "data": {
            "text/plain": [
              "'১। আবু হেনা মুহাম্মদ রফিক ২। শামসুর রাহমান ৩। হুমায়ূন আহমেদ ৪। আবু বকর সিদ্দিক ৫। রবীন্দ্রনাথ ঠাকুর'"
            ]
          },
          "execution_count": 15,
          "metadata": {},
          "output_type": "execute_result"
        }
      ],
      "source": [
        "get_aya_output(\"৫ জন বাংলাদেশি বিখ্যাত কবির নাম বল?\")"
      ]
    },
    {
      "cell_type": "code",
      "execution_count": null,
      "id": "i-ywD31OVzdH",
      "metadata": {
        "id": "i-ywD31OVzdH"
      },
      "outputs": [],
      "source": [
        "# Empty the GPU cache\n",
        "torch.cuda.empty_cache()"
      ]
    },
    {
      "cell_type": "markdown",
      "id": "5f613453-2b6d-457f-84e6-45a547661f68",
      "metadata": {
        "id": "5f613453-2b6d-457f-84e6-45a547661f68"
      },
      "source": [
        "## AYA - Classification"
      ]
    },
    {
      "cell_type": "code",
      "execution_count": null,
      "id": "e91d7b88-e444-4c9b-8500-45ca19ab60ac",
      "metadata": {
        "colab": {
          "referenced_widgets": [
            "bd3fbc67699546bc806a29db58beb84c",
            "640d716bc87c4f4db6989e0250b68d59",
            "5c322378f7f241899e7646a583d86434",
            "008f2478c4c24c14ad19c9d65b2b8826",
            "cf361e1372084fd3acdae08ea9e160cf",
            "76961c066f674589a1d05d2dc81dd819",
            "d0abfefbb88c405d80617694e543bbe6",
            "941017c26de14930b830ee7cca9d82dc",
            "44c1ad7128e044a6afadbf03b852ef72",
            "3de145cc8cdd421384471155f17a8154",
            "726eb4b6ccea4bad8464c4f98ea74113"
          ]
        },
        "id": "e91d7b88-e444-4c9b-8500-45ca19ab60ac",
        "outputId": "4607b80b-5cd1-4b14-db0e-643f817fdfba"
      },
      "outputs": [
        {
          "data": {
            "application/vnd.jupyter.widget-view+json": {
              "model_id": "bd3fbc67699546bc806a29db58beb84c",
              "version_major": 2,
              "version_minor": 0
            },
            "text/plain": [
              "Downloading readme:   0%|          | 0.00/2.02k [00:00<?, ?B/s]"
            ]
          },
          "metadata": {},
          "output_type": "display_data"
        },
        {
          "name": "stderr",
          "output_type": "stream",
          "text": [
            "/usr/lib/python3/dist-packages/scipy/__init__.py:146: UserWarning: A NumPy version >=1.17.3 and <1.25.0 is required for this version of SciPy (detected version 1.25.2\n",
            "  warnings.warn(f\"A NumPy version >={np_minversion} and <{np_maxversion}\"\n"
          ]
        },
        {
          "data": {
            "application/vnd.jupyter.widget-view+json": {
              "model_id": "640d716bc87c4f4db6989e0250b68d59",
              "version_major": 2,
              "version_minor": 0
            },
            "text/plain": [
              "Downloading data:   0%|          | 0.00/170M [00:00<?, ?B/s]"
            ]
          },
          "metadata": {},
          "output_type": "display_data"
        },
        {
          "data": {
            "application/vnd.jupyter.widget-view+json": {
              "model_id": "5c322378f7f241899e7646a583d86434",
              "version_major": 2,
              "version_minor": 0
            },
            "text/plain": [
              "Downloading data:   0%|          | 0.00/170M [00:00<?, ?B/s]"
            ]
          },
          "metadata": {},
          "output_type": "display_data"
        },
        {
          "data": {
            "application/vnd.jupyter.widget-view+json": {
              "model_id": "008f2478c4c24c14ad19c9d65b2b8826",
              "version_major": 2,
              "version_minor": 0
            },
            "text/plain": [
              "Downloading data:   0%|          | 0.00/171M [00:00<?, ?B/s]"
            ]
          },
          "metadata": {},
          "output_type": "display_data"
        },
        {
          "data": {
            "application/vnd.jupyter.widget-view+json": {
              "model_id": "cf361e1372084fd3acdae08ea9e160cf",
              "version_major": 2,
              "version_minor": 0
            },
            "text/plain": [
              "Downloading data:   0%|          | 0.00/118M [00:00<?, ?B/s]"
            ]
          },
          "metadata": {},
          "output_type": "display_data"
        },
        {
          "data": {
            "application/vnd.jupyter.widget-view+json": {
              "model_id": "76961c066f674589a1d05d2dc81dd819",
              "version_major": 2,
              "version_minor": 0
            },
            "text/plain": [
              "Downloading data:   0%|          | 0.00/157M [00:00<?, ?B/s]"
            ]
          },
          "metadata": {},
          "output_type": "display_data"
        },
        {
          "data": {
            "application/vnd.jupyter.widget-view+json": {
              "model_id": "d0abfefbb88c405d80617694e543bbe6",
              "version_major": 2,
              "version_minor": 0
            },
            "text/plain": [
              "Downloading data:   0%|          | 0.00/1.11M [00:00<?, ?B/s]"
            ]
          },
          "metadata": {},
          "output_type": "display_data"
        },
        {
          "data": {
            "application/vnd.jupyter.widget-view+json": {
              "model_id": "941017c26de14930b830ee7cca9d82dc",
              "version_major": 2,
              "version_minor": 0
            },
            "text/plain": [
              "Generating train split:   0%|          | 0/265506 [00:00<?, ? examples/s]"
            ]
          },
          "metadata": {},
          "output_type": "display_data"
        },
        {
          "data": {
            "application/vnd.jupyter.widget-view+json": {
              "model_id": "44c1ad7128e044a6afadbf03b852ef72",
              "version_major": 2,
              "version_minor": 0
            },
            "text/plain": [
              "Generating valid split:   0%|          | 0/61274 [00:00<?, ? examples/s]"
            ]
          },
          "metadata": {},
          "output_type": "display_data"
        },
        {
          "data": {
            "application/vnd.jupyter.widget-view+json": {
              "model_id": "3de145cc8cdd421384471155f17a8154",
              "version_major": 2,
              "version_minor": 0
            },
            "text/plain": [
              "Generating test_1 split:   0%|          | 0/81691 [00:00<?, ? examples/s]"
            ]
          },
          "metadata": {},
          "output_type": "display_data"
        },
        {
          "data": {
            "application/vnd.jupyter.widget-view+json": {
              "model_id": "726eb4b6ccea4bad8464c4f98ea74113",
              "version_major": 2,
              "version_minor": 0
            },
            "text/plain": [
              "Generating test_2 split:   0%|          | 0/495 [00:00<?, ? examples/s]"
            ]
          },
          "metadata": {},
          "output_type": "display_data"
        },
        {
          "data": {
            "text/html": [
              "<div>\n",
              "<style scoped>\n",
              "    .dataframe tbody tr th:only-of-type {\n",
              "        vertical-align: middle;\n",
              "    }\n",
              "\n",
              "    .dataframe tbody tr th {\n",
              "        vertical-align: top;\n",
              "    }\n",
              "\n",
              "    .dataframe thead th {\n",
              "        text-align: right;\n",
              "    }\n",
              "</style>\n",
              "<table border=\"1\" class=\"dataframe\">\n",
              "  <thead>\n",
              "    <tr style=\"text-align: right;\">\n",
              "      <th></th>\n",
              "      <th>author</th>\n",
              "      <th>category</th>\n",
              "      <th>category_bn</th>\n",
              "      <th>published_date</th>\n",
              "      <th>modification_date</th>\n",
              "      <th>tag</th>\n",
              "      <th>comment_count</th>\n",
              "      <th>title</th>\n",
              "      <th>url</th>\n",
              "      <th>content</th>\n",
              "      <th>__index_level_0__</th>\n",
              "    </tr>\n",
              "  </thead>\n",
              "  <tbody>\n",
              "    <tr>\n",
              "      <th>0</th>\n",
              "      <td>খেলা ডেস্ক</td>\n",
              "      <td>sports</td>\n",
              "      <td>খেলা</td>\n",
              "      <td>০৮ অক্টোবর ২০১৭, ১৮:২১</td>\n",
              "      <td>০৮ অক্টোবর ২০১৭, ১৯:১২</td>\n",
              "      <td>ক্রিকেট</td>\n",
              "      <td>NaN</td>\n",
              "      <td>‘৬০০’ করতে পারল না বাংলাদেশ</td>\n",
              "      <td>http://www.prothom-alo.com/sports/article/1339886</td>\n",
              "      <td>দক্ষিণ আফ্রিকার ৫৭৩/৪ রানে ইনিংস ঘোষণার জবাবে...</td>\n",
              "      <td>340598</td>\n",
              "    </tr>\n",
              "    <tr>\n",
              "      <th>1</th>\n",
              "      <td>-1</td>\n",
              "      <td>sports</td>\n",
              "      <td>খেলা</td>\n",
              "      <td>২৩ এপ্রিল ২০১৬, ০১:৫০</td>\n",
              "      <td>২৩ এপ্রিল ২০১৬, ০১:৫১</td>\n",
              "      <td>খেলা,আন্তর্জাতিক ক্রিকেট</td>\n",
              "      <td>0.0</td>\n",
              "      <td>খেলার বিনিময়ে ক্ষতিপূরণ</td>\n",
              "      <td>http://www.prothom-alo.com/sports/article/838162</td>\n",
              "      <td>বেতন-ভাতা নিয়ে জটিলতায় ২০১৪ সালে ভারত সফরের ...</td>\n",
              "      <td>222811</td>\n",
              "    </tr>\n",
              "    <tr>\n",
              "      <th>2</th>\n",
              "      <td>-1</td>\n",
              "      <td>sports</td>\n",
              "      <td>খেলা</td>\n",
              "      <td>২৫ নভেম্বর ২০১৫, ০১:৫৪</td>\n",
              "      <td>২৫ নভেম্বর ২০১৫, ০১:৫৫</td>\n",
              "      <td>আন্তর্জাতিক ফুটবল,খেলা</td>\n",
              "      <td>0.0</td>\n",
              "      <td>লাউড্রপের না</td>\n",
              "      <td>http://www.prothom-alo.com/sports/article/693637</td>\n",
              "      <td>২০১৬ ইউরো চ্যাম্পিয়নশিপের চূড়ান্ত পর্বে দলকে ...</td>\n",
              "      <td>177592</td>\n",
              "    </tr>\n",
              "    <tr>\n",
              "      <th>3</th>\n",
              "      <td>উৎপল শুভ্র</td>\n",
              "      <td>sports</td>\n",
              "      <td>খেলা</td>\n",
              "      <td>০৩ ডিসেম্বর ২০১৮, ১৩:২০</td>\n",
              "      <td>০৪ ডিসেম্বর ২০১৮, ১২:০৬</td>\n",
              "      <td>ক্রিকেট,বাংলাদেশ ওয়েস্ট ইন্ডিজ সিরিজ,টেস্ট ক্র...</td>\n",
              "      <td>0.0</td>\n",
              "      <td>মিরপুরে এক টেস্টে দুই প্রাপ্তি</td>\n",
              "      <td>http://www.prothom-alo.com/sports/article/1568079</td>\n",
              "      <td>যখন টেস্টের তৃতীয় দিনের শেষ সেশনের খেলা চলার ক...</td>\n",
              "      <td>384712</td>\n",
              "    </tr>\n",
              "    <tr>\n",
              "      <th>4</th>\n",
              "      <td>-1</td>\n",
              "      <td>sports</td>\n",
              "      <td>খেলা</td>\n",
              "      <td>১১ আগস্ট ২০১৫, ০৩:০১</td>\n",
              "      <td>১১ আগস্ট ২০১৫, ০৩:০২</td>\n",
              "      <td>আন্তর্জাতিক ফুটবল,খেলা</td>\n",
              "      <td>0.0</td>\n",
              "      <td>‘পাগলা’ সান্টো</td>\n",
              "      <td>http://www.prothom-alo.com/sports/article/599491</td>\n",
              "      <td>ফুটবলে গোল উদ্যাপন তো কতভাবেই হয়! এই যুগে ফ্রা...</td>\n",
              "      <td>159094</td>\n",
              "    </tr>\n",
              "  </tbody>\n",
              "</table>\n",
              "</div>"
            ],
            "text/plain": [
              "       author category category_bn           published_date  \\\n",
              "0  খেলা ডেস্ক   sports        খেলা   ০৮ অক্টোবর ২০১৭, ১৮:২১   \n",
              "1          -1   sports        খেলা    ২৩ এপ্রিল ২০১৬, ০১:৫০   \n",
              "2          -1   sports        খেলা   ২৫ নভেম্বর ২০১৫, ০১:৫৪   \n",
              "3  উৎপল শুভ্র   sports        খেলা  ০৩ ডিসেম্বর ২০১৮, ১৩:২০   \n",
              "4          -1   sports        খেলা     ১১ আগস্ট ২০১৫, ০৩:০১   \n",
              "\n",
              "         modification_date                                                tag  \\\n",
              "0   ০৮ অক্টোবর ২০১৭, ১৯:১২                                            ক্রিকেট   \n",
              "1    ২৩ এপ্রিল ২০১৬, ০১:৫১                           খেলা,আন্তর্জাতিক ক্রিকেট   \n",
              "2   ২৫ নভেম্বর ২০১৫, ০১:৫৫                             আন্তর্জাতিক ফুটবল,খেলা   \n",
              "3  ০৪ ডিসেম্বর ২০১৮, ১২:০৬  ক্রিকেট,বাংলাদেশ ওয়েস্ট ইন্ডিজ সিরিজ,টেস্ট ক্র...   \n",
              "4     ১১ আগস্ট ২০১৫, ০৩:০২                             আন্তর্জাতিক ফুটবল,খেলা   \n",
              "\n",
              "   comment_count                           title  \\\n",
              "0            NaN     ‘৬০০’ করতে পারল না বাংলাদেশ   \n",
              "1            0.0        খেলার বিনিময়ে ক্ষতিপূরণ   \n",
              "2            0.0                    লাউড্রপের না   \n",
              "3            0.0  মিরপুরে এক টেস্টে দুই প্রাপ্তি   \n",
              "4            0.0                  ‘পাগলা’ সান্টো   \n",
              "\n",
              "                                                 url  \\\n",
              "0  http://www.prothom-alo.com/sports/article/1339886   \n",
              "1   http://www.prothom-alo.com/sports/article/838162   \n",
              "2   http://www.prothom-alo.com/sports/article/693637   \n",
              "3  http://www.prothom-alo.com/sports/article/1568079   \n",
              "4   http://www.prothom-alo.com/sports/article/599491   \n",
              "\n",
              "                                             content  __index_level_0__  \n",
              "0  দক্ষিণ আফ্রিকার ৫৭৩/৪ রানে ইনিংস ঘোষণার জবাবে...             340598  \n",
              "1  বেতন-ভাতা নিয়ে জটিলতায় ২০১৪ সালে ভারত সফরের ...             222811  \n",
              "2  ২০১৬ ইউরো চ্যাম্পিয়নশিপের চূড়ান্ত পর্বে দলকে ...             177592  \n",
              "3  যখন টেস্টের তৃতীয় দিনের শেষ সেশনের খেলা চলার ক...             384712  \n",
              "4  ফুটবলে গোল উদ্যাপন তো কতভাবেই হয়! এই যুগে ফ্রা...             159094  "
            ]
          },
          "execution_count": 9,
          "metadata": {},
          "output_type": "execute_result"
        }
      ],
      "source": [
        "## classification\n",
        "\n",
        "import pandas as pd\n",
        "from datasets import load_dataset\n",
        "\n",
        "# Load the dataset\n",
        "dataset = load_dataset('zabir-nabil/bangla_newspaper_dataset')\n",
        "\n",
        "# Convert to pandas dataframe\n",
        "df = dataset['test_2'].to_pandas()\n",
        "\n",
        "# Display the dataframe\n",
        "df.head()"
      ]
    },
    {
      "cell_type": "code",
      "execution_count": null,
      "id": "8083493c-7598-4f61-8fd3-ae267cfe205b",
      "metadata": {
        "id": "8083493c-7598-4f61-8fd3-ae267cfe205b"
      },
      "outputs": [],
      "source": [
        "zero_shot = \"\"\"আপনাকে বাংলা সংবাদপত্রের নিবন্ধগুলির একটি ডেটাসেট দেওয়া হয়েছে। আপনার কাজ হলো প্রতিটি নিবন্ধকে তার বিষয়বস্তু অনুযায়ী পূর্বনির্ধারিত ক্যাটাগরি / বিভাগগুলির একটিতে শ্রেণীবদ্ধ করা।\n",
        "\n",
        "পূর্বনির্ধারিত ক্যাটাগরি / বিভাগগুলি হলো:\n",
        "১. বাংলাদেশ\n",
        "২. খেলা\n",
        "৩. প্রযুক্তি\n",
        "৪. বিনোদন\n",
        "৫. আন্তর্জাতিক\n",
        "৬. অর্থনীতি\n",
        "৭. জীবনধারা\n",
        "৮. মতামত\n",
        "৯. শিক্ষা\n",
        "\n",
        "\"\"\""
      ]
    },
    {
      "cell_type": "code",
      "execution_count": null,
      "id": "ee320933-7d43-4d84-a63d-6c9634418af0",
      "metadata": {
        "id": "ee320933-7d43-4d84-a63d-6c9634418af0"
      },
      "outputs": [],
      "source": [
        "three_shot = \"\"\"আপনাকে বাংলা সংবাদপত্রের নিবন্ধগুলির একটি ডেটাসেট দেওয়া হয়েছে। আপনার কাজ হলো প্রতিটি নিবন্ধকে তার বিষয়বস্তু অনুযায়ী পূর্বনির্ধারিত ক্যাটাগরি / বিভাগগুলির একটিতে শ্রেণীবদ্ধ করা।\n",
        "\n",
        "পূর্বনির্ধারিত ক্যাটাগরি / বিভাগগুলি হলো:\n",
        "১. বাংলাদেশ\n",
        "২. খেলা\n",
        "৩. প্রযুক্তি\n",
        "৪. বিনোদন\n",
        "৫. আন্তর্জাতিক\n",
        "৬. অর্থনীতি\n",
        "৭. জীবনধারা\n",
        "৮. মতামত\n",
        "৯. শিক্ষা\n",
        "\n",
        "### উদাহরণ ১\n",
        "নিবন্ধের বিষয়বস্তু:\n",
        "'গাজীপুরের কালিয়াকৈর উপজেলার তেলিরচালা এলাকায় আজ বৃহস্পতিবার রাতের টিফিন খেয়ে একটি পোশাক কারখানার ৫০০ শ্রমিক অসুস্থ হয়ে পড়েছেন। এ ঘটনায় বিক্ষোভ করেছেন ওই কারখানার শ্রমিকেরা...'\n",
        "প্রেডিক্টেড ক্যাটাগরি: 'বাংলাদেশ'\n",
        "\n",
        "### উদাহরণ ২\n",
        "নিবন্ধের বিষয়বস্তু:\n",
        "'মেসি তার দুর্দান্ত পারফরম্যান্সের মাধ্যমে আবারও সবার মন জয় করে নিলেন। আজকের ম্যাচে তিনি দুইটি গোল করেছেন এবং একটি অ্যাসিস্ট দিয়েছেন।'\n",
        "প্রেডিক্টেড ক্যাটাগরি: 'খেলা'\n",
        "\n",
        "### উদাহরণ ৩\n",
        "নিবন্ধের বিষয়বস্তু:\n",
        "'এখন ভ্রমণের সময়। কিছু যন্ত্র ব্যাকপ্যাকে না থাকলে অনেক যন্ত্রণা! এক মোবাইল ফোনেই ক্যামেরা, কম্পাস, স্পিকার, মানচিত্র থেকে শুরু করে টর্চলাইটের সুবিধা অবশ্য মেলে।'\n",
        "প্রেডিক্টেড ক্যাটাগরি: 'প্রযুক্তি'\n",
        "\n",
        "### আপনার কাজ:\n",
        "\n",
        "\"\"\""
      ]
    },
    {
      "cell_type": "code",
      "execution_count": null,
      "id": "378d346b-ffe1-4b5e-8768-aa09ea4383de",
      "metadata": {
        "id": "378d346b-ffe1-4b5e-8768-aa09ea4383de"
      },
      "outputs": [],
      "source": [
        "chain_of_thought = \"\"\"আপনাকে বাংলা সংবাদপত্রের নিবন্ধগুলির একটি ডেটাসেট দেওয়া হয়েছে। আপনার কাজ হলো প্রতিটি নিবন্ধকে তার বিষয়বস্তু অনুযায়ী পূর্বনির্ধারিত ক্যাটাগরি / বিভাগগুলির একটিতে শ্রেণীবদ্ধ করা।\n",
        "\n",
        "পূর্বনির্ধারিত ক্যাটাগরি / বিভাগগুলি হলো:\n",
        "১. বাংলাদেশ\n",
        "২. খেলা\n",
        "৩. প্রযুক্তি\n",
        "৪. বিনোদন\n",
        "৫. আন্তর্জাতিক\n",
        "৬. অর্থনীতি\n",
        "৭. জীবনধারা\n",
        "৮. মতামত\n",
        "৯. শিক্ষা\n",
        "\n",
        "প্রতিটি নিবন্ধের বিষয়বস্তু বিশ্লেষণ করার সময় নিম্নলিখিত ধাপগুলি অনুসরণ করুন:\n",
        "\n",
        "### ধাপ ১: নিবন্ধের মূল বিষয়বস্তু বোঝা\n",
        "নিবন্ধের বিষয়বস্তু পড়ুন এবং এর মূল বিষয় বা ঘটনাটি বোঝার চেষ্টা করুন। এটি একটি সংবাদ ঘটনা, খেলার আপডেট, প্রযুক্তির খবর, বিনোদনের খবর, আন্তর্জাতিক খবর, অর্থনৈতিক আপডেট, জীবনধারার টিপস, মতামত বা শিক্ষার খবর হতে পারে।\n",
        "\n",
        "### ধাপ ২: মূল থিম নির্ধারণ\n",
        "নিবন্ধের প্রধান থিম বা বিষয়টি নির্ধারণ করুন। এটি নিবন্ধের শিরোনাম এবং প্রথম কয়েকটি বাক্য পড়ে সহজেই বোঝা যায়।\n",
        "\n",
        "### ধাপ ৩: বিভাগ মিলান\n",
        "নিবন্ধের প্রধান থিমের সাথে পূর্বনির্ধারিত বিভাগগুলির একটি মিলান করুন। নিশ্চিত হন যে বিভাগটি নিবন্ধের মূল বিষয়ের সাথে সুসঙ্গত।\n",
        "\n",
        "### উদাহরণ ১\n",
        "নিবন্ধের বিষয়বস্তু:\n",
        "'গাজীপুরের কালিয়াকৈর উপজেলার তেলিরচালা এলাকায় আজ বৃহস্পতিবার রাতের টিফিন খেয়ে একটি পোশাক কারখানার ৫০০ শ্রমিক অসুস্থ হয়ে পড়েছেন। এ ঘটনায় বিক্ষোভ করেছেন ওই কারখানার শ্রমিকেরা...'\n",
        "\n",
        "#### চিন্তাধারা:\n",
        "- মূল বিষয়বস্তু: পোশাক কারখানার শ্রমিকদের অসুস্থতা এবং বিক্ষোভ\n",
        "- মূল থিম: স্থানীয় বাংলাদেশি সংবাদ\n",
        "- বিভাগ মিলান: বাংলাদেশ\n",
        "\n",
        "প্রেডিক্টেড ক্যাটাগরি: 'বাংলাদেশ'\n",
        "\n",
        "### উদাহরণ ২\n",
        "নিবন্ধের বিষয়বস্তু:\n",
        "'মেসি তার দুর্দান্ত পারফরম্যান্সের মাধ্যমে আবারও সবার মন জয় করে নিলেন। আজকের ম্যাচে তিনি দুইটি গোল করেছেন এবং একটি অ্যাসিস্ট দিয়েছেন।'\n",
        "\n",
        "#### চিন্তাধারা:\n",
        "- মূল বিষয়বস্তু: মেসির পারফরম্যান্স এবং খেলার ফলাফল\n",
        "- মূল থিম: খেলাধুলার খবর\n",
        "- বিভাগ মিলান: খেলা\n",
        "\n",
        "প্রেডিক্টেড ক্যাটাগরি: 'খেলা'\n",
        "\n",
        "### উদাহরণ ৩\n",
        "নিবন্ধের বিষয়বস্তু:\n",
        "'এখন ভ্রমণের সময়। কিছু যন্ত্র ব্যাকপ্যাকে না থাকলে অনেক যন্ত্রণা! এক মোবাইল ফোনেই ক্যামেরা, কম্পাস, স্পিকার, মানচিত্র থেকে শুরু করে টর্চলাইটের সুবিধা অবশ্য মেলে।'\n",
        "\n",
        "#### চিন্তাধারা:\n",
        "- মূল বিষয়বস্তু: মোবাইল ফোন ও গ্যাজেট\n",
        "- মূল থিম: প্রযুক্তির খবর\n",
        "- বিভাগ মিলান: প্রযুক্তি\n",
        "\n",
        "প্রেডিক্টেড ক্যাটাগরি: 'প্রযুক্তি'\n",
        "\n",
        "### আপনার কাজ:\n",
        "\n",
        "\"\"\""
      ]
    },
    {
      "cell_type": "code",
      "execution_count": null,
      "id": "25795b6d-454d-4c7b-aa80-df9e2ab390c7",
      "metadata": {
        "id": "25795b6d-454d-4c7b-aa80-df9e2ab390c7"
      },
      "outputs": [],
      "source": [
        "category_translation = {\n",
        "    'bangladesh': 'বাংলাদেশ',\n",
        "    'sports': 'খেলা',\n",
        "    'technology': 'প্রযুক্তি',\n",
        "    'entertainment': 'বিনোদন',\n",
        "    'international': 'আন্তর্জাতিক',\n",
        "    'economy': 'অর্থনীতি',\n",
        "    'life-style': 'জীবনধারা',\n",
        "    'opinion': 'মতামত',\n",
        "    'education': 'শিক্ষা'\n",
        "}"
      ]
    },
    {
      "cell_type": "code",
      "execution_count": null,
      "id": "YK0x3Vy6WCoC",
      "metadata": {
        "id": "YK0x3Vy6WCoC"
      },
      "outputs": [],
      "source": [
        "get_aya_output(\"৫ জন বাংলাদেশি বিখ্যাত কবির নাম বল?\")"
      ]
    },
    {
      "cell_type": "markdown",
      "id": "3bde44dd-63f6-4ed2-90b9-573560c702b8",
      "metadata": {
        "id": "3bde44dd-63f6-4ed2-90b9-573560c702b8"
      },
      "source": [
        "### Zero Shot"
      ]
    },
    {
      "cell_type": "code",
      "execution_count": null,
      "id": "4772b87f-b3a5-47c7-a960-db49b06ffac6",
      "metadata": {
        "colab": {
          "referenced_widgets": [
            "5399e80f39124978bdadba23b2d1e6c1"
          ]
        },
        "id": "4772b87f-b3a5-47c7-a960-db49b06ffac6",
        "outputId": "04d1a492-cab9-4c54-9f0a-cff08b95166c"
      },
      "outputs": [
        {
          "data": {
            "application/vnd.jupyter.widget-view+json": {
              "model_id": "5399e80f39124978bdadba23b2d1e6c1",
              "version_major": 2,
              "version_minor": 0
            },
            "text/plain": [
              "  0%|          | 0/495 [00:00<?, ?it/s]"
            ]
          },
          "metadata": {},
          "output_type": "display_data"
        },
        {
          "name": "stdout",
          "output_type": "stream",
          "text": [
            "Error at index 179: CUDA out of memory. Tried to allocate 7.16 GiB (GPU 0; 39.39 GiB total capacity; 38.60 GiB already allocated; 101.94 MiB free; 38.79 GiB reserved in total by PyTorch) If reserved memory is >> allocated memory try setting max_split_size_mb to avoid fragmentation.  See documentation for Memory Management and PYTORCH_CUDA_ALLOC_CONF\n",
            "Error at index 189: CUDA out of memory. Tried to allocate 9.30 GiB (GPU 0; 39.39 GiB total capacity; 34.88 GiB already allocated; 3.95 GiB free; 34.93 GiB reserved in total by PyTorch) If reserved memory is >> allocated memory try setting max_split_size_mb to avoid fragmentation.  See documentation for Memory Management and PYTORCH_CUDA_ALLOC_CONF\n",
            "Error at index 196: CUDA out of memory. Tried to allocate 6.96 GiB (GPU 0; 39.39 GiB total capacity; 31.24 GiB already allocated; 1.63 GiB free; 37.25 GiB reserved in total by PyTorch) If reserved memory is >> allocated memory try setting max_split_size_mb to avoid fragmentation.  See documentation for Memory Management and PYTORCH_CUDA_ALLOC_CONF\n",
            "Error at index 204: CUDA out of memory. Tried to allocate 4.08 GiB (GPU 0; 39.39 GiB total capacity; 32.39 GiB already allocated; 1.63 GiB free; 37.25 GiB reserved in total by PyTorch) If reserved memory is >> allocated memory try setting max_split_size_mb to avoid fragmentation.  See documentation for Memory Management and PYTORCH_CUDA_ALLOC_CONF\n",
            "Error at index 262: CUDA out of memory. Tried to allocate 4.78 GiB (GPU 0; 39.39 GiB total capacity; 29.02 GiB already allocated; 1.63 GiB free; 37.25 GiB reserved in total by PyTorch) If reserved memory is >> allocated memory try setting max_split_size_mb to avoid fragmentation.  See documentation for Memory Management and PYTORCH_CUDA_ALLOC_CONF\n",
            "Error at index 379: CUDA out of memory. Tried to allocate 5.64 GiB (GPU 0; 39.39 GiB total capacity; 29.90 GiB already allocated; 1.63 GiB free; 37.25 GiB reserved in total by PyTorch) If reserved memory is >> allocated memory try setting max_split_size_mb to avoid fragmentation.  See documentation for Memory Management and PYTORCH_CUDA_ALLOC_CONF\n"
          ]
        }
      ],
      "source": [
        "import time\n",
        "from tqdm.notebook import tqdm\n",
        "\n",
        "# Assuming df is the original DataFrame and category_translation is defined\n",
        "df['predicted_category'] = None\n",
        "\n",
        "# Try to load the progress from the Parquet file\n",
        "try:\n",
        "    df_progress = pd.read_parquet('aya_101_zs_classification_results.parquet')\n",
        "    start_index = df_progress['predicted_category'].last_valid_index() + 1\n",
        "except (FileNotFoundError, ValueError):\n",
        "    df_progress = df.copy()\n",
        "    start_index = 0\n",
        "\n",
        "\n",
        "for i, row in tqdm(df.iloc[start_index:].iterrows(), initial=start_index, total=len(df) - start_index):\n",
        "    news = row['content']\n",
        "    label = row['category']\n",
        "    label_bn = category_translation.get(label, label)  # Use the translated label or fallback to the original\n",
        "\n",
        "    prompt_input = zero_shot + \" নিবন্ধের বিষয়বস্তু: \" + news + \"\\nপ্রেডিক্টেড ক্যাটাগরি:\"\n",
        "\n",
        "    try:\n",
        "        df.at[i, 'predicted_category'] = get_aya_output(prompt_input)\n",
        "    except Exception as e:\n",
        "        print(f\"Error at index {i}: {e}\")\n",
        "        time.sleep(5)\n",
        "\n",
        "    if (i + 1) % 100 == 0:\n",
        "        df.to_parquet('aya_101_zs_classification_results.parquet')\n",
        "\n",
        "# Save final progress\n",
        "df.to_parquet('aya_101_zs_classification_results.parquet')"
      ]
    },
    {
      "cell_type": "code",
      "execution_count": null,
      "id": "f9d7f67c-5f29-4c85-a421-12289baec48e",
      "metadata": {
        "id": "f9d7f67c-5f29-4c85-a421-12289baec48e",
        "outputId": "fd309b9c-7a13-424a-dbbd-0f5f67ca5ae9"
      },
      "outputs": [
        {
          "data": {
            "text/html": [
              "<div>\n",
              "<style scoped>\n",
              "    .dataframe tbody tr th:only-of-type {\n",
              "        vertical-align: middle;\n",
              "    }\n",
              "\n",
              "    .dataframe tbody tr th {\n",
              "        vertical-align: top;\n",
              "    }\n",
              "\n",
              "    .dataframe thead th {\n",
              "        text-align: right;\n",
              "    }\n",
              "</style>\n",
              "<table border=\"1\" class=\"dataframe\">\n",
              "  <thead>\n",
              "    <tr style=\"text-align: right;\">\n",
              "      <th></th>\n",
              "      <th>author</th>\n",
              "      <th>category</th>\n",
              "      <th>category_bn</th>\n",
              "      <th>published_date</th>\n",
              "      <th>modification_date</th>\n",
              "      <th>tag</th>\n",
              "      <th>comment_count</th>\n",
              "      <th>title</th>\n",
              "      <th>url</th>\n",
              "      <th>content</th>\n",
              "      <th>__index_level_0__</th>\n",
              "      <th>predicted_category</th>\n",
              "    </tr>\n",
              "  </thead>\n",
              "  <tbody>\n",
              "    <tr>\n",
              "      <th>0</th>\n",
              "      <td>খেলা ডেস্ক</td>\n",
              "      <td>sports</td>\n",
              "      <td>খেলা</td>\n",
              "      <td>০৮ অক্টোবর ২০১৭, ১৮:২১</td>\n",
              "      <td>০৮ অক্টোবর ২০১৭, ১৯:১২</td>\n",
              "      <td>ক্রিকেট</td>\n",
              "      <td>NaN</td>\n",
              "      <td>‘৬০০’ করতে পারল না বাংলাদেশ</td>\n",
              "      <td>http://www.prothom-alo.com/sports/article/1339886</td>\n",
              "      <td>দক্ষিণ আফ্রিকার ৫৭৩/৪ রানে ইনিংস ঘোষণার জবাবে...</td>\n",
              "      <td>340598</td>\n",
              "      <td>২. খেলা</td>\n",
              "    </tr>\n",
              "    <tr>\n",
              "      <th>1</th>\n",
              "      <td>-1</td>\n",
              "      <td>sports</td>\n",
              "      <td>খেলা</td>\n",
              "      <td>২৩ এপ্রিল ২০১৬, ০১:৫০</td>\n",
              "      <td>২৩ এপ্রিল ২০১৬, ০১:৫১</td>\n",
              "      <td>খেলা,আন্তর্জাতিক ক্রিকেট</td>\n",
              "      <td>0.0</td>\n",
              "      <td>খেলার বিনিময়ে ক্ষতিপূরণ</td>\n",
              "      <td>http://www.prothom-alo.com/sports/article/838162</td>\n",
              "      <td>বেতন-ভাতা নিয়ে জটিলতায় ২০১৪ সালে ভারত সফরের ...</td>\n",
              "      <td>222811</td>\n",
              "      <td>খেলা</td>\n",
              "    </tr>\n",
              "    <tr>\n",
              "      <th>2</th>\n",
              "      <td>-1</td>\n",
              "      <td>sports</td>\n",
              "      <td>খেলা</td>\n",
              "      <td>২৫ নভেম্বর ২০১৫, ০১:৫৪</td>\n",
              "      <td>২৫ নভেম্বর ২০১৫, ০১:৫৫</td>\n",
              "      <td>আন্তর্জাতিক ফুটবল,খেলা</td>\n",
              "      <td>0.0</td>\n",
              "      <td>লাউড্রপের না</td>\n",
              "      <td>http://www.prothom-alo.com/sports/article/693637</td>\n",
              "      <td>২০১৬ ইউরো চ্যাম্পিয়নশিপের চূড়ান্ত পর্বে দলকে ...</td>\n",
              "      <td>177592</td>\n",
              "      <td>খেলা</td>\n",
              "    </tr>\n",
              "    <tr>\n",
              "      <th>3</th>\n",
              "      <td>উৎপল শুভ্র</td>\n",
              "      <td>sports</td>\n",
              "      <td>খেলা</td>\n",
              "      <td>০৩ ডিসেম্বর ২০১৮, ১৩:২০</td>\n",
              "      <td>০৪ ডিসেম্বর ২০১৮, ১২:০৬</td>\n",
              "      <td>ক্রিকেট,বাংলাদেশ ওয়েস্ট ইন্ডিজ সিরিজ,টেস্ট ক্র...</td>\n",
              "      <td>0.0</td>\n",
              "      <td>মিরপুরে এক টেস্টে দুই প্রাপ্তি</td>\n",
              "      <td>http://www.prothom-alo.com/sports/article/1568079</td>\n",
              "      <td>যখন টেস্টের তৃতীয় দিনের শেষ সেশনের খেলা চলার ক...</td>\n",
              "      <td>384712</td>\n",
              "      <td>খেলা</td>\n",
              "    </tr>\n",
              "    <tr>\n",
              "      <th>4</th>\n",
              "      <td>-1</td>\n",
              "      <td>sports</td>\n",
              "      <td>খেলা</td>\n",
              "      <td>১১ আগস্ট ২০১৫, ০৩:০১</td>\n",
              "      <td>১১ আগস্ট ২০১৫, ০৩:০২</td>\n",
              "      <td>আন্তর্জাতিক ফুটবল,খেলা</td>\n",
              "      <td>0.0</td>\n",
              "      <td>‘পাগলা’ সান্টো</td>\n",
              "      <td>http://www.prothom-alo.com/sports/article/599491</td>\n",
              "      <td>ফুটবলে গোল উদ্যাপন তো কতভাবেই হয়! এই যুগে ফ্রা...</td>\n",
              "      <td>159094</td>\n",
              "      <td>২. খেলা</td>\n",
              "    </tr>\n",
              "  </tbody>\n",
              "</table>\n",
              "</div>"
            ],
            "text/plain": [
              "       author category category_bn           published_date  \\\n",
              "0  খেলা ডেস্ক   sports        খেলা   ০৮ অক্টোবর ২০১৭, ১৮:২১   \n",
              "1          -1   sports        খেলা    ২৩ এপ্রিল ২০১৬, ০১:৫০   \n",
              "2          -1   sports        খেলা   ২৫ নভেম্বর ২০১৫, ০১:৫৪   \n",
              "3  উৎপল শুভ্র   sports        খেলা  ০৩ ডিসেম্বর ২০১৮, ১৩:২০   \n",
              "4          -1   sports        খেলা     ১১ আগস্ট ২০১৫, ০৩:০১   \n",
              "\n",
              "         modification_date                                                tag  \\\n",
              "0   ০৮ অক্টোবর ২০১৭, ১৯:১২                                            ক্রিকেট   \n",
              "1    ২৩ এপ্রিল ২০১৬, ০১:৫১                           খেলা,আন্তর্জাতিক ক্রিকেট   \n",
              "2   ২৫ নভেম্বর ২০১৫, ০১:৫৫                             আন্তর্জাতিক ফুটবল,খেলা   \n",
              "3  ০৪ ডিসেম্বর ২০১৮, ১২:০৬  ক্রিকেট,বাংলাদেশ ওয়েস্ট ইন্ডিজ সিরিজ,টেস্ট ক্র...   \n",
              "4     ১১ আগস্ট ২০১৫, ০৩:০২                             আন্তর্জাতিক ফুটবল,খেলা   \n",
              "\n",
              "   comment_count                           title  \\\n",
              "0            NaN     ‘৬০০’ করতে পারল না বাংলাদেশ   \n",
              "1            0.0        খেলার বিনিময়ে ক্ষতিপূরণ   \n",
              "2            0.0                    লাউড্রপের না   \n",
              "3            0.0  মিরপুরে এক টেস্টে দুই প্রাপ্তি   \n",
              "4            0.0                  ‘পাগলা’ সান্টো   \n",
              "\n",
              "                                                 url  \\\n",
              "0  http://www.prothom-alo.com/sports/article/1339886   \n",
              "1   http://www.prothom-alo.com/sports/article/838162   \n",
              "2   http://www.prothom-alo.com/sports/article/693637   \n",
              "3  http://www.prothom-alo.com/sports/article/1568079   \n",
              "4   http://www.prothom-alo.com/sports/article/599491   \n",
              "\n",
              "                                             content  __index_level_0__  \\\n",
              "0  দক্ষিণ আফ্রিকার ৫৭৩/৪ রানে ইনিংস ঘোষণার জবাবে...             340598   \n",
              "1  বেতন-ভাতা নিয়ে জটিলতায় ২০১৪ সালে ভারত সফরের ...             222811   \n",
              "2  ২০১৬ ইউরো চ্যাম্পিয়নশিপের চূড়ান্ত পর্বে দলকে ...             177592   \n",
              "3  যখন টেস্টের তৃতীয় দিনের শেষ সেশনের খেলা চলার ক...             384712   \n",
              "4  ফুটবলে গোল উদ্যাপন তো কতভাবেই হয়! এই যুগে ফ্রা...             159094   \n",
              "\n",
              "  predicted_category  \n",
              "0            ২. খেলা  \n",
              "1               খেলা  \n",
              "2               খেলা  \n",
              "3               খেলা  \n",
              "4            ২. খেলা  "
            ]
          },
          "execution_count": 17,
          "metadata": {},
          "output_type": "execute_result"
        }
      ],
      "source": [
        "zs_results = pd.read_parquet(\"aya_101_zs_classification_results.parquet\")\n",
        "zs_results.head()"
      ]
    },
    {
      "cell_type": "code",
      "execution_count": null,
      "id": "112bf634-c2d3-4da3-aaaf-7d230572145c",
      "metadata": {
        "id": "112bf634-c2d3-4da3-aaaf-7d230572145c",
        "outputId": "43fbb9aa-dc88-4b6a-ad14-b443b377abe9"
      },
      "outputs": [
        {
          "data": {
            "text/html": [
              "<div>\n",
              "<style scoped>\n",
              "    .dataframe tbody tr th:only-of-type {\n",
              "        vertical-align: middle;\n",
              "    }\n",
              "\n",
              "    .dataframe tbody tr th {\n",
              "        vertical-align: top;\n",
              "    }\n",
              "\n",
              "    .dataframe thead th {\n",
              "        text-align: right;\n",
              "    }\n",
              "</style>\n",
              "<table border=\"1\" class=\"dataframe\">\n",
              "  <thead>\n",
              "    <tr style=\"text-align: right;\">\n",
              "      <th></th>\n",
              "      <th>author</th>\n",
              "      <th>category</th>\n",
              "      <th>category_bn</th>\n",
              "      <th>published_date</th>\n",
              "      <th>modification_date</th>\n",
              "      <th>tag</th>\n",
              "      <th>comment_count</th>\n",
              "      <th>title</th>\n",
              "      <th>url</th>\n",
              "      <th>content</th>\n",
              "      <th>__index_level_0__</th>\n",
              "      <th>predicted_category</th>\n",
              "    </tr>\n",
              "  </thead>\n",
              "  <tbody>\n",
              "    <tr>\n",
              "      <th>490</th>\n",
              "      <td>ইকবাল খান, শিক্ষক</td>\n",
              "      <td>education</td>\n",
              "      <td>শিক্ষা</td>\n",
              "      <td>০৫ মার্চ ২০১৪, ০০:৪৭</td>\n",
              "      <td>০৫ মার্চ ২০১৪, ০০:৪৮</td>\n",
              "      <td>পড়াশোনা</td>\n",
              "      <td>0.0</td>\n",
              "      <td>ই ং রে জি</td>\n",
              "      <td>http://www.prothom-alo.com/education/article/1...</td>\n",
              "      <td>আনসিন প্যাসেজ প্রিয় শিক্ষার্থী, আজ রয়েছে একটি...</td>\n",
              "      <td>56033</td>\n",
              "      <td>শিক্ষা</td>\n",
              "    </tr>\n",
              "    <tr>\n",
              "      <th>491</th>\n",
              "      <td>মোহাম্মদ হেদায়েত উল্যাহ</td>\n",
              "      <td>education</td>\n",
              "      <td>শিক্ষা</td>\n",
              "      <td>২২ মার্চ ২০১৪, ০০:৩৩</td>\n",
              "      <td>২২ মার্চ ২০১৪, ০০:৩৫</td>\n",
              "      <td>পড়াশোনা</td>\n",
              "      <td>0.0</td>\n",
              "      <td>স মা জ বি জ্ঞা ন ১ ম প ত্র</td>\n",
              "      <td>http://www.prothom-alo.com/education/article/1...</td>\n",
              "      <td>বহুনির্বাচনি প্রশ্নোত্তর প্রিয় শিক্ষার্থী, আজ...</td>\n",
              "      <td>60214</td>\n",
              "      <td>শিক্ষা</td>\n",
              "    </tr>\n",
              "    <tr>\n",
              "      <th>492</th>\n",
              "      <td>বাদল চৌধুরী</td>\n",
              "      <td>education</td>\n",
              "      <td>শিক্ষা</td>\n",
              "      <td>০৮ জুলাই ২০১৩, ০০:৪৮</td>\n",
              "      <td>০৮ জুলাই ২০১৩, ০০:৫০</td>\n",
              "      <td>পড়াশোনা</td>\n",
              "      <td>0.0</td>\n",
              "      <td>জুনিয়র স্কুল সার্টিফিকেট পরীক্ষার প্রস্তুতি</td>\n",
              "      <td>http://www.prothom-alo.com/education/article/2...</td>\n",
              "      <td>প্রিয় জেএসসি পরীক্ষার্থী, শুভেচ্ছা রইল। জাতীয...</td>\n",
              "      <td>1167</td>\n",
              "      <td>শিক্ষা</td>\n",
              "    </tr>\n",
              "    <tr>\n",
              "      <th>493</th>\n",
              "      <td>মারুফ ইসলাম</td>\n",
              "      <td>education</td>\n",
              "      <td>শিক্ষা</td>\n",
              "      <td>২৫ আগস্ট ২০১৩, ০০:১১</td>\n",
              "      <td>২৫ আগস্ট ২০১৩, ০০:১৬</td>\n",
              "      <td>স্বপ্ন নিয়ে,শিক্ষাঙ্গন</td>\n",
              "      <td>0.0</td>\n",
              "      <td>বিতর্ক করতে মালয়েশিয়া</td>\n",
              "      <td>http://www.prothom-alo.com/education/article/4...</td>\n",
              "      <td>সাত রাউন্ড শেষে তিনটি করে জয় নিশ্চিত করে ঢাকা...</td>\n",
              "      <td>11829</td>\n",
              "      <td>৯ |</td>\n",
              "    </tr>\n",
              "    <tr>\n",
              "      <th>494</th>\n",
              "      <td>মো. জসিম উদ্দীন বিশ্বাস</td>\n",
              "      <td>education</td>\n",
              "      <td>শিক্ষা</td>\n",
              "      <td>০৫ মে ২০১৪, ০১:৪৩</td>\n",
              "      <td>০৫ মে ২০১৪, ০১:৪৫</td>\n",
              "      <td>পড়াশোনা</td>\n",
              "      <td>0.0</td>\n",
              "      <td>ইংরেজি ২য় পত্র</td>\n",
              "      <td>http://www.prothom-alo.com/education/article/2...</td>\n",
              "      <td>The Prepositionপ্রিয় শিক্ষার্থীরা, আজ ইংরেজি ২...</td>\n",
              "      <td>70843</td>\n",
              "      <td>শিক্ষা</td>\n",
              "    </tr>\n",
              "  </tbody>\n",
              "</table>\n",
              "</div>"
            ],
            "text/plain": [
              "                      author   category category_bn        published_date  \\\n",
              "490        ইকবাল খান, শিক্ষক  education      শিক্ষা  ০৫ মার্চ ২০১৪, ০০:৪৭   \n",
              "491  মোহাম্মদ হেদায়েত উল্যাহ  education      শিক্ষা  ২২ মার্চ ২০১৪, ০০:৩৩   \n",
              "492              বাদল চৌধুরী  education      শিক্ষা  ০৮ জুলাই ২০১৩, ০০:৪৮   \n",
              "493              মারুফ ইসলাম  education      শিক্ষা  ২৫ আগস্ট ২০১৩, ০০:১১   \n",
              "494  মো. জসিম উদ্দীন বিশ্বাস  education      শিক্ষা     ০৫ মে ২০১৪, ০১:৪৩   \n",
              "\n",
              "        modification_date                     tag  comment_count  \\\n",
              "490  ০৫ মার্চ ২০১৪, ০০:৪৮                 পড়াশোনা            0.0   \n",
              "491  ২২ মার্চ ২০১৪, ০০:৩৫                 পড়াশোনা            0.0   \n",
              "492  ০৮ জুলাই ২০১৩, ০০:৫০                 পড়াশোনা            0.0   \n",
              "493  ২৫ আগস্ট ২০১৩, ০০:১৬  স্বপ্ন নিয়ে,শিক্ষাঙ্গন            0.0   \n",
              "494     ০৫ মে ২০১৪, ০১:৪৫                 পড়াশোনা            0.0   \n",
              "\n",
              "                                            title  \\\n",
              "490                                     ই ং রে জি   \n",
              "491                    স মা জ বি জ্ঞা ন ১ ম প ত্র   \n",
              "492  জুনিয়র স্কুল সার্টিফিকেট পরীক্ষার প্রস্তুতি   \n",
              "493                       বিতর্ক করতে মালয়েশিয়া   \n",
              "494                                ইংরেজি ২য় পত্র   \n",
              "\n",
              "                                                   url  \\\n",
              "490  http://www.prothom-alo.com/education/article/1...   \n",
              "491  http://www.prothom-alo.com/education/article/1...   \n",
              "492  http://www.prothom-alo.com/education/article/2...   \n",
              "493  http://www.prothom-alo.com/education/article/4...   \n",
              "494  http://www.prothom-alo.com/education/article/2...   \n",
              "\n",
              "                                               content  __index_level_0__  \\\n",
              "490  আনসিন প্যাসেজ প্রিয় শিক্ষার্থী, আজ রয়েছে একটি...              56033   \n",
              "491  বহুনির্বাচনি প্রশ্নোত্তর প্রিয় শিক্ষার্থী, আজ...              60214   \n",
              "492  প্রিয় জেএসসি পরীক্ষার্থী, শুভেচ্ছা রইল। জাতীয...               1167   \n",
              "493  সাত রাউন্ড শেষে তিনটি করে জয় নিশ্চিত করে ঢাকা...              11829   \n",
              "494  The Prepositionপ্রিয় শিক্ষার্থীরা, আজ ইংরেজি ২...              70843   \n",
              "\n",
              "    predicted_category  \n",
              "490             শিক্ষা  \n",
              "491             শিক্ষা  \n",
              "492             শিক্ষা  \n",
              "493                ৯ |  \n",
              "494             শিক্ষা  "
            ]
          },
          "execution_count": 18,
          "metadata": {},
          "output_type": "execute_result"
        }
      ],
      "source": [
        "zs_results.tail()"
      ]
    },
    {
      "cell_type": "code",
      "execution_count": null,
      "id": "7a746aa6-9937-4d25-87b4-5c8e57cfb9fe",
      "metadata": {
        "id": "7a746aa6-9937-4d25-87b4-5c8e57cfb9fe"
      },
      "outputs": [],
      "source": [
        "# Empty the GPU cache\n",
        "torch.cuda.empty_cache()"
      ]
    },
    {
      "cell_type": "markdown",
      "id": "d11f4ce2-e22c-4a06-9882-2e20bfd3503d",
      "metadata": {
        "id": "d11f4ce2-e22c-4a06-9882-2e20bfd3503d"
      },
      "source": [
        "### Three Shot"
      ]
    },
    {
      "cell_type": "code",
      "execution_count": null,
      "id": "548ccd9a-5ff2-4df9-8eb8-ded4786ff32c",
      "metadata": {
        "colab": {
          "referenced_widgets": [
            "6a62de14de1e4dbb8d5252b5173f28c8"
          ]
        },
        "id": "548ccd9a-5ff2-4df9-8eb8-ded4786ff32c",
        "outputId": "df242204-78aa-493d-a02c-f4b21cbe1c39"
      },
      "outputs": [
        {
          "data": {
            "application/vnd.jupyter.widget-view+json": {
              "model_id": "6a62de14de1e4dbb8d5252b5173f28c8",
              "version_major": 2,
              "version_minor": 0
            },
            "text/plain": [
              "  0%|          | 0/495 [00:00<?, ?it/s]"
            ]
          },
          "metadata": {},
          "output_type": "display_data"
        },
        {
          "name": "stdout",
          "output_type": "stream",
          "text": [
            "Error at index 179: CUDA out of memory. Tried to allocate 7.91 GiB (GPU 0; 39.39 GiB total capacity; 32.20 GiB already allocated; 5.61 GiB free; 33.28 GiB reserved in total by PyTorch) If reserved memory is >> allocated memory try setting max_split_size_mb to avoid fragmentation.  See documentation for Memory Management and PYTORCH_CUDA_ALLOC_CONF\n",
            "Error at index 185: CUDA out of memory. Tried to allocate 3.64 GiB (GPU 0; 39.39 GiB total capacity; 31.50 GiB already allocated; 3.59 GiB free; 35.29 GiB reserved in total by PyTorch) If reserved memory is >> allocated memory try setting max_split_size_mb to avoid fragmentation.  See documentation for Memory Management and PYTORCH_CUDA_ALLOC_CONF\n",
            "Error at index 186: CUDA out of memory. Tried to allocate 3.73 GiB (GPU 0; 39.39 GiB total capacity; 31.68 GiB already allocated; 3.59 GiB free; 35.29 GiB reserved in total by PyTorch) If reserved memory is >> allocated memory try setting max_split_size_mb to avoid fragmentation.  See documentation for Memory Management and PYTORCH_CUDA_ALLOC_CONF\n",
            "Error at index 189: CUDA out of memory. Tried to allocate 9.90 GiB (GPU 0; 39.39 GiB total capacity; 35.56 GiB already allocated; 3.00 GiB free; 35.88 GiB reserved in total by PyTorch) If reserved memory is >> allocated memory try setting max_split_size_mb to avoid fragmentation.  See documentation for Memory Management and PYTORCH_CUDA_ALLOC_CONF\n",
            "Error at index 196: CUDA out of memory. Tried to allocate 7.70 GiB (GPU 0; 39.39 GiB total capacity; 31.99 GiB already allocated; 435.94 MiB free; 38.46 GiB reserved in total by PyTorch) If reserved memory is >> allocated memory try setting max_split_size_mb to avoid fragmentation.  See documentation for Memory Management and PYTORCH_CUDA_ALLOC_CONF\n",
            "Error at index 204: CUDA out of memory. Tried to allocate 4.65 GiB (GPU 0; 39.39 GiB total capacity; 33.54 GiB already allocated; 435.94 MiB free; 38.46 GiB reserved in total by PyTorch) If reserved memory is >> allocated memory try setting max_split_size_mb to avoid fragmentation.  See documentation for Memory Management and PYTORCH_CUDA_ALLOC_CONF\n",
            "Error at index 262: CUDA out of memory. Tried to allocate 5.39 GiB (GPU 0; 39.39 GiB total capacity; 29.65 GiB already allocated; 435.94 MiB free; 38.46 GiB reserved in total by PyTorch) If reserved memory is >> allocated memory try setting max_split_size_mb to avoid fragmentation.  See documentation for Memory Management and PYTORCH_CUDA_ALLOC_CONF\n",
            "Error at index 379: CUDA out of memory. Tried to allocate 6.31 GiB (GPU 0; 39.39 GiB total capacity; 30.58 GiB already allocated; 435.94 MiB free; 38.46 GiB reserved in total by PyTorch) If reserved memory is >> allocated memory try setting max_split_size_mb to avoid fragmentation.  See documentation for Memory Management and PYTORCH_CUDA_ALLOC_CONF\n"
          ]
        }
      ],
      "source": [
        "import time\n",
        "from tqdm.notebook import tqdm\n",
        "\n",
        "# Assuming df is the original DataFrame and category_translation is defined\n",
        "df['predicted_category'] = None\n",
        "\n",
        "# Try to load the progress from the Parquet file\n",
        "try:\n",
        "    df_progress = pd.read_parquet('aya_101_ts_classification_results.parquet')\n",
        "    start_index = df_progress['predicted_category'].last_valid_index() + 1\n",
        "except (FileNotFoundError, ValueError):\n",
        "    df_progress = df.copy()\n",
        "    start_index = 0\n",
        "\n",
        "\n",
        "for i, row in tqdm(df.iloc[start_index:].iterrows(), initial=start_index, total=len(df) - start_index):\n",
        "    news = row['content']\n",
        "    label = row['category']\n",
        "    label_bn = category_translation.get(label, label)  # Use the translated label or fallback to the original\n",
        "\n",
        "    prompt_input = three_shot + \" নিবন্ধের বিষয়বস্তু: \" + news + \"\\nপ্রেডিক্টেড ক্যাটাগরি:\"\n",
        "\n",
        "    try:\n",
        "        df.at[i, 'predicted_category'] = get_aya_output(prompt_input, max_new_tokens = 128)\n",
        "    except Exception as e:\n",
        "        print(f\"Error at index {i}: {e}\")\n",
        "        time.sleep(5)\n",
        "\n",
        "    if (i + 1) % 100 == 0:\n",
        "        df.to_parquet('aya_101_ts_classification_results.parquet')\n",
        "\n",
        "# Save final progress\n",
        "df.to_parquet('aya_101_ts_classification_results.parquet')"
      ]
    },
    {
      "cell_type": "code",
      "execution_count": null,
      "id": "cd914b77-29c0-4dd5-ad26-996f1de47198",
      "metadata": {
        "id": "cd914b77-29c0-4dd5-ad26-996f1de47198",
        "outputId": "4d1439c3-b5db-4c8a-ce79-48ff2be6c286"
      },
      "outputs": [
        {
          "data": {
            "text/html": [
              "<div>\n",
              "<style scoped>\n",
              "    .dataframe tbody tr th:only-of-type {\n",
              "        vertical-align: middle;\n",
              "    }\n",
              "\n",
              "    .dataframe tbody tr th {\n",
              "        vertical-align: top;\n",
              "    }\n",
              "\n",
              "    .dataframe thead th {\n",
              "        text-align: right;\n",
              "    }\n",
              "</style>\n",
              "<table border=\"1\" class=\"dataframe\">\n",
              "  <thead>\n",
              "    <tr style=\"text-align: right;\">\n",
              "      <th></th>\n",
              "      <th>author</th>\n",
              "      <th>category</th>\n",
              "      <th>category_bn</th>\n",
              "      <th>published_date</th>\n",
              "      <th>modification_date</th>\n",
              "      <th>tag</th>\n",
              "      <th>comment_count</th>\n",
              "      <th>title</th>\n",
              "      <th>url</th>\n",
              "      <th>content</th>\n",
              "      <th>__index_level_0__</th>\n",
              "      <th>predicted_category</th>\n",
              "    </tr>\n",
              "  </thead>\n",
              "  <tbody>\n",
              "    <tr>\n",
              "      <th>0</th>\n",
              "      <td>খেলা ডেস্ক</td>\n",
              "      <td>sports</td>\n",
              "      <td>খেলা</td>\n",
              "      <td>০৮ অক্টোবর ২০১৭, ১৮:২১</td>\n",
              "      <td>০৮ অক্টোবর ২০১৭, ১৯:১২</td>\n",
              "      <td>ক্রিকেট</td>\n",
              "      <td>NaN</td>\n",
              "      <td>‘৬০০’ করতে পারল না বাংলাদেশ</td>\n",
              "      <td>http://www.prothom-alo.com/sports/article/1339886</td>\n",
              "      <td>দক্ষিণ আফ্রিকার ৫৭৩/৪ রানে ইনিংস ঘোষণার জবাবে...</td>\n",
              "      <td>340598</td>\n",
              "      <td>খেলা</td>\n",
              "    </tr>\n",
              "    <tr>\n",
              "      <th>1</th>\n",
              "      <td>-1</td>\n",
              "      <td>sports</td>\n",
              "      <td>খেলা</td>\n",
              "      <td>২৩ এপ্রিল ২০১৬, ০১:৫০</td>\n",
              "      <td>২৩ এপ্রিল ২০১৬, ০১:৫১</td>\n",
              "      <td>খেলা,আন্তর্জাতিক ক্রিকেট</td>\n",
              "      <td>0.0</td>\n",
              "      <td>খেলার বিনিময়ে ক্ষতিপূরণ</td>\n",
              "      <td>http://www.prothom-alo.com/sports/article/838162</td>\n",
              "      <td>বেতন-ভাতা নিয়ে জটিলতায় ২০১৪ সালে ভারত সফরের ...</td>\n",
              "      <td>222811</td>\n",
              "      <td>খেলা</td>\n",
              "    </tr>\n",
              "    <tr>\n",
              "      <th>2</th>\n",
              "      <td>-1</td>\n",
              "      <td>sports</td>\n",
              "      <td>খেলা</td>\n",
              "      <td>২৫ নভেম্বর ২০১৫, ০১:৫৪</td>\n",
              "      <td>২৫ নভেম্বর ২০১৫, ০১:৫৫</td>\n",
              "      <td>আন্তর্জাতিক ফুটবল,খেলা</td>\n",
              "      <td>0.0</td>\n",
              "      <td>লাউড্রপের না</td>\n",
              "      <td>http://www.prothom-alo.com/sports/article/693637</td>\n",
              "      <td>২০১৬ ইউরো চ্যাম্পিয়নশিপের চূড়ান্ত পর্বে দলকে ...</td>\n",
              "      <td>177592</td>\n",
              "      <td>খেলা</td>\n",
              "    </tr>\n",
              "    <tr>\n",
              "      <th>3</th>\n",
              "      <td>উৎপল শুভ্র</td>\n",
              "      <td>sports</td>\n",
              "      <td>খেলা</td>\n",
              "      <td>০৩ ডিসেম্বর ২০১৮, ১৩:২০</td>\n",
              "      <td>০৪ ডিসেম্বর ২০১৮, ১২:০৬</td>\n",
              "      <td>ক্রিকেট,বাংলাদেশ ওয়েস্ট ইন্ডিজ সিরিজ,টেস্ট ক্র...</td>\n",
              "      <td>0.0</td>\n",
              "      <td>মিরপুরে এক টেস্টে দুই প্রাপ্তি</td>\n",
              "      <td>http://www.prothom-alo.com/sports/article/1568079</td>\n",
              "      <td>যখন টেস্টের তৃতীয় দিনের শেষ সেশনের খেলা চলার ক...</td>\n",
              "      <td>384712</td>\n",
              "      <td>খেলা</td>\n",
              "    </tr>\n",
              "    <tr>\n",
              "      <th>4</th>\n",
              "      <td>-1</td>\n",
              "      <td>sports</td>\n",
              "      <td>খেলা</td>\n",
              "      <td>১১ আগস্ট ২০১৫, ০৩:০১</td>\n",
              "      <td>১১ আগস্ট ২০১৫, ০৩:০২</td>\n",
              "      <td>আন্তর্জাতিক ফুটবল,খেলা</td>\n",
              "      <td>0.0</td>\n",
              "      <td>‘পাগলা’ সান্টো</td>\n",
              "      <td>http://www.prothom-alo.com/sports/article/599491</td>\n",
              "      <td>ফুটবলে গোল উদ্যাপন তো কতভাবেই হয়! এই যুগে ফ্রা...</td>\n",
              "      <td>159094</td>\n",
              "      <td>খেলা</td>\n",
              "    </tr>\n",
              "  </tbody>\n",
              "</table>\n",
              "</div>"
            ],
            "text/plain": [
              "       author category category_bn           published_date  \\\n",
              "0  খেলা ডেস্ক   sports        খেলা   ০৮ অক্টোবর ২০১৭, ১৮:২১   \n",
              "1          -1   sports        খেলা    ২৩ এপ্রিল ২০১৬, ০১:৫০   \n",
              "2          -1   sports        খেলা   ২৫ নভেম্বর ২০১৫, ০১:৫৪   \n",
              "3  উৎপল শুভ্র   sports        খেলা  ০৩ ডিসেম্বর ২০১৮, ১৩:২০   \n",
              "4          -1   sports        খেলা     ১১ আগস্ট ২০১৫, ০৩:০১   \n",
              "\n",
              "         modification_date                                                tag  \\\n",
              "0   ০৮ অক্টোবর ২০১৭, ১৯:১২                                            ক্রিকেট   \n",
              "1    ২৩ এপ্রিল ২০১৬, ০১:৫১                           খেলা,আন্তর্জাতিক ক্রিকেট   \n",
              "2   ২৫ নভেম্বর ২০১৫, ০১:৫৫                             আন্তর্জাতিক ফুটবল,খেলা   \n",
              "3  ০৪ ডিসেম্বর ২০১৮, ১২:০৬  ক্রিকেট,বাংলাদেশ ওয়েস্ট ইন্ডিজ সিরিজ,টেস্ট ক্র...   \n",
              "4     ১১ আগস্ট ২০১৫, ০৩:০২                             আন্তর্জাতিক ফুটবল,খেলা   \n",
              "\n",
              "   comment_count                           title  \\\n",
              "0            NaN     ‘৬০০’ করতে পারল না বাংলাদেশ   \n",
              "1            0.0        খেলার বিনিময়ে ক্ষতিপূরণ   \n",
              "2            0.0                    লাউড্রপের না   \n",
              "3            0.0  মিরপুরে এক টেস্টে দুই প্রাপ্তি   \n",
              "4            0.0                  ‘পাগলা’ সান্টো   \n",
              "\n",
              "                                                 url  \\\n",
              "0  http://www.prothom-alo.com/sports/article/1339886   \n",
              "1   http://www.prothom-alo.com/sports/article/838162   \n",
              "2   http://www.prothom-alo.com/sports/article/693637   \n",
              "3  http://www.prothom-alo.com/sports/article/1568079   \n",
              "4   http://www.prothom-alo.com/sports/article/599491   \n",
              "\n",
              "                                             content  __index_level_0__  \\\n",
              "0  দক্ষিণ আফ্রিকার ৫৭৩/৪ রানে ইনিংস ঘোষণার জবাবে...             340598   \n",
              "1  বেতন-ভাতা নিয়ে জটিলতায় ২০১৪ সালে ভারত সফরের ...             222811   \n",
              "2  ২০১৬ ইউরো চ্যাম্পিয়নশিপের চূড়ান্ত পর্বে দলকে ...             177592   \n",
              "3  যখন টেস্টের তৃতীয় দিনের শেষ সেশনের খেলা চলার ক...             384712   \n",
              "4  ফুটবলে গোল উদ্যাপন তো কতভাবেই হয়! এই যুগে ফ্রা...             159094   \n",
              "\n",
              "  predicted_category  \n",
              "0               খেলা  \n",
              "1               খেলা  \n",
              "2               খেলা  \n",
              "3               খেলা  \n",
              "4               খেলা  "
            ]
          },
          "execution_count": 21,
          "metadata": {},
          "output_type": "execute_result"
        }
      ],
      "source": [
        "ts_results = pd.read_parquet(\"aya_101_ts_classification_results.parquet\")\n",
        "ts_results.head()"
      ]
    },
    {
      "cell_type": "code",
      "execution_count": null,
      "id": "94d712a7-186c-4f45-9992-21a290dec278",
      "metadata": {
        "id": "94d712a7-186c-4f45-9992-21a290dec278"
      },
      "outputs": [],
      "source": [
        "# Empty the GPU cache\n",
        "torch.cuda.empty_cache()"
      ]
    },
    {
      "cell_type": "markdown",
      "id": "4934e7f5-6dfc-474c-ab09-005962620b94",
      "metadata": {
        "id": "4934e7f5-6dfc-474c-ab09-005962620b94"
      },
      "source": [
        "### Chain of Thought"
      ]
    },
    {
      "cell_type": "code",
      "execution_count": null,
      "id": "6e64ff57-12c8-4b6d-9f37-50a8cccbebeb",
      "metadata": {
        "colab": {
          "referenced_widgets": [
            "1648c7bfe65d4dcf9f30623d369ce10c"
          ]
        },
        "id": "6e64ff57-12c8-4b6d-9f37-50a8cccbebeb",
        "outputId": "9a4f2a3f-10ea-4233-ffac-a640563adc4c"
      },
      "outputs": [
        {
          "data": {
            "application/vnd.jupyter.widget-view+json": {
              "model_id": "1648c7bfe65d4dcf9f30623d369ce10c",
              "version_major": 2,
              "version_minor": 0
            },
            "text/plain": [
              "  0%|          | 0/495 [00:00<?, ?it/s]"
            ]
          },
          "metadata": {},
          "output_type": "display_data"
        },
        {
          "name": "stdout",
          "output_type": "stream",
          "text": [
            "Error at index 179: CUDA out of memory. Tried to allocate 4.51 GiB (GPU 0; 39.39 GiB total capacity; 33.32 GiB already allocated; 4.28 GiB free; 34.61 GiB reserved in total by PyTorch) If reserved memory is >> allocated memory try setting max_split_size_mb to avoid fragmentation.  See documentation for Memory Management and PYTORCH_CUDA_ALLOC_CONF\n",
            "Error at index 185: CUDA out of memory. Tried to allocate 4.40 GiB (GPU 0; 39.39 GiB total capacity; 28.64 GiB already allocated; 4.28 GiB free; 34.61 GiB reserved in total by PyTorch) If reserved memory is >> allocated memory try setting max_split_size_mb to avoid fragmentation.  See documentation for Memory Management and PYTORCH_CUDA_ALLOC_CONF\n",
            "Error at index 186: CUDA out of memory. Tried to allocate 4.50 GiB (GPU 0; 39.39 GiB total capacity; 28.74 GiB already allocated; 4.28 GiB free; 34.61 GiB reserved in total by PyTorch) If reserved memory is >> allocated memory try setting max_split_size_mb to avoid fragmentation.  See documentation for Memory Management and PYTORCH_CUDA_ALLOC_CONF\n",
            "Error at index 187: CUDA out of memory. Tried to allocate 4.13 GiB (GPU 0; 39.39 GiB total capacity; 32.49 GiB already allocated; 153.94 MiB free; 38.73 GiB reserved in total by PyTorch) If reserved memory is >> allocated memory try setting max_split_size_mb to avoid fragmentation.  See documentation for Memory Management and PYTORCH_CUDA_ALLOC_CONF\n",
            "Error at index 189: CUDA out of memory. Tried to allocate 690.00 MiB (GPU 0; 39.39 GiB total capacity; 38.65 GiB already allocated; 47.94 MiB free; 38.84 GiB reserved in total by PyTorch) If reserved memory is >> allocated memory try setting max_split_size_mb to avoid fragmentation.  See documentation for Memory Management and PYTORCH_CUDA_ALLOC_CONF\n",
            "Error at index 196: CUDA out of memory. Tried to allocate 4.39 GiB (GPU 0; 39.39 GiB total capacity; 33.09 GiB already allocated; 3.42 GiB free; 35.47 GiB reserved in total by PyTorch) If reserved memory is >> allocated memory try setting max_split_size_mb to avoid fragmentation.  See documentation for Memory Management and PYTORCH_CUDA_ALLOC_CONF\n",
            "Error at index 204: CUDA out of memory. Tried to allocate 5.50 GiB (GPU 0; 39.39 GiB total capacity; 29.76 GiB already allocated; 3.42 GiB free; 35.47 GiB reserved in total by PyTorch) If reserved memory is >> allocated memory try setting max_split_size_mb to avoid fragmentation.  See documentation for Memory Management and PYTORCH_CUDA_ALLOC_CONF\n",
            "Error at index 262: CUDA out of memory. Tried to allocate 6.30 GiB (GPU 0; 39.39 GiB total capacity; 30.58 GiB already allocated; 3.42 GiB free; 35.47 GiB reserved in total by PyTorch) If reserved memory is >> allocated memory try setting max_split_size_mb to avoid fragmentation.  See documentation for Memory Management and PYTORCH_CUDA_ALLOC_CONF\n",
            "Error at index 333: CUDA out of memory. Tried to allocate 4.41 GiB (GPU 0; 39.39 GiB total capacity; 28.65 GiB already allocated; 3.42 GiB free; 35.47 GiB reserved in total by PyTorch) If reserved memory is >> allocated memory try setting max_split_size_mb to avoid fragmentation.  See documentation for Memory Management and PYTORCH_CUDA_ALLOC_CONF\n",
            "Error at index 379: CUDA out of memory. Tried to allocate 3.65 GiB (GPU 0; 39.39 GiB total capacity; 31.58 GiB already allocated; 3.42 GiB free; 35.47 GiB reserved in total by PyTorch) If reserved memory is >> allocated memory try setting max_split_size_mb to avoid fragmentation.  See documentation for Memory Management and PYTORCH_CUDA_ALLOC_CONF\n",
            "Error at index 445: CUDA out of memory. Tried to allocate 3.89 GiB (GPU 0; 39.39 GiB total capacity; 32.01 GiB already allocated; 3.42 GiB free; 35.47 GiB reserved in total by PyTorch) If reserved memory is >> allocated memory try setting max_split_size_mb to avoid fragmentation.  See documentation for Memory Management and PYTORCH_CUDA_ALLOC_CONF\n"
          ]
        }
      ],
      "source": [
        "import time\n",
        "from tqdm.notebook import tqdm\n",
        "\n",
        "# Assuming df is the original DataFrame and category_translation is defined\n",
        "df['predicted_category'] = None\n",
        "\n",
        "# Try to load the progress from the Parquet file\n",
        "try:\n",
        "    df_progress = pd.read_parquet('aya_101_cot_classification_results.parquet')\n",
        "    start_index = df_progress['predicted_category'].last_valid_index() + 1\n",
        "except (FileNotFoundError, ValueError):\n",
        "    df_progress = df.copy()\n",
        "    start_index = 0\n",
        "\n",
        "\n",
        "for i, row in tqdm(df.iloc[start_index:].iterrows(), initial=start_index, total=len(df) - start_index):\n",
        "    news = row['content']\n",
        "    label = row['category']\n",
        "    label_bn = category_translation.get(label, label)  # Use the translated label or fallback to the original\n",
        "\n",
        "    prompt_input = chain_of_thought + \" নিবন্ধের বিষয়বস্তু: \" + news\n",
        "\n",
        "    try:\n",
        "        df.at[i, 'predicted_category'] = get_aya_output(prompt_input, max_new_tokens = 256)\n",
        "    except Exception as e:\n",
        "        print(f\"Error at index {i}: {e}\")\n",
        "        time.sleep(5)\n",
        "\n",
        "    if (i + 1) % 100 == 0:\n",
        "        df.to_parquet('aya_101_cot_classification_results.parquet')\n",
        "\n",
        "# Save final progress\n",
        "df.to_parquet('aya_101_cot_classification_results.parquet')"
      ]
    },
    {
      "cell_type": "code",
      "execution_count": null,
      "id": "08ca074e-735c-455d-acea-661d63b3ba18",
      "metadata": {
        "id": "08ca074e-735c-455d-acea-661d63b3ba18",
        "outputId": "552d1fc2-a8bf-4c8d-e0cb-60f21c8a1315"
      },
      "outputs": [
        {
          "data": {
            "text/html": [
              "<div>\n",
              "<style scoped>\n",
              "    .dataframe tbody tr th:only-of-type {\n",
              "        vertical-align: middle;\n",
              "    }\n",
              "\n",
              "    .dataframe tbody tr th {\n",
              "        vertical-align: top;\n",
              "    }\n",
              "\n",
              "    .dataframe thead th {\n",
              "        text-align: right;\n",
              "    }\n",
              "</style>\n",
              "<table border=\"1\" class=\"dataframe\">\n",
              "  <thead>\n",
              "    <tr style=\"text-align: right;\">\n",
              "      <th></th>\n",
              "      <th>author</th>\n",
              "      <th>category</th>\n",
              "      <th>category_bn</th>\n",
              "      <th>published_date</th>\n",
              "      <th>modification_date</th>\n",
              "      <th>tag</th>\n",
              "      <th>comment_count</th>\n",
              "      <th>title</th>\n",
              "      <th>url</th>\n",
              "      <th>content</th>\n",
              "      <th>__index_level_0__</th>\n",
              "      <th>predicted_category</th>\n",
              "    </tr>\n",
              "  </thead>\n",
              "  <tbody>\n",
              "    <tr>\n",
              "      <th>490</th>\n",
              "      <td>ইকবাল খান, শিক্ষক</td>\n",
              "      <td>education</td>\n",
              "      <td>শিক্ষা</td>\n",
              "      <td>০৫ মার্চ ২০১৪, ০০:৪৭</td>\n",
              "      <td>০৫ মার্চ ২০১৪, ০০:৪৮</td>\n",
              "      <td>পড়াশোনা</td>\n",
              "      <td>0.0</td>\n",
              "      <td>ই ং রে জি</td>\n",
              "      <td>http://www.prothom-alo.com/education/article/1...</td>\n",
              "      <td>আনসিন প্যাসেজ প্রিয় শিক্ষার্থী, আজ রয়েছে একটি...</td>\n",
              "      <td>56033</td>\n",
              "      <td>শিক্ষা</td>\n",
              "    </tr>\n",
              "    <tr>\n",
              "      <th>491</th>\n",
              "      <td>মোহাম্মদ হেদায়েত উল্যাহ</td>\n",
              "      <td>education</td>\n",
              "      <td>শিক্ষা</td>\n",
              "      <td>২২ মার্চ ২০১৪, ০০:৩৩</td>\n",
              "      <td>২২ মার্চ ২০১৪, ০০:৩৫</td>\n",
              "      <td>পড়াশোনা</td>\n",
              "      <td>0.0</td>\n",
              "      <td>স মা জ বি জ্ঞা ন ১ ম প ত্র</td>\n",
              "      <td>http://www.prothom-alo.com/education/article/1...</td>\n",
              "      <td>বহুনির্বাচনি প্রশ্নোত্তর প্রিয় শিক্ষার্থী, আজ...</td>\n",
              "      <td>60214</td>\n",
              "      <td>শিক্ষা</td>\n",
              "    </tr>\n",
              "    <tr>\n",
              "      <th>492</th>\n",
              "      <td>বাদল চৌধুরী</td>\n",
              "      <td>education</td>\n",
              "      <td>শিক্ষা</td>\n",
              "      <td>০৮ জুলাই ২০১৩, ০০:৪৮</td>\n",
              "      <td>০৮ জুলাই ২০১৩, ০০:৫০</td>\n",
              "      <td>পড়াশোনা</td>\n",
              "      <td>0.0</td>\n",
              "      <td>জুনিয়র স্কুল সার্টিফিকেট পরীক্ষার প্রস্তুতি</td>\n",
              "      <td>http://www.prothom-alo.com/education/article/2...</td>\n",
              "      <td>প্রিয় জেএসসি পরীক্ষার্থী, শুভেচ্ছা রইল। জাতীয...</td>\n",
              "      <td>1167</td>\n",
              "      <td>শিক্ষা</td>\n",
              "    </tr>\n",
              "    <tr>\n",
              "      <th>493</th>\n",
              "      <td>মারুফ ইসলাম</td>\n",
              "      <td>education</td>\n",
              "      <td>শিক্ষা</td>\n",
              "      <td>২৫ আগস্ট ২০১৩, ০০:১১</td>\n",
              "      <td>২৫ আগস্ট ২০১৩, ০০:১৬</td>\n",
              "      <td>স্বপ্ন নিয়ে,শিক্ষাঙ্গন</td>\n",
              "      <td>0.0</td>\n",
              "      <td>বিতর্ক করতে মালয়েশিয়া</td>\n",
              "      <td>http://www.prothom-alo.com/education/article/4...</td>\n",
              "      <td>সাত রাউন্ড শেষে তিনটি করে জয় নিশ্চিত করে ঢাকা...</td>\n",
              "      <td>11829</td>\n",
              "      <td>শিক্ষা</td>\n",
              "    </tr>\n",
              "    <tr>\n",
              "      <th>494</th>\n",
              "      <td>মো. জসিম উদ্দীন বিশ্বাস</td>\n",
              "      <td>education</td>\n",
              "      <td>শিক্ষা</td>\n",
              "      <td>০৫ মে ২০১৪, ০১:৪৩</td>\n",
              "      <td>০৫ মে ২০১৪, ০১:৪৫</td>\n",
              "      <td>পড়াশোনা</td>\n",
              "      <td>0.0</td>\n",
              "      <td>ইংরেজি ২য় পত্র</td>\n",
              "      <td>http://www.prothom-alo.com/education/article/2...</td>\n",
              "      <td>The Prepositionপ্রিয় শিক্ষার্থীরা, আজ ইংরেজি ২...</td>\n",
              "      <td>70843</td>\n",
              "      <td>শিক্ষা</td>\n",
              "    </tr>\n",
              "  </tbody>\n",
              "</table>\n",
              "</div>"
            ],
            "text/plain": [
              "                      author   category category_bn        published_date  \\\n",
              "490        ইকবাল খান, শিক্ষক  education      শিক্ষা  ০৫ মার্চ ২০১৪, ০০:৪৭   \n",
              "491  মোহাম্মদ হেদায়েত উল্যাহ  education      শিক্ষা  ২২ মার্চ ২০১৪, ০০:৩৩   \n",
              "492              বাদল চৌধুরী  education      শিক্ষা  ০৮ জুলাই ২০১৩, ০০:৪৮   \n",
              "493              মারুফ ইসলাম  education      শিক্ষা  ২৫ আগস্ট ২০১৩, ০০:১১   \n",
              "494  মো. জসিম উদ্দীন বিশ্বাস  education      শিক্ষা     ০৫ মে ২০১৪, ০১:৪৩   \n",
              "\n",
              "        modification_date                     tag  comment_count  \\\n",
              "490  ০৫ মার্চ ২০১৪, ০০:৪৮                 পড়াশোনা            0.0   \n",
              "491  ২২ মার্চ ২০১৪, ০০:৩৫                 পড়াশোনা            0.0   \n",
              "492  ০৮ জুলাই ২০১৩, ০০:৫০                 পড়াশোনা            0.0   \n",
              "493  ২৫ আগস্ট ২০১৩, ০০:১৬  স্বপ্ন নিয়ে,শিক্ষাঙ্গন            0.0   \n",
              "494     ০৫ মে ২০১৪, ০১:৪৫                 পড়াশোনা            0.0   \n",
              "\n",
              "                                            title  \\\n",
              "490                                     ই ং রে জি   \n",
              "491                    স মা জ বি জ্ঞা ন ১ ম প ত্র   \n",
              "492  জুনিয়র স্কুল সার্টিফিকেট পরীক্ষার প্রস্তুতি   \n",
              "493                       বিতর্ক করতে মালয়েশিয়া   \n",
              "494                                ইংরেজি ২য় পত্র   \n",
              "\n",
              "                                                   url  \\\n",
              "490  http://www.prothom-alo.com/education/article/1...   \n",
              "491  http://www.prothom-alo.com/education/article/1...   \n",
              "492  http://www.prothom-alo.com/education/article/2...   \n",
              "493  http://www.prothom-alo.com/education/article/4...   \n",
              "494  http://www.prothom-alo.com/education/article/2...   \n",
              "\n",
              "                                               content  __index_level_0__  \\\n",
              "490  আনসিন প্যাসেজ প্রিয় শিক্ষার্থী, আজ রয়েছে একটি...              56033   \n",
              "491  বহুনির্বাচনি প্রশ্নোত্তর প্রিয় শিক্ষার্থী, আজ...              60214   \n",
              "492  প্রিয় জেএসসি পরীক্ষার্থী, শুভেচ্ছা রইল। জাতীয...               1167   \n",
              "493  সাত রাউন্ড শেষে তিনটি করে জয় নিশ্চিত করে ঢাকা...              11829   \n",
              "494  The Prepositionপ্রিয় শিক্ষার্থীরা, আজ ইংরেজি ২...              70843   \n",
              "\n",
              "    predicted_category  \n",
              "490             শিক্ষা  \n",
              "491             শিক্ষা  \n",
              "492             শিক্ষা  \n",
              "493             শিক্ষা  \n",
              "494             শিক্ষা  "
            ]
          },
          "execution_count": 23,
          "metadata": {},
          "output_type": "execute_result"
        }
      ],
      "source": [
        "cot_results = pd.read_parquet(\"aya_101_cot_classification_results.parquet\")\n",
        "cot_results.tail()"
      ]
    },
    {
      "cell_type": "markdown",
      "id": "a8b0bdb4-dcce-4247-a27f-e560b920a0b7",
      "metadata": {
        "id": "a8b0bdb4-dcce-4247-a27f-e560b920a0b7"
      },
      "source": [
        "### Category Prediction"
      ]
    },
    {
      "cell_type": "code",
      "execution_count": null,
      "id": "64011814-677b-492a-9004-8c166f562bc2",
      "metadata": {
        "id": "64011814-677b-492a-9004-8c166f562bc2"
      },
      "outputs": [],
      "source": [
        "def clean_predicted_category(text, category_translation):\n",
        "    # Check if the text is None\n",
        "    if text is None:\n",
        "        return \"\"\n",
        "\n",
        "    # Check if any category is directly present in the prediction string\n",
        "    for category in category_translation.values():\n",
        "        if category in text:\n",
        "            return category\n",
        "\n",
        "    # If no direct match, extract the text within ** ** and remove spaces\n",
        "    import re\n",
        "    match = re.search(r'\\*\\*([^*]*)\\*\\*', text)\n",
        "    if match:\n",
        "        cleaned_text = match.group(1).replace(\" \", \"\")\n",
        "        # Check if cleaned text matches any category in Bangla\n",
        "        for category in category_translation.values():\n",
        "            if cleaned_text == category:\n",
        "                return category\n",
        "\n",
        "    # If no match found, return None\n",
        "    return None"
      ]
    },
    {
      "cell_type": "code",
      "execution_count": null,
      "id": "665c2a17-3a1d-47bf-af29-b27b5fab12c3",
      "metadata": {
        "id": "665c2a17-3a1d-47bf-af29-b27b5fab12c3",
        "outputId": "50069f3d-e4c5-46c6-ab64-1c927ca84ae9"
      },
      "outputs": [
        {
          "data": {
            "text/plain": [
              "'শিক্ষা'"
            ]
          },
          "execution_count": 25,
          "metadata": {},
          "output_type": "execute_result"
        }
      ],
      "source": [
        "clean_predicted_category(\"এই নিবন্ধটি শিক্ষা বিভাগের অন্তর্ভুক্ত। \\n\\n...\", category_translation)"
      ]
    },
    {
      "cell_type": "markdown",
      "id": "21dd91fc-c1ca-43d3-bc98-cd1088bb799e",
      "metadata": {
        "id": "21dd91fc-c1ca-43d3-bc98-cd1088bb799e"
      },
      "source": [
        "### Classification Evaluation"
      ]
    },
    {
      "cell_type": "code",
      "execution_count": null,
      "id": "e4dc0d51-9e7f-47d3-86db-0c4745d06852",
      "metadata": {
        "id": "e4dc0d51-9e7f-47d3-86db-0c4745d06852"
      },
      "outputs": [],
      "source": [
        "import pandas as pd\n",
        "import numpy as np\n",
        "from sklearn.metrics import accuracy_score, precision_score, recall_score, f1_score, roc_auc_score, log_loss\n",
        "from sklearn.preprocessing import LabelBinarizer\n",
        "\n",
        "\n",
        "def evaluate_classification(df):\n",
        "    # Map English category to Bangla\n",
        "    df['category_bn'] = df['category'].map(category_translation)\n",
        "\n",
        "    # Clean the predicted categories\n",
        "    df['cleaned_predicted_category'] = df['predicted_category'].apply(clean_predicted_category, args=(category_translation,))\n",
        "\n",
        "    # Replace None values with an incorrect label to be treated as wrong predictions\n",
        "    df['cleaned_predicted_category'] = df['cleaned_predicted_category'].fillna('wrong_prediction')\n",
        "\n",
        "    # Calculate metrics\n",
        "    y_true = df['category_bn']\n",
        "    y_pred = df['cleaned_predicted_category']\n",
        "\n",
        "    accuracy = accuracy_score(y_true, y_pred)\n",
        "    precision = precision_score(y_true, y_pred, average='macro', zero_division=0)\n",
        "    recall = recall_score(y_true, y_pred, average='macro', zero_division=0)\n",
        "    f1 = f1_score(y_true, y_pred, average='macro', zero_division=0)\n",
        "\n",
        "    # For AUC-ROC and Log Loss, we need to binarize the labels\n",
        "    lb = LabelBinarizer()\n",
        "    y_true_binarized = lb.fit_transform(y_true)\n",
        "    y_pred_binarized = lb.transform(y_pred)\n",
        "\n",
        "    # Not useful in this setup\n",
        "    auc_roc = roc_auc_score(y_true_binarized, y_pred_binarized, average='macro', multi_class='ovr')\n",
        "    logloss = log_loss(y_true_binarized, y_pred_binarized)\n",
        "\n",
        "    metrics = {\n",
        "        'accuracy': accuracy,\n",
        "        'precision': precision,\n",
        "        'recall': recall,\n",
        "        'f1_score': f1,\n",
        "        'auc_roc': auc_roc,\n",
        "        'log_loss': logloss\n",
        "    }\n",
        "\n",
        "    return metrics"
      ]
    },
    {
      "cell_type": "code",
      "execution_count": null,
      "id": "c3d95418-dc06-4692-a972-b48ec2cb5579",
      "metadata": {
        "id": "c3d95418-dc06-4692-a972-b48ec2cb5579",
        "outputId": "aa8c1cb9-8e80-4a35-b6c1-085d194aadf3"
      },
      "outputs": [
        {
          "name": "stdout",
          "output_type": "stream",
          "text": [
            "accuracy: 0.5818\n",
            "precision: 0.7139\n",
            "recall: 0.4760\n",
            "f1_score: 0.5256\n",
            "auc_roc: 0.7848\n",
            "log_loss: 4.0550\n"
          ]
        }
      ],
      "source": [
        "zs_df = pd.read_parquet(\"aya_101_zs_classification_results.parquet\")\n",
        "metrics = evaluate_classification(zs_df)\n",
        "for metric, value in metrics.items():\n",
        "    print(f\"{metric}: {value:.4f}\")"
      ]
    },
    {
      "cell_type": "code",
      "execution_count": null,
      "id": "0c9d34e9-3af8-417b-bcc8-2d4b7d033516",
      "metadata": {
        "id": "0c9d34e9-3af8-417b-bcc8-2d4b7d033516",
        "outputId": "77e81744-8efd-45fc-e20b-8c6fcae11b75"
      },
      "outputs": [
        {
          "name": "stdout",
          "output_type": "stream",
          "text": [
            "accuracy: 0.7273\n",
            "precision: 0.7158\n",
            "recall: 0.5950\n",
            "f1_score: 0.6227\n",
            "auc_roc: 0.8559\n",
            "log_loss: 4.5848\n"
          ]
        }
      ],
      "source": [
        "ts_df = pd.read_parquet(\"aya_101_ts_classification_results.parquet\")\n",
        "metrics = evaluate_classification(ts_df)\n",
        "for metric, value in metrics.items():\n",
        "    print(f\"{metric}: {value:.4f}\")"
      ]
    },
    {
      "cell_type": "code",
      "execution_count": null,
      "id": "9e7e133c-e10a-42de-b7da-b8ef7371779e",
      "metadata": {
        "id": "9e7e133c-e10a-42de-b7da-b8ef7371779e",
        "outputId": "5238aef2-db0e-49f6-8775-c5c7d547861c"
      },
      "outputs": [
        {
          "name": "stdout",
          "output_type": "stream",
          "text": [
            "accuracy: 0.6384\n",
            "precision: 0.6909\n",
            "recall: 0.5223\n",
            "f1_score: 0.5549\n",
            "auc_roc: 0.8093\n",
            "log_loss: 5.8908\n"
          ]
        }
      ],
      "source": [
        "cot_df = pd.read_parquet(\"aya_101_cot_classification_results.parquet\")\n",
        "metrics = evaluate_classification(cot_df)\n",
        "for metric, value in metrics.items():\n",
        "    print(f\"{metric}: {value:.4f}\")"
      ]
    },
    {
      "cell_type": "markdown",
      "id": "2X8SJq7DA_VZ",
      "metadata": {
        "id": "2X8SJq7DA_VZ"
      },
      "source": [
        "## AYA - Sentiment"
      ]
    },
    {
      "cell_type": "code",
      "execution_count": null,
      "id": "_YcjEz3CO-Ta",
      "metadata": {
        "id": "_YcjEz3CO-Ta"
      },
      "outputs": [],
      "source": [
        "import pandas as pd\n",
        "from datasets import load_dataset\n",
        "\n",
        "# Load the Bengali subset of the dataset\n",
        "dataset = load_dataset('mteb/IndicSentiment', 'bn')\n",
        "\n",
        "# Convert to pandas dataframe\n",
        "df = dataset['train'].to_pandas()  # Assuming you want the training split\n",
        "\n",
        "# Display the dataframe\n",
        "df.head()"
      ]
    },
    {
      "cell_type": "code",
      "execution_count": null,
      "id": "vsV2KBsqOxxo",
      "metadata": {
        "id": "vsV2KBsqOxxo"
      },
      "outputs": [],
      "source": [
        "zero_shot = \"\"\"আপনাকে একটি পণ্যের রিভিউ দেওয়া হয়েছে। আপনাকে রিভিউটির অনুভূতি নির্ধারণ করতে হবে, যা পজিটিভ বা নেগেটিভ হতে পারে।\n",
        "\n",
        "\"\"\""
      ]
    },
    {
      "cell_type": "code",
      "execution_count": null,
      "id": "V9VW1yXXO1SS",
      "metadata": {
        "id": "V9VW1yXXO1SS"
      },
      "outputs": [],
      "source": [
        "three_shot = \"\"\"আপনাকে একটি পণ্যের রিভিউ দেওয়া হয়েছে। আপনাকে রিভিউটির অনুভূতি নির্ধারণ করতে হবে, যা পজিটিভ বা নেগেটিভ হতে পারে।\n",
        "\n",
        "### উদাহরণ ১\n",
        "### রিভিউ:\n",
        "দরগুলি প্রতিযোগিতামূলক, প্রায় সবসময় বাজারে সেরা।\n",
        "\n",
        "### অনুভূতি:\n",
        "পজিটিভ\n",
        "\n",
        "### উদাহরণ ২\n",
        "### রিভিউ:\n",
        "অন কল কানেক্টিভিটি অনেক সময় খুব কম হয়।\n",
        "\n",
        "### অনুভূতি:\n",
        "নেগেটিভ\n",
        "\n",
        "### উদাহরণ ৩\n",
        "### রিভিউ:\n",
        "হুক এবং লুপ ডিজাইন সহজেই সেট আপ এবং বহন করা যায়।\n",
        "\n",
        "### অনুভূতি:\n",
        "পজিটিভ\n",
        "\n",
        "### আপনার কাজ\n",
        "\n",
        "\"\"\""
      ]
    },
    {
      "cell_type": "code",
      "execution_count": null,
      "id": "-TPAThWDO4N7",
      "metadata": {
        "id": "-TPAThWDO4N7"
      },
      "outputs": [],
      "source": [
        "chain_of_thought = \"\"\"আপনাকে একটি পণ্যের রিভিউ দেওয়া হয়েছে। আপনাকে রিভিউটির অনুভূতি নির্ধারণ করতে হবে, যা পজিটিভ বা নেগেটিভ হতে পারে। রিভিউটির অনুভূতি নির্ধারণ করতে গিয়ে নিম্নলিখিত ধাপগুলি অনুসরণ করুন:\n",
        "\n",
        "### ধাপ ১: রিভিউ পড়া\n",
        "রিভিউটি পড়ুন এবং এতে কী বলা হয়েছে তা বোঝার চেষ্টা করুন।\n",
        "\n",
        "### ধাপ ২: ইতিবাচক বা নেতিবাচক শব্দ চিহ্নিত করা\n",
        "রিভিউতে ব্যবহৃত ইতিবাচক (ভালো, সন্তুষ্ট, দুর্দান্ত) বা নেতিবাচক (খারাপ, বাজে, নিম্নমানের) শব্দগুলি চিহ্নিত করুন।\n",
        "\n",
        "### ধাপ ৩: অনুভূতি নির্ধারণ\n",
        "রিভিউতে ইতিবাচক শব্দ বেশি হলে পজিটিভ এবং নেতিবাচক শব্দ বেশি হলে নেগেটিভ অনুভূতি নির্ধারণ করুন।\n",
        "\n",
        "### উদাহরণ ১\n",
        "### রিভিউ:\n",
        "দরগুলি প্রতিযোগিতামূলক, প্রায় সবসময় বাজারে সেরা।\n",
        "\n",
        "#### চিন্তাধারা:\n",
        "- ইতিবাচক শব্দ: প্রতিযোগিতামূলক, সেরা\n",
        "- অনুভূতি: পজিটিভ\n",
        "\n",
        "### অনুভূতি:\n",
        "পজিটিভ\n",
        "\n",
        "### উদাহরণ ২\n",
        "### রিভিউ:\n",
        "অন কল কানেক্টিভিটি অনেক সময় খুব কম হয়।\n",
        "\n",
        "#### চিন্তাধারা:\n",
        "- নেতিবাচক শব্দ: অনেক সময় খুব কম\n",
        "- অনুভূতি: নেগেটিভ\n",
        "\n",
        "### অনুভূতি:\n",
        "নেগেটিভ\n",
        "\n",
        "### উদাহরণ ৩\n",
        "### রিভিউ:\n",
        "হুক এবং লুপ ডিজাইন সহজেই সেট আপ এবং বহন করা যায়।\n",
        "\n",
        "#### চিন্তাধারা:\n",
        "- ইতিবাচক শব্দ: সহজেই সেট আপ এবং বহন করা যায়\n",
        "- অনুভূতি: পজিটিভ\n",
        "\n",
        "### অনুভূতি:\n",
        "পজিটিভ\n",
        "\n",
        "### আপনার কাজ\n",
        "\n",
        "\n",
        "\"\"\""
      ]
    },
    {
      "cell_type": "code",
      "execution_count": null,
      "id": "b436daf5-fdf8-4c5f-a769-a95a66d99342",
      "metadata": {
        "id": "b436daf5-fdf8-4c5f-a769-a95a66d99342",
        "tags": []
      },
      "outputs": [],
      "source": [
        "category_translation = {\n",
        "    'Positive': 'পজিটিভ',\n",
        "    'Negative': 'নেগেটিভ',\n",
        "}"
      ]
    },
    {
      "cell_type": "code",
      "execution_count": null,
      "id": "2h40hB_RwaL5",
      "metadata": {
        "colab": {
          "base_uri": "https://localhost:8080/",
          "height": 35
        },
        "id": "2h40hB_RwaL5",
        "outputId": "414aa048-6511-447f-9df8-1e37bf77c701"
      },
      "outputs": [
        {
          "data": {
            "application/vnd.google.colaboratory.intrinsic+json": {
              "type": "string"
            },
            "text/plain": [
              "' 1. কাজী নজরুল ইসলাম\\n2. জিবনানন্দ দাশ\\n3. রবীন্দ্রনাথ ঠাকুর\\n4. মিজানুর রহমান\\n5. শামসুর রাহমান'"
            ]
          },
          "execution_count": 9,
          "metadata": {},
          "output_type": "execute_result"
        }
      ],
      "source": [
        "get_aya_output(\"বাংলাদেশের ৫ জন কবির নাম লিস্ট আকারে লিখ।\")"
      ]
    },
    {
      "cell_type": "markdown",
      "id": "K80-Nb3hNOmq",
      "metadata": {
        "id": "K80-Nb3hNOmq"
      },
      "source": [
        "### Zero-shot"
      ]
    },
    {
      "cell_type": "code",
      "execution_count": null,
      "id": "QzZT2MgoNOmq",
      "metadata": {
        "colab": {
          "base_uri": "https://localhost:8080/",
          "height": 49,
          "referenced_widgets": [
            "514d35ecf5ba42b0a87e17f892e2f45c",
            "dc1770d6734f41109496b5ab96cd7eba",
            "d3c9ff4108bb40cbab050fa465751f86",
            "7f94148dfdaf4f29b1eaf4b361a1301a",
            "c75cb485d29b41cbb287218ca3e0f5e7",
            "f229a8a4800c4d858ffc3d9ed49579d6",
            "e3d4da85598948589c3b33a462066f69",
            "9ccac7ee24a64f02928795403aee43ac",
            "41c8dc4c4ab44ab4964d6f80f628a11f",
            "44333a38755e4f3e8198c0bfce2bdf11",
            "bde7790ab6ed4f2bbf43338b4d18a629"
          ]
        },
        "id": "QzZT2MgoNOmq",
        "outputId": "4e0f3501-85bb-4f0f-d06c-b9badbbb65a2",
        "tags": []
      },
      "outputs": [
        {
          "data": {
            "application/vnd.jupyter.widget-view+json": {
              "model_id": "514d35ecf5ba42b0a87e17f892e2f45c",
              "version_major": 2,
              "version_minor": 0
            },
            "text/plain": [
              "  0%|          | 0/156 [00:00<?, ?it/s]"
            ]
          },
          "metadata": {},
          "output_type": "display_data"
        }
      ],
      "source": [
        "import time\n",
        "from tqdm.notebook import tqdm\n",
        "\n",
        "# Assuming df is the original DataFrame and category_translation is defined\n",
        "df['predicted_category'] = None\n",
        "\n",
        "# Try to load the progress from the Parquet file\n",
        "try:\n",
        "    df_progress = pd.read_parquet('aya_101_zs_sentiment_results.parquet')\n",
        "    start_index = df_progress['predicted_category'].last_valid_index() + 1\n",
        "except (FileNotFoundError, ValueError):\n",
        "    df_progress = df.copy()\n",
        "    start_index = 0\n",
        "\n",
        "\n",
        "for i, row in tqdm(df.iloc[start_index:].iterrows(), initial=start_index, total=len(df) - start_index):\n",
        "    review = row['INDIC REVIEW']\n",
        "    label = row['LABEL']\n",
        "    label_bn = category_translation.get(label, label)  # Use the translated label or fallback to the original\n",
        "\n",
        "    prompt_input = zero_shot + \" ###\\nরিভিউ: \" + review + \"\\n### অনুভূতি:\"\n",
        "\n",
        "    try:\n",
        "        df.at[i, 'predicted_category'] = get_aya_output(prompt_input)\n",
        "    except Exception as e:\n",
        "        print(f\"Error at index {i}: {e}\")\n",
        "        time.sleep(5)\n",
        "\n",
        "    if (i + 1) % 100 == 0:\n",
        "        df.to_parquet('aya_101_zs_sentiment_results.parquet')\n",
        "\n",
        "# Save final progress\n",
        "df.to_parquet('aya_101_zs_sentiment_results.parquet')"
      ]
    },
    {
      "cell_type": "code",
      "execution_count": null,
      "id": "yhnlkVNRNOmr",
      "metadata": {
        "id": "yhnlkVNRNOmr",
        "tags": []
      },
      "outputs": [],
      "source": [
        "zs_results = pd.read_parquet(\"aya_101_zs_sentiment_results.parquet\")\n",
        "zs_results.tail()"
      ]
    },
    {
      "cell_type": "code",
      "execution_count": null,
      "id": "pY0udTF4WxS3",
      "metadata": {
        "id": "pY0udTF4WxS3"
      },
      "outputs": [],
      "source": [
        "# Empty the GPU cache\n",
        "torch.cuda.empty_cache()"
      ]
    },
    {
      "cell_type": "markdown",
      "id": "GyMhLS85w6hw",
      "metadata": {
        "id": "GyMhLS85w6hw"
      },
      "source": [
        "### Three Shot"
      ]
    },
    {
      "cell_type": "code",
      "execution_count": null,
      "id": "_JvqmAIxNOmr",
      "metadata": {
        "colab": {
          "base_uri": "https://localhost:8080/",
          "height": 49,
          "referenced_widgets": [
            "c9033310ab394d74a2a8379f2d5da2c9",
            "a088e94017894ba4a223f491dee7dd66",
            "edd0870e31d642ad9d7ad5d38bbecf64",
            "0e5c19f06d9940888b1b23b2b797dda5",
            "3639c43d0092417ea8f4d991607b0035",
            "734966867c374f69a32a13c0924c896e",
            "ca322a21817641f4b7c6d3fe475978a6",
            "140d38e394d649dfa97c1ff203a85106",
            "6c778bb7569d490cbd5028262467244f",
            "9b47e7ea204f429da0c77a9155b16a40",
            "53a4ae5230914790afc1e6eafb760810"
          ]
        },
        "id": "_JvqmAIxNOmr",
        "outputId": "e1c6bf26-b484-491d-8fd4-2c476d424e92",
        "tags": []
      },
      "outputs": [
        {
          "data": {
            "application/vnd.jupyter.widget-view+json": {
              "model_id": "c9033310ab394d74a2a8379f2d5da2c9",
              "version_major": 2,
              "version_minor": 0
            },
            "text/plain": [
              "  0%|          | 0/156 [00:00<?, ?it/s]"
            ]
          },
          "metadata": {},
          "output_type": "display_data"
        }
      ],
      "source": [
        "import time\n",
        "from tqdm.notebook import tqdm\n",
        "\n",
        "# Assuming df is the original DataFrame and category_translation is defined\n",
        "df['predicted_category'] = None\n",
        "\n",
        "# Try to load the progress from the Parquet file\n",
        "try:\n",
        "    df_progress = pd.read_parquet('aya_101_ts_sentiment_results.parquet')\n",
        "    start_index = df_progress['predicted_category'].last_valid_index() + 1\n",
        "except (FileNotFoundError, ValueError):\n",
        "    df_progress = df.copy()\n",
        "    start_index = 0\n",
        "\n",
        "\n",
        "for i, row in tqdm(df.iloc[start_index:].iterrows(), initial=start_index, total=len(df) - start_index):\n",
        "    review = row['INDIC REVIEW']\n",
        "    label = row['LABEL']\n",
        "    label_bn = category_translation.get(label, label)  # Use the translated label or fallback to the original\n",
        "\n",
        "    prompt_input = three_shot + \" ###\\nরিভিউ: \" + review + \"\\n### অনুভূতি:\"\n",
        "\n",
        "    try:\n",
        "        df.at[i, 'predicted_category'] = get_aya_output(prompt_input, max_new_tokens = 256)\n",
        "    except Exception as e:\n",
        "        print(f\"Error at index {i}: {e}\")\n",
        "        time.sleep(5)\n",
        "\n",
        "    if (i + 1) % 100 == 0:\n",
        "        df.to_parquet('aya_101_ts_sentiment_results.parquet')\n",
        "\n",
        "# Save final progress\n",
        "df.to_parquet('aya_101_ts_sentiment_results.parquet')"
      ]
    },
    {
      "cell_type": "code",
      "execution_count": null,
      "id": "kjTrt9yyNOmr",
      "metadata": {
        "id": "kjTrt9yyNOmr",
        "tags": []
      },
      "outputs": [],
      "source": [
        "ts_results = pd.read_parquet(\"aya_101_ts_sentiment_results.parquet\")\n",
        "ts_results.tail()"
      ]
    },
    {
      "cell_type": "code",
      "execution_count": null,
      "id": "pP98Ad5LWx6e",
      "metadata": {
        "id": "pP98Ad5LWx6e"
      },
      "outputs": [],
      "source": [
        "# Empty the GPU cache\n",
        "torch.cuda.empty_cache()"
      ]
    },
    {
      "cell_type": "markdown",
      "id": "arm537EKw_K1",
      "metadata": {
        "id": "arm537EKw_K1"
      },
      "source": [
        "### Chain of Thought"
      ]
    },
    {
      "cell_type": "code",
      "execution_count": null,
      "id": "-3EfTVbmNOms",
      "metadata": {
        "colab": {
          "base_uri": "https://localhost:8080/",
          "height": 49,
          "referenced_widgets": [
            "e29cd817cfcf4c5cae52f1bfaf433060",
            "adb118f42a01419ba97c37f409c1e9ee",
            "5407b56dfee34b47bcc65896fe66106c",
            "5e3505ecf17040388dd8a37cd729e67d",
            "e82765e675c840918a6bbd102e803264",
            "2a8308fbbc9141749f0288a193e60983",
            "a043d3f57db04455a5a70d634f75e4be",
            "689dbee8a05f478682fa305860a22f14",
            "8b0db616dbb641348e4cfaffe2c14c25",
            "6860fabdea8c409d87e955419a4b5bec",
            "e871d2a7e3ba41148280dab69f59e537"
          ]
        },
        "id": "-3EfTVbmNOms",
        "outputId": "98ce5f12-28df-4e55-88bf-c67aff5fcd3d",
        "tags": []
      },
      "outputs": [
        {
          "data": {
            "application/vnd.jupyter.widget-view+json": {
              "model_id": "e29cd817cfcf4c5cae52f1bfaf433060",
              "version_major": 2,
              "version_minor": 0
            },
            "text/plain": [
              "  0%|          | 0/156 [00:00<?, ?it/s]"
            ]
          },
          "metadata": {},
          "output_type": "display_data"
        }
      ],
      "source": [
        "import time\n",
        "from tqdm.notebook import tqdm\n",
        "\n",
        "# Assuming df is the original DataFrame and category_translation is defined\n",
        "df['predicted_category'] = None\n",
        "\n",
        "# Try to load the progress from the Parquet file\n",
        "try:\n",
        "    df_progress = pd.read_parquet('aya_101_cot_sentiment_results.parquet')\n",
        "    start_index = df_progress['predicted_category'].last_valid_index() + 1\n",
        "except (FileNotFoundError, ValueError):\n",
        "    df_progress = df.copy()\n",
        "    start_index = 0\n",
        "\n",
        "\n",
        "for i, row in tqdm(df.iloc[start_index:].iterrows(), initial=start_index, total=len(df) - start_index):\n",
        "    review = row['INDIC REVIEW']\n",
        "    label = row['LABEL']\n",
        "    label_bn = category_translation.get(label, label)  # Use the translated label or fallback to the original\n",
        "\n",
        "    prompt_input = chain_of_thought + \"\\n### রিভিউ: \" + review\n",
        "\n",
        "    try:\n",
        "        df.at[i, 'predicted_category'] = get_aya_output(prompt_input, max_new_tokens = 256)\n",
        "    except Exception as e:\n",
        "        print(f\"Error at index {i}: {e}\")\n",
        "        time.sleep(5)\n",
        "\n",
        "    if (i + 1) % 100 == 0:\n",
        "        df.to_parquet('aya_101_cot_sentiment_results.parquet')\n",
        "\n",
        "# Save final progress\n",
        "df.to_parquet('aya_101_cot_sentiment_results.parquet')"
      ]
    },
    {
      "cell_type": "code",
      "execution_count": null,
      "id": "DFnQ73L6NOms",
      "metadata": {
        "id": "DFnQ73L6NOms",
        "tags": []
      },
      "outputs": [],
      "source": [
        "cot_results = pd.read_parquet(\"aya_101_cot_sentiment_results.parquet\")\n",
        "cot_results.tail()"
      ]
    },
    {
      "cell_type": "code",
      "execution_count": null,
      "id": "AOVOq001Wyzs",
      "metadata": {
        "id": "AOVOq001Wyzs"
      },
      "outputs": [],
      "source": [
        "# Empty the GPU cache\n",
        "torch.cuda.empty_cache()"
      ]
    },
    {
      "cell_type": "markdown",
      "id": "5KA8YhUFkWvp",
      "metadata": {
        "id": "5KA8YhUFkWvp"
      },
      "source": [
        "### Category Prediction"
      ]
    },
    {
      "cell_type": "code",
      "execution_count": null,
      "id": "OITeulGUNOms",
      "metadata": {
        "id": "OITeulGUNOms",
        "tags": []
      },
      "outputs": [],
      "source": [
        "def clean_predicted_category(text, category_translation):\n",
        "    # Check if the text is None\n",
        "    if text is None:\n",
        "        return \"\"\n",
        "\n",
        "    # Check if any category is directly present in the prediction string\n",
        "    for category in category_translation.values():\n",
        "        if category in text:\n",
        "            return category\n",
        "\n",
        "    # If no direct match, extract the text within ** ** and remove spaces\n",
        "    import re\n",
        "    match = re.search(r'\\*\\*([^*]*)\\*\\*', text)\n",
        "    if match:\n",
        "        cleaned_text = match.group(1).replace(\" \", \"\")\n",
        "        # Check if cleaned text matches any category in Bangla\n",
        "        for category in category_translation.values():\n",
        "            if cleaned_text == category:\n",
        "                return category\n",
        "\n",
        "    # If no match found, return None\n",
        "    return \"\""
      ]
    },
    {
      "cell_type": "code",
      "execution_count": null,
      "id": "m4VirxaUNOmt",
      "metadata": {
        "colab": {
          "base_uri": "https://localhost:8080/",
          "height": 35
        },
        "id": "m4VirxaUNOmt",
        "outputId": "f7702214-aa18-4069-c76f-71bef73ad6d5",
        "tags": []
      },
      "outputs": [
        {
          "data": {
            "application/vnd.google.colaboratory.intrinsic+json": {
              "type": "string"
            },
            "text/plain": [
              "'নেগেটিভ'"
            ]
          },
          "execution_count": 20,
          "metadata": {},
          "output_type": "execute_result"
        }
      ],
      "source": [
        "clean_predicted_category(\"অনুভূতি: **নেগেটিভ** \\n\\nরিভিউতে বলা হয়েছে ...\", category_translation)"
      ]
    },
    {
      "cell_type": "code",
      "execution_count": null,
      "id": "Ag4AbppwNOmt",
      "metadata": {
        "colab": {
          "base_uri": "https://localhost:8080/",
          "height": 35
        },
        "id": "Ag4AbppwNOmt",
        "outputId": "d496e5ec-20d1-4929-a571-d503e9e424de",
        "tags": []
      },
      "outputs": [
        {
          "data": {
            "application/vnd.google.colaboratory.intrinsic+json": {
              "type": "string"
            },
            "text/plain": [
              "'পজিটিভ'"
            ]
          },
          "execution_count": 21,
          "metadata": {},
          "output_type": "execute_result"
        }
      ],
      "source": [
        "clean_predicted_category(\"অনুভূতি: **পজিটিভ** \\n\\nদরগুলি প্রতিযোগিতামূলক...\", category_translation)"
      ]
    },
    {
      "cell_type": "code",
      "execution_count": null,
      "id": "XCIW6tHRNOmt",
      "metadata": {
        "colab": {
          "base_uri": "https://localhost:8080/",
          "height": 35
        },
        "id": "XCIW6tHRNOmt",
        "outputId": "1b319902-b200-4aab-f9e3-0ee0f709b699",
        "tags": []
      },
      "outputs": [
        {
          "data": {
            "application/vnd.google.colaboratory.intrinsic+json": {
              "type": "string"
            },
            "text/plain": [
              "''"
            ]
          },
          "execution_count": 22,
          "metadata": {},
          "output_type": "execute_result"
        }
      ],
      "source": [
        "clean_predicted_category(None, category_translation)"
      ]
    },
    {
      "cell_type": "markdown",
      "id": "rMZHHk_Dkcpe",
      "metadata": {
        "id": "rMZHHk_Dkcpe"
      },
      "source": [
        "### Classification Evaluation"
      ]
    },
    {
      "cell_type": "code",
      "execution_count": null,
      "id": "jlWncoYsNOmt",
      "metadata": {
        "id": "jlWncoYsNOmt",
        "tags": []
      },
      "outputs": [],
      "source": [
        "import pandas as pd\n",
        "import numpy as np\n",
        "from sklearn.metrics import accuracy_score, precision_score, recall_score, f1_score, roc_auc_score, log_loss\n",
        "from sklearn.preprocessing import LabelBinarizer\n",
        "\n",
        "import numpy as np\n",
        "\n",
        "def update_cleaned_predicted_category(row):\n",
        "    if pd.isna(row['cleaned_predicted_category']) or row['cleaned_predicted_category'] == '':\n",
        "        if row['category_bn'] == 'পজিটিভ':\n",
        "            return 'নেগেটিভ'\n",
        "        elif row['category_bn'] == 'নেগেটিভ':\n",
        "            return 'পজিটিভ'\n",
        "    return row['cleaned_predicted_category']\n",
        "\n",
        "def evaluate_classification(df):\n",
        "    df['category'] = df['LABEL']\n",
        "    # Map English category to Bangla\n",
        "    df['category_bn'] = df['category'].map(category_translation)\n",
        "\n",
        "    # Clean the predicted categories\n",
        "    df['cleaned_predicted_category'] = df['predicted_category'].apply(clean_predicted_category, args=(category_translation,))\n",
        "\n",
        "    # Update the cleaned predicted categories\n",
        "    for index, row in df.iterrows():\n",
        "        old_value = row['cleaned_predicted_category']\n",
        "        if pd.isna(old_value) or old_value == '':\n",
        "            if row['category_bn'] == 'পজিটিভ':\n",
        "                new_value = 'নেগেটিভ'\n",
        "            elif row['category_bn'] == 'নেগেটিভ':\n",
        "                new_value = 'পজিটিভ'\n",
        "            df.at[index, 'cleaned_predicted_category'] = new_value\n",
        "\n",
        "    unique_labels = set(df['category_bn'].unique()).union(set(df['cleaned_predicted_category'].unique()))\n",
        "    if len(unique_labels) > 2:\n",
        "        raise ValueError(f\"Expected binary classification but found multiple labels: {unique_labels}\")\n",
        "\n",
        "    # Calculate metrics\n",
        "    y_true = df['category_bn']\n",
        "    y_pred = df['cleaned_predicted_category']\n",
        "\n",
        "\n",
        "    # Ensure the labels are binary\n",
        "    lb = LabelBinarizer()\n",
        "    y_true_binarized = lb.fit_transform(y_true)\n",
        "    y_pred_binarized = lb.transform(y_pred)\n",
        "\n",
        "    if len(lb.classes_) != 2:\n",
        "        raise ValueError(f\"Expected binary classification but found these classes: {lb.classes_}\")\n",
        "\n",
        "    pos_label = lb.classes_[1]  # The positive label\n",
        "\n",
        "    accuracy = accuracy_score(y_true, y_pred)\n",
        "    precision = precision_score(y_true, y_pred, pos_label=pos_label, average='binary', zero_division=0)\n",
        "    recall = recall_score(y_true, y_pred, pos_label=pos_label, average='binary', zero_division=0)\n",
        "    f1 = f1_score(y_true, y_pred, pos_label=pos_label, average='binary', zero_division=0)\n",
        "    auc_roc = roc_auc_score(y_true_binarized, y_pred_binarized)\n",
        "    logloss = log_loss(y_true_binarized, y_pred_binarized)\n",
        "\n",
        "    metrics = {\n",
        "        'accuracy': accuracy,\n",
        "        'precision': precision,\n",
        "        'recall': recall,\n",
        "        'f1_score': f1,\n",
        "        'auc_roc': auc_roc,\n",
        "        'log_loss': logloss\n",
        "    }\n",
        "\n",
        "    return metrics"
      ]
    },
    {
      "cell_type": "code",
      "execution_count": null,
      "id": "WMRNQ3ymkhi-",
      "metadata": {
        "colab": {
          "base_uri": "https://localhost:8080/"
        },
        "id": "WMRNQ3ymkhi-",
        "outputId": "23a7d4fc-e811-4a16-cbf3-a186afdc8256"
      },
      "outputs": [
        {
          "name": "stdout",
          "output_type": "stream",
          "text": [
            "accuracy: 0.3654\n",
            "precision: 0.3462\n",
            "recall: 0.3600\n",
            "f1_score: 0.3529\n",
            "auc_roc: 0.3652\n",
            "log_loss: 22.8739\n"
          ]
        }
      ],
      "source": [
        "zs_df = pd.read_parquet(\"aya_101_zs_sentiment_results.parquet\")\n",
        "metrics = evaluate_classification(zs_df)\n",
        "for metric, value in metrics.items():\n",
        "    print(f\"{metric}: {value:.4f}\")"
      ]
    },
    {
      "cell_type": "code",
      "execution_count": null,
      "id": "Z6capgVLNOmu",
      "metadata": {
        "colab": {
          "base_uri": "https://localhost:8080/"
        },
        "id": "Z6capgVLNOmu",
        "outputId": "c2bfebec-3eba-41bf-eea0-8b8533767303",
        "tags": []
      },
      "outputs": [
        {
          "name": "stdout",
          "output_type": "stream",
          "text": [
            "accuracy: 0.9295\n",
            "precision: 0.9706\n",
            "recall: 0.8800\n",
            "f1_score: 0.9231\n",
            "auc_roc: 0.9277\n",
            "log_loss: 2.5415\n"
          ]
        }
      ],
      "source": [
        "ts_df = pd.read_parquet(\"aya_101_ts_sentiment_results.parquet\")\n",
        "metrics = evaluate_classification(ts_df)\n",
        "for metric, value in metrics.items():\n",
        "    print(f\"{metric}: {value:.4f}\")"
      ]
    },
    {
      "cell_type": "code",
      "execution_count": null,
      "id": "VfCg5iByNOmu",
      "metadata": {
        "colab": {
          "base_uri": "https://localhost:8080/"
        },
        "id": "VfCg5iByNOmu",
        "outputId": "99cc294a-a8e9-41e6-c1af-6aa6d99bc226",
        "tags": []
      },
      "outputs": [
        {
          "name": "stdout",
          "output_type": "stream",
          "text": [
            "accuracy: 0.0192\n",
            "precision: 0.0125\n",
            "recall: 0.0133\n",
            "f1_score: 0.0129\n",
            "auc_roc: 0.0190\n",
            "log_loss: 35.3505\n"
          ]
        }
      ],
      "source": [
        "cot_df = pd.read_parquet(\"aya_101_cot_sentiment_results.parquet\")\n",
        "metrics = evaluate_classification(cot_df)\n",
        "for metric, value in metrics.items():\n",
        "    print(f\"{metric}: {value:.4f}\")"
      ]
    },
    {
      "cell_type": "markdown",
      "id": "6XOMeSXT3Py5",
      "metadata": {
        "id": "6XOMeSXT3Py5"
      },
      "source": [
        "## AYA - Summarization"
      ]
    },
    {
      "cell_type": "code",
      "execution_count": null,
      "id": "l9AmOBLyQi4V",
      "metadata": {
        "id": "l9AmOBLyQi4V"
      },
      "outputs": [],
      "source": [
        "import pandas as pd\n",
        "from datasets import load_dataset\n",
        "\n",
        "# Load the Bengali subset of the dataset\n",
        "dataset = load_dataset('csebuetnlp/xlsum', 'bengali')\n",
        "\n",
        "# Convert to pandas dataframe\n",
        "df = dataset['test'].to_pandas()  # Assuming you want the training split\n",
        "\n",
        "df = df.head(512) # we choose first 512 samples for evaluation\n",
        "\n",
        "# Display the dataframe\n",
        "df.head()"
      ]
    },
    {
      "cell_type": "code",
      "execution_count": null,
      "id": "WiZRCbQsQl-Z",
      "metadata": {
        "id": "WiZRCbQsQl-Z"
      },
      "outputs": [],
      "source": [
        "zero_shot = \"\"\"আপনাকে একটি দীর্ঘ বাংলা বিবরণ দেওয়া হয়েছে। আপনাকে এই বিবরণের ১ বা ২ বাক্যে সারমর্ম লিখতে হবে।\n",
        "\n",
        "\"\"\""
      ]
    },
    {
      "cell_type": "code",
      "execution_count": null,
      "id": "6z7kAJFMQoXu",
      "metadata": {
        "id": "6z7kAJFMQoXu"
      },
      "outputs": [],
      "source": [
        "three_shot = \"\"\"আপনাকে একটি দীর্ঘ বাংলা বিবরণ দেওয়া হয়েছে। আপনাকে এই বিবরণের ১ বা ২ বাক্যে সারমর্ম লিখতে হবে।\n",
        "\n",
        "### উদাহরণ ১\n",
        "### বিবরণ:\n",
        "আলজেরিয়ায় পরীক্ষার হল স্কুলের ছাত্রছাত্রীরা যাতে পরীক্ষার হলে নকল করতে না পারে কিম্বা আগেভাগেই প্রশ্ন না পেতে না পারে সেজন্যে কর্তৃপক্ষ সাময়িকভাবে দেশটিতে সোশাল মিডিয়া বন্ধ করে দিয়েছে। এর আগে স্কুলের পরীক্ষায় অনলাইনের মাধ্যমে বহু প্রশ্ন ফাঁস হয়ে গেলে দেশটিতে কর্তৃপক্ষের তীব্র সমালোচনা হয়। তখন অর্ধেকেরও বেশি শিক্ষার্থীকে দ্বিতীয়বার পরীক্ষায় বসত হয়েছে। সংবাদ মাধ্যমগুলোর খবরে বলা হচ্ছে, জুন মাসে বহু ছাত্রছাত্রীই পরীক্ষার আগে ফেসবুকে ও অন্যান্য সোশাল মিডিয়া থেকে প্রশ্ন হাতে পেয়ে যায়। এর আগের বছরগুলোতেও দেশটিতে এধরনের ঘটনা ঘটেছে। সরকারি কর্মকর্তারা বলছেন, পরীক্ষার্থীদেরকে নকল ও প্রশ্ন ফাঁসের হাত থেকে রক্ষার জন্যেই সোশাল মিডিয়া ব্লক করে দেওয়ার সিদ্ধান্ত নেওয়া হয়েছে।\n",
        "\n",
        "### সারমর্ম:\n",
        "আফ্রিকার দেশ আলজেরিয়ায় পরীক্ষায় নকল ও প্রশ্ন ফাঁস করতে নজিরবিহীন এক উদ্যোগ নিয়েছে।\n",
        "\n",
        "### উদাহরণ ২\n",
        "### বিবরণ:\n",
        "চ্যাম্পিয়ন্স লিগে এক ক্লাবের হয়ে ১০০ গোল করা একমাত্র খেলোয়াড় রোনালদো বুধবার চ্যাম্পিয়ন্স লিগে পিএসজির বিপক্ষে ৩-১এর জয়ে ২ গোল করে এক ক্লাবের হয়ে ১০০ চ্যাম্পিয়ন্স লিগ গোল করা একমাত্র খেলোয়াড় হয়েছেন রেয়াল মাদ্রিদের ক্রিশ্চিয়ানো রোনালদো। এই তালিকায় দ্বিতীয় স্থানে রয়েছেন তাঁর চেয়ে ৪ গোল কম করা লিওনেল মেসি। রিয়াল মাদ্রিদের হয়ে ১০০ গোলের পর রোনালদো চ্যাম্পিয়ন্স লিগে রোনালদোর আরো রেকর্ড রেয়াল মাদ্রিদে যোগ দেয়ার আগে ম্যানচেস্টার ইউনাইটেডের হয়ে করা ১৫টি গোল মিলিয়ে চ্যাম্পিয়ন্স লিগে রোনালদোর মোট গোল ১১৬টি। যা দ্বিতীয় স্থানে থাকা মেসির চেয়ে ১৯টি বেশী। চ্যাম্পিয়ন্স লিগের ইতিহাসে এই টুর্নামেন্টে খেলা ১৩৭টি ক্লাবের ১১৮টির মোট গোলসংখ্যা রোনালদোর একার গোলের চেয়ে কম।\n",
        "\n",
        "### সারমর্ম:\n",
        "১০০ গোলের ক্লাবে একমাত্র সদস্য - ক্রিশ্চিয়ানো রোনালদো।\n",
        "\n",
        "### উদাহরণ ৩\n",
        "### বিবরণ:\n",
        "বৈরুতের বন্দরের নিকটবর্তী অঞ্চল সবচেয়ে বেশি ক্ষতিগ্রস্ত হয় বিস্ফোরণে এমনও খবর পাওয়া যাচ্ছে যে কয়েক'শো কিলোমিটার দূরের সাইপ্রাসেও ঐ বিস্ফোরণের আঁচ পাওয়া গেছে। কর্মকর্তারা বলছেন এই বিস্ফোরণ দুর্ঘটনা। পরিকল্পিতভাবে এই বিস্ফোরণ ঘটানো হয়নি। তারা বলছেন গুদামে ছয় বছর ধরে মজুত রাখা অত্যন্ত বিপদজনক বিস্ফোরক থেকে এই দুর্ঘটনা ঘটেছে। তবে ঠিক কী কারণে এই বিস্ফোরণ ঘটেছে, তা পরিস্কার নয়। ক্ষতিগ্রস্থ ভবনের সামনে লেবাননের 'লেবানিজ এমিগ্র্যান্ট' স্ট্যাচু বহু ঘরবাড়ি ধ্বংস হয়ে গেছে বিস্ফোরণে বিস্ফোরণে পর বৈরুতের আকাশে ধোঁয়া আহত এক ব্যক্তিকে সরিয়ে নিয়ে যাচ্ছেন উদ্ধারকারীরা বিস্ফোরণে আহত হয়েছেন হাজার হাজার মানুষ স্থানীয় সংবাদমাধ্যমের খবরে ধ্বংসস্তুপের নিচে মানুষকে আটকা পড়ে থাকতে দেখা গেছে। বিস্ফোরণের পর রাস্তাগুলোও যেন ধ্বংসস্তূপে পরিণত হয় বিস্ফোরণের স্থান থেকে নির্গত হচ্ছে ধোঁয়া সব ছবির কপিরাইট রয়েছে\n",
        "\n",
        "### সারমর্ম:\n",
        "বিশাল এক বিস্ফোরণ ব্যাপক ধ্বংসযজ্ঞ চালিয়েছে লেবাননের রাজধানী বৈরুতে। বহু মানুষ মারা গেছে, আহত হয়েছে কয়েক হাজারের বেশি।\n",
        "\n",
        "### আপনার কাজ\n",
        "\n",
        "\"\"\""
      ]
    },
    {
      "cell_type": "code",
      "execution_count": null,
      "id": "zC1M4alJQqJL",
      "metadata": {
        "id": "zC1M4alJQqJL"
      },
      "outputs": [],
      "source": [
        "chain_of_thought = \"\"\"আপনাকে একটি দীর্ঘ বাংলা বিবরণ দেওয়া হয়েছে। আপনাকে এই বিবরণের ১ বা ২ বাক্যে সারমর্ম লিখতে হবে। সারমর্ম লিখতে গিয়ে নিম্নলিখিত ধাপগুলি অনুসরণ করুন:\n",
        "\n",
        "### ধাপ ১: মূল বিষয়বস্তু বোঝা\n",
        "বিবরণটি পড়ুন এবং এর মূল বিষয় বা ঘটনাটি বোঝার চেষ্টা করুন। প্রধান তথ্য বা ঘটনা শনাক্ত করুন যা বিবরণের সারমর্ম হতে পারে।\n",
        "\n",
        "### ধাপ ২: প্রধান তথ্য চিহ্নিত করা\n",
        "বিবরণের প্রধান তথ্য বা ঘটনার সংক্ষিপ্ত রূপ বের করুন। কোন বিষয়গুলি সবচেয়ে গুরুত্বপূর্ণ তা চিহ্নিত করুন।\n",
        "\n",
        "### ধাপ ৩: সারমর্ম লেখা\n",
        "বিবরণের প্রধান তথ্যগুলি ব্যবহার করে ১ বা ২ বাক্যে সারমর্ম লিখুন। এটি সংক্ষিপ্ত এবং সুনির্দিষ্ট হতে হবে।\n",
        "\n",
        "### উদাহরণ ১\n",
        "### বিবরণ:\n",
        "আলজেরিয়ায় পরীক্ষার হল স্কুলের ছাত্রছাত্রীরা যাতে পরীক্ষার হলে নকল করতে না পারে কিম্বা আগেভাগেই প্রশ্ন না পেতে না পারে সেজন্যে কর্তৃপক্ষ সাময়িকভাবে দেশটিতে সোশাল মিডিয়া বন্ধ করে দিয়েছে। এর আগে স্কুলের পরীক্ষায় অনলাইনের মাধ্যমে বহু প্রশ্ন ফাঁস হয়ে গেলে দেশটিতে কর্তৃপক্ষের তীব্র সমালোচনা হয়। তখন অর্ধেকেরও বেশি শিক্ষার্থীকে দ্বিতীয়বার পরীক্ষায় বসত হয়েছে। সংবাদ মাধ্যমগুলোর খবরে বলা হচ্ছে, জুন মাসে বহু ছাত্রছাত্রীই পরীক্ষার আগে ফেসবুকে ও অন্যান্য সোশাল মিডিয়া থেকে প্রশ্ন হাতে পেয়ে যায়। এর আগের বছরগুলোতেও দেশটিতে এধরনের ঘটনা ঘটেছে। সরকারি কর্মকর্তারা বলছেন, পরীক্ষার্থীদেরকে নকল ও প্রশ্ন ফাঁসের হাত থেকে রক্ষার জন্যেই সোশাল মিডিয়া ব্লক করে দেওয়ার সিদ্ধান্ত নেওয়া হয়েছে।\n",
        "\n",
        "#### চিন্তাধারা:\n",
        "- মূল বিষয়বস্তু: পরীক্ষার হলে নকল ও প্রশ্ন ফাঁস ঠেকাতে সোশাল মিডিয়া বন্ধ।\n",
        "- প্রধান তথ্য: নকল ও প্রশ্ন ফাঁস ঠেকাতে আলজেরিয়ায় সোশাল মিডিয়া সাময়িকভাবে বন্ধ।\n",
        "\n",
        "### সারমর্ম:\n",
        "আফ্রিকার দেশ আলজেরিয়ায় পরীক্ষায় নকল ও প্রশ্ন ফাঁস করতে নজিরবিহীন এক উদ্যোগ নিয়েছে।\n",
        "\n",
        "### উদাহরণ ২\n",
        "### বিবরণ:\n",
        "চ্যাম্পিয়ন্স লিগে এক ক্লাবের হয়ে ১০০ গোল করা একমাত্র খেলোয়াড় রোনালদো বুধবার চ্যাম্পিয়ন্স লিগে পিএসজির বিপক্ষে ৩-১এর জয়ে ২ গোল করে এক ক্লাবের হয়ে ১০০ চ্যাম্পিয়ন্স লিগ গোল করা একমাত্র খেলোয়াড় হয়েছেন রেয়াল মাদ্রিদের ক্রিশ্চিয়ানো রোনালদো। এই তালিকায় দ্বিতীয় স্থানে রয়েছেন তাঁর চেয়ে ৪ গোল কম করা লিওনেল মেসি। রিয়াল মাদ্রিদের হয়ে ১০০ গোলের পর রোনালদো চ্যাম্পিয়ন্স লিগে রোনালদোর আরো রেকর্ড রেয়াল মাদ্রিদে যোগ দেয়ার আগে ম্যানচেস্টার ইউনাইটেডের হয়ে করা ১৫টি গোল মিলিয়ে চ্যাম্পিয়ন্স লিগে রোনালদোর মোট গোল ১১৬টি। যা দ্বিতীয় স্থানে থাকা মেসির চেয়ে ১৯টি বেশী। চ্যাম্পিয়ন্স লিগের ইতিহাসে এই টুর্নামেন্টে খেলা ১৩৭টি ক্লাবের ১১৮টির মোট গোলসংখ্যা রোনালদোর একার গোলের চেয়ে কম।\n",
        "\n",
        "#### চিন্তাধারা:\n",
        "- মূল বিষয়বস্তু: রোনালদোর ১০০ গোল করা।\n",
        "- প্রধান তথ্য: এক ক্লাবের হয়ে ১০০ গোল করা একমাত্র খেলোয়াড় রোনালদো।\n",
        "\n",
        "### সারমর্ম:\n",
        "১০০ গোলের ক্লাবে একমাত্র সদস্য - ক্রিশ্চিয়ানো রোনালদো।\n",
        "\n",
        "### উদাহরণ ৩\n",
        "### বিবরণ:\n",
        "বৈরুতের বন্দরের নিকটবর্তী অঞ্চল সবচেয়ে বেশি ক্ষতিগ্রস্ত হয় বিস্ফোরণে এমনও খবর পাওয়া যাচ্ছে যে কয়েক'শো কিলোমিটার দূরের সাইপ্রাসেও ঐ বিস্ফোরণের আঁচ পাওয়া গেছে। কর্মকর্তারা বলছেন এই বিস্ফোরণ দুর্ঘটনা। পরিকল্পিতভাবে এই বিস্ফোরণ ঘটানো হয়নি। তারা বলছেন গুদামে ছয় বছর ধরে মজুত রাখা অত্যন্ত বিপদজনক বিস্ফোরক থেকে এই দুর্ঘটনা ঘটেছে। তবে ঠিক কী কারণে এই বিস্ফোরণ ঘটেছে, তা পরিস্কার নয়। ক্ষতিগ্রস্থ ভবনের সামনে লেবাননের 'লেবানিজ এমিগ্র্যান্ট' স্ট্যাচু বহু ঘরবাড়ি ধ্বংস হয়ে গেছে বিস্ফোরণে বিস্ফোরণে পর বৈরুতের আকাশে ধোঁয়া আহত এক ব্যক্তিকে সরিয়ে নিয়ে যাচ্ছেন উদ্ধারকারীরা বিস্ফোরণে আহত হয়েছেন হাজার হাজার মানুষ স্থানীয় সংবাদমাধ্যমের খবরে ধ্বংসস্তুপের নিচে মানুষকে আটকা পড়ে থাকতে দেখা গেছে। বিস্ফোরণের পর রাস্তাগুলোও যেন ধ্বংসস্তূপে পরিণত হয় বিস্ফোরণের স্থান থেকে নির্গত হচ্ছে ধোঁয়া সব ছবির কপিরাইট রয়েছে\n",
        "\n",
        "#### চিন্তাধারা:\n",
        "- মূল বিষয়বস্তু: বৈরুতের বিস্ফোরণ।\n",
        "- প্রধান তথ্য: বিস্ফোরণে বৈরুতে ব্যাপক ধ্বংসযজ্ঞ ও বহু মানুষ আহত।\n",
        "\n",
        "### সারমর্ম:\n",
        "বিশাল এক বিস্ফোরণ ব্যাপক ধ্বংসযজ্ঞ চালিয়েছে লেবাননের রাজধানী বৈরুতে। বহু মানুষ মারা গেছে, আহত হয়েছে কয়েক হাজারের বেশি।\n",
        "\n",
        "### আপনার কাজ\n",
        "\n",
        "\"\"\""
      ]
    },
    {
      "cell_type": "code",
      "execution_count": null,
      "id": "Sybp_NhL3I49",
      "metadata": {
        "colab": {
          "base_uri": "https://localhost:8080/",
          "height": 35
        },
        "id": "Sybp_NhL3I49",
        "outputId": "366d429d-feaf-414f-f8ef-000a3de34238"
      },
      "outputs": [
        {
          "data": {
            "application/vnd.google.colaboratory.intrinsic+json": {
              "type": "string"
            },
            "text/plain": [
              "' 1. কাজী নজরুল ইসলাম\\n2. জিবনানন্দ দাশ\\n3. রবীন্দ্রনাথ ঠাকুর\\n4. মিজানুর রহমান\\n5. শামসুর রাহমান'"
            ]
          },
          "execution_count": 14,
          "metadata": {},
          "output_type": "execute_result"
        }
      ],
      "source": [
        "get_aya_output(\"বাংলাদেশের ৫ জন কবির নাম লিস্ট আকারে লিখ।\")"
      ]
    },
    {
      "cell_type": "markdown",
      "id": "Prmq-TefQajG",
      "metadata": {
        "id": "Prmq-TefQajG"
      },
      "source": [
        "### Zero-shot"
      ]
    },
    {
      "cell_type": "code",
      "execution_count": null,
      "id": "xsuh6V3mQajG",
      "metadata": {
        "colab": {
          "base_uri": "https://localhost:8080/",
          "height": 49,
          "referenced_widgets": [
            "5963e79fc52b43db92b1101f12ad991e",
            "83205bf5e39841cdb92995866b01208a",
            "cbc0fad28b4c429b99ec5c39901c789f",
            "591ecbcc7bcc46d38e5d3fb7e7e7a240",
            "f1ef15cede3445c794ed72dfe36bda66",
            "438a8197d31d472687ccb3378f039206",
            "35c4bfe8f86b4da4b3d2bf42334ddd0a",
            "d58247f3e6eb4076bc001f66c5fc6252",
            "639966cdd7b54db7bacb246c592c9e11",
            "98878b7000ab4c96b11dcc95e8d194a5",
            "9e98b9b0f32c49e7b85178e9a622232b"
          ]
        },
        "id": "xsuh6V3mQajG",
        "outputId": "bc240cee-8572-4991-bcdc-de138fc7ef00"
      },
      "outputs": [
        {
          "data": {
            "application/vnd.jupyter.widget-view+json": {
              "model_id": "5963e79fc52b43db92b1101f12ad991e",
              "version_major": 2,
              "version_minor": 0
            },
            "text/plain": [
              "  0%|          | 0/512 [00:00<?, ?it/s]"
            ]
          },
          "metadata": {},
          "output_type": "display_data"
        }
      ],
      "source": [
        "import time\n",
        "from tqdm.notebook import tqdm\n",
        "\n",
        "# Assuming df is the original DataFrame and category_translation is defined\n",
        "df['predicted_summary'] = None\n",
        "\n",
        "# Try to load the progress from the Parquet file\n",
        "try:\n",
        "    df_progress = pd.read_parquet('aya_101_zs_summary_results.parquet')\n",
        "    start_index = df_progress['predicted_summary'].last_valid_index() + 1\n",
        "except (FileNotFoundError, ValueError):\n",
        "    df_progress = df.copy()\n",
        "    start_index = 0\n",
        "\n",
        "\n",
        "for i, row in tqdm(df.iloc[start_index:].iterrows(), initial=start_index, total=len(df) - start_index):\n",
        "    text_body = row['text']\n",
        "\n",
        "    prompt_input = zero_shot + \" বিবরণ: \" + text_body + \"\\nসারমর্ম:\"\n",
        "\n",
        "    try:\n",
        "        df.at[i, 'predicted_summary'] = get_aya_output(prompt_input)\n",
        "    except Exception as e:\n",
        "        print(f\"Error at index {i}: {e}\")\n",
        "        time.sleep(5)\n",
        "\n",
        "    if (i + 1) % 100 == 0:\n",
        "        df.to_parquet('aya_101_zs_summary_results.parquet')\n",
        "\n",
        "# Save final progress\n",
        "df.to_parquet('aya_101_zs_summary_results.parquet')"
      ]
    },
    {
      "cell_type": "code",
      "execution_count": null,
      "id": "dZYR7ZCAQajG",
      "metadata": {
        "colab": {
          "base_uri": "https://localhost:8080/",
          "height": 553
        },
        "id": "dZYR7ZCAQajG",
        "outputId": "81121bcc-d7fc-4fa4-b2ea-cdc8d449c213"
      },
      "outputs": [
        {
          "data": {
            "application/vnd.google.colaboratory.intrinsic+json": {
              "summary": "{\n  \"name\": \"zs_results\",\n  \"rows\": 512,\n  \"fields\": [\n    {\n      \"column\": \"id\",\n      \"properties\": {\n        \"dtype\": \"string\",\n        \"num_unique_values\": 512,\n        \"samples\": [\n          \"news-56467992\",\n          \"news-55216598\",\n          \"news-56230347\"\n        ],\n        \"semantic_type\": \"\",\n        \"description\": \"\"\n      }\n    },\n    {\n      \"column\": \"url\",\n      \"properties\": {\n        \"dtype\": \"string\",\n        \"num_unique_values\": 512,\n        \"samples\": [\n          \"https://www.bbc.com/bengali/news-56467992\",\n          \"https://www.bbc.com/bengali/news-55216598\",\n          \"https://www.bbc.com/bengali/news-56230347\"\n        ],\n        \"semantic_type\": \"\",\n        \"description\": \"\"\n      }\n    },\n    {\n      \"column\": \"title\",\n      \"properties\": {\n        \"dtype\": \"string\",\n        \"num_unique_values\": 512,\n        \"samples\": [\n          \"\\u0995\\u09c1\\u09ae\\u09bf\\u09b2\\u09cd\\u09b2\\u09be\\u09af\\u09bc \\u09af\\u09c1\\u09ac\\u09b2\\u09c0\\u0997 \\u09a8\\u09c7\\u09a4\\u09be\\u09b0 \\u09ae\\u09bf\\u099b\\u09bf\\u09b2\\u09c7 \\u0997\\u09be\\u09a1\\u09bc\\u09bf \\u09a4\\u09c1\\u09b2\\u09c7 \\u09a6\\u09c7\\u09af\\u09bc\\u09be\\u09b0 \\u09aa\\u09b0 \\u0985\\u09b8\\u09cd\\u09a4\\u09cd\\u09b0 \\u09b9\\u09be\\u09a4\\u09c7 \\u09a8\\u09be\\u099a\\u099b\\u09bf\\u09b2\\u09c7\\u09a8 \\u0995\\u09be\\u0989\\u09a8\\u09cd\\u09b8\\u09bf\\u09b2\\u09b0\",\n          \"\\u09ac\\u09be\\u09a5\\u09b0\\u09c1\\u09ae\\u09c7\\u09b0 \\u099c\\u09be\\u09a8\\u09be\\u09b2\\u09be \\u09ad\\u09c7\\u0999\\u09c7, \\u09a6\\u09c7\\u09af\\u09bc\\u09be\\u09b2 \\u099f\\u09aa\\u0995\\u09c7 \\u09aa\\u09be\\u09b2\\u09bf\\u09af\\u09bc\\u09c7\\u099b\\u09c7 \\u09af\\u09b6\\u09cb\\u09b0 \\u09b6\\u09bf\\u09b6\\u09c1 \\u0989\\u09a8\\u09cd\\u09a8\\u09af\\u09bc\\u09a8 \\u0995\\u09c7\\u09a8\\u09cd\\u09a6\\u09cd\\u09b0\\u09c7\\u09b0 \\u09ee \\u099c\\u09a8 \\u0995\\u09bf\\u09b6\\u09cb\\u09b0\",\n          \"\\u09ae\\u09bf\\u09af\\u09bc\\u09be\\u09a8\\u09ae\\u09be\\u09b0\\u09c7 \\u09b8\\u09c7\\u09a8\\u09be \\u0985\\u09ad\\u09cd\\u09af\\u09c1\\u09a4\\u09cd\\u09a5\\u09be\\u09a8\\u09c7\\u09b0 \\u09ac\\u09bf\\u09b0\\u09c1\\u09a6\\u09cd\\u09a7\\u09c7 \\u09ac\\u09bf\\u0995\\u09cd\\u09b7\\u09cb\\u09ad\\u09c7\\u09b0 \\u09b0\\u0995\\u09cd\\u09a4\\u09be\\u0995\\u09cd\\u09a4 \\u09a6\\u09bf\\u09a8, \\u09b8\\u09b9\\u09bf\\u0982\\u09b8\\u09a4\\u09be\\u09af\\u09bc \\u09e7\\u09ee \\u099c\\u09a8 \\u09a8\\u09bf\\u09b9\\u09a4\"\n        ],\n        \"semantic_type\": \"\",\n        \"description\": \"\"\n      }\n    },\n    {\n      \"column\": \"summary\",\n      \"properties\": {\n        \"dtype\": \"string\",\n        \"num_unique_values\": 512,\n        \"samples\": [\n          \"\\u098f\\u0995\\u099c\\u09a8 \\u09af\\u09c1\\u09ac\\u09b2\\u09c0\\u0997 \\u09a8\\u09c7\\u09a4\\u09be\\u09b0 \\u0993\\u09aa\\u09b0 \\u09b9\\u09be\\u09ae\\u09b2\\u09be\\u09b0 \\u09aa\\u09b0\\u09c7 \\u0995\\u09af\\u09bc\\u09c7\\u0995\\u099c\\u09a8\\u09c7\\u09b0 \\u09b8\\u0999\\u09cd\\u0997\\u09c7 \\u09a7\\u09be\\u09b0\\u09be\\u09b2\\u09cb \\u0985\\u09b8\\u09cd\\u09a4\\u09cd\\u09b0 \\u09a8\\u09bf\\u09af\\u09bc\\u09c7 \\u0995\\u09c1\\u09ae\\u09bf\\u09b2\\u09cd\\u09b2\\u09be \\u09b8\\u09bf\\u099f\\u09bf \\u0995\\u09b0\\u09cd\\u09aa\\u09cb\\u09b0\\u09c7\\u09b6\\u09a8\\u09c7\\u09b0 \\u098f\\u0995\\u099c\\u09a8 \\u0995\\u09be\\u0989\\u09a8\\u09cd\\u09b8\\u09bf\\u09b2\\u09b0\\u09c7\\u09b0 \\u09a8\\u09be\\u099a\\u09be\\u09a8\\u09be\\u099a\\u09bf \\u0995\\u09b0\\u09be\\u09b0 \\u098f\\u0995\\u099f\\u09bf \\u09ad\\u09bf\\u09a1\\u09bf\\u0993 \\u09ad\\u09be\\u0987\\u09b0\\u09be\\u09b2 \\u09b9\\u09af\\u09bc\\u09c7\\u099b\\u09c7\\u0964 \\u09b9\\u09be\\u09ae\\u09b2\\u09be\\u09b0 \\u0998\\u099f\\u09a8\\u09be\\u09af\\u09bc \\u0993\\u0987 \\u0995\\u09be\\u0989\\u09a8\\u09cd\\u09b8\\u09bf\\u09b2\\u09b0\\u0995\\u09c7 \\u0997\\u09cd\\u09b0\\u09c7\\u09aa\\u09cd\\u09a4\\u09be\\u09b0 \\u0995\\u09b0\\u09c7\\u099b\\u09c7 \\u09aa\\u09c1\\u09b2\\u09bf\\u09b6\\u0964\",\n          \"\\u09b0\\u09cb\\u09ac\\u09ac\\u09be\\u09b0 \\u09b0\\u09be\\u09a4\\u09c7 \\u09af\\u09b6\\u09cb\\u09b0 \\u09b6\\u09bf\\u09b6\\u09c1 \\u0989\\u09a8\\u09cd\\u09a8\\u09af\\u09bc\\u09a8 \\u0995\\u09c7\\u09a8\\u09cd\\u09a6\\u09cd\\u09b0\\u09c7\\u09b0 \\u09b8\\u09ac\\u0997\\u09c1\\u09b2\\u09cb \\u09b8\\u09bf\\u09b8\\u09bf\\u099f\\u09bf\\u09ad\\u09bf \\u0995\\u09cd\\u09af\\u09be\\u09ae\\u09c7\\u09b0\\u09be \\u099a\\u09be\\u09b2\\u09c1 \\u099b\\u09bf\\u09b2, \\u09aa\\u09be\\u09b9\\u09be\\u09b0\\u09be\\u09b0 \\u09a6\\u09be\\u09af\\u09bc\\u09bf\\u09a4\\u09cd\\u09ac\\u09c7 \\u099b\\u09bf\\u09b2\\u09c7\\u09a8 \\u09e7\\u09ec \\u099c\\u09a8 \\u0986\\u09a8\\u09b8\\u09be\\u09b0 \\u098f\\u09ac\\u0982 \\u09ee \\u099c\\u09a8 \\u09aa\\u09c1\\u09b2\\u09bf\\u09b6 \\u09b8\\u09a6\\u09b8\\u09cd\\u09af\\u0964\",\n          \"\\u099c\\u09be\\u09a4\\u09bf\\u09b8\\u0982\\u0998\\u09c7\\u09b0 \\u09ae\\u09be\\u09a8\\u09ac\\u09be\\u09a7\\u09bf\\u0995\\u09be\\u09b0 \\u09ac\\u09bf\\u09b7\\u09af\\u09bc\\u0995 \\u09b8\\u0982\\u09b8\\u09cd\\u09a5\\u09be\\u09b0 \\u09aa\\u0995\\u09cd\\u09b7 \\u09a5\\u09c7\\u0995\\u09c7 \\u09ac\\u09b2\\u09be \\u09b9\\u09af\\u09bc\\u09c7\\u099b\\u09c7 \\u09ae\\u09bf\\u09af\\u09bc\\u09be\\u09a8\\u09ae\\u09be\\u09b0\\u09c7 \\u09b8\\u09be\\u09ae\\u09b0\\u09bf\\u0995 \\u0985\\u09ad\\u09cd\\u09af\\u09c1\\u09a4\\u09cd\\u09a5\\u09be\\u09a8\\u09c7\\u09b0 \\u09ac\\u09bf\\u09b0\\u09c1\\u09a6\\u09cd\\u09a7\\u09c7 \\u099a\\u09b2\\u09ae\\u09be\\u09a8 \\u09ac\\u09bf\\u0995\\u09cd\\u09b7\\u09cb\\u09ad\\u09c7\\u09b0 \\u09b8\\u09ae\\u09af\\u09bc \\u0986\\u099c \\u09b0\\u09ac\\u09bf\\u09ac\\u09be\\u09b0 \\u0995\\u09ae\\u09aa\\u0995\\u09cd\\u09b7\\u09c7 \\u09e7\\u09ee \\u099c\\u09a8 \\u09a8\\u09bf\\u09b9\\u09a4 \\u09b9\\u09af\\u09bc\\u09c7\\u099b\\u09c7\\u0964\"\n        ],\n        \"semantic_type\": \"\",\n        \"description\": \"\"\n      }\n    },\n    {\n      \"column\": \"text\",\n      \"properties\": {\n        \"dtype\": \"string\",\n        \"num_unique_values\": 512,\n        \"samples\": [\n          \"\\u0995\\u09c1\\u09ae\\u09bf\\u09b2\\u09cd\\u09b2\\u09be\\u09b0 \\u0995\\u09cb\\u09a4\\u09cb\\u09af\\u09bc\\u09be\\u09b2\\u09bf \\u09ae\\u09a1\\u09c7\\u09b2 \\u09a5\\u09be\\u09a8\\u09be\\u09b0 \\u0993\\u09b8\\u09bf \\u0986\\u09a8\\u09cb\\u09af\\u09bc\\u09be\\u09b0\\u09c1\\u09b2 \\u0987\\u09b8\\u09b2\\u09be\\u09ae \\u099c\\u09be\\u09a8\\u09bf\\u09af\\u09bc\\u09c7\\u099b\\u09c7\\u09a8, \\u09b6\\u09c1\\u0995\\u09cd\\u09b0\\u09ac\\u09be\\u09b0 \\u09ac\\u09bf\\u0995\\u09c7\\u09b2\\u09c7 \\u09af\\u09c1\\u09ac\\u09b2\\u09c0\\u0997 \\u09a8\\u09c7\\u09a4\\u09be\\u09b0 \\u0993\\u09aa\\u09b0 \\u09b9\\u09be\\u09ae\\u09b2\\u09be\\u09b0 \\u0998\\u099f\\u09a8\\u09be\\u09af\\u09bc \\u0995\\u09be\\u0989\\u09a8\\u09cd\\u09b8\\u09bf\\u09b2\\u09b0 \\u09b8\\u09be\\u0987\\u09ab\\u09c1\\u09b2 \\u09ac\\u09bf\\u09a8 \\u099c\\u09b2\\u09bf\\u09b2\\u09b8\\u09b9 \\u09ae\\u09cb\\u099f \\u0986\\u099f\\u099c\\u09a8\\u09c7\\u09b0 \\u09ac\\u09bf\\u09b0\\u09c1\\u09a6\\u09cd\\u09a7\\u09c7 \\u09ae\\u09be\\u09ae\\u09b2\\u09be \\u09b9\\u09af\\u09bc\\u09c7\\u099b\\u09c7\\u0964 \\u09b0\\u09be\\u09a4\\u09c7\\u0987 \\u09ae\\u09bf. \\u09ac\\u09bf\\u09a8 \\u099c\\u09b2\\u09bf\\u09b2\\u0995\\u09c7 \\u0997\\u09cd\\u09b0\\u09c7\\u09aa\\u09cd\\u09a4\\u09be\\u09b0 \\u0995\\u09b0\\u09c7\\u099b\\u09c7 \\u09aa\\u09c1\\u09b2\\u09bf\\u09b6\\u0964 \\u09ae\\u09be\\u09ae\\u09b2\\u09be\\u09b0 \\u098f\\u099c\\u09be\\u09b9\\u09be\\u09b0\\u09c7 \\u0989\\u09b2\\u09cd\\u09b2\\u09c7\\u0996 \\u0995\\u09b0\\u09be \\u09b9\\u09af\\u09bc\\u09c7\\u099b\\u09c7, \\u09b8\\u09c1\\u09a8\\u09be\\u09ae\\u0997\\u099e\\u09cd\\u099c\\u09c7 \\u09b8\\u0982\\u0996\\u09cd\\u09af\\u09be\\u09b2\\u0998\\u09c1\\u09a6\\u09c7\\u09b0 \\u0993\\u09aa\\u09b0 \\u09b9\\u09be\\u09ae\\u09b2\\u09be\\u09b0 \\u0998\\u099f\\u09a8\\u09be\\u09b0 \\u09aa\\u09cd\\u09b0\\u09a4\\u09bf\\u09ac\\u09be\\u09a6\\u09c7 \\u0995\\u09c7\\u09a8\\u09cd\\u09a6\\u09cd\\u09b0\\u09c0\\u09af\\u09bc \\u0995\\u09b0\\u09cd\\u09ae\\u09b8\\u09c2\\u099a\\u09c0\\u09b0 \\u0985\\u0982\\u09b6 \\u09b9\\u09bf\\u09b8\\u09be\\u09ac\\u09c7 \\u09b6\\u09c1\\u0995\\u09cd\\u09b0\\u09ac\\u09be\\u09b0 \\u09ac\\u09bf\\u0995\\u09be\\u09b2 \\u09b8\\u09be\\u09a1\\u09bc\\u09c7 \\u09a4\\u09bf\\u09a8\\u099f\\u09be\\u09b0 \\u09a6\\u09bf\\u0995\\u09c7 \\u098f\\u0995\\u099f\\u09bf \\u09ae\\u09bf\\u099b\\u09bf\\u09b2 \\u09a8\\u09bf\\u09af\\u09bc\\u09c7 \\u09af\\u09be\\u099a\\u09cd\\u099b\\u09bf\\u09b2\\u09c7\\u09a8 \\u0995\\u09c1\\u09ae\\u09bf\\u09b2\\u09cd\\u09b2\\u09be \\u09ae\\u09b9\\u09be\\u09a8\\u0997\\u09b0 \\u09af\\u09c1\\u09ac\\u09b2\\u09c0\\u0997 \\u09a8\\u09c7\\u09a4\\u09be \\u09b0\\u09cb\\u0995\\u09a8\\u0989\\u09a6\\u09cd\\u09a6\\u09bf\\u09a8\\u0964 \\u09ac\\u09bf\\u0995\\u09be\\u09b2 \\u09aa\\u09cc\\u09a8\\u09c7 \\u099a\\u09be\\u09b0\\u099f\\u09be\\u09b0 \\u09a6\\u09bf\\u0995\\u09c7 \\u09b8\\u09c7\\u0987 \\u09ae\\u09bf\\u099b\\u09bf\\u09b2\\u09c7\\u09b0 \\u0993\\u09aa\\u09b0 \\u0985\\u09a4\\u09b0\\u09cd\\u0995\\u09bf\\u09a4\\u09c7 \\u0997\\u09be\\u09a1\\u09bc\\u09bf \\u09a4\\u09c1\\u09b2\\u09c7 \\u09a6\\u09c7\\u09a8 \\u0993\\u09af\\u09bc\\u09be\\u09b0\\u09cd\\u09a1 \\u0995\\u09be\\u0989\\u09a8\\u09cd\\u09b8\\u09bf\\u09b2\\u09b0 \\u09b8\\u09be\\u0987\\u09ab\\u09c1\\u09b2\\u0964 \\u098f\\u09a4\\u09c7 \\u09b0\\u09cb\\u0995\\u09a8\\u0989\\u09a6\\u09cd\\u09a6\\u09bf\\u09a8\\u09b8\\u09b9 \\u09eb/\\u09ec\\u099c\\u09a8 \\u0986\\u09b9\\u09a4 \\u09b9\\u09af\\u09bc\\u0964 \\u098f\\u09b0\\u09aa\\u09b0 \\u0986\\u099f\\u099c\\u09a8\\u0995\\u09c7 \\u0986\\u09b8\\u09be\\u09ae\\u09c0 \\u0995\\u09b0\\u09c7 \\u09ae\\u09be\\u09ae\\u09b2\\u09be \\u0995\\u09b0\\u09c7\\u09a8 \\u09b0\\u09cb\\u0995\\u09a8\\u0989\\u09a6\\u09cd\\u09a6\\u09bf\\u09a8\\u0964 \\u09b0\\u09cb\\u0995\\u09a8\\u0989\\u09a6\\u09cd\\u09a6\\u09bf\\u09a8\\u09b8\\u09b9 \\u0986\\u09b9\\u09a4\\u09a6\\u09c7\\u09b0 \\u09b9\\u09be\\u09b8\\u09aa\\u09be\\u09a4\\u09be\\u09b2\\u09c7 \\u09ad\\u09b0\\u09cd\\u09a4\\u09bf \\u0995\\u09b0\\u09be \\u09b9\\u09af\\u09bc\\u09c7\\u099b\\u09c7\\u0964 \\u098f\\u0987 \\u0986\\u09b8\\u09a8\\u09c7 \\u09b0\\u09cb\\u0995\\u09a8\\u0989\\u09a6\\u09cd\\u09a6\\u09bf\\u09a8\\u0995\\u09c7 \\u09b9\\u09be\\u09b0\\u09bf\\u09af\\u09bc\\u09c7 \\u0995\\u09be\\u0989\\u09a8\\u09cd\\u09b8\\u09bf\\u09b2\\u09b0 \\u09a8\\u09bf\\u09b0\\u09cd\\u09ac\\u09be\\u099a\\u09bf\\u09a4 \\u09b9\\u09af\\u09bc\\u09c7\\u099b\\u09bf\\u09b2\\u09c7\\u09a8 \\u09b8\\u09be\\u0987\\u09ab\\u09c1\\u09b2 \\u09ac\\u09bf\\u09a8 \\u099c\\u09b2\\u09bf\\u09b2\\u0964 \\u0993\\u0987 \\u09b9\\u09be\\u09ae\\u09b2\\u09be\\u09b0 \\u09aa\\u09b0\\u09c7 \\u098f\\u0995\\u099f\\u09bf \\u09ad\\u09bf\\u09a1\\u09bf\\u0993 \\u09b8\\u09be\\u09ae\\u09be\\u099c\\u09bf\\u0995 \\u09ae\\u09be\\u09a7\\u09cd\\u09af\\u09ae\\u09c7 \\u099b\\u09a1\\u09bc\\u09bf\\u09af\\u09bc\\u09c7 \\u09aa\\u09a1\\u09bc\\u09c7\\u099b\\u09c7\\u0964 \\u09b8\\u09c7\\u0996\\u09be\\u09a8\\u09c7 \\u09a6\\u09c7\\u0996\\u09be \\u09af\\u09be\\u099a\\u09cd\\u099b\\u09c7 \\u0995\\u09af\\u09bc\\u09c7\\u0995\\u099f\\u09bf \\u099b\\u09c7\\u09b2\\u09c7\\u09b0 \\u09b8\\u0999\\u09cd\\u0997\\u09c7 \\u09ae\\u09bf\\u09b2\\u09c7 \\u098f\\u0995\\u099f\\u09bf \\u0995\\u09be\\u09b2\\u09cb \\u09ae\\u09be\\u0987\\u0995\\u09cd\\u09b0\\u09cb\\u09ac\\u09be\\u09b8 \\u09a5\\u09c7\\u0995\\u09c7 \\u09a6\\u09c7\\u09b6\\u09c0\\u09af\\u09bc \\u09a7\\u09be\\u09b0\\u09be\\u09b2\\u09cb \\u0985\\u09b8\\u09cd\\u09a4\\u09cd\\u09b0 \\u09ac\\u09c7\\u09b0 \\u0995\\u09b0\\u09c7 \\u09b9\\u09be\\u09a4\\u09c7 \\u09a8\\u09bf\\u09af\\u09bc\\u09c7 \\u09a8\\u09be\\u099a\\u099b\\u09c7\\u09a8 \\u0995\\u09be\\u0989\\u09a8\\u09cd\\u09b8\\u09bf\\u09b2\\u09b0 \\u09b8\\u09be\\u0987\\u09ab\\u09c1\\u09b2 \\u09ac\\u09bf\\u09a8 \\u099c\\u09b2\\u09bf\\u09b2\\u0964 \\u09ae\\u09cb\\u09ac\\u09be\\u0987\\u09b2 \\u09ab\\u09cb\\u09a8\\u09c7\\u09b0 \\u0995\\u09cd\\u09af\\u09be\\u09ae\\u09c7\\u09b0\\u09be\\u09af\\u09bc \\u09b8\\u09c7\\u0987 \\u09a8\\u09be\\u099a\\u09c7\\u09b0 \\u09ad\\u09bf\\u09a1\\u09bf\\u0993 \\u0995\\u09b0\\u09be \\u09b9\\u09af\\u09bc\\u09c7\\u099b\\u09c7\\u0964 \\u0993\\u0987 \\u09ad\\u09bf\\u09a1\\u09bf\\u0993 \\u09aa\\u09cd\\u09b0\\u099a\\u09be\\u09b0 \\u0995\\u09b0\\u09be \\u09b9\\u09af\\u09bc\\u09c7\\u099b\\u09c7 \\u09ac\\u09be\\u0982\\u09b2\\u09be\\u09a6\\u09c7\\u09b6\\u09c7\\u09b0 \\u0995\\u09af\\u09bc\\u09c7\\u0995\\u099f\\u09bf \\u0997\\u09a3\\u09ae\\u09be\\u09a7\\u09cd\\u09af\\u09ae\\u09c7\\u09b0 \\u0996\\u09ac\\u09b0\\u09c7\\u0993\\u0964 \\u09ac\\u09bf\\u09ac\\u09bf\\u09b8\\u09bf \\u09a8\\u09bf\\u09b0\\u09aa\\u09c7\\u0995\\u09cd\\u09b7\\u09ad\\u09be\\u09ac\\u09c7 \\u09ad\\u09bf\\u09a1\\u09bf\\u0993\\u099f\\u09bf \\u09af\\u09be\\u099a\\u09be\\u0987 \\u0995\\u09b0\\u09a4\\u09c7 \\u09aa\\u09be\\u09b0\\u09c7\\u09a8\\u09bf\\u0964 \\u09a4\\u09ac\\u09c7 \\u0995\\u09c1\\u09ae\\u09bf\\u09b2\\u09cd\\u09b2\\u09be\\u09b0 \\u09b8\\u09cd\\u09a5\\u09be\\u09a8\\u09c0\\u09af\\u09bc \\u09b8\\u0982\\u09ac\\u09be\\u09a6\\u09a6\\u09be\\u09a4\\u09be\\u09b0\\u09be \\u09ac\\u09b2\\u099b\\u09c7\\u09a8, \\u09ae\\u09cb\\u09ac\\u09be\\u0987\\u09b2\\u09c7 \\u09a7\\u09be\\u09b0\\u09a3 \\u0995\\u09b0\\u09be \\u0993\\u0987 \\u09ad\\u09bf\\u09a1\\u09bf\\u0993 \\u09b6\\u09c1\\u0995\\u09cd\\u09b0\\u09ac\\u09be\\u09b0 \\u09b9\\u09be\\u09ae\\u09b2\\u09be\\u09b0 \\u09aa\\u09b0\\u09c7 \\u09a7\\u09be\\u09b0\\u09a3 \\u0995\\u09b0\\u09be\\u0964 \\u0993\\u09b8\\u09bf \\u0986\\u09a8\\u09cb\\u09af\\u09bc\\u09be\\u09b0\\u09c1\\u09b2 \\u0987\\u09b8\\u09b2\\u09be\\u09ae \\u09ac\\u09b2\\u099b\\u09c7\\u09a8, \\u09ad\\u09bf\\u09a1\\u09bf\\u0993\\u09b0 \\u0995\\u09a5\\u09be \\u09a4\\u09be\\u09b0\\u09be \\u099c\\u09be\\u09a8\\u09a4\\u09c7 \\u09aa\\u09c7\\u09b0\\u09c7\\u099b\\u09c7\\u09a8\\u0964 \\u09ae\\u09be\\u09ae\\u09b2\\u09be\\u09af\\u09bc \\u098f\\u0987 \\u09ad\\u09bf\\u09a1\\u09bf\\u0993\\u09b0 \\u09ac\\u09bf\\u09b7\\u09af\\u09bc\\u09c7\\u0993 \\u09a4\\u09a6\\u09a8\\u09cd\\u09a4 \\u0995\\u09b0\\u09be \\u09b9\\u09ac\\u09c7\\u0964 \\u09ac\\u09bf\\u09ac\\u09bf\\u09b8\\u09bf \\u09ac\\u09be\\u0982\\u09b2\\u09be\\u09b0 \\u0985\\u09a8\\u09cd\\u09af\\u09be\\u09a8\\u09cd\\u09af \\u0996\\u09ac\\u09b0: \\u09b8\\u09c1\\u09a8\\u09be\\u09ae\\u0997\\u099e\\u09cd\\u099c\\u09c7 \\u09b9\\u09bf\\u09a8\\u09cd\\u09a6\\u09c1 \\u0997\\u09cd\\u09b0\\u09be\\u09ae\\u09c7 \\u09b9\\u09be\\u09ae\\u09b2\\u09be-\\u09ad\\u09be\\u0982\\u099a\\u09c1\\u09b0-\\u09b2\\u09c1\\u099f\\u09c7\\u09b0 \\u09aa\\u09cd\\u09b0\\u09a7\\u09be\\u09a8 \\u0986\\u09b8\\u09be\\u09ae\\u09c0 \\u0986\\u099f\\u0995 \\u0986\\u09ac\\u09be\\u09b0\\u09cb \\u09b8\\u09ac\\u099a\\u09c7\\u09af\\u09bc\\u09c7 \\u09b8\\u09c1\\u0996\\u09c0 \\u09a6\\u09c7\\u09b6 \\u09ab\\u09bf\\u09a8\\u09b2\\u09cd\\u09af\\u09be\\u09a8\\u09cd\\u09a1, \\u098f\\u0997\\u09bf\\u09af\\u09bc\\u09c7\\u099b\\u09c7 \\u09ac\\u09be\\u0982\\u09b2\\u09be\\u09a6\\u09c7\\u09b6 \\u099f\\u09bf\\u0995\\u09be \\u09a8\\u09c7\\u0993\\u09af\\u09bc\\u09be\\u09b0 \\u09ac\\u09cd\\u09af\\u0995\\u09cd\\u09a4\\u09bf\\u0997\\u09a4 \\u0985\\u09ad\\u09bf\\u099c\\u09cd\\u099e\\u09a4\\u09be: \\u09aa\\u09be\\u09b0\\u09cd\\u09b6\\u09cd\\u09ac \\u09aa\\u09cd\\u09b0\\u09a4\\u09bf\\u0995\\u09cd\\u09b0\\u09bf\\u09af\\u09bc\\u09be \\u098f\\u09ac\\u0982 \\u098f\\u09b8\\u09ac \\u09a5\\u09c7\\u0995\\u09c7 \\u0995\\u09c0 \\u09ac\\u09cb\\u099d\\u09be \\u09af\\u09be\\u09af\\u09bc \\u09af\\u09c1\\u0995\\u09cd\\u09a4\\u09b0\\u09be\\u09b7\\u09cd\\u099f\\u09cd\\u09b0-\\u099a\\u09c0\\u09a8 \\u0989\\u09a4\\u09cd\\u09a4\\u09aa\\u09cd\\u09a4 \\u09ac\\u09bf\\u09a4\\u09a3\\u09cd\\u09a1\\u09be: \\u09a8\\u09a4\\u09c1\\u09a8 \\u09a0\\u09be\\u09a3\\u09cd\\u09a1\\u09be \\u09b2\\u09a1\\u09bc\\u09be\\u0987\\u09af\\u09bc\\u09c7\\u09b0 \\u09b6\\u09c1\\u09b0\\u09c1?\",\n          \"\\u09af\\u09b6\\u09cb\\u09b0\\u09c7\\u09b0 \\u0993\\u0987 \\u0989\\u09a8\\u09cd\\u09a8\\u09af\\u09bc\\u09a8 \\u0995\\u09c7\\u09a8\\u09cd\\u09a6\\u09cd\\u09b0\\u09c7 \\u09e8\\u09ed\\u09ed\\u099c\\u09a8 \\u0995\\u09bf\\u09b6\\u09cb\\u09b0 \\u099b\\u09bf\\u09b2\\u0964 \\u0995\\u09bf\\u09a8\\u09cd\\u09a4\\u09c1 \\u09a4\\u09be\\u09b0\\u09aa\\u09b0\\u09c7\\u0993 \\u09b8\\u09ac\\u09be\\u09b0 \\u099a\\u09cb\\u0996\\u09c7 \\u09a7\\u09c1\\u09b2\\u09cb \\u09a6\\u09bf\\u09af\\u09bc\\u09c7 \\u09ae\\u09a7\\u09cd\\u09af\\u09b0\\u09be\\u09a4\\u09c7 \\u09b6\\u09bf\\u09b6\\u09c1 \\u0989\\u09a8\\u09cd\\u09a8\\u09af\\u09bc\\u09a8 \\u0995\\u09c7\\u09a8\\u09cd\\u09a6\\u09cd\\u09b0\\u09c7\\u09b0 \\u09a6\\u09c7\\u09af\\u09bc\\u09be\\u09b2 \\u099f\\u09aa\\u0995\\u09c7 \\u09aa\\u09be\\u09b2\\u09bf\\u09af\\u09bc\\u09c7\\u099b\\u09c7 \\u0986\\u099f\\u099c\\u09a8 \\u0995\\u09bf\\u09b6\\u09cb\\u09b0\\u0964 \\u098f\\u09a6\\u09c7\\u09b0 \\u09b8\\u09ac\\u09be\\u09b0 \\u09ac\\u09af\\u09bc\\u09b8 \\u09e7\\u09e8 \\u09a5\\u09c7\\u0995\\u09c7 \\u09e7\\u09ed \\u09ac\\u099b\\u09b0\\u09c7\\u09b0 \\u09ae\\u09a7\\u09cd\\u09af\\u09c7\\u0964 \\u09af\\u09b6\\u09cb\\u09b0\\u09c7\\u09b0 \\u09aa\\u09c1\\u09b2\\u09bf\\u09b6 \\u09b8\\u09c1\\u09aa\\u09be\\u09b0 \\u09ae\\u09cb\\u09b9\\u09be\\u09ae\\u09cd\\u09ae\\u09a6 \\u0986\\u09b6\\u09b0\\u09be\\u09ab \\u09b9\\u09cb\\u09b8\\u09c7\\u09a8 \\u09ac\\u09bf\\u09ac\\u09bf\\u09b8\\u09bf\\u0995\\u09c7 \\u09ac\\u09b2\\u09c7\\u099b\\u09c7\\u09a8 \\u09b8\\u09bf\\u09b8\\u09bf\\u099f\\u09bf\\u09ad\\u09bf \\u09ab\\u09c1\\u099f\\u09c7\\u099c\\u09c7 \\u09a6\\u09c7\\u0996\\u09be \\u0997\\u09c7\\u099b\\u09c7, \\u09b0\\u09be\\u09a4 \\u09b8\\u09cb\\u09af\\u09bc\\u09be \\u09a6\\u09c1\\u0987\\u099f\\u09be\\u09b0 \\u09a6\\u09bf\\u0995\\u09c7 \\u09a6\\u09c7\\u09af\\u09bc\\u09be\\u09b2 \\u099f\\u09aa\\u0995\\u09c7 \\u09aa\\u09be\\u09b2\\u09bf\\u09af\\u09bc\\u09c7 \\u0997\\u09c7\\u099b\\u09c7 \\u0993\\u0987 \\u0986\\u099f\\u099c\\u09a8\\u0964 \\u09af\\u09c7\\u09ad\\u09be\\u09ac\\u09c7 \\u0998\\u099f\\u09c7\\u099b\\u09c7 \\u09aa\\u09c1\\u09b2\\u09bf\\u09b6 \\u09ac\\u09b2\\u099b\\u09c7, \\u09a1\\u09bf\\u09b8\\u09c7\\u09ae\\u09cd\\u09ac\\u09b0\\u09c7\\u09b0 \\u09b6\\u09c1\\u09b0\\u09c1\\u09a4\\u09c7 '\\u09ac\\u09c7\\u09aa\\u09b0\\u09cb\\u09af\\u09bc\\u09be' \\u0986\\u099a\\u09b0\\u09a3\\u09c7\\u09b0 \\u09b6\\u09be\\u09b8\\u09cd\\u09a4\\u09bf \\u09b9\\u09bf\\u09b8\\u09c7\\u09ac\\u09c7 \\u0993\\u0987 \\u0986\\u099f\\u099c\\u09a8 \\u0995\\u09bf\\u09b6\\u09cb\\u09b0\\u0995\\u09c7 \\u098f\\u0995\\u099f\\u09bf \\u0995\\u0995\\u09cd\\u09b7\\u09c7 \\u0986\\u09b2\\u09be\\u09a6\\u09be \\u0995\\u09b0\\u09c7 \\u09b0\\u09be\\u0996\\u09be \\u09b9\\u09af\\u09bc\\u09c7\\u099b\\u09bf\\u09b2\\u0964 \\u0995\\u0995\\u09cd\\u09b7\\u099f\\u09bf \\u09b6\\u09bf\\u09b6\\u09c1 \\u0989\\u09a8\\u09cd\\u09a8\\u09af\\u09bc\\u09a8 \\u0995\\u09c7\\u09a8\\u09cd\\u09a6\\u09cd\\u09b0\\u09c7\\u09b0 \\u09ae\\u09c2\\u09b2 \\u0986\\u09ac\\u09be\\u09b8\\u09bf\\u0995 \\u09ad\\u09ac\\u09a8\\u09c7\\u09b0 \\u09ac\\u09be\\u0987\\u09b0\\u09c7, \\u09aa\\u09cd\\u09b0\\u09be\\u099a\\u09c0\\u09b0\\u09c7\\u09b0 \\u0995\\u09be\\u099b\\u09c7 \\u0985\\u09ac\\u09b8\\u09cd\\u09a5\\u09bf\\u09a4\\u0964 \\u098f\\u0987 \\u09ad\\u09ac\\u09a8\\u099f\\u09bf \\u098f\\u0995 \\u09a4\\u09b2\\u09be \\u098f\\u09ac\\u0982 \\u098f\\u09b0 \\u0985\\u09ac\\u09b8\\u09cd\\u09a5\\u09be\\u09a8 \\u09b6\\u09bf\\u09b6\\u09c1 \\u0989\\u09a8\\u09cd\\u09a8\\u09af\\u09bc\\u09a8 \\u0995\\u09c7\\u09a8\\u09cd\\u09a6\\u09cd\\u09b0\\u09c7\\u09b0 \\u0997\\u09be\\u09b0\\u09cd\\u09a1\\u09c7\\u09b0 \\u0998\\u09b0\\u09c7\\u09b0 \\u09aa\\u09c7\\u099b\\u09a8\\u09c7\\u0964 \\u09af\\u09b6\\u09cb\\u09b0\\u09c7 \\u09b6\\u09bf\\u09b6\\u09c1 \\u0989\\u09a8\\u09cd\\u09a8\\u09af\\u09bc\\u09a8 \\u0995\\u09c7\\u09a8\\u09cd\\u09a6\\u09cd\\u09b0\\u09c7\\u09b0 \\u09ad\\u09c7\\u09a4\\u09b0\\u09c7 \\u0985\\u0997\\u09be\\u09b8\\u09cd\\u099f\\u09c7 \\u09a4\\u09bf\\u09a8 \\u0995\\u09bf\\u09b6\\u09cb\\u09b0 \\u09a8\\u09bf\\u09b9\\u09a4 \\u09b9\\u09af\\u09bc\\u09c7\\u099b\\u09bf\\u09b2 \\u09aa\\u09c1\\u09b2\\u09bf\\u09b6 \\u09b8\\u09c1\\u09aa\\u09be\\u09b0 \\u09ae\\u09bf. \\u09b9\\u09cb\\u09b8\\u09c7\\u09a8 \\u09ac\\u09b2\\u09c7\\u099b\\u09c7\\u09a8, \\u0986\\u099f\\u099c\\u09a8 \\u0995\\u09bf\\u09b6\\u09cb\\u09b0\\u0995\\u09c7 \\u09af\\u09c7 \\u09ad\\u09ac\\u09a8\\u09c7 \\u09b0\\u09be\\u0996\\u09be \\u09b9\\u09af\\u09bc\\u09c7\\u099b\\u09bf\\u09b2, \\u09b8\\u09c7\\u099f\\u09bf \\u09aa\\u09c1\\u09b0\\u09a8\\u09cb, \\u0986\\u09b0 \\u0995\\u0995\\u09cd\\u09b7 \\u09b8\\u0982\\u09b2\\u0997\\u09cd\\u09a8 \\u09ac\\u09be\\u09a5\\u09b0\\u09c1\\u09ae\\u099f\\u09bf\\u0993 \\u09ac\\u09c7\\u09b6 \\u09aa\\u09c1\\u09b0\\u09a8\\u09cb\\u0964 \\u098f\\u0987 \\u09ac\\u09be\\u09a5\\u09b0\\u09c1\\u09ae\\u09c7\\u09b0 \\u099c\\u09be\\u09a8\\u09be\\u09b2\\u09be\\u09b0 \\u0997\\u09cd\\u09b0\\u09bf\\u09b2 \\u09ad\\u09c7\\u0999\\u09c7\\u0987 \\u09aa\\u09be\\u09b2\\u09bf\\u09af\\u09bc\\u09c7\\u099b\\u09c7 \\u0993\\u0987 \\u0995\\u09bf\\u09b6\\u09cb\\u09b0\\u09c7\\u09b0\\u09be\\u0964 \\u09a4\\u09bf\\u09a8\\u09bf \\u09ac\\u09b2\\u09c7\\u09a8, \\\"\\u0993\\u0987 \\u09ac\\u09be\\u09a5\\u09b0\\u09c1\\u09ae\\u09c7\\u09b0 \\u099c\\u09be\\u09a8\\u09be\\u09b2\\u09be\\u09b0 \\u0997\\u09cd\\u09b0\\u09bf\\u09b2\\u0997\\u09c1\\u09b2\\u09cb \\u0985\\u09a8\\u09c7\\u0995 \\u09aa\\u09c1\\u09b0\\u09a8\\u09cb, \\u09a6\\u09c7\\u09af\\u09bc\\u09be\\u09b2\\u0993 \\u0985\\u09a8\\u09c7\\u0995 \\u09b8\\u09cd\\u09af\\u09be\\u0981\\u09a4\\u09b8\\u09c7\\u0981\\u09a4\\u09c7\\u0964 \\u0993\\u0987 \\u099b\\u09c7\\u09b2\\u09c7\\u09b0\\u09be \\u09b8\\u09b9\\u099c\\u09c7\\u0987 \\u099c\\u09be\\u09a8\\u09be\\u09b2\\u09be\\u09b0 \\u0997\\u09cd\\u09b0\\u09bf\\u09b2 \\u09ad\\u09c7\\u0999\\u09c7 \\u0989\\u09a8\\u09cd\\u09a8\\u09af\\u09bc\\u09a8 \\u0995\\u09c7\\u09a8\\u09cd\\u09a6\\u09cd\\u09b0\\u09c7\\u09b0 \\u09ae\\u09be\\u09a0\\u09c7 \\u09a8\\u09c7\\u09ae\\u09c7 \\u09aa\\u09a1\\u09bc\\u09c7\\u0964\\\" \\\"\\u098f\\u09b0\\u09aa\\u09b0 \\u09a4\\u09be\\u09b0\\u09be \\u09ac\\u09c8\\u09a6\\u09cd\\u09af\\u09c1\\u09a4\\u09bf\\u0995 \\u0995\\u09be\\u099c\\u09c7\\u09b0 \\u098f\\u0995\\u099f\\u09bf \\u09ae\\u0987 \\u0996\\u09c1\\u0981\\u099c\\u09c7 \\u09aa\\u09be\\u09af\\u09bc\\u0964 \\u09b8\\u09c7\\u099f\\u09bf \\u09a6\\u09bf\\u09af\\u09bc\\u09c7 \\u09a6\\u09c7\\u09af\\u09bc\\u09be\\u09b2 \\u099f\\u09aa\\u0995\\u09c7 \\u09aa\\u09be\\u09b2\\u09bf\\u09af\\u09bc\\u09c7 \\u09af\\u09be\\u09af\\u09bc \\u09b8\\u09ac \\u0995\\u099c\\u09a8\\u0964\\\" \\u09ae\\u09bf. \\u09b9\\u09cb\\u09b8\\u09c7\\u09a8 \\u09ac\\u09b2\\u09c7\\u099b\\u09c7\\u09a8, \\u099c\\u09be\\u09a8\\u09be\\u09b2\\u09be \\u09ad\\u09c7\\u0999\\u09c7 \\u099a\\u09a4\\u09cd\\u09ac\\u09b0\\u09c7 \\u09a8\\u09c7\\u09ae\\u09c7 \\u09aa\\u09a1\\u09bc\\u09be \\u098f\\u09ac\\u0982 \\u098f\\u09b0\\u09aa\\u09b0 \\u09aa\\u09be \\u099f\\u09bf\\u09aa\\u09c7 \\u099f\\u09bf\\u09aa\\u09c7 \\u0989\\u09a8\\u09cd\\u09a8\\u09af\\u09bc\\u09a8 \\u0995\\u09c7\\u09a8\\u09cd\\u09a6\\u09cd\\u09b0\\u09c7\\u09b0 \\u0989\\u0981\\u099a\\u09c1 \\u09aa\\u09cd\\u09b0\\u09be\\u099a\\u09c0\\u09b0\\u09c7 \\u09ac\\u09c8\\u09a6\\u09cd\\u09af\\u09c1\\u09a4\\u09bf\\u0995 \\u0995\\u09be\\u099c\\u09c7\\u09b0 \\u09ae\\u0987 \\u09a0\\u09c7\\u0995\\u09bf\\u09af\\u09bc\\u09c7 \\u09a6\\u09c7\\u09af\\u09bc\\u09be\\u09b2 \\u099f\\u09aa\\u0995\\u09c7 \\u09af\\u09be\\u09ac\\u09be\\u09b0 \\u0998\\u099f\\u09a8\\u09be\\u09b0 \\u09aa\\u09c1\\u09b0\\u09cb\\u099f\\u09be\\u0987 \\u09b8\\u09bf\\u09b8\\u09bf\\u099f\\u09bf\\u09ad\\u09bf \\u09ab\\u09c1\\u099f\\u09c7\\u099c \\u09a5\\u09c7\\u0995\\u09c7 \\u099c\\u09c7\\u09a8\\u09c7\\u099b\\u09c7\\u09a8 \\u09a4\\u09be\\u09b0\\u09be\\u0964 \\u09a4\\u09ac\\u09c7, \\u0998\\u099f\\u09a8\\u09be\\u09b0 \\u09b8\\u09ae\\u09af\\u09bc \\u09b8\\u09bf\\u09b8\\u09bf\\u099f\\u09bf\\u09ad\\u09bf \\u0995\\u09cd\\u09af\\u09be\\u09ae\\u09c7\\u09b0\\u09be\\u09af\\u09bc \\u09b6\\u09bf\\u09b6\\u09c1 \\u0989\\u09a8\\u09cd\\u09a8\\u09af\\u09bc\\u09a8 \\u0995\\u09c7\\u09a8\\u09cd\\u09a6\\u09cd\\u09b0\\u09c7\\u09b0 \\u09ad\\u09c7\\u09a4\\u09b0\\u09c7\\u09b0 \\u0995\\u09b0\\u09cd\\u09ae\\u0995\\u09be\\u09a3\\u09cd\\u09a1\\u09c7\\u09b0 \\u09a6\\u09bf\\u0995\\u09c7 \\u0995\\u09c7\\u0989 \\u09a8\\u099c\\u09b0 \\u09b0\\u09be\\u0996\\u099b\\u09bf\\u09b2\\u09c7\\u09a8 \\u09a8\\u09be, \\u09a4\\u09be \\u09aa\\u09b0\\u09bf\\u09b7\\u09cd\\u0995\\u09be\\u09b0 \\u09ac\\u09cb\\u099d\\u09be \\u09af\\u09be\\u099a\\u09cd\\u099b\\u09c7\\u0964 \\u0986\\u09b0\\u09cb \\u09aa\\u09a1\\u09bc\\u09a4\\u09c7 \\u09aa\\u09be\\u09b0\\u09c7\\u09a8: \\u09af\\u09b6\\u09cb\\u09b0\\u09c7 \\u09a4\\u09bf\\u09a8 \\u0995\\u09bf\\u09b6\\u09cb\\u09b0 \\u0996\\u09c1\\u09a8: \\u09e7\\u09e6 \\u0995\\u09b0\\u09cd\\u09ae\\u0995\\u09b0\\u09cd\\u09a4\\u09be\\u0995\\u09c7 \\u09aa\\u09c1\\u09b2\\u09bf\\u09b6\\u09bf \\u09b9\\u09c7\\u09ab\\u09be\\u099c\\u09a4\\u09c7 \\u099c\\u09bf\\u099c\\u09cd\\u099e\\u09be\\u09b8\\u09be\\u09ac\\u09be\\u09a6 \\u09b6\\u09c1\\u09b0\\u09c1 \\u09af\\u09b6\\u09cb\\u09b0\\u09c7 \\u09a4\\u09bf\\u09a8 \\u0995\\u09bf\\u09b6\\u09cb\\u09b0 \\u0996\\u09c1\\u09a8: \\u0995\\u09c0 \\u0998\\u099f\\u09c7\\u099b\\u09bf\\u09b2 \\u0995\\u09bf\\u09b6\\u09cb\\u09b0 \\u0985\\u09aa\\u09b0\\u09be\\u09a7\\u09c0 \\u09b8\\u0982\\u09b6\\u09cb\\u09a7\\u09a8 \\u0995\\u09c7\\u09a8\\u09cd\\u09a6\\u09cd\\u09b0\\u09c7\\u09b0 \\u09ad\\u09c7\\u09a4\\u09b0\\u09c7 \\u09af\\u09c7\\u09ad\\u09be\\u09ac\\u09c7 \\u0997\\u09a1\\u09bc\\u09c7 \\u0993\\u09a0\\u09c7 \\u09a6\\u09c1\\u09b0\\u09cd\\u09a7\\u09b0\\u09cd\\u09b7 \\u0995\\u09bf\\u09b6\\u09cb\\u09b0 \\u0985\\u09aa\\u09b0\\u09be\\u09a7\\u09c0\\u09a6\\u09c7\\u09b0 \\u09a6\\u09b2 \\u0998\\u099f\\u09a8\\u09be\\u09b0 \\u09b8\\u09ae\\u09af\\u09bc \\u09b6\\u09bf\\u09b6\\u09c1 \\u0989\\u09a8\\u09cd\\u09a8\\u09af\\u09bc\\u09a8 \\u0995\\u09c7\\u09a8\\u09cd\\u09a6\\u09cd\\u09b0\\u09c7\\u09b0 \\u09aa\\u09be\\u09b9\\u09be\\u09b0\\u09be\\u09b0 \\u09a6\\u09be\\u09af\\u09bc\\u09bf\\u09a4\\u09cd\\u09ac\\u09c7 \\u099b\\u09bf\\u09b2\\u09c7\\u09a8 \\u09e7\\u09ec \\u099c\\u09a8 \\u0986\\u09a8\\u09b8\\u09be\\u09b0 \\u098f\\u09ac\\u0982 \\u09ee \\u099c\\u09a8 \\u09aa\\u09c1\\u09b2\\u09bf\\u09b6 \\u09b8\\u09a6\\u09b8\\u09cd\\u09af\\u0964 \\u09aa\\u09c1\\u09b2\\u09bf\\u09b6 \\u09b8\\u09c1\\u09aa\\u09be\\u09b0 \\u09ae\\u09bf. \\u09b9\\u09cb\\u09b8\\u09c7\\u09a8 \\u09ac\\u09b2\\u09c7\\u099b\\u09c7\\u09a8, \\\"\\u09b9\\u09af\\u09bc\\u09a4 \\u09b0\\u09be\\u09a4\\u09c7\\u09b0 \\u09ac\\u09c7\\u09b2\\u09be\\u09af\\u09bc \\u0998\\u09c1\\u09ae\\u09bf\\u09af\\u09bc\\u09c7 \\u09aa\\u09a1\\u09bc\\u09c7\\u099b\\u09bf\\u09b2 \\u09ac\\u09be \\u09a8\\u09bf\\u09b0\\u09be\\u09aa\\u09a4\\u09cd\\u09a4\\u09be \\u098f\\u0995\\u099f\\u09c1 \\u09a2\\u09bf\\u09b2\\u09c7\\u09a2\\u09be\\u09b2\\u09be \\u09b9\\u09af\\u09bc\\u09c7 \\u0997\\u09bf\\u09af\\u09bc\\u09c7\\u099b\\u09bf\\u09b2\\u0964 \\u0995\\u09bf\\u09a8\\u09cd\\u09a4\\u09c1 \\u0985\\u09ac\\u09b6\\u09cd\\u09af\\u0987 \\u09af\\u09a5\\u09be\\u09af\\u09a5 \\u09a6\\u09be\\u09af\\u09bc\\u09bf\\u09a4\\u09cd\\u09ac \\u09aa\\u09be\\u09b2\\u09a8 \\u0995\\u09b0\\u099b\\u09bf\\u09b2\\u09c7\\u09a8 \\u09a8\\u09be \\u09a4\\u09be\\u09b0\\u09be\\u0964 \\u09ac\\u09bf\\u09b7\\u09af\\u09bc\\u099f\\u09bf \\u0996\\u09a4\\u09bf\\u09af\\u09bc\\u09c7 \\u09a6\\u09c7\\u0996\\u09be \\u09b9\\u099a\\u09cd\\u099b\\u09c7\\u0964\\\" \\u098f\\u09a6\\u09bf\\u0995\\u09c7, \\u09af\\u09b6\\u09cb\\u09b0 \\u09b6\\u09bf\\u09b6\\u09c1 \\u0989\\u09a8\\u09cd\\u09a8\\u09af\\u09bc\\u09a8 \\u0995\\u09c7\\u09a8\\u09cd\\u09a6\\u09cd\\u09b0\\u09c7\\u09b0 \\u09a4\\u09a4\\u09cd\\u09a4\\u09cd\\u09ac\\u09be\\u09ac\\u09a7\\u09be\\u09af\\u09bc\\u0995 \\u099c\\u09be\\u0995\\u09bf\\u09b0 \\u09b9\\u09cb\\u09b8\\u09c7\\u09a8 \\u09ac\\u09bf\\u09ac\\u09bf\\u09b8\\u09bf\\u0995\\u09c7 \\u09ac\\u09b2\\u09c7\\u099b\\u09c7\\u09a8, \\u098f\\u0987 \\u0998\\u099f\\u09a8\\u09be\\u09af\\u09bc \\u098f\\u0995\\u099f\\u09bf \\u099c\\u09bf\\u09a1\\u09bf \\u09a6\\u09be\\u09af\\u09bc\\u09c7\\u09b0 \\u0995\\u09b0\\u09be \\u09b9\\u09af\\u09bc\\u09c7\\u099b\\u09c7\\u0964 \\u09b8\\u09c7\\u0987 \\u09b8\\u0999\\u09cd\\u0997\\u09c7 \\u0993\\u0987 \\u0995\\u09bf\\u09b6\\u09cb\\u09b0\\u09a6\\u09c7\\u09b0 \\u09aa\\u09b0\\u09bf\\u09ac\\u09be\\u09b0\\u0995\\u09c7 \\u09ac\\u09bf\\u09b7\\u09af\\u09bc\\u099f\\u09bf \\u09b8\\u09ae\\u09cd\\u09aa\\u09b0\\u09cd\\u0995\\u09c7 \\u099c\\u09be\\u09a8\\u09be\\u09a8\\u09cb \\u09b9\\u09af\\u09bc\\u09c7\\u099b\\u09c7\\u0964 \\u098f\\u0987 \\u09b6\\u09bf\\u09b6\\u09c1 \\u0989\\u09a8\\u09cd\\u09a8\\u09af\\u09bc\\u09a8 \\u0995\\u09c7\\u09a8\\u09cd\\u09a6\\u09cd\\u09b0\\u0997\\u09c1\\u09b2\\u09cb\\u0995\\u09c7 \\u0986\\u0997\\u09c7 \\u0995\\u09bf\\u09b6\\u09cb\\u09b0 \\u09b8\\u0982\\u09b6\\u09cb\\u09a7\\u09a8 \\u0995\\u09c7\\u09a8\\u09cd\\u09a6\\u09cd\\u09b0 \\u09ac\\u09b2\\u09be \\u09b9\\u09a4, \\u09aa\\u09b0\\u09c7 \\u09b8\\u09c7 \\u09a8\\u09be\\u09ae \\u09aa\\u09b0\\u09bf\\u09ac\\u09b0\\u09cd\\u09a4\\u09a8 \\u0995\\u09b0\\u09be \\u09b9\\u09af\\u09bc\\u0964 \\u09ae\\u09c2\\u09b2\\u09a4 \\u09ac\\u09bf\\u09ad\\u09bf\\u09a8\\u09cd\\u09a8 \\u0985\\u09aa\\u09b0\\u09be\\u09a7\\u09ae\\u09c2\\u09b2\\u0995 \\u0995\\u09b0\\u09cd\\u09ae\\u0995\\u09be\\u09a3\\u09cd\\u09a1\\u09c7 \\u0985\\u09ad\\u09bf\\u09af\\u09c1\\u0995\\u09cd\\u09a4 \\u09b6\\u09bf\\u09b6\\u09c1 \\u0995\\u09bf\\u09b6\\u09cb\\u09b0\\u0995\\u09c7 \\u098f\\u0996\\u09be\\u09a8\\u09c7 \\u09b8\\u09be\\u099c\\u09be\\u09b0 \\u09aa\\u09b0\\u09bf\\u09ac\\u09b0\\u09cd\\u09a4\\u09c7 \\u09b8\\u0982\\u09b6\\u09cb\\u09a7\\u09a8\\u09c7\\u09b0 \\u099c\\u09a8\\u09cd\\u09af \\u09e7\\u09ee \\u09ac\\u099b\\u09b0 \\u09ac\\u09af\\u09bc\\u09b8 \\u09aa\\u09b0\\u09cd\\u09af\\u09a8\\u09cd\\u09a4 \\u09b0\\u09be\\u0996\\u09be \\u09b9\\u09af\\u09bc\\u0964 \\u09ac\\u09be\\u0982\\u09b2\\u09be\\u09a6\\u09c7\\u09b6\\u09c7 \\u09ae\\u09cb\\u099f \\u09a4\\u09bf\\u09a8\\u099f\\u09bf \\u09b6\\u09bf\\u09b6\\u09c1 \\u0989\\u09a8\\u09cd\\u09a8\\u09af\\u09bc\\u09a8 \\u0995\\u09c7\\u09a8\\u09cd\\u09a6\\u09cd\\u09b0 \\u0986\\u099b\\u09c7\\u0964 \\u098f\\u09b0 \\u09ae\\u09a7\\u09cd\\u09af\\u09c7 \\u099f\\u0999\\u09cd\\u0997\\u09bf \\u0993 \\u09af\\u09b6\\u09cb\\u09b0\\u09c7\\u09b0 \\u09a6\\u09c1\\u099f\\u09bf \\u099b\\u09c7\\u09b2\\u09c7\\u09a6\\u09c7\\u09b0 \\u099c\\u09a8\\u09cd\\u09af, \\u098f\\u09ac\\u0982 \\u0997\\u09be\\u099c\\u09c0\\u09aa\\u09c1\\u09b0\\u09c7 \\u09ae\\u09c7\\u09af\\u09bc\\u09c7\\u09a6\\u09c7\\u09b0 \\u099c\\u09a8\\u09cd\\u09af \\u098f\\u0995\\u099f\\u09bf \\u09b6\\u09bf\\u09b6\\u09c1 \\u0989\\u09a8\\u09cd\\u09a8\\u09af\\u09bc\\u09a8 \\u0995\\u09c7\\u09a8\\u09cd\\u09a6\\u09cd\\u09b0 \\u09b0\\u09af\\u09bc\\u09c7\\u099b\\u09c7\\u0964 \\u09af\\u09b6\\u09cb\\u09b0 \\u09b6\\u09bf\\u09b6\\u09c1 \\u0989\\u09a8\\u09cd\\u09a8\\u09af\\u09bc\\u09a8 \\u0995\\u09c7\\u09a8\\u09cd\\u09a6\\u09cd\\u09b0\\u09c7 \\u098f\\u0987 \\u09ae\\u09c2\\u09b9\\u09c1\\u09b0\\u09cd\\u09a4\\u09c7 \\u09e8\\u09ed\\u09ed \\u099c\\u09a8 \\u09b6\\u09bf\\u09b6\\u09c1-\\u0995\\u09bf\\u09b6\\u09cb\\u09b0 \\u09b0\\u09af\\u09bc\\u09c7\\u099b\\u09c7\\u0964 \\u098f\\u0987 \\u09af\\u09b6\\u09cb\\u09b0 \\u09b6\\u09bf\\u09b6\\u09c1 \\u0989\\u09a8\\u09cd\\u09a8\\u09af\\u09bc\\u09a8 \\u0995\\u09c7\\u09a8\\u09cd\\u09a6\\u09cd\\u09b0\\u09c7\\u0987 \\u0985\\u0997\\u09be\\u09b8\\u09cd\\u099f \\u09ae\\u09be\\u09b8\\u09c7 \\u0995\\u09c7\\u09a8\\u09cd\\u09a6\\u09cd\\u09b0\\u09c7\\u09b0 \\u0986\\u09a8\\u09b8\\u09be\\u09b0 \\u09b8\\u09a6\\u09b8\\u09cd\\u09af\\u09a6\\u09c7\\u09b0 \\u09ac\\u09c7\\u09a7\\u09a1\\u09bc\\u0995 \\u09aa\\u09bf\\u099f\\u09c1\\u09a8\\u09bf\\u09b0 \\u09b6\\u09bf\\u0995\\u09be\\u09b0 \\u09b9\\u09af\\u09bc\\u09c7 \\u09a4\\u09bf\\u09a8\\u099c\\u09a8 \\u09b6\\u09bf\\u09b6\\u09c1 \\u09a8\\u09bf\\u09b9\\u09a4 \\u09b9\\u09af\\u09bc\\u09c7\\u099b\\u09bf\\u09b2\\u0964 \\u09b8\\u09c7\\u09b8\\u09ae\\u09af\\u09bc \\u0997\\u09c1\\u09b0\\u09c1\\u09a4\\u09b0 \\u0986\\u09b9\\u09a4 \\u09b9\\u09af\\u09bc\\u09c7\\u099b\\u09bf\\u09b2 \\u09e7\\u09eb \\u099c\\u09a8 \\u0995\\u09bf\\u09b6\\u09cb\\u09b0\\u0964\",\n          \"\\u09aa\\u09cd\\u09b0\\u09a4\\u09bf\\u09ac\\u09be\\u09a6\\u0995\\u09be\\u09b0\\u09c0\\u09b0\\u09be \\u09a2\\u09be\\u09b2 \\u09a6\\u09bf\\u09af\\u09bc\\u09c7 \\u09a8\\u09bf\\u099c\\u09c7\\u09a6\\u09c7\\u09b0 \\u09b0\\u0995\\u09cd\\u09b7\\u09be\\u09b0 \\u099a\\u09c7\\u09b7\\u09cd\\u099f\\u09be \\u0995\\u09b0\\u099b\\u09c7\\u0964 \\u09b8\\u09be\\u09ae\\u09b0\\u09bf\\u0995 \\u09ac\\u09be\\u09b9\\u09bf\\u09a8\\u09c0\\u09b0 \\u0995\\u09cd\\u09b7\\u09ae\\u09a4\\u09be \\u09a6\\u0996\\u09b2\\u09c7\\u09b0 \\u09aa\\u09b0 \\u098f\\u099f\\u09be\\u0987 \\u09b8\\u09ac\\u099a\\u09c7\\u09af\\u09bc\\u09c7 \\u09b0\\u0995\\u09cd\\u09a4\\u09be\\u0995\\u09cd\\u09a4 \\u09a6\\u09bf\\u09a8\\u0964 \\u099c\\u09be\\u09a4\\u09bf\\u09b8\\u0982\\u0998 \\u09ac\\u09b2\\u099b\\u09c7,\\u09a6\\u09c7\\u09b6\\u099c\\u09c1\\u09a1\\u09bc\\u09c7 \\u09ac\\u09bf\\u0995\\u09cd\\u09b7\\u09cb\\u09ad\\u09c7\\u09b0 \\u09b8\\u09ae\\u09af\\u09bc \\u0986\\u09b0\\u09cb \\u09e9\\u09e6 \\u099c\\u09a8\\u09c7\\u09b0\\u0993 \\u09ac\\u09c7\\u09b6\\u09bf \\u09b2\\u09cb\\u0995 \\u0986\\u09b9\\u09a4 \\u09b9\\u09af\\u09bc\\u09c7\\u099b\\u09c7\\u0964 \\u0987\\u09af\\u09bc\\u09be\\u0999\\u09cd\\u0997\\u09a8, \\u09ac\\u09be\\u0997\\u09cb \\u0993 \\u09a6\\u09be\\u0993\\u09af\\u09bc\\u09c7\\u0987-\\u098f\\u09b0 \\u09ae\\u09a4 \\u0985\\u09a8\\u09cd\\u09a4\\u09a4 \\u09a4\\u09bf\\u09a8\\u099f\\u09bf \\u09b6\\u09b9\\u09b0\\u09c7 \\u09aa\\u09c1\\u09b2\\u09bf\\u09b6 \\u09ac\\u09bf\\u0995\\u09cd\\u09b7\\u09cb\\u09ad\\u0995\\u09be\\u09b0\\u09c0\\u09a6\\u09c7\\u09b0 \\u0993\\u09aa\\u09b0 \\u0997\\u09c1\\u09b2\\u09bf \\u0993 \\u09b0\\u09be\\u09ac\\u09be\\u09b0 \\u09ac\\u09c1\\u09b2\\u09c7\\u099f \\u09a8\\u09bf\\u0995\\u09cd\\u09b7\\u09c7\\u09aa \\u0995\\u09b0\\u09c7\\u0964 \\u09b8\\u09c7\\u0996\\u09be\\u09a8\\u09c7\\u0993 \\u09ac\\u09b9\\u09c1 \\u09ae\\u09be\\u09a8\\u09c1\\u09b7 \\u09b9\\u09a4\\u09be\\u09b9\\u09a4 \\u09b9\\u09af\\u09bc\\u09c7\\u099b\\u09c7\\u0964 \\u09a6\\u09c7\\u09b6\\u09c7\\u09b0 \\u09ac\\u09bf\\u09ad\\u09bf\\u09a8\\u09cd\\u09a8 \\u09b8\\u09cd\\u09a5\\u09be\\u09a8\\u09c7 \\u09ac\\u09bf\\u0995\\u09cd\\u09b7\\u09cb\\u09ad\\u0995\\u09be\\u09b0\\u09c0\\u09a6\\u09c7\\u09b0 \\u099b\\u09a4\\u09cd\\u09b0\\u09ad\\u0999\\u09cd\\u0997 \\u0995\\u09b0\\u09a4\\u09c7 \\u09b8\\u09cd\\u099f\\u09be\\u09a8\\u0997\\u09be\\u09a8 \\u0993 \\u099c\\u09b2\\u0995\\u09be\\u09ae\\u09be\\u09a8 \\u09ac\\u09cd\\u09af\\u09ac\\u09b9\\u09be\\u09b0 \\u0995\\u09b0\\u09be \\u09b9\\u09af\\u09bc\\u0964 \\u0985\\u09a8\\u09cd\\u09af\\u09a6\\u09bf\\u0995\\u09c7 \\u099c\\u09be\\u09a4\\u09bf\\u09b8\\u0982\\u0998\\u09c7 \\u09ae\\u09bf\\u09af\\u09bc\\u09be\\u09a8\\u09ae\\u09be\\u09b0\\u09c7\\u09b0 \\u09b0\\u09be\\u09b7\\u09cd\\u099f\\u09cd\\u09b0\\u09a6\\u09c2\\u09a4 \\u09b8\\u09c7\\u09a6\\u09c7\\u09b6\\u09c7\\u09b0 \\u0995\\u09cd\\u09b7\\u09ae\\u09a4\\u09be\\u099a\\u09cd\\u09af\\u09c1\\u09a4 \\u09b8\\u09b0\\u0995\\u09be\\u09b0\\u09c7\\u09b0 \\u09aa\\u09cd\\u09b0\\u09a4\\u09bf \\u0986\\u09a8\\u09cd\\u09a4\\u09b0\\u09cd\\u099c\\u09be\\u09a4\\u09bf\\u0995 \\u09b8\\u09ae\\u09b0\\u09cd\\u09a5\\u09a8\\u09c7\\u09b0 \\u0986\\u09b9\\u09cd\\u09ac\\u09be\\u09a8 \\u099c\\u09be\\u09a8\\u09be\\u09a8\\u09cb\\u09b0 \\u09aa\\u09b0 \\u09a4\\u09be\\u0995\\u09c7 \\u09ac\\u09b0\\u0996\\u09be\\u09b8\\u09cd\\u09a4 \\u0995\\u09b0\\u09be \\u09b9\\u09af\\u09bc\\u09c7\\u099b\\u09c7\\u0964 \\u0985\\u0982 \\u09b8\\u09be\\u09a8 \\u09b8\\u09c1 \\u099a\\u09bf-\\u0995\\u09c7 \\u09b9\\u099f\\u09bf\\u09af\\u09bc\\u09c7 \\u09b8\\u09c7\\u09a8\\u09be\\u09ac\\u09be\\u09b9\\u09bf\\u09a8\\u09c0 \\u09e7\\u09b2\\u09be \\u09ab\\u09c7\\u09ac\\u09cd\\u09b0\\u09c1\\u09af\\u09bc\\u09be\\u09b0\\u09bf \\u0995\\u09cd\\u09b7\\u09ae\\u09a4\\u09be \\u09a6\\u0996\\u09b2\\u09c7\\u09b0 \\u09aa\\u09b0 \\u09aa\\u09cd\\u09b0\\u09be\\u09af\\u09bc \\u09aa\\u09cd\\u09b0\\u09a4\\u09bf\\u09a6\\u09bf\\u09a8\\u0987 \\u09a6\\u09c7\\u09b6\\u099f\\u09bf\\u09a4\\u09c7 \\u09ac\\u09bf\\u0995\\u09cd\\u09b7\\u09cb\\u09ad \\u09b9\\u099a\\u09cd\\u099b\\u09c7\\u0964 \\u09a6\\u09bf\\u09a8\\u09c7 \\u09a6\\u09bf\\u09a8\\u09c7 \\u098f\\u0987 \\u09aa\\u09cd\\u09b0\\u09a4\\u09bf\\u09ac\\u09be\\u09a6\\u09c7\\u09b0 \\u09ae\\u09be\\u09a4\\u09cd\\u09b0\\u09be \\u0986\\u09b0\\u09cb \\u09a4\\u09c0\\u09ac\\u09cd\\u09b0 \\u09b9\\u099a\\u09cd\\u099b\\u09c7\\u0964 \\u0986\\u09b0\\u09cb \\u09aa\\u09a1\\u09bc\\u09a4\\u09c7 \\u09aa\\u09be\\u09b0\\u09c7\\u09a8: \\u09ae\\u09bf\\u09af\\u09bc\\u09be\\u09a8\\u09ae\\u09be\\u09b0\\u09c7\\u09b0 \\u09b8\\u09be\\u09ae\\u09b0\\u09bf\\u0995 \\u09a8\\u09c7\\u09a4\\u09be\\u09a6\\u09c7\\u09b0 \\u0989\\u09aa\\u09b0 \\u09af\\u09c1\\u0995\\u09cd\\u09a4\\u09b0\\u09be\\u09b7\\u09cd\\u099f\\u09cd\\u09b0\\u09c7\\u09b0 \\u09a8\\u09bf\\u09b7\\u09c7\\u09a7\\u09be\\u099c\\u09cd\\u099e\\u09be \\u0986\\u09b0\\u09cb\\u09aa \\u09ab\\u09c7\\u09b8\\u09ac\\u09c1\\u0995\\u09c7\\u09b0 \\u09aa\\u09b0 \\u09ae\\u09bf\\u09af\\u09bc\\u09be\\u09a8\\u09ae\\u09be\\u09b0\\u09c7 \\u0987\\u09a8\\u09b8\\u09cd\\u099f\\u09be\\u0997\\u09cd\\u09b0\\u09be\\u09ae \\u0993 \\u099f\\u09c1\\u0987\\u099f\\u09be\\u09b0\\u0993 \\u09ac\\u09a8\\u09cd\\u09a7 \\u0995\\u09b0\\u09be \\u09b9\\u09b2\\u09cb \\u0986\\u09b9\\u09a4 \\u098f\\u0995\\u099c\\u09a8\\u0995\\u09c7 \\u0985\\u09cd\\u09af\\u09be\\u09ae\\u09cd\\u09ac\\u09c1\\u09b2\\u09c7\\u09a8\\u09cd\\u09b8\\u09c7 \\u099a\\u09bf\\u0995\\u09bf\\u09ce\\u09b8\\u09be \\u09a6\\u09c7\\u0993\\u09af\\u09bc\\u09be \\u09b9\\u099a\\u09cd\\u099b\\u09c7\\u0964 \\u098f\\u0987 \\u09ac\\u09bf\\u0995\\u09cd\\u09b7\\u09cb\\u09ad \\u09a6\\u09ae\\u09a8 \\u0995\\u09b0\\u09a4\\u09c7 \\u09a8\\u09bf\\u09b0\\u09be\\u09aa\\u09a4\\u09cd\\u09a4\\u09be \\u09ac\\u09be\\u09b9\\u09bf\\u09a8\\u09c0\\u0997\\u09c1\\u09b2\\u09cb \\u09b6\\u09a8\\u09bf\\u09ac\\u09be\\u09b0 \\u09a5\\u09c7\\u0995\\u09c7 \\u09b8\\u09be\\u0981\\u09a1\\u09bc\\u09be\\u09b6\\u09bf \\u0986\\u0995\\u09cd\\u09b0\\u09ae\\u09a3 \\u09b6\\u09c1\\u09b0\\u09c1 \\u0995\\u09b0\\u09c7\\u0964 \\u09a4\\u09be\\u09b0\\u09be \\u09aa\\u09cd\\u09b0\\u099a\\u09c1\\u09b0 \\u09b8\\u0982\\u0996\\u09cd\\u09af\\u0995 \\u09aa\\u09cd\\u09b0\\u09a4\\u09bf\\u09ac\\u09be\\u09a6\\u0995\\u09be\\u09b0\\u09c0\\u0995\\u09c7 \\u0997\\u09cd\\u09b0\\u09c7\\u09ab\\u09a4\\u09be\\u09b0 \\u0995\\u09b0\\u09c7\\u099b\\u09c7\\u0964 \\u09b8\\u09cb\\u09b6\\u09be\\u09b2 \\u09ae\\u09bf\\u09a1\\u09bf\\u09af\\u09bc\\u09be\\u09a4\\u09c7 \\u098f\\u09b8\\u09ac \\u09ac\\u09bf\\u0995\\u09cd\\u09b7\\u09cb\\u09ad\\u09c7\\u09b0 \\u09ad\\u09bf\\u09a1\\u09bf\\u0993 \\u099b\\u09a1\\u09bc\\u09bf\\u09af\\u09bc\\u09c7 \\u09aa\\u09a1\\u09bc\\u09c7\\u099b\\u09c7 - \\u09af\\u09be\\u09a4\\u09c7 \\u09a6\\u09c7\\u0996\\u09be \\u09af\\u09be\\u099a\\u09cd\\u099b\\u09c7 \\u09aa\\u09c1\\u09b2\\u09bf\\u09b6 \\u09aa\\u09cd\\u09b0\\u09a4\\u09bf\\u09ac\\u09be\\u09a6\\u0995\\u09be\\u09b0\\u09c0\\u09a6\\u09c7\\u09b0 \\u09b2\\u09be\\u09a0\\u09bf\\u09aa\\u09c7\\u099f\\u09be \\u0995\\u09b0\\u099b\\u09c7\\u0964 \\u0998\\u099f\\u09a8\\u09be\\u09b8\\u09cd\\u09a5\\u09b2\\u09c7 \\u09a5\\u09be\\u0995\\u09be \\u09ac\\u09bf\\u09ac\\u09bf\\u09b8\\u09bf\\u09b0 \\u098f\\u0995\\u099c\\u09a8 \\u09b8\\u09be\\u0982\\u09ac\\u09be\\u09a6\\u09bf\\u0995 \\u09ac\\u09b2\\u09c7\\u099b\\u09c7\\u09a8, \\u09a4\\u09bf\\u09a8\\u09bf \\u09ae\\u09be\\u09b0\\u09be\\u09a4\\u09cd\\u09ae\\u0995\\u09ad\\u09be\\u09ac\\u09c7 \\u0986\\u09b9\\u09a4 \\u09ac\\u09c7\\u09b6 \\u0995\\u09bf\\u099b\\u09c1 \\u09b2\\u09cb\\u0995\\u09c7\\u09b0 \\u099b\\u09ac\\u09bf \\u09a6\\u09c7\\u0996\\u09c7\\u099b\\u09c7\\u09a8\\u0964\"\n        ],\n        \"semantic_type\": \"\",\n        \"description\": \"\"\n      }\n    },\n    {\n      \"column\": \"predicted_summary\",\n      \"properties\": {\n        \"dtype\": \"string\",\n        \"num_unique_values\": 512,\n        \"samples\": [\n          \" \\u09b6\\u09c1\\u0995\\u09cd\\u09b0\\u09ac\\u09be\\u09b0 \\u09ac\\u09bf\\u0995\\u09c7\\u09b2\\u09c7 \\u0995\\u09c1\\u09ae\\u09bf\\u09b2\\u09cd\\u09b2\\u09be\\u09b0 \\u0995\\u09cb\\u09a4\\u09cb\\u09af\\u09bc\\u09be\\u09b2\\u09bf \\u09ae\\u09a1\\u09c7\\u09b2 \\u09a5\\u09be\\u09a8\\u09be\\u09b0 \\u0993\\u09b8\\u09bf \\u0986\\u09a8\\u09cb\\u09af\\u09bc\\u09be\\u09b0\\u09c1\\u09b2 \\u0987\\u09b8\\u09b2\\u09be\\u09ae\\u09c7\\u09b0 \\u09a4\\u09a5\\u09cd\\u09af\\u09be\\u09a8\\u09c1\\u09af\\u09be\\u09af\\u09bc\\u09c0, \\u09af\\u09c1\\u09ac\\u09b2\\u09c0\\u0997 \\u09a8\\u09c7\\u09a4\\u09be\\u09b0 \\u0993\\u09aa\\u09b0 \\u09b9\\u09be\\u09ae\\u09b2\\u09be\\u09b0 \\u0998\\u099f\\u09a8\\u09be\\u09af\\u09bc \\u09ae\\u09be\\u09ae\\u09b2\\u09be \\u09b9\\u09af\\u09bc\\u09c7\\u099b\\u09c7\\u0964\",\n          \" \\u09af\\u09b6\\u09cb\\u09b0\\u09c7\\u09b0 \\u09b6\\u09bf\\u09b6\\u09c1 \\u0989\\u09a8\\u09cd\\u09a8\\u09af\\u09bc\\u09a8 \\u0995\\u09c7\\u09a8\\u09cd\\u09a6\\u09cd\\u09b0\\u09c7 \\u098f\\u0995\\u099f\\u09bf \\u0998\\u099f\\u09a8\\u09be\\u09af\\u09bc \\u0986\\u099f\\u099c\\u09a8 \\u0995\\u09bf\\u09b6\\u09cb\\u09b0 \\u09a6\\u09c7\\u09af\\u09bc\\u09be\\u09b2 \\u099f\\u09aa\\u0995\\u09c7 \\u09aa\\u09be\\u09b2\\u09bf\\u09af\\u09bc\\u09c7 \\u0997\\u09c7\\u099b\\u09c7\\u0964 \\u098f\\u0987 \\u0998\\u099f\\u09a8\\u09be\\u09af\\u09bc \\u09a4\\u09bf\\u09a8\\u099c\\u09a8 \\u0995\\u09bf\\u09b6\\u09cb\\u09b0 \\u09a8\\u09bf\\u09b9\\u09a4 \\u09b9\\u09af\\u09bc\\u09c7\\u099b\\u09bf\\u09b2 \\u098f\\u09ac\\u0982 \\u0985\\u09a8\\u09c7\\u0995 \\u0995\\u09bf\\u09b6\\u09cb\\u09b0 \\u0986\\u09b9\\u09a4 \\u09b9\\u09af\\u09bc\\u09c7\\u099b\\u09bf\\u09b2\\u0964\",\n          \" \\u09ac\\u09bf\\u09ac\\u09b0\\u09a3\\u09c7 \\u0989\\u09b2\\u09cd\\u09b2\\u09c7\\u0996\\u09bf\\u09a4 \\u09b9\\u09df\\u09c7\\u099b\\u09c7 \\u09af\\u09c7 \\u09ac\\u09bf\\u0995\\u09cd\\u09b7\\u09cb\\u09ad\\u09c7\\u09b0 \\u09b8\\u09ae\\u09af\\u09bc \\u09aa\\u09cd\\u09b0\\u09a4\\u09bf\\u09ac\\u09be\\u09a6\\u0995\\u09be\\u09b0\\u09c0\\u09b0\\u09be \\u09a2\\u09be\\u09b2 \\u09a6\\u09bf\\u09af\\u09bc\\u09c7 \\u09a8\\u09bf\\u099c\\u09c7\\u09a6\\u09c7\\u09b0 \\u09b0\\u0995\\u09cd\\u09b7\\u09be\\u09b0 \\u099a\\u09c7\\u09b7\\u09cd\\u099f\\u09be \\u0995\\u09b0\\u099b\\u09c7\\u0964 \\u098f\\u099f\\u09bf \\u09b8\\u09be\\u09ae\\u09b0\\u09bf\\u0995 \\u09ac\\u09be\\u09b9\\u09bf\\u09a8\\u09c0\\u09b0 \\u0995\\u09cd\\u09b7\\u09ae\\u09a4\\u09be \\u09a6\\u0996\\u09b2\\u09c7\\u09b0 \\u09aa\\u09b0 \\u09b8\\u09ac\\u099a\\u09c7\\u09af\\u09bc\\u09c7 \\u09b0\\u0995\\u09cd\\u09a4\\u09be\\u0995\\u09cd\\u09a4 \\u09a6\\u09bf\\u09a8\\u0964\"\n        ],\n        \"semantic_type\": \"\",\n        \"description\": \"\"\n      }\n    }\n  ]\n}",
              "type": "dataframe",
              "variable_name": "zs_results"
            },
            "text/html": [
              "\n",
              "  <div id=\"df-50399596-3351-4c1d-bdab-be87817588a3\" class=\"colab-df-container\">\n",
              "    <div>\n",
              "<style scoped>\n",
              "    .dataframe tbody tr th:only-of-type {\n",
              "        vertical-align: middle;\n",
              "    }\n",
              "\n",
              "    .dataframe tbody tr th {\n",
              "        vertical-align: top;\n",
              "    }\n",
              "\n",
              "    .dataframe thead th {\n",
              "        text-align: right;\n",
              "    }\n",
              "</style>\n",
              "<table border=\"1\" class=\"dataframe\">\n",
              "  <thead>\n",
              "    <tr style=\"text-align: right;\">\n",
              "      <th></th>\n",
              "      <th>id</th>\n",
              "      <th>url</th>\n",
              "      <th>title</th>\n",
              "      <th>summary</th>\n",
              "      <th>text</th>\n",
              "      <th>predicted_summary</th>\n",
              "    </tr>\n",
              "  </thead>\n",
              "  <tbody>\n",
              "    <tr>\n",
              "      <th>0</th>\n",
              "      <td>news-45155508</td>\n",
              "      <td>https://www.bbc.com/bengali/news-45155508</td>\n",
              "      <td>চীন ১০ লাখ উইগুর মুসলিমকে আটকে রেখেছে - জাতিসং...</td>\n",
              "      <td>জাতিসংঘের মানবাধিকার বিষয়ক কমিটি জেনেভাতে চীন...</td>\n",
              "      <td>আটক স্বজনদের আইডি কার্ড হাতে উইগুর নারীদের বিক...</td>\n",
              "      <td>উইগুর মুসলিমদের গণহারে ধরে বিভিন্ন বন্দীশিবির...</td>\n",
              "    </tr>\n",
              "    <tr>\n",
              "      <th>1</th>\n",
              "      <td>news-39127107</td>\n",
              "      <td>https://www.bbc.com/bengali/news-39127107</td>\n",
              "      <td>কোকা-কোলা, পেপসি নিষিদ্ধ হলো তামিলনাডুতে</td>\n",
              "      <td>ভারতের দক্ষিণাঞ্চলীয় রাজ্য তামিলনাডুর ব্যবসায...</td>\n",
              "      <td>ভারতের অন্য অঞ্চলেও কোক, পেপসি নিষিদ্ধ করার দা...</td>\n",
              "      <td>কোক এবং পেপসি নিষিদ্ধ করার প্রস্তাব দেওয়া হল...</td>\n",
              "    </tr>\n",
              "    <tr>\n",
              "      <th>2</th>\n",
              "      <td>news-49141918</td>\n",
              "      <td>https://www.bbc.com/bengali/news-49141918</td>\n",
              "      <td>ডেঙ্গু পরিস্থিতি: হাসপাতালে ভর্তির দরকার না থা...</td>\n",
              "      <td>স্বাস্থ্য অধিদপ্তরের হিসাব মতে, গত ২৪ ঘণ্টায় ...</td>\n",
              "      <td>সোহরাওয়ার্দী হাসপাতালের চিত্র সাধারণত সেপ্টেম...</td>\n",
              "      <td>ডেঙ্গু প্রকোপের পরিস্থিতি সামাল দিতে হিমশিম খ...</td>\n",
              "    </tr>\n",
              "    <tr>\n",
              "      <th>3</th>\n",
              "      <td>news-52808250</td>\n",
              "      <td>https://www.bbc.com/bengali/news-52808250</td>\n",
              "      <td>ডোনাল্ড ট্রাম্প: আমেরিকান প্রেসিডেন্টের পোস্ট ...</td>\n",
              "      <td>এই প্রথম সামাজিক মাধ্যমের বিশাল প্রতিষ্ঠান টুই...</td>\n",
              "      <td>ডোনাল্ড ট্রাম্প অভিযোগ করেছেন টু্‌ইটার আমেরিকা...</td>\n",
              "      <td>ডোনাল্ড ট্রাম্প টুইটারে অভিযোগ করেছেন যে আমের...</td>\n",
              "    </tr>\n",
              "    <tr>\n",
              "      <th>4</th>\n",
              "      <td>news-49047323</td>\n",
              "      <td>https://www.bbc.com/bengali/news-49047323</td>\n",
              "      <td>বাংলাদেশে বন্যার প্রকোপ: ২৪ ঘণ্টায় ডুবে যাবে ...</td>\n",
              "      <td>বাংলাদেশের বন্যা পূর্বাভাস এবং সতর্কীকরণ কেন্দ...</td>\n",
              "      <td>বন্যার প্রকোপ ছড়িয়ে পড়ছে সারা দেশে। বাংলাদে...</td>\n",
              "      <td>বাংলাদেশে বন্যার প্রকোপের প্রভাব সবচেয়ে বেশি...</td>\n",
              "    </tr>\n",
              "  </tbody>\n",
              "</table>\n",
              "</div>\n",
              "    <div class=\"colab-df-buttons\">\n",
              "\n",
              "  <div class=\"colab-df-container\">\n",
              "    <button class=\"colab-df-convert\" onclick=\"convertToInteractive('df-50399596-3351-4c1d-bdab-be87817588a3')\"\n",
              "            title=\"Convert this dataframe to an interactive table.\"\n",
              "            style=\"display:none;\">\n",
              "\n",
              "  <svg xmlns=\"http://www.w3.org/2000/svg\" height=\"24px\" viewBox=\"0 -960 960 960\">\n",
              "    <path d=\"M120-120v-720h720v720H120Zm60-500h600v-160H180v160Zm220 220h160v-160H400v160Zm0 220h160v-160H400v160ZM180-400h160v-160H180v160Zm440 0h160v-160H620v160ZM180-180h160v-160H180v160Zm440 0h160v-160H620v160Z\"/>\n",
              "  </svg>\n",
              "    </button>\n",
              "\n",
              "  <style>\n",
              "    .colab-df-container {\n",
              "      display:flex;\n",
              "      gap: 12px;\n",
              "    }\n",
              "\n",
              "    .colab-df-convert {\n",
              "      background-color: #E8F0FE;\n",
              "      border: none;\n",
              "      border-radius: 50%;\n",
              "      cursor: pointer;\n",
              "      display: none;\n",
              "      fill: #1967D2;\n",
              "      height: 32px;\n",
              "      padding: 0 0 0 0;\n",
              "      width: 32px;\n",
              "    }\n",
              "\n",
              "    .colab-df-convert:hover {\n",
              "      background-color: #E2EBFA;\n",
              "      box-shadow: 0px 1px 2px rgba(60, 64, 67, 0.3), 0px 1px 3px 1px rgba(60, 64, 67, 0.15);\n",
              "      fill: #174EA6;\n",
              "    }\n",
              "\n",
              "    .colab-df-buttons div {\n",
              "      margin-bottom: 4px;\n",
              "    }\n",
              "\n",
              "    [theme=dark] .colab-df-convert {\n",
              "      background-color: #3B4455;\n",
              "      fill: #D2E3FC;\n",
              "    }\n",
              "\n",
              "    [theme=dark] .colab-df-convert:hover {\n",
              "      background-color: #434B5C;\n",
              "      box-shadow: 0px 1px 3px 1px rgba(0, 0, 0, 0.15);\n",
              "      filter: drop-shadow(0px 1px 2px rgba(0, 0, 0, 0.3));\n",
              "      fill: #FFFFFF;\n",
              "    }\n",
              "  </style>\n",
              "\n",
              "    <script>\n",
              "      const buttonEl =\n",
              "        document.querySelector('#df-50399596-3351-4c1d-bdab-be87817588a3 button.colab-df-convert');\n",
              "      buttonEl.style.display =\n",
              "        google.colab.kernel.accessAllowed ? 'block' : 'none';\n",
              "\n",
              "      async function convertToInteractive(key) {\n",
              "        const element = document.querySelector('#df-50399596-3351-4c1d-bdab-be87817588a3');\n",
              "        const dataTable =\n",
              "          await google.colab.kernel.invokeFunction('convertToInteractive',\n",
              "                                                    [key], {});\n",
              "        if (!dataTable) return;\n",
              "\n",
              "        const docLinkHtml = 'Like what you see? Visit the ' +\n",
              "          '<a target=\"_blank\" href=https://colab.research.google.com/notebooks/data_table.ipynb>data table notebook</a>'\n",
              "          + ' to learn more about interactive tables.';\n",
              "        element.innerHTML = '';\n",
              "        dataTable['output_type'] = 'display_data';\n",
              "        await google.colab.output.renderOutput(dataTable, element);\n",
              "        const docLink = document.createElement('div');\n",
              "        docLink.innerHTML = docLinkHtml;\n",
              "        element.appendChild(docLink);\n",
              "      }\n",
              "    </script>\n",
              "  </div>\n",
              "\n",
              "\n",
              "<div id=\"df-d90469bc-cd00-430a-aa91-448db6506dad\">\n",
              "  <button class=\"colab-df-quickchart\" onclick=\"quickchart('df-d90469bc-cd00-430a-aa91-448db6506dad')\"\n",
              "            title=\"Suggest charts\"\n",
              "            style=\"display:none;\">\n",
              "\n",
              "<svg xmlns=\"http://www.w3.org/2000/svg\" height=\"24px\"viewBox=\"0 0 24 24\"\n",
              "     width=\"24px\">\n",
              "    <g>\n",
              "        <path d=\"M19 3H5c-1.1 0-2 .9-2 2v14c0 1.1.9 2 2 2h14c1.1 0 2-.9 2-2V5c0-1.1-.9-2-2-2zM9 17H7v-7h2v7zm4 0h-2V7h2v10zm4 0h-2v-4h2v4z\"/>\n",
              "    </g>\n",
              "</svg>\n",
              "  </button>\n",
              "\n",
              "<style>\n",
              "  .colab-df-quickchart {\n",
              "      --bg-color: #E8F0FE;\n",
              "      --fill-color: #1967D2;\n",
              "      --hover-bg-color: #E2EBFA;\n",
              "      --hover-fill-color: #174EA6;\n",
              "      --disabled-fill-color: #AAA;\n",
              "      --disabled-bg-color: #DDD;\n",
              "  }\n",
              "\n",
              "  [theme=dark] .colab-df-quickchart {\n",
              "      --bg-color: #3B4455;\n",
              "      --fill-color: #D2E3FC;\n",
              "      --hover-bg-color: #434B5C;\n",
              "      --hover-fill-color: #FFFFFF;\n",
              "      --disabled-bg-color: #3B4455;\n",
              "      --disabled-fill-color: #666;\n",
              "  }\n",
              "\n",
              "  .colab-df-quickchart {\n",
              "    background-color: var(--bg-color);\n",
              "    border: none;\n",
              "    border-radius: 50%;\n",
              "    cursor: pointer;\n",
              "    display: none;\n",
              "    fill: var(--fill-color);\n",
              "    height: 32px;\n",
              "    padding: 0;\n",
              "    width: 32px;\n",
              "  }\n",
              "\n",
              "  .colab-df-quickchart:hover {\n",
              "    background-color: var(--hover-bg-color);\n",
              "    box-shadow: 0 1px 2px rgba(60, 64, 67, 0.3), 0 1px 3px 1px rgba(60, 64, 67, 0.15);\n",
              "    fill: var(--button-hover-fill-color);\n",
              "  }\n",
              "\n",
              "  .colab-df-quickchart-complete:disabled,\n",
              "  .colab-df-quickchart-complete:disabled:hover {\n",
              "    background-color: var(--disabled-bg-color);\n",
              "    fill: var(--disabled-fill-color);\n",
              "    box-shadow: none;\n",
              "  }\n",
              "\n",
              "  .colab-df-spinner {\n",
              "    border: 2px solid var(--fill-color);\n",
              "    border-color: transparent;\n",
              "    border-bottom-color: var(--fill-color);\n",
              "    animation:\n",
              "      spin 1s steps(1) infinite;\n",
              "  }\n",
              "\n",
              "  @keyframes spin {\n",
              "    0% {\n",
              "      border-color: transparent;\n",
              "      border-bottom-color: var(--fill-color);\n",
              "      border-left-color: var(--fill-color);\n",
              "    }\n",
              "    20% {\n",
              "      border-color: transparent;\n",
              "      border-left-color: var(--fill-color);\n",
              "      border-top-color: var(--fill-color);\n",
              "    }\n",
              "    30% {\n",
              "      border-color: transparent;\n",
              "      border-left-color: var(--fill-color);\n",
              "      border-top-color: var(--fill-color);\n",
              "      border-right-color: var(--fill-color);\n",
              "    }\n",
              "    40% {\n",
              "      border-color: transparent;\n",
              "      border-right-color: var(--fill-color);\n",
              "      border-top-color: var(--fill-color);\n",
              "    }\n",
              "    60% {\n",
              "      border-color: transparent;\n",
              "      border-right-color: var(--fill-color);\n",
              "    }\n",
              "    80% {\n",
              "      border-color: transparent;\n",
              "      border-right-color: var(--fill-color);\n",
              "      border-bottom-color: var(--fill-color);\n",
              "    }\n",
              "    90% {\n",
              "      border-color: transparent;\n",
              "      border-bottom-color: var(--fill-color);\n",
              "    }\n",
              "  }\n",
              "</style>\n",
              "\n",
              "  <script>\n",
              "    async function quickchart(key) {\n",
              "      const quickchartButtonEl =\n",
              "        document.querySelector('#' + key + ' button');\n",
              "      quickchartButtonEl.disabled = true;  // To prevent multiple clicks.\n",
              "      quickchartButtonEl.classList.add('colab-df-spinner');\n",
              "      try {\n",
              "        const charts = await google.colab.kernel.invokeFunction(\n",
              "            'suggestCharts', [key], {});\n",
              "      } catch (error) {\n",
              "        console.error('Error during call to suggestCharts:', error);\n",
              "      }\n",
              "      quickchartButtonEl.classList.remove('colab-df-spinner');\n",
              "      quickchartButtonEl.classList.add('colab-df-quickchart-complete');\n",
              "    }\n",
              "    (() => {\n",
              "      let quickchartButtonEl =\n",
              "        document.querySelector('#df-d90469bc-cd00-430a-aa91-448db6506dad button');\n",
              "      quickchartButtonEl.style.display =\n",
              "        google.colab.kernel.accessAllowed ? 'block' : 'none';\n",
              "    })();\n",
              "  </script>\n",
              "</div>\n",
              "\n",
              "    </div>\n",
              "  </div>\n"
            ],
            "text/plain": [
              "              id                                        url  \\\n",
              "0  news-45155508  https://www.bbc.com/bengali/news-45155508   \n",
              "1  news-39127107  https://www.bbc.com/bengali/news-39127107   \n",
              "2  news-49141918  https://www.bbc.com/bengali/news-49141918   \n",
              "3  news-52808250  https://www.bbc.com/bengali/news-52808250   \n",
              "4  news-49047323  https://www.bbc.com/bengali/news-49047323   \n",
              "\n",
              "                                               title  \\\n",
              "0  চীন ১০ লাখ উইগুর মুসলিমকে আটকে রেখেছে - জাতিসং...   \n",
              "1           কোকা-কোলা, পেপসি নিষিদ্ধ হলো তামিলনাডুতে   \n",
              "2  ডেঙ্গু পরিস্থিতি: হাসপাতালে ভর্তির দরকার না থা...   \n",
              "3  ডোনাল্ড ট্রাম্প: আমেরিকান প্রেসিডেন্টের পোস্ট ...   \n",
              "4  বাংলাদেশে বন্যার প্রকোপ: ২৪ ঘণ্টায় ডুবে যাবে ...   \n",
              "\n",
              "                                             summary  \\\n",
              "0  জাতিসংঘের মানবাধিকার বিষয়ক কমিটি জেনেভাতে চীন...   \n",
              "1  ভারতের দক্ষিণাঞ্চলীয় রাজ্য তামিলনাডুর ব্যবসায...   \n",
              "2  স্বাস্থ্য অধিদপ্তরের হিসাব মতে, গত ২৪ ঘণ্টায় ...   \n",
              "3  এই প্রথম সামাজিক মাধ্যমের বিশাল প্রতিষ্ঠান টুই...   \n",
              "4  বাংলাদেশের বন্যা পূর্বাভাস এবং সতর্কীকরণ কেন্দ...   \n",
              "\n",
              "                                                text  \\\n",
              "0  আটক স্বজনদের আইডি কার্ড হাতে উইগুর নারীদের বিক...   \n",
              "1  ভারতের অন্য অঞ্চলেও কোক, পেপসি নিষিদ্ধ করার দা...   \n",
              "2  সোহরাওয়ার্দী হাসপাতালের চিত্র সাধারণত সেপ্টেম...   \n",
              "3  ডোনাল্ড ট্রাম্প অভিযোগ করেছেন টু্‌ইটার আমেরিকা...   \n",
              "4  বন্যার প্রকোপ ছড়িয়ে পড়ছে সারা দেশে। বাংলাদে...   \n",
              "\n",
              "                                   predicted_summary  \n",
              "0   উইগুর মুসলিমদের গণহারে ধরে বিভিন্ন বন্দীশিবির...  \n",
              "1   কোক এবং পেপসি নিষিদ্ধ করার প্রস্তাব দেওয়া হল...  \n",
              "2   ডেঙ্গু প্রকোপের পরিস্থিতি সামাল দিতে হিমশিম খ...  \n",
              "3   ডোনাল্ড ট্রাম্প টুইটারে অভিযোগ করেছেন যে আমের...  \n",
              "4   বাংলাদেশে বন্যার প্রকোপের প্রভাব সবচেয়ে বেশি...  "
            ]
          },
          "execution_count": 17,
          "metadata": {},
          "output_type": "execute_result"
        }
      ],
      "source": [
        "zs_results = pd.read_parquet(\"aya_101_zs_summary_results.parquet\")\n",
        "zs_results.head()"
      ]
    },
    {
      "cell_type": "code",
      "execution_count": null,
      "id": "Tj4sx3XrWrSx",
      "metadata": {
        "id": "Tj4sx3XrWrSx"
      },
      "outputs": [],
      "source": [
        "# Empty the GPU cache\n",
        "torch.cuda.empty_cache()"
      ]
    },
    {
      "cell_type": "markdown",
      "id": "rCovpD3A3ZLA",
      "metadata": {
        "id": "rCovpD3A3ZLA"
      },
      "source": [
        "### Three Shot"
      ]
    },
    {
      "cell_type": "code",
      "execution_count": null,
      "id": "cBazlE_fQajH",
      "metadata": {
        "colab": {
          "base_uri": "https://localhost:8080/",
          "height": 49,
          "referenced_widgets": [
            "b611f845a39348cb80aea127ef7fec3e",
            "93fa3a5acd044ba9b1788789096755cf",
            "95f01432a3fb4b29bf4f627f923c24fc",
            "56c38fcdd5b243f0a3c4fcc520f3403b",
            "1c7d901d972a456095205bde9e0f6d85",
            "997aeded22f347a79a3f167d6b6f044e",
            "74c4b7e5990b47cea3f570a90aa46e36",
            "efda54ff1c014cb0a0ff73fe2696e457",
            "9819a49258a44f289eb7b1f8f63b1421",
            "bbb2f9a805c549a7bd23a1e96f941f52",
            "f00bb3ee0b73457799b3b979cbec349e"
          ]
        },
        "id": "cBazlE_fQajH",
        "outputId": "94f0141a-c404-4a8c-a352-7b76fb04ea76"
      },
      "outputs": [
        {
          "data": {
            "application/vnd.jupyter.widget-view+json": {
              "model_id": "b611f845a39348cb80aea127ef7fec3e",
              "version_major": 2,
              "version_minor": 0
            },
            "text/plain": [
              "  0%|          | 0/512 [00:00<?, ?it/s]"
            ]
          },
          "metadata": {},
          "output_type": "display_data"
        }
      ],
      "source": [
        "import time\n",
        "from tqdm.notebook import tqdm\n",
        "\n",
        "# Assuming df is the original DataFrame and category_translation is defined\n",
        "df['predicted_summary'] = None\n",
        "\n",
        "# Try to load the progress from the Parquet file\n",
        "try:\n",
        "    df_progress = pd.read_parquet('aya_101_ts_summary_results.parquet')\n",
        "    start_index = df_progress['predicted_summary'].last_valid_index() + 1\n",
        "except (FileNotFoundError, ValueError):\n",
        "    df_progress = df.copy()\n",
        "    start_index = 0\n",
        "\n",
        "\n",
        "for i, row in tqdm(df.iloc[start_index:].iterrows(), initial=start_index, total=len(df) - start_index):\n",
        "    text_body = row['text']\n",
        "\n",
        "    prompt_input = three_shot + \"### বিবরণ: \" + text_body + \"\\n### সারমর্ম:\"\n",
        "\n",
        "    try:\n",
        "        df.at[i, 'predicted_summary'] = get_aya_output(prompt_input)\n",
        "    except Exception as e:\n",
        "        print(f\"Error at index {i}: {e}\")\n",
        "        time.sleep(5)\n",
        "\n",
        "    if (i + 1) % 100 == 0:\n",
        "        df.to_parquet('aya_101_ts_summary_results.parquet')\n",
        "\n",
        "# Save final progress\n",
        "df.to_parquet('aya_101_ts_summary_results.parquet')"
      ]
    },
    {
      "cell_type": "code",
      "execution_count": null,
      "id": "_7l1vKROQajH",
      "metadata": {
        "colab": {
          "base_uri": "https://localhost:8080/",
          "height": 553
        },
        "id": "_7l1vKROQajH",
        "outputId": "152f5aaa-d7c9-4f71-856e-7c1b1fe70b7d"
      },
      "outputs": [
        {
          "data": {
            "application/vnd.google.colaboratory.intrinsic+json": {
              "summary": "{\n  \"name\": \"ts_results\",\n  \"rows\": 512,\n  \"fields\": [\n    {\n      \"column\": \"id\",\n      \"properties\": {\n        \"dtype\": \"string\",\n        \"num_unique_values\": 512,\n        \"samples\": [\n          \"news-56467992\",\n          \"news-55216598\",\n          \"news-56230347\"\n        ],\n        \"semantic_type\": \"\",\n        \"description\": \"\"\n      }\n    },\n    {\n      \"column\": \"url\",\n      \"properties\": {\n        \"dtype\": \"string\",\n        \"num_unique_values\": 512,\n        \"samples\": [\n          \"https://www.bbc.com/bengali/news-56467992\",\n          \"https://www.bbc.com/bengali/news-55216598\",\n          \"https://www.bbc.com/bengali/news-56230347\"\n        ],\n        \"semantic_type\": \"\",\n        \"description\": \"\"\n      }\n    },\n    {\n      \"column\": \"title\",\n      \"properties\": {\n        \"dtype\": \"string\",\n        \"num_unique_values\": 512,\n        \"samples\": [\n          \"\\u0995\\u09c1\\u09ae\\u09bf\\u09b2\\u09cd\\u09b2\\u09be\\u09af\\u09bc \\u09af\\u09c1\\u09ac\\u09b2\\u09c0\\u0997 \\u09a8\\u09c7\\u09a4\\u09be\\u09b0 \\u09ae\\u09bf\\u099b\\u09bf\\u09b2\\u09c7 \\u0997\\u09be\\u09a1\\u09bc\\u09bf \\u09a4\\u09c1\\u09b2\\u09c7 \\u09a6\\u09c7\\u09af\\u09bc\\u09be\\u09b0 \\u09aa\\u09b0 \\u0985\\u09b8\\u09cd\\u09a4\\u09cd\\u09b0 \\u09b9\\u09be\\u09a4\\u09c7 \\u09a8\\u09be\\u099a\\u099b\\u09bf\\u09b2\\u09c7\\u09a8 \\u0995\\u09be\\u0989\\u09a8\\u09cd\\u09b8\\u09bf\\u09b2\\u09b0\",\n          \"\\u09ac\\u09be\\u09a5\\u09b0\\u09c1\\u09ae\\u09c7\\u09b0 \\u099c\\u09be\\u09a8\\u09be\\u09b2\\u09be \\u09ad\\u09c7\\u0999\\u09c7, \\u09a6\\u09c7\\u09af\\u09bc\\u09be\\u09b2 \\u099f\\u09aa\\u0995\\u09c7 \\u09aa\\u09be\\u09b2\\u09bf\\u09af\\u09bc\\u09c7\\u099b\\u09c7 \\u09af\\u09b6\\u09cb\\u09b0 \\u09b6\\u09bf\\u09b6\\u09c1 \\u0989\\u09a8\\u09cd\\u09a8\\u09af\\u09bc\\u09a8 \\u0995\\u09c7\\u09a8\\u09cd\\u09a6\\u09cd\\u09b0\\u09c7\\u09b0 \\u09ee \\u099c\\u09a8 \\u0995\\u09bf\\u09b6\\u09cb\\u09b0\",\n          \"\\u09ae\\u09bf\\u09af\\u09bc\\u09be\\u09a8\\u09ae\\u09be\\u09b0\\u09c7 \\u09b8\\u09c7\\u09a8\\u09be \\u0985\\u09ad\\u09cd\\u09af\\u09c1\\u09a4\\u09cd\\u09a5\\u09be\\u09a8\\u09c7\\u09b0 \\u09ac\\u09bf\\u09b0\\u09c1\\u09a6\\u09cd\\u09a7\\u09c7 \\u09ac\\u09bf\\u0995\\u09cd\\u09b7\\u09cb\\u09ad\\u09c7\\u09b0 \\u09b0\\u0995\\u09cd\\u09a4\\u09be\\u0995\\u09cd\\u09a4 \\u09a6\\u09bf\\u09a8, \\u09b8\\u09b9\\u09bf\\u0982\\u09b8\\u09a4\\u09be\\u09af\\u09bc \\u09e7\\u09ee \\u099c\\u09a8 \\u09a8\\u09bf\\u09b9\\u09a4\"\n        ],\n        \"semantic_type\": \"\",\n        \"description\": \"\"\n      }\n    },\n    {\n      \"column\": \"summary\",\n      \"properties\": {\n        \"dtype\": \"string\",\n        \"num_unique_values\": 512,\n        \"samples\": [\n          \"\\u098f\\u0995\\u099c\\u09a8 \\u09af\\u09c1\\u09ac\\u09b2\\u09c0\\u0997 \\u09a8\\u09c7\\u09a4\\u09be\\u09b0 \\u0993\\u09aa\\u09b0 \\u09b9\\u09be\\u09ae\\u09b2\\u09be\\u09b0 \\u09aa\\u09b0\\u09c7 \\u0995\\u09af\\u09bc\\u09c7\\u0995\\u099c\\u09a8\\u09c7\\u09b0 \\u09b8\\u0999\\u09cd\\u0997\\u09c7 \\u09a7\\u09be\\u09b0\\u09be\\u09b2\\u09cb \\u0985\\u09b8\\u09cd\\u09a4\\u09cd\\u09b0 \\u09a8\\u09bf\\u09af\\u09bc\\u09c7 \\u0995\\u09c1\\u09ae\\u09bf\\u09b2\\u09cd\\u09b2\\u09be \\u09b8\\u09bf\\u099f\\u09bf \\u0995\\u09b0\\u09cd\\u09aa\\u09cb\\u09b0\\u09c7\\u09b6\\u09a8\\u09c7\\u09b0 \\u098f\\u0995\\u099c\\u09a8 \\u0995\\u09be\\u0989\\u09a8\\u09cd\\u09b8\\u09bf\\u09b2\\u09b0\\u09c7\\u09b0 \\u09a8\\u09be\\u099a\\u09be\\u09a8\\u09be\\u099a\\u09bf \\u0995\\u09b0\\u09be\\u09b0 \\u098f\\u0995\\u099f\\u09bf \\u09ad\\u09bf\\u09a1\\u09bf\\u0993 \\u09ad\\u09be\\u0987\\u09b0\\u09be\\u09b2 \\u09b9\\u09af\\u09bc\\u09c7\\u099b\\u09c7\\u0964 \\u09b9\\u09be\\u09ae\\u09b2\\u09be\\u09b0 \\u0998\\u099f\\u09a8\\u09be\\u09af\\u09bc \\u0993\\u0987 \\u0995\\u09be\\u0989\\u09a8\\u09cd\\u09b8\\u09bf\\u09b2\\u09b0\\u0995\\u09c7 \\u0997\\u09cd\\u09b0\\u09c7\\u09aa\\u09cd\\u09a4\\u09be\\u09b0 \\u0995\\u09b0\\u09c7\\u099b\\u09c7 \\u09aa\\u09c1\\u09b2\\u09bf\\u09b6\\u0964\",\n          \"\\u09b0\\u09cb\\u09ac\\u09ac\\u09be\\u09b0 \\u09b0\\u09be\\u09a4\\u09c7 \\u09af\\u09b6\\u09cb\\u09b0 \\u09b6\\u09bf\\u09b6\\u09c1 \\u0989\\u09a8\\u09cd\\u09a8\\u09af\\u09bc\\u09a8 \\u0995\\u09c7\\u09a8\\u09cd\\u09a6\\u09cd\\u09b0\\u09c7\\u09b0 \\u09b8\\u09ac\\u0997\\u09c1\\u09b2\\u09cb \\u09b8\\u09bf\\u09b8\\u09bf\\u099f\\u09bf\\u09ad\\u09bf \\u0995\\u09cd\\u09af\\u09be\\u09ae\\u09c7\\u09b0\\u09be \\u099a\\u09be\\u09b2\\u09c1 \\u099b\\u09bf\\u09b2, \\u09aa\\u09be\\u09b9\\u09be\\u09b0\\u09be\\u09b0 \\u09a6\\u09be\\u09af\\u09bc\\u09bf\\u09a4\\u09cd\\u09ac\\u09c7 \\u099b\\u09bf\\u09b2\\u09c7\\u09a8 \\u09e7\\u09ec \\u099c\\u09a8 \\u0986\\u09a8\\u09b8\\u09be\\u09b0 \\u098f\\u09ac\\u0982 \\u09ee \\u099c\\u09a8 \\u09aa\\u09c1\\u09b2\\u09bf\\u09b6 \\u09b8\\u09a6\\u09b8\\u09cd\\u09af\\u0964\",\n          \"\\u099c\\u09be\\u09a4\\u09bf\\u09b8\\u0982\\u0998\\u09c7\\u09b0 \\u09ae\\u09be\\u09a8\\u09ac\\u09be\\u09a7\\u09bf\\u0995\\u09be\\u09b0 \\u09ac\\u09bf\\u09b7\\u09af\\u09bc\\u0995 \\u09b8\\u0982\\u09b8\\u09cd\\u09a5\\u09be\\u09b0 \\u09aa\\u0995\\u09cd\\u09b7 \\u09a5\\u09c7\\u0995\\u09c7 \\u09ac\\u09b2\\u09be \\u09b9\\u09af\\u09bc\\u09c7\\u099b\\u09c7 \\u09ae\\u09bf\\u09af\\u09bc\\u09be\\u09a8\\u09ae\\u09be\\u09b0\\u09c7 \\u09b8\\u09be\\u09ae\\u09b0\\u09bf\\u0995 \\u0985\\u09ad\\u09cd\\u09af\\u09c1\\u09a4\\u09cd\\u09a5\\u09be\\u09a8\\u09c7\\u09b0 \\u09ac\\u09bf\\u09b0\\u09c1\\u09a6\\u09cd\\u09a7\\u09c7 \\u099a\\u09b2\\u09ae\\u09be\\u09a8 \\u09ac\\u09bf\\u0995\\u09cd\\u09b7\\u09cb\\u09ad\\u09c7\\u09b0 \\u09b8\\u09ae\\u09af\\u09bc \\u0986\\u099c \\u09b0\\u09ac\\u09bf\\u09ac\\u09be\\u09b0 \\u0995\\u09ae\\u09aa\\u0995\\u09cd\\u09b7\\u09c7 \\u09e7\\u09ee \\u099c\\u09a8 \\u09a8\\u09bf\\u09b9\\u09a4 \\u09b9\\u09af\\u09bc\\u09c7\\u099b\\u09c7\\u0964\"\n        ],\n        \"semantic_type\": \"\",\n        \"description\": \"\"\n      }\n    },\n    {\n      \"column\": \"text\",\n      \"properties\": {\n        \"dtype\": \"string\",\n        \"num_unique_values\": 512,\n        \"samples\": [\n          \"\\u0995\\u09c1\\u09ae\\u09bf\\u09b2\\u09cd\\u09b2\\u09be\\u09b0 \\u0995\\u09cb\\u09a4\\u09cb\\u09af\\u09bc\\u09be\\u09b2\\u09bf \\u09ae\\u09a1\\u09c7\\u09b2 \\u09a5\\u09be\\u09a8\\u09be\\u09b0 \\u0993\\u09b8\\u09bf \\u0986\\u09a8\\u09cb\\u09af\\u09bc\\u09be\\u09b0\\u09c1\\u09b2 \\u0987\\u09b8\\u09b2\\u09be\\u09ae \\u099c\\u09be\\u09a8\\u09bf\\u09af\\u09bc\\u09c7\\u099b\\u09c7\\u09a8, \\u09b6\\u09c1\\u0995\\u09cd\\u09b0\\u09ac\\u09be\\u09b0 \\u09ac\\u09bf\\u0995\\u09c7\\u09b2\\u09c7 \\u09af\\u09c1\\u09ac\\u09b2\\u09c0\\u0997 \\u09a8\\u09c7\\u09a4\\u09be\\u09b0 \\u0993\\u09aa\\u09b0 \\u09b9\\u09be\\u09ae\\u09b2\\u09be\\u09b0 \\u0998\\u099f\\u09a8\\u09be\\u09af\\u09bc \\u0995\\u09be\\u0989\\u09a8\\u09cd\\u09b8\\u09bf\\u09b2\\u09b0 \\u09b8\\u09be\\u0987\\u09ab\\u09c1\\u09b2 \\u09ac\\u09bf\\u09a8 \\u099c\\u09b2\\u09bf\\u09b2\\u09b8\\u09b9 \\u09ae\\u09cb\\u099f \\u0986\\u099f\\u099c\\u09a8\\u09c7\\u09b0 \\u09ac\\u09bf\\u09b0\\u09c1\\u09a6\\u09cd\\u09a7\\u09c7 \\u09ae\\u09be\\u09ae\\u09b2\\u09be \\u09b9\\u09af\\u09bc\\u09c7\\u099b\\u09c7\\u0964 \\u09b0\\u09be\\u09a4\\u09c7\\u0987 \\u09ae\\u09bf. \\u09ac\\u09bf\\u09a8 \\u099c\\u09b2\\u09bf\\u09b2\\u0995\\u09c7 \\u0997\\u09cd\\u09b0\\u09c7\\u09aa\\u09cd\\u09a4\\u09be\\u09b0 \\u0995\\u09b0\\u09c7\\u099b\\u09c7 \\u09aa\\u09c1\\u09b2\\u09bf\\u09b6\\u0964 \\u09ae\\u09be\\u09ae\\u09b2\\u09be\\u09b0 \\u098f\\u099c\\u09be\\u09b9\\u09be\\u09b0\\u09c7 \\u0989\\u09b2\\u09cd\\u09b2\\u09c7\\u0996 \\u0995\\u09b0\\u09be \\u09b9\\u09af\\u09bc\\u09c7\\u099b\\u09c7, \\u09b8\\u09c1\\u09a8\\u09be\\u09ae\\u0997\\u099e\\u09cd\\u099c\\u09c7 \\u09b8\\u0982\\u0996\\u09cd\\u09af\\u09be\\u09b2\\u0998\\u09c1\\u09a6\\u09c7\\u09b0 \\u0993\\u09aa\\u09b0 \\u09b9\\u09be\\u09ae\\u09b2\\u09be\\u09b0 \\u0998\\u099f\\u09a8\\u09be\\u09b0 \\u09aa\\u09cd\\u09b0\\u09a4\\u09bf\\u09ac\\u09be\\u09a6\\u09c7 \\u0995\\u09c7\\u09a8\\u09cd\\u09a6\\u09cd\\u09b0\\u09c0\\u09af\\u09bc \\u0995\\u09b0\\u09cd\\u09ae\\u09b8\\u09c2\\u099a\\u09c0\\u09b0 \\u0985\\u0982\\u09b6 \\u09b9\\u09bf\\u09b8\\u09be\\u09ac\\u09c7 \\u09b6\\u09c1\\u0995\\u09cd\\u09b0\\u09ac\\u09be\\u09b0 \\u09ac\\u09bf\\u0995\\u09be\\u09b2 \\u09b8\\u09be\\u09a1\\u09bc\\u09c7 \\u09a4\\u09bf\\u09a8\\u099f\\u09be\\u09b0 \\u09a6\\u09bf\\u0995\\u09c7 \\u098f\\u0995\\u099f\\u09bf \\u09ae\\u09bf\\u099b\\u09bf\\u09b2 \\u09a8\\u09bf\\u09af\\u09bc\\u09c7 \\u09af\\u09be\\u099a\\u09cd\\u099b\\u09bf\\u09b2\\u09c7\\u09a8 \\u0995\\u09c1\\u09ae\\u09bf\\u09b2\\u09cd\\u09b2\\u09be \\u09ae\\u09b9\\u09be\\u09a8\\u0997\\u09b0 \\u09af\\u09c1\\u09ac\\u09b2\\u09c0\\u0997 \\u09a8\\u09c7\\u09a4\\u09be \\u09b0\\u09cb\\u0995\\u09a8\\u0989\\u09a6\\u09cd\\u09a6\\u09bf\\u09a8\\u0964 \\u09ac\\u09bf\\u0995\\u09be\\u09b2 \\u09aa\\u09cc\\u09a8\\u09c7 \\u099a\\u09be\\u09b0\\u099f\\u09be\\u09b0 \\u09a6\\u09bf\\u0995\\u09c7 \\u09b8\\u09c7\\u0987 \\u09ae\\u09bf\\u099b\\u09bf\\u09b2\\u09c7\\u09b0 \\u0993\\u09aa\\u09b0 \\u0985\\u09a4\\u09b0\\u09cd\\u0995\\u09bf\\u09a4\\u09c7 \\u0997\\u09be\\u09a1\\u09bc\\u09bf \\u09a4\\u09c1\\u09b2\\u09c7 \\u09a6\\u09c7\\u09a8 \\u0993\\u09af\\u09bc\\u09be\\u09b0\\u09cd\\u09a1 \\u0995\\u09be\\u0989\\u09a8\\u09cd\\u09b8\\u09bf\\u09b2\\u09b0 \\u09b8\\u09be\\u0987\\u09ab\\u09c1\\u09b2\\u0964 \\u098f\\u09a4\\u09c7 \\u09b0\\u09cb\\u0995\\u09a8\\u0989\\u09a6\\u09cd\\u09a6\\u09bf\\u09a8\\u09b8\\u09b9 \\u09eb/\\u09ec\\u099c\\u09a8 \\u0986\\u09b9\\u09a4 \\u09b9\\u09af\\u09bc\\u0964 \\u098f\\u09b0\\u09aa\\u09b0 \\u0986\\u099f\\u099c\\u09a8\\u0995\\u09c7 \\u0986\\u09b8\\u09be\\u09ae\\u09c0 \\u0995\\u09b0\\u09c7 \\u09ae\\u09be\\u09ae\\u09b2\\u09be \\u0995\\u09b0\\u09c7\\u09a8 \\u09b0\\u09cb\\u0995\\u09a8\\u0989\\u09a6\\u09cd\\u09a6\\u09bf\\u09a8\\u0964 \\u09b0\\u09cb\\u0995\\u09a8\\u0989\\u09a6\\u09cd\\u09a6\\u09bf\\u09a8\\u09b8\\u09b9 \\u0986\\u09b9\\u09a4\\u09a6\\u09c7\\u09b0 \\u09b9\\u09be\\u09b8\\u09aa\\u09be\\u09a4\\u09be\\u09b2\\u09c7 \\u09ad\\u09b0\\u09cd\\u09a4\\u09bf \\u0995\\u09b0\\u09be \\u09b9\\u09af\\u09bc\\u09c7\\u099b\\u09c7\\u0964 \\u098f\\u0987 \\u0986\\u09b8\\u09a8\\u09c7 \\u09b0\\u09cb\\u0995\\u09a8\\u0989\\u09a6\\u09cd\\u09a6\\u09bf\\u09a8\\u0995\\u09c7 \\u09b9\\u09be\\u09b0\\u09bf\\u09af\\u09bc\\u09c7 \\u0995\\u09be\\u0989\\u09a8\\u09cd\\u09b8\\u09bf\\u09b2\\u09b0 \\u09a8\\u09bf\\u09b0\\u09cd\\u09ac\\u09be\\u099a\\u09bf\\u09a4 \\u09b9\\u09af\\u09bc\\u09c7\\u099b\\u09bf\\u09b2\\u09c7\\u09a8 \\u09b8\\u09be\\u0987\\u09ab\\u09c1\\u09b2 \\u09ac\\u09bf\\u09a8 \\u099c\\u09b2\\u09bf\\u09b2\\u0964 \\u0993\\u0987 \\u09b9\\u09be\\u09ae\\u09b2\\u09be\\u09b0 \\u09aa\\u09b0\\u09c7 \\u098f\\u0995\\u099f\\u09bf \\u09ad\\u09bf\\u09a1\\u09bf\\u0993 \\u09b8\\u09be\\u09ae\\u09be\\u099c\\u09bf\\u0995 \\u09ae\\u09be\\u09a7\\u09cd\\u09af\\u09ae\\u09c7 \\u099b\\u09a1\\u09bc\\u09bf\\u09af\\u09bc\\u09c7 \\u09aa\\u09a1\\u09bc\\u09c7\\u099b\\u09c7\\u0964 \\u09b8\\u09c7\\u0996\\u09be\\u09a8\\u09c7 \\u09a6\\u09c7\\u0996\\u09be \\u09af\\u09be\\u099a\\u09cd\\u099b\\u09c7 \\u0995\\u09af\\u09bc\\u09c7\\u0995\\u099f\\u09bf \\u099b\\u09c7\\u09b2\\u09c7\\u09b0 \\u09b8\\u0999\\u09cd\\u0997\\u09c7 \\u09ae\\u09bf\\u09b2\\u09c7 \\u098f\\u0995\\u099f\\u09bf \\u0995\\u09be\\u09b2\\u09cb \\u09ae\\u09be\\u0987\\u0995\\u09cd\\u09b0\\u09cb\\u09ac\\u09be\\u09b8 \\u09a5\\u09c7\\u0995\\u09c7 \\u09a6\\u09c7\\u09b6\\u09c0\\u09af\\u09bc \\u09a7\\u09be\\u09b0\\u09be\\u09b2\\u09cb \\u0985\\u09b8\\u09cd\\u09a4\\u09cd\\u09b0 \\u09ac\\u09c7\\u09b0 \\u0995\\u09b0\\u09c7 \\u09b9\\u09be\\u09a4\\u09c7 \\u09a8\\u09bf\\u09af\\u09bc\\u09c7 \\u09a8\\u09be\\u099a\\u099b\\u09c7\\u09a8 \\u0995\\u09be\\u0989\\u09a8\\u09cd\\u09b8\\u09bf\\u09b2\\u09b0 \\u09b8\\u09be\\u0987\\u09ab\\u09c1\\u09b2 \\u09ac\\u09bf\\u09a8 \\u099c\\u09b2\\u09bf\\u09b2\\u0964 \\u09ae\\u09cb\\u09ac\\u09be\\u0987\\u09b2 \\u09ab\\u09cb\\u09a8\\u09c7\\u09b0 \\u0995\\u09cd\\u09af\\u09be\\u09ae\\u09c7\\u09b0\\u09be\\u09af\\u09bc \\u09b8\\u09c7\\u0987 \\u09a8\\u09be\\u099a\\u09c7\\u09b0 \\u09ad\\u09bf\\u09a1\\u09bf\\u0993 \\u0995\\u09b0\\u09be \\u09b9\\u09af\\u09bc\\u09c7\\u099b\\u09c7\\u0964 \\u0993\\u0987 \\u09ad\\u09bf\\u09a1\\u09bf\\u0993 \\u09aa\\u09cd\\u09b0\\u099a\\u09be\\u09b0 \\u0995\\u09b0\\u09be \\u09b9\\u09af\\u09bc\\u09c7\\u099b\\u09c7 \\u09ac\\u09be\\u0982\\u09b2\\u09be\\u09a6\\u09c7\\u09b6\\u09c7\\u09b0 \\u0995\\u09af\\u09bc\\u09c7\\u0995\\u099f\\u09bf \\u0997\\u09a3\\u09ae\\u09be\\u09a7\\u09cd\\u09af\\u09ae\\u09c7\\u09b0 \\u0996\\u09ac\\u09b0\\u09c7\\u0993\\u0964 \\u09ac\\u09bf\\u09ac\\u09bf\\u09b8\\u09bf \\u09a8\\u09bf\\u09b0\\u09aa\\u09c7\\u0995\\u09cd\\u09b7\\u09ad\\u09be\\u09ac\\u09c7 \\u09ad\\u09bf\\u09a1\\u09bf\\u0993\\u099f\\u09bf \\u09af\\u09be\\u099a\\u09be\\u0987 \\u0995\\u09b0\\u09a4\\u09c7 \\u09aa\\u09be\\u09b0\\u09c7\\u09a8\\u09bf\\u0964 \\u09a4\\u09ac\\u09c7 \\u0995\\u09c1\\u09ae\\u09bf\\u09b2\\u09cd\\u09b2\\u09be\\u09b0 \\u09b8\\u09cd\\u09a5\\u09be\\u09a8\\u09c0\\u09af\\u09bc \\u09b8\\u0982\\u09ac\\u09be\\u09a6\\u09a6\\u09be\\u09a4\\u09be\\u09b0\\u09be \\u09ac\\u09b2\\u099b\\u09c7\\u09a8, \\u09ae\\u09cb\\u09ac\\u09be\\u0987\\u09b2\\u09c7 \\u09a7\\u09be\\u09b0\\u09a3 \\u0995\\u09b0\\u09be \\u0993\\u0987 \\u09ad\\u09bf\\u09a1\\u09bf\\u0993 \\u09b6\\u09c1\\u0995\\u09cd\\u09b0\\u09ac\\u09be\\u09b0 \\u09b9\\u09be\\u09ae\\u09b2\\u09be\\u09b0 \\u09aa\\u09b0\\u09c7 \\u09a7\\u09be\\u09b0\\u09a3 \\u0995\\u09b0\\u09be\\u0964 \\u0993\\u09b8\\u09bf \\u0986\\u09a8\\u09cb\\u09af\\u09bc\\u09be\\u09b0\\u09c1\\u09b2 \\u0987\\u09b8\\u09b2\\u09be\\u09ae \\u09ac\\u09b2\\u099b\\u09c7\\u09a8, \\u09ad\\u09bf\\u09a1\\u09bf\\u0993\\u09b0 \\u0995\\u09a5\\u09be \\u09a4\\u09be\\u09b0\\u09be \\u099c\\u09be\\u09a8\\u09a4\\u09c7 \\u09aa\\u09c7\\u09b0\\u09c7\\u099b\\u09c7\\u09a8\\u0964 \\u09ae\\u09be\\u09ae\\u09b2\\u09be\\u09af\\u09bc \\u098f\\u0987 \\u09ad\\u09bf\\u09a1\\u09bf\\u0993\\u09b0 \\u09ac\\u09bf\\u09b7\\u09af\\u09bc\\u09c7\\u0993 \\u09a4\\u09a6\\u09a8\\u09cd\\u09a4 \\u0995\\u09b0\\u09be \\u09b9\\u09ac\\u09c7\\u0964 \\u09ac\\u09bf\\u09ac\\u09bf\\u09b8\\u09bf \\u09ac\\u09be\\u0982\\u09b2\\u09be\\u09b0 \\u0985\\u09a8\\u09cd\\u09af\\u09be\\u09a8\\u09cd\\u09af \\u0996\\u09ac\\u09b0: \\u09b8\\u09c1\\u09a8\\u09be\\u09ae\\u0997\\u099e\\u09cd\\u099c\\u09c7 \\u09b9\\u09bf\\u09a8\\u09cd\\u09a6\\u09c1 \\u0997\\u09cd\\u09b0\\u09be\\u09ae\\u09c7 \\u09b9\\u09be\\u09ae\\u09b2\\u09be-\\u09ad\\u09be\\u0982\\u099a\\u09c1\\u09b0-\\u09b2\\u09c1\\u099f\\u09c7\\u09b0 \\u09aa\\u09cd\\u09b0\\u09a7\\u09be\\u09a8 \\u0986\\u09b8\\u09be\\u09ae\\u09c0 \\u0986\\u099f\\u0995 \\u0986\\u09ac\\u09be\\u09b0\\u09cb \\u09b8\\u09ac\\u099a\\u09c7\\u09af\\u09bc\\u09c7 \\u09b8\\u09c1\\u0996\\u09c0 \\u09a6\\u09c7\\u09b6 \\u09ab\\u09bf\\u09a8\\u09b2\\u09cd\\u09af\\u09be\\u09a8\\u09cd\\u09a1, \\u098f\\u0997\\u09bf\\u09af\\u09bc\\u09c7\\u099b\\u09c7 \\u09ac\\u09be\\u0982\\u09b2\\u09be\\u09a6\\u09c7\\u09b6 \\u099f\\u09bf\\u0995\\u09be \\u09a8\\u09c7\\u0993\\u09af\\u09bc\\u09be\\u09b0 \\u09ac\\u09cd\\u09af\\u0995\\u09cd\\u09a4\\u09bf\\u0997\\u09a4 \\u0985\\u09ad\\u09bf\\u099c\\u09cd\\u099e\\u09a4\\u09be: \\u09aa\\u09be\\u09b0\\u09cd\\u09b6\\u09cd\\u09ac \\u09aa\\u09cd\\u09b0\\u09a4\\u09bf\\u0995\\u09cd\\u09b0\\u09bf\\u09af\\u09bc\\u09be \\u098f\\u09ac\\u0982 \\u098f\\u09b8\\u09ac \\u09a5\\u09c7\\u0995\\u09c7 \\u0995\\u09c0 \\u09ac\\u09cb\\u099d\\u09be \\u09af\\u09be\\u09af\\u09bc \\u09af\\u09c1\\u0995\\u09cd\\u09a4\\u09b0\\u09be\\u09b7\\u09cd\\u099f\\u09cd\\u09b0-\\u099a\\u09c0\\u09a8 \\u0989\\u09a4\\u09cd\\u09a4\\u09aa\\u09cd\\u09a4 \\u09ac\\u09bf\\u09a4\\u09a3\\u09cd\\u09a1\\u09be: \\u09a8\\u09a4\\u09c1\\u09a8 \\u09a0\\u09be\\u09a3\\u09cd\\u09a1\\u09be \\u09b2\\u09a1\\u09bc\\u09be\\u0987\\u09af\\u09bc\\u09c7\\u09b0 \\u09b6\\u09c1\\u09b0\\u09c1?\",\n          \"\\u09af\\u09b6\\u09cb\\u09b0\\u09c7\\u09b0 \\u0993\\u0987 \\u0989\\u09a8\\u09cd\\u09a8\\u09af\\u09bc\\u09a8 \\u0995\\u09c7\\u09a8\\u09cd\\u09a6\\u09cd\\u09b0\\u09c7 \\u09e8\\u09ed\\u09ed\\u099c\\u09a8 \\u0995\\u09bf\\u09b6\\u09cb\\u09b0 \\u099b\\u09bf\\u09b2\\u0964 \\u0995\\u09bf\\u09a8\\u09cd\\u09a4\\u09c1 \\u09a4\\u09be\\u09b0\\u09aa\\u09b0\\u09c7\\u0993 \\u09b8\\u09ac\\u09be\\u09b0 \\u099a\\u09cb\\u0996\\u09c7 \\u09a7\\u09c1\\u09b2\\u09cb \\u09a6\\u09bf\\u09af\\u09bc\\u09c7 \\u09ae\\u09a7\\u09cd\\u09af\\u09b0\\u09be\\u09a4\\u09c7 \\u09b6\\u09bf\\u09b6\\u09c1 \\u0989\\u09a8\\u09cd\\u09a8\\u09af\\u09bc\\u09a8 \\u0995\\u09c7\\u09a8\\u09cd\\u09a6\\u09cd\\u09b0\\u09c7\\u09b0 \\u09a6\\u09c7\\u09af\\u09bc\\u09be\\u09b2 \\u099f\\u09aa\\u0995\\u09c7 \\u09aa\\u09be\\u09b2\\u09bf\\u09af\\u09bc\\u09c7\\u099b\\u09c7 \\u0986\\u099f\\u099c\\u09a8 \\u0995\\u09bf\\u09b6\\u09cb\\u09b0\\u0964 \\u098f\\u09a6\\u09c7\\u09b0 \\u09b8\\u09ac\\u09be\\u09b0 \\u09ac\\u09af\\u09bc\\u09b8 \\u09e7\\u09e8 \\u09a5\\u09c7\\u0995\\u09c7 \\u09e7\\u09ed \\u09ac\\u099b\\u09b0\\u09c7\\u09b0 \\u09ae\\u09a7\\u09cd\\u09af\\u09c7\\u0964 \\u09af\\u09b6\\u09cb\\u09b0\\u09c7\\u09b0 \\u09aa\\u09c1\\u09b2\\u09bf\\u09b6 \\u09b8\\u09c1\\u09aa\\u09be\\u09b0 \\u09ae\\u09cb\\u09b9\\u09be\\u09ae\\u09cd\\u09ae\\u09a6 \\u0986\\u09b6\\u09b0\\u09be\\u09ab \\u09b9\\u09cb\\u09b8\\u09c7\\u09a8 \\u09ac\\u09bf\\u09ac\\u09bf\\u09b8\\u09bf\\u0995\\u09c7 \\u09ac\\u09b2\\u09c7\\u099b\\u09c7\\u09a8 \\u09b8\\u09bf\\u09b8\\u09bf\\u099f\\u09bf\\u09ad\\u09bf \\u09ab\\u09c1\\u099f\\u09c7\\u099c\\u09c7 \\u09a6\\u09c7\\u0996\\u09be \\u0997\\u09c7\\u099b\\u09c7, \\u09b0\\u09be\\u09a4 \\u09b8\\u09cb\\u09af\\u09bc\\u09be \\u09a6\\u09c1\\u0987\\u099f\\u09be\\u09b0 \\u09a6\\u09bf\\u0995\\u09c7 \\u09a6\\u09c7\\u09af\\u09bc\\u09be\\u09b2 \\u099f\\u09aa\\u0995\\u09c7 \\u09aa\\u09be\\u09b2\\u09bf\\u09af\\u09bc\\u09c7 \\u0997\\u09c7\\u099b\\u09c7 \\u0993\\u0987 \\u0986\\u099f\\u099c\\u09a8\\u0964 \\u09af\\u09c7\\u09ad\\u09be\\u09ac\\u09c7 \\u0998\\u099f\\u09c7\\u099b\\u09c7 \\u09aa\\u09c1\\u09b2\\u09bf\\u09b6 \\u09ac\\u09b2\\u099b\\u09c7, \\u09a1\\u09bf\\u09b8\\u09c7\\u09ae\\u09cd\\u09ac\\u09b0\\u09c7\\u09b0 \\u09b6\\u09c1\\u09b0\\u09c1\\u09a4\\u09c7 '\\u09ac\\u09c7\\u09aa\\u09b0\\u09cb\\u09af\\u09bc\\u09be' \\u0986\\u099a\\u09b0\\u09a3\\u09c7\\u09b0 \\u09b6\\u09be\\u09b8\\u09cd\\u09a4\\u09bf \\u09b9\\u09bf\\u09b8\\u09c7\\u09ac\\u09c7 \\u0993\\u0987 \\u0986\\u099f\\u099c\\u09a8 \\u0995\\u09bf\\u09b6\\u09cb\\u09b0\\u0995\\u09c7 \\u098f\\u0995\\u099f\\u09bf \\u0995\\u0995\\u09cd\\u09b7\\u09c7 \\u0986\\u09b2\\u09be\\u09a6\\u09be \\u0995\\u09b0\\u09c7 \\u09b0\\u09be\\u0996\\u09be \\u09b9\\u09af\\u09bc\\u09c7\\u099b\\u09bf\\u09b2\\u0964 \\u0995\\u0995\\u09cd\\u09b7\\u099f\\u09bf \\u09b6\\u09bf\\u09b6\\u09c1 \\u0989\\u09a8\\u09cd\\u09a8\\u09af\\u09bc\\u09a8 \\u0995\\u09c7\\u09a8\\u09cd\\u09a6\\u09cd\\u09b0\\u09c7\\u09b0 \\u09ae\\u09c2\\u09b2 \\u0986\\u09ac\\u09be\\u09b8\\u09bf\\u0995 \\u09ad\\u09ac\\u09a8\\u09c7\\u09b0 \\u09ac\\u09be\\u0987\\u09b0\\u09c7, \\u09aa\\u09cd\\u09b0\\u09be\\u099a\\u09c0\\u09b0\\u09c7\\u09b0 \\u0995\\u09be\\u099b\\u09c7 \\u0985\\u09ac\\u09b8\\u09cd\\u09a5\\u09bf\\u09a4\\u0964 \\u098f\\u0987 \\u09ad\\u09ac\\u09a8\\u099f\\u09bf \\u098f\\u0995 \\u09a4\\u09b2\\u09be \\u098f\\u09ac\\u0982 \\u098f\\u09b0 \\u0985\\u09ac\\u09b8\\u09cd\\u09a5\\u09be\\u09a8 \\u09b6\\u09bf\\u09b6\\u09c1 \\u0989\\u09a8\\u09cd\\u09a8\\u09af\\u09bc\\u09a8 \\u0995\\u09c7\\u09a8\\u09cd\\u09a6\\u09cd\\u09b0\\u09c7\\u09b0 \\u0997\\u09be\\u09b0\\u09cd\\u09a1\\u09c7\\u09b0 \\u0998\\u09b0\\u09c7\\u09b0 \\u09aa\\u09c7\\u099b\\u09a8\\u09c7\\u0964 \\u09af\\u09b6\\u09cb\\u09b0\\u09c7 \\u09b6\\u09bf\\u09b6\\u09c1 \\u0989\\u09a8\\u09cd\\u09a8\\u09af\\u09bc\\u09a8 \\u0995\\u09c7\\u09a8\\u09cd\\u09a6\\u09cd\\u09b0\\u09c7\\u09b0 \\u09ad\\u09c7\\u09a4\\u09b0\\u09c7 \\u0985\\u0997\\u09be\\u09b8\\u09cd\\u099f\\u09c7 \\u09a4\\u09bf\\u09a8 \\u0995\\u09bf\\u09b6\\u09cb\\u09b0 \\u09a8\\u09bf\\u09b9\\u09a4 \\u09b9\\u09af\\u09bc\\u09c7\\u099b\\u09bf\\u09b2 \\u09aa\\u09c1\\u09b2\\u09bf\\u09b6 \\u09b8\\u09c1\\u09aa\\u09be\\u09b0 \\u09ae\\u09bf. \\u09b9\\u09cb\\u09b8\\u09c7\\u09a8 \\u09ac\\u09b2\\u09c7\\u099b\\u09c7\\u09a8, \\u0986\\u099f\\u099c\\u09a8 \\u0995\\u09bf\\u09b6\\u09cb\\u09b0\\u0995\\u09c7 \\u09af\\u09c7 \\u09ad\\u09ac\\u09a8\\u09c7 \\u09b0\\u09be\\u0996\\u09be \\u09b9\\u09af\\u09bc\\u09c7\\u099b\\u09bf\\u09b2, \\u09b8\\u09c7\\u099f\\u09bf \\u09aa\\u09c1\\u09b0\\u09a8\\u09cb, \\u0986\\u09b0 \\u0995\\u0995\\u09cd\\u09b7 \\u09b8\\u0982\\u09b2\\u0997\\u09cd\\u09a8 \\u09ac\\u09be\\u09a5\\u09b0\\u09c1\\u09ae\\u099f\\u09bf\\u0993 \\u09ac\\u09c7\\u09b6 \\u09aa\\u09c1\\u09b0\\u09a8\\u09cb\\u0964 \\u098f\\u0987 \\u09ac\\u09be\\u09a5\\u09b0\\u09c1\\u09ae\\u09c7\\u09b0 \\u099c\\u09be\\u09a8\\u09be\\u09b2\\u09be\\u09b0 \\u0997\\u09cd\\u09b0\\u09bf\\u09b2 \\u09ad\\u09c7\\u0999\\u09c7\\u0987 \\u09aa\\u09be\\u09b2\\u09bf\\u09af\\u09bc\\u09c7\\u099b\\u09c7 \\u0993\\u0987 \\u0995\\u09bf\\u09b6\\u09cb\\u09b0\\u09c7\\u09b0\\u09be\\u0964 \\u09a4\\u09bf\\u09a8\\u09bf \\u09ac\\u09b2\\u09c7\\u09a8, \\\"\\u0993\\u0987 \\u09ac\\u09be\\u09a5\\u09b0\\u09c1\\u09ae\\u09c7\\u09b0 \\u099c\\u09be\\u09a8\\u09be\\u09b2\\u09be\\u09b0 \\u0997\\u09cd\\u09b0\\u09bf\\u09b2\\u0997\\u09c1\\u09b2\\u09cb \\u0985\\u09a8\\u09c7\\u0995 \\u09aa\\u09c1\\u09b0\\u09a8\\u09cb, \\u09a6\\u09c7\\u09af\\u09bc\\u09be\\u09b2\\u0993 \\u0985\\u09a8\\u09c7\\u0995 \\u09b8\\u09cd\\u09af\\u09be\\u0981\\u09a4\\u09b8\\u09c7\\u0981\\u09a4\\u09c7\\u0964 \\u0993\\u0987 \\u099b\\u09c7\\u09b2\\u09c7\\u09b0\\u09be \\u09b8\\u09b9\\u099c\\u09c7\\u0987 \\u099c\\u09be\\u09a8\\u09be\\u09b2\\u09be\\u09b0 \\u0997\\u09cd\\u09b0\\u09bf\\u09b2 \\u09ad\\u09c7\\u0999\\u09c7 \\u0989\\u09a8\\u09cd\\u09a8\\u09af\\u09bc\\u09a8 \\u0995\\u09c7\\u09a8\\u09cd\\u09a6\\u09cd\\u09b0\\u09c7\\u09b0 \\u09ae\\u09be\\u09a0\\u09c7 \\u09a8\\u09c7\\u09ae\\u09c7 \\u09aa\\u09a1\\u09bc\\u09c7\\u0964\\\" \\\"\\u098f\\u09b0\\u09aa\\u09b0 \\u09a4\\u09be\\u09b0\\u09be \\u09ac\\u09c8\\u09a6\\u09cd\\u09af\\u09c1\\u09a4\\u09bf\\u0995 \\u0995\\u09be\\u099c\\u09c7\\u09b0 \\u098f\\u0995\\u099f\\u09bf \\u09ae\\u0987 \\u0996\\u09c1\\u0981\\u099c\\u09c7 \\u09aa\\u09be\\u09af\\u09bc\\u0964 \\u09b8\\u09c7\\u099f\\u09bf \\u09a6\\u09bf\\u09af\\u09bc\\u09c7 \\u09a6\\u09c7\\u09af\\u09bc\\u09be\\u09b2 \\u099f\\u09aa\\u0995\\u09c7 \\u09aa\\u09be\\u09b2\\u09bf\\u09af\\u09bc\\u09c7 \\u09af\\u09be\\u09af\\u09bc \\u09b8\\u09ac \\u0995\\u099c\\u09a8\\u0964\\\" \\u09ae\\u09bf. \\u09b9\\u09cb\\u09b8\\u09c7\\u09a8 \\u09ac\\u09b2\\u09c7\\u099b\\u09c7\\u09a8, \\u099c\\u09be\\u09a8\\u09be\\u09b2\\u09be \\u09ad\\u09c7\\u0999\\u09c7 \\u099a\\u09a4\\u09cd\\u09ac\\u09b0\\u09c7 \\u09a8\\u09c7\\u09ae\\u09c7 \\u09aa\\u09a1\\u09bc\\u09be \\u098f\\u09ac\\u0982 \\u098f\\u09b0\\u09aa\\u09b0 \\u09aa\\u09be \\u099f\\u09bf\\u09aa\\u09c7 \\u099f\\u09bf\\u09aa\\u09c7 \\u0989\\u09a8\\u09cd\\u09a8\\u09af\\u09bc\\u09a8 \\u0995\\u09c7\\u09a8\\u09cd\\u09a6\\u09cd\\u09b0\\u09c7\\u09b0 \\u0989\\u0981\\u099a\\u09c1 \\u09aa\\u09cd\\u09b0\\u09be\\u099a\\u09c0\\u09b0\\u09c7 \\u09ac\\u09c8\\u09a6\\u09cd\\u09af\\u09c1\\u09a4\\u09bf\\u0995 \\u0995\\u09be\\u099c\\u09c7\\u09b0 \\u09ae\\u0987 \\u09a0\\u09c7\\u0995\\u09bf\\u09af\\u09bc\\u09c7 \\u09a6\\u09c7\\u09af\\u09bc\\u09be\\u09b2 \\u099f\\u09aa\\u0995\\u09c7 \\u09af\\u09be\\u09ac\\u09be\\u09b0 \\u0998\\u099f\\u09a8\\u09be\\u09b0 \\u09aa\\u09c1\\u09b0\\u09cb\\u099f\\u09be\\u0987 \\u09b8\\u09bf\\u09b8\\u09bf\\u099f\\u09bf\\u09ad\\u09bf \\u09ab\\u09c1\\u099f\\u09c7\\u099c \\u09a5\\u09c7\\u0995\\u09c7 \\u099c\\u09c7\\u09a8\\u09c7\\u099b\\u09c7\\u09a8 \\u09a4\\u09be\\u09b0\\u09be\\u0964 \\u09a4\\u09ac\\u09c7, \\u0998\\u099f\\u09a8\\u09be\\u09b0 \\u09b8\\u09ae\\u09af\\u09bc \\u09b8\\u09bf\\u09b8\\u09bf\\u099f\\u09bf\\u09ad\\u09bf \\u0995\\u09cd\\u09af\\u09be\\u09ae\\u09c7\\u09b0\\u09be\\u09af\\u09bc \\u09b6\\u09bf\\u09b6\\u09c1 \\u0989\\u09a8\\u09cd\\u09a8\\u09af\\u09bc\\u09a8 \\u0995\\u09c7\\u09a8\\u09cd\\u09a6\\u09cd\\u09b0\\u09c7\\u09b0 \\u09ad\\u09c7\\u09a4\\u09b0\\u09c7\\u09b0 \\u0995\\u09b0\\u09cd\\u09ae\\u0995\\u09be\\u09a3\\u09cd\\u09a1\\u09c7\\u09b0 \\u09a6\\u09bf\\u0995\\u09c7 \\u0995\\u09c7\\u0989 \\u09a8\\u099c\\u09b0 \\u09b0\\u09be\\u0996\\u099b\\u09bf\\u09b2\\u09c7\\u09a8 \\u09a8\\u09be, \\u09a4\\u09be \\u09aa\\u09b0\\u09bf\\u09b7\\u09cd\\u0995\\u09be\\u09b0 \\u09ac\\u09cb\\u099d\\u09be \\u09af\\u09be\\u099a\\u09cd\\u099b\\u09c7\\u0964 \\u0986\\u09b0\\u09cb \\u09aa\\u09a1\\u09bc\\u09a4\\u09c7 \\u09aa\\u09be\\u09b0\\u09c7\\u09a8: \\u09af\\u09b6\\u09cb\\u09b0\\u09c7 \\u09a4\\u09bf\\u09a8 \\u0995\\u09bf\\u09b6\\u09cb\\u09b0 \\u0996\\u09c1\\u09a8: \\u09e7\\u09e6 \\u0995\\u09b0\\u09cd\\u09ae\\u0995\\u09b0\\u09cd\\u09a4\\u09be\\u0995\\u09c7 \\u09aa\\u09c1\\u09b2\\u09bf\\u09b6\\u09bf \\u09b9\\u09c7\\u09ab\\u09be\\u099c\\u09a4\\u09c7 \\u099c\\u09bf\\u099c\\u09cd\\u099e\\u09be\\u09b8\\u09be\\u09ac\\u09be\\u09a6 \\u09b6\\u09c1\\u09b0\\u09c1 \\u09af\\u09b6\\u09cb\\u09b0\\u09c7 \\u09a4\\u09bf\\u09a8 \\u0995\\u09bf\\u09b6\\u09cb\\u09b0 \\u0996\\u09c1\\u09a8: \\u0995\\u09c0 \\u0998\\u099f\\u09c7\\u099b\\u09bf\\u09b2 \\u0995\\u09bf\\u09b6\\u09cb\\u09b0 \\u0985\\u09aa\\u09b0\\u09be\\u09a7\\u09c0 \\u09b8\\u0982\\u09b6\\u09cb\\u09a7\\u09a8 \\u0995\\u09c7\\u09a8\\u09cd\\u09a6\\u09cd\\u09b0\\u09c7\\u09b0 \\u09ad\\u09c7\\u09a4\\u09b0\\u09c7 \\u09af\\u09c7\\u09ad\\u09be\\u09ac\\u09c7 \\u0997\\u09a1\\u09bc\\u09c7 \\u0993\\u09a0\\u09c7 \\u09a6\\u09c1\\u09b0\\u09cd\\u09a7\\u09b0\\u09cd\\u09b7 \\u0995\\u09bf\\u09b6\\u09cb\\u09b0 \\u0985\\u09aa\\u09b0\\u09be\\u09a7\\u09c0\\u09a6\\u09c7\\u09b0 \\u09a6\\u09b2 \\u0998\\u099f\\u09a8\\u09be\\u09b0 \\u09b8\\u09ae\\u09af\\u09bc \\u09b6\\u09bf\\u09b6\\u09c1 \\u0989\\u09a8\\u09cd\\u09a8\\u09af\\u09bc\\u09a8 \\u0995\\u09c7\\u09a8\\u09cd\\u09a6\\u09cd\\u09b0\\u09c7\\u09b0 \\u09aa\\u09be\\u09b9\\u09be\\u09b0\\u09be\\u09b0 \\u09a6\\u09be\\u09af\\u09bc\\u09bf\\u09a4\\u09cd\\u09ac\\u09c7 \\u099b\\u09bf\\u09b2\\u09c7\\u09a8 \\u09e7\\u09ec \\u099c\\u09a8 \\u0986\\u09a8\\u09b8\\u09be\\u09b0 \\u098f\\u09ac\\u0982 \\u09ee \\u099c\\u09a8 \\u09aa\\u09c1\\u09b2\\u09bf\\u09b6 \\u09b8\\u09a6\\u09b8\\u09cd\\u09af\\u0964 \\u09aa\\u09c1\\u09b2\\u09bf\\u09b6 \\u09b8\\u09c1\\u09aa\\u09be\\u09b0 \\u09ae\\u09bf. \\u09b9\\u09cb\\u09b8\\u09c7\\u09a8 \\u09ac\\u09b2\\u09c7\\u099b\\u09c7\\u09a8, \\\"\\u09b9\\u09af\\u09bc\\u09a4 \\u09b0\\u09be\\u09a4\\u09c7\\u09b0 \\u09ac\\u09c7\\u09b2\\u09be\\u09af\\u09bc \\u0998\\u09c1\\u09ae\\u09bf\\u09af\\u09bc\\u09c7 \\u09aa\\u09a1\\u09bc\\u09c7\\u099b\\u09bf\\u09b2 \\u09ac\\u09be \\u09a8\\u09bf\\u09b0\\u09be\\u09aa\\u09a4\\u09cd\\u09a4\\u09be \\u098f\\u0995\\u099f\\u09c1 \\u09a2\\u09bf\\u09b2\\u09c7\\u09a2\\u09be\\u09b2\\u09be \\u09b9\\u09af\\u09bc\\u09c7 \\u0997\\u09bf\\u09af\\u09bc\\u09c7\\u099b\\u09bf\\u09b2\\u0964 \\u0995\\u09bf\\u09a8\\u09cd\\u09a4\\u09c1 \\u0985\\u09ac\\u09b6\\u09cd\\u09af\\u0987 \\u09af\\u09a5\\u09be\\u09af\\u09a5 \\u09a6\\u09be\\u09af\\u09bc\\u09bf\\u09a4\\u09cd\\u09ac \\u09aa\\u09be\\u09b2\\u09a8 \\u0995\\u09b0\\u099b\\u09bf\\u09b2\\u09c7\\u09a8 \\u09a8\\u09be \\u09a4\\u09be\\u09b0\\u09be\\u0964 \\u09ac\\u09bf\\u09b7\\u09af\\u09bc\\u099f\\u09bf \\u0996\\u09a4\\u09bf\\u09af\\u09bc\\u09c7 \\u09a6\\u09c7\\u0996\\u09be \\u09b9\\u099a\\u09cd\\u099b\\u09c7\\u0964\\\" \\u098f\\u09a6\\u09bf\\u0995\\u09c7, \\u09af\\u09b6\\u09cb\\u09b0 \\u09b6\\u09bf\\u09b6\\u09c1 \\u0989\\u09a8\\u09cd\\u09a8\\u09af\\u09bc\\u09a8 \\u0995\\u09c7\\u09a8\\u09cd\\u09a6\\u09cd\\u09b0\\u09c7\\u09b0 \\u09a4\\u09a4\\u09cd\\u09a4\\u09cd\\u09ac\\u09be\\u09ac\\u09a7\\u09be\\u09af\\u09bc\\u0995 \\u099c\\u09be\\u0995\\u09bf\\u09b0 \\u09b9\\u09cb\\u09b8\\u09c7\\u09a8 \\u09ac\\u09bf\\u09ac\\u09bf\\u09b8\\u09bf\\u0995\\u09c7 \\u09ac\\u09b2\\u09c7\\u099b\\u09c7\\u09a8, \\u098f\\u0987 \\u0998\\u099f\\u09a8\\u09be\\u09af\\u09bc \\u098f\\u0995\\u099f\\u09bf \\u099c\\u09bf\\u09a1\\u09bf \\u09a6\\u09be\\u09af\\u09bc\\u09c7\\u09b0 \\u0995\\u09b0\\u09be \\u09b9\\u09af\\u09bc\\u09c7\\u099b\\u09c7\\u0964 \\u09b8\\u09c7\\u0987 \\u09b8\\u0999\\u09cd\\u0997\\u09c7 \\u0993\\u0987 \\u0995\\u09bf\\u09b6\\u09cb\\u09b0\\u09a6\\u09c7\\u09b0 \\u09aa\\u09b0\\u09bf\\u09ac\\u09be\\u09b0\\u0995\\u09c7 \\u09ac\\u09bf\\u09b7\\u09af\\u09bc\\u099f\\u09bf \\u09b8\\u09ae\\u09cd\\u09aa\\u09b0\\u09cd\\u0995\\u09c7 \\u099c\\u09be\\u09a8\\u09be\\u09a8\\u09cb \\u09b9\\u09af\\u09bc\\u09c7\\u099b\\u09c7\\u0964 \\u098f\\u0987 \\u09b6\\u09bf\\u09b6\\u09c1 \\u0989\\u09a8\\u09cd\\u09a8\\u09af\\u09bc\\u09a8 \\u0995\\u09c7\\u09a8\\u09cd\\u09a6\\u09cd\\u09b0\\u0997\\u09c1\\u09b2\\u09cb\\u0995\\u09c7 \\u0986\\u0997\\u09c7 \\u0995\\u09bf\\u09b6\\u09cb\\u09b0 \\u09b8\\u0982\\u09b6\\u09cb\\u09a7\\u09a8 \\u0995\\u09c7\\u09a8\\u09cd\\u09a6\\u09cd\\u09b0 \\u09ac\\u09b2\\u09be \\u09b9\\u09a4, \\u09aa\\u09b0\\u09c7 \\u09b8\\u09c7 \\u09a8\\u09be\\u09ae \\u09aa\\u09b0\\u09bf\\u09ac\\u09b0\\u09cd\\u09a4\\u09a8 \\u0995\\u09b0\\u09be \\u09b9\\u09af\\u09bc\\u0964 \\u09ae\\u09c2\\u09b2\\u09a4 \\u09ac\\u09bf\\u09ad\\u09bf\\u09a8\\u09cd\\u09a8 \\u0985\\u09aa\\u09b0\\u09be\\u09a7\\u09ae\\u09c2\\u09b2\\u0995 \\u0995\\u09b0\\u09cd\\u09ae\\u0995\\u09be\\u09a3\\u09cd\\u09a1\\u09c7 \\u0985\\u09ad\\u09bf\\u09af\\u09c1\\u0995\\u09cd\\u09a4 \\u09b6\\u09bf\\u09b6\\u09c1 \\u0995\\u09bf\\u09b6\\u09cb\\u09b0\\u0995\\u09c7 \\u098f\\u0996\\u09be\\u09a8\\u09c7 \\u09b8\\u09be\\u099c\\u09be\\u09b0 \\u09aa\\u09b0\\u09bf\\u09ac\\u09b0\\u09cd\\u09a4\\u09c7 \\u09b8\\u0982\\u09b6\\u09cb\\u09a7\\u09a8\\u09c7\\u09b0 \\u099c\\u09a8\\u09cd\\u09af \\u09e7\\u09ee \\u09ac\\u099b\\u09b0 \\u09ac\\u09af\\u09bc\\u09b8 \\u09aa\\u09b0\\u09cd\\u09af\\u09a8\\u09cd\\u09a4 \\u09b0\\u09be\\u0996\\u09be \\u09b9\\u09af\\u09bc\\u0964 \\u09ac\\u09be\\u0982\\u09b2\\u09be\\u09a6\\u09c7\\u09b6\\u09c7 \\u09ae\\u09cb\\u099f \\u09a4\\u09bf\\u09a8\\u099f\\u09bf \\u09b6\\u09bf\\u09b6\\u09c1 \\u0989\\u09a8\\u09cd\\u09a8\\u09af\\u09bc\\u09a8 \\u0995\\u09c7\\u09a8\\u09cd\\u09a6\\u09cd\\u09b0 \\u0986\\u099b\\u09c7\\u0964 \\u098f\\u09b0 \\u09ae\\u09a7\\u09cd\\u09af\\u09c7 \\u099f\\u0999\\u09cd\\u0997\\u09bf \\u0993 \\u09af\\u09b6\\u09cb\\u09b0\\u09c7\\u09b0 \\u09a6\\u09c1\\u099f\\u09bf \\u099b\\u09c7\\u09b2\\u09c7\\u09a6\\u09c7\\u09b0 \\u099c\\u09a8\\u09cd\\u09af, \\u098f\\u09ac\\u0982 \\u0997\\u09be\\u099c\\u09c0\\u09aa\\u09c1\\u09b0\\u09c7 \\u09ae\\u09c7\\u09af\\u09bc\\u09c7\\u09a6\\u09c7\\u09b0 \\u099c\\u09a8\\u09cd\\u09af \\u098f\\u0995\\u099f\\u09bf \\u09b6\\u09bf\\u09b6\\u09c1 \\u0989\\u09a8\\u09cd\\u09a8\\u09af\\u09bc\\u09a8 \\u0995\\u09c7\\u09a8\\u09cd\\u09a6\\u09cd\\u09b0 \\u09b0\\u09af\\u09bc\\u09c7\\u099b\\u09c7\\u0964 \\u09af\\u09b6\\u09cb\\u09b0 \\u09b6\\u09bf\\u09b6\\u09c1 \\u0989\\u09a8\\u09cd\\u09a8\\u09af\\u09bc\\u09a8 \\u0995\\u09c7\\u09a8\\u09cd\\u09a6\\u09cd\\u09b0\\u09c7 \\u098f\\u0987 \\u09ae\\u09c2\\u09b9\\u09c1\\u09b0\\u09cd\\u09a4\\u09c7 \\u09e8\\u09ed\\u09ed \\u099c\\u09a8 \\u09b6\\u09bf\\u09b6\\u09c1-\\u0995\\u09bf\\u09b6\\u09cb\\u09b0 \\u09b0\\u09af\\u09bc\\u09c7\\u099b\\u09c7\\u0964 \\u098f\\u0987 \\u09af\\u09b6\\u09cb\\u09b0 \\u09b6\\u09bf\\u09b6\\u09c1 \\u0989\\u09a8\\u09cd\\u09a8\\u09af\\u09bc\\u09a8 \\u0995\\u09c7\\u09a8\\u09cd\\u09a6\\u09cd\\u09b0\\u09c7\\u0987 \\u0985\\u0997\\u09be\\u09b8\\u09cd\\u099f \\u09ae\\u09be\\u09b8\\u09c7 \\u0995\\u09c7\\u09a8\\u09cd\\u09a6\\u09cd\\u09b0\\u09c7\\u09b0 \\u0986\\u09a8\\u09b8\\u09be\\u09b0 \\u09b8\\u09a6\\u09b8\\u09cd\\u09af\\u09a6\\u09c7\\u09b0 \\u09ac\\u09c7\\u09a7\\u09a1\\u09bc\\u0995 \\u09aa\\u09bf\\u099f\\u09c1\\u09a8\\u09bf\\u09b0 \\u09b6\\u09bf\\u0995\\u09be\\u09b0 \\u09b9\\u09af\\u09bc\\u09c7 \\u09a4\\u09bf\\u09a8\\u099c\\u09a8 \\u09b6\\u09bf\\u09b6\\u09c1 \\u09a8\\u09bf\\u09b9\\u09a4 \\u09b9\\u09af\\u09bc\\u09c7\\u099b\\u09bf\\u09b2\\u0964 \\u09b8\\u09c7\\u09b8\\u09ae\\u09af\\u09bc \\u0997\\u09c1\\u09b0\\u09c1\\u09a4\\u09b0 \\u0986\\u09b9\\u09a4 \\u09b9\\u09af\\u09bc\\u09c7\\u099b\\u09bf\\u09b2 \\u09e7\\u09eb \\u099c\\u09a8 \\u0995\\u09bf\\u09b6\\u09cb\\u09b0\\u0964\",\n          \"\\u09aa\\u09cd\\u09b0\\u09a4\\u09bf\\u09ac\\u09be\\u09a6\\u0995\\u09be\\u09b0\\u09c0\\u09b0\\u09be \\u09a2\\u09be\\u09b2 \\u09a6\\u09bf\\u09af\\u09bc\\u09c7 \\u09a8\\u09bf\\u099c\\u09c7\\u09a6\\u09c7\\u09b0 \\u09b0\\u0995\\u09cd\\u09b7\\u09be\\u09b0 \\u099a\\u09c7\\u09b7\\u09cd\\u099f\\u09be \\u0995\\u09b0\\u099b\\u09c7\\u0964 \\u09b8\\u09be\\u09ae\\u09b0\\u09bf\\u0995 \\u09ac\\u09be\\u09b9\\u09bf\\u09a8\\u09c0\\u09b0 \\u0995\\u09cd\\u09b7\\u09ae\\u09a4\\u09be \\u09a6\\u0996\\u09b2\\u09c7\\u09b0 \\u09aa\\u09b0 \\u098f\\u099f\\u09be\\u0987 \\u09b8\\u09ac\\u099a\\u09c7\\u09af\\u09bc\\u09c7 \\u09b0\\u0995\\u09cd\\u09a4\\u09be\\u0995\\u09cd\\u09a4 \\u09a6\\u09bf\\u09a8\\u0964 \\u099c\\u09be\\u09a4\\u09bf\\u09b8\\u0982\\u0998 \\u09ac\\u09b2\\u099b\\u09c7,\\u09a6\\u09c7\\u09b6\\u099c\\u09c1\\u09a1\\u09bc\\u09c7 \\u09ac\\u09bf\\u0995\\u09cd\\u09b7\\u09cb\\u09ad\\u09c7\\u09b0 \\u09b8\\u09ae\\u09af\\u09bc \\u0986\\u09b0\\u09cb \\u09e9\\u09e6 \\u099c\\u09a8\\u09c7\\u09b0\\u0993 \\u09ac\\u09c7\\u09b6\\u09bf \\u09b2\\u09cb\\u0995 \\u0986\\u09b9\\u09a4 \\u09b9\\u09af\\u09bc\\u09c7\\u099b\\u09c7\\u0964 \\u0987\\u09af\\u09bc\\u09be\\u0999\\u09cd\\u0997\\u09a8, \\u09ac\\u09be\\u0997\\u09cb \\u0993 \\u09a6\\u09be\\u0993\\u09af\\u09bc\\u09c7\\u0987-\\u098f\\u09b0 \\u09ae\\u09a4 \\u0985\\u09a8\\u09cd\\u09a4\\u09a4 \\u09a4\\u09bf\\u09a8\\u099f\\u09bf \\u09b6\\u09b9\\u09b0\\u09c7 \\u09aa\\u09c1\\u09b2\\u09bf\\u09b6 \\u09ac\\u09bf\\u0995\\u09cd\\u09b7\\u09cb\\u09ad\\u0995\\u09be\\u09b0\\u09c0\\u09a6\\u09c7\\u09b0 \\u0993\\u09aa\\u09b0 \\u0997\\u09c1\\u09b2\\u09bf \\u0993 \\u09b0\\u09be\\u09ac\\u09be\\u09b0 \\u09ac\\u09c1\\u09b2\\u09c7\\u099f \\u09a8\\u09bf\\u0995\\u09cd\\u09b7\\u09c7\\u09aa \\u0995\\u09b0\\u09c7\\u0964 \\u09b8\\u09c7\\u0996\\u09be\\u09a8\\u09c7\\u0993 \\u09ac\\u09b9\\u09c1 \\u09ae\\u09be\\u09a8\\u09c1\\u09b7 \\u09b9\\u09a4\\u09be\\u09b9\\u09a4 \\u09b9\\u09af\\u09bc\\u09c7\\u099b\\u09c7\\u0964 \\u09a6\\u09c7\\u09b6\\u09c7\\u09b0 \\u09ac\\u09bf\\u09ad\\u09bf\\u09a8\\u09cd\\u09a8 \\u09b8\\u09cd\\u09a5\\u09be\\u09a8\\u09c7 \\u09ac\\u09bf\\u0995\\u09cd\\u09b7\\u09cb\\u09ad\\u0995\\u09be\\u09b0\\u09c0\\u09a6\\u09c7\\u09b0 \\u099b\\u09a4\\u09cd\\u09b0\\u09ad\\u0999\\u09cd\\u0997 \\u0995\\u09b0\\u09a4\\u09c7 \\u09b8\\u09cd\\u099f\\u09be\\u09a8\\u0997\\u09be\\u09a8 \\u0993 \\u099c\\u09b2\\u0995\\u09be\\u09ae\\u09be\\u09a8 \\u09ac\\u09cd\\u09af\\u09ac\\u09b9\\u09be\\u09b0 \\u0995\\u09b0\\u09be \\u09b9\\u09af\\u09bc\\u0964 \\u0985\\u09a8\\u09cd\\u09af\\u09a6\\u09bf\\u0995\\u09c7 \\u099c\\u09be\\u09a4\\u09bf\\u09b8\\u0982\\u0998\\u09c7 \\u09ae\\u09bf\\u09af\\u09bc\\u09be\\u09a8\\u09ae\\u09be\\u09b0\\u09c7\\u09b0 \\u09b0\\u09be\\u09b7\\u09cd\\u099f\\u09cd\\u09b0\\u09a6\\u09c2\\u09a4 \\u09b8\\u09c7\\u09a6\\u09c7\\u09b6\\u09c7\\u09b0 \\u0995\\u09cd\\u09b7\\u09ae\\u09a4\\u09be\\u099a\\u09cd\\u09af\\u09c1\\u09a4 \\u09b8\\u09b0\\u0995\\u09be\\u09b0\\u09c7\\u09b0 \\u09aa\\u09cd\\u09b0\\u09a4\\u09bf \\u0986\\u09a8\\u09cd\\u09a4\\u09b0\\u09cd\\u099c\\u09be\\u09a4\\u09bf\\u0995 \\u09b8\\u09ae\\u09b0\\u09cd\\u09a5\\u09a8\\u09c7\\u09b0 \\u0986\\u09b9\\u09cd\\u09ac\\u09be\\u09a8 \\u099c\\u09be\\u09a8\\u09be\\u09a8\\u09cb\\u09b0 \\u09aa\\u09b0 \\u09a4\\u09be\\u0995\\u09c7 \\u09ac\\u09b0\\u0996\\u09be\\u09b8\\u09cd\\u09a4 \\u0995\\u09b0\\u09be \\u09b9\\u09af\\u09bc\\u09c7\\u099b\\u09c7\\u0964 \\u0985\\u0982 \\u09b8\\u09be\\u09a8 \\u09b8\\u09c1 \\u099a\\u09bf-\\u0995\\u09c7 \\u09b9\\u099f\\u09bf\\u09af\\u09bc\\u09c7 \\u09b8\\u09c7\\u09a8\\u09be\\u09ac\\u09be\\u09b9\\u09bf\\u09a8\\u09c0 \\u09e7\\u09b2\\u09be \\u09ab\\u09c7\\u09ac\\u09cd\\u09b0\\u09c1\\u09af\\u09bc\\u09be\\u09b0\\u09bf \\u0995\\u09cd\\u09b7\\u09ae\\u09a4\\u09be \\u09a6\\u0996\\u09b2\\u09c7\\u09b0 \\u09aa\\u09b0 \\u09aa\\u09cd\\u09b0\\u09be\\u09af\\u09bc \\u09aa\\u09cd\\u09b0\\u09a4\\u09bf\\u09a6\\u09bf\\u09a8\\u0987 \\u09a6\\u09c7\\u09b6\\u099f\\u09bf\\u09a4\\u09c7 \\u09ac\\u09bf\\u0995\\u09cd\\u09b7\\u09cb\\u09ad \\u09b9\\u099a\\u09cd\\u099b\\u09c7\\u0964 \\u09a6\\u09bf\\u09a8\\u09c7 \\u09a6\\u09bf\\u09a8\\u09c7 \\u098f\\u0987 \\u09aa\\u09cd\\u09b0\\u09a4\\u09bf\\u09ac\\u09be\\u09a6\\u09c7\\u09b0 \\u09ae\\u09be\\u09a4\\u09cd\\u09b0\\u09be \\u0986\\u09b0\\u09cb \\u09a4\\u09c0\\u09ac\\u09cd\\u09b0 \\u09b9\\u099a\\u09cd\\u099b\\u09c7\\u0964 \\u0986\\u09b0\\u09cb \\u09aa\\u09a1\\u09bc\\u09a4\\u09c7 \\u09aa\\u09be\\u09b0\\u09c7\\u09a8: \\u09ae\\u09bf\\u09af\\u09bc\\u09be\\u09a8\\u09ae\\u09be\\u09b0\\u09c7\\u09b0 \\u09b8\\u09be\\u09ae\\u09b0\\u09bf\\u0995 \\u09a8\\u09c7\\u09a4\\u09be\\u09a6\\u09c7\\u09b0 \\u0989\\u09aa\\u09b0 \\u09af\\u09c1\\u0995\\u09cd\\u09a4\\u09b0\\u09be\\u09b7\\u09cd\\u099f\\u09cd\\u09b0\\u09c7\\u09b0 \\u09a8\\u09bf\\u09b7\\u09c7\\u09a7\\u09be\\u099c\\u09cd\\u099e\\u09be \\u0986\\u09b0\\u09cb\\u09aa \\u09ab\\u09c7\\u09b8\\u09ac\\u09c1\\u0995\\u09c7\\u09b0 \\u09aa\\u09b0 \\u09ae\\u09bf\\u09af\\u09bc\\u09be\\u09a8\\u09ae\\u09be\\u09b0\\u09c7 \\u0987\\u09a8\\u09b8\\u09cd\\u099f\\u09be\\u0997\\u09cd\\u09b0\\u09be\\u09ae \\u0993 \\u099f\\u09c1\\u0987\\u099f\\u09be\\u09b0\\u0993 \\u09ac\\u09a8\\u09cd\\u09a7 \\u0995\\u09b0\\u09be \\u09b9\\u09b2\\u09cb \\u0986\\u09b9\\u09a4 \\u098f\\u0995\\u099c\\u09a8\\u0995\\u09c7 \\u0985\\u09cd\\u09af\\u09be\\u09ae\\u09cd\\u09ac\\u09c1\\u09b2\\u09c7\\u09a8\\u09cd\\u09b8\\u09c7 \\u099a\\u09bf\\u0995\\u09bf\\u09ce\\u09b8\\u09be \\u09a6\\u09c7\\u0993\\u09af\\u09bc\\u09be \\u09b9\\u099a\\u09cd\\u099b\\u09c7\\u0964 \\u098f\\u0987 \\u09ac\\u09bf\\u0995\\u09cd\\u09b7\\u09cb\\u09ad \\u09a6\\u09ae\\u09a8 \\u0995\\u09b0\\u09a4\\u09c7 \\u09a8\\u09bf\\u09b0\\u09be\\u09aa\\u09a4\\u09cd\\u09a4\\u09be \\u09ac\\u09be\\u09b9\\u09bf\\u09a8\\u09c0\\u0997\\u09c1\\u09b2\\u09cb \\u09b6\\u09a8\\u09bf\\u09ac\\u09be\\u09b0 \\u09a5\\u09c7\\u0995\\u09c7 \\u09b8\\u09be\\u0981\\u09a1\\u09bc\\u09be\\u09b6\\u09bf \\u0986\\u0995\\u09cd\\u09b0\\u09ae\\u09a3 \\u09b6\\u09c1\\u09b0\\u09c1 \\u0995\\u09b0\\u09c7\\u0964 \\u09a4\\u09be\\u09b0\\u09be \\u09aa\\u09cd\\u09b0\\u099a\\u09c1\\u09b0 \\u09b8\\u0982\\u0996\\u09cd\\u09af\\u0995 \\u09aa\\u09cd\\u09b0\\u09a4\\u09bf\\u09ac\\u09be\\u09a6\\u0995\\u09be\\u09b0\\u09c0\\u0995\\u09c7 \\u0997\\u09cd\\u09b0\\u09c7\\u09ab\\u09a4\\u09be\\u09b0 \\u0995\\u09b0\\u09c7\\u099b\\u09c7\\u0964 \\u09b8\\u09cb\\u09b6\\u09be\\u09b2 \\u09ae\\u09bf\\u09a1\\u09bf\\u09af\\u09bc\\u09be\\u09a4\\u09c7 \\u098f\\u09b8\\u09ac \\u09ac\\u09bf\\u0995\\u09cd\\u09b7\\u09cb\\u09ad\\u09c7\\u09b0 \\u09ad\\u09bf\\u09a1\\u09bf\\u0993 \\u099b\\u09a1\\u09bc\\u09bf\\u09af\\u09bc\\u09c7 \\u09aa\\u09a1\\u09bc\\u09c7\\u099b\\u09c7 - \\u09af\\u09be\\u09a4\\u09c7 \\u09a6\\u09c7\\u0996\\u09be \\u09af\\u09be\\u099a\\u09cd\\u099b\\u09c7 \\u09aa\\u09c1\\u09b2\\u09bf\\u09b6 \\u09aa\\u09cd\\u09b0\\u09a4\\u09bf\\u09ac\\u09be\\u09a6\\u0995\\u09be\\u09b0\\u09c0\\u09a6\\u09c7\\u09b0 \\u09b2\\u09be\\u09a0\\u09bf\\u09aa\\u09c7\\u099f\\u09be \\u0995\\u09b0\\u099b\\u09c7\\u0964 \\u0998\\u099f\\u09a8\\u09be\\u09b8\\u09cd\\u09a5\\u09b2\\u09c7 \\u09a5\\u09be\\u0995\\u09be \\u09ac\\u09bf\\u09ac\\u09bf\\u09b8\\u09bf\\u09b0 \\u098f\\u0995\\u099c\\u09a8 \\u09b8\\u09be\\u0982\\u09ac\\u09be\\u09a6\\u09bf\\u0995 \\u09ac\\u09b2\\u09c7\\u099b\\u09c7\\u09a8, \\u09a4\\u09bf\\u09a8\\u09bf \\u09ae\\u09be\\u09b0\\u09be\\u09a4\\u09cd\\u09ae\\u0995\\u09ad\\u09be\\u09ac\\u09c7 \\u0986\\u09b9\\u09a4 \\u09ac\\u09c7\\u09b6 \\u0995\\u09bf\\u099b\\u09c1 \\u09b2\\u09cb\\u0995\\u09c7\\u09b0 \\u099b\\u09ac\\u09bf \\u09a6\\u09c7\\u0996\\u09c7\\u099b\\u09c7\\u09a8\\u0964\"\n        ],\n        \"semantic_type\": \"\",\n        \"description\": \"\"\n      }\n    },\n    {\n      \"column\": \"predicted_summary\",\n      \"properties\": {\n        \"dtype\": \"string\",\n        \"num_unique_values\": 512,\n        \"samples\": [\n          \" \\u0995\\u09c1\\u09ae\\u09bf\\u09b2\\u09cd\\u09b2\\u09be\\u09b0 \\u0995\\u09cb\\u09a4\\u09cb\\u09af\\u09bc\\u09be\\u09b2\\u09bf \\u09ae\\u09a1\\u09c7\\u09b2 \\u09a5\\u09be\\u09a8\\u09be\\u09b0 \\u0993\\u09b8\\u09bf \\u0986\\u09a8\\u09cb\\u09af\\u09bc\\u09be\\u09b0\\u09c1\\u09b2 \\u0987\\u09b8\\u09b2\\u09be\\u09ae \\u099c\\u09be\\u09a8\\u09bf\\u09af\\u09bc\\u09c7\\u099b\\u09c7\\u09a8, \\u09b6\\u09c1\\u0995\\u09cd\\u09b0\\u09ac\\u09be\\u09b0 \\u09ac\\u09bf\\u0995\\u09c7\\u09b2\\u09c7 \\u09af\\u09c1\\u09ac\\u09b2\\u09c0\\u0997 \\u09a8\\u09c7\\u09a4\\u09be\\u09b0 \\u0993\\u09aa\\u09b0 \\u09b9\\u09be\\u09ae\\u09b2\\u09be\\u09b0 \\u0998\\u099f\\u09a8\\u09be\\u09af\\u09bc \\u0995\\u09be\\u0989\\u09a8\\u09cd\\u09b8\\u09bf\\u09b2\\u09b0 \\u09b8\\u09be\\u0987\\u09ab\\u09c1\\u09b2 \\u09ac\\u09bf\\u09a8 \\u099c\\u09b2\\u09bf\\u09b2\\u09b8\\u09b9 \\u09ae\\u09cb\\u099f \\u0986\\u099f\\u099c\\u09a8\\u09c7\\u09b0 \\u09ac\\u09bf\\u09b0\\u09c1\\u09a6\\u09cd\\u09a7\\u09c7 \\u09ae\\u09be\\u09ae\\u09b2\\u09be \\u09b9\\u09af\\u09bc\\u09c7\\u099b\\u09c7\\u0964\",\n          \" \\u09af\\u09b6\\u09cb\\u09b0\\u09c7\\u09b0 \\u09b6\\u09bf\\u09b6\\u09c1 \\u0989\\u09a8\\u09cd\\u09a8\\u09af\\u09bc\\u09a8 \\u0995\\u09c7\\u09a8\\u09cd\\u09a6\\u09cd\\u09b0\\u09c7 \\u098f\\u0995 \\u0998\\u099f\\u09a8\\u09be\\u09af\\u09bc \\u0986\\u099f\\u099c\\u09a8 \\u0995\\u09bf\\u09b6\\u09cb\\u09b0 \\u09a6\\u09c7\\u09af\\u09bc\\u09be\\u09b2 \\u099f\\u09aa\\u0995\\u09c7 \\u09aa\\u09be\\u09b2\\u09bf\\u09af\\u09bc\\u09c7 \\u09aa\\u09a1\\u09bc\\u09c7\\u099b\\u09c7\\u09a8, \\u09a4\\u09be\\u09a6\\u09c7\\u09b0 \\u09ac\\u09af\\u09bc\\u09b8 \\u09e7\\u09e8 \\u09a5\\u09c7\\u0995\\u09c7 \\u09e7\\u09ed \\u09ac\\u099b\\u09b0\\u0964\",\n          \" \\u09aa\\u09cd\\u09b0\\u09a4\\u09bf\\u09ac\\u09be\\u09a6\\u0995\\u09be\\u09b0\\u09c0\\u09a6\\u09c7\\u09b0 \\u09b0\\u0995\\u09cd\\u09b7\\u09be\\u09b0 \\u099a\\u09c7\\u09b7\\u09cd\\u099f\\u09be \\u0995\\u09b0\\u099b\\u09c7 \\u098f\\u09ac\\u0982 \\u099c\\u09be\\u09a4\\u09bf\\u09b8\\u0982\\u0998 \\u09ac\\u09b2\\u099b\\u09c7, \\u09a6\\u09c7\\u09b6\\u099c\\u09c1\\u09a1\\u09bc\\u09c7 \\u09ac\\u09bf\\u0995\\u09cd\\u09b7\\u09cb\\u09ad\\u09c7\\u09b0 \\u09b8\\u09ae\\u09af\\u09bc \\u0986\\u09b0\\u09cb \\u09e9\\u09e6 \\u099c\\u09a8\\u09c7\\u09b0\\u0993 \\u09ac\\u09c7\\u09b6\\u09bf \\u09b2\\u09cb\\u0995 \\u0986\\u09b9\\u09a4 \\u09b9\\u09af\\u09bc\\u09c7\\u099b\\u09c7\\u0964\"\n        ],\n        \"semantic_type\": \"\",\n        \"description\": \"\"\n      }\n    }\n  ]\n}",
              "type": "dataframe",
              "variable_name": "ts_results"
            },
            "text/html": [
              "\n",
              "  <div id=\"df-a4a6e7df-eb4b-4795-a073-166469178e00\" class=\"colab-df-container\">\n",
              "    <div>\n",
              "<style scoped>\n",
              "    .dataframe tbody tr th:only-of-type {\n",
              "        vertical-align: middle;\n",
              "    }\n",
              "\n",
              "    .dataframe tbody tr th {\n",
              "        vertical-align: top;\n",
              "    }\n",
              "\n",
              "    .dataframe thead th {\n",
              "        text-align: right;\n",
              "    }\n",
              "</style>\n",
              "<table border=\"1\" class=\"dataframe\">\n",
              "  <thead>\n",
              "    <tr style=\"text-align: right;\">\n",
              "      <th></th>\n",
              "      <th>id</th>\n",
              "      <th>url</th>\n",
              "      <th>title</th>\n",
              "      <th>summary</th>\n",
              "      <th>text</th>\n",
              "      <th>predicted_summary</th>\n",
              "    </tr>\n",
              "  </thead>\n",
              "  <tbody>\n",
              "    <tr>\n",
              "      <th>0</th>\n",
              "      <td>news-45155508</td>\n",
              "      <td>https://www.bbc.com/bengali/news-45155508</td>\n",
              "      <td>চীন ১০ লাখ উইগুর মুসলিমকে আটকে রেখেছে - জাতিসং...</td>\n",
              "      <td>জাতিসংঘের মানবাধিকার বিষয়ক কমিটি জেনেভাতে চীন...</td>\n",
              "      <td>আটক স্বজনদের আইডি কার্ড হাতে উইগুর নারীদের বিক...</td>\n",
              "      <td>জাতিসংঘের জাতিগত বৈষম্য বিষয়ক কমিটির সদস্য গ...</td>\n",
              "    </tr>\n",
              "    <tr>\n",
              "      <th>1</th>\n",
              "      <td>news-39127107</td>\n",
              "      <td>https://www.bbc.com/bengali/news-39127107</td>\n",
              "      <td>কোকা-কোলা, পেপসি নিষিদ্ধ হলো তামিলনাডুতে</td>\n",
              "      <td>ভারতের দক্ষিণাঞ্চলীয় রাজ্য তামিলনাডুর ব্যবসায...</td>\n",
              "      <td>ভারতের অন্য অঞ্চলেও কোক, পেপসি নিষিদ্ধ করার দা...</td>\n",
              "      <td>ভারতের অন্য অঞ্চলেও কোক, পেপসি নিষিদ্ধ করার দ...</td>\n",
              "    </tr>\n",
              "    <tr>\n",
              "      <th>2</th>\n",
              "      <td>news-49141918</td>\n",
              "      <td>https://www.bbc.com/bengali/news-49141918</td>\n",
              "      <td>ডেঙ্গু পরিস্থিতি: হাসপাতালে ভর্তির দরকার না থা...</td>\n",
              "      <td>স্বাস্থ্য অধিদপ্তরের হিসাব মতে, গত ২৪ ঘণ্টায় ...</td>\n",
              "      <td>সোহরাওয়ার্দী হাসপাতালের চিত্র সাধারণত সেপ্টেম...</td>\n",
              "      <td>ডেঙ্গু প্রকোপে সোহরাওয়ার্দী হাসপাতালে চিকিৎস...</td>\n",
              "    </tr>\n",
              "    <tr>\n",
              "      <th>3</th>\n",
              "      <td>news-52808250</td>\n",
              "      <td>https://www.bbc.com/bengali/news-52808250</td>\n",
              "      <td>ডোনাল্ড ট্রাম্প: আমেরিকান প্রেসিডেন্টের পোস্ট ...</td>\n",
              "      <td>এই প্রথম সামাজিক মাধ্যমের বিশাল প্রতিষ্ঠান টুই...</td>\n",
              "      <td>ডোনাল্ড ট্রাম্প অভিযোগ করেছেন টু্‌ইটার আমেরিকা...</td>\n",
              "      <td>মি. ট্রাম্প টুইটারে ভোটের কাগজ সম্পর্কে অস্বী...</td>\n",
              "    </tr>\n",
              "    <tr>\n",
              "      <th>4</th>\n",
              "      <td>news-49047323</td>\n",
              "      <td>https://www.bbc.com/bengali/news-49047323</td>\n",
              "      <td>বাংলাদেশে বন্যার প্রকোপ: ২৪ ঘণ্টায় ডুবে যাবে ...</td>\n",
              "      <td>বাংলাদেশের বন্যা পূর্বাভাস এবং সতর্কীকরণ কেন্দ...</td>\n",
              "      <td>বন্যার প্রকোপ ছড়িয়ে পড়ছে সারা দেশে। বাংলাদে...</td>\n",
              "      <td>বাংলাদেশে বন্যাপ্লাবনের প্রকোপ সবচেয়ে বেশি ক...</td>\n",
              "    </tr>\n",
              "  </tbody>\n",
              "</table>\n",
              "</div>\n",
              "    <div class=\"colab-df-buttons\">\n",
              "\n",
              "  <div class=\"colab-df-container\">\n",
              "    <button class=\"colab-df-convert\" onclick=\"convertToInteractive('df-a4a6e7df-eb4b-4795-a073-166469178e00')\"\n",
              "            title=\"Convert this dataframe to an interactive table.\"\n",
              "            style=\"display:none;\">\n",
              "\n",
              "  <svg xmlns=\"http://www.w3.org/2000/svg\" height=\"24px\" viewBox=\"0 -960 960 960\">\n",
              "    <path d=\"M120-120v-720h720v720H120Zm60-500h600v-160H180v160Zm220 220h160v-160H400v160Zm0 220h160v-160H400v160ZM180-400h160v-160H180v160Zm440 0h160v-160H620v160ZM180-180h160v-160H180v160Zm440 0h160v-160H620v160Z\"/>\n",
              "  </svg>\n",
              "    </button>\n",
              "\n",
              "  <style>\n",
              "    .colab-df-container {\n",
              "      display:flex;\n",
              "      gap: 12px;\n",
              "    }\n",
              "\n",
              "    .colab-df-convert {\n",
              "      background-color: #E8F0FE;\n",
              "      border: none;\n",
              "      border-radius: 50%;\n",
              "      cursor: pointer;\n",
              "      display: none;\n",
              "      fill: #1967D2;\n",
              "      height: 32px;\n",
              "      padding: 0 0 0 0;\n",
              "      width: 32px;\n",
              "    }\n",
              "\n",
              "    .colab-df-convert:hover {\n",
              "      background-color: #E2EBFA;\n",
              "      box-shadow: 0px 1px 2px rgba(60, 64, 67, 0.3), 0px 1px 3px 1px rgba(60, 64, 67, 0.15);\n",
              "      fill: #174EA6;\n",
              "    }\n",
              "\n",
              "    .colab-df-buttons div {\n",
              "      margin-bottom: 4px;\n",
              "    }\n",
              "\n",
              "    [theme=dark] .colab-df-convert {\n",
              "      background-color: #3B4455;\n",
              "      fill: #D2E3FC;\n",
              "    }\n",
              "\n",
              "    [theme=dark] .colab-df-convert:hover {\n",
              "      background-color: #434B5C;\n",
              "      box-shadow: 0px 1px 3px 1px rgba(0, 0, 0, 0.15);\n",
              "      filter: drop-shadow(0px 1px 2px rgba(0, 0, 0, 0.3));\n",
              "      fill: #FFFFFF;\n",
              "    }\n",
              "  </style>\n",
              "\n",
              "    <script>\n",
              "      const buttonEl =\n",
              "        document.querySelector('#df-a4a6e7df-eb4b-4795-a073-166469178e00 button.colab-df-convert');\n",
              "      buttonEl.style.display =\n",
              "        google.colab.kernel.accessAllowed ? 'block' : 'none';\n",
              "\n",
              "      async function convertToInteractive(key) {\n",
              "        const element = document.querySelector('#df-a4a6e7df-eb4b-4795-a073-166469178e00');\n",
              "        const dataTable =\n",
              "          await google.colab.kernel.invokeFunction('convertToInteractive',\n",
              "                                                    [key], {});\n",
              "        if (!dataTable) return;\n",
              "\n",
              "        const docLinkHtml = 'Like what you see? Visit the ' +\n",
              "          '<a target=\"_blank\" href=https://colab.research.google.com/notebooks/data_table.ipynb>data table notebook</a>'\n",
              "          + ' to learn more about interactive tables.';\n",
              "        element.innerHTML = '';\n",
              "        dataTable['output_type'] = 'display_data';\n",
              "        await google.colab.output.renderOutput(dataTable, element);\n",
              "        const docLink = document.createElement('div');\n",
              "        docLink.innerHTML = docLinkHtml;\n",
              "        element.appendChild(docLink);\n",
              "      }\n",
              "    </script>\n",
              "  </div>\n",
              "\n",
              "\n",
              "<div id=\"df-48dabb20-0217-481f-9681-db4280e36ae3\">\n",
              "  <button class=\"colab-df-quickchart\" onclick=\"quickchart('df-48dabb20-0217-481f-9681-db4280e36ae3')\"\n",
              "            title=\"Suggest charts\"\n",
              "            style=\"display:none;\">\n",
              "\n",
              "<svg xmlns=\"http://www.w3.org/2000/svg\" height=\"24px\"viewBox=\"0 0 24 24\"\n",
              "     width=\"24px\">\n",
              "    <g>\n",
              "        <path d=\"M19 3H5c-1.1 0-2 .9-2 2v14c0 1.1.9 2 2 2h14c1.1 0 2-.9 2-2V5c0-1.1-.9-2-2-2zM9 17H7v-7h2v7zm4 0h-2V7h2v10zm4 0h-2v-4h2v4z\"/>\n",
              "    </g>\n",
              "</svg>\n",
              "  </button>\n",
              "\n",
              "<style>\n",
              "  .colab-df-quickchart {\n",
              "      --bg-color: #E8F0FE;\n",
              "      --fill-color: #1967D2;\n",
              "      --hover-bg-color: #E2EBFA;\n",
              "      --hover-fill-color: #174EA6;\n",
              "      --disabled-fill-color: #AAA;\n",
              "      --disabled-bg-color: #DDD;\n",
              "  }\n",
              "\n",
              "  [theme=dark] .colab-df-quickchart {\n",
              "      --bg-color: #3B4455;\n",
              "      --fill-color: #D2E3FC;\n",
              "      --hover-bg-color: #434B5C;\n",
              "      --hover-fill-color: #FFFFFF;\n",
              "      --disabled-bg-color: #3B4455;\n",
              "      --disabled-fill-color: #666;\n",
              "  }\n",
              "\n",
              "  .colab-df-quickchart {\n",
              "    background-color: var(--bg-color);\n",
              "    border: none;\n",
              "    border-radius: 50%;\n",
              "    cursor: pointer;\n",
              "    display: none;\n",
              "    fill: var(--fill-color);\n",
              "    height: 32px;\n",
              "    padding: 0;\n",
              "    width: 32px;\n",
              "  }\n",
              "\n",
              "  .colab-df-quickchart:hover {\n",
              "    background-color: var(--hover-bg-color);\n",
              "    box-shadow: 0 1px 2px rgba(60, 64, 67, 0.3), 0 1px 3px 1px rgba(60, 64, 67, 0.15);\n",
              "    fill: var(--button-hover-fill-color);\n",
              "  }\n",
              "\n",
              "  .colab-df-quickchart-complete:disabled,\n",
              "  .colab-df-quickchart-complete:disabled:hover {\n",
              "    background-color: var(--disabled-bg-color);\n",
              "    fill: var(--disabled-fill-color);\n",
              "    box-shadow: none;\n",
              "  }\n",
              "\n",
              "  .colab-df-spinner {\n",
              "    border: 2px solid var(--fill-color);\n",
              "    border-color: transparent;\n",
              "    border-bottom-color: var(--fill-color);\n",
              "    animation:\n",
              "      spin 1s steps(1) infinite;\n",
              "  }\n",
              "\n",
              "  @keyframes spin {\n",
              "    0% {\n",
              "      border-color: transparent;\n",
              "      border-bottom-color: var(--fill-color);\n",
              "      border-left-color: var(--fill-color);\n",
              "    }\n",
              "    20% {\n",
              "      border-color: transparent;\n",
              "      border-left-color: var(--fill-color);\n",
              "      border-top-color: var(--fill-color);\n",
              "    }\n",
              "    30% {\n",
              "      border-color: transparent;\n",
              "      border-left-color: var(--fill-color);\n",
              "      border-top-color: var(--fill-color);\n",
              "      border-right-color: var(--fill-color);\n",
              "    }\n",
              "    40% {\n",
              "      border-color: transparent;\n",
              "      border-right-color: var(--fill-color);\n",
              "      border-top-color: var(--fill-color);\n",
              "    }\n",
              "    60% {\n",
              "      border-color: transparent;\n",
              "      border-right-color: var(--fill-color);\n",
              "    }\n",
              "    80% {\n",
              "      border-color: transparent;\n",
              "      border-right-color: var(--fill-color);\n",
              "      border-bottom-color: var(--fill-color);\n",
              "    }\n",
              "    90% {\n",
              "      border-color: transparent;\n",
              "      border-bottom-color: var(--fill-color);\n",
              "    }\n",
              "  }\n",
              "</style>\n",
              "\n",
              "  <script>\n",
              "    async function quickchart(key) {\n",
              "      const quickchartButtonEl =\n",
              "        document.querySelector('#' + key + ' button');\n",
              "      quickchartButtonEl.disabled = true;  // To prevent multiple clicks.\n",
              "      quickchartButtonEl.classList.add('colab-df-spinner');\n",
              "      try {\n",
              "        const charts = await google.colab.kernel.invokeFunction(\n",
              "            'suggestCharts', [key], {});\n",
              "      } catch (error) {\n",
              "        console.error('Error during call to suggestCharts:', error);\n",
              "      }\n",
              "      quickchartButtonEl.classList.remove('colab-df-spinner');\n",
              "      quickchartButtonEl.classList.add('colab-df-quickchart-complete');\n",
              "    }\n",
              "    (() => {\n",
              "      let quickchartButtonEl =\n",
              "        document.querySelector('#df-48dabb20-0217-481f-9681-db4280e36ae3 button');\n",
              "      quickchartButtonEl.style.display =\n",
              "        google.colab.kernel.accessAllowed ? 'block' : 'none';\n",
              "    })();\n",
              "  </script>\n",
              "</div>\n",
              "\n",
              "    </div>\n",
              "  </div>\n"
            ],
            "text/plain": [
              "              id                                        url  \\\n",
              "0  news-45155508  https://www.bbc.com/bengali/news-45155508   \n",
              "1  news-39127107  https://www.bbc.com/bengali/news-39127107   \n",
              "2  news-49141918  https://www.bbc.com/bengali/news-49141918   \n",
              "3  news-52808250  https://www.bbc.com/bengali/news-52808250   \n",
              "4  news-49047323  https://www.bbc.com/bengali/news-49047323   \n",
              "\n",
              "                                               title  \\\n",
              "0  চীন ১০ লাখ উইগুর মুসলিমকে আটকে রেখেছে - জাতিসং...   \n",
              "1           কোকা-কোলা, পেপসি নিষিদ্ধ হলো তামিলনাডুতে   \n",
              "2  ডেঙ্গু পরিস্থিতি: হাসপাতালে ভর্তির দরকার না থা...   \n",
              "3  ডোনাল্ড ট্রাম্প: আমেরিকান প্রেসিডেন্টের পোস্ট ...   \n",
              "4  বাংলাদেশে বন্যার প্রকোপ: ২৪ ঘণ্টায় ডুবে যাবে ...   \n",
              "\n",
              "                                             summary  \\\n",
              "0  জাতিসংঘের মানবাধিকার বিষয়ক কমিটি জেনেভাতে চীন...   \n",
              "1  ভারতের দক্ষিণাঞ্চলীয় রাজ্য তামিলনাডুর ব্যবসায...   \n",
              "2  স্বাস্থ্য অধিদপ্তরের হিসাব মতে, গত ২৪ ঘণ্টায় ...   \n",
              "3  এই প্রথম সামাজিক মাধ্যমের বিশাল প্রতিষ্ঠান টুই...   \n",
              "4  বাংলাদেশের বন্যা পূর্বাভাস এবং সতর্কীকরণ কেন্দ...   \n",
              "\n",
              "                                                text  \\\n",
              "0  আটক স্বজনদের আইডি কার্ড হাতে উইগুর নারীদের বিক...   \n",
              "1  ভারতের অন্য অঞ্চলেও কোক, পেপসি নিষিদ্ধ করার দা...   \n",
              "2  সোহরাওয়ার্দী হাসপাতালের চিত্র সাধারণত সেপ্টেম...   \n",
              "3  ডোনাল্ড ট্রাম্প অভিযোগ করেছেন টু্‌ইটার আমেরিকা...   \n",
              "4  বন্যার প্রকোপ ছড়িয়ে পড়ছে সারা দেশে। বাংলাদে...   \n",
              "\n",
              "                                   predicted_summary  \n",
              "0   জাতিসংঘের জাতিগত বৈষম্য বিষয়ক কমিটির সদস্য গ...  \n",
              "1   ভারতের অন্য অঞ্চলেও কোক, পেপসি নিষিদ্ধ করার দ...  \n",
              "2   ডেঙ্গু প্রকোপে সোহরাওয়ার্দী হাসপাতালে চিকিৎস...  \n",
              "3   মি. ট্রাম্প টুইটারে ভোটের কাগজ সম্পর্কে অস্বী...  \n",
              "4   বাংলাদেশে বন্যাপ্লাবনের প্রকোপ সবচেয়ে বেশি ক...  "
            ]
          },
          "execution_count": 19,
          "metadata": {},
          "output_type": "execute_result"
        }
      ],
      "source": [
        "ts_results = pd.read_parquet(\"aya_101_ts_summary_results.parquet\")\n",
        "ts_results.head()"
      ]
    },
    {
      "cell_type": "code",
      "execution_count": null,
      "id": "b8Mq6o4AWslX",
      "metadata": {
        "id": "b8Mq6o4AWslX"
      },
      "outputs": [],
      "source": [
        "# Empty the GPU cache\n",
        "torch.cuda.empty_cache()"
      ]
    },
    {
      "cell_type": "markdown",
      "id": "l2e7Ff4k3d8o",
      "metadata": {
        "id": "l2e7Ff4k3d8o"
      },
      "source": [
        "### Chain of Thought"
      ]
    },
    {
      "cell_type": "code",
      "execution_count": null,
      "id": "TjJ6x4FcQajH",
      "metadata": {
        "colab": {
          "base_uri": "https://localhost:8080/",
          "height": 49,
          "referenced_widgets": [
            "4c9c514946124afda4b8c9f32266b035",
            "064ad1f9a5c6402a8c74bc6d8a46d288",
            "fdedaf2162ab43518ddd90823b8fd201",
            "c92cf36e16b94beda6f3b42758fcc86d",
            "d0128b50c8dc4415aca7f7d7fbffce5d",
            "d0ffae1159484e7ea9d06f8381f2a8e0",
            "73427a5595d740a48e4b28a4bd01a512",
            "1a35b945800948b79361f2080e94cf68",
            "a75204a13c75453f85b3459a35b6f6f2",
            "68ffef10cbd54063961dfb12f20c957e",
            "a956c4a0613a4d16b42a39aa1faf8779"
          ]
        },
        "id": "TjJ6x4FcQajH",
        "outputId": "4e41bf19-714d-4661-b2e0-eb570cab3aac"
      },
      "outputs": [
        {
          "data": {
            "application/vnd.jupyter.widget-view+json": {
              "model_id": "4c9c514946124afda4b8c9f32266b035",
              "version_major": 2,
              "version_minor": 0
            },
            "text/plain": [
              "  0%|          | 0/512 [00:00<?, ?it/s]"
            ]
          },
          "metadata": {},
          "output_type": "display_data"
        }
      ],
      "source": [
        "import time\n",
        "from tqdm.notebook import tqdm\n",
        "\n",
        "# Assuming df is the original DataFrame and category_translation is defined\n",
        "df['predicted_summary'] = None\n",
        "\n",
        "# Try to load the progress from the Parquet file\n",
        "try:\n",
        "    df_progress = pd.read_parquet('aya_101_cot_summary_results.parquet')\n",
        "    start_index = df_progress['predicted_summary'].last_valid_index() + 1\n",
        "except (FileNotFoundError, ValueError):\n",
        "    df_progress = df.copy()\n",
        "    start_index = 0\n",
        "\n",
        "\n",
        "for i, row in tqdm(df.iloc[start_index:].iterrows(), initial=start_index, total=len(df) - start_index):\n",
        "    text_body = row['text']\n",
        "\n",
        "    prompt_input = chain_of_thought + \"### বিবরণ: \" + text_body\n",
        "\n",
        "    try:\n",
        "        df.at[i, 'predicted_summary'] = get_aya_output(prompt_input)\n",
        "    except Exception as e:\n",
        "        print(f\"Error at index {i}: {e}\")\n",
        "        time.sleep(5)\n",
        "\n",
        "    if (i + 1) % 100 == 0:\n",
        "        df.to_parquet('aya_101_cot_summary_results.parquet')\n",
        "\n",
        "# Save final progress\n",
        "df.to_parquet('aya_101_cot_summary_results.parquet')"
      ]
    },
    {
      "cell_type": "code",
      "execution_count": null,
      "id": "Ht08IIkYQajH",
      "metadata": {
        "colab": {
          "base_uri": "https://localhost:8080/",
          "height": 712
        },
        "id": "Ht08IIkYQajH",
        "outputId": "f5e959ba-1048-45ff-c7c3-787e8f8d3b19"
      },
      "outputs": [
        {
          "data": {
            "application/vnd.google.colaboratory.intrinsic+json": {
              "summary": "{\n  \"name\": \"cot_results\",\n  \"rows\": 5,\n  \"fields\": [\n    {\n      \"column\": \"id\",\n      \"properties\": {\n        \"dtype\": \"string\",\n        \"num_unique_values\": 5,\n        \"samples\": [\n          \"news-47308375\",\n          \"151117_isis_terror_finance_syria_iraq_oil_kidnappings_gch\",\n          \"news-51280964\"\n        ],\n        \"semantic_type\": \"\",\n        \"description\": \"\"\n      }\n    },\n    {\n      \"column\": \"url\",\n      \"properties\": {\n        \"dtype\": \"string\",\n        \"num_unique_values\": 5,\n        \"samples\": [\n          \"https://www.bbc.com/bengali/news-47308375\",\n          \"https://www.bbc.com/bengali/news/2015/11/151117_isis_terror_finance_syria_iraq_oil_kidnappings_gch\",\n          \"https://www.bbc.com/bengali/news-51280964\"\n        ],\n        \"semantic_type\": \"\",\n        \"description\": \"\"\n      }\n    },\n    {\n      \"column\": \"title\",\n      \"properties\": {\n        \"dtype\": \"string\",\n        \"num_unique_values\": 5,\n        \"samples\": [\n          \"\\u0986\\u09aa\\u09c7\\u09b2-\\u09b8\\u09cd\\u099f\\u09cd\\u09b0\\u09ac\\u09c7\\u09b0\\u09bf\\u09b0 \\u09a6\\u09b0\\u0995\\u09be\\u09b0 \\u09a8\\u09c7\\u0987, \\u09ac\\u09be\\u0999\\u09be\\u09b2\\u09bf\\u09b0\\u09be \\u09aa\\u09c7\\u09af\\u09bc\\u09be\\u09b0\\u09be \\u09ac\\u09be \\u09ac\\u09b0\\u0987 \\u0996\\u09c7\\u09b2\\u09c7\\u0993 \\u098f\\u0995\\u0987 \\u0989\\u09aa\\u0995\\u09be\\u09b0 \\u09aa\\u09be\\u09ac\\u09c7\\u09a8 -\\u0987\\u0989\\u09a8\\u09bf\\u09b8\\u09c7\\u09ab \\u0995\\u09b0\\u09cd\\u09ae\\u0995\\u09b0\\u09cd\\u09a4\\u09be\",\n          \"\\u0987\\u09b8\\u09b2\\u09be\\u09ae\\u09bf\\u0995 \\u09b8\\u09cd\\u099f\\u09c7\\u099f \\u0995\\u09cb\\u09a5\\u09be \\u09a5\\u09c7\\u0995\\u09c7 \\u0985\\u09b0\\u09cd\\u09a5 \\u09aa\\u09be\\u09af\\u09bc?\",\n          \"\\u0995\\u09b0\\u09cb\\u09a8\\u09be\\u09ad\\u09be\\u0987\\u09b0\\u09be\\u09b8: \\u099a\\u09c0\\u09a8\\u09c7\\u09b0 \\u09ad\\u09be\\u0987\\u09b0\\u09be\\u09b8 \\u0986\\u0995\\u09cd\\u09b0\\u09be\\u09a8\\u09cd\\u09a4 \\u0989\\u09b9\\u09be\\u09a8\\u09c7\\u09b0 \\u098f\\u0995\\u09be\\u09a4\\u09cd\\u09ae\\u09a4\\u09be\\u09b0 \\u0997\\u09b2\\u09cd\\u09aa\"\n        ],\n        \"semantic_type\": \"\",\n        \"description\": \"\"\n      }\n    },\n    {\n      \"column\": \"summary\",\n      \"properties\": {\n        \"dtype\": \"string\",\n        \"num_unique_values\": 5,\n        \"samples\": [\n          \"\\u09b8\\u09cd\\u09a5\\u09be\\u09a8\\u09c0\\u09af\\u09bc\\u09ad\\u09be\\u09ac\\u09c7 \\u0989\\u09ce\\u09aa\\u09be\\u09a6\\u09bf\\u09a4 \\u09b6\\u09be\\u0995\\u09b8\\u09ac\\u09cd\\u099c\\u09bf \\u09ac\\u09be \\u09a1\\u09bf\\u09ae, \\u09ab\\u09b2\\u09ae\\u09c2\\u09b2 \\u0987\\u09a4\\u09cd\\u09af\\u09be\\u09a6\\u09bf \\u09a5\\u09c7\\u0995\\u09c7\\u0987 \\u09af\\u09c7 \\u09b6\\u09b0\\u09c0\\u09b0\\u09c7\\u09b0 \\u09aa\\u09cd\\u09b0\\u09af\\u09bc\\u09cb\\u099c\\u09a8\\u09c0\\u09af\\u09bc \\u09aa\\u09c1\\u09b7\\u09cd\\u099f\\u09bf \\u09aa\\u09be\\u0993\\u09af\\u09bc\\u09be \\u09b8\\u09ae\\u09cd\\u09ad\\u09ac - \\u0986\\u09b0 \\u098f\\u09b0 \\u099c\\u09a8\\u09cd\\u09af \\u09ac\\u09be\\u0987\\u09b0\\u09c7 \\u09a5\\u09c7\\u0995\\u09c7 \\u0996\\u09be\\u09ac\\u09be\\u09b0 \\u0986\\u09ae\\u09a6\\u09be\\u09a8\\u09bf\\u09b0 \\u0995\\u09cb\\u09a8\\u0993 \\u09aa\\u09cd\\u09b0\\u09af\\u09bc\\u09cb\\u099c\\u09a8 \\u09a8\\u09c7\\u0987 - \\u098f\\u0987 \\u09ac\\u09be\\u09b0\\u09cd\\u09a4\\u09be \\u09a6\\u09bf\\u09a4\\u09c7 \\u09ad\\u09be\\u09b0\\u09a4 \\u099c\\u09c1\\u09a1\\u09bc\\u09c7 \\u09b6\\u09c1\\u09b0\\u09c1 \\u09b9\\u09af\\u09bc\\u09c7\\u099b\\u09c7 \\u098f\\u0995 \\u09ac\\u09bf\\u09b6\\u09be\\u09b2 \\u0995\\u09cd\\u09af\\u09be\\u09ae\\u09cd\\u09aa\\u09c7\\u09a8\\u0964\",\n          \"\\u09ab\\u09cd\\u09b0\\u09be\\u09a8\\u09cd\\u09b8\\u09c7\\u09b0 \\u09b0\\u09be\\u099c\\u09a7\\u09be\\u09a8\\u09c0 \\u09aa\\u09cd\\u09af\\u09be\\u09b0\\u09bf\\u09b8\\u09c7 \\u0997\\u09a4 \\u09b6\\u09c1\\u0995\\u09cd\\u09b0\\u09ac\\u09be\\u09b0\\u09c7\\u09b0 \\u0986\\u0995\\u09cd\\u09b0\\u09ae\\u09a3 \\u0986\\u09ac\\u09be\\u09b0 \\u099c\\u0999\\u09cd\\u0997\\u09bf \\u0997\\u09cb\\u09b7\\u09cd\\u09a0\\u09c0 \\u0987\\u09b8\\u09b2\\u09be\\u09ae\\u09bf\\u0995 \\u09b8\\u09cd\\u099f\\u09c7\\u099f-\\u098f\\u09b0 \\u09a6\\u09bf\\u0995\\u09c7 \\u09ac\\u09bf\\u09b6\\u09cd\\u09ac\\u09c7\\u09b0 \\u09a8\\u099c\\u09b0 \\u09ab\\u09bf\\u09b0\\u09bf\\u09af\\u09bc\\u09c7\\u099b\\u09c7\\u0964\",\n          \"\\u0995\\u09b0\\u09cb\\u09a8\\u09be\\u09ad\\u09be\\u0987\\u09b0\\u09be\\u09b8\\u09c7 \\u0986\\u0995\\u09cd\\u09b0\\u09be\\u09a8\\u09cd\\u09a4 \\u09ae\\u09be\\u09a8\\u09c1\\u09b7\\u09c7\\u09b0 \\u09b8\\u0982\\u0996\\u09cd\\u09af\\u09be \\u09af\\u0996\\u09a8 \\u09ac\\u09be\\u09a1\\u09bc\\u099b\\u09c7, \\u099a\\u09c0\\u09a8\\u09c7\\u09b0 \\u0989\\u09b9\\u09be\\u09a8 \\u09b6\\u09b9\\u09b0\\u09c7 \\u09a4\\u0996\\u09a8 \\u09b2\\u09be\\u0996 \\u09b2\\u09be\\u0996 \\u09ae\\u09be\\u09a8\\u09c1\\u09b7 \\u0985\\u09ac\\u09b0\\u09c1\\u09a6\\u09cd\\u09a7 \\u09b9\\u09af\\u09bc\\u09c7 \\u09aa\\u09a1\\u09bc\\u09c7\\u099b\\u09c7- \\u09af\\u09be\\u09b0 \\u0995\\u09be\\u09b0\\u09a3 \\u09aa\\u09cd\\u09b0\\u09be\\u09a6\\u09c1\\u09b0\\u09cd\\u09ad\\u09be\\u09ac\\u09c7\\u09b0 \\u0995\\u09c7\\u09a8\\u09cd\\u09a6\\u09cd\\u09b0\\u09b8\\u09cd\\u09a5\\u09b2 \\u09a5\\u09c7\\u0995\\u09c7 \\u09b0\\u09cb\\u0997\\u099f\\u09bf \\u099b\\u09a1\\u09bc\\u09bf\\u09af\\u09bc\\u09c7 \\u09aa\\u09a1\\u09bc\\u09be \\u09a0\\u09c7\\u0995\\u09be\\u09a8\\u09cb\\u0964 \\u0995\\u09bf\\u09a8\\u09cd\\u09a4\\u09c1 \\u098f\\u0987 \\u0995\\u09a0\\u09bf\\u09a8 \\u09b8\\u09ae\\u09af\\u09bc\\u09c7\\u0993 \\u0985\\u09a8\\u09c7\\u0995 \\u09ae\\u09be\\u09a8\\u09c1\\u09b7 \\u098f\\u0995\\u09c7 \\u0985\\u09a8\\u09cd\\u09af\\u09c7\\u09b0 \\u09a6\\u09bf\\u0995\\u09c7 \\u09b8\\u09be\\u09b9\\u09be\\u09af\\u09cd\\u09af\\u09c7\\u09b0 \\u09b9\\u09be\\u09a4 \\u09ac\\u09be\\u09a1\\u09bc\\u09bf\\u09af\\u09bc\\u09c7 \\u09a6\\u09bf\\u09af\\u09bc\\u09c7\\u099b\\u09c7\\u09a8\\u0964\"\n        ],\n        \"semantic_type\": \"\",\n        \"description\": \"\"\n      }\n    },\n    {\n      \"column\": \"text\",\n      \"properties\": {\n        \"dtype\": \"string\",\n        \"num_unique_values\": 5,\n        \"samples\": [\n          \"\\u09aa\\u09c7\\u09af\\u09bc\\u09be\\u09b0\\u09be \\u09ac\\u09be\\u0997\\u09be\\u09a8 \\u09a5\\u09c7\\u0995\\u09c7 \\u09a4\\u09cb\\u09b2\\u09be \\u09b9\\u099a\\u09cd\\u099b\\u09c7 \\u09ab\\u09b8\\u09b2\\u0964 \\u09ab\\u09be\\u0987\\u09b2 \\u099b\\u09ac\\u09bf \\u099c\\u09be\\u09a4\\u09bf\\u09b8\\u0982\\u0998\\u09c7\\u09b0 \\u09b8\\u0982\\u09b8\\u09cd\\u09a5\\u09be \\u0987\\u0989\\u09a8\\u09bf\\u09b8\\u09c7\\u09ab\\u0993 \\u098f\\u0987 \\u0985\\u09ad\\u09bf\\u09af\\u09be\\u09a8\\u09c7 \\u09b8\\u0995\\u09cd\\u09b0\\u09bf\\u09af\\u09bc \\u09b8\\u09ae\\u09b0\\u09cd\\u09a5\\u09a8 \\u099c\\u09be\\u09a8\\u09be\\u099a\\u09cd\\u099b\\u09c7 - \\u09af\\u09be\\u09b0 \\u09ae\\u09c2\\u09b2 \\u0995\\u09a5\\u09be\\u099f\\u09be \\u09b9\\u09b2 \\u09b8\\u09cd\\u09a5\\u09be\\u09a8\\u09c0\\u09af\\u09bc \\u0996\\u09be\\u09ac\\u09be\\u09b0 \\u09ac\\u09be '\\u09b2\\u09cb\\u0995\\u09be\\u09b2 \\u09ab\\u09c1\\u09a1 \\u09b8\\u09bf\\u09b8\\u09cd\\u099f\\u09c7\\u09ae'-\\u0987 \\u0986\\u09ae\\u09be\\u09b0 \\u0986\\u09aa\\u09a8\\u09be\\u09b0 \\u09aa\\u09cd\\u09b0\\u09af\\u09bc\\u09cb\\u099c\\u09a8 \\u09ae\\u09c7\\u099f\\u09be\\u09a4\\u09c7 \\u09af\\u09a5\\u09c7\\u09b7\\u09cd\\u09a0\\u0964 \\u09ad\\u09be\\u09b0\\u09a4\\u09c7 \\u0987\\u0989\\u09a8\\u09bf\\u09b8\\u09c7\\u09ab\\u09c7\\u09b0 \\u09aa\\u09cd\\u09b0\\u09a7\\u09be\\u09a8 \\u0987\\u09af\\u09bc\\u09be\\u09b8\\u09ae\\u09bf\\u09a8 \\u0986\\u09b2\\u09bf \\u09b9\\u0995 \\u098f\\u0995\\u099c\\u09a8 \\u09ac\\u09be\\u0982\\u09b2\\u09be\\u09a6\\u09c7\\u09b6\\u09c0 \\u09a8\\u09be\\u0997\\u09b0\\u09bf\\u0995, \\u09a4\\u09bf\\u09a8\\u09bf \\u09ac\\u09b2\\u099b\\u09c7\\u09a8 \\u098f\\u0987 \\u0995\\u09a5\\u09be\\u099f\\u09be \\u09ad\\u09be\\u09b0\\u09a4\\u09c7\\u09b0 \\u099c\\u09a8\\u09cd\\u09af \\u09af\\u09c7\\u09ae\\u09a8 - \\u09a4\\u09c7\\u09ae\\u09a8\\u09bf \\u09ac\\u09be\\u0982\\u09b2\\u09be\\u09a6\\u09c7\\u09b6\\u09c7\\u09b0 \\u099c\\u09a8\\u09cd\\u09af\\u0993 \\u09b8\\u09a4\\u09cd\\u09af\\u09bf\\u0964 \\u09a1: \\u09b9\\u0995 \\u09ac\\u09bf\\u09ac\\u09bf\\u09b8\\u09bf \\u09ac\\u09be\\u0982\\u09b2\\u09be\\u0995\\u09c7 \\u09ac\\u09b2\\u099b\\u09bf\\u09b2\\u09c7\\u09a8, \\\"\\u09b2\\u09cb\\u0995\\u09be\\u09b2 \\u09ab\\u09c1\\u09a1 \\u09b8\\u09bf\\u09b8\\u09cd\\u099f\\u09c7\\u09ae \\u09ac\\u09b2\\u09a4\\u09c7 \\u0986\\u09ae\\u09b0\\u09be \\u09ac\\u09cb\\u099d\\u09be\\u099a\\u09cd\\u099b\\u09bf \\u0986\\u09ae\\u09be\\u09b0 \\u09ac\\u09be\\u09a1\\u09bc\\u09bf\\u09b0 \\u0986\\u0999\\u09bf\\u09a8\\u09be\\u09af\\u09bc \\u09af\\u09c7\\u099f\\u09be \\u09aa\\u09be\\u0993\\u09af\\u09bc\\u09be \\u09af\\u09be\\u099a\\u09cd\\u099b\\u09c7, \\u0995\\u09bf\\u0982\\u09ac\\u09be \\u0986\\u09ae\\u09be\\u09b0 \\u09ac\\u09be\\u09a1\\u09bc\\u09bf\\u09b0 \\u09aa\\u09be\\u09b6\\u09c7\\u09b0 \\u09ac\\u09be\\u099c\\u09be\\u09b0\\u09c7 \\u09af\\u09c7\\u0997\\u09c1\\u09b2\\u09cb \\u09b8\\u09ac \\u09b8\\u09ae\\u09af\\u09bc \\u09aa\\u09be\\u0993\\u09af\\u09bc\\u09be \\u09af\\u09be\\u099a\\u09cd\\u099b\\u09c7 \\u09b8\\u09c7\\u0997\\u09c1\\u09b2\\u09cb\\u0995\\u09c7\\u0964\\\" \\u0986\\u09b0\\u09cb \\u09aa\\u09a1\\u09bc\\u09c1\\u09a8: \\u0995\\u09cb\\u09a8 \\u09a7\\u09b0\\u09a3\\u09c7\\u09b0 \\u09b6\\u09b0\\u09cd\\u0995\\u09b0\\u09be \\u0995\\u09a4\\u099f\\u09c1\\u0995\\u09c1 \\u0996\\u09be\\u0993\\u09af\\u09bc\\u09be \\u0989\\u099a\\u09bf\\u09a4? \\u0996\\u09be\\u09ac\\u09be\\u09b0 \\u09a8\\u09bf\\u09af\\u09bc\\u09c7 \\u09b8\\u09be\\u09ac\\u09a7\\u09be\\u09a8 \\u09b9\\u099a\\u09cd\\u099b\\u09c7\\u09a8 \\u09ac\\u09be\\u0982\\u09b2\\u09be\\u09a6\\u09c7\\u09b6\\u09c7\\u09b0 \\u09a8\\u09be\\u09b0\\u09c0\\u09b0\\u09be \\u0985\\u09a4\\u09bf\\u09b0\\u09bf\\u0995\\u09cd\\u09a4 \\u09aa\\u09cd\\u09b0\\u0995\\u09cd\\u09b0\\u09bf\\u09af\\u09bc\\u09be\\u099c\\u09be\\u09a4 \\u0996\\u09be\\u09ac\\u09be\\u09b0\\u09c7 \\u0995\\u09cd\\u09af\\u09be\\u09a8\\u09cd\\u09b8\\u09be\\u09b0\\u09c7\\u09b0 \\u099d\\u09c1\\u0981\\u0995\\u09bf \\u09ac\\u09be\\u09a1\\u09bc\\u09c7 \\u099c\\u09c7\\u09a8\\u09c7 \\u09a8\\u09bf\\u09a8 \\u09ac\\u09bf\\u09b6\\u09cd\\u09ac\\u09c7\\u09b0 \\u0995\\u09cb\\u09a8 \\u0996\\u09be\\u09ac\\u09be\\u09b0\\u0997\\u09c1\\u09b2\\u09cb \\u09aa\\u09b0\\u09bf\\u09ac\\u09c7\\u09b6 \\u09ac\\u09be\\u09a8\\u09cd\\u09a7\\u09ac \\u0987\\u09af\\u09bc\\u09be\\u09b8\\u09ae\\u09bf\\u09a8 \\u0986\\u09b2\\u09bf \\u09b9\\u0995 \\\"\\u098f\\u0996\\u09be\\u09a8\\u09c7 \\u0986\\u09b8\\u09b2\\u09c7 \\u0997\\u09b0\\u09cd\\u09ad\\u09ac\\u09a4\\u09c0 \\u09ae\\u09be-\\u0987 \\u09ac\\u09b2\\u09c1\\u09a8 \\u09ac\\u09be \\u09ac\\u09be\\u099a\\u09cd\\u099a\\u09be\\u09b0\\u09be, \\u09a4\\u09be\\u09a6\\u09c7\\u09b0 \\u0995\\u09c0 \\u0996\\u09be\\u09ac\\u09be\\u09b0 \\u09a6\\u09c7\\u0993\\u09af\\u09bc\\u09be \\u09b9\\u09ac\\u09c7 \\u09b8\\u09c7\\u0996\\u09be\\u09a8\\u09c7 \\u09b2\\u09cb\\u0995\\u09be\\u09b2 \\u09ab\\u09c1\\u09a1 \\u09b8\\u09bf\\u09b8\\u09cd\\u099f\\u09c7\\u09ae\\u09c7\\u09b0 \\u098f\\u0995\\u099f\\u09be \\u09ac\\u09a1\\u09bc \\u09ad\\u09c2\\u09ae\\u09bf\\u0995\\u09be \\u09a5\\u09be\\u0995\\u09be \\u0989\\u099a\\u09bf\\u09a4\\u0964 \\\"\\u098f\\u0995\\u099f\\u09be \\u09ac\\u09be\\u099a\\u09cd\\u099a\\u09be\\u0995\\u09c7 \\u09b8\\u09cd\\u09a8\\u09cd\\u09af\\u09be\\u0995\\u09b8 \\u09a6\\u09c7\\u0993\\u09af\\u09bc\\u09be\\u09b0 \\u09b8\\u09ae\\u09af\\u09bc \\u0986\\u09ae\\u09b0\\u09be \\u09a4\\u09be\\u0995\\u09c7 \\u098f\\u0995\\u099f\\u09be \\u0997\\u09be\\u099c\\u09b0, \\u0995\\u09ae\\u09b2\\u09be\\u09b2\\u09c7\\u09ac\\u09c1 \\u09ac\\u09be \\u09aa\\u09c7\\u09af\\u09bc\\u09be\\u09b0\\u09be \\u09a6\\u09bf\\u09a4\\u09c7 \\u09aa\\u09be\\u09b0\\u09bf\\u0964 \\u0995\\u09bf\\u09a8\\u09cd\\u09a4\\u09c1 \\u09b8\\u09c7\\u0997\\u09c1\\u09b2\\u09cb \\u09a8\\u09be-\\u09a6\\u09bf\\u09af\\u09bc\\u09c7 \\u0986\\u09ae\\u09b0\\u09be \\u09a4\\u09be\\u0995\\u09c7 \\u0995\\u09ae\\u09be\\u09b0\\u09cd\\u09b6\\u09bf\\u09af\\u09bc\\u09be\\u09b2\\u09bf \\u0985\\u09cd\\u09af\\u09be\\u09ad\\u09c7\\u09b2\\u09c7\\u09ac\\u09b2 \\u098f\\u0995\\u099f\\u09be \\u09ac\\u09bf\\u09b8\\u09cd\\u0995\\u09c1\\u099f\\u09c7\\u09b0 \\u09aa\\u09cd\\u09af\\u09be\\u0995\\u09c7\\u099f \\u09a7\\u09b0\\u09bf\\u09af\\u09bc\\u09c7 \\u09a6\\u09bf\\u099a\\u09cd\\u099b\\u09bf \\u0995\\u09bf \\u09a8\\u09be, \\u09aa\\u09cd\\u09b0\\u09b6\\u09cd\\u09a8 \\u09b8\\u09c7\\u099f\\u09be\\u0987\\u0964\\\" \\\"\\u09b2\\u09cb\\u0995\\u09be\\u09b2 \\u09ab\\u09c1\\u09a1 \\u09b8\\u09bf\\u09b8\\u09cd\\u099f\\u09c7\\u09ae \\u09ac\\u09b2\\u099b\\u09c7 \\u0986\\u09ae\\u09be\\u09a6\\u09c7\\u09b0 \\u09b8\\u09cd\\u09a5\\u09be\\u09a8\\u09c0\\u09af\\u09bc\\u09ad\\u09be\\u09ac\\u09c7 \\u0989\\u09ce\\u09aa\\u09be\\u09a6\\u09bf\\u09a4 \\u0996\\u09be\\u09ac\\u09be\\u09b0\\u09a6\\u09be\\u09ac\\u09be\\u09b0\\u09c7\\u0987 \\u09b8\\u09ac\\u099a\\u09c7\\u09af\\u09bc\\u09c7 \\u09ac\\u09c7\\u09b6\\u09bf \\u0997\\u09c1\\u09b0\\u09c1\\u09a4\\u09cd\\u09ac \\u09a6\\u09c7\\u0993\\u09af\\u09bc\\u09be \\u0989\\u099a\\u09bf\\u09a4, \\u098f\\u0987 \\u09a7\\u09b0\\u09a8\\u09c7\\u09b0 \\u09aa\\u09c1\\u09b7\\u09cd\\u099f\\u09bf\\u0995\\u09b0 \\u0996\\u09be\\u09ac\\u09be\\u09b0\\u09c7\\u09b0 \\u099c\\u09a8\\u09cd\\u09af\\u0987 \\u09b8\\u09ac\\u099a\\u09c7\\u09af\\u09bc\\u09c7 \\u09ac\\u09c7\\u09b6\\u09bf \\u09b8\\u0993\\u09af\\u09bc\\u09be\\u09b2 \\u0995\\u09b0\\u09be \\u0989\\u099a\\u09bf\\u09a4\\\", \\u09ac\\u09b2\\u099b\\u09bf\\u09b2\\u09c7\\u09a8 \\u09a1: \\u09b9\\u0995\\u0964 \\u09a4\\u09ac\\u09c7 \\u09ad\\u09be\\u09b0\\u09a4\\u09c7\\u09b0 \\u09ae\\u09a4\\u09cb \\u09ac\\u09bf\\u09b6\\u09be\\u09b2 \\u09a6\\u09c7\\u09b6\\u09c7 \\u09aa\\u09cd\\u09b0\\u09a4\\u09bf\\u099f\\u09bf \\u09b0\\u09be\\u099c\\u09cd\\u09af\\u09c7, \\u098f\\u09ae\\u09a8 \\u0995\\u09c0 \\u09a6\\u09c7\\u09b6\\u09c7\\u09b0 \\u09aa\\u09cd\\u09b0\\u09a4\\u09bf\\u099f\\u09bf \\u099c\\u09c7\\u09b2\\u09be\\u09a4\\u09c7\\u0993 \\u09af\\u09c7 \\u09b8\\u09cd\\u09a5\\u09be\\u09a8\\u09c0\\u09af\\u09bc \\u0996\\u09be\\u09ac\\u09be\\u09b0\\u09c7\\u09b0 \\u09a7\\u09b0\\u09a8\\u099f\\u09be \\u09aa\\u09be\\u09b2\\u09cd\\u099f\\u09c7 \\u09af\\u09c7\\u09a4\\u09c7 \\u09aa\\u09be\\u09b0\\u09c7 \\u09b8\\u09c7 \\u0995\\u09a5\\u09be\\u0993 \\u0987\\u0989\\u09a8\\u09bf\\u09b8\\u09c7\\u09ab \\u09ae\\u09a8\\u09c7 \\u0995\\u09b0\\u09bf\\u09af\\u09bc\\u09c7 \\u09a6\\u09bf\\u099a\\u09cd\\u099b\\u09c7\\u0964 \\u09ac\\u09bf\\u09ac\\u09bf\\u09b8\\u09bf \\u09ac\\u09be\\u0982\\u09b2\\u09be\\u09b0 \\u0985\\u09a8\\u09cd\\u09af\\u09be\\u09a8\\u09cd\\u09af \\u0996\\u09ac\\u09b0: \\u09b8\\u09cc\\u09a6\\u09bf \\u0986\\u09b0\\u09ac\\u09c7\\u09b0 \\u09aa\\u09cd\\u09b0\\u09a5\\u09ae \\u09a8\\u09be\\u09b0\\u09c0 \\u098f\\u0987 \\u09b0\\u09be\\u09b7\\u09cd\\u099f\\u09cd\\u09b0\\u09a6\\u09c2\\u09a4 \\u0995\\u09c7? \\u099a\\u0995\\u09ac\\u09be\\u099c\\u09be\\u09b0\\u09c7\\u09b0 \\u0986\\u0997\\u09c1\\u09a8 \\u09a0\\u09c7\\u0995\\u09be\\u09a8\\u09cb\\u09b0 \\u09b8\\u09c1\\u09af\\u09cb\\u0997 \\u099b\\u09bf\\u09b2\\u09cb? \\u0995\\u09c7 \\u0996\\u09c1\\u09a8 \\u0995\\u09b0\\u09b2\\u09cb \\u0997\\u09b0\\u09c1\\u09b0 \\u0996\\u09be\\u09ae\\u09be\\u09b0\\u09bf \\u09b0\\u09be\\u0995\\u09ac\\u09be\\u09b0 \\u0996\\u09be\\u09a8\\u0995\\u09c7? \\u0995\\u09cd\\u09b0\\u09c0\\u09a1\\u09bc\\u09be\\u09ac\\u09bf\\u09a6\\u09a6\\u09c7\\u09b0 \\u0997\\u09ad\\u09c0\\u09b0 \\u0998\\u09c1\\u09ae\\u09c7\\u09b0 \\u0997\\u09cb\\u09aa\\u09a8 \\u09b8\\u09c2\\u09a4\\u09cd\\u09b0 \\u0995\\u09c0? \\u09ac\\u09be\\u0982\\u09b2\\u09be\\u09a6\\u09c7\\u09b6\\u09c7\\u09b0 \\u09a8\\u09be\\u09b0\\u09be\\u09af\\u09bc\\u09a3\\u0997\\u099e\\u09cd\\u099c\\u09c7 \\u0997\\u09cd\\u09b0\\u09be\\u09ae\\u09c7\\u09b0 \\u098f\\u0995\\u099f\\u09bf \\u09ac\\u09be\\u099c\\u09be\\u09b0 \\\"\\u0986\\u09b8\\u09b2\\u09c7 \\u098f\\u0995 \\u098f\\u0995 \\u099c\\u09c7\\u09b2\\u09be\\u09a4\\u09c7 \\u098f\\u0995 \\u098f\\u0995 \\u09b0\\u0995\\u09ae \\u09aa\\u09b0\\u09bf\\u09ac\\u09c7\\u09b6, \\u098f\\u0995 \\u098f\\u0995 \\u09b0\\u0995\\u09ae \\u0986\\u09ac\\u09b9\\u09be\\u0993\\u09af\\u09bc\\u09be\\u0964 \\u0995\\u09cb\\u09a5\\u09be\\u0993 \\u09ae\\u09bf\\u09b2\\u09c7\\u099f (\\u099c\\u09cb\\u09af\\u09bc\\u09be\\u09b0, \\u09ac\\u09be\\u099c\\u09b0\\u09be, \\u09af\\u09ac) \\u09b9\\u099a\\u09cd\\u099b\\u09c7, \\u0995\\u09cb\\u09a5\\u09be\\u0993 \\u0986\\u09ac\\u09be\\u09b0 \\u09ad\\u09be\\u09a4\\u099f\\u09be\\u0987 \\u09aa\\u09cd\\u09b0\\u09a7\\u09be\\u09a8 \\u0996\\u09be\\u09a6\\u09cd\\u09af\\u0964\\\" \\\"\\u0986\\u09ac\\u09be\\u09b0 \\u098f\\u09ae\\u09a8 \\u0995\\u09cb\\u09a8\\u0993 \\u099c\\u09c7\\u09b2\\u09be \\u09a8\\u09c7\\u0987 \\u09af\\u09c7\\u0996\\u09be\\u09a8\\u09c7 \\u0995\\u09bf\\u099b\\u09c1 \\u09a8\\u09be-\\u0995\\u09bf\\u099b\\u09c1 \\u09b8\\u09cd\\u09a5\\u09be\\u09a8\\u09c0\\u09af\\u09bc \\u09ab\\u09b2 \\u09ac\\u09be \\u09b6\\u09be\\u0995 \\u0989\\u09ce\\u09aa\\u09be\\u09a6\\u09bf\\u09a4 \\u09b9\\u099a\\u09cd\\u099b\\u09c7 \\u09a8\\u09be\\u0964\\\" \\\"\\u09a1\\u09bf\\u09ae \\u09a4\\u09cb \\u0986\\u09ac\\u09be\\u09b0 \\u09aa\\u09cd\\u09b0\\u09be\\u09af\\u09bc \\u09b8\\u09ac \\u099c\\u09be\\u09af\\u09bc\\u0997\\u09be\\u09a4\\u09c7\\u0987 \\u09b9\\u099a\\u09cd\\u099b\\u09c7, \\u0995\\u09bf\\u09a8\\u09cd\\u09a4\\u09c1 \\u0986\\u09ae\\u09b0\\u09be \\u098f\\u0996\\u09a8 \\u09a6\\u09c7\\u0996\\u099b\\u09bf \\u09ac\\u09be\\u099a\\u09cd\\u099a\\u09be\\u09b0\\u09be \\u09a1\\u09bf\\u09ae \\u09a8\\u09be-\\u0996\\u09c7\\u09af\\u09bc\\u09c7 \\u09ac\\u09be\\u0987\\u09b0\\u09c7 \\u09a5\\u09c7\\u0995\\u09c7 \\u0986\\u09a8\\u09be \\u0985\\u09a8\\u09cd\\u09af \\u0996\\u09be\\u09ac\\u09be\\u09b0\\u09c7\\u09b0 \\u09a6\\u09bf\\u0995\\u09c7 \\u099d\\u09c1\\u0981\\u0995\\u099b\\u09c7\\u0964\\\" \\\"\\u0986\\u09ae\\u09be\\u09a6\\u09c7\\u09b0 \\u0995\\u09a5\\u09be\\u099f\\u09be \\u0996\\u09c1\\u09ac \\u09b8\\u09b9\\u099c, \\u09a8\\u09bf\\u099c\\u09c7\\u09b0 \\u09ac\\u09be\\u09a1\\u09bc\\u09bf\\u09b0 \\u0986\\u0999\\u09bf\\u09a8\\u09be\\u09af\\u09bc \\u098f\\u0995\\u099f\\u09c1 \\u0995\\u09c1\\u09ae\\u09a1\\u09bc\\u09cb, \\u09b2\\u09be\\u09b2\\u09b6\\u09be\\u0995 \\u09ac\\u09be \\u09aa\\u09c1\\u0981\\u0987\\u09b6\\u09be\\u0995\\u0993 \\u09a4\\u09cb \\u0986\\u09ae\\u09b0\\u09be \\u09b2\\u09be\\u0997\\u09be\\u09a4\\u09c7 \\u09aa\\u09be\\u09b0\\u09bf\\u0964 \\u09a4\\u09be \\u09a8\\u09be-\\u0995\\u09b0\\u09c7 \\u0986\\u09ae\\u09b0\\u09be \\u0995\\u09bf \\u09ac\\u09be\\u099c\\u09be\\u09b0\\u09c7 \\u09af\\u09c7\\u099f\\u09be \\u09ac\\u09c7\\u09b6\\u09bf \\u099a\\u09cb\\u0996\\u09c7 \\u09aa\\u09a1\\u09bc\\u09c7 \\u09b8\\u09c7\\u0997\\u09c1\\u09b2\\u09cb\\u0987 \\u09b6\\u09c1\\u09a7\\u09c1 \\u0996\\u09be\\u099a\\u09cd\\u099b\\u09bf?\\\" \\u09ac\\u09b2\\u099b\\u09bf\\u09b2\\u09c7\\u09a8 \\u0987\\u0989\\u09a8\\u09bf\\u09b8\\u09c7\\u09ab \\u0987\\u09a8\\u09cd\\u09a1\\u09bf\\u09af\\u09bc\\u09be\\u09b0 \\u09aa\\u09cd\\u09b0\\u09a7\\u09be\\u09a8\\u0964 \\u0995\\u09bf\\u09a8\\u09cd\\u09a4\\u09c1 \\u09a4\\u09be\\u09b0 \\u09ae\\u09be\\u09a8\\u09c7 \\u0995\\u09bf \\u09aa\\u09b6\\u09cd\\u099a\\u09bf\\u09ae\\u09ac\\u0999\\u09cd\\u0997\\u09c7\\u09b0 \\u098f\\u0995\\u099f\\u09bf \\u09b6\\u09bf\\u09b6\\u09c1\\u09b0 \\u09b9\\u09bf\\u09ae\\u09be\\u099a\\u09b2 \\u09aa\\u09cd\\u09b0\\u09a6\\u09c7\\u09b6 \\u09a5\\u09c7\\u0995\\u09c7 \\u0986\\u09a8\\u09be \\u0986\\u09aa\\u09c7\\u09b2 \\u0996\\u09be\\u0993\\u09af\\u09bc\\u09be\\u09b0 \\u0995\\u09cb\\u09a8\\u0993 \\u09a6\\u09b0\\u0995\\u09be\\u09b0\\u0987 \\u09a8\\u09c7\\u0987? \\u0995\\u09be\\u09b6\\u09cd\\u09ae\\u09c0\\u09b0\\u09c7\\u09b0 \\u098f\\u0995\\u099f\\u09bf \\u0986\\u09aa\\u09c7\\u09b2 \\u09ac\\u09be\\u0997\\u09be\\u09a8 \\u0987\\u09af\\u09bc\\u09be\\u09b8\\u09ae\\u09bf\\u09a8 \\u0986\\u09b2\\u09bf \\u09b9\\u0995\\u09c7\\u09b0 \\u099c\\u09ac\\u09be\\u09ac, \\\"\\u09b8\\u09c7\\u0987 \\u09aa\\u09cd\\u09b0\\u09af\\u09bc\\u09cb\\u099c\\u09a8\\u099f\\u09be \\u0995\\u09bf\\u09a8\\u09cd\\u09a4\\u09c1 \\u09aa\\u09c7\\u09af\\u09bc\\u09be\\u09b0\\u09be \\u09a6\\u09bf\\u09af\\u09bc\\u09c7\\u0993 \\u09ae\\u09c7\\u099f\\u09be\\u09a8\\u09cb \\u09af\\u09c7\\u09a4\\u09c7 \\u09aa\\u09be\\u09b0\\u09c7\\u0964 \\u0995\\u09bf\\u0982\\u09ac\\u09be \\u09ac\\u09be\\u0982\\u09b2\\u09be\\u09af\\u09bc \\u09a4\\u09cb \\u09ac\\u09b0\\u0987 -\\u0993 (\\u0995\\u09c1\\u09b2) \\u09aa\\u09cd\\u09b0\\u099a\\u09c1\\u09b0 \\u09aa\\u09b0\\u09bf\\u09ae\\u09be\\u09a3\\u09c7 \\u09b9\\u09af\\u09bc, \\u09a4\\u09be\\u09b0\\u09be \\u09ac\\u09b0\\u0987 \\u0996\\u09c7\\u09a4\\u09c7 \\u09aa\\u09be\\u09b0\\u09c7\\u0964 \\u0986\\u09aa\\u09c7\\u09b2\\u0987 \\u0996\\u09c7\\u09a4\\u09c7 \\u09b9\\u09ac\\u09c7, \\u098f\\u09ae\\u09a8 \\u09a4\\u09cb \\u0995\\u09cb\\u09a8\\u0993 \\u0995\\u09a5\\u09be \\u09a8\\u09c7\\u0987\\u0964\\\" \\\"\\u09ac\\u09bf\\u09b7\\u09af\\u09bc\\u099f\\u09be \\u09b9\\u09b2, \\u09af\\u09c7\\u0996\\u09be\\u09a8\\u09c7 \\u09af\\u09be \\u09aa\\u09c1\\u09b7\\u09cd\\u099f\\u09bf\\u0995\\u09b0 \\u0996\\u09be\\u09ac\\u09be\\u09b0 \\u09b8\\u09cd\\u09a5\\u09be\\u09a8\\u09c0\\u09af\\u09bc\\u09ad\\u09be\\u09ac\\u09c7 \\u09aa\\u09be\\u0993\\u09af\\u09bc\\u09be \\u09af\\u09be\\u09af\\u09bc, \\u09b8\\u09c7\\u099f\\u09be \\u09af\\u09a6\\u09bf \\u0986\\u09ae\\u09b0\\u09be \\u09ad\\u09be\\u09b0\\u09b8\\u09be\\u09ae\\u09cd\\u09af \\u09b0\\u09c7\\u0996\\u09c7 \\u0996\\u09be\\u0987 - \\u09b8\\u09a0\\u09bf\\u0995 \\u09aa\\u09b0\\u09bf\\u09ae\\u09be\\u09a3\\u09c7 \\u0995\\u09be\\u09b0\\u09cd\\u09ac\\u09cb\\u09b9\\u09be\\u0987\\u09a1\\u09cd\\u09b0\\u09c7\\u099f, \\u09aa\\u09cd\\u09b0\\u09cb\\u099f\\u09bf\\u09a8, \\u09ad\\u09bf\\u099f\\u09be\\u09ae\\u09bf\\u09a8\\u09b8 \\u09ac\\u09be \\u09b6\\u09be\\u0995\\u09b8\\u09ac\\u09cd\\u099c\\u09bf \\u0996\\u09c7\\u09a4\\u09c7 \\u09aa\\u09be\\u09b0\\u09bf - \\u09a4\\u09be\\u09b9\\u09b2\\u09c7\\u0987 \\u0985\\u09a8\\u09c7\\u0995 \\u09b8\\u09ae\\u09b8\\u09cd\\u09af\\u09be\\u09b0 \\u09b8\\u09ae\\u09be\\u09a7\\u09be\\u09a8 \\u09b9\\u09af\\u09bc\\\", \\u09ac\\u09b2\\u099b\\u09bf\\u09b2\\u09c7\\u09a8 \\u09a4\\u09bf\\u09a8\\u09bf\\u0964 \\u0987\\u09af\\u09bc\\u09be\\u09b8\\u09ae\\u09bf\\u09a8 \\u09b9\\u0995\\u09c7\\u09b0 \\u099c\\u09a8\\u09cd\\u09ae \\u0993 \\u09ac\\u09c7\\u09a1\\u09bc\\u09c7 \\u0993\\u09a0\\u09be \\u09ac\\u09be\\u0982\\u09b2\\u09be\\u09a6\\u09c7\\u09b6\\u09c7, \\u09a2\\u09be\\u0995\\u09be \\u09ae\\u09c7\\u09a1\\u09bf\\u0995\\u09cd\\u09af\\u09be\\u09b2 \\u0995\\u09b2\\u09c7\\u099c\\u09c7\\u09b0 \\u09aa\\u09cd\\u09b0\\u09be\\u0995\\u09cd\\u09a4\\u09a8 \\u099b\\u09be\\u09a4\\u09cd\\u09b0\\u09c0 \\u09a4\\u09bf\\u09a8\\u09bf\\u0964 \\u0995\\u09b0\\u09cd\\u09ae\\u09b8\\u09c2\\u09a4\\u09cd\\u09b0\\u09c7 \\u09a6\\u09c1\\u09a8\\u09bf\\u09af\\u09bc\\u09be\\u09b0 \\u09a8\\u09be\\u09a8\\u09be \\u09a6\\u09c7\\u09b6\\u09c7 \\u09a5\\u09be\\u0995\\u09b2\\u09c7\\u0993 \\u09a4\\u09bf\\u09a8\\u09bf \\u0986\\u099c\\u0993 \\u098f\\u0995\\u099c\\u09a8 \\u09ac\\u09be\\u0982\\u09b2\\u09be\\u09a6\\u09c7\\u09b6\\u09c0 \\u09a8\\u09be\\u0997\\u09b0\\u09bf\\u0995\\u0964 \\u09a4\\u09be\\u09b0 \\u09b8\\u09c7\\u0987 \\u09ac\\u09be\\u0982\\u09b2\\u09be\\u09a6\\u09c7\\u09b6\\u09c7\\u09b0 \\u0985\\u09ad\\u09bf\\u099c\\u09cd\\u099e\\u09a4\\u09be \\u0995\\u09bf \\u09ad\\u09be\\u09b0\\u09a4\\u09c7\\u09b0 \\u098f\\u0987 \\u0995\\u09cd\\u09af\\u09be\\u09ae\\u09cd\\u09aa\\u09c7\\u09a8\\u09c7 \\u0995\\u09cb\\u09a5\\u09be\\u0993 \\u0995\\u09be\\u099c\\u09c7 \\u09b2\\u09be\\u0997\\u09a4\\u09c7 \\u09aa\\u09be\\u09b0\\u09c7? \\\"\\u0985\\u09ac\\u09b6\\u09cd\\u09af\\u0987\\u0964 \\u09ac\\u09be\\u0982\\u09b2\\u09be\\u09a6\\u09c7\\u09b6\\u09c7 \\u099b\\u09cb\\u099f\\u09ac\\u09c7\\u09b2\\u09be\\u09af\\u09bc \\u0986\\u09ae\\u09cd\\u09ae\\u09be \\u09b8\\u09ac \\u09b8\\u09ae\\u09af\\u09bc \\u09ac\\u09b2\\u09a4\\u09c7\\u09a8 \\u0997\\u09be\\u099c\\u09b0 \\u0996\\u09c7\\u09a4\\u09c7, \\u09a4\\u09be\\u09a4\\u09c7 \\u099a\\u09cb\\u0996\\u09c7\\u09b0 \\u09a6\\u09c3\\u09b7\\u09cd\\u099f\\u09bf \\u09a8\\u09be\\u0995\\u09bf \\u09ad\\u09be\\u09b2 \\u09b9\\u09ac\\u09c7\\u0964 \\u0986\\u09ae\\u09b0\\u09be\\u0993 \\u09af\\u0996\\u09a8 \\u09ae\\u09be \\u09b9\\u09af\\u09bc\\u09c7\\u099b\\u09bf, \\u09ac\\u09be\\u099a\\u09cd\\u099a\\u09be\\u09a6\\u09c7\\u09b0 \\u0997\\u09be\\u099c\\u09b0 \\u0996\\u09c7\\u09a4\\u09c7 \\u0989\\u09ce\\u09b8\\u09be\\u09b9 \\u09a6\\u09bf\\u09a4\\u09c7 \\u09ac\\u09be\\u09a1\\u09bc\\u09bf\\u09a4\\u09c7\\u0987 \\u099b\\u09cb\\u099f \\u0995\\u09b0\\u09c7 \\u0997\\u09be\\u099c\\u09b0 \\u09b2\\u09be\\u0997\\u09bf\\u09af\\u09bc\\u09c7\\u099b\\u09bf\\u0964\\\" \\u09a8\\u09cc\\u0995\\u09be \\u09ac\\u09cb\\u099d\\u09be\\u0987 \\u0995\\u09b0\\u09be \\u09b9\\u09af\\u09bc\\u09c7\\u099b\\u09c7 \\u09ac\\u09be\\u0982\\u09b2\\u09be\\u09a6\\u09c7\\u09b6\\u09c7\\u09b0 \\u09a4\\u09b0\\u09ae\\u09c1\\u099c \\\"\\u09ac\\u09be\\u0982\\u09b2\\u09be\\u09a6\\u09c7\\u09b6\\u09c7 \\u0986\\u09b0 \\u098f\\u0995\\u099f\\u09be \\u099c\\u09bf\\u09a8\\u09bf\\u09b8 \\u099b\\u09bf\\u09b2, \\u0986\\u09aa\\u09a8\\u09bf \\u0995\\u09bf \\u09b6\\u09be\\u0995\\u09b8\\u09ac\\u09cd\\u099c\\u09bf \\u09a7\\u09c1\\u09af\\u09bc\\u09c7 \\u09a8\\u09bf\\u09af\\u09bc\\u09c7 \\u0995\\u09be\\u099f\\u09c7\\u09a8 \\u09a8\\u09be \\u0995\\u09bf \\u0995\\u09be\\u099f\\u09be\\u09b0 \\u09aa\\u09b0 \\u09a7\\u09cb\\u09a8? \\u0995\\u09be\\u099f\\u09be\\u09b0 \\u09aa\\u09b0 \\u09a7\\u09c1\\u09b2\\u09c7 \\u0995\\u09bf\\u09a8\\u09cd\\u09a4\\u09c1 \\u09a4\\u09be\\u09b0 \\u09ad\\u09bf\\u099f\\u09be\\u09ae\\u09bf\\u09a8 \\u09ac\\u09be \\u09ae\\u09bf\\u09a8\\u09be\\u09b0\\u09c7\\u09b2\\u09b8 \\u0986\\u09ae\\u09b0\\u09be \\u09b9\\u09be\\u09b0\\u09bf\\u09af\\u09bc\\u09c7 \\u09ab\\u09c7\\u09b2\\u09bf - \\u0986\\u09b0 \\u09ac\\u09be\\u0982\\u09b2\\u09be\\u09a6\\u09c7\\u09b6\\u09c7 \\u09b8\\u09c7\\u0987 \\u0985\\u09ad\\u09cd\\u09af\\u09be\\u09b8\\u099f\\u09be \\u09aa\\u09be\\u09b2\\u09cd\\u099f\\u09be\\u09a8\\u09cb\\u09b0 \\u099c\\u09a8\\u09cd\\u09af \\u099c\\u09be\\u09a4\\u09c0\\u09af\\u09bc \\u09b8\\u09cd\\u09a4\\u09b0\\u09c7 \\u09b0\\u09c0\\u09a4\\u09bf\\u09ae\\u09a4\\u09cb \\u098f\\u0995\\u099f\\u09be \\u0995\\u09cd\\u09af\\u09be\\u09ae\\u09cd\\u09aa\\u09c7\\u09a8 \\u09a6\\u09b0\\u0995\\u09be\\u09b0 \\u09b9\\u09af\\u09bc\\u09c7\\u099b\\u09bf\\u09b2\\u0964\\\" \\\"\\u0986\\u09ac\\u09be\\u09b0 \\u09b8\\u09ac\\u09cd\\u099c\\u09bf \\u09b0\\u09be\\u09a8\\u09cd\\u09a8\\u09be \\u0995\\u09b0\\u09be\\u09b0 \\u09b8\\u09ae\\u09af\\u09bc \\u0985\\u09a8\\u09c7\\u0995\\u09c7 \\u09aa\\u09be\\u09a8\\u09bf\\u099f\\u09be \\u09ab\\u09c7\\u09b2\\u09c7 \\u09a6\\u09c7\\u09af\\u09bc, \\u0995\\u09bf\\u09a8\\u09cd\\u09a4\\u09c1 \\u0993\\u0987 \\u09aa\\u09be\\u09a8\\u09bf\\u09b0 \\u09b8\\u0999\\u09cd\\u0997\\u09c7 \\u0985\\u09a8\\u09c7\\u0995 \\u09aa\\u09c1\\u09b7\\u09cd\\u099f\\u09bf\\u0997\\u09c1\\u09a3\\u0993 \\u099a\\u09b2\\u09c7 \\u09af\\u09be\\u09af\\u09bc\\u0964 \\u098f\\u0987 \\u0985\\u09ad\\u09cd\\u09af\\u09be\\u09b8\\u099f\\u09be \\u09aa\\u09be\\u09b2\\u09cd\\u099f\\u09be\\u09a8\\u09cb\\u09b0 \\u099c\\u09a8\\u09cd\\u09af\\u0993 \\u09b8\\u09c7\\u0996\\u09be\\u09a8\\u09c7 \\u0985\\u09a8\\u09c7\\u0995 \\u09aa\\u09cd\\u09b0\\u099a\\u09be\\u09b0 \\u099a\\u09be\\u09b2\\u09be\\u09a8\\u09cb \\u09b9\\u09af\\u09bc\\u09c7\\u099b\\u09c7,\\\" \\u09ac\\u09b2\\u099b\\u09bf\\u09b2\\u09c7\\u09a8 \\u09a1: \\u09b9\\u0995\\u0964 \\u0986\\u09b8\\u09b2\\u09c7 \\u09b8\\u09be\\u09a7\\u09be\\u09b0\\u09a3 \\u09ae\\u09be\\u09a8\\u09c1\\u09b7 \\u09a4\\u09be\\u09a6\\u09c7\\u09b0 \\u0996\\u09be\\u09a6\\u09cd\\u09af\\u09be\\u09ad\\u09cd\\u09af\\u09be\\u09b8\\u09c7 \\u099b\\u09cb\\u099f \\u099b\\u09cb\\u099f \\u0995\\u09bf\\u099b\\u09c1 \\u09aa\\u09b0\\u09bf\\u09ac\\u09b0\\u09cd\\u09a4\\u09a8 \\u0986\\u09a8\\u09b2\\u09c7\\u0987 \\u09af\\u09c7 \\u09a8\\u09bf\\u099c\\u09c7\\u09a6\\u09c7\\u09b0 \\u09a1\\u09be\\u09af\\u09bc\\u09c7\\u099f\\u09c7 \\u0985\\u09a8\\u09c7\\u0995 \\u09ac\\u09c7\\u09b6\\u09bf \\u09aa\\u09c1\\u09b7\\u09cd\\u099f\\u09bf \\u09a8\\u09bf\\u09b6\\u09cd\\u099a\\u09bf\\u09a4 \\u0995\\u09b0\\u09a4\\u09c7 \\u09aa\\u09be\\u09b0\\u09ac\\u09c7, \\u098f\\u0987 \\u0985\\u09ad\\u09bf\\u09af\\u09be\\u09a8\\u09c7\\u09b0 \\u09ae\\u09be\\u09a7\\u09cd\\u09af\\u09ae\\u09c7 \\u0987\\u0989\\u09a8\\u09bf\\u09b8\\u09c7\\u09ab \\u09b8\\u09c7\\u0987 \\u09ac\\u09be\\u09b0\\u09cd\\u09a4\\u09be\\u099f\\u09be\\u0987 \\u09a6\\u09bf\\u09a4\\u09c7 \\u099a\\u09be\\u0987\\u099b\\u09c7\\u0964 \\u0986\\u09b0 \\u09a0\\u09bf\\u0995 \\u09b8\\u09c7\\u0987 \\u09aa\\u09cd\\u09b0\\u09b8\\u0999\\u09cd\\u0997\\u09c7\\u0987 \\u098f\\u0995\\u099f\\u09bf \\u09a6\\u09c3\\u09b7\\u09cd\\u099f\\u09be\\u09a8\\u09cd\\u09a4 \\u09a6\\u09bf\\u09af\\u09bc\\u09c7 \\u09ac\\u09b2\\u09be \\u09b9\\u099a\\u09cd\\u099b\\u09c7, \\u09ac\\u09be\\u0999\\u09be\\u09b2\\u09bf\\u09a6\\u09c7\\u09b0 \\u099c\\u09a8\\u09cd\\u09af \\u09aa\\u09c7\\u09af\\u09bc\\u09be\\u09b0\\u09be-\\u09ac\\u09b0\\u0987 \\u09af\\u09a5\\u09c7\\u09b7\\u09cd\\u09a0 - \\u0986\\u09aa\\u09c7\\u09b2-\\u09b8\\u09cd\\u099f\\u09cd\\u09b0\\u09ac\\u09c7\\u09b0\\u09bf \\u09a8\\u09be \\u0996\\u09c7\\u09b2\\u09c7\\u0993 \\u09a4\\u09be\\u09a6\\u09c7\\u09b0 \\u09a6\\u09bf\\u09ac\\u09cd\\u09ac\\u09bf \\u099a\\u09b2\\u09c7 \\u09af\\u09be\\u09ac\\u09c7!\",\n          \"\\u0987\\u09b8\\u09b2\\u09be\\u09ae\\u09bf\\u0995 \\u09b8\\u09cd\\u099f\\u09c7\\u099f \\u0996\\u09c7\\u09b2\\u09be\\u09ab\\u09a4\\u09c7\\u09b0 \\u09b8\\u09cd\\u09ac\\u0998\\u09cb\\u09b7\\u09bf\\u09a4 \\u0996\\u09b2\\u09bf\\u09ab\\u09be \\u0986\\u09ac\\u09c1 \\u09ac\\u0995\\u09b0 \\u0986\\u09b2-\\u09ac\\u09be\\u0997\\u09a6\\u09be\\u09a6\\u09bf\\u0964 \\u0986\\u0987 \\u098f\\u09b8 \\u09aa\\u09cd\\u09af\\u09be\\u09b0\\u09bf\\u09b8 \\u09b9\\u09be\\u09ae\\u09b2\\u09be\\u09b0 \\u09a6\\u09be\\u09af\\u09bc\\u09bf\\u09a4\\u09cd\\u09ac \\u09b8\\u09cd\\u09ac\\u09c0\\u0995\\u09be\\u09b0 \\u0995\\u09b0\\u09c7\\u099b\\u09c7, \\u09af\\u09c7 \\u09b9\\u09be\\u09ae\\u09b2\\u09be\\u09af\\u09bc \\u0985\\u09a8\\u09cd\\u09a4\\u09a4 \\u09e7\\u09e8\\u09ef\\u099c\\u09a8 \\u09ae\\u09be\\u09a8\\u09c1\\u09b7 \\u09a8\\u09bf\\u09b9\\u09a4 \\u098f\\u09ac\\u0982 \\u09a4\\u09bf\\u09a8 \\u09b6\\u09a4\\u09be\\u09a7\\u09bf\\u0995 \\u0986\\u09b9\\u09a4 \\u09b9\\u09af\\u09bc\\u09c7\\u099b\\u09c7\\u09a8\\u0964 \\u0987\\u09b8\\u09b2\\u09be\\u09ae\\u09bf\\u0995 \\u09b8\\u09cd\\u099f\\u09c7\\u099f \\u0995\\u09c7 \\u09ac\\u09bf\\u09b6\\u09cd\\u09ac\\u09c7\\u09b0 \\u09b8\\u09ac \\u099a\\u09c7\\u09af\\u09bc\\u09c7 \\u09a7\\u09a8\\u09c0 \\u099c\\u0999\\u09cd\\u0997\\u09bf \\u0997\\u09cb\\u09b7\\u09cd\\u09a0\\u09c0 \\u09ae\\u09a8\\u09c7 \\u0995\\u09b0\\u09be \\u09b9\\u09af\\u09bc\\u0964 \\u0986\\u0987 \\u098f\\u09b8 \\u09a6\\u09be\\u09ac\\u09c0 \\u0995\\u09b0\\u09c7, \\u09a4\\u09be\\u09b0\\u09be \\u0987\\u09b0\\u09be\\u0995 \\u098f\\u09ac\\u0982 \\u09b8\\u09bf\\u09b0\\u09bf\\u09af\\u09bc\\u09be\\u09af\\u09bc \\u09a6\\u0996\\u09b2 \\u0995\\u09b0\\u09be \\u099c\\u09ae\\u09bf \\u09a6\\u09bf\\u09af\\u09bc\\u09c7 \\u098f\\u0995\\u099f\\u09bf \\u2018\\u0996\\u09c7\\u09b2\\u09be\\u09ab\\u09a4\\u2019 \\u09b8\\u09c3\\u09b7\\u09cd\\u099f\\u09bf \\u0995\\u09b0\\u09c7\\u099b\\u09c7, \\u09af\\u09be\\u09b0 \\u0986\\u09af\\u09bc\\u09a4\\u09a8 \\u09af\\u09c1\\u0995\\u09cd\\u09a4\\u09b0\\u09be\\u099c\\u09cd\\u09af\\u09c7\\u09b0 \\u09b8\\u09ae\\u09be\\u09a8\\u0964 \\u098f\\u0996\\u09a8 \\u09aa\\u09cd\\u09b0\\u09b6\\u09cd\\u09a8 \\u0989\\u09a0\\u09c7\\u099b\\u09c7, \\u0986\\u0987 \\u098f\\u09b8 \\u0995\\u09c0\\u09ad\\u09be\\u09ac\\u09c7 \\u09a4\\u09be\\u09a6\\u09c7\\u09b0 \\u0995\\u09be\\u09b0\\u09cd\\u09af\\u0995\\u09cd\\u09b0\\u09ae \\u0985\\u09b0\\u09cd\\u09a5\\u09be\\u09af\\u09bc\\u09a8 \\u0995\\u09b0\\u09c7? \\u09a4\\u09be\\u09a6\\u09c7\\u09b0 \\u0985\\u09b0\\u09cd\\u09a5\\u09c7\\u09b0 \\u0989\\u09ce\\u09b8 \\u0995\\u09c0? \\u09e7. \\u0985\\u09a8\\u09c1\\u09a6\\u09be\\u09a8 \\u09aa\\u09cd\\u09b0\\u09a5\\u09ae \\u09a6\\u09bf\\u0995\\u09c7, \\u09ae\\u09a7\\u09cd\\u09af\\u09aa\\u09cd\\u09b0\\u09be\\u099a\\u09cd\\u09af\\u09c7\\u09b0 \\u09ac\\u09bf\\u09ad\\u09bf\\u09a8\\u09cd\\u09a8 \\u09a6\\u09be\\u09a4\\u09ac\\u09cd\\u09af \\u09b8\\u0982\\u09b8\\u09cd\\u09a5\\u09be \\u098f\\u09ac\\u0982 \\u09a7\\u09a8\\u09c0 \\u09ac\\u09cd\\u09af\\u0995\\u09cd\\u09a4\\u09bf \\u0986\\u0987 \\u098f\\u09b8\\u0995\\u09c7 \\u0985\\u09b0\\u09cd\\u09a5\\u09be\\u09af\\u09bc\\u09a8 \\u0995\\u09b0\\u09a4\\u09c7\\u09a8\\u0964 \\u098f\\u0987 \\u09a6\\u09be\\u09a4\\u09be\\u0997\\u09c1\\u09b2\\u09cb \\u099b\\u09bf\\u09b2 \\u09ae\\u09c2\\u09b2\\u09a4 \\u09b8\\u09c1\\u09a8\\u09cd\\u09a8\\u09bf \\u09b8\\u09ae\\u09cd\\u09aa\\u09cd\\u09b0\\u09a6\\u09be\\u09af\\u09bc\\u09c7\\u09b0 \\u098f\\u09ac\\u0982 \\u09a4\\u09be\\u09b0\\u09be \\u09b8\\u09bf\\u09b0\\u09bf\\u09af\\u09bc\\u09be\\u09b0 \\u09b8\\u0982\\u0996\\u09cd\\u09af\\u09be\\u09b2\\u0998\\u09c1 \\u0986\\u09b2\\u09be\\u0989\\u09af\\u09bc\\u09bf \\u09b8\\u09ae\\u09cd\\u09aa\\u09cd\\u09b0\\u09a6\\u09be\\u09af\\u09bc\\u09c7\\u09b0 \\u09b0\\u09be\\u09b7\\u09cd\\u099f\\u09cd\\u09b0\\u09aa\\u09a4\\u09bf \\u09ac\\u09be\\u09b6\\u09be\\u09b0 \\u0986\\u09b2-\\u0986\\u09b8\\u09be\\u09a6\\u0995\\u09c7 \\u0995\\u09cd\\u09b7\\u09ae\\u09a4\\u09be\\u099a\\u09cd\\u09af\\u09c1\\u09a4 \\u0995\\u09b0\\u09be\\u09b0 \\u099c\\u09a8\\u09cd\\u09af \\u0986\\u0987 \\u098f\\u09b8\\u0995\\u09c7 \\u0985\\u09b0\\u09cd\\u09a5 \\u09af\\u09cb\\u0997\\u09be\\u09a8 \\u09a6\\u09bf\\u09a4\\u09c7\\u09a8\\u0964 \\u098f\\u09b8\\u09ac \\u0989\\u09ce\\u09b8 \\u09a5\\u09c7\\u0995\\u09c7 \\u09aa\\u09be\\u0993\\u09af\\u09bc\\u09be \\u0985\\u09b0\\u09cd\\u09a5 \\u09ac\\u09cd\\u09af\\u09ac\\u09b9\\u09be\\u09b0 \\u0995\\u09b0\\u09be \\u09ac\\u09bf\\u09a6\\u09c7\\u09b6\\u09c0 \\u09af\\u09cb\\u09a6\\u09cd\\u09a7\\u09be\\u09a6\\u09c7\\u09b0 \\u09b8\\u09bf\\u09b0\\u09bf\\u09af\\u09bc\\u09be \\u098f\\u09ac\\u0982 \\u0987\\u09b0\\u09be\\u0995\\u09c7 \\u09a8\\u09bf\\u09af\\u09bc\\u09c7 \\u09af\\u09be\\u0993\\u09af\\u09bc\\u09be \\u09b9\\u09b2\\u09c7\\u0993, \\u0986\\u0987 \\u098f\\u09b8 \\u098f\\u0996\\u09a8 \\u09ae\\u09cb\\u099f\\u09be\\u09ae\\u09c1\\u099f\\u09bf \\u09b8\\u09cd\\u09ac\\u09af\\u09bc\\u0982 \\u09b8\\u09ae\\u09cd\\u09aa\\u09a8\\u09cd\\u09a8 \\u09b9\\u09af\\u09bc\\u09c7 \\u0989\\u09a0\\u09c7\\u099b\\u09c7\\u0964 \\u09e8. \\u09a4\\u09c7\\u09b2 \\u0986\\u09ae\\u09c7\\u09b0\\u09bf\\u0995\\u09be\\u09b0 \\u0985\\u09b0\\u09cd\\u09a5 \\u09ae\\u09a8\\u09cd\\u09a4\\u09cd\\u09b0\\u09a3\\u09be\\u09b2\\u09af\\u09bc\\u09c7\\u09b0 \\u09b9\\u09bf\\u09b8\\u09c7\\u09ac \\u09ae\\u09a4\\u09c7, \\u0986\\u0987 \\u098f\\u09b8 \\u09e8\\u09e6\\u09e7\\u09ea \\u09b8\\u09be\\u09b2\\u09c7 \\u09a4\\u09c7\\u09b2 \\u09ac\\u09bf\\u0995\\u09cd\\u09b0\\u09bf \\u0995\\u09b0\\u09c7 \\u09e7\\u09e6 \\u0995\\u09cb\\u099f\\u09bf \\u09a1\\u09b2\\u09be\\u09b0 \\u0986\\u09af\\u09bc \\u0995\\u09b0\\u09c7\\u099b\\u09c7\\u0964 \\u09a4\\u09be\\u09b0\\u09be \\u0985\\u09b6\\u09cb\\u09a7\\u09bf\\u09a4 \\u09a4\\u09c7\\u09b2 \\u098f\\u09ac\\u0982 \\u09a4\\u09c7\\u09b2-\\u09ad\\u09bf\\u09a4\\u09cd\\u09a4\\u09bf\\u0995 \\u09b8\\u09be\\u09ae\\u0997\\u09cd\\u09b0\\u09c0 \\u09a6\\u09be\\u09b2\\u09be\\u09b2\\u09a6\\u09c7\\u09b0 \\u0995\\u09be\\u099b\\u09c7 \\u09ac\\u09bf\\u0995\\u09cd\\u09b0\\u09bf \\u0995\\u09b0\\u09c7, \\u09af\\u09be\\u09b0\\u09be \\u09b8\\u09c7\\u0997\\u09c1\\u09b2\\u09cb \\u09a4\\u09c1\\u09b0\\u09b8\\u09cd\\u0995 \\u098f\\u09ac\\u0982 \\u0987\\u09b0\\u09be\\u09a8\\u09c7 \\u099a\\u09cb\\u09b0\\u09be\\u099a\\u09be\\u09b2\\u09be\\u09a8 \\u0995\\u09b0\\u09c7 \\u2013 \\u09ac\\u09be \\u09b8\\u09bf\\u09b0\\u09bf\\u09af\\u09bc\\u09be\\u09b0 \\u09b8\\u09b0\\u0995\\u09be\\u09b0\\u09c7\\u09b0 \\u0995\\u09be\\u099b\\u09c7 \\u09ac\\u09bf\\u0995\\u09cd\\u09b0\\u09bf \\u0995\\u09b0\\u09c7\\u0964 \\u0995\\u09bf\\u09a8\\u09cd\\u09a4\\u09c1 \\u09b8\\u09ae\\u09cd\\u09aa\\u09cd\\u09b0\\u09a4\\u09bf \\u0986\\u0987 \\u098f\\u09b8-\\u098f\\u09b0 \\u09a4\\u09c7\\u09b2 \\u09b8\\u09cd\\u09a5\\u09be\\u09aa\\u09a8\\u09be\\u0997\\u09c1\\u09b2\\u09cb\\u09b0 \\u0989\\u09aa\\u09b0 \\u09ac\\u09bf\\u09ae\\u09be\\u09a8 \\u09b9\\u09be\\u09ae\\u09b2\\u09be\\u09b0 \\u09ab\\u09b2\\u09c7 \\u09a4\\u09be\\u09a6\\u09c7\\u09b0 \\u0985\\u09b0\\u09cd\\u09a5\\u09c7\\u09b0 \\u098f\\u0987 \\u0989\\u09ce\\u09b8 \\u0995\\u09ae\\u09c7 \\u0997\\u09c7\\u099b\\u09c7\\u0964 \\u09e9. \\u0985\\u09aa\\u09b9\\u09b0\\u09a3 \\u0985\\u09aa\\u09b9\\u09b0\\u09a3 \\u098f\\u0987 \\u0997\\u09cb\\u09b7\\u09cd\\u09a0\\u09c0\\u09b0 \\u0986\\u09af\\u09bc\\u09c7\\u09b0 \\u098f\\u0995\\u099f\\u09bf \\u09ac\\u09a1\\u09bc \\u0989\\u09ce\\u09b8\\u0964 \\u0986\\u0987 \\u098f\\u09b8 \\u09e8\\u09e6\\u09e7\\u09ea \\u09b8\\u09be\\u09b2\\u09c7 \\u09ae\\u09c1\\u0995\\u09cd\\u09a4\\u09bf\\u09aa\\u09a3 \\u0986\\u09a6\\u09be\\u09af\\u09bc\\u09c7\\u09b0 \\u09ae\\u09be\\u09a7\\u09cd\\u09af\\u09ae\\u09c7 \\u0985\\u09a8\\u09cd\\u09a4\\u09a4\\u09aa\\u0995\\u09cd\\u09b7\\u09c7 \\u09a6\\u09c1\\u0987 \\u0995\\u09cb\\u099f\\u09bf \\u09a1\\u09b2\\u09be\\u09b0 \\u0986\\u09af\\u09bc \\u0995\\u09b0\\u09c7\\u0964 \\u0986\\u0987 \\u098f\\u09b8 \\u09a5\\u09c7\\u0995\\u09c7 \\u09aa\\u0995\\u09cd\\u09b7 \\u09a4\\u09cd\\u09af\\u09be\\u0997 \\u0995\\u09b0\\u09c7 \\u09ac\\u09c7\\u09b0\\u09bf\\u09af\\u09bc\\u09c7 \\u0986\\u09b8\\u09be \\u098f\\u0995\\u099c\\u09a8 \\u09ac\\u09b2\\u09c7\\u099b\\u09c7\\u09a8, \\u0985\\u09aa\\u09b9\\u09b0\\u09a3 \\u0985\\u09ad\\u09bf\\u09af\\u09be\\u09a8 \\u099a\\u09be\\u09b2\\u09be\\u09a8\\u09cb\\u09b0 \\u099c\\u09a8\\u09cd\\u09af \\u09b8\\u0982\\u0997\\u09a0\\u09a8\\u099f\\u09bf\\u09b0 \\u098f\\u0995\\u099f\\u09bf \\u09b8\\u09cd\\u09ac\\u09a4\\u09a8\\u09cd\\u09a4\\u09cd\\u09b0 \\u09ac\\u09bf\\u09ad\\u09be\\u0997 \\u09b0\\u09af\\u09bc\\u09c7\\u099b\\u09c7, \\u09af\\u09be\\u09b0 \\u09a8\\u09be\\u09ae \\u2018\\u0987\\u09a8\\u09cd\\u099f\\u09c7\\u09b2\\u09bf\\u099c\\u09c7\\u09a8\\u09cd\\u09b8 \\u098f\\u09cd\\u09af\\u09be\\u09aa\\u09be\\u09b0\\u09c7\\u099f\\u09be\\u09b8\\u2019\\u0964 \\u0985\\u09aa\\u09b9\\u09b0\\u09a3\\u0995\\u09c7 \\u0986\\u0987 \\u098f\\u09b8 \\u09a4\\u09be\\u09a6\\u09c7\\u09b0 \\u09aa\\u09b0\\u09bf\\u099a\\u09bf\\u09a4\\u09bf \\u09aa\\u09cd\\u09b0\\u099a\\u09be\\u09b0\\u09c7\\u09b0 \\u098f\\u0995\\u099f\\u09bf \\u0997\\u09c1\\u09b0\\u09c1\\u09a4\\u09cd\\u09ac\\u09aa\\u09c2\\u09b0\\u09cd\\u09a3 \\u0985\\u09b8\\u09cd\\u09a4\\u09cd\\u09b0 \\u09b9\\u09bf\\u09b8\\u09c7\\u09ac\\u09c7\\u0993 \\u09ac\\u09cd\\u09af\\u09ac\\u09b9\\u09be\\u09b0 \\u0995\\u09b0\\u09c7\\u0964 \\u0987\\u09b8\\u09b2\\u09be\\u09ae\\u09bf\\u0995 \\u09b8\\u09cd\\u099f\\u09c7\\u099f \\u0997\\u09cb\\u09b7\\u09cd\\u09a0\\u09c0 \\u0987\\u09b0\\u09be\\u0995 \\u098f\\u09ac\\u0982 \\u09b8\\u09bf\\u09b0\\u09bf\\u09af\\u09bc\\u09be\\u09a4\\u09c7 \\u09ac\\u09c7\\u09b6 \\u0995\\u09af\\u09bc\\u09c7\\u0995\\u099c\\u09a8 \\u09aa\\u09b6\\u09cd\\u099a\\u09bf\\u09ae\\u09be \\u09b8\\u09be\\u0982\\u09ac\\u09be\\u09a6\\u09bf\\u0995 \\u098f\\u09ac\\u0982 \\u09a4\\u09cd\\u09b0\\u09be\\u09a8\\u0995\\u09b0\\u09cd\\u09ae\\u09c0\\u0995\\u09c7 \\u0985\\u09aa\\u09b9\\u09b0\\u09a3 \\u0995\\u09b0\\u09c7 \\u09b9\\u09a4\\u09cd\\u09af\\u09be \\u0995\\u09b0\\u09c7\\u099b\\u09c7\\u0964 \\u09ea. \\u099a\\u09c1\\u09b0\\u09bf-\\u09a1\\u09be\\u0995\\u09be\\u09a4\\u09bf, \\u09b2\\u09c1\\u099f \\u0986\\u09b0 \\u099a\\u09be\\u0981\\u09a6\\u09be\\u09ac\\u09be\\u099c\\u09bf \\u09ae\\u09be\\u09b0\\u09cd\\u0995\\u09bf\\u09a8 \\u0985\\u09b0\\u09cd\\u09a5 \\u09a6\\u09ab\\u09a4\\u09b0\\u09c7\\u09b0 \\u09a4\\u09a5\\u09cd\\u09af \\u0985\\u09a8\\u09c1\\u09af\\u09be\\u09af\\u09bc\\u09c0, \\u0986\\u0987 \\u098f\\u09b8 \\u09a4\\u09be\\u09a6\\u09c7\\u09b0 \\u09a8\\u09bf\\u09af\\u09bc\\u09a8\\u09cd\\u09a4\\u09cd\\u09b0\\u09bf\\u09a4 \\u098f\\u09b2\\u09be\\u0995\\u09be\\u09b0 \\u099c\\u09a8\\u0997\\u09a3\\u0995\\u09c7 \\u099c\\u09cb\\u09b0\\u09aa\\u09c2\\u09b0\\u09cd\\u09ac\\u0995 \\u099a\\u09be\\u0981\\u09a6\\u09be \\u09a6\\u09bf\\u09a4\\u09c7 \\u09ac\\u09be\\u09a7\\u09cd\\u09af \\u0995\\u09b0\\u09bf\\u09af\\u09bc\\u09c7 \\u09aa\\u09cd\\u09b0\\u09a4\\u09bf \\u09ae\\u09be\\u09b8\\u09c7 \\u09b2\\u0995\\u09cd\\u09b7 \\u09b2\\u0995\\u09cd\\u09b7 \\u09a1\\u09b2\\u09be\\u09b0 \\u0986\\u09af\\u09bc \\u0995\\u09b0\\u09c7\\u0964 \\u09af\\u09be\\u09b0\\u09be \\u09a4\\u09be\\u09a6\\u09c7\\u09b0 \\u09a8\\u09bf\\u09af\\u09bc\\u09a8\\u09cd\\u09a4\\u09cd\\u09b0\\u09bf\\u09a4 \\u098f\\u09b2\\u09be\\u0995\\u09be \\u09a6\\u09bf\\u09af\\u09bc\\u09c7 \\u09af\\u09be\\u09a4\\u09be\\u09af\\u09bc\\u09be\\u09a4 \\u0995\\u09b0\\u09c7, \\u09ac\\u09be \\u09b8\\u09c7\\u0996\\u09be\\u09a8\\u09c7 \\u09ac\\u09cd\\u09af\\u09ac\\u09b8\\u09be \\u0995\\u09b0\\u09c7 \\u09ac\\u09be \\u09b6\\u09c1\\u09a7\\u09c1 \\u09ac\\u09b8\\u09ac\\u09be\\u09b8 \\u0995\\u09b0\\u09c7, \\u09a4\\u09be\\u09a6\\u09c7\\u09b0 \\u0995\\u09be\\u099b \\u09a5\\u09c7\\u0995\\u09c7 \\u2018\\u09a8\\u09bf\\u09b0\\u09be\\u09aa\\u09a4\\u09cd\\u09a4\\u09be\\u2019 \\u09a6\\u09c7\\u09ac\\u09be\\u09b0 \\u09aa\\u09cd\\u09b0\\u09a4\\u09bf\\u09b6\\u09cd\\u09b0\\u09c1\\u09a4\\u09bf\\u09b0 \\u09ac\\u09bf\\u09a8\\u09bf\\u09ae\\u09af\\u09bc\\u09c7 \\u099a\\u09be\\u0981\\u09a6\\u09be \\u0986\\u09a6\\u09be\\u09af\\u09bc \\u0995\\u09b0\\u09be \\u09b9\\u09af\\u09bc\\u0964 \\u0986\\u0987 \\u098f\\u09b8 \\u09ac\\u09cd\\u09af\\u09be\\u0982\\u0995 \\u09b2\\u09c1\\u099f \\u0995\\u09b0\\u09c7, \\u0997\\u09ac\\u09be\\u09a6\\u09bf\\u09aa\\u09b6\\u09c1 \\u099a\\u09c1\\u09b0\\u09bf \\u0995\\u09b0\\u09c7 \\u098f\\u09ac\\u0982 \\u09aa\\u09b6\\u09c1\\u09b0 \\u09b9\\u09be\\u099f \\u09a8\\u09bf\\u09af\\u09bc\\u09a8\\u09cd\\u09a4\\u09cd\\u09b0\\u09a3 \\u0995\\u09b0\\u09c7 \\u0985\\u09b0\\u09cd\\u09a5 \\u0989\\u09aa\\u09be\\u09b0\\u09cd\\u099c\\u09a8 \\u0995\\u09b0\\u09c7\\u0964 \\u09b8\\u09bf\\u09b0\\u09bf\\u09af\\u09bc\\u09be\\u09b0 \\u09ac\\u09bf\\u0996\\u09cd\\u09af\\u09be\\u09a4 \\u09aa\\u09cd\\u09b0\\u09a4\\u09cd\\u09a8\\u09a4\\u09be\\u09a4\\u09cd\\u09a4\\u09cd\\u09ac\\u09bf\\u0995 \\u09a8\\u09bf\\u09a6\\u09b0\\u09cd\\u09b6\\u09a8 \\u099a\\u09c1\\u09b0\\u09bf \\u0995\\u09b0\\u09c7 \\u09ac\\u09bf\\u0995\\u09cd\\u09b0\\u09bf \\u0995\\u09b0\\u09be\\u0993 \\u0986\\u0987 \\u098f\\u09b8-\\u098f\\u09b0 \\u0985\\u09b0\\u09cd\\u09a5\\u09c7\\u09b0 \\u098f\\u0995\\u099f\\u09bf \\u0989\\u09ce\\u09b8\\u0964 \\u09eb. \\u09a7\\u09b0\\u09cd\\u09ae\\u09c0 \\u09b8\\u0982\\u0996\\u09cd\\u09af\\u09be\\u09b2\\u0998\\u09c1\\u09a6\\u09c7\\u09b0 \\u0989\\u09aa\\u09b0 \\u0995\\u09b0 \\u0986\\u0987 \\u098f\\u09b8 \\u09a8\\u09bf\\u09af\\u09bc\\u09a8\\u09cd\\u09a4\\u09cd\\u09b0\\u09bf\\u09a4 \\u098f\\u09b2\\u09be\\u0995\\u09be\\u09af\\u09bc \\u09a7\\u09b0\\u09cd\\u09ae\\u09c0 \\u09b8\\u0982\\u0996\\u09cd\\u09af\\u09be\\u09b2\\u0998\\u09c1\\u09a6\\u09c7\\u09b0 \\u2018\\u09af\\u09bf\\u09af\\u09bf\\u09af\\u09bc\\u09be\\u2019 \\u09a8\\u09be\\u09ae\\u09c7 \\u098f\\u0995\\u099f\\u09bf \\u09ac\\u09bf\\u09b6\\u09c7\\u09b7 \\u0995\\u09b0 \\u09a6\\u09bf\\u09a4\\u09c7 \\u09b9\\u09af\\u09bc\\u0964 \\u0997\\u09a4 \\u09ac\\u099b\\u09b0 \\u0987\\u09b0\\u09be\\u0995\\u09c7\\u09b0 \\u09ae\\u09cb\\u09b8\\u09c1\\u09b2 \\u09b6\\u09b9\\u09b0\\u09c7 \\u09ae\\u09b8\\u099c\\u09bf\\u09a6\\u0997\\u09c1\\u09b2\\u09cb\\u09a4\\u09c7 \\u098f\\u0995\\u099f\\u09bf \\u0998\\u09cb\\u09b7\\u09a3\\u09be \\u09aa\\u09a1\\u09bc\\u09be \\u09b9\\u09af\\u09bc, \\u09af\\u09c7\\u0996\\u09be\\u09a8\\u09c7 \\u0995\\u09cd\\u09b0\\u09bf\\u09b6\\u09cd\\u099a\\u09be\\u09a8\\u09a6\\u09c7\\u09b0 \\u09ac\\u09b2\\u09be \\u09b9\\u09af\\u09bc \\u09ae\\u09c1\\u09b8\\u09b2\\u09ae\\u09be\\u09a8 \\u09b9\\u09af\\u09bc\\u09c7 \\u09af\\u09c7\\u09a4\\u09c7, \\u09a8\\u09af\\u09bc \\u2018\\u09af\\u09bf\\u09af\\u09bf\\u09af\\u09bc\\u09be\\u2019 \\u09a6\\u09bf\\u09a4\\u09c7\\u0964 \\u09b6\\u09b9\\u09b0 \\u099b\\u09c7\\u09a1\\u09bc\\u09c7 \\u09a8\\u09be \\u099a\\u09b2\\u09c7 \\u0997\\u09c7\\u09b2\\u09c7 \\u09a4\\u09be\\u09a6\\u09c7\\u09b0 \\u09b9\\u09a4\\u09cd\\u09af\\u09be\\u09b0 \\u09b9\\u09c1\\u09ae\\u0995\\u09bf \\u09a6\\u09c7\\u09af\\u09bc\\u09be \\u09b9\\u09af\\u09bc\\u0964 \\u201c\\u09a4\\u09be\\u09a6\\u09c7\\u09b0 \\u0986\\u09ae\\u09b0\\u09be \\u09a4\\u09bf\\u09a8\\u099f\\u09bf \\u09aa\\u09a5 \\u09a6\\u09bf\\u09af\\u09bc\\u09c7\\u099b\\u09bf\\u0964 \\u09b9\\u09af\\u09bc \\u0987\\u09b8\\u09b2\\u09be\\u09ae \\u0997\\u09cd\\u09b0\\u09b9\\u09a3 \\u0995\\u09b0\\u09cb, \\u09a8\\u09af\\u09bc \\u09af\\u09bf\\u09af\\u09bf\\u09af\\u09bc\\u09be \\u0995\\u09b0\\u09b8\\u09b9 \\u09a7\\u09bf\\u09ae\\u09be \\u099a\\u09c1\\u0995\\u09cd\\u09a4\\u09bf\\u0964 \\u09a4\\u09be\\u09b0\\u09be \\u09af\\u09a6\\u09bf \\u09aa\\u09cd\\u09b0\\u09a4\\u09cd\\u09af\\u09be\\u0996\\u09cd\\u09af\\u09be\\u09a8 \\u0995\\u09b0\\u09c7, \\u09a4\\u09be\\u09b9\\u09b2\\u09c7 \\u09a4\\u09be\\u09a6\\u09c7\\u09b0 \\u099c\\u09a8\\u09cd\\u09af \\u09a4\\u09b2\\u09cb\\u09af\\u09bc\\u09be\\u09b0 \\u099b\\u09be\\u09a1\\u09bc\\u09be \\u0986\\u09b0 \\u0995\\u09bf\\u099b\\u09c1\\u0987 \\u09a5\\u09be\\u0995\\u09ac\\u09c7 \\u09a8\\u09be\\u201d, \\u0986\\u0987 \\u098f\\u09b8 \\u09ac\\u09bf\\u09ac\\u09c3\\u09a4\\u09bf\\u09a4\\u09c7 \\u09ac\\u09b2\\u09be \\u09b9\\u09af\\u09bc\\u0964 \\u0987\\u09af\\u09bc\\u09be\\u099c\\u09bf\\u09a6\\u09bf \\u09a8\\u09be\\u09b0\\u09c0 \\u09b9\\u09be\\u09a8\\u09cd\\u09a8\\u09be\\u09a8\\u0995\\u09c7 \\u0986\\u0987 \\u098f\\u09b8 \\u09b8\\u09bf\\u09a8\\u099c\\u09be\\u09b0 \\u09b6\\u09b9\\u09b0 \\u09a5\\u09c7\\u0995\\u09c7 \\u0985\\u09aa\\u09b9\\u09b0\\u09a3 \\u0995\\u09b0\\u09c7\\u099b\\u09bf\\u09b2\\u0964 \\u09ec. \\u09a6\\u09be\\u09b8\\u09a4\\u09cd\\u09ac \\u0986\\u0987 \\u098f\\u09b8 \\u0985\\u09aa\\u09b9\\u09b0\\u09a3\\u0995\\u09c3\\u09a4 \\u09ae\\u09c7\\u09af\\u09bc\\u09c7\\u09a6\\u09c7\\u09b0 \\u09af\\u09cc\\u09a8 \\u09a6\\u09be\\u09b8 \\u09b9\\u09bf\\u09b8\\u09c7\\u09ac\\u09c7 \\u09ac\\u09bf\\u0995\\u09cd\\u09b0\\u09bf \\u0995\\u09b0\\u09c7 \\u0985\\u09b0\\u09cd\\u09a5 \\u0986\\u09af\\u09bc \\u0995\\u09b0\\u09c7\\u099b\\u09c7\\u0964 \\u09b8\\u09cd\\u09a5\\u09be\\u09a8\\u09c0\\u09af\\u09bc \\u0987\\u09af\\u09bc\\u09be\\u099c\\u09bf\\u09a6\\u09bf \\u09b8\\u09ae\\u09cd\\u09aa\\u09cd\\u09b0\\u09a6\\u09be\\u09af\\u09bc\\u09c7\\u09b0 \\u09ae\\u09be\\u09a8\\u09c1\\u09b7\\u09c7\\u09b0 \\u09a4\\u09a5\\u09cd\\u09af \\u0985\\u09a8\\u09c1\\u09af\\u09be\\u09af\\u09bc\\u09c0, \\u09af\\u0996\\u09a8 \\u0986\\u0987 \\u098f\\u09b8 \\u0987\\u09b0\\u09be\\u0995\\u09c7\\u09b0 \\u0989\\u09a4\\u09cd\\u09a4\\u09b0\\u09c7 \\u09b8\\u09bf\\u09a8\\u099c\\u09be\\u09b0 \\u09b6\\u09b9\\u09b0 \\u09a6\\u0996\\u09b2 \\u0995\\u09b0\\u09c7, \\u09a4\\u0996\\u09a8 \\u09a4\\u09be\\u09b0\\u09be \\u09b9\\u09be\\u099c\\u09be\\u09b0 \\u09b9\\u09be\\u099c\\u09be\\u09b0 \\u0987\\u09af\\u09bc\\u09be\\u099c\\u09bf\\u09a6\\u09bf \\u09a8\\u09be\\u09b0\\u09c0 \\u098f\\u09ac\\u0982 \\u09af\\u09c1\\u09ac\\u09a4\\u09c0 \\u09ae\\u09c7\\u09af\\u09bc\\u09c7\\u0995\\u09c7 \\u09ac\\u09a8\\u09cd\\u09a6\\u09c0 \\u0995\\u09b0\\u09c7, \\u098f\\u09ac\\u0982 \\u09a4\\u09be\\u09a6\\u09c7\\u09b0 \\u0985\\u09a8\\u09c7\\u0995\\u0995\\u09c7 \\u09af\\u09cc\\u09a8 \\u09a6\\u09be\\u09b8 \\u09b9\\u09bf\\u09b8\\u09c7\\u09ac\\u09c7 \\u09ac\\u09cd\\u09af\\u09ac\\u09b9\\u09be\\u09b0 \\u0995\\u09b0\\u09c7\\u0964 \\u09b9\\u09be\\u09a8\\u09cd\\u09a8\\u09be\\u09a8 \\u09a8\\u09be\\u09ae\\u09c7\\u09b0 \\u098f\\u0995\\u099c\\u09a8 \\u0987\\u09af\\u09bc\\u09be\\u099c\\u09bf\\u09a6\\u09bf \\u09a8\\u09be\\u09b0\\u09c0 \\u09ac\\u09b2\\u09c7\\u09a8 \\u09a4\\u09bf\\u09a8\\u09bf \\u0986\\u0987 \\u098f\\u09b8-\\u098f\\u09b0 \\u09b9\\u09be\\u09a4 \\u09a5\\u09c7\\u0995\\u09c7 \\u09aa\\u09be\\u09b2\\u09bf\\u09af\\u09bc\\u09c7 \\u09af\\u09c7\\u09a4\\u09c7 \\u09b8\\u0995\\u09cd\\u09b7\\u09ae \\u09b9\\u09a8\\u0964 \\u09a4\\u09bf\\u09a8\\u09bf \\u09ac\\u09bf\\u09ac\\u09bf\\u09b8\\u09bf\\u0995\\u09c7 \\u09ac\\u09b2\\u09c7\\u09a8, \\u09a4\\u09be\\u0995\\u09c7 \\u0986\\u09b0\\u09cb \\u09e8\\u09e6\\u09e6 \\u09a8\\u09be\\u09b0\\u09c0 \\u0993 \\u09ae\\u09c7\\u09af\\u09bc\\u09c7\\u09b0 \\u09b8\\u09be\\u09a5\\u09c7 \\u098f\\u0995\\u099f\\u09bf \\u0995\\u09cd\\u09b0\\u09c0\\u09a4\\u09a6\\u09be\\u09b8\\u09c0\\u09a6\\u09c7\\u09b0 \\u09b9\\u09be\\u099f-\\u098f \\u09a8\\u09bf\\u09af\\u09bc\\u09c7 \\u09af\\u09be\\u0993\\u09af\\u09bc\\u09be \\u09b9\\u09af\\u09bc, \\u09af\\u09c7\\u0996\\u09be\\u09a8\\u09c7 \\u0986\\u0987 \\u098f\\u09b8 \\u09af\\u09cb\\u09a6\\u09cd\\u09a7\\u09be\\u09b0\\u09be \\u098f\\u09b8\\u09c7 \\u09a8\\u09bf\\u099c\\u09c7\\u09b0 \\u09aa\\u099b\\u09a8\\u09cd\\u09a6 \\u09ae\\u09a4 \\u09ae\\u09c7\\u09af\\u09bc\\u09c7 \\u09a8\\u09bf\\u09af\\u09bc\\u09c7 \\u09af\\u09c7\\u09a4\\u0964\",\n          \"\\u099a\\u09c0\\u09a8\\u09c7\\u09b0 \\u09ac\\u09be\\u09b8\\u09bf\\u09a8\\u09cd\\u09a6\\u09be\\u09b0\\u09be ''\\u0989\\u09b9\\u09be\\u09a8 \\u099c\\u09bf\\u09af\\u09bc\\u09be\\u09af\\u09bc\\u09c1'' \\u09ac\\u09b2\\u09c7 \\u099a\\u09bf\\u09ce\\u0995\\u09be\\u09b0 \\u0995\\u09b0\\u099b\\u09c7\\u09a8, \\u0985\\u09a8\\u09c1\\u09ac\\u09be\\u09a6 \\u0995\\u09b0\\u09b2\\u09c7 \\u09af\\u09be\\u09b0 \\u0985\\u09b0\\u09cd\\u09a5 \\u09b9\\u09af\\u09bc ''\\u09b6\\u0995\\u09cd\\u09a4 \\u09a5\\u09be\\u0995\\u09cb \\u0989\\u09b9\\u09be\\u09a8'' \\u0985\\u09a5\\u09ac\\u09be ''\\u099a\\u09be\\u09b2\\u09bf\\u09af\\u09bc\\u09c7 \\u09af\\u09be\\u0993 \\u0989\\u09b9\\u09be\\u09a8\\u0964'' \\u09af\\u09c7 \\u09aa\\u09cd\\u09b0\\u09a4\\u09bf\\u09ac\\u09c7\\u09b6\\u09c0\\u09b0\\u09be \\u0986\\u09a8\\u09a8\\u09cd\\u09a6 \\u099b\\u09a1\\u09bc\\u09bf\\u09af\\u09bc\\u09c7 \\u09a6\\u09c7\\u09af\\u09bc \\u098f\\u0987 \\u09ad\\u09af\\u09bc\\u09be\\u09ac\\u09b9 \\u09b0\\u09cb\\u0997\\u099f\\u09bf\\u09b0 \\u09aa\\u09cd\\u09b0\\u09be\\u09a6\\u09c1\\u09b0\\u09cd\\u09ad\\u09be\\u09ac \\u0998\\u099f\\u09c7\\u099b\\u09c7 \\u098f\\u09ae\\u09a8 \\u09b8\\u09ae\\u09af\\u09bc \\u09af\\u0996\\u09a8 \\u099a\\u09c0\\u09a8\\u09c7\\u09b0 \\u0985\\u09a8\\u09cd\\u09af\\u09a4\\u09ae \\u09ac\\u09a1\\u09bc \\u098f\\u0995\\u099f\\u09bf \\u0989\\u09ce\\u09b8\\u09ac \\u099a\\u09a8\\u09cd\\u09a6\\u09cd\\u09b0 \\u09ac\\u09b0\\u09cd\\u09b7 \\u0989\\u09a6\\u09af\\u09be\\u09aa\\u09a8 \\u099a\\u09b2\\u099b\\u09c7\\u0964 \\u09ac\\u09bf\\u09b6\\u09c7\\u09b7 \\u0995\\u09b0\\u09c7 \\u09af\\u0996\\u09a8 \\u0995\\u09cd\\u09b0\\u09bf\\u09b8\\u09ae\\u09be\\u09b8 \\u098f\\u09ac\\u0982 \\u09a5\\u09cd\\u09af\\u09be\\u0995\\u09b8\\u0997\\u09bf\\u09ad\\u09bf\\u0982 \\u09a4\\u09be\\u09b0 \\u09b8\\u0999\\u09cd\\u0997\\u09c7 \\u09af\\u09cb\\u0997 \\u09b9\\u09af\\u09bc\\u09c7\\u099b\\u09c7- \\u09b8\\u09ac\\u09ae\\u09bf\\u09b2\\u09bf\\u09af\\u09bc\\u09c7 \\u0985\\u09a8\\u09c7\\u0995 \\u0986\\u09a8\\u09a8\\u09cd\\u09a6\\u09c7\\u09b0 \\u09ac\\u09cd\\u09af\\u09be\\u09aa\\u09be\\u09b0\\u0964 \\u0985\\u09a8\\u09c7\\u0995\\u09c7\\u09b0 \\u0995\\u09be\\u099b\\u09c7 \\u09ac\\u099b\\u09b0\\u09c7\\u09b0 \\u098f\\u099f\\u09be\\u0987 \\u098f\\u0995\\u09ae\\u09be\\u09a4\\u09cd\\u09b0 \\u09b8\\u09ae\\u09af\\u09bc \\u09af\\u0996\\u09a8 \\u09a4\\u09be\\u09a6\\u09c7\\u09b0 \\u09aa\\u09b0\\u09bf\\u09ac\\u09be\\u09b0\\u09c7\\u09b0 \\u09b8\\u09a6\\u09b8\\u09cd\\u09af\\u09a6\\u09c7\\u09b0 \\u09b8\\u0999\\u09cd\\u0997\\u09c7 \\u09a6\\u09c7\\u0996\\u09be \\u09b9\\u09af\\u09bc \\u098f\\u09ac\\u0982 \\u0996\\u09be\\u09ac\\u09be\\u09b0 \\u0986\\u09b0 \\u099f\\u09be\\u0995\\u09be\\u0995\\u09a1\\u09bc\\u09bf\\u09b0 \\u09ae\\u09a4\\u09cb \\u0989\\u09aa\\u09b9\\u09be\\u09b0 \\u09ac\\u09bf\\u09a8\\u09bf\\u09ae\\u09af\\u09bc \\u09b9\\u09af\\u09bc\\u0964 \\u09ad\\u09be\\u0987\\u09b0\\u09be\\u09b8\\u09c7\\u09b0 \\u099b\\u09a1\\u09bc\\u09bf\\u09af\\u09bc\\u09c7 \\u09aa\\u09a1\\u09bc\\u09be \\u09a0\\u09c7\\u0995\\u09be\\u09a4\\u09c7 \\u0989\\u09b9\\u09be\\u09a8\\u09c7\\u09b0 \\u09ac\\u09be\\u09b8\\u09bf\\u09a8\\u09cd\\u09a6\\u09be\\u09a6\\u09c7\\u09b0 \\u0998\\u09b0\\u09c7\\u09b0 \\u09ad\\u09c7\\u09a4\\u09b0\\u09c7 \\u09a5\\u09be\\u0995\\u09be\\u09b0 \\u099c\\u09a8\\u09cd\\u09af \\u0989\\u09ce\\u09b8\\u09be\\u09b9\\u09bf\\u09a4 \\u0995\\u09b0\\u09be \\u09b9\\u09af\\u09bc\\u09c7\\u099b\\u09c7\\u0964 \\u0995\\u09bf\\u09a8\\u09cd\\u09a4\\u09c1 \\u09b6\\u09b9\\u09b0\\u09c7\\u09b0 \\u098f\\u0995\\u099f\\u09bf \\u098f\\u09b2\\u09be\\u0995\\u09be\\u09b0 \\u0995\\u09bf\\u099b\\u09c1 \\u09ab\\u09cd\\u09b2\\u09cd\\u09af\\u09be\\u099f\\u09c7\\u09b0 \\u09ac\\u09be\\u09b8\\u09bf\\u09a8\\u09cd\\u09a6\\u09be\\u09b0\\u09be \\u09a8\\u09bf\\u099c\\u09c7\\u09a6\\u09c7\\u09b0 \\u0986\\u09a8\\u09a8\\u09cd\\u09a6\\u09c7 \\u09ad\\u09b0\\u09bf\\u09af\\u09bc\\u09c7 \\u09a4\\u09c1\\u09b2\\u09a4\\u09c7 \\u098f\\u0995\\u099f\\u09bf \\u09aa\\u09a5 \\u0996\\u09c1\\u0981\\u099c\\u09c7 \\u09ac\\u09c7\\u09b0 \\u0995\\u09b0\\u09c7\\u099b\\u09c7\\u09a8\\u0964 \\u09b8\\u09be\\u09ae\\u09be\\u099c\\u09bf\\u0995 \\u09ae\\u09be\\u09a7\\u09cd\\u09af\\u09ae\\u09c7 \\u099b\\u09a1\\u09bc\\u09bf\\u09af\\u09bc\\u09c7 \\u09aa\\u09a1\\u09bc\\u09be \\u09ad\\u09bf\\u09a1\\u09bf\\u0993\\u09a4\\u09c7 \\u09a6\\u09c7\\u0996\\u09be \\u0997\\u09c7\\u099b\\u09c7, \\u09ae\\u09be\\u09a8\\u09c1\\u09b7\\u099c\\u09a8 \\u09a4\\u09be\\u09a6\\u09c7\\u09b0 \\u099c\\u09be\\u09a8\\u09be\\u09b2\\u09be \\u09a5\\u09c7\\u0995\\u09c7 ''\\u0989\\u09b9\\u09be\\u09a8 \\u099c\\u09bf\\u09af\\u09bc\\u09be\\u09af\\u09bc\\u09c1'' \\u09ac\\u09b2\\u09c7 \\u099a\\u09bf\\u09ce\\u0995\\u09be\\u09b0 \\u0995\\u09b0\\u099b\\u09c7\\u09a8, \\u0985\\u09a8\\u09c1\\u09ac\\u09be\\u09a6 \\u0995\\u09b0\\u09b2\\u09c7 \\u09af\\u09be\\u09b0 \\u0985\\u09b0\\u09cd\\u09a5 \\u09b9\\u09af\\u09bc ''\\u09b6\\u0995\\u09cd\\u09a4 \\u09a5\\u09be\\u0995\\u09cb \\u0989\\u09b9\\u09be\\u09a8'' \\u0985\\u09a5\\u09ac\\u09be ''\\u099a\\u09be\\u09b2\\u09bf\\u09af\\u09bc\\u09c7 \\u09af\\u09be\\u0993 \\u0989\\u09b9\\u09be\\u09a8\\u0964'' \\u098f\\u0987 \\u09ac\\u09be\\u0995\\u09cd\\u09af\\u0997\\u09c1\\u09b2\\u09cb \\u098f\\u0995\\u099f\\u09bf \\u09ac\\u09cd\\u09b2\\u0995 \\u09a5\\u09c7\\u0995\\u09c7 \\u0986\\u09b0\\u09c7\\u0995\\u099f\\u09bf \\u09ac\\u09cd\\u09b2\\u0995\\u09c7 \\u099b\\u09a1\\u09bc\\u09bf\\u09af\\u09bc\\u09c7 \\u09af\\u09be\\u099a\\u09cd\\u099b\\u09c7 \\u098f\\u09ac\\u0982 \\u09ad\\u09bf\\u09a1\\u09bf\\u0993\\u09b0 \\u09ac\\u09cd\\u09af\\u09be\\u0995\\u0997\\u09cd\\u09b0\\u09be\\u0989\\u09a8\\u09cd\\u09a1\\u09c7 \\u09ac\\u09be\\u09b8\\u09bf\\u09a8\\u09cd\\u09a6\\u09be\\u09a6\\u09c7\\u09b0 \\u099a\\u09bf\\u09ce\\u0995\\u09be\\u09b0 \\u09b6\\u09cb\\u09a8\\u09be \\u09af\\u09be\\u099a\\u09cd\\u099b\\u09c7\\u0964 \\u098f\\u0987 \\u09ac\\u09be\\u0995\\u09cd\\u09af\\u099f\\u09bf \\u099b\\u09a1\\u09bc\\u09bf\\u09af\\u09bc\\u09c7 \\u09aa\\u09a1\\u09bc\\u09c7\\u099b\\u09c7 \\u09b8\\u09be\\u09ae\\u09be\\u099c\\u09bf\\u0995 \\u09ae\\u09be\\u09a7\\u09cd\\u09af\\u09ae\\u09c7\\u0993\\u0964 \\u09b8\\u09be\\u09ae\\u09be\\u099c\\u09bf\\u0995 \\u09ae\\u09be\\u09a7\\u09cd\\u09af\\u09ae \\u0993\\u09af\\u09bc\\u09c7\\u0987\\u09ac\\u09cb\\u09a4\\u09c7 \\u098f\\u0987 \\u09ac\\u09be\\u0995\\u09cd\\u09af ''\\u0989\\u09b9\\u09be\\u09a8 \\u099c\\u09bf\\u09af\\u09bc\\u09be\\u09af\\u09bc\\u09c1'' \\u098f\\u0996\\u09a8 \\u098f\\u0995\\u099f\\u09bf \\u099f\\u09cd\\u09b0\\u09c7\\u09a8\\u09cd\\u09a1\\u09bf\\u0982 \\u09ac\\u09be\\u0995\\u09cd\\u09af\\u0964 \\u0986\\u09b0\\u09cb \\u09aa\\u09a1\\u09bc\\u09c1\\u09a8: \\u0986\\u09ae\\u09b0\\u09be \\u09aa\\u09c1\\u09b0\\u09cb \\u0985\\u09ac\\u09b0\\u09c1\\u09a6\\u09cd\\u09a7: \\u0989\\u09b9\\u09be\\u09a8 \\u09a5\\u09c7\\u0995\\u09c7 \\u09ac\\u09be\\u0982\\u09b2\\u09be\\u09a6\\u09c7\\u09b6\\u09bf \\u099b\\u09be\\u09a4\\u09cd\\u09b0\\u09c0 \\u099a\\u09c0\\u09a8\\u09c7 \\u0995\\u09b0\\u09cb\\u09a8\\u09be\\u09ad\\u09be\\u0987\\u09b0\\u09be\\u09b8\\u09c7 \\u09ae\\u09c3\\u09a4\\u09cd\\u09af\\u09c1\\u09b0 \\u09b8\\u0982\\u0996\\u09cd\\u09af\\u09be \\u098f\\u0995\\u09b6\\u09cb \\u099b\\u09be\\u09a1\\u09bc\\u09be\\u09b2\\u09cb \\u0995\\u09b0\\u09cb\\u09a8\\u09be\\u09ad\\u09be\\u0987\\u09b0\\u09be\\u09b8: \\u09b2\\u0995\\u09cd\\u09b7\\u09a3, \\u09aa\\u09cd\\u09b0\\u09a4\\u09bf\\u09b0\\u09cb\\u09a7 \\u0993 \\u0986\\u09b0\\u09cb \\u09a6\\u09b6\\u099f\\u09bf \\u09a4\\u09a5\\u09cd\\u09af \\u099a\\u09c0\\u09a8\\u09c7 \\u0995\\u09b0\\u09cb\\u09a8\\u09be\\u09ad\\u09be\\u0987\\u09b0\\u09be\\u09b8 \\u0995\\u09bf \\u09a8\\u09bf\\u09af\\u09bc\\u09a8\\u09cd\\u09a4\\u09cd\\u09b0\\u09a3\\u09c7\\u09b0 \\u09ac\\u09be\\u0987\\u09b0\\u09c7 \\u099a\\u09b2\\u09c7 \\u09af\\u09be\\u099a\\u09cd\\u099b\\u09c7? \\u0989\\u09b9\\u09be\\u09a8\\u09c7\\u09b0 \\u09ac\\u09be\\u0982\\u09b2\\u09be\\u09a6\\u09c7\\u09b6\\u09bf\\u09a6\\u09c7\\u09b0 \\u09ac\\u09bf\\u099a\\u09b2\\u09bf\\u09a4 \\u09a8\\u09be \\u09b9\\u09ac\\u09be\\u09b0 \\u0986\\u09b9\\u09cd\\u09ac\\u09be\\u09a8 \\u0995\\u09b0\\u09cb\\u09a8\\u09be\\u09ad\\u09be\\u0987\\u09b0\\u09be\\u09b8: \\u09b2\\u0995\\u09cd\\u09b7\\u09a3 \\u0993 \\u09ac\\u09be\\u0981\\u099a\\u09be\\u09b0 \\u0989\\u09aa\\u09be\\u09af\\u09bc \\u0995\\u09c0? \\u0989\\u09b9\\u09be\\u09a8\\u09c7\\u09b0 \\u09b8\\u0999\\u09cd\\u0997\\u09c7 (\\u09af\\u09c7\\u0996\\u09be\\u09a8\\u09c7 \\u09ad\\u09be\\u0987\\u09b0\\u09be\\u09b8\\u09c7 \\u0986\\u0995\\u09cd\\u09b0\\u09be\\u09a8\\u09cd\\u09a4 \\u09b9\\u09af\\u09bc\\u09c7 \\u09ac\\u09c7\\u09b6\\u09bf\\u09b0\\u09ad\\u09be\\u0997 \\u09ae\\u09c3\\u09a4\\u09cd\\u09af\\u09c1\\u09b0 \\u0998\\u099f\\u09a8\\u09be \\u0998\\u099f\\u09c7\\u099b\\u09c7) \\u098f\\u0995\\u09be\\u09a4\\u09cd\\u09ae\\u09a4\\u09be \\u09aa\\u09cd\\u09b0\\u0995\\u09be\\u09b6 \\u0995\\u09b0\\u09be\\u09b0 \\u099c\\u09a8\\u09cd\\u09af \\u099a\\u09c0\\u09a8\\u09c7\\u09b0 \\u0985\\u09a8\\u09c7\\u0995 \\u098f\\u09b2\\u09be\\u0995\\u09be\\u09b0 \\u09ac\\u09be\\u09b8\\u09bf\\u09a8\\u09cd\\u09a6\\u09be\\u09b0\\u09be \\u098f\\u0987 \\u09ac\\u09be\\u0995\\u09cd\\u09af \\u09b2\\u09c7\\u0996\\u09be \\u099b\\u09ac\\u09bf \\u09b8\\u09c7\\u0996\\u09be\\u09a8\\u09c7 \\u09aa\\u09cb\\u09b8\\u09cd\\u099f \\u0995\\u09b0\\u09c7\\u099b\\u09c7\\u09a8\\u0964 ''\\u0986\\u09ae\\u09b0\\u09be\\u0993 \\u098f\\u0995\\u0987 \\u09b8\\u0982\\u0995\\u099f\\u09c7\\u09b0 \\u09ad\\u09c7\\u09a4\\u09b0 \\u09a6\\u09bf\\u09af\\u09bc\\u09c7 \\u09af\\u09be\\u099a\\u09cd\\u099b\\u09bf\\u0964 \\u0989\\u09b9\\u09be\\u09a8 \\u099c\\u09bf\\u09af\\u09bc\\u09be\\u09af\\u09bc\\u09c1, \\u09aa\\u09c1\\u09b0\\u09cb \\u09a6\\u09c7\\u09b6 \\u09a4\\u09cb\\u09ae\\u09be\\u09a6\\u09c7\\u09b0 \\u09b8\\u09ae\\u09b0\\u09cd\\u09a5\\u09a8 \\u09a6\\u09bf\\u099a\\u09cd\\u099b\\u09c7'' \\u098f\\u0995\\u099c\\u09a8 \\u0993\\u09af\\u09bc\\u09c7\\u0987\\u09ac\\u09cb\\u09a4\\u09c7 \\u09ae\\u09a8\\u09cd\\u09a4\\u09ac\\u09cd\\u09af \\u0995\\u09b0\\u09c7\\u099b\\u09c7\\u09a8\\u0964 \\u09ad\\u09be\\u0987\\u09b0\\u09be\\u09b8\\u099f\\u09bf \\u099b\\u09a1\\u09bc\\u09bf\\u09af\\u09bc\\u09c7 \\u09aa\\u09a1\\u09bc\\u09be\\u09b0 \\u09aa\\u09b0 \\u098f\\u0995\\u09b6\\u09cb \\u099c\\u09a8\\u09c7\\u09b0 \\u09ac\\u09c7\\u09b6\\u09bf \\u09ae\\u09be\\u09a8\\u09c1\\u09b7 \\u09ae\\u09be\\u09b0\\u09be \\u0997\\u09c7\\u099b\\u09c7, \\u09af\\u09be\\u09a6\\u09c7\\u09b0 \\u09ac\\u09c7\\u09b6\\u09bf\\u09b0\\u09ad\\u09be\\u0997\\u0987 \\u0989\\u09b9\\u09be\\u09a8\\u09c7\\u09b0 \\u09ac\\u09be\\u09b8\\u09bf\\u09a8\\u09cd\\u09a6\\u09be\\u0964 \\u09b0\\u09cb\\u0997\\u099f\\u09bf \\u098f\\u0996\\u09a8 \\u099a\\u09c0\\u09a8 \\u098f\\u09ac\\u0982 \\u09ac\\u09bf\\u09b6\\u09cd\\u09ac\\u09c7\\u09b0 \\u0985\\u09a8\\u09cd\\u09af\\u09be\\u09a8\\u09cd\\u09af \\u09a6\\u09c7\\u09b6\\u09c7\\u0993 \\u099b\\u09a1\\u09bc\\u09bf\\u09af\\u09bc\\u09c7 \\u09aa\\u09a1\\u09bc\\u09c7\\u099b\\u09c7\\u0964 \\u09af\\u09a6\\u09bf\\u0993 \\u099a\\u09c0\\u09a8\\u09c7 \\u09b0\\u09cb\\u0997\\u099f\\u09bf\\u09b0 \\u09ac\\u09cd\\u09af\\u09ac\\u09b8\\u09cd\\u09a5\\u09be\\u09aa\\u09a8\\u09be \\u09a8\\u09bf\\u09af\\u09bc\\u09c7 \\u09ad\\u09af\\u09bc \\u098f\\u09ac\\u0982 \\u0995\\u09b0\\u09cd\\u09a4\\u09c3\\u09aa\\u0995\\u09cd\\u09b7\\u09c7\\u09b0 \\u09aa\\u09cd\\u09b0\\u09a4\\u09bf \\u0995\\u09cd\\u09b7\\u09cb\\u09ad \\u09b0\\u09af\\u09bc\\u09c7\\u099b\\u09c7, \\u0995\\u09bf\\u09a8\\u09cd\\u09a4\\u09c1 \\u09a6\\u09c7\\u09b6\\u099f\\u09bf\\u09b0 \\u09b0\\u09be\\u09b7\\u09cd\\u099f\\u09cd\\u09b0\\u09c0\\u09af\\u09bc \\u0997\\u09a3\\u09ae\\u09be\\u09a7\\u09cd\\u09af\\u09ae \\u0989\\u09b9\\u09be\\u09a8\\u09c7\\u09b0 \\u09ac\\u09be\\u09b8\\u09bf\\u09a8\\u09cd\\u09a6\\u09be\\u09a6\\u09c7\\u09b0 \\u098f\\u09b8\\u09ac \\u098f\\u0995\\u09be\\u09a4\\u09cd\\u09ae\\u09a4\\u09be\\u09b0 \\u09a8\\u09be\\u09a8\\u09be \\u0997\\u09b2\\u09cd\\u09aa \\u0997\\u09c1\\u09b0\\u09c1\\u09a4\\u09cd\\u09ac \\u09a6\\u09bf\\u09af\\u09bc\\u09c7 \\u09aa\\u09cd\\u09b0\\u099a\\u09be\\u09b0 \\u0995\\u09b0\\u099b\\u09c7\\u0964 \\u0989\\u09b9\\u09be\\u09a8\\u09c7\\u09b0 \\u098f\\u0995\\u099f\\u09bf \\u09b9\\u09be\\u09b8\\u09aa\\u09be\\u09a4\\u09be\\u09b2\\u09c7\\u09b0 \\u099a\\u09bf\\u0995\\u09bf\\u09ce\\u09b8\\u09be \\u0995\\u09b0\\u09cd\\u09ae\\u09c0\\u09a6\\u09c7\\u09b0 \\u099c\\u09a8\\u09cd\\u09af \\u09a6\\u09c1'\\u09b6 \\u0996\\u09be\\u09ac\\u09be\\u09b0 \\u09aa\\u09cd\\u09af\\u09be\\u0995\\u09c7\\u099f \\u09a4\\u09c8\\u09b0\\u09bf \\u0995\\u09b0\\u09c7\\u099b\\u09c7\\u09a8 \\u09b2\\u09bf \\u09ac\\u09cb \\u09af\\u09c7 \\u09b0\\u09c7\\u09b8\\u09cd\\u09a4\\u09cb\\u09b0\\u09be \\u09ae\\u09be\\u09b2\\u09bf\\u0995 \\u0996\\u09be\\u09ac\\u09be\\u09b0\\u09c7\\u09b0 \\u09a6\\u09c1\\u0987'\\u09b6 \\u09aa\\u09cd\\u09af\\u09be\\u0995\\u09c7\\u099f \\u09a4\\u09c8\\u09b0\\u09bf \\u0995\\u09b0\\u09c7\\u099b\\u09c7\\u09a8 \\u0989\\u09b9\\u09be\\u09a8\\u09c7\\u09b0 \\u09a8\\u09a4\\u09c1\\u09a8 \\u098f\\u0995\\u099f\\u09bf \\u09b0\\u09c7\\u09b8\\u09cd\\u09a4\\u09cb\\u09b0\\u09be\\u09b0 \\u09ae\\u09be\\u09b2\\u09bf\\u0995 \\u09a8\\u09a4\\u09c1\\u09a8 \\u099a\\u09a8\\u09cd\\u09a6\\u09cd\\u09b0 \\u09ac\\u099b\\u09b0 \\u0989\\u09a6\\u09af\\u09be\\u09aa\\u09a8 \\u0995\\u09b0\\u09c7\\u099b\\u09c7\\u09a8 \\u09b6\\u09b9\\u09b0\\u09c7\\u09b0 \\u099a\\u09bf\\u0995\\u09bf\\u09ce\\u09b8\\u09be \\u0995\\u09b0\\u09cd\\u09ae\\u09c0\\u09a6\\u09c7\\u09b0 \\u099c\\u09a8\\u09cd\\u09af \\u0996\\u09be\\u09ac\\u09be\\u09b0\\u09c7\\u09b0 \\u09aa\\u09cd\\u09af\\u09be\\u0995\\u09c7\\u099f \\u09a4\\u09c8\\u09b0\\u09bf \\u0995\\u09b0\\u09c7\\u0964 \\u098f\\u0987 \\u09a4\\u09a5\\u09cd\\u09af \\u09a6\\u09bf\\u09af\\u09bc\\u09c7\\u099b\\u09c7 \\u099a\\u09c0\\u09a8\\u09c7\\u09b0 \\u09b0\\u09be\\u09b7\\u09cd\\u099f\\u09cd\\u09b0\\u09c0\\u09af\\u09bc \\u09a6\\u09c8\\u09a8\\u09bf\\u0995 \\u09aa\\u09a4\\u09cd\\u09b0\\u09bf\\u0995\\u09be \\u099a\\u09cd\\u09af\\u09be\\u0999\\u099c\\u09bf\\u09af\\u09bc\\u09be\\u0999\\u0964 \\u09b6\\u09b9\\u09b0\\u09c7 \\u098f\\u0995\\u09ae\\u09be\\u09b8 \\u0986\\u0997\\u09c7 \\u09a8\\u09a4\\u09c1\\u09a8 \\u09b0\\u09c7\\u09b8\\u09cd\\u09a4\\u09cb\\u09b0\\u09be \\u099a\\u09be\\u09b2\\u09c1 \\u0995\\u09b0\\u09c7\\u09a8 \\u09b2\\u09bf \\u09ac\\u09cb\\u0964 \\u098f\\u099c\\u09a8\\u09cd\\u09af \\u09a4\\u09b9\\u09ac\\u09bf\\u09b2 \\u09b8\\u0982\\u0997\\u09cd\\u09b0\\u09b9 \\u0995\\u09b0\\u09be\\u09b0 \\u099c\\u09a8\\u09cd\\u09af \\u09a4\\u09bf\\u09a8\\u09bf \\u09a4\\u09be\\u09b0 \\u0997\\u09be\\u09a1\\u09bc\\u09bf \\u09ac\\u09bf\\u0995\\u09cd\\u09b0\\u09bf \\u0995\\u09b0\\u09c7 \\u09a6\\u09c7\\u09a8 \\u098f\\u09ac\\u0982 \\u099f\\u09be\\u0995\\u09be-\\u09aa\\u09af\\u09bc\\u09b8\\u09be \\u09a7\\u09be\\u09b0 \\u0995\\u09b0\\u09c7\\u09a8\\u0964 \\u0995\\u09bf\\u09a8\\u09cd\\u09a4\\u09c1 \\u09e9\\u09ec \\u09ac\\u099b\\u09b0\\u09c7\\u09b0 \\u098f\\u0987 \\u09ac\\u09cd\\u09af\\u0995\\u09cd\\u09a4\\u09bf \\u09ac\\u09cd\\u09af\\u09ac\\u09b8\\u09be \\u09aa\\u09c1\\u09b0\\u09cb\\u09aa\\u09c1\\u09b0\\u09bf \\u09b6\\u09c1\\u09b0\\u09c1 \\u0995\\u09b0\\u09be\\u09b0 \\u0986\\u0997\\u09c7\\u0987 \\u0995\\u09b0\\u09cb\\u09a8\\u09be\\u09ad\\u09be\\u0987\\u09b0\\u09be\\u09b8\\u09c7\\u09b0 \\u09aa\\u09cd\\u09b0\\u09be\\u09a6\\u09c1\\u09b0\\u09cd\\u09ad\\u09be\\u09ac \\u0998\\u099f\\u09c7\\u0964 \\u09ab\\u09b2\\u09c7 \\u09b6\\u09b9\\u09b0\\u09c7\\u09b0 \\u09b0\\u09be\\u09b8\\u09cd\\u09a4\\u09be\\u0998\\u09be\\u099f \\u09ab\\u09be\\u0981\\u0995\\u09be \\u09b9\\u09af\\u09bc\\u09c7 \\u09af\\u09be\\u09af\\u09bc \\u098f\\u09ac\\u0982 \\u09b0\\u09c7\\u09b8\\u09cd\\u09a4\\u09cb\\u09b0\\u09be\\u0997\\u09c1\\u09b2\\u09cb \\u09ae\\u09b0\\u09c1\\u09ad\\u09c2\\u09ae\\u09bf\\u09a4\\u09c7 \\u09aa\\u09b0\\u09bf\\u09a3\\u09a4 \\u09b9\\u09af\\u09bc\\u0964 ''\\u0986\\u09ae\\u09bf \\u09aa\\u09cd\\u09b0\\u099a\\u09a3\\u09cd\\u09a1 \\u09ad\\u09af\\u09bc \\u09aa\\u09c7\\u09af\\u09bc\\u09c7 \\u0997\\u09bf\\u09af\\u09bc\\u09c7\\u099b\\u09bf\\u09b2\\u09be\\u09ae\\u0964 \\u0986\\u09ae\\u09bf \\u09ac\\u09be\\u09b8\\u09be\\u09af\\u09bc \\u09b6\\u09c1\\u09af\\u09bc\\u09c7 \\u09b6\\u09c1\\u09af\\u09bc\\u09c7 \\u099a\\u09bf\\u09a8\\u09cd\\u09a4\\u09be \\u0995\\u09b0\\u099b\\u09bf\\u09b2\\u09be\\u09ae \\u09af\\u09c7, \\u0995\\u09c0\\u09ad\\u09be\\u09ac\\u09c7 \\u0986\\u09ae\\u09bf \\u0986\\u09ae\\u09be\\u09b0 \\u098b\\u09a3 \\u09b6\\u09cb\\u09a7 \\u0995\\u09b0\\u09ac\\u09cb,'' \\u09a6\\u09c8\\u09a8\\u09bf\\u0995 \\u099a\\u09cd\\u09af\\u09be\\u0999\\u099c\\u09bf\\u09af\\u09bc\\u09be\\u0999 \\u09aa\\u09a4\\u09cd\\u09b0\\u09bf\\u0995\\u09be\\u0995\\u09c7 \\u09a4\\u09bf\\u09a8\\u09bf \\u09ac\\u09b2\\u099b\\u09bf\\u09b2\\u09c7\\u09a8\\u0964 ''\\u0995\\u09bf\\u09a8\\u09cd\\u09a4\\u09c1 \\u09af\\u0996\\u09a8 \\u0986\\u09ae\\u09bf \\u0996\\u09ac\\u09b0\\u09c7 \\u09a6\\u09c7\\u0996\\u09b2\\u09be\\u09ae \\u09af\\u09c7, \\u09b9\\u09be\\u09b8\\u09aa\\u09be\\u09a4\\u09be\\u09b2\\u09c7\\u09b0 \\u099a\\u09bf\\u0995\\u09bf\\u09ce\\u09b8\\u09be \\u0995\\u09b0\\u09cd\\u09ae\\u09c0\\u09b0\\u09be \\u09b9\\u09bf\\u09ae\\u09b6\\u09bf\\u09ae \\u0996\\u09be\\u099a\\u09cd\\u099b\\u09c7, \\u09a4\\u0996\\u09a8 \\u0986\\u09ae\\u09be\\u09b0 \\u09ae\\u09a8\\u09c7 \\u09b9\\u09b2\\u09cb \\u0986\\u09ae\\u09be\\u09b0\\u0993 \\u0995\\u09bf\\u099b\\u09c1 \\u0995\\u09b0\\u09be \\u0989\\u099a\\u09bf\\u09a4\\u0964 \\u0986\\u09ae\\u09bf \\u0986\\u09ae\\u09be\\u09b0 \\u099c\\u09be\\u09af\\u09bc\\u0997\\u09be \\u09a5\\u09c7\\u0995\\u09c7 \\u0995\\u09bf\\u099b\\u09c1 \\u0995\\u09b0\\u09a4\\u09c7 \\u099a\\u09c7\\u09af\\u09bc\\u09c7\\u099b\\u09bf\\u09b2\\u09be\\u09ae, \\u09a4\\u09be \\u09af\\u09a4 \\u09b8\\u09be\\u09ae\\u09be\\u09a8\\u09cd\\u09af\\u0987 \\u09b9\\u09cb\\u0995 \\u09a8\\u09be \\u0995\\u09c7\\u09a8\\u0964'' \\u09b8\\u0982\\u09ac\\u09be\\u09a6 \\u09ac\\u09bf\\u09b7\\u09af\\u09bc\\u0995 \\u0993\\u09af\\u09bc\\u09c7\\u09ac\\u09b8\\u09be\\u0987\\u099f \\u09ac\\u09c7\\u0987\\u099c\\u09bf\\u0982 \\u09a8\\u09bf\\u0989\\u099c\\u09c7\\u09b0 \\u09a4\\u09a5\\u09cd\\u09af \\u0985\\u09a8\\u09c1\\u09af\\u09be\\u09af\\u09bc\\u09c0, \\u0989\\u09b9\\u09be\\u09a8\\u09c7\\u09b0 \\u09ac\\u09c7\\u09b6 \\u0995\\u09bf\\u099b\\u09c1 \\u09b9\\u09be\\u09b8\\u09aa\\u09be\\u09a4\\u09be\\u09b2\\u09c7 \\u0996\\u09be\\u09ac\\u09be\\u09b0 \\u09b8\\u0982\\u0995\\u099f \\u09b0\\u09af\\u09bc\\u09c7\\u099b\\u09c7\\u0964 \\u0989\\u09b9\\u09be\\u09a8\\u09c7\\u09b0 \\u09a6\\u09c1\\u0987\\u099c\\u09a8 \\u09ac\\u09be\\u09b8\\u09bf\\u09a8\\u09cd\\u09a6\\u09be \\u098f\\u09b0 \\u0986\\u0997\\u09c7 \\u09ac\\u09bf\\u09ac\\u09bf\\u09b8\\u09bf\\u0995\\u09c7 \\u09ac\\u09b2\\u09c7\\u099b\\u09c7\\u09a8 \\u09af\\u09c7, \\u09b6\\u09b9\\u09b0\\u09c7\\u09b0 \\u09ac\\u09be\\u09b8\\u09bf\\u09a8\\u09cd\\u09a6\\u09be\\u09b0\\u09be \\u0996\\u09be\\u09ac\\u09be\\u09b0 \\u09ae\\u099c\\u09c1\\u09a6 \\u0995\\u09b0\\u09be\\u09b0 \\u099a\\u09c7\\u09b7\\u09cd\\u099f\\u09be \\u0995\\u09b0\\u099b\\u09c7\\u09a8\\u0964 \\u09ac\\u09be\\u09ac\\u09c1\\u09b0\\u09cd\\u099a\\u09bf\\u0995\\u09c7 \\u09b8\\u0999\\u09cd\\u0997\\u09c7 \\u09a8\\u09bf\\u09af\\u09bc\\u09c7 \\u09b2\\u09bf \\u09ac\\u09cb \\u09b8\\u09be\\u09b0\\u09be\\u09a6\\u09bf\\u09a8 \\u099a\\u09c7\\u09b7\\u09cd\\u099f\\u09be \\u0995\\u09b0\\u09c7 \\u0996\\u09be\\u09ac\\u09be\\u09b0\\u09c7\\u09b0 \\u0989\\u09aa\\u0995\\u09b0\\u09a3 \\u0995\\u09bf\\u09a8\\u09c7\\u099b\\u09c7\\u09a8 \\u098f\\u09ac\\u0982 \\u09a6\\u09c1\\u0987'\\u09b6 \\u09ac\\u09be\\u0995\\u09cd\\u09b8 \\u09ac\\u09be\\u09a8\\u09be\\u09a8\\u09cb\\u09b0 \\u09ae\\u09a4\\u09cb \\u0996\\u09be\\u09ac\\u09be\\u09b0 \\u09b0\\u09be\\u09a8\\u09cd\\u09a8\\u09be \\u0995\\u09b0\\u09c7\\u099b\\u09c7\\u09a8\\u0964 \\u09aa\\u09b0\\u09ac\\u09b0\\u09cd\\u09a4\\u09c0\\u09a4\\u09c7 \\u09b8\\u09c7\\u0997\\u09c1\\u09b2\\u09cb \\u0989\\u09b9\\u09be\\u09a8\\u09c7\\u09b0 \\u09b6\\u09bf\\u09b9\\u09c7 \\u09b9\\u09be\\u09b8\\u09aa\\u09be\\u09a4\\u09be\\u09b2\\u09c7 \\u099a\\u09bf\\u0995\\u09bf\\u09ce\\u09b8\\u09be \\u0995\\u09b0\\u09cd\\u09ae\\u09c0\\u09a6\\u09c7\\u09b0 \\u09ad\\u09c7\\u09a4\\u09b0 \\u09ac\\u09bf\\u09a4\\u09b0\\u09a3 \\u0995\\u09b0\\u09be \\u09b9\\u09af\\u09bc\\u0964 \\u0993\\u0987 \\u09b8\\u0982\\u09ac\\u09be\\u09a6 \\u09ae\\u09be\\u09a7\\u09cd\\u09af\\u09ae\\u0995\\u09c7 \\u09b2\\u09bf \\u09ac\\u09cb \\u09ac\\u09b2\\u09c7\\u099b\\u09c7\\u09a8,''\\u099a\\u09bf\\u0995\\u09bf\\u09ce\\u09b8\\u09be \\u0995\\u09b0\\u09cd\\u09ae\\u09c0\\u09b0\\u09be \\u09af\\u09be\\u09a4\\u09c7 \\u0997\\u09b0\\u09ae \\u0996\\u09be\\u09ac\\u09be\\u09b0 \\u0996\\u09c7\\u09a4\\u09c7 \\u09aa\\u09be\\u09b0\\u09c7\\u09a8, \\u09b8\\u09c7\\u099c\\u09a8\\u09cd\\u09af \\u0986\\u09ae\\u09bf \\u0986\\u09ae\\u09be\\u09b0 \\u09b8\\u09be\\u09a7\\u09cd\\u09af\\u09ae\\u09a4 \\u099a\\u09c7\\u09b7\\u09cd\\u099f\\u09be \\u0995\\u09b0\\u09c7\\u099b\\u09bf\\u0964 \\u0986\\u09ae\\u09be\\u09b0 \\u0986\\u09b6\\u09be, \\u09a4\\u09be\\u09a6\\u09c7\\u09b0 \\u09af\\u09c7 \\u09aa\\u09c1\\u09b7\\u09cd\\u099f\\u09bf\\u09b0 \\u09a6\\u09b0\\u0995\\u09be\\u09b0, \\u09a4\\u09be\\u09b0\\u09be \\u09a4\\u09be \\u09aa\\u09c7\\u09af\\u09bc\\u09c7\\u099b\\u09c7\\u09a8 \\u09af\\u09be \\u09a4\\u09be\\u09a6\\u09c7\\u09b0 \\u099c\\u09a8\\u09cd\\u09af \\u09b6\\u09be\\u09b0\\u09c0\\u09b0\\u09bf\\u0995\\u09ad\\u09be\\u09ac\\u09c7 \\u0989\\u09aa\\u0995\\u09be\\u09b0\\u09c0 \\u09b9\\u09ac\\u09c7\\u0964'' \\u09a4\\u09bf\\u09a8\\u09bf \\u099c\\u09be\\u09a8\\u09bf\\u09af\\u09bc\\u09c7\\u099b\\u09c7\\u09a8, \\u09af\\u09a4\\u0995\\u09cd\\u09b7\\u09a3 \\u09a4\\u09be\\u09b0 \\u09aa\\u0995\\u09cd\\u09b7\\u09c7 \\u09b8\\u09ae\\u09cd\\u09ad\\u09ac, \\u09a4\\u09a4\\u0995\\u09cd\\u09b7\\u09a3 \\u09a4\\u09bf\\u09a8\\u09bf \\u0996\\u09be\\u09ac\\u09be\\u09b0 \\u09b8\\u09b0\\u09ac\\u09b0\\u09be\\u09b9 \\u099a\\u09be\\u09b2\\u09bf\\u09af\\u09bc\\u09c7 \\u09af\\u09c7\\u09a4\\u09c7 \\u099a\\u09be\\u09a8\\u0964 ''\\u0986\\u09ae\\u09bf \\u0986\\u09b6\\u09be \\u0995\\u09b0\\u099b\\u09bf, \\u0986\\u09ae\\u09be\\u09a6\\u09c7\\u09b0 \\u09ad\\u09be\\u09b2\\u09cb\\u09ac\\u09be\\u09b8\\u09be\\u09b0 \\u09b6\\u09b9\\u09b0\\u099f\\u09bf \\u0996\\u09c1\\u09ac \\u09a4\\u09be\\u09a1\\u09bc\\u09be\\u09a4\\u09be\\u09a1\\u09bc\\u09bf \\u09a0\\u09bf\\u0995 \\u09b9\\u09af\\u09bc\\u09c7 \\u09af\\u09be\\u09ac\\u09c7\\u0964'' \\u09e7\\u09eb\\u09e6\\u09e6\\u09e6 \\u09ae\\u09be\\u09b8\\u09cd\\u0995 \\u09a6\\u09be\\u09a8 \\u0995\\u09b0\\u09c7\\u099b\\u09c7\\u09a8 \\u09b9\\u09be\\u0993 \\u099c\\u09bf\\u09a8 \\u09af\\u09c7 \\u0997\\u09cd\\u09b0\\u09be\\u09ae\\u09ac\\u09be\\u09b8\\u09c0 \\u09e7\\u09eb\\u09e6\\u09e6\\u09e6 \\u09ae\\u09be\\u09b8\\u09cd\\u0995 \\u09a6\\u09be\\u09a8 \\u0995\\u09b0\\u09c7\\u099b\\u09c7\\u09a8 \\u0995\\u09b0\\u09cb\\u09a8\\u09be\\u09ad\\u09be\\u0987\\u09b0\\u09be\\u09b8\\u09c7\\u09b0 \\u09ad\\u09c0\\u09a4\\u09bf \\u099b\\u09a1\\u09bc\\u09bf\\u09af\\u09bc\\u09c7 \\u09aa\\u09a1\\u09bc\\u09be\\u09b0 \\u09aa\\u09b0 \\u09a5\\u09c7\\u0995\\u09c7 \\u099a\\u09c0\\u09a8 \\u099c\\u09c1\\u09a1\\u09bc\\u09c7 \\u09b9\\u09be\\u099c\\u09be\\u09b0 \\u09b9\\u09be\\u099c\\u09be\\u09b0 \\u09ae\\u09be\\u09a8\\u09c1\\u09b7 \\u09ae\\u09be\\u09b8\\u09cd\\u0995 \\u0995\\u09bf\\u09a8\\u09c7 \\u09aa\\u09a1\\u09bc\\u09a4\\u09c7 \\u09b6\\u09c1\\u09b0\\u09c1 \\u0995\\u09b0\\u09c7\\u099b\\u09c7\\u09a8, \\u09ab\\u09b2\\u09c7 \\u0985\\u09a8\\u09c7\\u0995 \\u09b8\\u09cd\\u09a5\\u09be\\u09a8\\u09c7 \\u09ae\\u09be\\u09b8\\u09cd\\u0995\\u09c7\\u09b0 \\u09b8\\u0982\\u0995\\u099f \\u09a4\\u09c8\\u09b0\\u09bf \\u09b9\\u09af\\u09bc\\u09c7\\u099b\\u09c7\\u0964 \\u09ae\\u09be\\u09b8\\u09cd\\u0995 \\u098f\\u09a4\\u09cb\\u099f\\u09be\\u0987 \\u09a6\\u09be\\u09ae\\u09c0 \\u09ac\\u09b8\\u09cd\\u09a4\\u09c1\\u09a4\\u09c7 \\u09aa\\u09b0\\u09bf\\u09a3\\u09a4 \\u09b9\\u09af\\u09bc\\u09c7\\u099b\\u09c7 \\u09af\\u09c7, \\u0993\\u09af\\u09bc\\u09c7\\u0987\\u09ac\\u09cb \\u0985\\u09a8\\u09c7\\u0995\\u09c7 \\u09ae\\u099c\\u09be \\u0995\\u09b0\\u09c7 \\u09b2\\u09bf\\u0996\\u09c7\\u099b\\u09c7\\u09a8, \\u09b2\\u09c1\\u09a8\\u09be\\u09b0 \\u09a8\\u09bf\\u0989 \\u0987\\u09af\\u09bc\\u09be\\u09b0\\u09c7 \\u09a4\\u09be\\u09b0\\u09be \\u0985\\u09b0\\u09cd\\u09a5\\u0995\\u09a1\\u09bc\\u09bf\\u09b0 \\u09a6\\u09be\\u09ae\\u09c0 \\u0989\\u09aa\\u09b9\\u09be\\u09b0\\u09c7\\u09b0 \\u09ac\\u09a6\\u09b2\\u09c7 \\u09ae\\u09be\\u09b8\\u09cd\\u0995 \\u09aa\\u09c7\\u09a4\\u09c7 \\u09ac\\u09c7\\u09b6\\u09bf \\u09aa\\u099b\\u09a8\\u09cd\\u09a6 \\u0995\\u09b0\\u09ac\\u09c7\\u09a8\\u0964 \\u0989\\u09b9\\u09be\\u09a8 \\u09af\\u09c7 \\u09b9\\u09c1\\u09ac\\u09c7\\u0987 \\u09aa\\u09cd\\u09b0\\u09a6\\u09c7\\u09b6\\u09c7 \\u0985\\u09ac\\u09b8\\u09cd\\u09a5\\u09bf\\u09a4, \\u09a4\\u09be\\u09b0 \\u09aa\\u09be\\u09b0\\u09cd\\u09b6\\u09cd\\u09ac\\u09ac\\u09b0\\u09cd\\u09a4\\u09c0 \\u099a\\u09cd\\u09af\\u09be\\u0999\\u09cd\\u0997\\u09a1\\u09bf\\u09b0 \\u098f\\u0995\\u099c\\u09a8 \\u0997\\u09cd\\u09b0\\u09be\\u09ae\\u09ac\\u09be\\u09b8\\u09c0 \\u09b9\\u09be\\u0993 \\u099c\\u09bf\\u09a8 \\u09b8\\u09bf\\u09a6\\u09cd\\u09a7\\u09be\\u09a8\\u09cd\\u09a4 \\u09a8\\u09c7\\u09a8 \\u09af\\u09c7, \\u09a4\\u09bf\\u09a8\\u09bf \\u09aa\\u09cd\\u09b0\\u09be\\u09af\\u09bc \\u09e7\\u09eb\\u09e6\\u09e6\\u09e6 \\u09ae\\u09be\\u09b8\\u09cd\\u0995 \\u09a6\\u09be\\u09a8 \\u0995\\u09b0\\u09ac\\u09c7\\u09a8, \\u099c\\u09bf\\u09af\\u09bc\\u09be\\u0993\\u099c\\u09bf\\u09af\\u09bc\\u09be\\u0999 \\u09ae\\u09b0\\u09cd\\u09a8\\u09bf\\u0982 \\u09b9\\u09c7\\u09b0\\u09be\\u09b2\\u09cd\\u09a1\\u09c7\\u09b0 \\u0996\\u09ac\\u09b0\\u0964 \\u09b9\\u09be\\u0993 \\u099c\\u09bf\\u09a8 \\u0997\\u09a4\\u09ac\\u099b\\u09b0 \\u098f\\u0995\\u099f\\u09bf \\u09ae\\u09be\\u09b8\\u09cd\\u0995 \\u0989\\u09ce\\u09aa\\u09be\\u09a6\\u09a8 \\u0995\\u09be\\u09b0\\u0996\\u09be\\u09a8\\u09be\\u09af\\u09bc \\u0995\\u09be\\u099c \\u0995\\u09b0\\u09c7\\u099b\\u09c7\\u09a8\\u0964 \\u09a4\\u09bf\\u09a8\\u09bf \\u099a\\u09be\\u0995\\u09b0\\u09bf \\u099b\\u09c7\\u09a1\\u09bc\\u09c7 \\u09a6\\u09bf\\u09af\\u09bc\\u09c7\\u099b\\u09bf\\u09b2\\u09c7\\u09a8, \\u0995\\u09bf\\u09a8\\u09cd\\u09a4\\u09c1 \\u0993\\u0987 \\u0995\\u09cb\\u09ae\\u09cd\\u09aa\\u09be\\u09a8\\u09bf \\u09a4\\u09be\\u09b0 \\u09ac\\u09c7\\u09a4\\u09a8 \\u09a6\\u09bf\\u09a4\\u09c7 \\u09aa\\u09be\\u09b0\\u09c7\\u09a8\\u09bf\\u0964 \\u09ab\\u09b2\\u09c7 \\u09ac\\u09c7\\u09a4\\u09a8\\u09c7\\u09b0 \\u09ac\\u09a6\\u09b2\\u09c7 \\u0995\\u09cd\\u09b7\\u09a4\\u09bf\\u09aa\\u09c2\\u09b0\\u09a3 \\u09b9\\u09bf\\u09b8\\u09be\\u09ac\\u09c7 \\u09a4\\u09be\\u0995\\u09c7 \\u09e7\\u09eb\\u09e6\\u09e6\\u09e6 \\u09ae\\u09be\\u09b8\\u09cd\\u0995 \\u09a6\\u09c7\\u09af\\u09bc \\u0995\\u09cb\\u09ae\\u09cd\\u09aa\\u09be\\u09a8\\u09bf\\u099f\\u09bf, \\u09af\\u09be\\u09b0 \\u09ac\\u09be\\u099c\\u09be\\u09b0 \\u09ae\\u09c2\\u09b2\\u09cd\\u09af \\u09e8\\u09e6 \\u09b9\\u09be\\u099c\\u09be\\u09b0 \\u0987\\u0989\\u09af\\u09bc\\u09be\\u09a8 ( \\u09e8\\u09ee\\u09ee\\u09e9 \\u09a1\\u09b2\\u09be\\u09b0)\\u0964 \\u09ae\\u09be\\u09b8\\u09cd\\u0995\\u0997\\u09c1\\u09b2\\u09cb \\u09ac\\u09be\\u09a1\\u09bc\\u09bf\\u09a4\\u09c7 \\u09a8\\u09bf\\u09af\\u09bc\\u09c7 \\u098f\\u09b8\\u09c7 \\u09b8\\u09c7\\u0997\\u09c1\\u09b2\\u09cb\\u09b0 \\u0995\\u09a5\\u09be \\u09ad\\u09c1\\u09b2\\u09c7\\u0987 \\u0997\\u09bf\\u09af\\u09bc\\u09c7\\u099b\\u09bf\\u09b2\\u09c7\\u09a8\\u0964 \\u0995\\u09bf\\u09a8\\u09cd\\u09a4\\u09c1 \\u09ae\\u09be\\u09b8\\u09cd\\u0995 \\u09b8\\u0982\\u0995\\u099f\\u09c7\\u09b0 \\u0996\\u09ac\\u09b0 \\u09aa\\u09a1\\u09bc\\u09be\\u09b0 \\u09aa\\u09b0 \\u09a4\\u09be\\u09b0 \\u0986\\u09ac\\u09be\\u09b0 \\u09b8\\u09c7\\u0997\\u09c1\\u09b2\\u09cb\\u09b0 \\u0995\\u09a5\\u09be \\u09ae\\u09a8\\u09c7 \\u09aa\\u09a1\\u09bc\\u09c7\\u0964 ''\\u0986\\u09ae\\u09bf \\u09ad\\u09be\\u09ac\\u09b2\\u09be\\u09ae, \\u09af\\u09be\\u09a6\\u09c7\\u09b0 \\u098f\\u0997\\u09c1\\u09b2\\u09cb \\u09a6\\u09b0\\u0995\\u09be\\u09b0, \\u09a4\\u09be\\u09a6\\u09c7\\u09b0 \\u0986\\u09ae\\u09bf \\u09ae\\u09c1\\u0996\\u09cb\\u09b6\\u0997\\u09c1\\u09b2\\u09cb \\u09a6\\u09be\\u09a8 \\u0995\\u09b0\\u09c7 \\u09a6\\u09c7\\u09ac\\u09cb\\u0964 \\u0986\\u09ae\\u09bf \\u0986\\u09b6\\u09be \\u0995\\u09b0\\u099b\\u09bf, \\u09a4\\u09be\\u09a6\\u09c7\\u09b0 \\u0995\\u09be\\u099b\\u09c7 \\u098f\\u0997\\u09c1\\u09b2\\u09cb \\u09ac\\u09c7\\u09b6\\u09bf \\u0997\\u09c1\\u09b0\\u09c1\\u09a4\\u09cd\\u09ac \\u09aa\\u09be\\u09ac\\u09c7 \\u098f\\u09ac\\u0982 \\u09a4\\u09be\\u09b0\\u09be\\u0987 \\u09ad\\u09be\\u09b2\\u09cb \\u09ac\\u09cd\\u09af\\u09ac\\u09b9\\u09be\\u09b0 \\u0995\\u09b0\\u09a4\\u09c7 \\u09aa\\u09be\\u09b0\\u09ac\\u09c7\\u09a8\\u0964'' \\u09a8\\u09bf\\u099c\\u09c7\\u09b0 \\u09aa\\u09b0\\u09bf\\u09ac\\u09be\\u09b0\\u09c7\\u09b0 \\u099c\\u09a8\\u09cd\\u09af \\u09b9\\u09be\\u09a4\\u09c7 \\u0997\\u09cb\\u09a8\\u09be \\u0995\\u09af\\u09bc\\u09c7\\u0995\\u099f\\u09bf \\u09ae\\u09be\\u09b8\\u09cd\\u0995 \\u09a4\\u09bf\\u09a8\\u09bf \\u09b0\\u09c7\\u0996\\u09c7 \\u09a6\\u09bf\\u09af\\u09bc\\u09c7\\u099b\\u09c7\\u09a8 \\u098f\\u09ac\\u0982 \\u0997\\u09cd\\u09b0\\u09be\\u09ae\\u09ac\\u09be\\u09b8\\u09c0\\u09a6\\u09c7\\u09b0 \\u09ae\\u09a7\\u09cd\\u09af\\u09c7 \\u0995\\u09bf\\u099b\\u09c1 \\u09ac\\u09bf\\u09a4\\u09b0\\u09a3 \\u0995\\u09b0\\u09c7\\u099b\\u09c7\\u09a8\\u0964 \\u09ac\\u09be\\u0995\\u09bf \\u09ae\\u09be\\u09b8\\u09cd\\u0995\\u0997\\u09c1\\u09b2\\u09cb \\u09a4\\u09bf\\u09a8\\u09bf \\u09a6\\u09c7\\u09b6\\u09ac\\u09be\\u09b8\\u09c0\\u09b0 \\u099c\\u09a8\\u09cd\\u09af \\u09a6\\u09be\\u09a8 \\u0995\\u09b0\\u09c7 \\u09a6\\u09bf\\u09af\\u09bc\\u09c7\\u099b\\u09c7\\u09a8\\u0964\"\n        ],\n        \"semantic_type\": \"\",\n        \"description\": \"\"\n      }\n    },\n    {\n      \"column\": \"predicted_summary\",\n      \"properties\": {\n        \"dtype\": \"string\",\n        \"num_unique_values\": 5,\n        \"samples\": [\n          \" ### \\u09a7\\u09be\\u09aa \\u09e7: \\n\\u09aa\\u09c7\\u09af\\u09bc\\u09be\\u09b0\\u09be \\u09ac\\u09be\\u0997\\u09be\\u09a8 \\u09a5\\u09c7\\u0995\\u09c7 \\u09a4\\u09cb\\u09b2\\u09be \\u09b9\\u099a\\u09cd\\u099b\\u09c7 \\u09ab\\u09b8\\u09b2, \\u09af\\u09be \\u09b8\\u09cd\\u09a5\\u09be\\u09a8\\u09c0\\u09af\\u09bc \\u0996\\u09be\\u09ac\\u09be\\u09b0 \\u09ac\\u09be '\\u09b2\\u09cb\\u0995\\u09be\\u09b2 \\u09ab\\u09c1\\u09a1 \\u09b8\\u09bf\\u09b8\\u09cd\\u099f\\u09c7\\u09ae' \\u098f\\u09b0 \\u09aa\\u09cd\\u09b0\\u099a\\u09c1\\u09b0 \\u0997\\u09c1\\u09b0\\u09c1\\u09a4\\u09cd\\u09ac \\u099c\\u09be\\u09a8\\u09be\\u099a\\u09cd\\u099b\\u09c7\\u0964\\n\\n### \\u09a7\\u09be\\u09aa \\u09e8: \\n\\u09aa\\u09cd\\u09b0\\u09a7\\u09be\\u09a8 \\u09a4\\u09a5\\u09cd\\u09af: \\u09b8\\u09cd\\u09a5\\u09be\\u09a8\\u09c0\\u09af\\u09bc \\u0996\\u09be\\u09ac\\u09be\\u09b0 \\u09ac\\u09be '\\u09b2\\u09cb\\u0995\\u09be\\u09b2 \\u09ab\\u09c1\\u09a1 \\u09b8\\u09bf\\u09b8\\u09cd\\u099f\\u09c7\\u09ae' \\u098f\\u09b0 \\u0997\\u09c1\\u09b0\\u09c1\\u09a4\\u09cd\\u09ac\\u0964\\n\\n### \\u09a7\\u09be\\u09aa \\u09e9: \\n\\u09b8\\u09be\\u09b0\\u09ae\\u09b0\\u09cd\\u09ae: \\u09aa\\u09c7\\u09af\\u09bc\\u09be\\u09b0\\u09be \\u09ac\\u09be\\u0997\\u09be\\u09a8 \\u09a5\\u09c7\\u0995\\u09c7 \\u09a4\\u09cb\\u09b2\\u09be \\u09b9\\u099a\\u09cd\\u099b\\u09c7 \\u09ab\\u09b8\\u09b2, \\u09af\\u09be \\u09b8\\u09cd\\u09a5\\u09be\\u09a8\\u09c0\\u09af\\u09bc \\u0996\\u09be\\u09ac\\u09be\\u09b0 \\u09ac\\u09be '\\u09b2\\u09cb\\u0995\\u09be\\u09b2 \\u09ab\\u09c1\\u09a1 \\u09b8\\u09bf\\u09b8\\u09cd\\u099f\\u09c7\\u09ae' \\u098f\\u09b0 \\u0997\\u09c1\\u09b0\\u09c1\\u09a4\\u09cd\\u09ac \\u099c\\u09be\\u09a8\\u09be\\u099a\\u09cd\\u099b\\u09c7\\u0964\",\n          \" ### \\u09a7\\u09be\\u09aa \\u09e7: \\u09ae\\u09c2\\u09b2 \\u09ac\\u09bf\\u09b7\\u09af\\u09bc\\u09ac\\u09b8\\u09cd\\u09a4\\u09c1 \\u09ac\\u09cb\\u099d\\u09be\\n\\u0987\\u09b8\\u09b2\\u09be\\u09ae\\u09bf\\u0995 \\u09b8\\u09cd\\u099f\\u09c7\\u099f \\u0996\\u09c7\\u09b2\\u09be\\u09ab\\u09a4\\u09c7\\u09b0 \\u09b8\\u09cd\\u09ac\\u0998\\u09cb\\u09b7\\u09bf\\u09a4 \\u0996\\u09b2\\u09bf\\u09ab\\u09be \\u0986\\u09ac\\u09c1 \\u09ac\\u0995\\u09b0 \\u0986\\u09b2-\\u09ac\\u09be\\u0997\\u09a6\\u09be\\u09a6\\u09bf \\u098f\\u09ac\\u0982 \\u09a4\\u09be\\u09b0 \\u0997\\u09cb\\u09b7\\u09cd\\u09a0\\u09c0\\u09b0 \\u0995\\u09be\\u09b0\\u09cd\\u09af\\u0995\\u09cd\\u09b0\\u09ae \\u09b8\\u09ae\\u09cd\\u09aa\\u09b0\\u09cd\\u0995\\u09c7 \\u09ac\\u09bf\\u09b8\\u09cd\\u09a4\\u09be\\u09b0\\u09bf\\u09a4 \\u09ac\\u09b0\\u09cd\\u09a3\\u09a8\\u09be\\u0964\\n\\n### \\u09a7\\u09be\\u09aa \\u09e8: \\u09aa\\u09cd\\u09b0\\u09a7\\u09be\\u09a8 \\u09a4\\u09a5\\u09cd\\u09af \\u099a\\u09bf\\u09b9\\u09cd\\u09a8\\u09bf\\u09a4 \\u0995\\u09b0\\u09be\\n\\u0986\\u0987 \\u098f\\u09b8 \\u09aa\\u09cd\\u09af\\u09be\\u09b0\\u09bf\\u09b8 \\u09b9\\u09be\\u09ae\\u09b2\\u09be\\u09b0 \\u09a6\\u09be\\u09af\\u09bc\\u09bf\\u09a4\\u09cd\\u09ac \\u09b8\\u09cd\\u09ac\\u09c0\\u0995\\u09be\\u09b0 \\u0995\\u09b0\\u09c7\\u099b\\u09c7, \\u09af\\u09c7 \\u09b9\\u09be\\u09ae\\u09b2\\u09be\\u09af\\u09bc \\u0985\\u09a8\\u09cd\\u09a4\\u09a4 \\u09e7\\u09e8\\u09ef\\u099c\\u09a8 \\u09ae\\u09be\\u09a8\\u09c1\\u09b7 \\u09a8\\u09bf\\u09b9\\u09a4 \\u098f\\u09ac\\u0982 \\u09a4\\u09bf\\u09a8 \\u09b6\\u09a4\\u09be\\u09a7\\u09bf\\u0995 \\u0986\\u09b9\\u09a4 \\u09b9\\u09af\\u09bc\\u09c7\\u099b\\u09c7\\u0964 \\u0987\\u09b8\\u09b2\\u09be\\u09ae\\u09bf\\u0995 \\u09b8\\u09cd\\u099f\\u09c7\\u099f \\u0995\\u09c7 \\u09ac\\u09bf\\u09b6\\u09cd\\u09ac\\u09c7\\u09b0 \\u09b8\\u09ac \\u099a\\u09c7\\u09af\\u09bc\\u09c7 \\u09a7\\u09a8\\u09c0 \\u099c\\u0999\\u09cd\\u0997\\u09bf \\u0997\\u09cb\\u09b7\\u09cd\\u09a0\\u09c0 \\u09ae\\u09a8\\u09c7 \\u0995\\u09b0\\u09be \\u09b9\\u09af\\u09bc\\u0964\\n\\n### \\u09a7\\u09be\\u09aa \\u09e9: \\u09b8\\u09be\\u09b0\\u09ae\\u09b0\\u09cd\\u09ae \\u09b2\\u09c7\\u0996\\u09be\\n\\u0986\\u0987 \\u098f\\u09b8 \\u09aa\\u09cd\\u09af\\u09be\\u09b0\\u09bf\\u09b8 \\u09b9\\u09be\\u09ae\\u09b2\\u09be\\u09b0 \\u09a6\\u09be\\u09af\\u09bc\\u09bf\\u09a4\\u09cd\\u09ac \\u09b8\\u09cd\\u09ac\\u09c0\\u0995\\u09be\\u09b0 \\u0995\\u09b0\\u09c7\\u099b\\u09c7 \\u098f\\u09ac\\u0982 \\u0987\\u09b8\\u09b2\",\n          \" ### \\u09ac\\u09bf\\u09ac\\u09b0\\u09a3:\\n\\u099a\\u09c0\\u09a8\\u09c7\\u09b0 \\u09ac\\u09be\\u09b8\\u09bf\\u09a8\\u09cd\\u09a6\\u09be\\u09b0\\u09be ''\\u0989\\u09b9\\u09be\\u09a8 \\u099c\\u09bf\\u09af\\u09bc\\u09be\\u09af\\u09bc\\u09c1'' \\u09ac\\u09b2\\u09c7 \\u099a\\u09bf\\u09ce\\u0995\\u09be\\u09b0 \\u0995\\u09b0\\u099b\\u09c7\\u09a8, \\u0985\\u09a8\\u09c1\\u09ac\\u09be\\u09a6 \\u0995\\u09b0\\u09b2\\u09c7 \\u09af\\u09be\\u09b0 \\u0985\\u09b0\\u09cd\\u09a5 \\u09b9\\u09af\\u09bc ''\\u09b6\\u0995\\u09cd\\u09a4 \\u09a5\\u09be\\u0995\\u09cb \\u0989\\u09b9\\u09be\\u09a8'' \\u0985\\u09a5\\u09ac\\u09be ''\\u099a\\u09be\\u09b2\\u09bf\\u09af\\u09bc\\u09c7 \\u09af\\u09be\\u0993 \\u0989\\u09b9\\u09be\\u09a8\\u0964'' \\u09af\\u09c7 \\u09aa\\u09cd\\u09b0\\u09a4\\u09bf\\u09ac\\u09c7\\u09b6\\u09c0\\u09b0\\u09be \\u0986\\u09a8\\u09a8\\u09cd\\u09a6 \\u099b\\u09a1\\u09bc\\u09bf\\u09af\\u09bc\\u09c7 \\u09a6\\u09c7\\u09af\\u09bc \\u098f\\u0987 \\u09ad\\u09af\\u09bc\\u09be\\u09ac\\u09b9 \\u09b0\\u09cb\\u0997\\u099f\\u09bf\\u09b0 \\u09aa\\u09cd\\u09b0\\u09be\\u09a6\\u09c1\\u09b0\\u09cd\\u09ad\\u09be\\u09ac \\u0998\\u099f\\u09c7\\u099b\\u09c7 \\u098f\\u09ae\\u09a8 \\u09b8\\u09ae\\u09af\\u09bc \\u09af\\u0996\\u09a8 \\u099a\\u09c0\\u09a8\\u09c7\\u09b0 \\u0985\\u09a8\\u09cd\\u09af\\u09a4\\u09ae \\u09ac\\u09a1\\u09bc \\u098f\\u0995\\u099f\\u09bf \\u0989\\u09ce\\u09b8\\u09ac \\u099a\\u09a8\\u09cd\\u09a6\\u09cd\\u09b0 \\u09ac\\u09b0\\u09cd\\u09b7 \\u0989\\u09a6\\u09af\\u09be\\u09aa\\u09a8 \\u099a\\u09b2\\u099b\\u09c7\\u0964 \\u09ac\\u09bf\\u09b6\\u09c7\\u09b7 \\u0995\\u09b0\\u09c7 \\u09af\\u0996\\u09a8 \\u0995\\u09cd\\u09b0\\u09bf\\u09b8\\u09ae\\u09be\\u09b8 \\u098f\\u09ac\\u0982 \\u09a5\\u09cd\\u09af\\u09be\\u0995\\u09b8\\u0997\\u09bf\\u09ad\\u09bf\\u0982 \\u09a4\\u09be\\u09b0 \\u09b8\\u0999\\u09cd\\u0997\\u09c7 \\u09af\\u09cb\\u0997 \\u09b9\\u09af\\u09bc\\u09c7\\u099b\\u09c7- \\u09b8\\u09ac\\u09ae\\u09bf\\u09b2\\u09bf\\u09af\\u09bc\\u09c7 \\u0985\\u09a8\\u09c7\\u0995 \\u0986\\u09a8\\u09a8\\u09cd\\u09a6\\u09c7\\u09b0 \\u09ac\\u09cd\\u09af\\u09be\\u09aa\\u09be\\u09b0\\u0964\\n\\n### \\u09b8\\u09be\\u09b0\\u09ae\\u09b0\\u09cd\\u09ae:\\n\\u099a\\u09c0\\u09a8\\u09c7\\u09b0 \\u09ac\\u09be\\u09b8\\u09bf\\u09a8\\u09cd\\u09a6\\u09be\\u09b0\\u09be ''\\u0989\\u09b9\\u09be\\u09a8 \\u099c\\u09bf\\u09af\\u09bc\\u09be\\u09af\\u09bc\\u09c1'' \\u09ac\\u09b2\\u09c7 \\u099a\\u09bf\\u09ce\\u0995\\u09be\\u09b0 \\u0995\\u09b0\\u099b\\u09c7\\u09a8, \\u09af\\u09c7\"\n        ],\n        \"semantic_type\": \"\",\n        \"description\": \"\"\n      }\n    }\n  ]\n}",
              "type": "dataframe"
            },
            "text/html": [
              "\n",
              "  <div id=\"df-2368987e-b834-49c2-82d4-8f897eed98fc\" class=\"colab-df-container\">\n",
              "    <div>\n",
              "<style scoped>\n",
              "    .dataframe tbody tr th:only-of-type {\n",
              "        vertical-align: middle;\n",
              "    }\n",
              "\n",
              "    .dataframe tbody tr th {\n",
              "        vertical-align: top;\n",
              "    }\n",
              "\n",
              "    .dataframe thead th {\n",
              "        text-align: right;\n",
              "    }\n",
              "</style>\n",
              "<table border=\"1\" class=\"dataframe\">\n",
              "  <thead>\n",
              "    <tr style=\"text-align: right;\">\n",
              "      <th></th>\n",
              "      <th>id</th>\n",
              "      <th>url</th>\n",
              "      <th>title</th>\n",
              "      <th>summary</th>\n",
              "      <th>text</th>\n",
              "      <th>predicted_summary</th>\n",
              "    </tr>\n",
              "  </thead>\n",
              "  <tbody>\n",
              "    <tr>\n",
              "      <th>507</th>\n",
              "      <td>news-46942362</td>\n",
              "      <td>https://www.bbc.com/bengali/news-46942362</td>\n",
              "      <td>'সিরিয়ার অভ্যন্তরে ইরানি লক্ষ্যে' হামলা করছে ...</td>\n",
              "      <td>ইসরায়েলের সেনাবাহিনী জানিয়েছে যে তারা সিরিয়...</td>\n",
              "      <td>সিরিয়ার অভ্যন্তরে ইরানি লক্ষ্যবস্তুতে আঘাত কর...</td>\n",
              "      <td>### ধাপ ১: মূল বিষয়বস্তু বোঝা\\nবিবরণটি পড়ে ...</td>\n",
              "    </tr>\n",
              "    <tr>\n",
              "      <th>508</th>\n",
              "      <td>news-47308375</td>\n",
              "      <td>https://www.bbc.com/bengali/news-47308375</td>\n",
              "      <td>আপেল-স্ট্রবেরির দরকার নেই, বাঙালিরা পেয়ারা বা...</td>\n",
              "      <td>স্থানীয়ভাবে উৎপাদিত শাকসব্জি বা ডিম, ফলমূল ইত...</td>\n",
              "      <td>পেয়ারা বাগান থেকে তোলা হচ্ছে ফসল। ফাইল ছবি জা...</td>\n",
              "      <td>### ধাপ ১: \\nপেয়ারা বাগান থেকে তোলা হচ্ছে ফস...</td>\n",
              "    </tr>\n",
              "    <tr>\n",
              "      <th>509</th>\n",
              "      <td>news-51280964</td>\n",
              "      <td>https://www.bbc.com/bengali/news-51280964</td>\n",
              "      <td>করোনাভাইরাস: চীনের ভাইরাস আক্রান্ত উহানের একাত...</td>\n",
              "      <td>করোনাভাইরাসে আক্রান্ত মানুষের সংখ্যা যখন বাড়ছ...</td>\n",
              "      <td>চীনের বাসিন্দারা ''উহান জিয়ায়ু'' বলে চিৎকার ...</td>\n",
              "      <td>### বিবরণ:\\nচীনের বাসিন্দারা ''উহান জিয়ায়ু'...</td>\n",
              "    </tr>\n",
              "    <tr>\n",
              "      <th>510</th>\n",
              "      <td>news-55135935</td>\n",
              "      <td>https://www.bbc.com/bengali/news-55135935</td>\n",
              "      <td>মাদক: পুলিশের বিরুদ্ধে মাদকের সঙ্গে সংশ্লিষ্টত...</td>\n",
              "      <td>বাংলাদেশে মাদক গ্রহণের অভিযোগে সোমবার দক্ষিণ-প...</td>\n",
              "      <td>পুলিশের বিরুদ্ধে সাধারণত তিনভাবে মাদকের সঙ্গে ...</td>\n",
              "      <td>### ধাপ ১: মূল বিষয়বস্তু বোঝা\\nবিবরণটি পড়ে ...</td>\n",
              "    </tr>\n",
              "    <tr>\n",
              "      <th>511</th>\n",
              "      <td>151117_isis_terror_finance_syria_iraq_oil_kidn...</td>\n",
              "      <td>https://www.bbc.com/bengali/news/2015/11/15111...</td>\n",
              "      <td>ইসলামিক স্টেট কোথা থেকে অর্থ পায়?</td>\n",
              "      <td>ফ্রান্সের রাজধানী প্যারিসে গত শুক্রবারের আক্রম...</td>\n",
              "      <td>ইসলামিক স্টেট খেলাফতের স্বঘোষিত খলিফা আবু বকর ...</td>\n",
              "      <td>### ধাপ ১: মূল বিষয়বস্তু বোঝা\\nইসলামিক স্টেট...</td>\n",
              "    </tr>\n",
              "  </tbody>\n",
              "</table>\n",
              "</div>\n",
              "    <div class=\"colab-df-buttons\">\n",
              "\n",
              "  <div class=\"colab-df-container\">\n",
              "    <button class=\"colab-df-convert\" onclick=\"convertToInteractive('df-2368987e-b834-49c2-82d4-8f897eed98fc')\"\n",
              "            title=\"Convert this dataframe to an interactive table.\"\n",
              "            style=\"display:none;\">\n",
              "\n",
              "  <svg xmlns=\"http://www.w3.org/2000/svg\" height=\"24px\" viewBox=\"0 -960 960 960\">\n",
              "    <path d=\"M120-120v-720h720v720H120Zm60-500h600v-160H180v160Zm220 220h160v-160H400v160Zm0 220h160v-160H400v160ZM180-400h160v-160H180v160Zm440 0h160v-160H620v160ZM180-180h160v-160H180v160Zm440 0h160v-160H620v160Z\"/>\n",
              "  </svg>\n",
              "    </button>\n",
              "\n",
              "  <style>\n",
              "    .colab-df-container {\n",
              "      display:flex;\n",
              "      gap: 12px;\n",
              "    }\n",
              "\n",
              "    .colab-df-convert {\n",
              "      background-color: #E8F0FE;\n",
              "      border: none;\n",
              "      border-radius: 50%;\n",
              "      cursor: pointer;\n",
              "      display: none;\n",
              "      fill: #1967D2;\n",
              "      height: 32px;\n",
              "      padding: 0 0 0 0;\n",
              "      width: 32px;\n",
              "    }\n",
              "\n",
              "    .colab-df-convert:hover {\n",
              "      background-color: #E2EBFA;\n",
              "      box-shadow: 0px 1px 2px rgba(60, 64, 67, 0.3), 0px 1px 3px 1px rgba(60, 64, 67, 0.15);\n",
              "      fill: #174EA6;\n",
              "    }\n",
              "\n",
              "    .colab-df-buttons div {\n",
              "      margin-bottom: 4px;\n",
              "    }\n",
              "\n",
              "    [theme=dark] .colab-df-convert {\n",
              "      background-color: #3B4455;\n",
              "      fill: #D2E3FC;\n",
              "    }\n",
              "\n",
              "    [theme=dark] .colab-df-convert:hover {\n",
              "      background-color: #434B5C;\n",
              "      box-shadow: 0px 1px 3px 1px rgba(0, 0, 0, 0.15);\n",
              "      filter: drop-shadow(0px 1px 2px rgba(0, 0, 0, 0.3));\n",
              "      fill: #FFFFFF;\n",
              "    }\n",
              "  </style>\n",
              "\n",
              "    <script>\n",
              "      const buttonEl =\n",
              "        document.querySelector('#df-2368987e-b834-49c2-82d4-8f897eed98fc button.colab-df-convert');\n",
              "      buttonEl.style.display =\n",
              "        google.colab.kernel.accessAllowed ? 'block' : 'none';\n",
              "\n",
              "      async function convertToInteractive(key) {\n",
              "        const element = document.querySelector('#df-2368987e-b834-49c2-82d4-8f897eed98fc');\n",
              "        const dataTable =\n",
              "          await google.colab.kernel.invokeFunction('convertToInteractive',\n",
              "                                                    [key], {});\n",
              "        if (!dataTable) return;\n",
              "\n",
              "        const docLinkHtml = 'Like what you see? Visit the ' +\n",
              "          '<a target=\"_blank\" href=https://colab.research.google.com/notebooks/data_table.ipynb>data table notebook</a>'\n",
              "          + ' to learn more about interactive tables.';\n",
              "        element.innerHTML = '';\n",
              "        dataTable['output_type'] = 'display_data';\n",
              "        await google.colab.output.renderOutput(dataTable, element);\n",
              "        const docLink = document.createElement('div');\n",
              "        docLink.innerHTML = docLinkHtml;\n",
              "        element.appendChild(docLink);\n",
              "      }\n",
              "    </script>\n",
              "  </div>\n",
              "\n",
              "\n",
              "<div id=\"df-72c628b8-804e-4e50-be44-f47416295aff\">\n",
              "  <button class=\"colab-df-quickchart\" onclick=\"quickchart('df-72c628b8-804e-4e50-be44-f47416295aff')\"\n",
              "            title=\"Suggest charts\"\n",
              "            style=\"display:none;\">\n",
              "\n",
              "<svg xmlns=\"http://www.w3.org/2000/svg\" height=\"24px\"viewBox=\"0 0 24 24\"\n",
              "     width=\"24px\">\n",
              "    <g>\n",
              "        <path d=\"M19 3H5c-1.1 0-2 .9-2 2v14c0 1.1.9 2 2 2h14c1.1 0 2-.9 2-2V5c0-1.1-.9-2-2-2zM9 17H7v-7h2v7zm4 0h-2V7h2v10zm4 0h-2v-4h2v4z\"/>\n",
              "    </g>\n",
              "</svg>\n",
              "  </button>\n",
              "\n",
              "<style>\n",
              "  .colab-df-quickchart {\n",
              "      --bg-color: #E8F0FE;\n",
              "      --fill-color: #1967D2;\n",
              "      --hover-bg-color: #E2EBFA;\n",
              "      --hover-fill-color: #174EA6;\n",
              "      --disabled-fill-color: #AAA;\n",
              "      --disabled-bg-color: #DDD;\n",
              "  }\n",
              "\n",
              "  [theme=dark] .colab-df-quickchart {\n",
              "      --bg-color: #3B4455;\n",
              "      --fill-color: #D2E3FC;\n",
              "      --hover-bg-color: #434B5C;\n",
              "      --hover-fill-color: #FFFFFF;\n",
              "      --disabled-bg-color: #3B4455;\n",
              "      --disabled-fill-color: #666;\n",
              "  }\n",
              "\n",
              "  .colab-df-quickchart {\n",
              "    background-color: var(--bg-color);\n",
              "    border: none;\n",
              "    border-radius: 50%;\n",
              "    cursor: pointer;\n",
              "    display: none;\n",
              "    fill: var(--fill-color);\n",
              "    height: 32px;\n",
              "    padding: 0;\n",
              "    width: 32px;\n",
              "  }\n",
              "\n",
              "  .colab-df-quickchart:hover {\n",
              "    background-color: var(--hover-bg-color);\n",
              "    box-shadow: 0 1px 2px rgba(60, 64, 67, 0.3), 0 1px 3px 1px rgba(60, 64, 67, 0.15);\n",
              "    fill: var(--button-hover-fill-color);\n",
              "  }\n",
              "\n",
              "  .colab-df-quickchart-complete:disabled,\n",
              "  .colab-df-quickchart-complete:disabled:hover {\n",
              "    background-color: var(--disabled-bg-color);\n",
              "    fill: var(--disabled-fill-color);\n",
              "    box-shadow: none;\n",
              "  }\n",
              "\n",
              "  .colab-df-spinner {\n",
              "    border: 2px solid var(--fill-color);\n",
              "    border-color: transparent;\n",
              "    border-bottom-color: var(--fill-color);\n",
              "    animation:\n",
              "      spin 1s steps(1) infinite;\n",
              "  }\n",
              "\n",
              "  @keyframes spin {\n",
              "    0% {\n",
              "      border-color: transparent;\n",
              "      border-bottom-color: var(--fill-color);\n",
              "      border-left-color: var(--fill-color);\n",
              "    }\n",
              "    20% {\n",
              "      border-color: transparent;\n",
              "      border-left-color: var(--fill-color);\n",
              "      border-top-color: var(--fill-color);\n",
              "    }\n",
              "    30% {\n",
              "      border-color: transparent;\n",
              "      border-left-color: var(--fill-color);\n",
              "      border-top-color: var(--fill-color);\n",
              "      border-right-color: var(--fill-color);\n",
              "    }\n",
              "    40% {\n",
              "      border-color: transparent;\n",
              "      border-right-color: var(--fill-color);\n",
              "      border-top-color: var(--fill-color);\n",
              "    }\n",
              "    60% {\n",
              "      border-color: transparent;\n",
              "      border-right-color: var(--fill-color);\n",
              "    }\n",
              "    80% {\n",
              "      border-color: transparent;\n",
              "      border-right-color: var(--fill-color);\n",
              "      border-bottom-color: var(--fill-color);\n",
              "    }\n",
              "    90% {\n",
              "      border-color: transparent;\n",
              "      border-bottom-color: var(--fill-color);\n",
              "    }\n",
              "  }\n",
              "</style>\n",
              "\n",
              "  <script>\n",
              "    async function quickchart(key) {\n",
              "      const quickchartButtonEl =\n",
              "        document.querySelector('#' + key + ' button');\n",
              "      quickchartButtonEl.disabled = true;  // To prevent multiple clicks.\n",
              "      quickchartButtonEl.classList.add('colab-df-spinner');\n",
              "      try {\n",
              "        const charts = await google.colab.kernel.invokeFunction(\n",
              "            'suggestCharts', [key], {});\n",
              "      } catch (error) {\n",
              "        console.error('Error during call to suggestCharts:', error);\n",
              "      }\n",
              "      quickchartButtonEl.classList.remove('colab-df-spinner');\n",
              "      quickchartButtonEl.classList.add('colab-df-quickchart-complete');\n",
              "    }\n",
              "    (() => {\n",
              "      let quickchartButtonEl =\n",
              "        document.querySelector('#df-72c628b8-804e-4e50-be44-f47416295aff button');\n",
              "      quickchartButtonEl.style.display =\n",
              "        google.colab.kernel.accessAllowed ? 'block' : 'none';\n",
              "    })();\n",
              "  </script>\n",
              "</div>\n",
              "\n",
              "    </div>\n",
              "  </div>\n"
            ],
            "text/plain": [
              "                                                    id  \\\n",
              "507                                      news-46942362   \n",
              "508                                      news-47308375   \n",
              "509                                      news-51280964   \n",
              "510                                      news-55135935   \n",
              "511  151117_isis_terror_finance_syria_iraq_oil_kidn...   \n",
              "\n",
              "                                                   url  \\\n",
              "507          https://www.bbc.com/bengali/news-46942362   \n",
              "508          https://www.bbc.com/bengali/news-47308375   \n",
              "509          https://www.bbc.com/bengali/news-51280964   \n",
              "510          https://www.bbc.com/bengali/news-55135935   \n",
              "511  https://www.bbc.com/bengali/news/2015/11/15111...   \n",
              "\n",
              "                                                 title  \\\n",
              "507  'সিরিয়ার অভ্যন্তরে ইরানি লক্ষ্যে' হামলা করছে ...   \n",
              "508  আপেল-স্ট্রবেরির দরকার নেই, বাঙালিরা পেয়ারা বা...   \n",
              "509  করোনাভাইরাস: চীনের ভাইরাস আক্রান্ত উহানের একাত...   \n",
              "510  মাদক: পুলিশের বিরুদ্ধে মাদকের সঙ্গে সংশ্লিষ্টত...   \n",
              "511                 ইসলামিক স্টেট কোথা থেকে অর্থ পায়?   \n",
              "\n",
              "                                               summary  \\\n",
              "507  ইসরায়েলের সেনাবাহিনী জানিয়েছে যে তারা সিরিয়...   \n",
              "508  স্থানীয়ভাবে উৎপাদিত শাকসব্জি বা ডিম, ফলমূল ইত...   \n",
              "509  করোনাভাইরাসে আক্রান্ত মানুষের সংখ্যা যখন বাড়ছ...   \n",
              "510  বাংলাদেশে মাদক গ্রহণের অভিযোগে সোমবার দক্ষিণ-প...   \n",
              "511  ফ্রান্সের রাজধানী প্যারিসে গত শুক্রবারের আক্রম...   \n",
              "\n",
              "                                                  text  \\\n",
              "507  সিরিয়ার অভ্যন্তরে ইরানি লক্ষ্যবস্তুতে আঘাত কর...   \n",
              "508  পেয়ারা বাগান থেকে তোলা হচ্ছে ফসল। ফাইল ছবি জা...   \n",
              "509  চীনের বাসিন্দারা ''উহান জিয়ায়ু'' বলে চিৎকার ...   \n",
              "510  পুলিশের বিরুদ্ধে সাধারণত তিনভাবে মাদকের সঙ্গে ...   \n",
              "511  ইসলামিক স্টেট খেলাফতের স্বঘোষিত খলিফা আবু বকর ...   \n",
              "\n",
              "                                     predicted_summary  \n",
              "507   ### ধাপ ১: মূল বিষয়বস্তু বোঝা\\nবিবরণটি পড়ে ...  \n",
              "508   ### ধাপ ১: \\nপেয়ারা বাগান থেকে তোলা হচ্ছে ফস...  \n",
              "509   ### বিবরণ:\\nচীনের বাসিন্দারা ''উহান জিয়ায়ু'...  \n",
              "510   ### ধাপ ১: মূল বিষয়বস্তু বোঝা\\nবিবরণটি পড়ে ...  \n",
              "511   ### ধাপ ১: মূল বিষয়বস্তু বোঝা\\nইসলামিক স্টেট...  "
            ]
          },
          "execution_count": 21,
          "metadata": {},
          "output_type": "execute_result"
        }
      ],
      "source": [
        "cot_results = pd.read_parquet(\"aya_101_cot_summary_results.parquet\")\n",
        "cot_results.tail()"
      ]
    },
    {
      "cell_type": "code",
      "execution_count": null,
      "id": "vGDSig8bWtvF",
      "metadata": {
        "id": "vGDSig8bWtvF"
      },
      "outputs": [],
      "source": [
        "# Empty the GPU cache\n",
        "torch.cuda.empty_cache()"
      ]
    },
    {
      "cell_type": "markdown",
      "id": "z_8MFHU62EhE",
      "metadata": {
        "id": "z_8MFHU62EhE"
      },
      "source": [
        "### Evaluate Summarization"
      ]
    },
    {
      "cell_type": "code",
      "execution_count": null,
      "id": "HUwlzCsYrhEX",
      "metadata": {
        "colab": {
          "base_uri": "https://localhost:8080/"
        },
        "id": "HUwlzCsYrhEX",
        "outputId": "0ca88652-9671-45e0-d791-01fabb4d59f8"
      },
      "outputs": [
        {
          "name": "stdout",
          "output_type": "stream",
          "text": [
            "Collecting rouge\n",
            "  Downloading rouge-1.0.1-py3-none-any.whl.metadata (4.1 kB)\n",
            "Requirement already satisfied: six in /usr/local/lib/python3.10/dist-packages (from rouge) (1.16.0)\n",
            "Downloading rouge-1.0.1-py3-none-any.whl (13 kB)\n",
            "Installing collected packages: rouge\n",
            "Successfully installed rouge-1.0.1\n"
          ]
        }
      ],
      "source": [
        "pip install rouge"
      ]
    },
    {
      "cell_type": "code",
      "execution_count": null,
      "id": "FYIn5uifrqMN",
      "metadata": {
        "colab": {
          "base_uri": "https://localhost:8080/"
        },
        "id": "FYIn5uifrqMN",
        "outputId": "13ce9cad-3e76-4dee-a8c9-41a11cb07f89"
      },
      "outputs": [
        {
          "name": "stdout",
          "output_type": "stream",
          "text": [
            "Collecting bert-score\n",
            "  Downloading bert_score-0.3.13-py3-none-any.whl.metadata (15 kB)\n",
            "Requirement already satisfied: torch>=1.0.0 in /usr/local/lib/python3.10/dist-packages (from bert-score) (2.3.1+cu121)\n",
            "Requirement already satisfied: pandas>=1.0.1 in /usr/local/lib/python3.10/dist-packages (from bert-score) (2.1.4)\n",
            "Requirement already satisfied: transformers>=3.0.0 in /usr/local/lib/python3.10/dist-packages (from bert-score) (4.42.4)\n",
            "Requirement already satisfied: numpy in /usr/local/lib/python3.10/dist-packages (from bert-score) (1.26.4)\n",
            "Requirement already satisfied: requests in /usr/local/lib/python3.10/dist-packages (from bert-score) (2.32.3)\n",
            "Requirement already satisfied: tqdm>=4.31.1 in /usr/local/lib/python3.10/dist-packages (from bert-score) (4.66.5)\n",
            "Requirement already satisfied: matplotlib in /usr/local/lib/python3.10/dist-packages (from bert-score) (3.7.1)\n",
            "Requirement already satisfied: packaging>=20.9 in /usr/local/lib/python3.10/dist-packages (from bert-score) (24.1)\n",
            "Requirement already satisfied: python-dateutil>=2.8.2 in /usr/local/lib/python3.10/dist-packages (from pandas>=1.0.1->bert-score) (2.8.2)\n",
            "Requirement already satisfied: pytz>=2020.1 in /usr/local/lib/python3.10/dist-packages (from pandas>=1.0.1->bert-score) (2024.1)\n",
            "Requirement already satisfied: tzdata>=2022.1 in /usr/local/lib/python3.10/dist-packages (from pandas>=1.0.1->bert-score) (2024.1)\n",
            "Requirement already satisfied: filelock in /usr/local/lib/python3.10/dist-packages (from torch>=1.0.0->bert-score) (3.15.4)\n",
            "Requirement already satisfied: typing-extensions>=4.8.0 in /usr/local/lib/python3.10/dist-packages (from torch>=1.0.0->bert-score) (4.12.2)\n",
            "Requirement already satisfied: sympy in /usr/local/lib/python3.10/dist-packages (from torch>=1.0.0->bert-score) (1.13.2)\n",
            "Requirement already satisfied: networkx in /usr/local/lib/python3.10/dist-packages (from torch>=1.0.0->bert-score) (3.3)\n",
            "Requirement already satisfied: jinja2 in /usr/local/lib/python3.10/dist-packages (from torch>=1.0.0->bert-score) (3.1.4)\n",
            "Requirement already satisfied: fsspec in /usr/local/lib/python3.10/dist-packages (from torch>=1.0.0->bert-score) (2024.6.1)\n",
            "Collecting nvidia-cuda-nvrtc-cu12==12.1.105 (from torch>=1.0.0->bert-score)\n",
            "  Using cached nvidia_cuda_nvrtc_cu12-12.1.105-py3-none-manylinux1_x86_64.whl.metadata (1.5 kB)\n",
            "Collecting nvidia-cuda-runtime-cu12==12.1.105 (from torch>=1.0.0->bert-score)\n",
            "  Using cached nvidia_cuda_runtime_cu12-12.1.105-py3-none-manylinux1_x86_64.whl.metadata (1.5 kB)\n",
            "Collecting nvidia-cuda-cupti-cu12==12.1.105 (from torch>=1.0.0->bert-score)\n",
            "  Using cached nvidia_cuda_cupti_cu12-12.1.105-py3-none-manylinux1_x86_64.whl.metadata (1.6 kB)\n",
            "Collecting nvidia-cudnn-cu12==8.9.2.26 (from torch>=1.0.0->bert-score)\n",
            "  Using cached nvidia_cudnn_cu12-8.9.2.26-py3-none-manylinux1_x86_64.whl.metadata (1.6 kB)\n",
            "Collecting nvidia-cublas-cu12==12.1.3.1 (from torch>=1.0.0->bert-score)\n",
            "  Using cached nvidia_cublas_cu12-12.1.3.1-py3-none-manylinux1_x86_64.whl.metadata (1.5 kB)\n",
            "Collecting nvidia-cufft-cu12==11.0.2.54 (from torch>=1.0.0->bert-score)\n",
            "  Using cached nvidia_cufft_cu12-11.0.2.54-py3-none-manylinux1_x86_64.whl.metadata (1.5 kB)\n",
            "Collecting nvidia-curand-cu12==10.3.2.106 (from torch>=1.0.0->bert-score)\n",
            "  Using cached nvidia_curand_cu12-10.3.2.106-py3-none-manylinux1_x86_64.whl.metadata (1.5 kB)\n",
            "Collecting nvidia-cusolver-cu12==11.4.5.107 (from torch>=1.0.0->bert-score)\n",
            "  Using cached nvidia_cusolver_cu12-11.4.5.107-py3-none-manylinux1_x86_64.whl.metadata (1.6 kB)\n",
            "Collecting nvidia-cusparse-cu12==12.1.0.106 (from torch>=1.0.0->bert-score)\n",
            "  Using cached nvidia_cusparse_cu12-12.1.0.106-py3-none-manylinux1_x86_64.whl.metadata (1.6 kB)\n",
            "Collecting nvidia-nccl-cu12==2.20.5 (from torch>=1.0.0->bert-score)\n",
            "  Using cached nvidia_nccl_cu12-2.20.5-py3-none-manylinux2014_x86_64.whl.metadata (1.8 kB)\n",
            "Collecting nvidia-nvtx-cu12==12.1.105 (from torch>=1.0.0->bert-score)\n",
            "  Using cached nvidia_nvtx_cu12-12.1.105-py3-none-manylinux1_x86_64.whl.metadata (1.7 kB)\n",
            "Requirement already satisfied: triton==2.3.1 in /usr/local/lib/python3.10/dist-packages (from torch>=1.0.0->bert-score) (2.3.1)\n",
            "Collecting nvidia-nvjitlink-cu12 (from nvidia-cusolver-cu12==11.4.5.107->torch>=1.0.0->bert-score)\n",
            "  Using cached nvidia_nvjitlink_cu12-12.6.20-py3-none-manylinux2014_x86_64.whl.metadata (1.5 kB)\n",
            "Requirement already satisfied: huggingface-hub<1.0,>=0.23.2 in /usr/local/lib/python3.10/dist-packages (from transformers>=3.0.0->bert-score) (0.23.5)\n",
            "Requirement already satisfied: pyyaml>=5.1 in /usr/local/lib/python3.10/dist-packages (from transformers>=3.0.0->bert-score) (6.0.2)\n",
            "Requirement already satisfied: regex!=2019.12.17 in /usr/local/lib/python3.10/dist-packages (from transformers>=3.0.0->bert-score) (2024.5.15)\n",
            "Requirement already satisfied: safetensors>=0.4.1 in /usr/local/lib/python3.10/dist-packages (from transformers>=3.0.0->bert-score) (0.4.4)\n",
            "Requirement already satisfied: tokenizers<0.20,>=0.19 in /usr/local/lib/python3.10/dist-packages (from transformers>=3.0.0->bert-score) (0.19.1)\n",
            "Requirement already satisfied: contourpy>=1.0.1 in /usr/local/lib/python3.10/dist-packages (from matplotlib->bert-score) (1.2.1)\n",
            "Requirement already satisfied: cycler>=0.10 in /usr/local/lib/python3.10/dist-packages (from matplotlib->bert-score) (0.12.1)\n",
            "Requirement already satisfied: fonttools>=4.22.0 in /usr/local/lib/python3.10/dist-packages (from matplotlib->bert-score) (4.53.1)\n",
            "Requirement already satisfied: kiwisolver>=1.0.1 in /usr/local/lib/python3.10/dist-packages (from matplotlib->bert-score) (1.4.5)\n",
            "Requirement already satisfied: pillow>=6.2.0 in /usr/local/lib/python3.10/dist-packages (from matplotlib->bert-score) (9.4.0)\n",
            "Requirement already satisfied: pyparsing>=2.3.1 in /usr/local/lib/python3.10/dist-packages (from matplotlib->bert-score) (3.1.2)\n",
            "Requirement already satisfied: charset-normalizer<4,>=2 in /usr/local/lib/python3.10/dist-packages (from requests->bert-score) (3.3.2)\n",
            "Requirement already satisfied: idna<4,>=2.5 in /usr/local/lib/python3.10/dist-packages (from requests->bert-score) (3.7)\n",
            "Requirement already satisfied: urllib3<3,>=1.21.1 in /usr/local/lib/python3.10/dist-packages (from requests->bert-score) (2.0.7)\n",
            "Requirement already satisfied: certifi>=2017.4.17 in /usr/local/lib/python3.10/dist-packages (from requests->bert-score) (2024.7.4)\n",
            "Requirement already satisfied: six>=1.5 in /usr/local/lib/python3.10/dist-packages (from python-dateutil>=2.8.2->pandas>=1.0.1->bert-score) (1.16.0)\n",
            "Requirement already satisfied: MarkupSafe>=2.0 in /usr/local/lib/python3.10/dist-packages (from jinja2->torch>=1.0.0->bert-score) (2.1.5)\n",
            "Requirement already satisfied: mpmath<1.4,>=1.1.0 in /usr/local/lib/python3.10/dist-packages (from sympy->torch>=1.0.0->bert-score) (1.3.0)\n",
            "Downloading bert_score-0.3.13-py3-none-any.whl (61 kB)\n",
            "\u001b[2K   \u001b[90m━━━━━━━━━━━━━━━━━━━━━━━━━━━━━━━━━━━━━━━━\u001b[0m \u001b[32m61.1/61.1 kB\u001b[0m \u001b[31m1.9 MB/s\u001b[0m eta \u001b[36m0:00:00\u001b[0m\n",
            "\u001b[?25hUsing cached nvidia_cublas_cu12-12.1.3.1-py3-none-manylinux1_x86_64.whl (410.6 MB)\n",
            "Using cached nvidia_cuda_cupti_cu12-12.1.105-py3-none-manylinux1_x86_64.whl (14.1 MB)\n",
            "Using cached nvidia_cuda_nvrtc_cu12-12.1.105-py3-none-manylinux1_x86_64.whl (23.7 MB)\n",
            "Using cached nvidia_cuda_runtime_cu12-12.1.105-py3-none-manylinux1_x86_64.whl (823 kB)\n",
            "Using cached nvidia_cudnn_cu12-8.9.2.26-py3-none-manylinux1_x86_64.whl (731.7 MB)\n",
            "Using cached nvidia_cufft_cu12-11.0.2.54-py3-none-manylinux1_x86_64.whl (121.6 MB)\n",
            "Using cached nvidia_curand_cu12-10.3.2.106-py3-none-manylinux1_x86_64.whl (56.5 MB)\n",
            "Using cached nvidia_cusolver_cu12-11.4.5.107-py3-none-manylinux1_x86_64.whl (124.2 MB)\n",
            "Using cached nvidia_cusparse_cu12-12.1.0.106-py3-none-manylinux1_x86_64.whl (196.0 MB)\n",
            "Using cached nvidia_nccl_cu12-2.20.5-py3-none-manylinux2014_x86_64.whl (176.2 MB)\n",
            "Using cached nvidia_nvtx_cu12-12.1.105-py3-none-manylinux1_x86_64.whl (99 kB)\n",
            "Using cached nvidia_nvjitlink_cu12-12.6.20-py3-none-manylinux2014_x86_64.whl (19.7 MB)\n",
            "Installing collected packages: nvidia-nvtx-cu12, nvidia-nvjitlink-cu12, nvidia-nccl-cu12, nvidia-curand-cu12, nvidia-cufft-cu12, nvidia-cuda-runtime-cu12, nvidia-cuda-nvrtc-cu12, nvidia-cuda-cupti-cu12, nvidia-cublas-cu12, nvidia-cusparse-cu12, nvidia-cudnn-cu12, nvidia-cusolver-cu12, bert-score\n",
            "Successfully installed bert-score-0.3.13 nvidia-cublas-cu12-12.1.3.1 nvidia-cuda-cupti-cu12-12.1.105 nvidia-cuda-nvrtc-cu12-12.1.105 nvidia-cuda-runtime-cu12-12.1.105 nvidia-cudnn-cu12-8.9.2.26 nvidia-cufft-cu12-11.0.2.54 nvidia-curand-cu12-10.3.2.106 nvidia-cusolver-cu12-11.4.5.107 nvidia-cusparse-cu12-12.1.0.106 nvidia-nccl-cu12-2.20.5 nvidia-nvjitlink-cu12-12.6.20 nvidia-nvtx-cu12-12.1.105\n"
          ]
        }
      ],
      "source": [
        "pip install bert-score"
      ]
    },
    {
      "cell_type": "code",
      "execution_count": null,
      "id": "d4ccc890",
      "metadata": {},
      "outputs": [],
      "source": [
        "!pip install nltk"
      ]
    },
    {
      "cell_type": "code",
      "execution_count": null,
      "id": "e3dfbcd1-042c-4f4c-9e03-d9a3176d3f98",
      "metadata": {
        "id": "e3dfbcd1-042c-4f4c-9e03-d9a3176d3f98"
      },
      "outputs": [],
      "source": [
        "import pandas as pd\n",
        "from rouge import Rouge\n",
        "from bert_score import score as bert_score\n",
        "from nltk.translate.bleu_score import sentence_bleu, SmoothingFunction\n",
        "\n",
        "def evaluate_summarization(df):\n",
        "    # Replace None values in 'predicted_summary' with empty strings\n",
        "    df['predicted_summary'] = df['predicted_summary'].fillna(\"\")\n",
        "\n",
        "    # Filter out empty summaries\n",
        "    non_empty_df = df[df['summary'].str.strip() != \"\"]\n",
        "    non_empty_df = non_empty_df[non_empty_df['predicted_summary'].str.strip() != \"\"]\n",
        "\n",
        "    # Initialize ROUGE\n",
        "    rouge = Rouge()\n",
        "\n",
        "    # Calculate ROUGE-L score\n",
        "    rouge_l_scores = rouge.get_scores(non_empty_df['predicted_summary'].tolist(), non_empty_df['summary'].tolist(), avg=True)['rouge-l']\n",
        "    avg_rouge_l_f = rouge_l_scores['f']\n",
        "    avg_rouge_l_precision = rouge_l_scores['p']\n",
        "    avg_rouge_l_recall = rouge_l_scores['r']\n",
        "\n",
        "    # Calculate BERTScore\n",
        "    non_empty_refs = non_empty_df['summary'].tolist()\n",
        "    non_empty_preds = non_empty_df['predicted_summary'].tolist()\n",
        "\n",
        "    if non_empty_refs and non_empty_preds:\n",
        "        P, R, F1 = bert_score(non_empty_preds, non_empty_refs, lang='bn', device='cpu')\n",
        "        bert_scores = {\n",
        "            'bert_precision': P.mean().item(),\n",
        "            'bert_recall': R.mean().item(),\n",
        "            'bert_f1': F1.mean().item()\n",
        "        }\n",
        "    else:\n",
        "        bert_scores = {\n",
        "            'bert_precision': 0,\n",
        "            'bert_recall': 0,\n",
        "            'bert_f1': 0\n",
        "        }\n",
        "\n",
        "    # Calculate BLEU score\n",
        "    smoothie = SmoothingFunction().method4\n",
        "    bleu_scores = [sentence_bleu([ref], pred, smoothing_function=smoothie) for ref, pred in zip(non_empty_refs, non_empty_preds)]\n",
        "    avg_bleu_score = sum(bleu_scores) / len(bleu_scores) if bleu_scores else 0\n",
        "\n",
        "    metrics = {\n",
        "        'rouge_l_f': avg_rouge_l_f,\n",
        "        'rouge_l_precision': avg_rouge_l_precision,\n",
        "        'rouge_l_recall': avg_rouge_l_recall,\n",
        "        'bert_precision': bert_scores['bert_precision'],\n",
        "        'bert_recall': bert_scores['bert_recall'],\n",
        "        'bert_f1': bert_scores['bert_f1'],\n",
        "        'bleu': avg_bleu_score\n",
        "    }\n",
        "\n",
        "    return metrics"
      ]
    },
    {
      "cell_type": "code",
      "execution_count": null,
      "id": "e6046496-f006-442c-a8b8-fd309c18ccf1",
      "metadata": {
        "colab": {
          "base_uri": "https://localhost:8080/",
          "height": 298,
          "referenced_widgets": [
            "fb8edf950e5044988e4baa6662e87e89",
            "d59bb7ad01294d0387356ad40ccae5f2",
            "8f388263262f4e9ab1368a739eb07a4b",
            "1a0c1da074374e4d99228f49ed042139",
            "74c986174c3d4bd087668cb8c1e08261",
            "03d5505dcf5040339448e79f909522ab",
            "de8ace54004f4a0f96ce002c436f25b4",
            "7cb462dd28aa4d509ba4dd44e0c2617b",
            "87e7ff0cc49f4e23bfe97a566476abbd",
            "9bbfa627f06347c1b2895df5ffffac86",
            "ff0fada744084317baf6b8bdaf18692e",
            "b577770d606941d0a77db595947079dd",
            "bd7fc6b8f23541ddb0b353bf45a34419",
            "7a5cf28c41ca490980690eaa3b22ee9b",
            "a9d190dd273f4d0a9151c2ed3fd8e1f4",
            "502dc45fad064a74be8a168fd53db305",
            "49ca0871017440c88c30a21b11c7859b",
            "4c97b61caa884dff91051553afd4fe81",
            "04d096c805a24d759eb60cf0776766a7",
            "2a43367e2067499991dc57442ac6e890",
            "18d558f7155648bab19f2a2982aa43ff",
            "fdb534fe4acb401da1f64bc52db3356c",
            "145614e8f21a4c4b9889289366fe8e2b",
            "2c8af80ac9754807a4777a686643222f",
            "0b6a8ba97de244969d39b10203c5506e",
            "d48234e6c75c43a9931517ad723bc4f5",
            "9fa3dffd090b4a4882046ad63dc7a853",
            "35a56eefd7fa48e4ac5d64e7a47558bc",
            "614653ffc82e4e6183315ccd258ee530",
            "f758f2daf440403a9f43837eef9a6561",
            "47fb2e146e944149a593b348ebda441e",
            "accaace5eec1405fac1630d590d2c515",
            "d211cfcbaea0477092aa47f3d3d4cf64",
            "1874ebc881ee41ac98b6c47306928f46",
            "bce2b94058ae49069d5f03ee5e788f5e",
            "0581e474bd0244bbbcdb89eae7f92870",
            "4a1fb770a7a74e628016d29f909f15be",
            "9e8e8514336c45639cfbfa7b89e4a986",
            "bd63f2e2ef614092af2c9739be1349d3",
            "2b3f783543d54e53b088bc544cea5224",
            "b349bdae259240f59dc864d6a47e1227",
            "19d6129922c14bf5a72cb3a4ae8c815d",
            "8264798ff6c241f191f90b8ba188adb6",
            "da68b00e34c8487c9ad68727cc019ada",
            "95cab8017bf34dc6821ab82b9a489480",
            "a0b948482b5447458d87eda34037132a",
            "98b019622c1644c1a04dd8497789eadf",
            "4179685e2eea4391a7b4589655d53a2b",
            "5a57e4fc69984192b2c8d9c262f501c2",
            "0cf11ba066a44fb6a6fbf079587b5551",
            "0b4dc7f02972450a9bc3a0889a3135e7",
            "b30d20899c8244c8ae052f46bc26de45",
            "53fdbb95867049f69f7d39559fbb41b8",
            "5fc81d0eed95456ab62e40e3f27be2e8",
            "262c4304908d45d696706bb8e9e6e4f4"
          ]
        },
        "id": "e6046496-f006-442c-a8b8-fd309c18ccf1",
        "outputId": "c3dc6b3d-2f86-4ce1-ada8-772edcda0c26"
      },
      "outputs": [
        {
          "data": {
            "application/vnd.jupyter.widget-view+json": {
              "model_id": "fb8edf950e5044988e4baa6662e87e89",
              "version_major": 2,
              "version_minor": 0
            },
            "text/plain": [
              "tokenizer_config.json:   0%|          | 0.00/49.0 [00:00<?, ?B/s]"
            ]
          },
          "metadata": {},
          "output_type": "display_data"
        },
        {
          "data": {
            "application/vnd.jupyter.widget-view+json": {
              "model_id": "b577770d606941d0a77db595947079dd",
              "version_major": 2,
              "version_minor": 0
            },
            "text/plain": [
              "config.json:   0%|          | 0.00/625 [00:00<?, ?B/s]"
            ]
          },
          "metadata": {},
          "output_type": "display_data"
        },
        {
          "data": {
            "application/vnd.jupyter.widget-view+json": {
              "model_id": "145614e8f21a4c4b9889289366fe8e2b",
              "version_major": 2,
              "version_minor": 0
            },
            "text/plain": [
              "vocab.txt:   0%|          | 0.00/996k [00:00<?, ?B/s]"
            ]
          },
          "metadata": {},
          "output_type": "display_data"
        },
        {
          "data": {
            "application/vnd.jupyter.widget-view+json": {
              "model_id": "1874ebc881ee41ac98b6c47306928f46",
              "version_major": 2,
              "version_minor": 0
            },
            "text/plain": [
              "tokenizer.json:   0%|          | 0.00/1.96M [00:00<?, ?B/s]"
            ]
          },
          "metadata": {},
          "output_type": "display_data"
        },
        {
          "data": {
            "application/vnd.jupyter.widget-view+json": {
              "model_id": "95cab8017bf34dc6821ab82b9a489480",
              "version_major": 2,
              "version_minor": 0
            },
            "text/plain": [
              "model.safetensors:   0%|          | 0.00/714M [00:00<?, ?B/s]"
            ]
          },
          "metadata": {},
          "output_type": "display_data"
        },
        {
          "name": "stdout",
          "output_type": "stream",
          "text": [
            "rouge_l_f: 0.1109\n",
            "rouge_l_precision: 0.1117\n",
            "rouge_l_recall: 0.1200\n",
            "bert_precision: 0.7071\n",
            "bert_recall: 0.7089\n",
            "bert_f1: 0.7076\n",
            "bleu: 0.2800\n"
          ]
        }
      ],
      "source": [
        "zs_df = pd.read_parquet(\"aya_101_zs_summary_results.parquet\")\n",
        "# zs_df['predicted_summary'] = zs_df['predicted_summary'].fillna(\"\")\n",
        "metrics = evaluate_summarization(zs_df)\n",
        "for metric, value in metrics.items():\n",
        "    print(f\"{metric}: {value:.4f}\")"
      ]
    },
    {
      "cell_type": "code",
      "execution_count": null,
      "id": "kfAfQQMEPluj",
      "metadata": {
        "colab": {
          "base_uri": "https://localhost:8080/"
        },
        "id": "kfAfQQMEPluj",
        "outputId": "0cb678a6-01ae-4d65-827c-6bca1461eb3a"
      },
      "outputs": [
        {
          "name": "stdout",
          "output_type": "stream",
          "text": [
            "rouge_l_f: 0.1140\n",
            "rouge_l_precision: 0.1049\n",
            "rouge_l_recall: 0.1500\n",
            "bert_precision: 0.6922\n",
            "bert_recall: 0.7133\n",
            "bert_f1: 0.7019\n",
            "bleu: 0.2570\n"
          ]
        }
      ],
      "source": [
        "ts_df = pd.read_parquet(\"aya_101_ts_summary_results.parquet\")\n",
        "metrics = evaluate_summarization(ts_df)\n",
        "for metric, value in metrics.items():\n",
        "    print(f\"{metric}: {value:.4f}\")"
      ]
    },
    {
      "cell_type": "code",
      "execution_count": null,
      "id": "XzYfSDwWPrap",
      "metadata": {
        "colab": {
          "base_uri": "https://localhost:8080/"
        },
        "id": "XzYfSDwWPrap",
        "outputId": "d1a63b5c-42a2-4c92-d212-005e4f7697d4"
      },
      "outputs": [
        {
          "name": "stdout",
          "output_type": "stream",
          "text": [
            "rouge_l_f: 0.1050\n",
            "rouge_l_precision: 0.0836\n",
            "rouge_l_recall: 0.1589\n",
            "bert_precision: 0.6261\n",
            "bert_recall: 0.6775\n",
            "bert_f1: 0.6504\n",
            "bleu: 0.1718\n"
          ]
        }
      ],
      "source": [
        "cot_df = pd.read_parquet(\"aya_101_cot_summary_results.parquet\")\n",
        "metrics = evaluate_summarization(cot_df)\n",
        "for metric, value in metrics.items():\n",
        "    print(f\"{metric}: {value:.4f}\")"
      ]
    },
    {
      "cell_type": "markdown",
      "id": "jV208jxjsP22",
      "metadata": {
        "id": "jV208jxjsP22"
      },
      "source": [
        "## AYA - RQA Eval"
      ]
    },
    {
      "cell_type": "code",
      "execution_count": null,
      "id": "sV1KEWtgS4nj",
      "metadata": {
        "id": "sV1KEWtgS4nj"
      },
      "outputs": [],
      "source": [
        "zero_shot = \"\"\"আপনাকে একটি প্রশ্ন এবং চারটি বিকল্প উত্তর দেওয়া হয়েছে। আপনাকে সঠিক উত্তরটি নির্ধারণ করতে হবে এবং শুধুমাত্র ক, খ, গ, ঘ বিকল্পের মধ্যে থেকে সঠিক উত্তরটি লিখতে হবে।\n",
        "\n",
        "উত্তরের জন্য প্রথমে অপশন নাম্বারটি লিখে (ক / খ/ গ / ঘ) ব্রাকেট ) দিয়ে উত্তর টি লিখুন। অপশনের মতোই নিম্নোক্ত ফরম্যাটটি অনুসরণ করুন।\n",
        "ক / খ / গ / ঘ) উত্তর\n",
        "\n",
        "\"\"\""
      ]
    },
    {
      "cell_type": "code",
      "execution_count": null,
      "id": "0V-VUNQ8TJgO",
      "metadata": {
        "id": "0V-VUNQ8TJgO"
      },
      "outputs": [],
      "source": [
        "three_shot = \"\"\"আপনাকে একটি প্রশ্ন এবং চারটি বিকল্প উত্তর দেওয়া হয়েছে। আপনাকে সঠিক উত্তরটি নির্ধারণ করতে হবে এবং শুধুমাত্র ক, খ, গ, ঘ বিকল্পের মধ্যে থেকে সঠিক উত্তরটি লিখতে হবে।\n",
        "\n",
        "উত্তরের জন্য প্রথমে অপশন নাম্বারটি লিখে (ক / খ/ গ / ঘ) ব্রাকেট ) দিয়ে উত্তর টি লিখুন। অপশনের মতোই নিম্নোক্ত ফরম্যাটটি অনুসরণ করুন।\n",
        "ক / খ / গ / ঘ) উত্তর\n",
        "\n",
        "### উদাহরণ ১\n",
        "### প্রশ্ন:\n",
        "p^{2} + q^{2} = 3, pq = 3 হলে (p + q)^{2} এর মান কত?\n",
        "\n",
        "### বিকল্প:\n",
        "ক) 3\n",
        "খ) 9\n",
        "গ) 11\n",
        "ঘ) 15\n",
        "\n",
        "### আপনার উত্তর:\n",
        "খ) 9\n",
        "\n",
        "### উদাহরণ ২\n",
        "### প্রশ্ন:\n",
        "x - 3y = 15 এবং 3x + y = 3ন রেখাদ্বয়ের ঢালের গুণফল কত?\n",
        "\n",
        "### বিকল্প:\n",
        "ক) -3\n",
        "খ) -1\n",
        "গ) 1\n",
        "ঘ) 3\n",
        "\n",
        "### আপনার উত্তর:\n",
        "খ) -1\n",
        "\n",
        "### উদাহরণ ৩\n",
        "### প্রশ্ন:\n",
        "বিনা বাধায় পড়ন্ত বস্তু 5 সেকেন্ডে 50 মিটার পথ অতিক্রম করলে 72 মিটার পথ অতিক্রম করতে কত সেকেন্ড সময় লাগবে?\n",
        "\n",
        "### বিকল্প:\n",
        "ক) 6\n",
        "খ) 7.2\n",
        "গ) 9.5\n",
        "ঘ) 12\n",
        "\n",
        "### আপনার উত্তর:\n",
        "ক) 6\n",
        "\n",
        "### আপনার কাজ\n",
        "\n",
        "\"\"\""
      ]
    },
    {
      "cell_type": "code",
      "execution_count": null,
      "id": "EWUsV4lmTMEp",
      "metadata": {
        "id": "EWUsV4lmTMEp"
      },
      "outputs": [],
      "source": [
        "chain_of_thought = \"\"\"আপনাকে একটি প্রশ্ন এবং চারটি বিকল্প উত্তর দেওয়া হয়েছে। আপনাকে সঠিক উত্তরটি নির্ধারণ করতে হবে এবং শুধুমাত্র ক, খ, গ, ঘ বিকল্পের মধ্যে থেকে সঠিক উত্তরটি লিখতে হবে।\n",
        "\n",
        "উত্তরের জন্য প্রথমে অপশন নাম্বার টি লিখে (ক / খ/ গ / ঘ) ব্রাকেট ) দিয়ে উত্তর টি লিখুন। অপশনের মতোই নিম্নোক্ত ফরম্যাটটি অনুসরণ করুন।\n",
        "ক / খ / গ / ঘ) উত্তর\n",
        "\n",
        "প্রশ্নটির উত্তর নির্ধারণ করতে গিয়ে নিম্নলিখিত ধাপগুলি অনুসরণ করুন:\n",
        "\n",
        "### ধাপ ১: প্রশ্নটি বোঝা\n",
        "প্রশ্নটি ভাল করে পড়ুন এবং এটি কী জানতে চাচ্ছে তা বোঝার চেষ্টা করুন। প্রশ্নটির প্রয়োজনীয়তা এবং কনটেক্সটটি বোঝার জন্য এটি বিস্তারিতভাবে বিবেচনা করুন।\n",
        "\n",
        "### ধাপ ২: বিকল্পগুলি পড়া\n",
        "প্রতিটি বিকল্প ভাল করে পড়ুন এবং কোন কোন বিকল্পগুলি সম্ভবত সঠিক হতে পারে তা সনাক্ত করুন। প্রতিটি বিকল্পের সাথে প্রশ্নটির সম্পর্ক বিচার করুন।\n",
        "\n",
        "### ধাপ ৩: বিকল্পগুলি মূল্যায়ন\n",
        "প্রশ্নটির সাথে সম্পর্কিত জ্ঞান এবং তথ্য ব্যবহার করে সম্ভাব্য সমাধানে পৌছান। কোন বিকল্পটি সঠিক হতে পারে তা বিচার করুন।\n",
        "\n",
        "### ধাপ ৪: সঠিক উত্তর নির্বাচন\n",
        "প্রথম তিনটি ধাপের ভিত্তিতে সবচেয়ে যুক্তিযুক্ত এবং সঠিক উত্তরটি নির্বাচন করুন।\n",
        "\n",
        "### উদাহরণ ১\n",
        "### প্রশ্ন:\n",
        "p^{2} + q^{2} = 3, pq = 3 হলে (p + q)^{2} এর মান কত?\n",
        "\n",
        "### বিকল্প:\n",
        "ক) 3\n",
        "খ) 9\n",
        "গ) 11\n",
        "ঘ) 15\n",
        "\n",
        "#### চিন্তাধারা:\n",
        "- ধাপ ১: প্রশ্নটি বোঝা: এখানে, p^{2} + q^{2} এবং pq এর মান দেওয়া হয়েছে এবং (p + q)^{2} এর মান নির্ধারণ করতে বলা হয়েছে।\n",
        "- ধাপ ২: বিকল্পগুলি পড়া: বিকল্পগুলি হল ৩, ৯, ১১, এবং ১৫।\n",
        "- ধাপ ৩: সম্ভাব্য সমাধান: আমরা জানি যে (p + q)^{2} = p^{2} + 2pq + q^{2}। সুতরাং, (p + q)^{2} = 3 + 2*3 = 9।\n",
        "- ধাপ ৪: সঠিক উত্তর নির্বাচন: সুতরাং, সঠিক উত্তর হল খ) ৯।\n",
        "\n",
        "### আপনার উত্তর:\n",
        "খ) ৯\n",
        "\n",
        "### উদাহরণ ২\n",
        "### প্রশ্ন:\n",
        "x - 3y = 15 এবং 3x + y = 3ন রেখাদ্বয়ের ঢালের গুণফল কত?\n",
        "\n",
        "### বিকল্প:\n",
        "ক) -3\n",
        "খ) -1\n",
        "গ) 1\n",
        "ঘ) 3\n",
        "\n",
        "#### চিন্তাধারা:\n",
        "- ধাপ ১: প্রশ্নটি বোঝা: এখানে, দুইটি রেখার সমীকরণ দেওয়া হয়েছে এবং তাদের ঢালের গুণফল নির্ধারণ করতে বলা হয়েছে।\n",
        "- ধাপ ২: বিকল্পগুলি পড়া: বিকল্পগুলি হল -৩, -১, ১, এবং ৩।\n",
        "- ধাপ ৩: সম্ভাব্য সমাধান: আমরা x - 3y = 15 কে y = mx + c আকারে লিখতে পারি: y = 1/3x + 15। ফলে, প্রথম রেখার ঢাল হল ১/৩ এবং দ্বিতীয় রেখার ঢাল হল -৩। সুতরাং, ঢালের গুণফল হল (১/৩) * (-৩) = -১।\n",
        "- ধাপ ৪: সঠিক উত্তর নির্বাচন: সুতরাং, সঠিক উত্তর হল খ) -১।\n",
        "\n",
        "### আপনার উত্তর:\n",
        "খ) -১\n",
        "\n",
        "### উদাহরণ ৩\n",
        "### প্রশ্ন:\n",
        "বিনা বাধায় পড়ন্ত বস্তু 5 সেকেন্ডে 50 মিটার পথ অতিক্রম করলে 72 মিটার পথ অতিক্রম করতে কত সেকেন্ড সময় লাগবে?\n",
        "\n",
        "### বিকল্প:\n",
        "ক) 6\n",
        "খ) 7.2\n",
        "গ) 9.5\n",
        "ঘ) 12\n",
        "\n",
        "#### চিন্তাধারা:\n",
        "- ধাপ ১: প্রশ্নটি বোঝা: এখানে, বিনা বাধায় পড়ন্ত বস্তুর সময় নির্ধারণ করা।\n",
        "- ধাপ ২: বিকল্পগুলি পড়া: বিকল্পগুলি হল ৬, ৭.২, ৯.৫, এবং ১২।\n",
        "- ধাপ ৩: সম্ভাব্য সমাধান: বিনা বাধায় পড়ন্ত বস্তু t সময়ে h দূরত্ব অতিক্রম করে, যেখানে h = 1/2 * g * t^2। 50 মিটার যেতে 5 সেকেন্ড সময় লাগে: 50 = 1/2 * g * 5^2, g = 4 মিটার/সেকেন্ড^2। সুতরাং, 72 মিটার যেতে সময় লাগবে: 72 = 1/2 * 4 * t^2, t^2 = 36, t = 6 সেকেন্ড।\n",
        "- ধাপ ৪: সঠিক উত্তর নির্বাচন: সুতরাং, সঠিক উত্তর হল ক) ৬।\n",
        "\n",
        "### আপনার উত্তর:\n",
        "খ) ৭.২\n",
        "\n",
        "### আপনার কাজ\n",
        "\n",
        "\n",
        "\"\"\""
      ]
    },
    {
      "cell_type": "code",
      "execution_count": null,
      "id": "jzLTj1qbsOaF",
      "metadata": {
        "colab": {
          "base_uri": "https://localhost:8080/",
          "height": 35
        },
        "id": "jzLTj1qbsOaF",
        "outputId": "27052e9d-ed4f-4089-ef83-4f52290e0a6b"
      },
      "outputs": [
        {
          "data": {
            "application/vnd.google.colaboratory.intrinsic+json": {
              "type": "string"
            },
            "text/plain": [
              "' 1. কাজী নজরুল ইসলাম\\n2. জিবনানন্দ দাশ\\n3. রবীন্দ্রনাথ ঠাকুর\\n4. মিজানুর রহমান\\n5. শামসুর রাহমান'"
            ]
          },
          "execution_count": 11,
          "metadata": {},
          "output_type": "execute_result"
        }
      ],
      "source": [
        "get_aya_output(\"বাংলাদেশের ৫ জন কবির নাম লিস্ট আকারে লিখ।\")"
      ]
    },
    {
      "cell_type": "code",
      "execution_count": null,
      "id": "2a972c0d-871e-43ac-bbdd-b484d8820163",
      "metadata": {
        "id": "2a972c0d-871e-43ac-bbdd-b484d8820163"
      },
      "outputs": [],
      "source": [
        "def prepare_questions(row, base_prompt, prompt_type = 'zero_shot'):\n",
        "    question = row['Bengali Question']\n",
        "    options = {\n",
        "        'ক': row['A Bn'],\n",
        "        'খ': row['B Bn'],\n",
        "        'গ': row['C Bn'],\n",
        "        'ঘ': row['D Bn']\n",
        "    }\n",
        "    correct_answer = row['Correct Answer']\n",
        "    eng2ben_map = {\n",
        "        'a': 'ক',\n",
        "        'b': 'খ',\n",
        "        'c': 'গ',\n",
        "        'd': 'ঘ'\n",
        "    }\n",
        "    correct_option = eng2ben_map[correct_answer] + \") \" + options[eng2ben_map[correct_answer]]\n",
        "\n",
        "    options_string = \"\\n\".join([f\"{key}) {value}\" for key, value in options.items()])\n",
        "\n",
        "    if prompt_type == 'zero_shot':\n",
        "        question_prompt = base_prompt + f\"### প্রশ্ন:\\n{question}\\n\\n### বিকল্প:\\n{options_string}\\n\\n### আপনার উত্তর:\\n\"\n",
        "    elif prompt_type == 'three_shot':\n",
        "        question_prompt = base_prompt + f\"### প্রশ্ন:\\n{question}\\n\\n### বিকল্প:\\n{options_string}\\n\\n### আপনার উত্তর:\\n\"\n",
        "    elif prompt_type == 'cot':\n",
        "        question_prompt = base_prompt + f\"### প্রশ্ন:\\n{question}\\n\\n### বিকল্প:\\n{options_string}\\n\\n\"\n",
        "\n",
        "    return question_prompt, correct_option"
      ]
    },
    {
      "cell_type": "code",
      "execution_count": null,
      "id": "rH6Vr-bFk1vA",
      "metadata": {
        "id": "rH6Vr-bFk1vA"
      },
      "outputs": [],
      "source": [
        "file_paths = [\n",
        "    \"https://github.com/sheikhshafayat/BEnQA/raw/master/data/BEnQA/8th-Science.csv\",\n",
        "    \"https://github.com/sheikhshafayat/BEnQA/raw/master/data/BEnQA/12th-Math-I.csv\",\n",
        "    \"https://github.com/sheikhshafayat/BEnQA/raw/master/data/BEnQA/12th-Math-II.csv\",\n",
        "    \"https://github.com/sheikhshafayat/BEnQA/raw/master/data/BEnQA/12th-Physics-I.csv\",\n",
        "    \"https://github.com/sheikhshafayat/BEnQA/raw/master/data/BEnQA/12th-Physics-II.csv\"\n",
        "]\n",
        "\n",
        "file_tags = [\n",
        "    \"8th_science\",\n",
        "    \"12th_math_1\",\n",
        "    \"12th_math_2\",\n",
        "    \"12th_physics_1\",\n",
        "    \"12th_physics_2\"\n",
        "]"
      ]
    },
    {
      "cell_type": "markdown",
      "id": "iqPyMWsyStO6",
      "metadata": {
        "id": "iqPyMWsyStO6"
      },
      "source": [
        "### Zero-shot"
      ]
    },
    {
      "cell_type": "code",
      "execution_count": null,
      "id": "Nqhj_DQzStO7",
      "metadata": {
        "id": "Nqhj_DQzStO7"
      },
      "outputs": [],
      "source": [
        "import time\n",
        "from tqdm.notebook import tqdm\n",
        "\n",
        "\n",
        "def prepare_zs_results(df, dataset_tag):\n",
        "    # Assuming df is the original DataFrame and category_translation is defined\n",
        "    df['predicted_option'] = None\n",
        "    df['correct_option_fmt'] = None\n",
        "\n",
        "    # Try to load the progress from the Parquet file\n",
        "    try:\n",
        "        df_progress = pd.read_parquet(f\"aya_101_zs_rqa_{dataset_tag}_results.parquet\")\n",
        "        start_index = df_progress['predicted_option'].last_valid_index() + 1\n",
        "    except (FileNotFoundError, ValueError):\n",
        "        df_progress = df.copy()\n",
        "        start_index = 0\n",
        "\n",
        "\n",
        "    for i, row in tqdm(df.iloc[start_index:].iterrows(), initial=start_index, total=len(df) - start_index):\n",
        "\n",
        "        try:\n",
        "            prompt_input, cor_opt = prepare_questions(row, base_prompt = zero_shot, prompt_type = 'zero_shot')\n",
        "        except:\n",
        "            print(\"Error w/ sample\", row)\n",
        "\n",
        "        try:\n",
        "            df.at[i, 'predicted_option'] = get_aya_output(prompt_input, max_new_tokens = 128)\n",
        "            df.at[i, 'correct_option_fmt'] = cor_opt\n",
        "        except Exception as e:\n",
        "            print(f\"Error at index {i}\")\n",
        "            time.sleep(5)\n",
        "\n",
        "        if (i + 1) % 100 == 0:\n",
        "            df.to_parquet(f\"aya_101_zs_rqa_{dataset_tag}_results.parquet\")\n",
        "\n",
        "    # Save final progress\n",
        "    df.to_parquet(f\"aya_101_zs_rqa_{dataset_tag}_results.parquet\")\n",
        "    return df\n",
        "\n",
        "### set file index\n",
        "\n",
        "for file_index in range(5):\n",
        "    print(file_paths[file_index])\n",
        "    df = pd.read_csv(file_paths[file_index])\n",
        "\n",
        "    print(df.head())\n",
        "\n",
        "    zs_results = prepare_zs_results(df, dataset_tag = file_tags[file_index])\n",
        "    print(zs_results.head())"
      ]
    },
    {
      "cell_type": "code",
      "execution_count": null,
      "id": "f1z40hGEWj15",
      "metadata": {
        "id": "f1z40hGEWj15"
      },
      "outputs": [],
      "source": [
        "# Empty the GPU cache\n",
        "torch.cuda.empty_cache()"
      ]
    },
    {
      "cell_type": "markdown",
      "id": "r5hYuksFuryE",
      "metadata": {
        "id": "r5hYuksFuryE"
      },
      "source": [
        "### Three Shot"
      ]
    },
    {
      "cell_type": "code",
      "execution_count": null,
      "id": "qX3_X10ZStO7",
      "metadata": {
        "id": "qX3_X10ZStO7"
      },
      "outputs": [],
      "source": [
        "import time\n",
        "from tqdm.notebook import tqdm\n",
        "\n",
        "def prepare_ts_results(df, dataset_tag):\n",
        "    # Assuming df is the original DataFrame and category_translation is defined\n",
        "    df['predicted_option'] = None\n",
        "    df['correct_option_fmt'] = None\n",
        "\n",
        "    # Try to load the progress from the Parquet file\n",
        "    try:\n",
        "        df_progress = pd.read_parquet(f\"aya_101_ts_rqa_{dataset_tag}_results.parquet\")\n",
        "        last_valid_index = df_progress['predicted_option'].last_valid_index()\n",
        "        start_index = last_valid_index + 1 if last_valid_index is not None else 0\n",
        "    except (FileNotFoundError, ValueError):\n",
        "        df_progress = df.copy()\n",
        "        start_index = 0\n",
        "\n",
        "\n",
        "    for i, row in tqdm(df.iloc[start_index:].iterrows(), initial=start_index, total=len(df) - start_index):\n",
        "\n",
        "        try:\n",
        "            prompt_input, cor_opt = prepare_questions(row, base_prompt = three_shot, prompt_type = 'three_shot')\n",
        "        except:\n",
        "            print(\"Error w/ sample\", row)\n",
        "\n",
        "        try:\n",
        "            df.at[i, 'predicted_option'] = get_aya_output(prompt_input, max_new_tokens = 256)\n",
        "            df.at[i, 'correct_option_fmt'] = cor_opt\n",
        "        except Exception as e:\n",
        "            print(f\"Error at index {i}\")\n",
        "            time.sleep(5)\n",
        "\n",
        "        if (i + 1) % 100 == 0:\n",
        "            df.to_parquet(f\"aya_101_ts_rqa_{dataset_tag}_results.parquet\")\n",
        "\n",
        "    # Save final progress\n",
        "    df.to_parquet(f\"aya_101_ts_rqa_{dataset_tag}_results.parquet\")\n",
        "    return df\n",
        "\n",
        "### set file index\n",
        "\n",
        "for file_index in range(5):\n",
        "    print(file_paths[file_index])\n",
        "    df = pd.read_csv(file_paths[file_index])\n",
        "\n",
        "    print(df.head())\n",
        "\n",
        "    ts_results = prepare_ts_results(df, dataset_tag = file_tags[file_index])\n",
        "    print(ts_results.head())"
      ]
    },
    {
      "cell_type": "code",
      "execution_count": null,
      "id": "vuYFU7Y_Wl0T",
      "metadata": {
        "id": "vuYFU7Y_Wl0T"
      },
      "outputs": [],
      "source": [
        "# Empty the GPU cache\n",
        "torch.cuda.empty_cache()"
      ]
    },
    {
      "cell_type": "markdown",
      "id": "VoHNTm33uw7Z",
      "metadata": {
        "id": "VoHNTm33uw7Z"
      },
      "source": [
        "### Chain of Thought"
      ]
    },
    {
      "cell_type": "code",
      "execution_count": null,
      "id": "lZAaKRFNStO7",
      "metadata": {
        "id": "lZAaKRFNStO7"
      },
      "outputs": [],
      "source": [
        "import time\n",
        "from tqdm.notebook import tqdm\n",
        "\n",
        "def prepare_cot_results(df, dataset_tag):\n",
        "    # Assuming df is the original DataFrame and category_translation is defined\n",
        "    df['predicted_option'] = None\n",
        "    df['correct_option_fmt'] = None\n",
        "\n",
        "    # Try to load the progress from the Parquet file\n",
        "    try:\n",
        "        df_progress = pd.read_parquet(f\"aya_101_cot_rqa_{dataset_tag}_results.parquet\")\n",
        "        last_valid_index = df_progress['predicted_option'].last_valid_index()\n",
        "        start_index = last_valid_index + 1 if last_valid_index is not None else 0\n",
        "    except (FileNotFoundError, ValueError):\n",
        "        df_progress = df.copy()\n",
        "        start_index = 0\n",
        "\n",
        "\n",
        "    for i, row in tqdm(df.iloc[start_index:].iterrows(), initial=start_index, total=len(df) - start_index):\n",
        "\n",
        "        try:\n",
        "            prompt_input, cor_opt = prepare_questions(row, base_prompt = chain_of_thought, prompt_type = 'cot')\n",
        "        except:\n",
        "            print(\"Error w/ sample\", row)\n",
        "\n",
        "        try:\n",
        "            df.at[i, 'predicted_option'] = get_aya_output(prompt_input, max_new_tokens = 1024)\n",
        "            df.at[i, 'correct_option_fmt'] = cor_opt\n",
        "        except Exception as e:\n",
        "            print(f\"Error at index {i}\")\n",
        "            time.sleep(5)\n",
        "\n",
        "        if (i + 1) % 100 == 0:\n",
        "            df.to_parquet(f\"aya_101_cot_rqa_{dataset_tag}_results.parquet\")\n",
        "\n",
        "    # Save final progress\n",
        "    df.to_parquet(f\"aya_101_cot_rqa_{dataset_tag}_results.parquet\")\n",
        "    return df\n",
        "\n",
        "### set file index\n",
        "\n",
        "for file_index in range(5):\n",
        "    print(file_paths[file_index])\n",
        "    df = pd.read_csv(file_paths[file_index])\n",
        "\n",
        "    print(df.head())\n",
        "\n",
        "    cot_results = prepare_cot_results(df, dataset_tag = file_tags[file_index])\n",
        "    print(cot_results.head())"
      ]
    },
    {
      "cell_type": "code",
      "execution_count": null,
      "id": "AJv48LJXWnFR",
      "metadata": {
        "id": "AJv48LJXWnFR"
      },
      "outputs": [],
      "source": [
        "# Empty the GPU cache\n",
        "torch.cuda.empty_cache()"
      ]
    }
  ],
  "metadata": {
    "colab": {
      "provenance": []
    },
    "kernelspec": {
      "display_name": "Python 3 (ipykernel)",
      "language": "python",
      "name": "python3"
    },
    "language_info": {
      "codemirror_mode": {
        "name": "ipython",
        "version": 3
      },
      "file_extension": ".py",
      "mimetype": "text/x-python",
      "name": "python",
      "nbconvert_exporter": "python",
      "pygments_lexer": "ipython3",
      "version": "3.10.12"
    }
  },
  "nbformat": 4,
  "nbformat_minor": 5
}
