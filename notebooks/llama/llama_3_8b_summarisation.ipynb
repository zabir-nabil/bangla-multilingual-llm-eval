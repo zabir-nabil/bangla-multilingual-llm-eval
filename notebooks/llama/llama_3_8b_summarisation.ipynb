{
 "cells": [
  {
   "cell_type": "code",
   "execution_count": 1,
   "id": "580901ef-5634-4ef6-83b6-972acfc1a5e9",
   "metadata": {},
   "outputs": [],
   "source": [
    "from openai import OpenAI\n",
    "\n",
    "openai_api_key = \"EMPTY\"\n",
    "openai_api_base = \"http://localhost:2242/v1\"\n",
    "\n",
    "client = OpenAI(\n",
    "    api_key=openai_api_key,\n",
    "    base_url=openai_api_base,\n",
    ")\n",
    "\n",
    "def get_llama_response(prompt, temperature = 0.1, max_tokens = 128):\n",
    "    completion = client.chat.completions.create(\n",
    "        model=\"meta-llama/Meta-Llama-3.1-8B-Instruct\",\n",
    "        messages=[\n",
    "            {\"role\": \"system\", \"content\": \"You are a helpful assistant.\"},\n",
    "            {\n",
    "                \"role\": \"user\",\n",
    "                \"content\": prompt\n",
    "            }\n",
    "        ],\n",
    "        temperature = temperature,\n",
    "        # max_tokens = max_tokens\n",
    "    )\n",
    "\n",
    "    return completion.choices[0].message.content"
   ]
  },
  {
   "cell_type": "code",
   "execution_count": 2,
   "id": "0a78c55f-93ce-457d-9927-03901b7f995a",
   "metadata": {},
   "outputs": [
    {
     "data": {
      "text/plain": [
       "'বাংলাদেশে অনেক বিখ্যাত কবি রয়েছেন, কুড়ি ঘন্টার মধ্যে নিচের কিছু নাম প্রদান করতে পারি:\\n\\n1. কাজী নজরুল ইসলাম\\n2. সুরেশচন্দ্র সেন\\n3. জসীম উদ্দীন\\n4. রবীন্দ্রনাথ ঠাকুর\\n5. মঞ্জু ভূষন\\n রবীন্দ্রনাথ ঠাকুর ভারতীয় কবি তবে যুগে তিনি  সারাদেশে ভাঙ্গা হেলে এসেছেন সেহেতু আজকের কাঠামোতে তিনি বাংলাদেশের কবি হিসেবেও বিবেচনা করা হয়'"
      ]
     },
     "execution_count": 2,
     "metadata": {},
     "output_type": "execute_result"
    }
   ],
   "source": [
    "get_llama_response(\"৫ জন বাংলাদেশি বিখ্যাত কবির নাম বল?\")"
   ]
  },
  {
   "cell_type": "code",
   "execution_count": 3,
   "id": "5c4df131-7af3-4397-a3d4-f77b250bd4d5",
   "metadata": {},
   "outputs": [
    {
     "data": {
      "text/html": [
       "<div>\n",
       "<style scoped>\n",
       "    .dataframe tbody tr th:only-of-type {\n",
       "        vertical-align: middle;\n",
       "    }\n",
       "\n",
       "    .dataframe tbody tr th {\n",
       "        vertical-align: top;\n",
       "    }\n",
       "\n",
       "    .dataframe thead th {\n",
       "        text-align: right;\n",
       "    }\n",
       "</style>\n",
       "<table border=\"1\" class=\"dataframe\">\n",
       "  <thead>\n",
       "    <tr style=\"text-align: right;\">\n",
       "      <th></th>\n",
       "      <th>id</th>\n",
       "      <th>url</th>\n",
       "      <th>title</th>\n",
       "      <th>summary</th>\n",
       "      <th>text</th>\n",
       "    </tr>\n",
       "  </thead>\n",
       "  <tbody>\n",
       "    <tr>\n",
       "      <th>0</th>\n",
       "      <td>news-45155508</td>\n",
       "      <td>https://www.bbc.com/bengali/news-45155508</td>\n",
       "      <td>চীন ১০ লাখ উইগুর মুসলিমকে আটকে রেখেছে - জাতিসং...</td>\n",
       "      <td>জাতিসংঘের মানবাধিকার বিষয়ক কমিটি জেনেভাতে চীন...</td>\n",
       "      <td>আটক স্বজনদের আইডি কার্ড হাতে উইগুর নারীদের বিক...</td>\n",
       "    </tr>\n",
       "    <tr>\n",
       "      <th>1</th>\n",
       "      <td>news-39127107</td>\n",
       "      <td>https://www.bbc.com/bengali/news-39127107</td>\n",
       "      <td>কোকা-কোলা, পেপসি নিষিদ্ধ হলো তামিলনাডুতে</td>\n",
       "      <td>ভারতের দক্ষিণাঞ্চলীয় রাজ্য তামিলনাডুর ব্যবসায...</td>\n",
       "      <td>ভারতের অন্য অঞ্চলেও কোক, পেপসি নিষিদ্ধ করার দা...</td>\n",
       "    </tr>\n",
       "    <tr>\n",
       "      <th>2</th>\n",
       "      <td>news-49141918</td>\n",
       "      <td>https://www.bbc.com/bengali/news-49141918</td>\n",
       "      <td>ডেঙ্গু পরিস্থিতি: হাসপাতালে ভর্তির দরকার না থা...</td>\n",
       "      <td>স্বাস্থ্য অধিদপ্তরের হিসাব মতে, গত ২৪ ঘণ্টায় ...</td>\n",
       "      <td>সোহরাওয়ার্দী হাসপাতালের চিত্র সাধারণত সেপ্টেম...</td>\n",
       "    </tr>\n",
       "    <tr>\n",
       "      <th>3</th>\n",
       "      <td>news-52808250</td>\n",
       "      <td>https://www.bbc.com/bengali/news-52808250</td>\n",
       "      <td>ডোনাল্ড ট্রাম্প: আমেরিকান প্রেসিডেন্টের পোস্ট ...</td>\n",
       "      <td>এই প্রথম সামাজিক মাধ্যমের বিশাল প্রতিষ্ঠান টুই...</td>\n",
       "      <td>ডোনাল্ড ট্রাম্প অভিযোগ করেছেন টু্‌ইটার আমেরিকা...</td>\n",
       "    </tr>\n",
       "    <tr>\n",
       "      <th>4</th>\n",
       "      <td>news-49047323</td>\n",
       "      <td>https://www.bbc.com/bengali/news-49047323</td>\n",
       "      <td>বাংলাদেশে বন্যার প্রকোপ: ২৪ ঘণ্টায় ডুবে যাবে ...</td>\n",
       "      <td>বাংলাদেশের বন্যা পূর্বাভাস এবং সতর্কীকরণ কেন্দ...</td>\n",
       "      <td>বন্যার প্রকোপ ছড়িয়ে পড়ছে সারা দেশে। বাংলাদে...</td>\n",
       "    </tr>\n",
       "  </tbody>\n",
       "</table>\n",
       "</div>"
      ],
      "text/plain": [
       "              id                                        url  \\\n",
       "0  news-45155508  https://www.bbc.com/bengali/news-45155508   \n",
       "1  news-39127107  https://www.bbc.com/bengali/news-39127107   \n",
       "2  news-49141918  https://www.bbc.com/bengali/news-49141918   \n",
       "3  news-52808250  https://www.bbc.com/bengali/news-52808250   \n",
       "4  news-49047323  https://www.bbc.com/bengali/news-49047323   \n",
       "\n",
       "                                               title  \\\n",
       "0  চীন ১০ লাখ উইগুর মুসলিমকে আটকে রেখেছে - জাতিসং...   \n",
       "1           কোকা-কোলা, পেপসি নিষিদ্ধ হলো তামিলনাডুতে   \n",
       "2  ডেঙ্গু পরিস্থিতি: হাসপাতালে ভর্তির দরকার না থা...   \n",
       "3  ডোনাল্ড ট্রাম্প: আমেরিকান প্রেসিডেন্টের পোস্ট ...   \n",
       "4  বাংলাদেশে বন্যার প্রকোপ: ২৪ ঘণ্টায় ডুবে যাবে ...   \n",
       "\n",
       "                                             summary  \\\n",
       "0  জাতিসংঘের মানবাধিকার বিষয়ক কমিটি জেনেভাতে চীন...   \n",
       "1  ভারতের দক্ষিণাঞ্চলীয় রাজ্য তামিলনাডুর ব্যবসায...   \n",
       "2  স্বাস্থ্য অধিদপ্তরের হিসাব মতে, গত ২৪ ঘণ্টায় ...   \n",
       "3  এই প্রথম সামাজিক মাধ্যমের বিশাল প্রতিষ্ঠান টুই...   \n",
       "4  বাংলাদেশের বন্যা পূর্বাভাস এবং সতর্কীকরণ কেন্দ...   \n",
       "\n",
       "                                                text  \n",
       "0  আটক স্বজনদের আইডি কার্ড হাতে উইগুর নারীদের বিক...  \n",
       "1  ভারতের অন্য অঞ্চলেও কোক, পেপসি নিষিদ্ধ করার দা...  \n",
       "2  সোহরাওয়ার্দী হাসপাতালের চিত্র সাধারণত সেপ্টেম...  \n",
       "3  ডোনাল্ড ট্রাম্প অভিযোগ করেছেন টু্‌ইটার আমেরিকা...  \n",
       "4  বন্যার প্রকোপ ছড়িয়ে পড়ছে সারা দেশে। বাংলাদে...  "
      ]
     },
     "execution_count": 3,
     "metadata": {},
     "output_type": "execute_result"
    }
   ],
   "source": [
    "import pandas as pd\n",
    "from datasets import load_dataset\n",
    "\n",
    "# Load the Bengali subset of the dataset\n",
    "dataset = load_dataset('csebuetnlp/xlsum', 'bengali')\n",
    "\n",
    "# Convert to pandas dataframe\n",
    "df = dataset['test'].to_pandas()  # Assuming you want the training split\n",
    "\n",
    "df = df.head(512) # we choose first 512 samples for evaluation\n",
    "\n",
    "# Display the dataframe\n",
    "df.head()"
   ]
  },
  {
   "cell_type": "code",
   "execution_count": 4,
   "id": "83125bd7-440c-4f6e-b737-6fb164e7caa4",
   "metadata": {},
   "outputs": [],
   "source": [
    "zero_shot = \"\"\"আপনাকে একটি দীর্ঘ বাংলা বিবরণ দেওয়া হয়েছে। আপনাকে এই বিবরণের ১ বা ২ বাক্যে সারমর্ম লিখতে হবে।\n",
    "\n",
    "\"\"\""
   ]
  },
  {
   "cell_type": "code",
   "execution_count": 5,
   "id": "73c0be78-b399-47c8-b1db-c0b91183a313",
   "metadata": {},
   "outputs": [],
   "source": [
    "three_shot = \"\"\"আপনাকে একটি দীর্ঘ বাংলা বিবরণ দেওয়া হয়েছে। আপনাকে এই বিবরণের ১ বা ২ বাক্যে সারমর্ম লিখতে হবে।\n",
    "\n",
    "### উদাহরণ ১\n",
    "### বিবরণ:\n",
    "আলজেরিয়ায় পরীক্ষার হল স্কুলের ছাত্রছাত্রীরা যাতে পরীক্ষার হলে নকল করতে না পারে কিম্বা আগেভাগেই প্রশ্ন না পেতে না পারে সেজন্যে কর্তৃপক্ষ সাময়িকভাবে দেশটিতে সোশাল মিডিয়া বন্ধ করে দিয়েছে। এর আগে স্কুলের পরীক্ষায় অনলাইনের মাধ্যমে বহু প্রশ্ন ফাঁস হয়ে গেলে দেশটিতে কর্তৃপক্ষের তীব্র সমালোচনা হয়। তখন অর্ধেকেরও বেশি শিক্ষার্থীকে দ্বিতীয়বার পরীক্ষায় বসত হয়েছে। সংবাদ মাধ্যমগুলোর খবরে বলা হচ্ছে, জুন মাসে বহু ছাত্রছাত্রীই পরীক্ষার আগে ফেসবুকে ও অন্যান্য সোশাল মিডিয়া থেকে প্রশ্ন হাতে পেয়ে যায়। এর আগের বছরগুলোতেও দেশটিতে এধরনের ঘটনা ঘটেছে। সরকারি কর্মকর্তারা বলছেন, পরীক্ষার্থীদেরকে নকল ও প্রশ্ন ফাঁসের হাত থেকে রক্ষার জন্যেই সোশাল মিডিয়া ব্লক করে দেওয়ার সিদ্ধান্ত নেওয়া হয়েছে।\n",
    "\n",
    "### সারমর্ম:\n",
    "আফ্রিকার দেশ আলজেরিয়ায় পরীক্ষায় নকল ও প্রশ্ন ফাঁস করতে নজিরবিহীন এক উদ্যোগ নিয়েছে।\n",
    "\n",
    "### উদাহরণ ২\n",
    "### বিবরণ:\n",
    "চ্যাম্পিয়ন্স লিগে এক ক্লাবের হয়ে ১০০ গোল করা একমাত্র খেলোয়াড় রোনালদো বুধবার চ্যাম্পিয়ন্স লিগে পিএসজির বিপক্ষে ৩-১এর জয়ে ২ গোল করে এক ক্লাবের হয়ে ১০০ চ্যাম্পিয়ন্স লিগ গোল করা একমাত্র খেলোয়াড় হয়েছেন রেয়াল মাদ্রিদের ক্রিশ্চিয়ানো রোনালদো। এই তালিকায় দ্বিতীয় স্থানে রয়েছেন তাঁর চেয়ে ৪ গোল কম করা লিওনেল মেসি। রিয়াল মাদ্রিদের হয়ে ১০০ গোলের পর রোনালদো চ্যাম্পিয়ন্স লিগে রোনালদোর আরো রেকর্ড রেয়াল মাদ্রিদে যোগ দেয়ার আগে ম্যানচেস্টার ইউনাইটেডের হয়ে করা ১৫টি গোল মিলিয়ে চ্যাম্পিয়ন্স লিগে রোনালদোর মোট গোল ১১৬টি। যা দ্বিতীয় স্থানে থাকা মেসির চেয়ে ১৯টি বেশী। চ্যাম্পিয়ন্স লিগের ইতিহাসে এই টুর্নামেন্টে খেলা ১৩৭টি ক্লাবের ১১৮টির মোট গোলসংখ্যা রোনালদোর একার গোলের চেয়ে কম।\n",
    "\n",
    "### সারমর্ম:\n",
    "১০০ গোলের ক্লাবে একমাত্র সদস্য - ক্রিশ্চিয়ানো রোনালদো।\n",
    "\n",
    "### উদাহরণ ৩\n",
    "### বিবরণ:\n",
    "বৈরুতের বন্দরের নিকটবর্তী অঞ্চল সবচেয়ে বেশি ক্ষতিগ্রস্ত হয় বিস্ফোরণে এমনও খবর পাওয়া যাচ্ছে যে কয়েক'শো কিলোমিটার দূরের সাইপ্রাসেও ঐ বিস্ফোরণের আঁচ পাওয়া গেছে। কর্মকর্তারা বলছেন এই বিস্ফোরণ দুর্ঘটনা। পরিকল্পিতভাবে এই বিস্ফোরণ ঘটানো হয়নি। তারা বলছেন গুদামে ছয় বছর ধরে মজুত রাখা অত্যন্ত বিপদজনক বিস্ফোরক থেকে এই দুর্ঘটনা ঘটেছে। তবে ঠিক কী কারণে এই বিস্ফোরণ ঘটেছে, তা পরিস্কার নয়। ক্ষতিগ্রস্থ ভবনের সামনে লেবাননের 'লেবানিজ এমিগ্র্যান্ট' স্ট্যাচু বহু ঘরবাড়ি ধ্বংস হয়ে গেছে বিস্ফোরণে বিস্ফোরণে পর বৈরুতের আকাশে ধোঁয়া আহত এক ব্যক্তিকে সরিয়ে নিয়ে যাচ্ছেন উদ্ধারকারীরা বিস্ফোরণে আহত হয়েছেন হাজার হাজার মানুষ স্থানীয় সংবাদমাধ্যমের খবরে ধ্বংসস্তুপের নিচে মানুষকে আটকা পড়ে থাকতে দেখা গেছে। বিস্ফোরণের পর রাস্তাগুলোও যেন ধ্বংসস্তূপে পরিণত হয় বিস্ফোরণের স্থান থেকে নির্গত হচ্ছে ধোঁয়া সব ছবির কপিরাইট রয়েছে\n",
    "\n",
    "### সারমর্ম:\n",
    "বিশাল এক বিস্ফোরণ ব্যাপক ধ্বংসযজ্ঞ চালিয়েছে লেবাননের রাজধানী বৈরুতে। বহু মানুষ মারা গেছে, আহত হয়েছে কয়েক হাজারের বেশি।\n",
    "\n",
    "### আপনার কাজ\n",
    "\n",
    "\"\"\""
   ]
  },
  {
   "cell_type": "code",
   "execution_count": 6,
   "id": "fc758b97-cc84-4282-a67e-6c94dba51c7e",
   "metadata": {},
   "outputs": [],
   "source": [
    "chain_of_thought = \"\"\"আপনাকে একটি দীর্ঘ বাংলা বিবরণ দেওয়া হয়েছে। আপনাকে এই বিবরণের ১ বা ২ বাক্যে সারমর্ম লিখতে হবে। সারমর্ম লিখতে গিয়ে নিম্নলিখিত ধাপগুলি অনুসরণ করুন:\n",
    "\n",
    "### ধাপ ১: মূল বিষয়বস্তু বোঝা\n",
    "বিবরণটি পড়ুন এবং এর মূল বিষয় বা ঘটনাটি বোঝার চেষ্টা করুন। প্রধান তথ্য বা ঘটনা শনাক্ত করুন যা বিবরণের সারমর্ম হতে পারে।\n",
    "\n",
    "### ধাপ ২: প্রধান তথ্য চিহ্নিত করা\n",
    "বিবরণের প্রধান তথ্য বা ঘটনার সংক্ষিপ্ত রূপ বের করুন। কোন বিষয়গুলি সবচেয়ে গুরুত্বপূর্ণ তা চিহ্নিত করুন।\n",
    "\n",
    "### ধাপ ৩: সারমর্ম লেখা\n",
    "বিবরণের প্রধান তথ্যগুলি ব্যবহার করে ১ বা ২ বাক্যে সারমর্ম লিখুন। এটি সংক্ষিপ্ত এবং সুনির্দিষ্ট হতে হবে।\n",
    "\n",
    "### উদাহরণ ১\n",
    "### বিবরণ:\n",
    "আলজেরিয়ায় পরীক্ষার হল স্কুলের ছাত্রছাত্রীরা যাতে পরীক্ষার হলে নকল করতে না পারে কিম্বা আগেভাগেই প্রশ্ন না পেতে না পারে সেজন্যে কর্তৃপক্ষ সাময়িকভাবে দেশটিতে সোশাল মিডিয়া বন্ধ করে দিয়েছে। এর আগে স্কুলের পরীক্ষায় অনলাইনের মাধ্যমে বহু প্রশ্ন ফাঁস হয়ে গেলে দেশটিতে কর্তৃপক্ষের তীব্র সমালোচনা হয়। তখন অর্ধেকেরও বেশি শিক্ষার্থীকে দ্বিতীয়বার পরীক্ষায় বসত হয়েছে। সংবাদ মাধ্যমগুলোর খবরে বলা হচ্ছে, জুন মাসে বহু ছাত্রছাত্রীই পরীক্ষার আগে ফেসবুকে ও অন্যান্য সোশাল মিডিয়া থেকে প্রশ্ন হাতে পেয়ে যায়। এর আগের বছরগুলোতেও দেশটিতে এধরনের ঘটনা ঘটেছে। সরকারি কর্মকর্তারা বলছেন, পরীক্ষার্থীদেরকে নকল ও প্রশ্ন ফাঁসের হাত থেকে রক্ষার জন্যেই সোশাল মিডিয়া ব্লক করে দেওয়ার সিদ্ধান্ত নেওয়া হয়েছে।\n",
    "\n",
    "#### চিন্তাধারা:\n",
    "- মূল বিষয়বস্তু: পরীক্ষার হলে নকল ও প্রশ্ন ফাঁস ঠেকাতে সোশাল মিডিয়া বন্ধ।\n",
    "- প্রধান তথ্য: নকল ও প্রশ্ন ফাঁস ঠেকাতে আলজেরিয়ায় সোশাল মিডিয়া সাময়িকভাবে বন্ধ।\n",
    "\n",
    "### সারমর্ম:\n",
    "আফ্রিকার দেশ আলজেরিয়ায় পরীক্ষায় নকল ও প্রশ্ন ফাঁস করতে নজিরবিহীন এক উদ্যোগ নিয়েছে।\n",
    "\n",
    "### উদাহরণ ২\n",
    "### বিবরণ:\n",
    "চ্যাম্পিয়ন্স লিগে এক ক্লাবের হয়ে ১০০ গোল করা একমাত্র খেলোয়াড় রোনালদো বুধবার চ্যাম্পিয়ন্স লিগে পিএসজির বিপক্ষে ৩-১এর জয়ে ২ গোল করে এক ক্লাবের হয়ে ১০০ চ্যাম্পিয়ন্স লিগ গোল করা একমাত্র খেলোয়াড় হয়েছেন রেয়াল মাদ্রিদের ক্রিশ্চিয়ানো রোনালদো। এই তালিকায় দ্বিতীয় স্থানে রয়েছেন তাঁর চেয়ে ৪ গোল কম করা লিওনেল মেসি। রিয়াল মাদ্রিদের হয়ে ১০০ গোলের পর রোনালদো চ্যাম্পিয়ন্স লিগে রোনালদোর আরো রেকর্ড রেয়াল মাদ্রিদে যোগ দেয়ার আগে ম্যানচেস্টার ইউনাইটেডের হয়ে করা ১৫টি গোল মিলিয়ে চ্যাম্পিয়ন্স লিগে রোনালদোর মোট গোল ১১৬টি। যা দ্বিতীয় স্থানে থাকা মেসির চেয়ে ১৯টি বেশী। চ্যাম্পিয়ন্স লিগের ইতিহাসে এই টুর্নামেন্টে খেলা ১৩৭টি ক্লাবের ১১৮টির মোট গোলসংখ্যা রোনালদোর একার গোলের চেয়ে কম।\n",
    "\n",
    "#### চিন্তাধারা:\n",
    "- মূল বিষয়বস্তু: রোনালদোর ১০০ গোল করা।\n",
    "- প্রধান তথ্য: এক ক্লাবের হয়ে ১০০ গোল করা একমাত্র খেলোয়াড় রোনালদো।\n",
    "\n",
    "### সারমর্ম:\n",
    "১০০ গোলের ক্লাবে একমাত্র সদস্য - ক্রিশ্চিয়ানো রোনালদো।\n",
    "\n",
    "### উদাহরণ ৩\n",
    "### বিবরণ:\n",
    "বৈরুতের বন্দরের নিকটবর্তী অঞ্চল সবচেয়ে বেশি ক্ষতিগ্রস্ত হয় বিস্ফোরণে এমনও খবর পাওয়া যাচ্ছে যে কয়েক'শো কিলোমিটার দূরের সাইপ্রাসেও ঐ বিস্ফোরণের আঁচ পাওয়া গেছে। কর্মকর্তারা বলছেন এই বিস্ফোরণ দুর্ঘটনা। পরিকল্পিতভাবে এই বিস্ফোরণ ঘটানো হয়নি। তারা বলছেন গুদামে ছয় বছর ধরে মজুত রাখা অত্যন্ত বিপদজনক বিস্ফোরক থেকে এই দুর্ঘটনা ঘটেছে। তবে ঠিক কী কারণে এই বিস্ফোরণ ঘটেছে, তা পরিস্কার নয়। ক্ষতিগ্রস্থ ভবনের সামনে লেবাননের 'লেবানিজ এমিগ্র্যান্ট' স্ট্যাচু বহু ঘরবাড়ি ধ্বংস হয়ে গেছে বিস্ফোরণে বিস্ফোরণে পর বৈরুতের আকাশে ধোঁয়া আহত এক ব্যক্তিকে সরিয়ে নিয়ে যাচ্ছেন উদ্ধারকারীরা বিস্ফোরণে আহত হয়েছেন হাজার হাজার মানুষ স্থানীয় সংবাদমাধ্যমের খবরে ধ্বংসস্তুপের নিচে মানুষকে আটকা পড়ে থাকতে দেখা গেছে। বিস্ফোরণের পর রাস্তাগুলোও যেন ধ্বংসস্তূপে পরিণত হয় বিস্ফোরণের স্থান থেকে নির্গত হচ্ছে ধোঁয়া সব ছবির কপিরাইট রয়েছে\n",
    "\n",
    "#### চিন্তাধারা:\n",
    "- মূল বিষয়বস্তু: বৈরুতের বিস্ফোরণ।\n",
    "- প্রধান তথ্য: বিস্ফোরণে বৈরুতে ব্যাপক ধ্বংসযজ্ঞ ও বহু মানুষ আহত।\n",
    "\n",
    "### সারমর্ম:\n",
    "বিশাল এক বিস্ফোরণ ব্যাপক ধ্বংসযজ্ঞ চালিয়েছে লেবাননের রাজধানী বৈরুতে। বহু মানুষ মারা গেছে, আহত হয়েছে কয়েক হাজারের বেশি।\n",
    "\n",
    "### আপনার কাজ\n",
    "\n",
    "\"\"\""
   ]
  },
  {
   "cell_type": "code",
   "execution_count": 7,
   "id": "ebbc67ca-adf5-4fa4-b473-a483f403b33a",
   "metadata": {},
   "outputs": [],
   "source": [
    "path_root = 'exps/'"
   ]
  },
  {
   "cell_type": "code",
   "execution_count": 8,
   "id": "ed33c6b3-3ae5-4bed-9b5b-c5854d38342a",
   "metadata": {},
   "outputs": [
    {
     "data": {
      "application/vnd.jupyter.widget-view+json": {
       "model_id": "9ede2c23a4084ec2a6458d1f2b598b8a",
       "version_major": 2,
       "version_minor": 0
      },
      "text/plain": [
       "  0%|          | 0/512 [00:00<?, ?it/s]"
      ]
     },
     "metadata": {},
     "output_type": "display_data"
    }
   ],
   "source": [
    "import time\n",
    "from tqdm.notebook import tqdm\n",
    "\n",
    "# Assuming df is the original DataFrame and category_translation is defined\n",
    "df['predicted_summary'] = None\n",
    "\n",
    "# Try to load the progress from the Parquet file\n",
    "try:\n",
    "    df_progress = pd.read_parquet(path_root + 'llama_zs_summary_results.parquet')\n",
    "    start_index = df_progress['predicted_summary'].last_valid_index() + 1\n",
    "except (FileNotFoundError, ValueError):\n",
    "    df_progress = df.copy()\n",
    "    start_index = 0\n",
    "\n",
    "\n",
    "for i, row in tqdm(df.iloc[start_index:].iterrows(), initial=start_index, total=len(df) - start_index):\n",
    "    text_body = row['text']\n",
    "\n",
    "    prompt_input = zero_shot + \" বিবরণ: \" + text_body + \"\\nসারমর্ম:\"\n",
    "\n",
    "    try:\n",
    "        df.at[i, 'predicted_summary'] = get_llama_response(prompt_input)\n",
    "    except Exception as e:\n",
    "        print(f\"Error at index {i}: {e}\")\n",
    "        time.sleep(5)\n",
    "\n",
    "    if (i + 1) % 100 == 0:\n",
    "        df.to_parquet(path_root + 'llama_zs_summary_results.parquet')\n",
    "\n",
    "# Save final progress\n",
    "df.to_parquet(path_root + 'llama_zs_summary_results.parquet')"
   ]
  },
  {
   "cell_type": "code",
   "execution_count": 9,
   "id": "e0371814-2d7a-43ed-b431-9050f46ef9da",
   "metadata": {},
   "outputs": [
    {
     "data": {
      "text/html": [
       "<div>\n",
       "<style scoped>\n",
       "    .dataframe tbody tr th:only-of-type {\n",
       "        vertical-align: middle;\n",
       "    }\n",
       "\n",
       "    .dataframe tbody tr th {\n",
       "        vertical-align: top;\n",
       "    }\n",
       "\n",
       "    .dataframe thead th {\n",
       "        text-align: right;\n",
       "    }\n",
       "</style>\n",
       "<table border=\"1\" class=\"dataframe\">\n",
       "  <thead>\n",
       "    <tr style=\"text-align: right;\">\n",
       "      <th></th>\n",
       "      <th>id</th>\n",
       "      <th>url</th>\n",
       "      <th>title</th>\n",
       "      <th>summary</th>\n",
       "      <th>text</th>\n",
       "      <th>predicted_summary</th>\n",
       "    </tr>\n",
       "  </thead>\n",
       "  <tbody>\n",
       "    <tr>\n",
       "      <th>0</th>\n",
       "      <td>news-45155508</td>\n",
       "      <td>https://www.bbc.com/bengali/news-45155508</td>\n",
       "      <td>চীন ১০ লাখ উইগুর মুসলিমকে আটকে রেখেছে - জাতিসং...</td>\n",
       "      <td>জাতিসংঘের মানবাধিকার বিষয়ক কমিটি জেনেভাতে চীন...</td>\n",
       "      <td>আটক স্বজনদের আইডি কার্ড হাতে উইগুর নারীদের বিক...</td>\n",
       "      <td>চীনে উইগুর এবং অন্যান্য মুসলিমদের বিরুদ্ধে চীন...</td>\n",
       "    </tr>\n",
       "    <tr>\n",
       "      <th>1</th>\n",
       "      <td>news-39127107</td>\n",
       "      <td>https://www.bbc.com/bengali/news-39127107</td>\n",
       "      <td>কোকা-কোলা, পেপসি নিষিদ্ধ হলো তামিলনাডুতে</td>\n",
       "      <td>ভারতের দক্ষিণাঞ্চলীয় রাজ্য তামিলনাডুর ব্যবসায...</td>\n",
       "      <td>ভারতের অন্য অঞ্চলেও কোক, পেপসি নিষিদ্ধ করার দা...</td>\n",
       "      <td>তামিলনাডু রাজ্যে কোকা-কোলা এবং পেপসি নিষিদ্ধ ক...</td>\n",
       "    </tr>\n",
       "    <tr>\n",
       "      <th>2</th>\n",
       "      <td>news-49141918</td>\n",
       "      <td>https://www.bbc.com/bengali/news-49141918</td>\n",
       "      <td>ডেঙ্গু পরিস্থিতি: হাসপাতালে ভর্তির দরকার না থা...</td>\n",
       "      <td>স্বাস্থ্য অধিদপ্তরের হিসাব মতে, গত ২৪ ঘণ্টায় ...</td>\n",
       "      <td>সোহরাওয়ার্দী হাসপাতালের চিত্র সাধারণত সেপ্টেম...</td>\n",
       "      <td>ডেঙ্গু আক্রান্ত রোগীর সংখ্যা দিন দিন বাড়ছে এব...</td>\n",
       "    </tr>\n",
       "    <tr>\n",
       "      <th>3</th>\n",
       "      <td>news-52808250</td>\n",
       "      <td>https://www.bbc.com/bengali/news-52808250</td>\n",
       "      <td>ডোনাল্ড ট্রাম্প: আমেরিকান প্রেসিডেন্টের পোস্ট ...</td>\n",
       "      <td>এই প্রথম সামাজিক মাধ্যমের বিশাল প্রতিষ্ঠান টুই...</td>\n",
       "      <td>ডোনাল্ড ট্রাম্প অভিযোগ করেছেন টু্‌ইটার আমেরিকা...</td>\n",
       "      <td>বিবিসির খবর অনুযায়ী, বিশ্বের প্রসিডেন্ট ডোনাল...</td>\n",
       "    </tr>\n",
       "    <tr>\n",
       "      <th>4</th>\n",
       "      <td>news-49047323</td>\n",
       "      <td>https://www.bbc.com/bengali/news-49047323</td>\n",
       "      <td>বাংলাদেশে বন্যার প্রকোপ: ২৪ ঘণ্টায় ডুবে যাবে ...</td>\n",
       "      <td>বাংলাদেশের বন্যা পূর্বাভাস এবং সতর্কীকরণ কেন্দ...</td>\n",
       "      <td>বন্যার প্রকোপ ছড়িয়ে পড়ছে সারা দেশে। বাংলাদে...</td>\n",
       "      <td>বাংলাদেশের সারা দেশে বন্যার প্রকোপ ছড়িয়ে পড়...</td>\n",
       "    </tr>\n",
       "  </tbody>\n",
       "</table>\n",
       "</div>"
      ],
      "text/plain": [
       "              id                                        url  \\\n",
       "0  news-45155508  https://www.bbc.com/bengali/news-45155508   \n",
       "1  news-39127107  https://www.bbc.com/bengali/news-39127107   \n",
       "2  news-49141918  https://www.bbc.com/bengali/news-49141918   \n",
       "3  news-52808250  https://www.bbc.com/bengali/news-52808250   \n",
       "4  news-49047323  https://www.bbc.com/bengali/news-49047323   \n",
       "\n",
       "                                               title  \\\n",
       "0  চীন ১০ লাখ উইগুর মুসলিমকে আটকে রেখেছে - জাতিসং...   \n",
       "1           কোকা-কোলা, পেপসি নিষিদ্ধ হলো তামিলনাডুতে   \n",
       "2  ডেঙ্গু পরিস্থিতি: হাসপাতালে ভর্তির দরকার না থা...   \n",
       "3  ডোনাল্ড ট্রাম্প: আমেরিকান প্রেসিডেন্টের পোস্ট ...   \n",
       "4  বাংলাদেশে বন্যার প্রকোপ: ২৪ ঘণ্টায় ডুবে যাবে ...   \n",
       "\n",
       "                                             summary  \\\n",
       "0  জাতিসংঘের মানবাধিকার বিষয়ক কমিটি জেনেভাতে চীন...   \n",
       "1  ভারতের দক্ষিণাঞ্চলীয় রাজ্য তামিলনাডুর ব্যবসায...   \n",
       "2  স্বাস্থ্য অধিদপ্তরের হিসাব মতে, গত ২৪ ঘণ্টায় ...   \n",
       "3  এই প্রথম সামাজিক মাধ্যমের বিশাল প্রতিষ্ঠান টুই...   \n",
       "4  বাংলাদেশের বন্যা পূর্বাভাস এবং সতর্কীকরণ কেন্দ...   \n",
       "\n",
       "                                                text  \\\n",
       "0  আটক স্বজনদের আইডি কার্ড হাতে উইগুর নারীদের বিক...   \n",
       "1  ভারতের অন্য অঞ্চলেও কোক, পেপসি নিষিদ্ধ করার দা...   \n",
       "2  সোহরাওয়ার্দী হাসপাতালের চিত্র সাধারণত সেপ্টেম...   \n",
       "3  ডোনাল্ড ট্রাম্প অভিযোগ করেছেন টু্‌ইটার আমেরিকা...   \n",
       "4  বন্যার প্রকোপ ছড়িয়ে পড়ছে সারা দেশে। বাংলাদে...   \n",
       "\n",
       "                                   predicted_summary  \n",
       "0  চীনে উইগুর এবং অন্যান্য মুসলিমদের বিরুদ্ধে চীন...  \n",
       "1  তামিলনাডু রাজ্যে কোকা-কোলা এবং পেপসি নিষিদ্ধ ক...  \n",
       "2  ডেঙ্গু আক্রান্ত রোগীর সংখ্যা দিন দিন বাড়ছে এব...  \n",
       "3  বিবিসির খবর অনুযায়ী, বিশ্বের প্রসিডেন্ট ডোনাল...  \n",
       "4  বাংলাদেশের সারা দেশে বন্যার প্রকোপ ছড়িয়ে পড়...  "
      ]
     },
     "execution_count": 9,
     "metadata": {},
     "output_type": "execute_result"
    }
   ],
   "source": [
    "zs_results = pd.read_parquet(path_root + 'llama_zs_summary_results.parquet')\n",
    "zs_results.head()"
   ]
  },
  {
   "cell_type": "code",
   "execution_count": 10,
   "id": "717fb027-76bb-4fbb-9af7-36f2a2bfa550",
   "metadata": {},
   "outputs": [
    {
     "data": {
      "application/vnd.jupyter.widget-view+json": {
       "model_id": "81362ad9be3e4aafaa63ce8373fa0f5f",
       "version_major": 2,
       "version_minor": 0
      },
      "text/plain": [
       "  0%|          | 0/512 [00:00<?, ?it/s]"
      ]
     },
     "metadata": {},
     "output_type": "display_data"
    }
   ],
   "source": [
    "import time\n",
    "from tqdm.notebook import tqdm\n",
    "\n",
    "# Assuming df is the original DataFrame and category_translation is defined\n",
    "df['predicted_summary'] = None\n",
    "\n",
    "# Try to load the progress from the Parquet file\n",
    "try:\n",
    "    df_progress = pd.read_parquet(path_root + 'llama_ts_summary_results.parquet')\n",
    "    start_index = df_progress['predicted_summary'].last_valid_index() + 1\n",
    "except (FileNotFoundError, ValueError):\n",
    "    df_progress = df.copy()\n",
    "    start_index = 0\n",
    "\n",
    "\n",
    "for i, row in tqdm(df.iloc[start_index:].iterrows(), initial=start_index, total=len(df) - start_index):\n",
    "    text_body = row['text']\n",
    "\n",
    "    prompt_input = three_shot + \"### বিবরণ: \" + text_body + \"\\n### সারমর্ম:\"\n",
    "\n",
    "    try:\n",
    "        df.at[i, 'predicted_summary'] = get_llama_response(prompt_input)\n",
    "    except Exception as e:\n",
    "        print(f\"Error at index {i}: {e}\")\n",
    "        time.sleep(5)\n",
    "\n",
    "    if (i + 1) % 100 == 0:\n",
    "        df.to_parquet(path_root + 'llama_ts_summary_results.parquet')\n",
    "\n",
    "# Save final progress\n",
    "df.to_parquet(path_root + 'llama_ts_summary_results.parquet')"
   ]
  },
  {
   "cell_type": "code",
   "execution_count": 11,
   "id": "495caad0-4bdf-4770-af46-ad078cfd5d4f",
   "metadata": {},
   "outputs": [
    {
     "data": {
      "text/html": [
       "<div>\n",
       "<style scoped>\n",
       "    .dataframe tbody tr th:only-of-type {\n",
       "        vertical-align: middle;\n",
       "    }\n",
       "\n",
       "    .dataframe tbody tr th {\n",
       "        vertical-align: top;\n",
       "    }\n",
       "\n",
       "    .dataframe thead th {\n",
       "        text-align: right;\n",
       "    }\n",
       "</style>\n",
       "<table border=\"1\" class=\"dataframe\">\n",
       "  <thead>\n",
       "    <tr style=\"text-align: right;\">\n",
       "      <th></th>\n",
       "      <th>id</th>\n",
       "      <th>url</th>\n",
       "      <th>title</th>\n",
       "      <th>summary</th>\n",
       "      <th>text</th>\n",
       "      <th>predicted_summary</th>\n",
       "    </tr>\n",
       "  </thead>\n",
       "  <tbody>\n",
       "    <tr>\n",
       "      <th>0</th>\n",
       "      <td>news-45155508</td>\n",
       "      <td>https://www.bbc.com/bengali/news-45155508</td>\n",
       "      <td>চীন ১০ লাখ উইগুর মুসলিমকে আটকে রেখেছে - জাতিসং...</td>\n",
       "      <td>জাতিসংঘের মানবাধিকার বিষয়ক কমিটি জেনেভাতে চীন...</td>\n",
       "      <td>আটক স্বজনদের আইডি কার্ড হাতে উইগুর নারীদের বিক...</td>\n",
       "      <td>উইগুর স্বজনদের আইডি কার্ড হাতে উইগুর নারীদের ব...</td>\n",
       "    </tr>\n",
       "    <tr>\n",
       "      <th>1</th>\n",
       "      <td>news-39127107</td>\n",
       "      <td>https://www.bbc.com/bengali/news-39127107</td>\n",
       "      <td>কোকা-কোলা, পেপসি নিষিদ্ধ হলো তামিলনাডুতে</td>\n",
       "      <td>ভারতের দক্ষিণাঞ্চলীয় রাজ্য তামিলনাডুর ব্যবসায...</td>\n",
       "      <td>ভারতের অন্য অঞ্চলেও কোক, পেপসি নিষিদ্ধ করার দা...</td>\n",
       "      <td>তামিলনাড়ুর ব্যবসায়ীরা দেশের উপর থেকে আয়োজিত...</td>\n",
       "    </tr>\n",
       "    <tr>\n",
       "      <th>2</th>\n",
       "      <td>news-49141918</td>\n",
       "      <td>https://www.bbc.com/bengali/news-49141918</td>\n",
       "      <td>ডেঙ্গু পরিস্থিতি: হাসপাতালে ভর্তির দরকার না থা...</td>\n",
       "      <td>স্বাস্থ্য অধিদপ্তরের হিসাব মতে, গত ২৪ ঘণ্টায় ...</td>\n",
       "      <td>সোহরাওয়ার্দী হাসপাতালের চিত্র সাধারণত সেপ্টেম...</td>\n",
       "      <td>বাংলাদেশের উষ্ণ ও আর্দ্র আবহাবায় ডেঙ্গু রোগের...</td>\n",
       "    </tr>\n",
       "    <tr>\n",
       "      <th>3</th>\n",
       "      <td>news-52808250</td>\n",
       "      <td>https://www.bbc.com/bengali/news-52808250</td>\n",
       "      <td>ডোনাল্ড ট্রাম্প: আমেরিকান প্রেসিডেন্টের পোস্ট ...</td>\n",
       "      <td>এই প্রথম সামাজিক মাধ্যমের বিশাল প্রতিষ্ঠান টুই...</td>\n",
       "      <td>ডোনাল্ড ট্রাম্প অভিযোগ করেছেন টু্‌ইটার আমেরিকা...</td>\n",
       "      <td>যুক্তরাষ্ট্রের ডোনাল্ড ট্রাম্প প্রেসিডেন্টের ব...</td>\n",
       "    </tr>\n",
       "    <tr>\n",
       "      <th>4</th>\n",
       "      <td>news-49047323</td>\n",
       "      <td>https://www.bbc.com/bengali/news-49047323</td>\n",
       "      <td>বাংলাদেশে বন্যার প্রকোপ: ২৪ ঘণ্টায় ডুবে যাবে ...</td>\n",
       "      <td>বাংলাদেশের বন্যা পূর্বাভাস এবং সতর্কীকরণ কেন্দ...</td>\n",
       "      <td>বন্যার প্রকোপ ছড়িয়ে পড়ছে সারা দেশে। বাংলাদে...</td>\n",
       "      <td>বাংলাদেশে ২২টি জেলা বন্যাপ্লাবিত হয়েছে, যার ম...</td>\n",
       "    </tr>\n",
       "  </tbody>\n",
       "</table>\n",
       "</div>"
      ],
      "text/plain": [
       "              id                                        url  \\\n",
       "0  news-45155508  https://www.bbc.com/bengali/news-45155508   \n",
       "1  news-39127107  https://www.bbc.com/bengali/news-39127107   \n",
       "2  news-49141918  https://www.bbc.com/bengali/news-49141918   \n",
       "3  news-52808250  https://www.bbc.com/bengali/news-52808250   \n",
       "4  news-49047323  https://www.bbc.com/bengali/news-49047323   \n",
       "\n",
       "                                               title  \\\n",
       "0  চীন ১০ লাখ উইগুর মুসলিমকে আটকে রেখেছে - জাতিসং...   \n",
       "1           কোকা-কোলা, পেপসি নিষিদ্ধ হলো তামিলনাডুতে   \n",
       "2  ডেঙ্গু পরিস্থিতি: হাসপাতালে ভর্তির দরকার না থা...   \n",
       "3  ডোনাল্ড ট্রাম্প: আমেরিকান প্রেসিডেন্টের পোস্ট ...   \n",
       "4  বাংলাদেশে বন্যার প্রকোপ: ২৪ ঘণ্টায় ডুবে যাবে ...   \n",
       "\n",
       "                                             summary  \\\n",
       "0  জাতিসংঘের মানবাধিকার বিষয়ক কমিটি জেনেভাতে চীন...   \n",
       "1  ভারতের দক্ষিণাঞ্চলীয় রাজ্য তামিলনাডুর ব্যবসায...   \n",
       "2  স্বাস্থ্য অধিদপ্তরের হিসাব মতে, গত ২৪ ঘণ্টায় ...   \n",
       "3  এই প্রথম সামাজিক মাধ্যমের বিশাল প্রতিষ্ঠান টুই...   \n",
       "4  বাংলাদেশের বন্যা পূর্বাভাস এবং সতর্কীকরণ কেন্দ...   \n",
       "\n",
       "                                                text  \\\n",
       "0  আটক স্বজনদের আইডি কার্ড হাতে উইগুর নারীদের বিক...   \n",
       "1  ভারতের অন্য অঞ্চলেও কোক, পেপসি নিষিদ্ধ করার দা...   \n",
       "2  সোহরাওয়ার্দী হাসপাতালের চিত্র সাধারণত সেপ্টেম...   \n",
       "3  ডোনাল্ড ট্রাম্প অভিযোগ করেছেন টু্‌ইটার আমেরিকা...   \n",
       "4  বন্যার প্রকোপ ছড়িয়ে পড়ছে সারা দেশে। বাংলাদে...   \n",
       "\n",
       "                                   predicted_summary  \n",
       "0  উইগুর স্বজনদের আইডি কার্ড হাতে উইগুর নারীদের ব...  \n",
       "1  তামিলনাড়ুর ব্যবসায়ীরা দেশের উপর থেকে আয়োজিত...  \n",
       "2  বাংলাদেশের উষ্ণ ও আর্দ্র আবহাবায় ডেঙ্গু রোগের...  \n",
       "3  যুক্তরাষ্ট্রের ডোনাল্ড ট্রাম্প প্রেসিডেন্টের ব...  \n",
       "4  বাংলাদেশে ২২টি জেলা বন্যাপ্লাবিত হয়েছে, যার ম...  "
      ]
     },
     "execution_count": 11,
     "metadata": {},
     "output_type": "execute_result"
    }
   ],
   "source": [
    "ts_results = pd.read_parquet(path_root + 'llama_ts_summary_results.parquet')\n",
    "ts_results.head()"
   ]
  },
  {
   "cell_type": "code",
   "execution_count": null,
   "id": "6eaf5237-655e-4301-84a3-758c302f6001",
   "metadata": {},
   "outputs": [
    {
     "data": {
      "application/vnd.jupyter.widget-view+json": {
       "model_id": "ec37aef49c2a4df8906c6420936b40e2",
       "version_major": 2,
       "version_minor": 0
      },
      "text/plain": [
       "0it [00:00, ?it/s]"
      ]
     },
     "metadata": {},
     "output_type": "display_data"
    }
   ],
   "source": [
    "import time\n",
    "from tqdm.notebook import tqdm\n",
    "\n",
    "# Assuming df is the original DataFrame and category_translation is defined\n",
    "if 'predicted_category' not in df:\n",
    "    df['predicted_summary'] = None\n",
    "\n",
    "# Try to load the progress from the Parquet file\n",
    "try:\n",
    "    df_progress = pd.read_parquet(path_root + 'llama_cot_summary_results.parquet')\n",
    "    start_index = df_progress['predicted_summary'].last_valid_index() + 1\n",
    "except (FileNotFoundError, ValueError):\n",
    "    df_progress = df.copy()\n",
    "    start_index = 0\n",
    "\n",
    "start_index = 0\n",
    "\n",
    "for i, row in tqdm(df_progress.iterrows()):\n",
    "    text_body = row['text']\n",
    "\n",
    "    prompt_input = chain_of_thought + \"### বিবরণ: \" + text_body\n",
    "\n",
    "    if df_progress.at[i, 'predicted_summary'] != None:\n",
    "        continue\n",
    "        \n",
    "    try:\n",
    "        df_progress.at[i, 'predicted_summary'] = get_llama_response(prompt_input)\n",
    "    except Exception as e:\n",
    "        print(f\"Error at index {i}: {e}\")\n",
    "        time.sleep(5)\n",
    "\n",
    "    if (i + 1) % 100 == 0:\n",
    "        df_progress.to_parquet(path_root + 'llama_cot_summary_results.parquet')\n",
    "\n",
    "# Save final progress\n",
    "df_progress.to_parquet(path_root + 'llama_cot_summary_results.parquet')"
   ]
  },
  {
   "cell_type": "code",
   "execution_count": 8,
   "id": "e3d28c93-c20b-40b5-93ce-95201bd70267",
   "metadata": {},
   "outputs": [],
   "source": [
    "df_progress = pd.read_parquet(path_root + 'llama_cot_summary_results.parquet')"
   ]
  },
  {
   "cell_type": "code",
   "execution_count": 11,
   "id": "89a1321f-87a2-4ed8-9ba4-e27f5866e6f7",
   "metadata": {},
   "outputs": [
    {
     "data": {
      "text/plain": [
       "200"
      ]
     },
     "execution_count": 11,
     "metadata": {},
     "output_type": "execute_result"
    }
   ],
   "source": [
    "df_progress['predicted_summary'].last_valid_index() + 1"
   ]
  },
  {
   "cell_type": "code",
   "execution_count": 1,
   "id": "764ec2a3-bbf1-49d3-83a5-075bfae50271",
   "metadata": {},
   "outputs": [
    {
     "name": "stdout",
     "output_type": "stream",
     "text": [
      "Collecting rouge\n",
      "  Downloading rouge-1.0.1-py3-none-any.whl.metadata (4.1 kB)\n",
      "Collecting bert-score\n",
      "  Downloading bert_score-0.3.13-py3-none-any.whl.metadata (15 kB)\n",
      "Requirement already satisfied: six in /opt/conda/lib/python3.12/site-packages (from rouge) (1.16.0)\n",
      "Requirement already satisfied: torch>=1.0.0 in /opt/conda/lib/python3.12/site-packages (from bert-score) (2.4.0)\n",
      "Requirement already satisfied: pandas>=1.0.1 in /opt/conda/lib/python3.12/site-packages (from bert-score) (2.2.3)\n",
      "Requirement already satisfied: transformers>=3.0.0 in /opt/conda/lib/python3.12/site-packages (from bert-score) (4.44.1)\n",
      "Requirement already satisfied: numpy in /opt/conda/lib/python3.12/site-packages (from bert-score) (1.26.3)\n",
      "Requirement already satisfied: requests in /opt/conda/lib/python3.12/site-packages (from bert-score) (2.32.3)\n",
      "Requirement already satisfied: tqdm>=4.31.1 in /opt/conda/lib/python3.12/site-packages (from bert-score) (4.66.5)\n",
      "Collecting matplotlib (from bert-score)\n",
      "  Downloading matplotlib-3.9.2-cp312-cp312-manylinux_2_17_x86_64.manylinux2014_x86_64.whl.metadata (11 kB)\n",
      "Requirement already satisfied: packaging>=20.9 in /opt/conda/lib/python3.12/site-packages (from bert-score) (24.1)\n",
      "Requirement already satisfied: python-dateutil>=2.8.2 in /opt/conda/lib/python3.12/site-packages (from pandas>=1.0.1->bert-score) (2.9.0.post0)\n",
      "Requirement already satisfied: pytz>=2020.1 in /opt/conda/lib/python3.12/site-packages (from pandas>=1.0.1->bert-score) (2024.2)\n",
      "Requirement already satisfied: tzdata>=2022.7 in /opt/conda/lib/python3.12/site-packages (from pandas>=1.0.1->bert-score) (2024.2)\n",
      "Requirement already satisfied: filelock in /opt/conda/lib/python3.12/site-packages (from torch>=1.0.0->bert-score) (3.13.1)\n",
      "Requirement already satisfied: typing-extensions>=4.8.0 in /opt/conda/lib/python3.12/site-packages (from torch>=1.0.0->bert-score) (4.12.2)\n",
      "Requirement already satisfied: sympy in /opt/conda/lib/python3.12/site-packages (from torch>=1.0.0->bert-score) (1.12)\n",
      "Requirement already satisfied: networkx in /opt/conda/lib/python3.12/site-packages (from torch>=1.0.0->bert-score) (3.2.1)\n",
      "Requirement already satisfied: jinja2 in /opt/conda/lib/python3.12/site-packages (from torch>=1.0.0->bert-score) (3.1.4)\n",
      "Requirement already satisfied: fsspec in /opt/conda/lib/python3.12/site-packages (from torch>=1.0.0->bert-score) (2024.2.0)\n",
      "Requirement already satisfied: setuptools in /opt/conda/lib/python3.12/site-packages (from torch>=1.0.0->bert-score) (74.1.2)\n",
      "Requirement already satisfied: nvidia-cuda-nvrtc-cu12==12.1.105 in /opt/conda/lib/python3.12/site-packages (from torch>=1.0.0->bert-score) (12.1.105)\n",
      "Requirement already satisfied: nvidia-cuda-runtime-cu12==12.1.105 in /opt/conda/lib/python3.12/site-packages (from torch>=1.0.0->bert-score) (12.1.105)\n",
      "Requirement already satisfied: nvidia-cuda-cupti-cu12==12.1.105 in /opt/conda/lib/python3.12/site-packages (from torch>=1.0.0->bert-score) (12.1.105)\n",
      "Requirement already satisfied: nvidia-cudnn-cu12==9.1.0.70 in /opt/conda/lib/python3.12/site-packages (from torch>=1.0.0->bert-score) (9.1.0.70)\n",
      "Requirement already satisfied: nvidia-cublas-cu12==12.1.3.1 in /opt/conda/lib/python3.12/site-packages (from torch>=1.0.0->bert-score) (12.1.3.1)\n",
      "Requirement already satisfied: nvidia-cufft-cu12==11.0.2.54 in /opt/conda/lib/python3.12/site-packages (from torch>=1.0.0->bert-score) (11.0.2.54)\n",
      "Requirement already satisfied: nvidia-curand-cu12==10.3.2.106 in /opt/conda/lib/python3.12/site-packages (from torch>=1.0.0->bert-score) (10.3.2.106)\n",
      "Requirement already satisfied: nvidia-cusolver-cu12==11.4.5.107 in /opt/conda/lib/python3.12/site-packages (from torch>=1.0.0->bert-score) (11.4.5.107)\n",
      "Requirement already satisfied: nvidia-cusparse-cu12==12.1.0.106 in /opt/conda/lib/python3.12/site-packages (from torch>=1.0.0->bert-score) (12.1.0.106)\n",
      "Requirement already satisfied: nvidia-nccl-cu12==2.20.5 in /opt/conda/lib/python3.12/site-packages (from torch>=1.0.0->bert-score) (2.20.5)\n",
      "Requirement already satisfied: nvidia-nvtx-cu12==12.1.105 in /opt/conda/lib/python3.12/site-packages (from torch>=1.0.0->bert-score) (12.1.105)\n",
      "Requirement already satisfied: triton==3.0.0 in /opt/conda/lib/python3.12/site-packages (from torch>=1.0.0->bert-score) (3.0.0)\n",
      "Requirement already satisfied: nvidia-nvjitlink-cu12 in /opt/conda/lib/python3.12/site-packages (from nvidia-cusolver-cu12==11.4.5.107->torch>=1.0.0->bert-score) (12.4.99)\n",
      "Requirement already satisfied: huggingface-hub<1.0,>=0.23.2 in /opt/conda/lib/python3.12/site-packages (from transformers>=3.0.0->bert-score) (0.25.1)\n",
      "Requirement already satisfied: pyyaml>=5.1 in /opt/conda/lib/python3.12/site-packages (from transformers>=3.0.0->bert-score) (6.0.2)\n",
      "Requirement already satisfied: regex!=2019.12.17 in /opt/conda/lib/python3.12/site-packages (from transformers>=3.0.0->bert-score) (2024.9.11)\n",
      "Requirement already satisfied: safetensors>=0.4.1 in /opt/conda/lib/python3.12/site-packages (from transformers>=3.0.0->bert-score) (0.4.5)\n",
      "Requirement already satisfied: tokenizers<0.20,>=0.19 in /opt/conda/lib/python3.12/site-packages (from transformers>=3.0.0->bert-score) (0.19.1)\n",
      "Collecting contourpy>=1.0.1 (from matplotlib->bert-score)\n",
      "  Downloading contourpy-1.3.0-cp312-cp312-manylinux_2_17_x86_64.manylinux2014_x86_64.whl.metadata (5.4 kB)\n",
      "Collecting cycler>=0.10 (from matplotlib->bert-score)\n",
      "  Downloading cycler-0.12.1-py3-none-any.whl.metadata (3.8 kB)\n",
      "Collecting fonttools>=4.22.0 (from matplotlib->bert-score)\n",
      "  Downloading fonttools-4.54.1-cp312-cp312-manylinux_2_5_x86_64.manylinux1_x86_64.manylinux_2_17_x86_64.manylinux2014_x86_64.whl.metadata (163 kB)\n",
      "Collecting kiwisolver>=1.3.1 (from matplotlib->bert-score)\n",
      "  Downloading kiwisolver-1.4.7-cp312-cp312-manylinux_2_17_x86_64.manylinux2014_x86_64.whl.metadata (6.3 kB)\n",
      "Requirement already satisfied: pillow>=8 in /opt/conda/lib/python3.12/site-packages (from matplotlib->bert-score) (10.4.0)\n",
      "Collecting pyparsing>=2.3.1 (from matplotlib->bert-score)\n",
      "  Downloading pyparsing-3.1.4-py3-none-any.whl.metadata (5.1 kB)\n",
      "Requirement already satisfied: charset-normalizer<4,>=2 in /opt/conda/lib/python3.12/site-packages (from requests->bert-score) (3.3.2)\n",
      "Requirement already satisfied: idna<4,>=2.5 in /opt/conda/lib/python3.12/site-packages (from requests->bert-score) (3.10)\n",
      "Requirement already satisfied: urllib3<3,>=1.21.1 in /opt/conda/lib/python3.12/site-packages (from requests->bert-score) (2.2.3)\n",
      "Requirement already satisfied: certifi>=2017.4.17 in /opt/conda/lib/python3.12/site-packages (from requests->bert-score) (2024.8.30)\n",
      "Requirement already satisfied: MarkupSafe>=2.0 in /opt/conda/lib/python3.12/site-packages (from jinja2->torch>=1.0.0->bert-score) (2.1.5)\n",
      "Requirement already satisfied: mpmath>=0.19 in /opt/conda/lib/python3.12/site-packages (from sympy->torch>=1.0.0->bert-score) (1.3.0)\n",
      "Downloading rouge-1.0.1-py3-none-any.whl (13 kB)\n",
      "Downloading bert_score-0.3.13-py3-none-any.whl (61 kB)\n",
      "Downloading matplotlib-3.9.2-cp312-cp312-manylinux_2_17_x86_64.manylinux2014_x86_64.whl (8.3 MB)\n",
      "\u001b[2K   \u001b[38;2;114;156;31m━━━━━━━━━━━━━━━━━━━━━━━━━━━━━━━━━━━━━━━━\u001b[0m \u001b[32m8.3/8.3 MB\u001b[0m \u001b[31m97.0 MB/s\u001b[0m eta \u001b[36m0:00:00\u001b[0m\n",
      "\u001b[?25hDownloading contourpy-1.3.0-cp312-cp312-manylinux_2_17_x86_64.manylinux2014_x86_64.whl (320 kB)\n",
      "Downloading cycler-0.12.1-py3-none-any.whl (8.3 kB)\n",
      "Downloading fonttools-4.54.1-cp312-cp312-manylinux_2_5_x86_64.manylinux1_x86_64.manylinux_2_17_x86_64.manylinux2014_x86_64.whl (4.9 MB)\n",
      "\u001b[2K   \u001b[38;2;114;156;31m━━━━━━━━━━━━━━━━━━━━━━━━━━━━━━━━━━━━━━━━\u001b[0m \u001b[32m4.9/4.9 MB\u001b[0m \u001b[31m114.6 MB/s\u001b[0m eta \u001b[36m0:00:00\u001b[0m\n",
      "\u001b[?25hDownloading kiwisolver-1.4.7-cp312-cp312-manylinux_2_17_x86_64.manylinux2014_x86_64.whl (1.5 MB)\n",
      "\u001b[2K   \u001b[38;2;114;156;31m━━━━━━━━━━━━━━━━━━━━━━━━━━━━━━━━━━━━━━━━\u001b[0m \u001b[32m1.5/1.5 MB\u001b[0m \u001b[31m48.9 MB/s\u001b[0m eta \u001b[36m0:00:00\u001b[0m\n",
      "\u001b[?25hDownloading pyparsing-3.1.4-py3-none-any.whl (104 kB)\n",
      "Installing collected packages: rouge, pyparsing, kiwisolver, fonttools, cycler, contourpy, matplotlib, bert-score\n",
      "Successfully installed bert-score-0.3.13 contourpy-1.3.0 cycler-0.12.1 fonttools-4.54.1 kiwisolver-1.4.7 matplotlib-3.9.2 pyparsing-3.1.4 rouge-1.0.1\n"
     ]
    }
   ],
   "source": [
    "! pip install rouge bert-score"
   ]
  },
  {
   "cell_type": "code",
   "execution_count": 2,
   "id": "7f6f6c4c-9592-4c74-929f-9107e36e743a",
   "metadata": {},
   "outputs": [
    {
     "name": "stdout",
     "output_type": "stream",
     "text": [
      "Collecting nltk\n",
      "  Downloading nltk-3.9.1-py3-none-any.whl.metadata (2.9 kB)\n",
      "Requirement already satisfied: click in /opt/conda/lib/python3.12/site-packages (from nltk) (8.1.7)\n",
      "Requirement already satisfied: joblib in /opt/conda/lib/python3.12/site-packages (from nltk) (1.4.2)\n",
      "Requirement already satisfied: regex>=2021.8.3 in /opt/conda/lib/python3.12/site-packages (from nltk) (2024.9.11)\n",
      "Requirement already satisfied: tqdm in /opt/conda/lib/python3.12/site-packages (from nltk) (4.66.5)\n",
      "Downloading nltk-3.9.1-py3-none-any.whl (1.5 MB)\n",
      "\u001b[2K   \u001b[38;2;114;156;31m━━━━━━━━━━━━━━━━━━━━━━━━━━━━━━━━━━━━━━━━\u001b[0m \u001b[32m1.5/1.5 MB\u001b[0m \u001b[31m46.1 MB/s\u001b[0m eta \u001b[36m0:00:00\u001b[0m\n",
      "\u001b[?25hInstalling collected packages: nltk\n",
      "Successfully installed nltk-3.9.1\n"
     ]
    }
   ],
   "source": [
    "! pip install nltk"
   ]
  },
  {
   "cell_type": "code",
   "execution_count": 3,
   "id": "3cf84f1f-e236-4d73-ad74-62a63a363023",
   "metadata": {},
   "outputs": [],
   "source": [
    "import pandas as pd\n",
    "from rouge import Rouge\n",
    "from bert_score import score as bert_score\n",
    "from nltk.translate.bleu_score import sentence_bleu, SmoothingFunction\n",
    "\n",
    "def evaluate_summarization(df):\n",
    "    # Replace None values in 'predicted_summary' with empty strings\n",
    "    df['predicted_summary'] = df['predicted_summary'].fillna(\"\")\n",
    "\n",
    "    # Filter out empty summaries\n",
    "    non_empty_df = df[df['summary'].str.strip() != \"\"]\n",
    "    non_empty_df = non_empty_df[non_empty_df['predicted_summary'].str.strip() != \"\"]\n",
    "\n",
    "    # Initialize ROUGE\n",
    "    rouge = Rouge()\n",
    "\n",
    "    # Calculate ROUGE-L score\n",
    "    rouge_l_scores = rouge.get_scores(non_empty_df['predicted_summary'].tolist(), non_empty_df['summary'].tolist(), avg=True)['rouge-l']\n",
    "    avg_rouge_l_f = rouge_l_scores['f']\n",
    "    avg_rouge_l_precision = rouge_l_scores['p']\n",
    "    avg_rouge_l_recall = rouge_l_scores['r']\n",
    "\n",
    "    # Calculate BERTScore\n",
    "    non_empty_refs = non_empty_df['summary'].tolist()\n",
    "    non_empty_preds = non_empty_df['predicted_summary'].tolist()\n",
    "\n",
    "    if non_empty_refs and non_empty_preds:\n",
    "        P, R, F1 = bert_score(non_empty_preds, non_empty_refs, lang='bn', device='cpu')\n",
    "        bert_scores = {\n",
    "            'bert_precision': P.mean().item(),\n",
    "            'bert_recall': R.mean().item(),\n",
    "            'bert_f1': F1.mean().item()\n",
    "        }\n",
    "    else:\n",
    "        bert_scores = {\n",
    "            'bert_precision': 0,\n",
    "            'bert_recall': 0,\n",
    "            'bert_f1': 0\n",
    "        }\n",
    "\n",
    "    # Calculate BLEU score\n",
    "    smoothie = SmoothingFunction().method4\n",
    "    bleu_scores = [sentence_bleu([ref], pred, smoothing_function=smoothie) for ref, pred in zip(non_empty_refs, non_empty_preds)]\n",
    "    avg_bleu_score = sum(bleu_scores) / len(bleu_scores) if bleu_scores else 0\n",
    "\n",
    "    metrics = {\n",
    "        'rouge_l_f': avg_rouge_l_f,\n",
    "        'rouge_l_precision': avg_rouge_l_precision,\n",
    "        'rouge_l_recall': avg_rouge_l_recall,\n",
    "        'bert_precision': bert_scores['bert_precision'],\n",
    "        'bert_recall': bert_scores['bert_recall'],\n",
    "        'bert_f1': bert_scores['bert_f1'],\n",
    "        'bleu': avg_bleu_score\n",
    "    }\n",
    "\n",
    "    return metrics"
   ]
  },
  {
   "cell_type": "code",
   "execution_count": 5,
   "id": "4b08cd5b-1817-4feb-b241-e4c74fc09e07",
   "metadata": {},
   "outputs": [],
   "source": [
    "path_root = 'exps/'"
   ]
  },
  {
   "cell_type": "code",
   "execution_count": 6,
   "id": "00257741-bfa3-408d-9708-6814170dfa1b",
   "metadata": {},
   "outputs": [
    {
     "data": {
      "application/vnd.jupyter.widget-view+json": {
       "model_id": "2dcfdc921c22437391b68fd19ec77f90",
       "version_major": 2,
       "version_minor": 0
      },
      "text/plain": [
       "tokenizer_config.json:   0%|          | 0.00/49.0 [00:00<?, ?B/s]"
      ]
     },
     "metadata": {},
     "output_type": "display_data"
    },
    {
     "data": {
      "application/vnd.jupyter.widget-view+json": {
       "model_id": "0666d5ad27e348cc989233ae803b7116",
       "version_major": 2,
       "version_minor": 0
      },
      "text/plain": [
       "config.json:   0%|          | 0.00/625 [00:00<?, ?B/s]"
      ]
     },
     "metadata": {},
     "output_type": "display_data"
    },
    {
     "data": {
      "application/vnd.jupyter.widget-view+json": {
       "model_id": "717a3ed9e0934e3c8336e25d0043b910",
       "version_major": 2,
       "version_minor": 0
      },
      "text/plain": [
       "vocab.txt:   0%|          | 0.00/996k [00:00<?, ?B/s]"
      ]
     },
     "metadata": {},
     "output_type": "display_data"
    },
    {
     "data": {
      "application/vnd.jupyter.widget-view+json": {
       "model_id": "b674bfefe7f94bcfb62cec92909cec71",
       "version_major": 2,
       "version_minor": 0
      },
      "text/plain": [
       "tokenizer.json:   0%|          | 0.00/1.96M [00:00<?, ?B/s]"
      ]
     },
     "metadata": {},
     "output_type": "display_data"
    },
    {
     "name": "stderr",
     "output_type": "stream",
     "text": [
      "/opt/conda/lib/python3.12/site-packages/transformers/tokenization_utils_base.py:1601: FutureWarning: `clean_up_tokenization_spaces` was not set. It will be set to `True` by default. This behavior will be depracted in transformers v4.45, and will be then set to `False` by default. For more details check this issue: https://github.com/huggingface/transformers/issues/31884\n",
      "  warnings.warn(\n"
     ]
    },
    {
     "data": {
      "application/vnd.jupyter.widget-view+json": {
       "model_id": "940901b772ae4b43824e01a3c1e968c7",
       "version_major": 2,
       "version_minor": 0
      },
      "text/plain": [
       "model.safetensors:   0%|          | 0.00/714M [00:00<?, ?B/s]"
      ]
     },
     "metadata": {},
     "output_type": "display_data"
    },
    {
     "name": "stdout",
     "output_type": "stream",
     "text": [
      "rouge_l_f: 0.1150\n",
      "rouge_l_precision: 0.1007\n",
      "rouge_l_recall: 0.1542\n",
      "bert_precision: 0.6954\n",
      "bert_recall: 0.7228\n",
      "bert_f1: 0.7083\n",
      "bleu: 0.2663\n"
     ]
    }
   ],
   "source": [
    "zs_df = pd.read_parquet(path_root + \"llama_zs_summary_results.parquet\")\n",
    "# zs_df['predicted_summary'] = zs_df['predicted_summary'].fillna(\"\")\n",
    "metrics = evaluate_summarization(zs_df)\n",
    "for metric, value in metrics.items():\n",
    "    print(f\"{metric}: {value:.4f}\")"
   ]
  },
  {
   "cell_type": "code",
   "execution_count": 7,
   "id": "7b44f9ab-2ba1-4d3c-b5e2-e4d8de46c174",
   "metadata": {},
   "outputs": [
    {
     "name": "stderr",
     "output_type": "stream",
     "text": [
      "/opt/conda/lib/python3.12/site-packages/transformers/tokenization_utils_base.py:1601: FutureWarning: `clean_up_tokenization_spaces` was not set. It will be set to `True` by default. This behavior will be depracted in transformers v4.45, and will be then set to `False` by default. For more details check this issue: https://github.com/huggingface/transformers/issues/31884\n",
      "  warnings.warn(\n"
     ]
    },
    {
     "name": "stdout",
     "output_type": "stream",
     "text": [
      "rouge_l_f: 0.1085\n",
      "rouge_l_precision: 0.1113\n",
      "rouge_l_recall: 0.1232\n",
      "bert_precision: 0.7031\n",
      "bert_recall: 0.7100\n",
      "bert_f1: 0.7059\n",
      "bleu: 0.2570\n"
     ]
    }
   ],
   "source": [
    "ts_df = pd.read_parquet(path_root + \"llama_ts_summary_results.parquet\")\n",
    "# zs_df['predicted_summary'] = zs_df['predicted_summary'].fillna(\"\")\n",
    "metrics = evaluate_summarization(ts_df)\n",
    "for metric, value in metrics.items():\n",
    "    print(f\"{metric}: {value:.4f}\")"
   ]
  },
  {
   "cell_type": "code",
   "execution_count": 8,
   "id": "692ccc2e-508a-4281-8743-2f0d31b246e7",
   "metadata": {},
   "outputs": [
    {
     "name": "stderr",
     "output_type": "stream",
     "text": [
      "/opt/conda/lib/python3.12/site-packages/transformers/tokenization_utils_base.py:1601: FutureWarning: `clean_up_tokenization_spaces` was not set. It will be set to `True` by default. This behavior will be depracted in transformers v4.45, and will be then set to `False` by default. For more details check this issue: https://github.com/huggingface/transformers/issues/31884\n",
      "  warnings.warn(\n"
     ]
    },
    {
     "name": "stdout",
     "output_type": "stream",
     "text": [
      "rouge_l_f: 0.0783\n",
      "rouge_l_precision: 0.0655\n",
      "rouge_l_recall: 0.1535\n",
      "bert_precision: 0.6416\n",
      "bert_recall: 0.6945\n",
      "bert_f1: 0.6659\n",
      "bleu: 0.1660\n"
     ]
    }
   ],
   "source": [
    "cot_df = pd.read_parquet(path_root + \"llama_cot_summary_results.parquet\")\n",
    "# zs_df['predicted_summary'] = zs_df['predicted_summary'].fillna(\"\")\n",
    "metrics = evaluate_summarization(cot_df)\n",
    "for metric, value in metrics.items():\n",
    "    print(f\"{metric}: {value:.4f}\")"
   ]
  },
  {
   "cell_type": "code",
   "execution_count": null,
   "id": "7bc1b77d-ca8c-45a8-a28a-94f032c283ba",
   "metadata": {},
   "outputs": [],
   "source": []
  }
 ],
 "metadata": {
  "kernelspec": {
   "display_name": "Python 3 (ipykernel)",
   "language": "python",
   "name": "python3"
  },
  "language_info": {
   "codemirror_mode": {
    "name": "ipython",
    "version": 3
   },
   "file_extension": ".py",
   "mimetype": "text/x-python",
   "name": "python",
   "nbconvert_exporter": "python",
   "pygments_lexer": "ipython3",
   "version": "3.12.6"
  }
 },
 "nbformat": 4,
 "nbformat_minor": 5
}
